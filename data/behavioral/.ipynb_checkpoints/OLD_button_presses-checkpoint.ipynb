{
 "cells": [
  {
   "cell_type": "markdown",
   "id": "dc820d5b-bbc6-4b90-8f2a-2982e7617d91",
   "metadata": {},
   "source": [
    "### Import packages"
   ]
  },
  {
   "cell_type": "code",
   "execution_count": 1,
   "id": "0b2cb3b6-a0e2-454b-b818-8523975fb328",
   "metadata": {},
   "outputs": [],
   "source": [
    "import pandas as pd\n",
    "import os\n",
    "import re\n",
    "import numpy as np"
   ]
  },
  {
   "cell_type": "code",
   "execution_count": 5,
   "id": "55f3868a",
   "metadata": {},
   "outputs": [
    {
     "data": {
      "text/plain": [
       "['sub_1_run_1_2023-08-18_12h17.09.696.log',\n",
       " '180995_run_1_2023-08-18_12h12.14.690.log',\n",
       " 'sub_1_run_1_2023-08-18_12h23.42.131.log',\n",
       " 'sub_1_run_1_2023-08-18_12h07.44.877.log',\n",
       " 'sub_1_run_1_2023-08-18_11h57.15.995.log',\n",
       " 'sub_1_run_1_2023-08-18_12h03.16.813.log',\n",
       " 'sub_1_run_1_2023-08-18_12h28.10.706.log']"
      ]
     },
     "execution_count": 5,
     "metadata": {},
     "output_type": "execute_result"
    }
   ],
   "source": [
    "logs = [x for x in os.listdir('Subject_1') if x[-4:]=='.log']\n",
    "logs"
   ]
  },
  {
   "cell_type": "markdown",
   "id": "947b2704-c0d5-4800-bb0c-24ccef5f921e",
   "metadata": {},
   "source": [
    "### Extract start times and button presses"
   ]
  },
  {
   "cell_type": "code",
   "execution_count": 2,
   "id": "4efe1908-020f-4ec5-83db-95178c052342",
   "metadata": {},
   "outputs": [
    {
     "name": "stdout",
     "output_type": "stream",
     "text": [
      "Subject 1\n",
      "subject_1\n",
      "[15.281600000000026, 24.09680000000003, 35.03860000000003, 45.42410000000001, 54.153999999999996, 63.07909999999998, 74.32270000000005, 84.15269999999998, 93.0104, 103.04510000000005, 113.21320000000003, 122.09649999999999, 133.42809999999997, 143.22109999999998, 155.3152, 164.976, 176.51300000000003, 184.7944, 193.68150000000003, 203.27599999999995]\n",
      "[14.328299999999999, 23.912100000000002, 33.2304, 42.858000000000004, 52.8446, 61.5168, 78.0723, 89.494, 98.47099999999999, 107.9312, 120.0948, 128.2391, 138.75549999999998, 146.3349, 156.42970000000003, 166.49020000000002, 175.49560000000002, 187.089, 197.46370000000002, 206.0876]\n",
      "[14.334700000000005, 23.722300000000004, 32.6578, 43.093399999999995, 52.9408, 62.229000000000006, 75.7594, 85.4159, 94.333, 107.8614, 118.029, 135.5576, 146.6216, 157.6245, 167.76330000000002, 179.2722, 187.3797, 197.22750000000002, 206.6531]\n",
      "[13.967600000000004, 24.464600000000004, 33.6051, 42.2927, 51.42080000000001, 61.60920000000001, 72.9649, 81.0769, 91.21449999999999, 103.10990000000001, 114.9236, 125.32679999999999, 136.7998, 147.2165, 160.362, 168.8169, 177.4346, 186.107, 195.1507, 204.1615]\n",
      "[14.013100000000001, 24.5749, 33.526, 42.06210000000001, 51.3286, 60.6714, 72.38579999999999, 81.48349999999999, 90.85920000000002, 114.13500000000002, 124.63250000000002, 136.6558, 147.39950000000002, 159.68980000000002, 168.70080000000002, 177.9001, 186.1322, 195.116, 204.3279]\n",
      "[14.279000000000003, 23.0608, 34.11990000000001, 49.492, 58.5198, 68.11170000000001, 77.9505, 87.0598, 95.23750000000001, 105.81900000000002, 115.6679, 125.22660000000002, 134.5583, 144.8189, 153.6981, 162.4744, 172.0499, 181.9615, 191.20440000000002, 203.42360000000002]\n"
     ]
    }
   ],
   "source": [
    "# for each subject (folder)\n",
    "\n",
    "# for sub_dir in [y for y in os.listdir('.') if \"ubject 1\" in y]:\n",
    "\n",
    "for sub_dir in ['Subject 1']:\n",
    "    print(sub_dir)\n",
    "    \n",
    "    #os.remove(sub_dir+'/'+sub_dir+'_button_presses.1D')\n",
    "    os.remove(sub_dir+'/subject_1_button_presses.1D')\n",
    "\n",
    "    ss = sub_dir\n",
    "    \n",
    "    ss='s'+ss[1:]\n",
    "    ss = ss.replace(' ','_')\n",
    "    print(ss)\n",
    "\n",
    "    # get list of log files\n",
    "    logs = [x for x in os.listdir(sub_dir) if x[-4:]=='.log']\n",
    "    csvs = [x for x in os.listdir(sub_dir) if x[-4:]=='.csv']\n",
    "\n",
    "    for num in [1,2,3,4,5,6]:\n",
    "\n",
    "        for c,l in zip(csvs,logs):\n",
    "            \n",
    "            # pull data from logs\n",
    "            log_file_path = sub_dir+'/'+l\n",
    "            \n",
    "            # read the log file\n",
    "            with open(log_file_path, 'r') as log_file:\n",
    "                log_data = log_file.readlines()\n",
    "            if len([x for x in log_data if 'csv' in x])>0:\n",
    "                this_run = [int(re.findall(r'\\d+', x[23:39])[0]) for x in log_data if 'csv' in x][0]\n",
    "\n",
    "                if this_run == num:\n",
    "                \n",
    "                    # print([int(re.findall(r'\\d+', x[23:39])[0]) for x in log_data if 'csv' in x][0])\n",
    "        \n",
    "                    check_list = [x for x in log_data if \"Keypress\" in x and \"equal\" in x]\n",
    "                    \n",
    "                    if len(check_list)>0:\n",
    "            \n",
    "                        # extract event data\n",
    "                        keypresses   = [x for x in log_data if \"Keypress\" in x]\n",
    "                        first_pulse  = [x for x in log_data if \"equal\" in x][0]\n",
    "                        button_press = [x for x in log_data if \"Keypress\" in x and \"equal\" not in x]\n",
    "                        buttons = [float(x[0:9])-float(first_pulse[0:9]) for x in button_press]\n",
    "                        print([float(x[0:9])-float(first_pulse[0:9]) for x in button_press])\n",
    "                        \n",
    "            \n",
    "                        # get movie start times (wrt neural data)\n",
    "                        csv = pd.read_csv(sub_dir+'/'+c)\n",
    "                \n",
    "                        csv_movie_starts = csv['movie.started'][1:21]\n",
    "                        mri_movie_starts = csv_movie_starts - float(first_pulse[0:9]) #[x-first_pulse for x in list(csv_movie_starts)]\n",
    "            \n",
    "                        # get the run number\n",
    "                        run_num   = [x for x in log_data if \"Imported movie\" in x][0][34]\n",
    "            \n",
    "                        # save movie onset times\n",
    "                        mri_movie_starts.to_csv(sub_dir+'/mri_movie_starts_'+run_num)\n",
    "    \n",
    "                        # now append this stuff as a new line in the subject's file\n",
    "                        filename = sub_dir+'/'+ss+'_button_presses.1D'\n",
    "                        with open(filename, \"a\") as f:\n",
    "                            for i in buttons:\n",
    "                              f.write(f\"{i} \")\n",
    "                            f.write(\"\\n\")\n",
    "               "
   ]
  },
  {
   "cell_type": "code",
   "execution_count": 3,
   "id": "be8297f8-a7c4-4cb1-b417-365e8fce476c",
   "metadata": {},
   "outputs": [
    {
     "data": {
      "text/plain": [
       "['sub_1_run_1_2023-08-18_12h23.42.131.csv',\n",
       " 'sub_1_run_1_2023-08-18_12h07.44.877.csv',\n",
       " 'sub_1_run_1_2023-08-18_11h57.15.995.csv',\n",
       " 'sub_1_run_1_2023-08-18_12h28.10.706.csv',\n",
       " 'sub_1_run_1_2023-08-18_12h03.16.813.csv',\n",
       " 'sub_1_run_1_2023-08-18_12h12.14.690.csv']"
      ]
     },
     "execution_count": 3,
     "metadata": {},
     "output_type": "execute_result"
    }
   ],
   "source": [
    "csvs"
   ]
  },
  {
   "cell_type": "markdown",
   "id": "4b0322b3-c22c-4a6c-9676-687203f3d47b",
   "metadata": {},
   "source": [
    "# Extract right and wrong start times, scrambled and veridical"
   ]
  },
  {
   "cell_type": "code",
   "execution_count": 60,
   "id": "050d947f-80e7-4abb-aced-cd87e468b607",
   "metadata": {},
   "outputs": [],
   "source": [
    "# for each subject (folder)\n",
    "for sub_dir in [y for y in os.listdir('.') if \"ubject\" in y]:\n",
    "\n",
    "    # print(sub_dir)\n",
    "    # os.remove(sub_dir+'/'+sub_dir+'_button_presses.1D')\n",
    "\n",
    "    # get list of log files\n",
    "    logs = [x for x in os.listdir(sub_dir) if x[-4:]=='.log']\n",
    "    csvs = [x for x in os.listdir(sub_dir) if x[-4:]=='.csv']\n",
    "\n",
    "    for csv in csvs:\n",
    "        df = pd.read_csv(sub_dir+'/'+csv)"
   ]
  },
  {
   "cell_type": "code",
   "execution_count": 61,
   "id": "e15d5c01-9f90-45c8-867e-b46a7caab8a0",
   "metadata": {},
   "outputs": [
    {
     "data": {
      "text/plain": [
       "Index(['run', 'start_time', 'type', 'moviestim', 'jitters', 'frames',\n",
       "       'trials.thisRepN', 'trials.thisTrialN', 'trials.thisN',\n",
       "       'trials.thisIndex', 'fix1.started', 'welcome_key.started',\n",
       "       'welcome_key.keys', 'welcome_key.rt', 'fix3.started', 'fix3.stopped',\n",
       "       'movie.started', 'text_15.started', 'key_resp_9.started',\n",
       "       'key_resp_9.keys', 'key_resp_9.rt', 'text_15.stopped',\n",
       "       'key_resp_9.stopped', 'fix4.started', 'participant', 'session', 'date',\n",
       "       'expName', 'psychopyVersion', 'frameRate', 'Unnamed: 30'],\n",
       "      dtype='object')"
      ]
     },
     "execution_count": 61,
     "metadata": {},
     "output_type": "execute_result"
    }
   ],
   "source": [
    "df.columns"
   ]
  },
  {
   "cell_type": "code",
   "execution_count": 62,
   "id": "6702a26c-b1a4-47ca-b812-9b4ca3adc506",
   "metadata": {},
   "outputs": [],
   "source": [
    "# df.columns\n",
    "\n",
    "# df['rating']=np.nan\n",
    "# df.loc[df['key_resp_9.keys'].contains(1), 'rating'] = 1"
   ]
  },
  {
   "cell_type": "code",
   "execution_count": 63,
   "id": "edfaec02-38d6-4048-a433-84fd4dffc68c",
   "metadata": {},
   "outputs": [],
   "source": [
    "# # organize scores\n",
    "# df['response_type'] = np.nan\n",
    "# df['response_value'] = np.nan\n",
    "\n",
    "# df.loc[(df['key_resp_9.keys'].str.contains(',', na= False)), \n",
    "#           'key_resp_9.keys'] = str('oo') + df['key_resp_9.keys'].str[2]\n",
    "# #for the ones with two responses, choose the first one\n",
    "\n",
    "# df['response_value'] = df['key_resp_9.keys'].str[2]\n",
    "\n",
    "# #df['response_value']"
   ]
  },
  {
   "cell_type": "code",
   "execution_count": 64,
   "id": "0f753d25-b129-4368-a621-3181ca6002f6",
   "metadata": {},
   "outputs": [
    {
     "data": {
      "text/plain": [
       "'subject_1'"
      ]
     },
     "execution_count": 64,
     "metadata": {},
     "output_type": "execute_result"
    }
   ],
   "source": [
    "ss='s'+ss[1:]\n",
    "ss = ss.replace(' ','_')\n",
    "ss"
   ]
  },
  {
   "cell_type": "markdown",
   "id": "7cfe5c9b-03fd-4e7b-95b1-31cddec0a5ae",
   "metadata": {},
   "source": [
    "# Make files for onset times just based on button presses"
   ]
  },
  {
   "cell_type": "code",
   "execution_count": 66,
   "id": "50883f3c-0768-4d91-9fab-ca27a6aede61",
   "metadata": {},
   "outputs": [
    {
     "name": "stdout",
     "output_type": "stream",
     "text": [
      "subject_1\n"
     ]
    }
   ],
   "source": [
    "# for each subject (folder)\n",
    "\n",
    "\n",
    "# for sub_dir in [y for y in os.listdir('.') if \"ubject\" in y]:\n",
    "\n",
    "for sub_dir in ['Subject 1']:\n",
    "\n",
    "    # print(sub_dir)\n",
    "\n",
    "    # for p in ['_button_1.1D','_button_2.1D','_button_1_verid.1D','_button_1_scram.1D','_button_2_verid.1D',\n",
    "    #                                          '_button_2_scram.1D']:\n",
    "    #     os.remove(sub_dir+'/'+sub_dir+p)\n",
    "\n",
    "    os.remove(sub_dir+'/subject_1_button_1_verid.1D')\n",
    "    os.remove(sub_dir+'/subject_1_button_1_scram.1D')    \n",
    "    os.remove(sub_dir+'/subject_1_button_1.1D')\n",
    "    os.remove(sub_dir+'/subject_1_button_2_verid.1D')\n",
    "    os.remove(sub_dir+'/subject_1_button_2_scram.1D')\n",
    "    os.remove(sub_dir+'/subject_1_button_2.1D')\n",
    "    \n",
    "    ss = sub_dir\n",
    "    \n",
    "    ss='s'+ss[1:]\n",
    "    ss = ss.replace(' ','_')\n",
    "    print(ss)\n",
    "    \n",
    "    # get list of log files\n",
    "    logs = [x for x in os.listdir(sub_dir) if x[-4:]=='.log']\n",
    "    csvs = [x for x in os.listdir(sub_dir) if x[-4:]=='.csv']\n",
    "\n",
    "    for num in [1,2,3,4,5,6]:\n",
    "\n",
    "        for c,l in zip(csvs,logs):\n",
    "            \n",
    "            # pull data from logs\n",
    "            log_file_path = sub_dir+'/'+l\n",
    "            \n",
    "            # read the log file\n",
    "            with open(log_file_path, 'r') as log_file:\n",
    "                log_data = log_file.readlines()\n",
    "            if len([x for x in log_data if 'csv' in x])>0:\n",
    "                this_run = [int(re.findall(r'\\d+', x[23:39])[0]) for x in log_data if 'csv' in x][0]\n",
    "\n",
    "                if this_run == num:\n",
    "                \n",
    "                    # print([int(re.findall(r'\\d+', x[23:39])[0]) for x in log_data if 'csv' in x][0])\n",
    "        \n",
    "                    check_list = [x for x in log_data if \"Keypress\" in x and \"equal\" in x]\n",
    "                    \n",
    "                    if len(check_list)>0:\n",
    "                        # get movie start times (wrt neural data)\n",
    "                        csv = pd.read_csv(sub_dir+'/'+c)\n",
    "                        \n",
    "                        # get response values out of lists\n",
    "                        csv['response_type'] = np.nan; csv['response_value'] = np.nan\n",
    "                        csv.loc[(df['key_resp_9.keys'].str.contains(',', na= False)), \n",
    "                                  'key_resp_9.keys'] = str('oo') + csv['key_resp_9.keys'].str[2]\n",
    "                        \n",
    "                        #for the ones with two responses, choose the first one\n",
    "                        csv['response_value'] = csv['key_resp_9.keys'].str[2]\n",
    "                \n",
    "                        # now get the start times for each button type\n",
    "                        button_1 = list(csv[csv['response_value']=='1']['start_time'])\n",
    "                        button_2 = list(csv[csv['response_value']=='2']['start_time'])\n",
    "\n",
    "                        button_1_verid = list(csv[(csv['response_value']=='1')&(csv['type']=='veridical')]['start_time'])\n",
    "                        button_1_scram = list(csv[(csv['response_value']=='1')&(csv['type']=='scrambled')]['start_time'])\n",
    "\n",
    "                        button_2_verid = list(csv[(csv['response_value']=='2')&(csv['type']=='veridical')]['start_time'])\n",
    "                        button_2_scram = list(csv[(csv['response_value']=='2')&(csv['type']=='scrambled')]['start_time'])\n",
    "    \n",
    "                        # now append this stuff as a new line in the subject's file\n",
    "                        for data,file in zip([button_1,button_2,button_1_verid,button_1_scram,button_2_verid,button_2_scram],\n",
    "                                             ['_button_1.1D','_button_2.1D','_button_1_verid.1D','_button_1_scram.1D','_button_2_verid.1D',\n",
    "                                             '_button_2_scram.1D']):\n",
    "                            \n",
    "                            filename = sub_dir+'/'+ss+file\n",
    "                            # print(filename)\n",
    "                            # print(sub_dir)\n",
    "                            # print(num)\n",
    "                            # print(data)\n",
    "                            # print()\n",
    "\n",
    "                            \n",
    "                            with open(filename, \"a\") as f:\n",
    "                                for i in data:\n",
    "                                  f.write(f\"{i} \")\n",
    "                                f.write(\"\\n\")\n"
   ]
  },
  {
   "cell_type": "markdown",
   "id": "ccbf017e-ea72-4910-b463-28cc1de92ce5",
   "metadata": {},
   "source": [
    "# Make files for onset times based on stim and button presses"
   ]
  },
  {
   "cell_type": "code",
   "execution_count": null,
   "id": "b9103f7e-305a-48f1-8a6a-de1c9a3d4058",
   "metadata": {},
   "outputs": [],
   "source": []
  },
  {
   "cell_type": "markdown",
   "id": "d7213710-d8fc-4954-880f-fbb2ae2c134d",
   "metadata": {},
   "source": [
    "# For now, accept their first button press and don't take any late ones"
   ]
  },
  {
   "cell_type": "code",
   "execution_count": 58,
   "id": "5a5b0425-c961-48c1-bc82-b4a0c3c64b89",
   "metadata": {},
   "outputs": [
    {
     "ename": "TypeError",
     "evalue": "object of type 'float' has no len()",
     "output_type": "error",
     "traceback": [
      "\u001b[0;31m---------------------------------------------------------------------------\u001b[0m",
      "\u001b[0;31mTypeError\u001b[0m                                 Traceback (most recent call last)",
      "Cell \u001b[0;32mIn[58], line 3\u001b[0m\n\u001b[1;32m      1\u001b[0m \u001b[38;5;66;03m#df['key'] = df['key_resp_9.keys']\u001b[39;00m\n\u001b[0;32m----> 3\u001b[0m \u001b[43mseparate_list_column_into_multiple_columns\u001b[49m\u001b[43m(\u001b[49m\u001b[43mdf\u001b[49m\u001b[43m,\u001b[49m\u001b[43m \u001b[49m\u001b[38;5;124;43m'\u001b[39;49m\u001b[38;5;124;43mkey_resp_9.keys\u001b[39;49m\u001b[38;5;124;43m'\u001b[39;49m\u001b[43m)\u001b[49m\n",
      "Cell \u001b[0;32mIn[39], line 16\u001b[0m, in \u001b[0;36mseparate_list_column_into_multiple_columns\u001b[0;34m(df, column_name)\u001b[0m\n\u001b[1;32m      5\u001b[0m \u001b[38;5;250m\u001b[39m\u001b[38;5;124;03m\"\"\"Separates a column of lists of ints into multiple columns.\u001b[39;00m\n\u001b[1;32m      6\u001b[0m \n\u001b[1;32m      7\u001b[0m \u001b[38;5;124;03mArgs:\u001b[39;00m\n\u001b[0;32m   (...)\u001b[0m\n\u001b[1;32m     12\u001b[0m \u001b[38;5;124;03m  A pandas DataFrame with the separated columns.\u001b[39;00m\n\u001b[1;32m     13\u001b[0m \u001b[38;5;124;03m\"\"\"\u001b[39;00m\n\u001b[1;32m     15\u001b[0m \u001b[38;5;66;03m# Get a list of the lengths of the lists in the column.\u001b[39;00m\n\u001b[0;32m---> 16\u001b[0m list_lengths \u001b[38;5;241m=\u001b[39m \u001b[43mdf\u001b[49m\u001b[43m[\u001b[49m\u001b[43mcolumn_name\u001b[49m\u001b[43m]\u001b[49m\u001b[38;5;241;43m.\u001b[39;49m\u001b[43mapply\u001b[49m\u001b[43m(\u001b[49m\u001b[38;5;28;43mlen\u001b[39;49m\u001b[43m)\u001b[49m\n\u001b[1;32m     18\u001b[0m \u001b[38;5;66;03m# Create a new DataFrame with the separated columns.\u001b[39;00m\n\u001b[1;32m     19\u001b[0m new_df \u001b[38;5;241m=\u001b[39m pd\u001b[38;5;241m.\u001b[39mDataFrame()\n",
      "File \u001b[0;32m~/Library/Python/3.9/lib/python/site-packages/pandas/core/series.py:4771\u001b[0m, in \u001b[0;36mSeries.apply\u001b[0;34m(self, func, convert_dtype, args, **kwargs)\u001b[0m\n\u001b[1;32m   4661\u001b[0m \u001b[38;5;28;01mdef\u001b[39;00m \u001b[38;5;21mapply\u001b[39m(\n\u001b[1;32m   4662\u001b[0m     \u001b[38;5;28mself\u001b[39m,\n\u001b[1;32m   4663\u001b[0m     func: AggFuncType,\n\u001b[0;32m   (...)\u001b[0m\n\u001b[1;32m   4666\u001b[0m     \u001b[38;5;241m*\u001b[39m\u001b[38;5;241m*\u001b[39mkwargs,\n\u001b[1;32m   4667\u001b[0m ) \u001b[38;5;241m-\u001b[39m\u001b[38;5;241m>\u001b[39m DataFrame \u001b[38;5;241m|\u001b[39m Series:\n\u001b[1;32m   4668\u001b[0m \u001b[38;5;250m    \u001b[39m\u001b[38;5;124;03m\"\"\"\u001b[39;00m\n\u001b[1;32m   4669\u001b[0m \u001b[38;5;124;03m    Invoke function on values of Series.\u001b[39;00m\n\u001b[1;32m   4670\u001b[0m \n\u001b[0;32m   (...)\u001b[0m\n\u001b[1;32m   4769\u001b[0m \u001b[38;5;124;03m    dtype: float64\u001b[39;00m\n\u001b[1;32m   4770\u001b[0m \u001b[38;5;124;03m    \"\"\"\u001b[39;00m\n\u001b[0;32m-> 4771\u001b[0m     \u001b[38;5;28;01mreturn\u001b[39;00m \u001b[43mSeriesApply\u001b[49m\u001b[43m(\u001b[49m\u001b[38;5;28;43mself\u001b[39;49m\u001b[43m,\u001b[49m\u001b[43m \u001b[49m\u001b[43mfunc\u001b[49m\u001b[43m,\u001b[49m\u001b[43m \u001b[49m\u001b[43mconvert_dtype\u001b[49m\u001b[43m,\u001b[49m\u001b[43m \u001b[49m\u001b[43margs\u001b[49m\u001b[43m,\u001b[49m\u001b[43m \u001b[49m\u001b[43mkwargs\u001b[49m\u001b[43m)\u001b[49m\u001b[38;5;241;43m.\u001b[39;49m\u001b[43mapply\u001b[49m\u001b[43m(\u001b[49m\u001b[43m)\u001b[49m\n",
      "File \u001b[0;32m~/Library/Python/3.9/lib/python/site-packages/pandas/core/apply.py:1123\u001b[0m, in \u001b[0;36mSeriesApply.apply\u001b[0;34m(self)\u001b[0m\n\u001b[1;32m   1120\u001b[0m     \u001b[38;5;28;01mreturn\u001b[39;00m \u001b[38;5;28mself\u001b[39m\u001b[38;5;241m.\u001b[39mapply_str()\n\u001b[1;32m   1122\u001b[0m \u001b[38;5;66;03m# self.f is Callable\u001b[39;00m\n\u001b[0;32m-> 1123\u001b[0m \u001b[38;5;28;01mreturn\u001b[39;00m \u001b[38;5;28;43mself\u001b[39;49m\u001b[38;5;241;43m.\u001b[39;49m\u001b[43mapply_standard\u001b[49m\u001b[43m(\u001b[49m\u001b[43m)\u001b[49m\n",
      "File \u001b[0;32m~/Library/Python/3.9/lib/python/site-packages/pandas/core/apply.py:1174\u001b[0m, in \u001b[0;36mSeriesApply.apply_standard\u001b[0;34m(self)\u001b[0m\n\u001b[1;32m   1172\u001b[0m     \u001b[38;5;28;01melse\u001b[39;00m:\n\u001b[1;32m   1173\u001b[0m         values \u001b[38;5;241m=\u001b[39m obj\u001b[38;5;241m.\u001b[39mastype(\u001b[38;5;28mobject\u001b[39m)\u001b[38;5;241m.\u001b[39m_values\n\u001b[0;32m-> 1174\u001b[0m         mapped \u001b[38;5;241m=\u001b[39m \u001b[43mlib\u001b[49m\u001b[38;5;241;43m.\u001b[39;49m\u001b[43mmap_infer\u001b[49m\u001b[43m(\u001b[49m\n\u001b[1;32m   1175\u001b[0m \u001b[43m            \u001b[49m\u001b[43mvalues\u001b[49m\u001b[43m,\u001b[49m\n\u001b[1;32m   1176\u001b[0m \u001b[43m            \u001b[49m\u001b[43mf\u001b[49m\u001b[43m,\u001b[49m\n\u001b[1;32m   1177\u001b[0m \u001b[43m            \u001b[49m\u001b[43mconvert\u001b[49m\u001b[38;5;241;43m=\u001b[39;49m\u001b[38;5;28;43mself\u001b[39;49m\u001b[38;5;241;43m.\u001b[39;49m\u001b[43mconvert_dtype\u001b[49m\u001b[43m,\u001b[49m\n\u001b[1;32m   1178\u001b[0m \u001b[43m        \u001b[49m\u001b[43m)\u001b[49m\n\u001b[1;32m   1180\u001b[0m \u001b[38;5;28;01mif\u001b[39;00m \u001b[38;5;28mlen\u001b[39m(mapped) \u001b[38;5;129;01mand\u001b[39;00m \u001b[38;5;28misinstance\u001b[39m(mapped[\u001b[38;5;241m0\u001b[39m], ABCSeries):\n\u001b[1;32m   1181\u001b[0m     \u001b[38;5;66;03m# GH#43986 Need to do list(mapped) in order to get treated as nested\u001b[39;00m\n\u001b[1;32m   1182\u001b[0m     \u001b[38;5;66;03m#  See also GH#25959 regarding EA support\u001b[39;00m\n\u001b[1;32m   1183\u001b[0m     \u001b[38;5;28;01mreturn\u001b[39;00m obj\u001b[38;5;241m.\u001b[39m_constructor_expanddim(\u001b[38;5;28mlist\u001b[39m(mapped), index\u001b[38;5;241m=\u001b[39mobj\u001b[38;5;241m.\u001b[39mindex)\n",
      "File \u001b[0;32m~/Library/Python/3.9/lib/python/site-packages/pandas/_libs/lib.pyx:2924\u001b[0m, in \u001b[0;36mpandas._libs.lib.map_infer\u001b[0;34m()\u001b[0m\n",
      "\u001b[0;31mTypeError\u001b[0m: object of type 'float' has no len()"
     ]
    }
   ],
   "source": [
    "#df['key'] = df['key_resp_9.keys']\n",
    "\n",
    "separate_list_column_into_multiple_columns(df, 'key_resp_9.keys')"
   ]
  },
  {
   "cell_type": "code",
   "execution_count": 39,
   "id": "30a2b7df-3ca2-42c9-960f-1d51339e3715",
   "metadata": {},
   "outputs": [],
   "source": [
    "import pandas as pd\n",
    "import numpy as np\n",
    "\n",
    "def separate_list_column_into_multiple_columns(df, column_name):\n",
    "  \"\"\"Separates a column of lists of ints into multiple columns.\n",
    "\n",
    "  Args:\n",
    "    df: A pandas DataFrame.\n",
    "    column_name: The name of the column to separate.\n",
    "\n",
    "  Returns:\n",
    "    A pandas DataFrame with the separated columns.\n",
    "  \"\"\"\n",
    "\n",
    "  # Get a list of the lengths of the lists in the column.\n",
    "  list_lengths = df[column_name].apply(len)\n",
    "\n",
    "  # Create a new DataFrame with the separated columns.\n",
    "  new_df = pd.DataFrame()\n",
    "\n",
    "  # Iterate over the list lengths and create a new column for each list item.\n",
    "  for i in range(max(list_lengths)):\n",
    "    new_df[f\"{column_name}_{i}\"] = df[column_name].apply(lambda x: x[i] if i < len(x) else np.nan)\n",
    "\n",
    "  return new_df\n",
    "\n",
    "# Example usage:\n",
    "\n",
    "# df = pd.DataFrame({\"column_name\": [[1], [2, 3], [4]]})\n",
    "\n",
    "# new_df = separate_list_column_into_multiple_columns(df, \"column_name\")\n",
    "\n",
    "# print(new_df)"
   ]
  },
  {
   "cell_type": "code",
   "execution_count": null,
   "id": "e97ba6db-82c7-411a-8457-9eacad14661a",
   "metadata": {},
   "outputs": [],
   "source": []
  },
  {
   "cell_type": "code",
   "execution_count": null,
   "id": "84776c0f-a055-49c1-a190-5f9218ec588e",
   "metadata": {},
   "outputs": [],
   "source": []
  },
  {
   "cell_type": "code",
   "execution_count": null,
   "id": "17e467a9-6b9c-4e3e-8079-40ffb2b6cc92",
   "metadata": {},
   "outputs": [],
   "source": []
  },
  {
   "cell_type": "code",
   "execution_count": 35,
   "id": "2adaa1b0-7dea-4228-868e-8c02d0f0b979",
   "metadata": {},
   "outputs": [
    {
     "ename": "FileNotFoundError",
     "evalue": "[Errno 2] No such file or directory: 'Subject 3/subject_16c_run_1_2023-09-27_10h51.48.758.log'",
     "output_type": "error",
     "traceback": [
      "\u001b[0;31m---------------------------------------------------------------------------\u001b[0m",
      "\u001b[0;31mFileNotFoundError\u001b[0m                         Traceback (most recent call last)",
      "Cell \u001b[0;32mIn[35], line 7\u001b[0m\n\u001b[1;32m      4\u001b[0m log_file_path \u001b[38;5;241m=\u001b[39m sub_dir\u001b[38;5;241m+\u001b[39m\u001b[38;5;124m'\u001b[39m\u001b[38;5;124m/subject_16c_run_1_2023-09-27_10h51.48.758.log\u001b[39m\u001b[38;5;124m'\u001b[39m\n\u001b[1;32m      6\u001b[0m \u001b[38;5;66;03m# Read the log file\u001b[39;00m\n\u001b[0;32m----> 7\u001b[0m \u001b[38;5;28;01mwith\u001b[39;00m \u001b[38;5;28;43mopen\u001b[39;49m\u001b[43m(\u001b[49m\u001b[43mlog_file_path\u001b[49m\u001b[43m,\u001b[49m\u001b[43m \u001b[49m\u001b[38;5;124;43m'\u001b[39;49m\u001b[38;5;124;43mr\u001b[39;49m\u001b[38;5;124;43m'\u001b[39;49m\u001b[43m)\u001b[49m \u001b[38;5;28;01mas\u001b[39;00m log_file:\n\u001b[1;32m      8\u001b[0m     log_data \u001b[38;5;241m=\u001b[39m log_file\u001b[38;5;241m.\u001b[39mreadlines()\n\u001b[1;32m     10\u001b[0m \u001b[38;5;66;03m# Extract event data\u001b[39;00m\n",
      "File \u001b[0;32m~/Library/Python/3.9/lib/python/site-packages/IPython/core/interactiveshell.py:284\u001b[0m, in \u001b[0;36m_modified_open\u001b[0;34m(file, *args, **kwargs)\u001b[0m\n\u001b[1;32m    277\u001b[0m \u001b[38;5;28;01mif\u001b[39;00m file \u001b[38;5;129;01min\u001b[39;00m {\u001b[38;5;241m0\u001b[39m, \u001b[38;5;241m1\u001b[39m, \u001b[38;5;241m2\u001b[39m}:\n\u001b[1;32m    278\u001b[0m     \u001b[38;5;28;01mraise\u001b[39;00m \u001b[38;5;167;01mValueError\u001b[39;00m(\n\u001b[1;32m    279\u001b[0m         \u001b[38;5;124mf\u001b[39m\u001b[38;5;124m\"\u001b[39m\u001b[38;5;124mIPython won\u001b[39m\u001b[38;5;124m'\u001b[39m\u001b[38;5;124mt let you open fd=\u001b[39m\u001b[38;5;132;01m{\u001b[39;00mfile\u001b[38;5;132;01m}\u001b[39;00m\u001b[38;5;124m by default \u001b[39m\u001b[38;5;124m\"\u001b[39m\n\u001b[1;32m    280\u001b[0m         \u001b[38;5;124m\"\u001b[39m\u001b[38;5;124mas it is likely to crash IPython. If you know what you are doing, \u001b[39m\u001b[38;5;124m\"\u001b[39m\n\u001b[1;32m    281\u001b[0m         \u001b[38;5;124m\"\u001b[39m\u001b[38;5;124myou can use builtins\u001b[39m\u001b[38;5;124m'\u001b[39m\u001b[38;5;124m open.\u001b[39m\u001b[38;5;124m\"\u001b[39m\n\u001b[1;32m    282\u001b[0m     )\n\u001b[0;32m--> 284\u001b[0m \u001b[38;5;28;01mreturn\u001b[39;00m \u001b[43mio_open\u001b[49m\u001b[43m(\u001b[49m\u001b[43mfile\u001b[49m\u001b[43m,\u001b[49m\u001b[43m \u001b[49m\u001b[38;5;241;43m*\u001b[39;49m\u001b[43margs\u001b[49m\u001b[43m,\u001b[49m\u001b[43m \u001b[49m\u001b[38;5;241;43m*\u001b[39;49m\u001b[38;5;241;43m*\u001b[39;49m\u001b[43mkwargs\u001b[49m\u001b[43m)\u001b[49m\n",
      "\u001b[0;31mFileNotFoundError\u001b[0m: [Errno 2] No such file or directory: 'Subject 3/subject_16c_run_1_2023-09-27_10h51.48.758.log'"
     ]
    }
   ],
   "source": [
    "# try to load a log\n",
    "\n",
    "\n",
    "log_file_path = sub_dir+'/subject_16c_run_1_2023-09-27_10h51.48.758.log'\n",
    "\n",
    "# Read the log file\n",
    "with open(log_file_path, 'r') as log_file:\n",
    "    log_data = log_file.readlines()\n",
    "\n",
    "# Extract event data\n",
    "events = []\n",
    "for line in log_data:\n",
    "    if line.startswith('Keypress: '):\n",
    "        event_data = line.split('Keypress: ')[1].strip()\n",
    "        events.append(event_data)\n",
    "\n",
    "keypresses   = [x for x in log_data if \"Keypress\" in x]\n",
    "first_pulse  = [x for x in log_data if \"equal\" in x][0]\n",
    "button_press = [x for x in log_data if \"Keypress\" in x and \"equal\" not in x]\n",
    "\n",
    "\n",
    "# # Print the extracted event data\n",
    "# for event in events:\n",
    "#     print(event)"
   ]
  },
  {
   "cell_type": "code",
   "execution_count": 44,
   "id": "1aea13aa-9ce0-4b27-b393-70e85bf953a1",
   "metadata": {},
   "outputs": [
    {
     "data": {
      "text/plain": [
       "['50.3034 \\tDATA \\tKeypress: 1\\n',\n",
       " '63.2517 \\tDATA \\tKeypress: 2\\n',\n",
       " '71.2304 \\tDATA \\tKeypress: 1\\n',\n",
       " '86.1382 \\tDATA \\tKeypress: 1\\n',\n",
       " '94.6971 \\tDATA \\tKeypress: 1\\n',\n",
       " '105.1575 \\tDATA \\tKeypress: 2\\n',\n",
       " '112.6467 \\tDATA \\tKeypress: 2\\n',\n",
       " '121.6195 \\tDATA \\tKeypress: 2\\n',\n",
       " '130.9174 \\tDATA \\tKeypress: 1\\n',\n",
       " '141.3092 \\tDATA \\tKeypress: 1\\n',\n",
       " '151.8482 \\tDATA \\tKeypress: 2\\n',\n",
       " '161.7466 \\tDATA \\tKeypress: 1\\n',\n",
       " '176.7171 \\tDATA \\tKeypress: 1\\n',\n",
       " '184.0381 \\tDATA \\tKeypress: 2\\n',\n",
       " '193.2529 \\tDATA \\tKeypress: 1\\n',\n",
       " '203.1985 \\tDATA \\tKeypress: 2\\n',\n",
       " '214.2591 \\tDATA \\tKeypress: 2\\n',\n",
       " '224.1090 \\tDATA \\tKeypress: 2\\n',\n",
       " '232.4319 \\tDATA \\tKeypress: 2\\n',\n",
       " '241.6900 \\tDATA \\tKeypress: 1\\n']"
      ]
     },
     "execution_count": 44,
     "metadata": {},
     "output_type": "execute_result"
    }
   ],
   "source": [
    "button_press"
   ]
  },
  {
   "cell_type": "code",
   "execution_count": 45,
   "id": "c76e38bc-f4d5-4cad-a5b4-e1363d844d88",
   "metadata": {},
   "outputs": [],
   "source": [
    "# PARSE LOG FILE\n",
    "\n",
    "# obtain first scan pulse\n",
    "\n",
    "# obtain all button press responses\n"
   ]
  },
  {
   "cell_type": "code",
   "execution_count": 46,
   "id": "a343d563-2117-4675-a94a-0e37ad372c9e",
   "metadata": {},
   "outputs": [],
   "source": [
    "# subtract scan pulse onset from movie onsets\n",
    "\n",
    "# subtract scan pulse onsets from button press onsets\n",
    "\n",
    "    # from csv\n",
    "\n",
    "    # from log\n",
    "\n",
    "    # check that they match"
   ]
  },
  {
   "cell_type": "code",
   "execution_count": null,
   "id": "1a294908-0148-4fc1-80e4-3c0eef88ec69",
   "metadata": {},
   "outputs": [],
   "source": []
  },
  {
   "cell_type": "code",
   "execution_count": null,
   "id": "1e40f070-beee-4ded-8ffc-68d836636965",
   "metadata": {},
   "outputs": [],
   "source": []
  },
  {
   "cell_type": "code",
   "execution_count": null,
   "id": "97760294-51e1-45de-9efd-7edf4faee14b",
   "metadata": {},
   "outputs": [],
   "source": []
  },
  {
   "cell_type": "code",
   "execution_count": null,
   "id": "4ab6f486-8c16-4ab7-b96d-5b4aa4edf34e",
   "metadata": {},
   "outputs": [],
   "source": []
  }
 ],
 "metadata": {
  "kernelspec": {
   "display_name": "Python 3 (ipykernel)",
   "language": "python",
   "name": "python3"
  },
  "language_info": {
   "codemirror_mode": {
    "name": "ipython",
    "version": 3
   },
   "file_extension": ".py",
   "mimetype": "text/x-python",
   "name": "python",
   "nbconvert_exporter": "python",
   "pygments_lexer": "ipython3",
   "version": "3.11.4"
  }
 },
 "nbformat": 4,
 "nbformat_minor": 5
}
