{
 "cells": [
  {
   "cell_type": "markdown",
   "id": "3a9f4788",
   "metadata": {},
   "source": [
    "### Import packages"
   ]
  },
  {
   "cell_type": "code",
   "execution_count": null,
   "id": "1b44f439",
   "metadata": {},
   "outputs": [],
   "source": [
    "\n",
    "%pip install pingouin\n",
    "import pandas as pd\n",
    "import os\n",
    "import numpy as np\n",
    "import seaborn as sb\n",
    "import scipy.stats as stats\n",
    "import scipy\n",
    "import ast\n",
    "import warnings\n",
    "import pylab\n",
    "import matplotlib.pyplot as plt\n",
    "import math\n",
    "import pingouin as pg\n",
    "\n",
    "warnings.filterwarnings('ignore')"
   ]
  },
  {
   "cell_type": "markdown",
   "id": "524d9410",
   "metadata": {},
   "source": [
    "### Load & Organize Data"
   ]
  },
  {
   "cell_type": "code",
   "execution_count": 2,
   "id": "8b93de92",
   "metadata": {},
   "outputs": [],
   "source": [
    "path = '/jukebox/graziano/kirsten/MRI/MRI/data/behavioral/behavioral_data/'"
   ]
  },
  {
   "cell_type": "markdown",
   "id": "9b6ba08c",
   "metadata": {},
   "source": [
    "Make a list of dataframes for all the runs we use in the MRI analysis"
   ]
  },
  {
   "cell_type": "code",
   "execution_count": 3,
   "id": "4ea907bc",
   "metadata": {},
   "outputs": [],
   "source": [
    "# first, read in the runs and run files we need to ignore\n",
    "\n",
    "exclude_file    = [ x for x in os.listdir('.') if 'exclude' in x   ]\n",
    "disregard_files = [ x for x in os.listdir('.') if 'disregard' in x ]\n",
    "disregard_dfs   = [ pd.read_csv(x).T for x in disregard_files ]"
   ]
  },
  {
   "cell_type": "markdown",
   "id": "433291ec",
   "metadata": {},
   "source": [
    "### First, data to exclude"
   ]
  },
  {
   "cell_type": "code",
   "execution_count": 4,
   "id": "a91b7a8b",
   "metadata": {},
   "outputs": [
    {
     "data": {
      "text/html": [
       "<div>\n",
       "<style scoped>\n",
       "    .dataframe tbody tr th:only-of-type {\n",
       "        vertical-align: middle;\n",
       "    }\n",
       "\n",
       "    .dataframe tbody tr th {\n",
       "        vertical-align: top;\n",
       "    }\n",
       "\n",
       "    .dataframe thead th {\n",
       "        text-align: right;\n",
       "    }\n",
       "</style>\n",
       "<table border=\"1\" class=\"dataframe\">\n",
       "  <thead>\n",
       "    <tr style=\"text-align: right;\">\n",
       "      <th></th>\n",
       "      <th>Unnamed: 0</th>\n",
       "      <th>run</th>\n",
       "      <th>moviestim</th>\n",
       "      <th>subject</th>\n",
       "    </tr>\n",
       "  </thead>\n",
       "  <tbody>\n",
       "    <tr>\n",
       "      <th>0</th>\n",
       "      <td>1</td>\n",
       "      <td>2.0</td>\n",
       "      <td>8</td>\n",
       "      <td>behavioral_data/subject_21</td>\n",
       "    </tr>\n",
       "    <tr>\n",
       "      <th>1</th>\n",
       "      <td>2</td>\n",
       "      <td>3.0</td>\n",
       "      <td>15</td>\n",
       "      <td>behavioral_data/subject_21</td>\n",
       "    </tr>\n",
       "    <tr>\n",
       "      <th>2</th>\n",
       "      <td>3</td>\n",
       "      <td>4.0</td>\n",
       "      <td>11</td>\n",
       "      <td>behavioral_data/subject_21</td>\n",
       "    </tr>\n",
       "  </tbody>\n",
       "</table>\n",
       "</div>"
      ],
      "text/plain": [
       "   Unnamed: 0  run  moviestim                     subject\n",
       "0           1  2.0          8  behavioral_data/subject_21\n",
       "1           2  3.0         15  behavioral_data/subject_21\n",
       "2           3  4.0         11  behavioral_data/subject_21"
      ]
     },
     "execution_count": 4,
     "metadata": {},
     "output_type": "execute_result"
    }
   ],
   "source": [
    "pd.read_csv(exclude_file[0])"
   ]
  },
  {
   "cell_type": "markdown",
   "id": "328011c4",
   "metadata": {},
   "source": [
    "^^ We will exclude runs 2, 3, and 4 from subject 21\n",
    "\n",
    "We also exclude subject_17"
   ]
  },
  {
   "cell_type": "markdown",
   "id": "ef72bb67",
   "metadata": {},
   "source": [
    "### Then, log files to ignore"
   ]
  },
  {
   "cell_type": "code",
   "execution_count": 5,
   "id": "23e1e8ad",
   "metadata": {},
   "outputs": [
    {
     "data": {
      "text/plain": [
       "array(['subject', 'subject_12', 'subject_4', 'subject_20'], dtype=object)"
      ]
     },
     "execution_count": 5,
     "metadata": {},
     "output_type": "execute_result"
    }
   ],
   "source": [
    "disregard_subs = pd.concat(disregard_dfs)[0].unique()\n",
    "disregard_subs"
   ]
  },
  {
   "cell_type": "code",
   "execution_count": 6,
   "id": "b96fc0ad",
   "metadata": {},
   "outputs": [
    {
     "data": {
      "text/plain": [
       "array(['file',\n",
       "       'behavioral_data/subject_12/subject_12_run_1_2023-09-01_14h48.28.289.log',\n",
       "       'behavioral_data/subject_4/subject_4c_run_1_2023-08-24_13h14.00.218.log',\n",
       "       'behavioral_data/subject_20/subjec_20b_run_1_2023-11-02_17h48.21.836.log'],\n",
       "      dtype=object)"
      ]
     },
     "execution_count": 6,
     "metadata": {},
     "output_type": "execute_result"
    }
   ],
   "source": [
    "disregard_logs = pd.concat(disregard_dfs)[1].unique()\n",
    "disregard_logs"
   ]
  },
  {
   "cell_type": "code",
   "execution_count": 7,
   "id": "d2fcbe56",
   "metadata": {},
   "outputs": [
    {
     "data": {
      "text/plain": [
       "['.csv',\n",
       " 'behavioral_data/subject_12/subject_12_run_1_2023-09-01_14h48.28.289.csv',\n",
       " 'behavioral_data/subject_4/subject_4c_run_1_2023-08-24_13h14.00.218.csv',\n",
       " 'behavioral_data/subject_20/subjec_20b_run_1_2023-11-02_17h48.21.836.csv']"
      ]
     },
     "execution_count": 7,
     "metadata": {},
     "output_type": "execute_result"
    }
   ],
   "source": [
    "disregard_csvs = [ x[:-4]+'.csv' for x in disregard_logs ]\n",
    "disregard_csvs"
   ]
  },
  {
   "cell_type": "code",
   "execution_count": 8,
   "id": "752fb6b1",
   "metadata": {},
   "outputs": [],
   "source": [
    "extra_runs = ['behavioral_data/subject_1/sub_1_run_1_2023-08-18_12h17.09.696.csv',\n",
    "              'behavioral_data/subject_12/subject_12_run_1_2023-09-01_15h08.30.551.csv'\n",
    "             ]"
   ]
  },
  {
   "cell_type": "markdown",
   "id": "140733d5",
   "metadata": {},
   "source": [
    "### Create function"
   ]
  },
  {
   "cell_type": "code",
   "execution_count": 9,
   "id": "f12d4b42",
   "metadata": {},
   "outputs": [],
   "source": [
    "def add_type(data):\n",
    "    \n",
    "    # organize scores\n",
    "    data['response_type'] = np.nan\n",
    "    data['response_value'] = np.nan\n",
    "    \n",
    "    if data.loc[(data['key_resp_9.keys'].str.contains(',', na= False)), 'key_resp_9.keys'].shape[0]>0:\n",
    "        \n",
    "        print(data.loc[(data['key_resp_9.keys'].str.contains(',', na= False)), 'key_resp_9.keys'])\n",
    "        print(data.loc[(data['key_resp_9.keys'].str.contains(',', na= False)), 'participant'])\n",
    "        print(data.loc[(data['key_resp_9.keys'].str.contains(',', na= False)), 'key_resp_9.rt'])\n",
    "        print()\n",
    "        \n",
    "        data.loc[(data['key_resp_9.keys'].str.contains(',', na= False)), 'key_resp_9.keys'] = str('oo') + data['key_resp_9.keys'].str[2]\n",
    "        #for the ones with two responses, choose the first one\n",
    "    \n",
    "    data['response_value'] = data['key_resp_9.keys'].str[2]\n",
    "    # what was the response value\n",
    "\n",
    "    data.loc[(data['response_value'].str.contains('1'))\n",
    "            &(data['type'].str.contains('veridical')), 'response_type']='Hit'\n",
    "    # value 1 is for correct trials\n",
    "\n",
    "    data.loc[(data['response_value'].str.contains('1'))\n",
    "                &(data['type'].str.contains('scrambled')), 'response_type']='False Alarm'\n",
    "    # value 3 is for false alarms\n",
    "\n",
    "    data.loc[(data['response_value'].str.contains('2'))\n",
    "                &(data['type'].str.contains('veridical')), 'response_type']='Miss'\n",
    "    # value 0 is for misses \n",
    "\n",
    "    data.loc[(data['response_value'].str.contains('2'))\n",
    "                &(data['type'].str.contains('scrambled')), 'response_type']='Correct Reject'\n",
    "    # value 2 is for correct rejections \n",
    "    \n",
    "    data['unanswered'] = np.nan\n",
    "    data.loc[(data['key_resp_9.keys'].str.contains('None', na = False)), 'unanswered']= True\n",
    "    \n",
    "    return(data)"
   ]
  },
  {
   "cell_type": "markdown",
   "id": "f15347d5",
   "metadata": {},
   "source": [
    "### Now, make a list of df's for each run we are including"
   ]
  },
  {
   "cell_type": "markdown",
   "id": "69a91d58",
   "metadata": {},
   "source": [
    "Start by loading the data for all runs except subject 17 and the \"ignore\" files"
   ]
  },
  {
   "cell_type": "code",
   "execution_count": 10,
   "id": "0478ca09",
   "metadata": {},
   "outputs": [
    {
     "data": {
      "text/plain": [
       "['.csv',\n",
       " 'behavioral_data/subject_12/subject_12_run_1_2023-09-01_14h48.28.289.csv',\n",
       " 'behavioral_data/subject_4/subject_4c_run_1_2023-08-24_13h14.00.218.csv',\n",
       " 'behavioral_data/subject_20/subjec_20b_run_1_2023-11-02_17h48.21.836.csv']"
      ]
     },
     "execution_count": 10,
     "metadata": {},
     "output_type": "execute_result"
    }
   ],
   "source": [
    "disregard_csvs"
   ]
  },
  {
   "cell_type": "code",
   "execution_count": 11,
   "id": "ea08e529",
   "metadata": {},
   "outputs": [
    {
     "name": "stdout",
     "output_type": "stream",
     "text": [
      "1    ['1', '1']\n",
      "Name: key_resp_9.keys, dtype: object\n",
      "1    subject_4c\n",
      "Name: participant, dtype: object\n",
      "1    [0.6491851001046598, 1.8920021001249552]\n",
      "Name: key_resp_9.rt, dtype: object\n",
      "\n",
      "1    ['2', '2']\n",
      "Name: key_resp_9.keys, dtype: object\n",
      "1    sub_1\n",
      "Name: participant, dtype: object\n",
      "1    [0.6329582000616938, 1.570515500032343]\n",
      "Name: key_resp_9.rt, dtype: object\n",
      "\n",
      "6    ['1', '1']\n",
      "Name: key_resp_9.keys, dtype: object\n",
      "6    subject_19\n",
      "Name: participant, dtype: object\n",
      "6    [1.3406966000329703, 2.6903395000845194]\n",
      "Name: key_resp_9.rt, dtype: object\n",
      "\n",
      "2    ['2', '2']\n",
      "Name: key_resp_9.keys, dtype: object\n",
      "2    subject_19\n",
      "Name: participant, dtype: object\n",
      "2    [0.04326010006479919, 0.6430198999587446]\n",
      "Name: key_resp_9.rt, dtype: object\n",
      "\n",
      "11    ['1', '1']\n",
      "Name: key_resp_9.keys, dtype: object\n",
      "11    subject_19\n",
      "Name: participant, dtype: object\n",
      "11    [0.6252754998859018, 2.825265899999067]\n",
      "Name: key_resp_9.rt, dtype: object\n",
      "\n",
      "16    ['1', '1']\n",
      "Name: key_resp_9.keys, dtype: object\n",
      "16    subject_14\n",
      "Name: participant, dtype: object\n",
      "16    [0.5634695999324322, 1.8024406000040472]\n",
      "Name: key_resp_9.rt, dtype: object\n",
      "\n",
      "2    ['1', '2']\n",
      "Name: key_resp_9.keys, dtype: object\n",
      "2    subject_14\n",
      "Name: participant, dtype: object\n",
      "2    [1.238697299733758, 1.8887432999908924]\n",
      "Name: key_resp_9.rt, dtype: object\n",
      "\n",
      "18    ['1', '2']\n",
      "Name: key_resp_9.keys, dtype: object\n",
      "18    subject_16c\n",
      "Name: participant, dtype: object\n",
      "18    [0.6684973000010359, 1.1893763000007311]\n",
      "Name: key_resp_9.rt, dtype: object\n",
      "\n",
      "1    ['1', '1']\n",
      "Name: key_resp_9.keys, dtype: object\n",
      "1    subject_20b\n",
      "Name: participant, dtype: object\n",
      "1    [0.09813800000119954, 1.848159700006363]\n",
      "Name: key_resp_9.rt, dtype: object\n",
      "\n"
     ]
    }
   ],
   "source": [
    "data_dfs = []\n",
    "\n",
    "for sub in os.listdir('behavioral_data/'):\n",
    "    \n",
    "    # if it isn't our totally excluded subject (subject_17)\n",
    "    if sub != 'subject_17' and 'subject_' in sub:\n",
    "\n",
    "        # load all of the subject's csv's\n",
    "        csvs = [ \n",
    "                'behavioral_data/'+sub+'/'+x for x in os.listdir('behavioral_data/'+sub) if x[-4:]=='.csv' \n",
    "                and 'behavioral_data/'+sub+'/'+x not in disregard_csvs\n",
    "                and 'behavioral_data/'+sub+'/'+x not in extra_runs \n",
    "               ]\n",
    "        \n",
    "        for x in csvs:\n",
    "            if x in disregard_csvs:\n",
    "                print(x); print()\n",
    "        \n",
    "        if len(csvs)>6:\n",
    "            print(len(csvs))\n",
    "            print(csvs); print()\n",
    "\n",
    "        # read them in as dataframes and add them to data_dfs\n",
    "        dfs  = [ pd.read_csv(x) for x in csvs ]\n",
    "        dfs  = [ add_type(x) for x in dfs ]\n",
    "        data_dfs.extend(dfs)\n",
    "    "
   ]
  },
  {
   "cell_type": "markdown",
   "id": "41739b5e",
   "metadata": {},
   "source": [
    "### Compile data"
   ]
  },
  {
   "cell_type": "code",
   "execution_count": 12,
   "id": "ee90b89c",
   "metadata": {},
   "outputs": [
    {
     "data": {
      "text/plain": [
       "array(['subject_4c', nan, 'sub_1', 'subject_9', 'subject_22', 'subject_6',\n",
       "       'subject_21', 'subject_19', 'subject_8', 'subject_14',\n",
       "       'subject_16c3', 'subject_16c', 'subject_12', 'subject_11',\n",
       "       'Subject_7', 'subject_5', 'subject_2', 'subject_20b', 'subject_10',\n",
       "       'subject_15', 'subject_13', 'subject_3', 'subject_18',\n",
       "       'subject_23'], dtype=object)"
      ]
     },
     "execution_count": 12,
     "metadata": {},
     "output_type": "execute_result"
    }
   ],
   "source": [
    "data = pd.concat(data_dfs)\n",
    "data['participant'].unique()"
   ]
  },
  {
   "cell_type": "markdown",
   "id": "a2e38fb0",
   "metadata": {},
   "source": [
    "Correct trials labeled \"subject_16c3\" to \"subject_16\""
   ]
  },
  {
   "cell_type": "code",
   "execution_count": 13,
   "id": "0c1fe8e7",
   "metadata": {},
   "outputs": [],
   "source": [
    "data.loc[data['participant']=='subject_16c3','participant'] = 'subject_16c'"
   ]
  },
  {
   "cell_type": "code",
   "execution_count": 14,
   "id": "fac5782c",
   "metadata": {},
   "outputs": [
    {
     "name": "stdout",
     "output_type": "stream",
     "text": [
      "22\n"
     ]
    },
    {
     "data": {
      "text/plain": [
       "array(['subject_4c', 'sub_1', 'subject_9', 'subject_22', 'subject_6',\n",
       "       'subject_21', 'subject_19', 'subject_8', 'subject_14',\n",
       "       'subject_16c', 'subject_12', 'subject_11', 'Subject_7',\n",
       "       'subject_5', 'subject_2', 'subject_20b', 'subject_10',\n",
       "       'subject_15', 'subject_13', 'subject_3', 'subject_18',\n",
       "       'subject_23'], dtype=object)"
      ]
     },
     "execution_count": 14,
     "metadata": {},
     "output_type": "execute_result"
    }
   ],
   "source": [
    "print(len(data[~data['participant'].isna()]['participant'].unique()))\n",
    "data[~data['participant'].isna()]['participant'].unique()"
   ]
  },
  {
   "cell_type": "markdown",
   "id": "d6232b8a",
   "metadata": {},
   "source": [
    "Exclude runs 2, 3, 4, subject_21"
   ]
  },
  {
   "cell_type": "code",
   "execution_count": 15,
   "id": "60ee59a9",
   "metadata": {},
   "outputs": [
    {
     "data": {
      "text/plain": [
       "(2904, 36)"
      ]
     },
     "execution_count": 15,
     "metadata": {},
     "output_type": "execute_result"
    }
   ],
   "source": [
    "data.shape"
   ]
  },
  {
   "cell_type": "code",
   "execution_count": 16,
   "id": "61035124",
   "metadata": {},
   "outputs": [
    {
     "data": {
      "text/plain": [
       "(60, 36)"
      ]
     },
     "execution_count": 16,
     "metadata": {},
     "output_type": "execute_result"
    }
   ],
   "source": [
    "data[(data['participant']=='subject_21')&(data['run'].isin([2, 3, 4]))].shape"
   ]
  },
  {
   "cell_type": "code",
   "execution_count": 17,
   "id": "ec0a1ecf",
   "metadata": {},
   "outputs": [
    {
     "data": {
      "text/plain": [
       "(2844, 36)"
      ]
     },
     "execution_count": 17,
     "metadata": {},
     "output_type": "execute_result"
    }
   ],
   "source": [
    "data[~((data['participant']=='subject_21')&(data['run'].isin([2, 3, 4])))].shape"
   ]
  },
  {
   "cell_type": "code",
   "execution_count": 18,
   "id": "80e50d40",
   "metadata": {
    "scrolled": true
   },
   "outputs": [
    {
     "name": "stdout",
     "output_type": "stream",
     "text": [
      "    run  start_time       type  \\\n",
      "1   2.0       10.00  scrambled   \n",
      "2   2.0       18.86  veridical   \n",
      "3   2.0       27.91  scrambled   \n",
      "4   2.0       37.06  veridical   \n",
      "5   2.0       45.10  scrambled   \n",
      "..  ...         ...        ...   \n",
      "16  4.0      156.79  veridical   \n",
      "17  4.0      164.95  scrambled   \n",
      "18  4.0      173.04  scrambled   \n",
      "19  4.0      181.66  scrambled   \n",
      "20  4.0      190.00  scrambled   \n",
      "\n",
      "                                            moviestim  jitters  frames  \\\n",
      "1   fps_60/150296.bmp_pp97_L3_V1_scrambled_freevie...    10.00     NaN   \n",
      "2   fps_60/713519.bmp_pp84_L3_V1_veridical_freevie...     2.86     NaN   \n",
      "3   fps_60/1159819.bmp_pp63_L1_V1_scrambled_freevi...     3.05     NaN   \n",
      "4   fps_60/498396.bmp_pp152_L2_V1_veridical_freevi...     3.15     NaN   \n",
      "5   fps_60/713707.bmp_pp63_L1_V1_scrambled_freevie...     2.04     NaN   \n",
      "..                                                ...      ...     ...   \n",
      "16  fps_60/1592727.bmp_pp69_L3_V1_veridical_freevi...     2.98     NaN   \n",
      "17  fps_60/1159482.bmp_pp97_L3_V1_scrambled_freevi...     2.16     NaN   \n",
      "18  fps_60/1592372.bmp_pp89_L1_V1_scrambled_freevi...     2.09     NaN   \n",
      "19  fps_60/1593102.bmp_pp80_L3_V1_scrambled_freevi...     2.62     NaN   \n",
      "20  fps_60/1592727.bmp_pp69_L3_V1_scrambled_freevi...     2.34     NaN   \n",
      "\n",
      "    trials.thisRepN  trials.thisTrialN  trials.thisN  trials.thisIndex  ...  \\\n",
      "1               0.0                0.0           0.0               0.0  ...   \n",
      "2               0.0                1.0           1.0               1.0  ...   \n",
      "3               0.0                2.0           2.0               2.0  ...   \n",
      "4               0.0                3.0           3.0               3.0  ...   \n",
      "5               0.0                4.0           4.0               4.0  ...   \n",
      "..              ...                ...           ...               ...  ...   \n",
      "16              0.0               15.0          15.0              15.0  ...   \n",
      "17              0.0               16.0          16.0              16.0  ...   \n",
      "18              0.0               17.0          17.0              17.0  ...   \n",
      "19              0.0               18.0          18.0              18.0  ...   \n",
      "20              0.0               19.0          19.0              19.0  ...   \n",
      "\n",
      "    session                     date expName psychopyVersion  frameRate  \\\n",
      "1       2.0  2023-08-24_13h26.27.274   run_1        2023.1.2  60.008161   \n",
      "2       2.0  2023-08-24_13h26.27.274   run_1        2023.1.2  60.008161   \n",
      "3       2.0  2023-08-24_13h26.27.274   run_1        2023.1.2  60.008161   \n",
      "4       2.0  2023-08-24_13h26.27.274   run_1        2023.1.2  60.008161   \n",
      "5       2.0  2023-08-24_13h26.27.274   run_1        2023.1.2  60.008161   \n",
      "..      ...                      ...     ...             ...        ...   \n",
      "16      4.0  2023-11-05_17h41.13.367   run_1        2023.1.2  60.053748   \n",
      "17      4.0  2023-11-05_17h41.13.367   run_1        2023.1.2  60.053748   \n",
      "18      4.0  2023-11-05_17h41.13.367   run_1        2023.1.2  60.053748   \n",
      "19      4.0  2023-11-05_17h41.13.367   run_1        2023.1.2  60.053748   \n",
      "20      4.0  2023-11-05_17h41.13.367   run_1        2023.1.2  60.053748   \n",
      "\n",
      "    Unnamed: 31   response_type  response_value  unanswered  Unnamed: 30  \n",
      "1           NaN     False Alarm               1         NaN          NaN  \n",
      "2           NaN             Hit               1         NaN          NaN  \n",
      "3           NaN     False Alarm               1         NaN          NaN  \n",
      "4           NaN             Hit               1         NaN          NaN  \n",
      "5           NaN  Correct Reject               2         NaN          NaN  \n",
      "..          ...             ...             ...         ...          ...  \n",
      "16          NaN             Hit               1         NaN          NaN  \n",
      "17          NaN     False Alarm               1         NaN          NaN  \n",
      "18          NaN  Correct Reject               2         NaN          NaN  \n",
      "19          NaN     False Alarm               1         NaN          NaN  \n",
      "20          NaN  Correct Reject               2         NaN          NaN  \n",
      "\n",
      "[2580 rows x 36 columns]\n"
     ]
    }
   ],
   "source": [
    "new_data = data[~((data['participant']=='subject_21')&(data['run'].isin([2, 3, 4])))]\n",
    "new_data = new_data[~(new_data['run'].isna())]\n",
    "print(new_data)"
   ]
  },
  {
   "cell_type": "code",
   "execution_count": 19,
   "id": "8afdc940",
   "metadata": {},
   "outputs": [],
   "source": [
    "new_data.to_csv(\"behavioral_data.csv\", index=False)"
   ]
  },
  {
   "cell_type": "code",
   "execution_count": 20,
   "id": "967695bb",
   "metadata": {},
   "outputs": [
    {
     "data": {
      "text/plain": [
       "2580"
      ]
     },
     "execution_count": 20,
     "metadata": {},
     "output_type": "execute_result"
    }
   ],
   "source": [
    "new_data.shape[0]"
   ]
  },
  {
   "cell_type": "code",
   "execution_count": 21,
   "id": "485ca2d9",
   "metadata": {},
   "outputs": [
    {
     "data": {
      "text/plain": [
       "0.9737470167064439"
      ]
     },
     "execution_count": 21,
     "metadata": {},
     "output_type": "execute_result"
    }
   ],
   "source": [
    "1 - (new_data[new_data['response_type'].isna()].shape[0] / new_data[~new_data['response_type'].isna()].shape[0])\n",
    "\n",
    "#.unique()"
   ]
  },
  {
   "cell_type": "markdown",
   "id": "64b8135b",
   "metadata": {},
   "source": [
    "### Plot the results"
   ]
  },
  {
   "cell_type": "code",
   "execution_count": 22,
   "id": "2d007050",
   "metadata": {},
   "outputs": [
    {
     "data": {
      "text/plain": [
       "Index(['run', 'start_time', 'type', 'moviestim', 'jitters', 'frames',\n",
       "       'trials.thisRepN', 'trials.thisTrialN', 'trials.thisN',\n",
       "       'trials.thisIndex', 'fix1.started', 'welcome_key.started',\n",
       "       'welcome_key.keys', 'welcome_key.rt', 'fix3.started', 'fix3.stopped',\n",
       "       'movie.started', 'text_15.started', 'key_resp_9.started',\n",
       "       'text_15.stopped', 'key_resp_9.stopped', 'key_resp_9.keys',\n",
       "       'key_resp_9.rt', 'fix4.started', 'fix4.stopped', 'participant',\n",
       "       'session', 'date', 'expName', 'psychopyVersion', 'frameRate',\n",
       "       'Unnamed: 31', 'response_type', 'response_value', 'unanswered',\n",
       "       'Unnamed: 30'],\n",
       "      dtype='object')"
      ]
     },
     "execution_count": 22,
     "metadata": {},
     "output_type": "execute_result"
    }
   ],
   "source": [
    "data.columns"
   ]
  },
  {
   "cell_type": "code",
   "execution_count": 23,
   "id": "4e3502ea",
   "metadata": {},
   "outputs": [
    {
     "data": {
      "text/plain": [
       "Index(['run', 'start_time', 'type', 'moviestim', 'jitters', 'frames',\n",
       "       'trials.thisRepN', 'trials.thisTrialN', 'trials.thisN',\n",
       "       'trials.thisIndex', 'fix1.started', 'welcome_key.started',\n",
       "       'welcome_key.keys', 'welcome_key.rt', 'fix3.started', 'fix3.stopped',\n",
       "       'movie.started', 'text_15.started', 'key_resp_9.started',\n",
       "       'text_15.stopped', 'key_resp_9.stopped', 'key_resp_9.keys',\n",
       "       'key_resp_9.rt', 'fix4.started', 'fix4.stopped', 'participant',\n",
       "       'session', 'date', 'expName', 'psychopyVersion', 'frameRate',\n",
       "       'Unnamed: 31', 'response_type', 'response_value', 'unanswered',\n",
       "       'Unnamed: 30'],\n",
       "      dtype='object')"
      ]
     },
     "execution_count": 23,
     "metadata": {},
     "output_type": "execute_result"
    }
   ],
   "source": [
    "data.columns"
   ]
  },
  {
   "cell_type": "code",
   "execution_count": 24,
   "id": "8ca227de",
   "metadata": {},
   "outputs": [],
   "source": [
    "d = data.groupby(['participant','response_type'], as_index=False).count()"
   ]
  },
  {
   "cell_type": "code",
   "execution_count": 25,
   "id": "33c0e0fb",
   "metadata": {},
   "outputs": [],
   "source": [
    "grouped_by_resp_type = new_data.groupby(['participant','response_type'],as_index=False).count()"
   ]
  },
  {
   "cell_type": "code",
   "execution_count": 26,
   "id": "d2a0fff5",
   "metadata": {},
   "outputs": [],
   "source": [
    "# grouped_by_resp_type"
   ]
  },
  {
   "cell_type": "code",
   "execution_count": 27,
   "id": "56f27247",
   "metadata": {
    "scrolled": false
   },
   "outputs": [
    {
     "data": {
      "text/plain": [
       "<Axes: xlabel='response_type', ylabel='run'>"
      ]
     },
     "execution_count": 27,
     "metadata": {},
     "output_type": "execute_result"
    },
    {
     "data": {
      "image/png": "[encoded data removed]",
      "text/plain": [
       "<Figure size 640x480 with 1 Axes>"
      ]
     },
     "metadata": {},
     "output_type": "display_data"
    }
   ],
   "source": [
    "sb.barplot(data=grouped_by_resp_type, x='response_type',y='run')"
   ]
  },
  {
   "cell_type": "code",
   "execution_count": 28,
   "id": "81541f14",
   "metadata": {},
   "outputs": [],
   "source": [
    "new_data['Video Type'] = np.nan\n",
    "new_data['Participant Judgement'] = np.nan\n",
    "new_data['Judged Correctly']      = np.nan\n",
    "\n",
    "new_data.loc[new_data['response_type'].isin(['Hit','Miss']), 'Video Type'] = 'Real Attention'\n",
    "new_data.loc[new_data['response_type'].isin(['False Alarm','Correct Reject']), 'Video Type'] = 'Fake Attention'\n",
    "\n",
    "new_data.loc[new_data['response_type'].isin(['Hit','False Alarm']), 'Participant Judgement'] = 'Judged Real'\n",
    "new_data.loc[new_data['response_type'].isin(['Miss','Correct Reject']), 'Participant Judgement'] = 'Judged Fake'\n",
    "\n",
    "new_data.loc[new_data['response_type'].isin(['Hit','Correct Reject']), 'Judged Correctly'] = 'Correct'\n",
    "new_data.loc[new_data['response_type'].isin(['Miss','False Alarm']), 'Judged Correctly'  ] = 'Wrong'"
   ]
  },
  {
   "cell_type": "code",
   "execution_count": 29,
   "id": "ef49185c",
   "metadata": {},
   "outputs": [],
   "source": [
    "groupy_plot = new_data.groupby(['participant', 'response_type', 'Participant Judgement', 'Video Type'],as_index=False).count() #.columns"
   ]
  },
  {
   "cell_type": "code",
   "execution_count": 30,
   "id": "23c41d95",
   "metadata": {},
   "outputs": [
    {
     "data": {
      "text/html": [
       "<div>\n",
       "<style scoped>\n",
       "    .dataframe tbody tr th:only-of-type {\n",
       "        vertical-align: middle;\n",
       "    }\n",
       "\n",
       "    .dataframe tbody tr th {\n",
       "        vertical-align: top;\n",
       "    }\n",
       "\n",
       "    .dataframe thead th {\n",
       "        text-align: right;\n",
       "    }\n",
       "</style>\n",
       "<table border=\"1\" class=\"dataframe\">\n",
       "  <thead>\n",
       "    <tr style=\"text-align: right;\">\n",
       "      <th></th>\n",
       "      <th>participant</th>\n",
       "      <th>response_type</th>\n",
       "      <th>Participant Judgement</th>\n",
       "      <th>Video Type</th>\n",
       "      <th>run</th>\n",
       "      <th>start_time</th>\n",
       "      <th>type</th>\n",
       "      <th>moviestim</th>\n",
       "      <th>jitters</th>\n",
       "      <th>frames</th>\n",
       "      <th>...</th>\n",
       "      <th>session</th>\n",
       "      <th>date</th>\n",
       "      <th>expName</th>\n",
       "      <th>psychopyVersion</th>\n",
       "      <th>frameRate</th>\n",
       "      <th>Unnamed: 31</th>\n",
       "      <th>response_value</th>\n",
       "      <th>unanswered</th>\n",
       "      <th>Unnamed: 30</th>\n",
       "      <th>Judged Correctly</th>\n",
       "    </tr>\n",
       "  </thead>\n",
       "  <tbody>\n",
       "    <tr>\n",
       "      <th>0</th>\n",
       "      <td>Subject_7</td>\n",
       "      <td>Correct Reject</td>\n",
       "      <td>Judged Fake</td>\n",
       "      <td>Fake Attention</td>\n",
       "      <td>43</td>\n",
       "      <td>43</td>\n",
       "      <td>43</td>\n",
       "      <td>43</td>\n",
       "      <td>43</td>\n",
       "      <td>0</td>\n",
       "      <td>...</td>\n",
       "      <td>43</td>\n",
       "      <td>43</td>\n",
       "      <td>43</td>\n",
       "      <td>43</td>\n",
       "      <td>43</td>\n",
       "      <td>0</td>\n",
       "      <td>43</td>\n",
       "      <td>0</td>\n",
       "      <td>0</td>\n",
       "      <td>43</td>\n",
       "    </tr>\n",
       "    <tr>\n",
       "      <th>1</th>\n",
       "      <td>Subject_7</td>\n",
       "      <td>False Alarm</td>\n",
       "      <td>Judged Real</td>\n",
       "      <td>Fake Attention</td>\n",
       "      <td>17</td>\n",
       "      <td>17</td>\n",
       "      <td>17</td>\n",
       "      <td>17</td>\n",
       "      <td>17</td>\n",
       "      <td>0</td>\n",
       "      <td>...</td>\n",
       "      <td>17</td>\n",
       "      <td>17</td>\n",
       "      <td>17</td>\n",
       "      <td>17</td>\n",
       "      <td>17</td>\n",
       "      <td>0</td>\n",
       "      <td>17</td>\n",
       "      <td>0</td>\n",
       "      <td>0</td>\n",
       "      <td>17</td>\n",
       "    </tr>\n",
       "    <tr>\n",
       "      <th>2</th>\n",
       "      <td>Subject_7</td>\n",
       "      <td>Hit</td>\n",
       "      <td>Judged Real</td>\n",
       "      <td>Real Attention</td>\n",
       "      <td>52</td>\n",
       "      <td>52</td>\n",
       "      <td>52</td>\n",
       "      <td>52</td>\n",
       "      <td>52</td>\n",
       "      <td>0</td>\n",
       "      <td>...</td>\n",
       "      <td>52</td>\n",
       "      <td>52</td>\n",
       "      <td>52</td>\n",
       "      <td>52</td>\n",
       "      <td>52</td>\n",
       "      <td>0</td>\n",
       "      <td>52</td>\n",
       "      <td>0</td>\n",
       "      <td>0</td>\n",
       "      <td>52</td>\n",
       "    </tr>\n",
       "    <tr>\n",
       "      <th>3</th>\n",
       "      <td>Subject_7</td>\n",
       "      <td>Miss</td>\n",
       "      <td>Judged Fake</td>\n",
       "      <td>Real Attention</td>\n",
       "      <td>8</td>\n",
       "      <td>8</td>\n",
       "      <td>8</td>\n",
       "      <td>8</td>\n",
       "      <td>8</td>\n",
       "      <td>0</td>\n",
       "      <td>...</td>\n",
       "      <td>8</td>\n",
       "      <td>8</td>\n",
       "      <td>8</td>\n",
       "      <td>8</td>\n",
       "      <td>8</td>\n",
       "      <td>0</td>\n",
       "      <td>8</td>\n",
       "      <td>0</td>\n",
       "      <td>0</td>\n",
       "      <td>8</td>\n",
       "    </tr>\n",
       "    <tr>\n",
       "      <th>4</th>\n",
       "      <td>sub_1</td>\n",
       "      <td>Correct Reject</td>\n",
       "      <td>Judged Fake</td>\n",
       "      <td>Fake Attention</td>\n",
       "      <td>48</td>\n",
       "      <td>48</td>\n",
       "      <td>48</td>\n",
       "      <td>48</td>\n",
       "      <td>48</td>\n",
       "      <td>0</td>\n",
       "      <td>...</td>\n",
       "      <td>48</td>\n",
       "      <td>48</td>\n",
       "      <td>48</td>\n",
       "      <td>48</td>\n",
       "      <td>48</td>\n",
       "      <td>0</td>\n",
       "      <td>48</td>\n",
       "      <td>0</td>\n",
       "      <td>0</td>\n",
       "      <td>48</td>\n",
       "    </tr>\n",
       "  </tbody>\n",
       "</table>\n",
       "<p>5 rows × 39 columns</p>\n",
       "</div>"
      ],
      "text/plain": [
       "  participant   response_type Participant Judgement      Video Type  run  \\\n",
       "0   Subject_7  Correct Reject           Judged Fake  Fake Attention   43   \n",
       "1   Subject_7     False Alarm           Judged Real  Fake Attention   17   \n",
       "2   Subject_7             Hit           Judged Real  Real Attention   52   \n",
       "3   Subject_7            Miss           Judged Fake  Real Attention    8   \n",
       "4       sub_1  Correct Reject           Judged Fake  Fake Attention   48   \n",
       "\n",
       "   start_time  type  moviestim  jitters  frames  ...  session  date  expName  \\\n",
       "0          43    43         43       43       0  ...       43    43       43   \n",
       "1          17    17         17       17       0  ...       17    17       17   \n",
       "2          52    52         52       52       0  ...       52    52       52   \n",
       "3           8     8          8        8       0  ...        8     8        8   \n",
       "4          48    48         48       48       0  ...       48    48       48   \n",
       "\n",
       "   psychopyVersion  frameRate  Unnamed: 31  response_value  unanswered  \\\n",
       "0               43         43            0              43           0   \n",
       "1               17         17            0              17           0   \n",
       "2               52         52            0              52           0   \n",
       "3                8          8            0               8           0   \n",
       "4               48         48            0              48           0   \n",
       "\n",
       "   Unnamed: 30  Judged Correctly  \n",
       "0            0                43  \n",
       "1            0                17  \n",
       "2            0                52  \n",
       "3            0                 8  \n",
       "4            0                48  \n",
       "\n",
       "[5 rows x 39 columns]"
      ]
     },
     "execution_count": 30,
     "metadata": {},
     "output_type": "execute_result"
    }
   ],
   "source": [
    "groupy_plot.head()"
   ]
  },
  {
   "cell_type": "code",
   "execution_count": 31,
   "id": "0cc59545",
   "metadata": {},
   "outputs": [
    {
     "data": {
      "text/plain": [
       "<Axes: xlabel='Video Type', ylabel='run'>"
      ]
     },
     "execution_count": 31,
     "metadata": {},
     "output_type": "execute_result"
    },
    {
     "data": {
      "image/png": "[encoded data removed]",
      "text/plain": [
       "<Figure size 640x480 with 1 Axes>"
      ]
     },
     "metadata": {},
     "output_type": "display_data"
    }
   ],
   "source": [
    "sb.barplot(data=groupy_plot, x='Video Type', y='run', hue='Participant Judgement')"
   ]
  },
  {
   "cell_type": "markdown",
   "id": "9e0a5079",
   "metadata": {},
   "source": [
    "### Response ANOVA"
   ]
  },
  {
   "cell_type": "code",
   "execution_count": 32,
   "id": "34a4f248",
   "metadata": {},
   "outputs": [
    {
     "data": {
      "text/html": [
       "<div>\n",
       "<style scoped>\n",
       "    .dataframe tbody tr th:only-of-type {\n",
       "        vertical-align: middle;\n",
       "    }\n",
       "\n",
       "    .dataframe tbody tr th {\n",
       "        vertical-align: top;\n",
       "    }\n",
       "\n",
       "    .dataframe thead th {\n",
       "        text-align: right;\n",
       "    }\n",
       "</style>\n",
       "<table border=\"1\" class=\"dataframe\">\n",
       "  <thead>\n",
       "    <tr style=\"text-align: right;\">\n",
       "      <th></th>\n",
       "      <th>Source</th>\n",
       "      <th>SS</th>\n",
       "      <th>ddof1</th>\n",
       "      <th>ddof2</th>\n",
       "      <th>MS</th>\n",
       "      <th>F</th>\n",
       "      <th>p-unc</th>\n",
       "      <th>p-GG-corr</th>\n",
       "      <th>ng2</th>\n",
       "      <th>eps</th>\n",
       "    </tr>\n",
       "  </thead>\n",
       "  <tbody>\n",
       "    <tr>\n",
       "      <th>0</th>\n",
       "      <td>Video Type</td>\n",
       "      <td>0.000000</td>\n",
       "      <td>1</td>\n",
       "      <td>21</td>\n",
       "      <td>0.000000</td>\n",
       "      <td>0.000000</td>\n",
       "      <td>1.000000e+00</td>\n",
       "      <td>1.000000e+00</td>\n",
       "      <td>0.000000</td>\n",
       "      <td>1.0</td>\n",
       "    </tr>\n",
       "    <tr>\n",
       "      <th>1</th>\n",
       "      <td>Participant Judgement</td>\n",
       "      <td>5441.636364</td>\n",
       "      <td>1</td>\n",
       "      <td>21</td>\n",
       "      <td>5441.636364</td>\n",
       "      <td>71.182853</td>\n",
       "      <td>3.474230e-08</td>\n",
       "      <td>3.474230e-08</td>\n",
       "      <td>0.507938</td>\n",
       "      <td>1.0</td>\n",
       "    </tr>\n",
       "    <tr>\n",
       "      <th>2</th>\n",
       "      <td>Video Type * Participant Judgement</td>\n",
       "      <td>3240.409091</td>\n",
       "      <td>1</td>\n",
       "      <td>21</td>\n",
       "      <td>3240.409091</td>\n",
       "      <td>24.848031</td>\n",
       "      <td>6.213141e-05</td>\n",
       "      <td>6.213141e-05</td>\n",
       "      <td>0.380689</td>\n",
       "      <td>1.0</td>\n",
       "    </tr>\n",
       "  </tbody>\n",
       "</table>\n",
       "</div>"
      ],
      "text/plain": [
       "                               Source           SS  ddof1  ddof2           MS  \\\n",
       "0                          Video Type     0.000000      1     21     0.000000   \n",
       "1               Participant Judgement  5441.636364      1     21  5441.636364   \n",
       "2  Video Type * Participant Judgement  3240.409091      1     21  3240.409091   \n",
       "\n",
       "           F         p-unc     p-GG-corr       ng2  eps  \n",
       "0   0.000000  1.000000e+00  1.000000e+00  0.000000  1.0  \n",
       "1  71.182853  3.474230e-08  3.474230e-08  0.507938  1.0  \n",
       "2  24.848031  6.213141e-05  6.213141e-05  0.380689  1.0  "
      ]
     },
     "execution_count": 32,
     "metadata": {},
     "output_type": "execute_result"
    }
   ],
   "source": [
    "pg.rm_anova(data=groupy_plot, dv='run', within=['Video Type','Participant Judgement'], subject='participant')"
   ]
  },
  {
   "cell_type": "markdown",
   "id": "fa211fe2",
   "metadata": {},
   "source": [
    "### T-tests"
   ]
  },
  {
   "cell_type": "code",
   "execution_count": 33,
   "id": "18728ce3",
   "metadata": {},
   "outputs": [
    {
     "name": "stdout",
     "output_type": "stream",
     "text": [
      "TtestResult(statistic=12.25941623217356, pvalue=4.903300961135439e-11, df=21)\n",
      "TtestResult(statistic=8.256391726316938, pvalue=4.9480501729947683e-08, df=21)\n",
      "TtestResult(statistic=4.910046432457373, pvalue=7.414251036918418e-05, df=21)\n",
      "\n",
      "TtestResult(statistic=5.0290474475984155, pvalue=5.5966060642328804e-05, df=21)\n",
      "TtestResult(statistic=-0.9723210621566806, pvalue=0.34195816123763667, df=21)\n",
      "\n",
      "TtestResult(statistic=8.53049613812854, pvalue=2.8978685186246097e-08, df=21)\n"
     ]
    }
   ],
   "source": [
    "# RR versus RF\n",
    "\n",
    "print(scipy.stats.ttest_rel( list(groupy_plot[(groupy_plot['Video Type']=='Real Attention')\n",
    "                                             &(groupy_plot['Participant Judgement']=='Judged Real')]['run']),\n",
    "                            \n",
    "                             list(groupy_plot[(groupy_plot['Video Type']=='Real Attention')\n",
    "                                             &(groupy_plot['Participant Judgement']=='Judged Fake')]['run']) ))\n",
    "\n",
    "# RR versus FF\n",
    "      \n",
    "print(scipy.stats.ttest_rel( list(groupy_plot[(groupy_plot['Video Type']=='Real Attention')\n",
    "                                             &(groupy_plot['Participant Judgement']=='Judged Real')]['run']),\n",
    "                            \n",
    "                             list(groupy_plot[(groupy_plot['Video Type']=='Fake Attention')\n",
    "                                             &(groupy_plot['Participant Judgement']=='Judged Fake')]['run']) ))\n",
    "      \n",
    "# RR versus FR\n",
    "      \n",
    "print(scipy.stats.ttest_rel( list(groupy_plot[(groupy_plot['Video Type']=='Real Attention')\n",
    "                                             &(groupy_plot['Participant Judgement']=='Judged Real')]['run']),\n",
    "                            \n",
    "                             list(groupy_plot[(groupy_plot['Video Type']=='Fake Attention')\n",
    "                                             &(groupy_plot['Participant Judgement']=='Judged Real')]['run']) ))\n",
    "      \n",
    "##########################################\n",
    "\n",
    "print()\n",
    "      \n",
    "## FF versus RF\n",
    "\n",
    "print(scipy.stats.ttest_rel( list(groupy_plot[(groupy_plot['Video Type']=='Fake Attention')\n",
    "                                             &(groupy_plot['Participant Judgement']=='Judged Fake')]['run']),\n",
    "                            \n",
    "                             list(groupy_plot[(groupy_plot['Video Type']=='Real Attention')\n",
    "                                             &(groupy_plot['Participant Judgement']=='Judged Fake')]['run']) ))\n",
    "\n",
    "\n",
    "## FF versus FR\n",
    "\n",
    "print(scipy.stats.ttest_rel( list(groupy_plot[(groupy_plot['Video Type']=='Fake Attention')\n",
    "                                             &(groupy_plot['Participant Judgement']=='Judged Fake')]['run']),\n",
    "                            \n",
    "                             list(groupy_plot[(groupy_plot['Video Type']=='Fake Attention')\n",
    "                                             &(groupy_plot['Participant Judgement']=='Judged Real')]['run']) ))\n",
    "\n",
    "##########################################\n",
    "\n",
    "print()\n",
    "\n",
    "## FR versus RF\n",
    "\n",
    "print(scipy.stats.ttest_rel( list(groupy_plot[(groupy_plot['Video Type']=='Fake Attention')\n",
    "                                             &(groupy_plot['Participant Judgement']=='Judged Real')]['run']),\n",
    "                            \n",
    "                             list(groupy_plot[(groupy_plot['Video Type']=='Real Attention')\n",
    "                                             &(groupy_plot['Participant Judgement']=='Judged Fake')]['run']) ))\n"
   ]
  },
  {
   "cell_type": "markdown",
   "id": "605f11b9",
   "metadata": {},
   "source": [
    "We see, above, that real videos judged real are a significantly higher proportion of trials than any other. \n",
    "\n",
    "Fake judged fake are also higher than real judged fake.\n",
    "\n",
    "And, finally, Fake videos judged real are significantly more than real videos judged as fake."
   ]
  },
  {
   "cell_type": "markdown",
   "id": "b0e0815c",
   "metadata": {},
   "source": [
    "### Let's also obtain / look at the proportion correct"
   ]
  },
  {
   "cell_type": "code",
   "execution_count": 34,
   "id": "2817784b",
   "metadata": {},
   "outputs": [],
   "source": [
    "proportion_data = {'data':[], \n",
    "                   'type':[],\n",
    "                   'vid_type':[]\n",
    "                  }\n",
    "\n",
    "for p in new_data['participant'].unique():\n",
    "    \n",
    "    k_1 = new_data[(new_data['participant']==p) \n",
    "                   & ~(new_data['Participant Judgement'].isna())\n",
    "                   &  (new_data['Video Type']=='Real Attention')\n",
    "                  ]\n",
    "    \n",
    "    k_2 = new_data[(new_data['participant']==p) \n",
    "                   & ~(new_data['Participant Judgement'].isna())\n",
    "                   &  (new_data['Video Type']=='Fake Attention')]\n",
    "    \n",
    "    full_shape_1  = k_1.shape[0]\n",
    "    full_shape_2  = k_2.shape[0]\n",
    "    \n",
    "    hit_shape     = k_1[k_1['response_type']=='Hit'].shape[0]\n",
    "    miss_shape    = k_1[k_1['response_type']=='Miss'].shape[0]\n",
    "    fa_shape      = k_2[k_2['response_type']=='False Alarm'].shape[0] \n",
    "    cr_shape      = k_2[k_2['response_type']=='Correct Reject'].shape[0]\n",
    "\n",
    "    proportion_data['data'].append(hit_shape/full_shape_1)\n",
    "    proportion_data['vid_type'].append('Real')\n",
    "    proportion_data['type'].append('Judged Real')\n",
    "    \n",
    "    proportion_data['data'].append(miss_shape/full_shape_1)\n",
    "    proportion_data['vid_type'].append('Real')\n",
    "    proportion_data['type'].append('Judged Fake')\n",
    "    \n",
    "    proportion_data['data'].append(fa_shape/full_shape_2)\n",
    "    proportion_data['vid_type'].append('Fake')\n",
    "    proportion_data['type'].append('Judged Real')\n",
    "    \n",
    "    proportion_data['data'].append(cr_shape/full_shape_2)\n",
    "    proportion_data['vid_type'].append('Fake')\n",
    "    proportion_data['type'].append('Judged Fake')\n",
    "    "
   ]
  },
  {
   "cell_type": "code",
   "execution_count": 35,
   "id": "e271b52e",
   "metadata": {},
   "outputs": [
    {
     "data": {
      "text/html": [
       "<div>\n",
       "<style scoped>\n",
       "    .dataframe tbody tr th:only-of-type {\n",
       "        vertical-align: middle;\n",
       "    }\n",
       "\n",
       "    .dataframe tbody tr th {\n",
       "        vertical-align: top;\n",
       "    }\n",
       "\n",
       "    .dataframe thead th {\n",
       "        text-align: right;\n",
       "    }\n",
       "</style>\n",
       "<table border=\"1\" class=\"dataframe\">\n",
       "  <thead>\n",
       "    <tr style=\"text-align: right;\">\n",
       "      <th></th>\n",
       "      <th>data</th>\n",
       "      <th>type</th>\n",
       "      <th>vid_type</th>\n",
       "    </tr>\n",
       "  </thead>\n",
       "  <tbody>\n",
       "    <tr>\n",
       "      <th>0</th>\n",
       "      <td>0.827586</td>\n",
       "      <td>Judged Real</td>\n",
       "      <td>Real</td>\n",
       "    </tr>\n",
       "    <tr>\n",
       "      <th>1</th>\n",
       "      <td>0.172414</td>\n",
       "      <td>Judged Fake</td>\n",
       "      <td>Real</td>\n",
       "    </tr>\n",
       "    <tr>\n",
       "      <th>2</th>\n",
       "      <td>0.735849</td>\n",
       "      <td>Judged Real</td>\n",
       "      <td>Fake</td>\n",
       "    </tr>\n",
       "    <tr>\n",
       "      <th>3</th>\n",
       "      <td>0.264151</td>\n",
       "      <td>Judged Fake</td>\n",
       "      <td>Fake</td>\n",
       "    </tr>\n",
       "    <tr>\n",
       "      <th>4</th>\n",
       "      <td>0.813559</td>\n",
       "      <td>Judged Real</td>\n",
       "      <td>Real</td>\n",
       "    </tr>\n",
       "  </tbody>\n",
       "</table>\n",
       "</div>"
      ],
      "text/plain": [
       "       data         type vid_type\n",
       "0  0.827586  Judged Real     Real\n",
       "1  0.172414  Judged Fake     Real\n",
       "2  0.735849  Judged Real     Fake\n",
       "3  0.264151  Judged Fake     Fake\n",
       "4  0.813559  Judged Real     Real"
      ]
     },
     "execution_count": 35,
     "metadata": {},
     "output_type": "execute_result"
    }
   ],
   "source": [
    "prop_df = pd.DataFrame(proportion_data)\n",
    "prop_df.head()"
   ]
  },
  {
   "cell_type": "code",
   "execution_count": 36,
   "id": "02d3d0e3",
   "metadata": {},
   "outputs": [
    {
     "data": {
      "text/plain": [
       "<Axes: xlabel='vid_type', ylabel='data'>"
      ]
     },
     "execution_count": 36,
     "metadata": {},
     "output_type": "execute_result"
    },
    {
     "data": {
      "image/png": "[encoded data removed]",
      "text/plain": [
       "<Figure size 640x480 with 1 Axes>"
      ]
     },
     "metadata": {},
     "output_type": "display_data"
    }
   ],
   "source": [
    "sb.barplot(data=prop_df, x='vid_type', y='data', hue='type')"
   ]
  },
  {
   "cell_type": "code",
   "execution_count": 37,
   "id": "0904edc8",
   "metadata": {},
   "outputs": [
    {
     "data": {
      "text/html": [
       "<div>\n",
       "<style scoped>\n",
       "    .dataframe tbody tr th:only-of-type {\n",
       "        vertical-align: middle;\n",
       "    }\n",
       "\n",
       "    .dataframe tbody tr th {\n",
       "        vertical-align: top;\n",
       "    }\n",
       "\n",
       "    .dataframe thead th {\n",
       "        text-align: right;\n",
       "    }\n",
       "</style>\n",
       "<table border=\"1\" class=\"dataframe\">\n",
       "  <thead>\n",
       "    <tr style=\"text-align: right;\">\n",
       "      <th></th>\n",
       "      <th>vid_type</th>\n",
       "      <th>type</th>\n",
       "      <th>data</th>\n",
       "    </tr>\n",
       "  </thead>\n",
       "  <tbody>\n",
       "    <tr>\n",
       "      <th>0</th>\n",
       "      <td>Fake</td>\n",
       "      <td>Judged Fake</td>\n",
       "      <td>0.465177</td>\n",
       "    </tr>\n",
       "    <tr>\n",
       "      <th>1</th>\n",
       "      <td>Fake</td>\n",
       "      <td>Judged Real</td>\n",
       "      <td>0.534823</td>\n",
       "    </tr>\n",
       "    <tr>\n",
       "      <th>2</th>\n",
       "      <td>Real</td>\n",
       "      <td>Judged Fake</td>\n",
       "      <td>0.253484</td>\n",
       "    </tr>\n",
       "    <tr>\n",
       "      <th>3</th>\n",
       "      <td>Real</td>\n",
       "      <td>Judged Real</td>\n",
       "      <td>0.746516</td>\n",
       "    </tr>\n",
       "  </tbody>\n",
       "</table>\n",
       "</div>"
      ],
      "text/plain": [
       "  vid_type         type      data\n",
       "0     Fake  Judged Fake  0.465177\n",
       "1     Fake  Judged Real  0.534823\n",
       "2     Real  Judged Fake  0.253484\n",
       "3     Real  Judged Real  0.746516"
      ]
     },
     "execution_count": 37,
     "metadata": {},
     "output_type": "execute_result"
    }
   ],
   "source": [
    "gr = prop_df.groupby(['vid_type','type'],as_index=False).mean()\n",
    "gr"
   ]
  },
  {
   "cell_type": "code",
   "execution_count": 38,
   "id": "75afd9fd",
   "metadata": {},
   "outputs": [
    {
     "data": {
      "text/plain": [
       "0.5348233890078108"
      ]
     },
     "execution_count": 38,
     "metadata": {},
     "output_type": "execute_result"
    }
   ],
   "source": [
    "gr.iloc[1]['data'] #- gr.iloc[0]['data']"
   ]
  },
  {
   "cell_type": "code",
   "execution_count": 39,
   "id": "05d73318",
   "metadata": {},
   "outputs": [
    {
     "data": {
      "text/plain": [
       "0.7465155238745909"
      ]
     },
     "execution_count": 39,
     "metadata": {},
     "output_type": "execute_result"
    }
   ],
   "source": [
    "gr.iloc[3]['data'] #- gr.iloc[2]['data']"
   ]
  },
  {
   "cell_type": "markdown",
   "id": "610cf02c",
   "metadata": {},
   "source": [
    "### How many \"fake\" judgements for the average participant?"
   ]
  },
  {
   "cell_type": "code",
   "execution_count": 40,
   "id": "e4761518",
   "metadata": {},
   "outputs": [
    {
     "name": "stdout",
     "output_type": "stream",
     "text": [
      "41.40909090909091\n",
      "11.030948199580044\n"
     ]
    }
   ],
   "source": [
    "n  = new_data.groupby(['participant','Participant Judgement'],as_index=False).count()\n",
    "nn = n[n['Participant Judgement'] == 'Judged Fake'] \n",
    "\n",
    "print(nn['run'].mean())\n",
    "print(nn['run'].std())"
   ]
  },
  {
   "cell_type": "code",
   "execution_count": 41,
   "id": "21bea9ad",
   "metadata": {},
   "outputs": [],
   "source": [
    "this_list  = list(nn['run'])\n",
    "this_listo = this_list + [8]"
   ]
  },
  {
   "cell_type": "code",
   "execution_count": 42,
   "id": "e235fa26",
   "metadata": {},
   "outputs": [
    {
     "data": {
      "text/plain": [
       "<Axes: ylabel='run'>"
      ]
     },
     "execution_count": 42,
     "metadata": {},
     "output_type": "execute_result"
    },
    {
     "data": {
      "image/png": "[encoded data removed]",
      "text/plain": [
       "<Figure size 640x480 with 1 Axes>"
      ]
     },
     "metadata": {},
     "output_type": "display_data"
    }
   ],
   "source": [
    "sb.boxplot(nn['run'])"
   ]
  },
  {
   "cell_type": "code",
   "execution_count": 43,
   "id": "afa30c44",
   "metadata": {},
   "outputs": [
    {
     "data": {
      "text/plain": [
       "<Axes: >"
      ]
     },
     "execution_count": 43,
     "metadata": {},
     "output_type": "execute_result"
    },
    {
     "data": {
      "image/png": "[encoded data removed]",
      "text/plain": [
       "<Figure size 640x480 with 1 Axes>"
      ]
     },
     "metadata": {},
     "output_type": "display_data"
    }
   ],
   "source": [
    "sb.boxplot(this_listo)"
   ]
  },
  {
   "cell_type": "code",
   "execution_count": 44,
   "id": "0c40fcb1",
   "metadata": {
    "scrolled": false
   },
   "outputs": [],
   "source": [
    "# sb.set(font_scale=2)\n",
    "# sb.set_style(\"white\")\n",
    "\n",
    "\n",
    "# plot_data['percent'] = plot_data['run']/60\n",
    "# ax=sb.barplot(data=plot_data, x='Video Type',y='percent', hue='Participant Judgement')\n",
    "\n",
    "# sb.move_legend(ax, \"upper left\", bbox_to_anchor=(1, 1))\n",
    "# plt.savefig('behavior_bar_updated.pdf',bbox_inches='tight')"
   ]
  },
  {
   "cell_type": "code",
   "execution_count": 45,
   "id": "1badc4e2",
   "metadata": {},
   "outputs": [
    {
     "data": {
      "text/html": [
       "<div>\n",
       "<style scoped>\n",
       "    .dataframe tbody tr th:only-of-type {\n",
       "        vertical-align: middle;\n",
       "    }\n",
       "\n",
       "    .dataframe tbody tr th {\n",
       "        vertical-align: top;\n",
       "    }\n",
       "\n",
       "    .dataframe thead th {\n",
       "        text-align: right;\n",
       "    }\n",
       "</style>\n",
       "<table border=\"1\" class=\"dataframe\">\n",
       "  <thead>\n",
       "    <tr style=\"text-align: right;\">\n",
       "      <th></th>\n",
       "      <th>run</th>\n",
       "      <th>start_time</th>\n",
       "      <th>type</th>\n",
       "      <th>moviestim</th>\n",
       "      <th>jitters</th>\n",
       "      <th>frames</th>\n",
       "      <th>trials.thisRepN</th>\n",
       "      <th>trials.thisTrialN</th>\n",
       "      <th>trials.thisN</th>\n",
       "      <th>trials.thisIndex</th>\n",
       "      <th>...</th>\n",
       "      <th>psychopyVersion</th>\n",
       "      <th>frameRate</th>\n",
       "      <th>Unnamed: 31</th>\n",
       "      <th>response_type</th>\n",
       "      <th>response_value</th>\n",
       "      <th>unanswered</th>\n",
       "      <th>Unnamed: 30</th>\n",
       "      <th>Video Type</th>\n",
       "      <th>Participant Judgement</th>\n",
       "      <th>Judged Correctly</th>\n",
       "    </tr>\n",
       "  </thead>\n",
       "  <tbody>\n",
       "    <tr>\n",
       "      <th>1</th>\n",
       "      <td>2.0</td>\n",
       "      <td>10.00</td>\n",
       "      <td>scrambled</td>\n",
       "      <td>fps_60/150296.bmp_pp97_L3_V1_scrambled_freevie...</td>\n",
       "      <td>10.00</td>\n",
       "      <td>NaN</td>\n",
       "      <td>0.0</td>\n",
       "      <td>0.0</td>\n",
       "      <td>0.0</td>\n",
       "      <td>0.0</td>\n",
       "      <td>...</td>\n",
       "      <td>2023.1.2</td>\n",
       "      <td>60.008161</td>\n",
       "      <td>NaN</td>\n",
       "      <td>False Alarm</td>\n",
       "      <td>1</td>\n",
       "      <td>NaN</td>\n",
       "      <td>NaN</td>\n",
       "      <td>Fake Attention</td>\n",
       "      <td>Judged Real</td>\n",
       "      <td>Wrong</td>\n",
       "    </tr>\n",
       "    <tr>\n",
       "      <th>2</th>\n",
       "      <td>2.0</td>\n",
       "      <td>18.86</td>\n",
       "      <td>veridical</td>\n",
       "      <td>fps_60/713519.bmp_pp84_L3_V1_veridical_freevie...</td>\n",
       "      <td>2.86</td>\n",
       "      <td>NaN</td>\n",
       "      <td>0.0</td>\n",
       "      <td>1.0</td>\n",
       "      <td>1.0</td>\n",
       "      <td>1.0</td>\n",
       "      <td>...</td>\n",
       "      <td>2023.1.2</td>\n",
       "      <td>60.008161</td>\n",
       "      <td>NaN</td>\n",
       "      <td>Hit</td>\n",
       "      <td>1</td>\n",
       "      <td>NaN</td>\n",
       "      <td>NaN</td>\n",
       "      <td>Real Attention</td>\n",
       "      <td>Judged Real</td>\n",
       "      <td>Correct</td>\n",
       "    </tr>\n",
       "    <tr>\n",
       "      <th>3</th>\n",
       "      <td>2.0</td>\n",
       "      <td>27.91</td>\n",
       "      <td>scrambled</td>\n",
       "      <td>fps_60/1159819.bmp_pp63_L1_V1_scrambled_freevi...</td>\n",
       "      <td>3.05</td>\n",
       "      <td>NaN</td>\n",
       "      <td>0.0</td>\n",
       "      <td>2.0</td>\n",
       "      <td>2.0</td>\n",
       "      <td>2.0</td>\n",
       "      <td>...</td>\n",
       "      <td>2023.1.2</td>\n",
       "      <td>60.008161</td>\n",
       "      <td>NaN</td>\n",
       "      <td>False Alarm</td>\n",
       "      <td>1</td>\n",
       "      <td>NaN</td>\n",
       "      <td>NaN</td>\n",
       "      <td>Fake Attention</td>\n",
       "      <td>Judged Real</td>\n",
       "      <td>Wrong</td>\n",
       "    </tr>\n",
       "  </tbody>\n",
       "</table>\n",
       "<p>3 rows × 39 columns</p>\n",
       "</div>"
      ],
      "text/plain": [
       "   run  start_time       type  \\\n",
       "1  2.0       10.00  scrambled   \n",
       "2  2.0       18.86  veridical   \n",
       "3  2.0       27.91  scrambled   \n",
       "\n",
       "                                           moviestim  jitters  frames  \\\n",
       "1  fps_60/150296.bmp_pp97_L3_V1_scrambled_freevie...    10.00     NaN   \n",
       "2  fps_60/713519.bmp_pp84_L3_V1_veridical_freevie...     2.86     NaN   \n",
       "3  fps_60/1159819.bmp_pp63_L1_V1_scrambled_freevi...     3.05     NaN   \n",
       "\n",
       "   trials.thisRepN  trials.thisTrialN  trials.thisN  trials.thisIndex  ...  \\\n",
       "1              0.0                0.0           0.0               0.0  ...   \n",
       "2              0.0                1.0           1.0               1.0  ...   \n",
       "3              0.0                2.0           2.0               2.0  ...   \n",
       "\n",
       "   psychopyVersion  frameRate Unnamed: 31 response_type  response_value  \\\n",
       "1         2023.1.2  60.008161         NaN   False Alarm               1   \n",
       "2         2023.1.2  60.008161         NaN           Hit               1   \n",
       "3         2023.1.2  60.008161         NaN   False Alarm               1   \n",
       "\n",
       "   unanswered  Unnamed: 30      Video Type  Participant Judgement  \\\n",
       "1         NaN          NaN  Fake Attention            Judged Real   \n",
       "2         NaN          NaN  Real Attention            Judged Real   \n",
       "3         NaN          NaN  Fake Attention            Judged Real   \n",
       "\n",
       "   Judged Correctly  \n",
       "1             Wrong  \n",
       "2           Correct  \n",
       "3             Wrong  \n",
       "\n",
       "[3 rows x 39 columns]"
      ]
     },
     "execution_count": 45,
     "metadata": {},
     "output_type": "execute_result"
    }
   ],
   "source": [
    "new_data.head(n=3)"
   ]
  },
  {
   "cell_type": "code",
   "execution_count": 46,
   "id": "bcc6eae7",
   "metadata": {},
   "outputs": [
    {
     "data": {
      "text/html": [
       "<div>\n",
       "<style scoped>\n",
       "    .dataframe tbody tr th:only-of-type {\n",
       "        vertical-align: middle;\n",
       "    }\n",
       "\n",
       "    .dataframe tbody tr th {\n",
       "        vertical-align: top;\n",
       "    }\n",
       "\n",
       "    .dataframe thead th {\n",
       "        text-align: right;\n",
       "    }\n",
       "</style>\n",
       "<table border=\"1\" class=\"dataframe\">\n",
       "  <thead>\n",
       "    <tr style=\"text-align: right;\">\n",
       "      <th></th>\n",
       "      <th>run</th>\n",
       "      <th>start_time</th>\n",
       "      <th>type</th>\n",
       "      <th>moviestim</th>\n",
       "      <th>jitters</th>\n",
       "      <th>frames</th>\n",
       "      <th>trials.thisRepN</th>\n",
       "      <th>trials.thisTrialN</th>\n",
       "      <th>trials.thisN</th>\n",
       "      <th>trials.thisIndex</th>\n",
       "      <th>...</th>\n",
       "      <th>psychopyVersion</th>\n",
       "      <th>frameRate</th>\n",
       "      <th>Unnamed: 31</th>\n",
       "      <th>response_type</th>\n",
       "      <th>response_value</th>\n",
       "      <th>unanswered</th>\n",
       "      <th>Unnamed: 30</th>\n",
       "      <th>Video Type</th>\n",
       "      <th>Participant Judgement</th>\n",
       "      <th>Judged Correctly</th>\n",
       "    </tr>\n",
       "  </thead>\n",
       "  <tbody>\n",
       "    <tr>\n",
       "      <th>0</th>\n",
       "      <td>1.0</td>\n",
       "      <td>20</td>\n",
       "      <td>20</td>\n",
       "      <td>20</td>\n",
       "      <td>20</td>\n",
       "      <td>0</td>\n",
       "      <td>20</td>\n",
       "      <td>20</td>\n",
       "      <td>20</td>\n",
       "      <td>20</td>\n",
       "      <td>...</td>\n",
       "      <td>20</td>\n",
       "      <td>20</td>\n",
       "      <td>0</td>\n",
       "      <td>20</td>\n",
       "      <td>20</td>\n",
       "      <td>0</td>\n",
       "      <td>0</td>\n",
       "      <td>20</td>\n",
       "      <td>20</td>\n",
       "      <td>20</td>\n",
       "    </tr>\n",
       "    <tr>\n",
       "      <th>1</th>\n",
       "      <td>2.0</td>\n",
       "      <td>20</td>\n",
       "      <td>20</td>\n",
       "      <td>20</td>\n",
       "      <td>20</td>\n",
       "      <td>0</td>\n",
       "      <td>20</td>\n",
       "      <td>20</td>\n",
       "      <td>20</td>\n",
       "      <td>20</td>\n",
       "      <td>...</td>\n",
       "      <td>20</td>\n",
       "      <td>20</td>\n",
       "      <td>0</td>\n",
       "      <td>20</td>\n",
       "      <td>20</td>\n",
       "      <td>0</td>\n",
       "      <td>0</td>\n",
       "      <td>20</td>\n",
       "      <td>20</td>\n",
       "      <td>20</td>\n",
       "    </tr>\n",
       "    <tr>\n",
       "      <th>2</th>\n",
       "      <td>3.0</td>\n",
       "      <td>20</td>\n",
       "      <td>20</td>\n",
       "      <td>20</td>\n",
       "      <td>20</td>\n",
       "      <td>0</td>\n",
       "      <td>20</td>\n",
       "      <td>20</td>\n",
       "      <td>20</td>\n",
       "      <td>20</td>\n",
       "      <td>...</td>\n",
       "      <td>20</td>\n",
       "      <td>20</td>\n",
       "      <td>0</td>\n",
       "      <td>20</td>\n",
       "      <td>20</td>\n",
       "      <td>0</td>\n",
       "      <td>0</td>\n",
       "      <td>20</td>\n",
       "      <td>20</td>\n",
       "      <td>20</td>\n",
       "    </tr>\n",
       "    <tr>\n",
       "      <th>3</th>\n",
       "      <td>4.0</td>\n",
       "      <td>20</td>\n",
       "      <td>20</td>\n",
       "      <td>20</td>\n",
       "      <td>20</td>\n",
       "      <td>0</td>\n",
       "      <td>20</td>\n",
       "      <td>20</td>\n",
       "      <td>20</td>\n",
       "      <td>20</td>\n",
       "      <td>...</td>\n",
       "      <td>20</td>\n",
       "      <td>20</td>\n",
       "      <td>0</td>\n",
       "      <td>20</td>\n",
       "      <td>20</td>\n",
       "      <td>0</td>\n",
       "      <td>0</td>\n",
       "      <td>20</td>\n",
       "      <td>20</td>\n",
       "      <td>20</td>\n",
       "    </tr>\n",
       "    <tr>\n",
       "      <th>4</th>\n",
       "      <td>5.0</td>\n",
       "      <td>20</td>\n",
       "      <td>20</td>\n",
       "      <td>20</td>\n",
       "      <td>20</td>\n",
       "      <td>0</td>\n",
       "      <td>20</td>\n",
       "      <td>20</td>\n",
       "      <td>20</td>\n",
       "      <td>20</td>\n",
       "      <td>...</td>\n",
       "      <td>20</td>\n",
       "      <td>20</td>\n",
       "      <td>0</td>\n",
       "      <td>20</td>\n",
       "      <td>20</td>\n",
       "      <td>0</td>\n",
       "      <td>0</td>\n",
       "      <td>20</td>\n",
       "      <td>20</td>\n",
       "      <td>20</td>\n",
       "    </tr>\n",
       "    <tr>\n",
       "      <th>5</th>\n",
       "      <td>6.0</td>\n",
       "      <td>20</td>\n",
       "      <td>20</td>\n",
       "      <td>20</td>\n",
       "      <td>20</td>\n",
       "      <td>0</td>\n",
       "      <td>20</td>\n",
       "      <td>20</td>\n",
       "      <td>20</td>\n",
       "      <td>20</td>\n",
       "      <td>...</td>\n",
       "      <td>20</td>\n",
       "      <td>20</td>\n",
       "      <td>0</td>\n",
       "      <td>20</td>\n",
       "      <td>20</td>\n",
       "      <td>0</td>\n",
       "      <td>0</td>\n",
       "      <td>20</td>\n",
       "      <td>20</td>\n",
       "      <td>20</td>\n",
       "    </tr>\n",
       "  </tbody>\n",
       "</table>\n",
       "<p>6 rows × 39 columns</p>\n",
       "</div>"
      ],
      "text/plain": [
       "   run  start_time  type  moviestim  jitters  frames  trials.thisRepN  \\\n",
       "0  1.0          20    20         20       20       0               20   \n",
       "1  2.0          20    20         20       20       0               20   \n",
       "2  3.0          20    20         20       20       0               20   \n",
       "3  4.0          20    20         20       20       0               20   \n",
       "4  5.0          20    20         20       20       0               20   \n",
       "5  6.0          20    20         20       20       0               20   \n",
       "\n",
       "   trials.thisTrialN  trials.thisN  trials.thisIndex  ...  psychopyVersion  \\\n",
       "0                 20            20                20  ...               20   \n",
       "1                 20            20                20  ...               20   \n",
       "2                 20            20                20  ...               20   \n",
       "3                 20            20                20  ...               20   \n",
       "4                 20            20                20  ...               20   \n",
       "5                 20            20                20  ...               20   \n",
       "\n",
       "   frameRate  Unnamed: 31  response_type  response_value  unanswered  \\\n",
       "0         20            0             20              20           0   \n",
       "1         20            0             20              20           0   \n",
       "2         20            0             20              20           0   \n",
       "3         20            0             20              20           0   \n",
       "4         20            0             20              20           0   \n",
       "5         20            0             20              20           0   \n",
       "\n",
       "   Unnamed: 30  Video Type  Participant Judgement  Judged Correctly  \n",
       "0            0          20                     20                20  \n",
       "1            0          20                     20                20  \n",
       "2            0          20                     20                20  \n",
       "3            0          20                     20                20  \n",
       "4            0          20                     20                20  \n",
       "5            0          20                     20                20  \n",
       "\n",
       "[6 rows x 39 columns]"
      ]
     },
     "execution_count": 46,
     "metadata": {},
     "output_type": "execute_result"
    }
   ],
   "source": [
    "new_data[new_data['participant']=='subject_12'].groupby(['run'],as_index=False).count()"
   ]
  },
  {
   "cell_type": "raw",
   "id": "8fd1dff9",
   "metadata": {},
   "source": [
    "new_data[~(new_data['response_type'].isna()) & (new_data['participant']=='subject_12')].shape[0]"
   ]
  },
  {
   "cell_type": "markdown",
   "id": "9b9c794e",
   "metadata": {},
   "source": [
    "### Now, let's plot d-prime"
   ]
  },
  {
   "cell_type": "code",
   "execution_count": 47,
   "id": "04191724",
   "metadata": {},
   "outputs": [],
   "source": [
    "def add_dprime(data):\n",
    "    '''\n",
    "    adds dprime column to dataframe with dprime values for each subject\n",
    "    '''\n",
    "    \n",
    "    # make new d-prime column in the data\n",
    "    data['dprime'] = np.nan\n",
    "    \n",
    "    # for each subject in the df:\n",
    "    for p in data['participant'].unique():\n",
    "    \n",
    "        # get the number of trials they responded to\n",
    "        responses = new_data[~(new_data['response_type'].isna()) & (new_data['participant']==p)].shape[0]\n",
    "        \n",
    "        # get number of hits, misses, false alarms, correct rejections\n",
    "        hit  = new_data[(new_data['response_type']=='Hit') & (new_data['participant']==p)].shape[0]\n",
    "        miss = new_data[(new_data['response_type']=='Miss') & (new_data['participant']==p)].shape[0]\n",
    "        fa   = new_data[(new_data['response_type']=='False Alarm') & (new_data['participant']==p)].shape[0]\n",
    "        cr   = new_data[(new_data['response_type']=='Correct Reject') & (new_data['participant']==p)].shape[0]\n",
    "        \n",
    "        # calculate hit rate\n",
    "        hit_rate = hit / new_data[(new_data['participant']==p)\n",
    "                                  & (new_data['Video Type']=='Real Attention')\n",
    "                                  & ~(new_data['response_type'].isna())\n",
    "                                 ].shape[0]\n",
    "        \n",
    "        # calculate false alarm rate\n",
    "        fa_rate = fa / new_data[(new_data['participant']==p) \n",
    "                                & (new_data['Video Type']=='Fake Attention')\n",
    "                                & ~(new_data['response_type'].isna())\n",
    "                               ].shape[0]\n",
    "        \n",
    "        # calculate d-prime\n",
    "        d_prime = scipy.stats.norm.ppf(hit_rate) - scipy.stats.norm.ppf(fa_rate)\n",
    "        \n",
    "        # add d-prime value to d-prime column for all rows for that participant\n",
    "        data.loc[data['participant']==p,'dprime'] = d_prime\n",
    "        \n",
    "    return(data)"
   ]
  },
  {
   "cell_type": "code",
   "execution_count": 48,
   "id": "9e1897f1",
   "metadata": {},
   "outputs": [],
   "source": [
    "d_prime_data = add_dprime(new_data)"
   ]
  },
  {
   "cell_type": "code",
   "execution_count": 49,
   "id": "a6ce8edf",
   "metadata": {},
   "outputs": [],
   "source": [
    "plot_prime = d_prime_data.groupby(['participant'],as_index=False)['dprime'].mean()"
   ]
  },
  {
   "cell_type": "code",
   "execution_count": 50,
   "id": "d96efa3e",
   "metadata": {},
   "outputs": [
    {
     "data": {
      "image/png": "[encoded data removed]",
      "text/plain": [
       "<Figure size 640x480 with 1 Axes>"
      ]
     },
     "metadata": {},
     "output_type": "display_data"
    }
   ],
   "source": [
    "sb.violinplot(plot_prime, inner=None, color='lightgray')\n",
    "sb.swarmplot(plot_prime, color='white', size=7)\n",
    "plt.hlines(y=0, xmin=-.5,xmax=.5, color='k', linestyle='--')\n",
    "plt.savefig('dprime_light.pdf')"
   ]
  },
  {
   "cell_type": "code",
   "execution_count": 51,
   "id": "0ad8ca5e",
   "metadata": {},
   "outputs": [],
   "source": [
    "# plot_prime"
   ]
  },
  {
   "cell_type": "code",
   "execution_count": 52,
   "id": "635de386",
   "metadata": {},
   "outputs": [
    {
     "data": {
      "text/plain": [
       "TtestResult(statistic=5.216519878104152, pvalue=3.601047848404385e-05, df=21)"
      ]
     },
     "execution_count": 52,
     "metadata": {},
     "output_type": "execute_result"
    }
   ],
   "source": [
    "scipy.stats.ttest_1samp(plot_prime['dprime'],0)"
   ]
  },
  {
   "cell_type": "code",
   "execution_count": 53,
   "id": "b90d447c",
   "metadata": {},
   "outputs": [],
   "source": [
    "# plot_prime.to_csv('dprime.csv')"
   ]
  },
  {
   "cell_type": "markdown",
   "id": "66bf1b9e",
   "metadata": {},
   "source": [
    "### Reaction times for \"fake\" and \"real\" judgements"
   ]
  },
  {
   "cell_type": "code",
   "execution_count": 54,
   "id": "65377902",
   "metadata": {},
   "outputs": [
    {
     "data": {
      "text/plain": [
       "22"
      ]
     },
     "execution_count": 54,
     "metadata": {},
     "output_type": "execute_result"
    }
   ],
   "source": [
    "len(list(new_data['participant'].unique()))"
   ]
  },
  {
   "cell_type": "code",
   "execution_count": 55,
   "id": "f5311cb0",
   "metadata": {},
   "outputs": [
    {
     "data": {
      "text/plain": [
       "Index(['run', 'start_time', 'type', 'moviestim', 'jitters', 'frames',\n",
       "       'trials.thisRepN', 'trials.thisTrialN', 'trials.thisN',\n",
       "       'trials.thisIndex', 'fix1.started', 'welcome_key.started',\n",
       "       'welcome_key.keys', 'welcome_key.rt', 'fix3.started', 'fix3.stopped',\n",
       "       'movie.started', 'text_15.started', 'key_resp_9.started',\n",
       "       'text_15.stopped', 'key_resp_9.stopped', 'key_resp_9.keys',\n",
       "       'key_resp_9.rt', 'fix4.started', 'fix4.stopped', 'participant',\n",
       "       'session', 'date', 'expName', 'psychopyVersion', 'frameRate',\n",
       "       'Unnamed: 31', 'response_type', 'response_value', 'unanswered',\n",
       "       'Unnamed: 30', 'Video Type', 'Participant Judgement',\n",
       "       'Judged Correctly', 'dprime'],\n",
       "      dtype='object')"
      ]
     },
     "execution_count": 55,
     "metadata": {},
     "output_type": "execute_result"
    }
   ],
   "source": [
    "new_data.columns"
   ]
  },
  {
   "cell_type": "code",
   "execution_count": 56,
   "id": "19e1d27b",
   "metadata": {},
   "outputs": [],
   "source": [
    "x = new_data.groupby(['participant','response_value'],as_index=False).mean(['participant'])"
   ]
  },
  {
   "cell_type": "code",
   "execution_count": 57,
   "id": "367a0df3",
   "metadata": {},
   "outputs": [
    {
     "data": {
      "text/plain": [
       "Index(['participant', 'response_value', 'run', 'start_time', 'jitters',\n",
       "       'frames', 'trials.thisRepN', 'trials.thisTrialN', 'trials.thisN',\n",
       "       'trials.thisIndex', 'fix1.started', 'welcome_key.started',\n",
       "       'fix3.started', 'fix3.stopped', 'movie.started', 'text_15.started',\n",
       "       'key_resp_9.started', 'text_15.stopped', 'key_resp_9.stopped',\n",
       "       'fix4.started', 'fix4.stopped', 'session', 'frameRate', 'Unnamed: 31',\n",
       "       'Unnamed: 30', 'dprime'],\n",
       "      dtype='object')"
      ]
     },
     "execution_count": 57,
     "metadata": {},
     "output_type": "execute_result"
    }
   ],
   "source": [
    "x.columns"
   ]
  },
  {
   "cell_type": "code",
   "execution_count": 58,
   "id": "be47fd7b",
   "metadata": {},
   "outputs": [
    {
     "data": {
      "text/plain": [
       "'[0.6668479000218213]'"
      ]
     },
     "execution_count": 58,
     "metadata": {},
     "output_type": "execute_result"
    }
   ],
   "source": [
    "list(new_data['key_resp_9.rt'][1])[0]"
   ]
  },
  {
   "cell_type": "code",
   "execution_count": 59,
   "id": "f5ce98e8",
   "metadata": {},
   "outputs": [],
   "source": [
    "reaction_times = []\n",
    "\n",
    "for orig in list(new_data['key_resp_9.rt']):\n",
    "    \n",
    "    if type(orig) == str:\n",
    "        reaction_times.append(float(orig[1:-1].split(', ')[0]))\n",
    "    else:\n",
    "        reaction_times.append(orig)\n",
    "\n",
    "# rts = [ x[1:17] for x in list(new_data['key_resp_9.rt']) if len(x) > 0]"
   ]
  },
  {
   "cell_type": "code",
   "execution_count": 60,
   "id": "8c68e2f6",
   "metadata": {
    "scrolled": false
   },
   "outputs": [],
   "source": [
    "new_data['single_rt'] = reaction_times"
   ]
  },
  {
   "cell_type": "code",
   "execution_count": 61,
   "id": "d0f3a3ae",
   "metadata": {},
   "outputs": [],
   "source": [
    "dat = new_data.groupby(['participant','response_value'],as_index=False).mean('?')[['participant','response_value','single_rt']]"
   ]
  },
  {
   "cell_type": "code",
   "execution_count": 62,
   "id": "60e8d1ca",
   "metadata": {},
   "outputs": [
    {
     "data": {
      "text/plain": [
       "<Axes: xlabel='response_value', ylabel='single_rt'>"
      ]
     },
     "execution_count": 62,
     "metadata": {},
     "output_type": "execute_result"
    },
    {
     "data": {
      "image/png": "[encoded data removed]",
      "text/plain": [
       "<Figure size 640x480 with 1 Axes>"
      ]
     },
     "metadata": {},
     "output_type": "display_data"
    }
   ],
   "source": [
    "sb.violinplot(data=dat, x='response_value', y='single_rt', inner=None)\n",
    "sb.swarmplot(data=dat, x='response_value', y='single_rt')#, inner=None)"
   ]
  },
  {
   "cell_type": "code",
   "execution_count": 63,
   "id": "6ae64c33",
   "metadata": {},
   "outputs": [
    {
     "data": {
      "text/plain": [
       "<Axes: xlabel='response_type', ylabel='single_rt'>"
      ]
     },
     "execution_count": 63,
     "metadata": {},
     "output_type": "execute_result"
    },
    {
     "data": {
      "image/png": "[encoded data removed]",
      "text/plain": [
       "<Figure size 640x480 with 1 Axes>"
      ]
     },
     "metadata": {},
     "output_type": "display_data"
    }
   ],
   "source": [
    "dat = new_data.groupby(['participant','response_type','response_value','type'],as_index=False).mean('?')[['participant','response_type','response_value','single_rt','type']]\n",
    "\n",
    "#dat = new_data.groupby(['participant','response_value'],as_index=False).mean('?')[['participant','response_value','single_rt']]\n",
    "\n",
    "sb.violinplot(data=dat, x='response_type', y='single_rt', inner=None)\n",
    "sb.swarmplot(data=dat, x='response_type', y='single_rt')#, inner=None)"
   ]
  },
  {
   "cell_type": "code",
   "execution_count": 64,
   "id": "72a4f6eb",
   "metadata": {},
   "outputs": [],
   "source": [
    "# new_data"
   ]
  },
  {
   "cell_type": "code",
   "execution_count": 65,
   "id": "27346032",
   "metadata": {},
   "outputs": [
    {
     "data": {
      "image/png": "[encoded data removed]",
      "text/plain": [
       "<Figure size 640x480 with 1 Axes>"
      ]
     },
     "metadata": {},
     "output_type": "display_data"
    }
   ],
   "source": [
    "dat['Participant Judgement'] = np.nan\n",
    "dat.loc[dat['response_value']=='1','Participant Judgement'] = 'Judged Real'\n",
    "dat.loc[dat['response_value']=='2','Participant Judgement'] = 'Judged Fake'\n",
    "\n",
    "ax = sb.barplot(data=dat, hue='Participant Judgement', y='single_rt', x='type') #, cmap='Yellows')\n",
    "# label=['Fake judged fake','Fake judged Real','Real judged Real','Real judged fake'])#, inner=None)\n",
    "# ax.tick_params(axis='x', rotation=90)\n",
    "\n",
    "ax.set_xticklabels(['Fake Attention','Real Attention']) \n",
    "ax.set_ylabel('Reaction Time (s)') \n",
    "ax.set_xlabel('Video Type') \n",
    "\n",
    "plt.savefig('reaction_time.pdf',bbox_inches='tight')\n",
    "\n",
    "#sb.swarmplot(data=dat, x='response_type', y='single_rt')#, inner=None)"
   ]
  },
  {
   "cell_type": "markdown",
   "id": "bcc34aca",
   "metadata": {},
   "source": [
    "### Reaction time ANOVA"
   ]
  },
  {
   "cell_type": "code",
   "execution_count": 66,
   "id": "11d2fd25",
   "metadata": {},
   "outputs": [
    {
     "data": {
      "text/html": [
       "<div>\n",
       "<style scoped>\n",
       "    .dataframe tbody tr th:only-of-type {\n",
       "        vertical-align: middle;\n",
       "    }\n",
       "\n",
       "    .dataframe tbody tr th {\n",
       "        vertical-align: top;\n",
       "    }\n",
       "\n",
       "    .dataframe thead th {\n",
       "        text-align: right;\n",
       "    }\n",
       "</style>\n",
       "<table border=\"1\" class=\"dataframe\">\n",
       "  <thead>\n",
       "    <tr style=\"text-align: right;\">\n",
       "      <th></th>\n",
       "      <th>Source</th>\n",
       "      <th>SS</th>\n",
       "      <th>ddof1</th>\n",
       "      <th>ddof2</th>\n",
       "      <th>MS</th>\n",
       "      <th>F</th>\n",
       "      <th>p-unc</th>\n",
       "      <th>p-GG-corr</th>\n",
       "      <th>ng2</th>\n",
       "      <th>eps</th>\n",
       "    </tr>\n",
       "  </thead>\n",
       "  <tbody>\n",
       "    <tr>\n",
       "      <th>0</th>\n",
       "      <td>response_value</td>\n",
       "      <td>0.217318</td>\n",
       "      <td>1</td>\n",
       "      <td>21</td>\n",
       "      <td>0.217318</td>\n",
       "      <td>9.129688</td>\n",
       "      <td>0.006494</td>\n",
       "      <td>0.006494</td>\n",
       "      <td>0.036637</td>\n",
       "      <td>1.0</td>\n",
       "    </tr>\n",
       "    <tr>\n",
       "      <th>1</th>\n",
       "      <td>type</td>\n",
       "      <td>0.002859</td>\n",
       "      <td>1</td>\n",
       "      <td>21</td>\n",
       "      <td>0.002859</td>\n",
       "      <td>0.248488</td>\n",
       "      <td>0.623323</td>\n",
       "      <td>0.623323</td>\n",
       "      <td>0.000500</td>\n",
       "      <td>1.0</td>\n",
       "    </tr>\n",
       "    <tr>\n",
       "      <th>2</th>\n",
       "      <td>response_value * type</td>\n",
       "      <td>0.284668</td>\n",
       "      <td>1</td>\n",
       "      <td>21</td>\n",
       "      <td>0.284668</td>\n",
       "      <td>23.761858</td>\n",
       "      <td>0.000081</td>\n",
       "      <td>0.000081</td>\n",
       "      <td>0.047453</td>\n",
       "      <td>1.0</td>\n",
       "    </tr>\n",
       "  </tbody>\n",
       "</table>\n",
       "</div>"
      ],
      "text/plain": [
       "                  Source        SS  ddof1  ddof2        MS          F  \\\n",
       "0         response_value  0.217318      1     21  0.217318   9.129688   \n",
       "1                   type  0.002859      1     21  0.002859   0.248488   \n",
       "2  response_value * type  0.284668      1     21  0.284668  23.761858   \n",
       "\n",
       "      p-unc  p-GG-corr       ng2  eps  \n",
       "0  0.006494   0.006494  0.036637  1.0  \n",
       "1  0.623323   0.623323  0.000500  1.0  \n",
       "2  0.000081   0.000081  0.047453  1.0  "
      ]
     },
     "execution_count": 66,
     "metadata": {},
     "output_type": "execute_result"
    }
   ],
   "source": [
    "import pingouin as pg\n",
    "pg.rm_anova(data=dat, dv='single_rt', within=['response_value','type'], subject='participant')"
   ]
  },
  {
   "cell_type": "code",
   "execution_count": 67,
   "id": "1da6cc70",
   "metadata": {},
   "outputs": [
    {
     "name": "stdout",
     "output_type": "stream",
     "text": [
      "Judged Real\n",
      "\n",
      "1.0381811185246956\n",
      "0.5460073707340273\n"
     ]
    }
   ],
   "source": [
    "print('Judged Real'); print()\n",
    "print(new_data[new_data['response_type'].isin(['Hit','False Alarm'])]['single_rt'].mean())\n",
    "print(new_data[new_data['response_type'].isin(['Hit','False Alarm'])]['single_rt'].std())"
   ]
  },
  {
   "cell_type": "code",
   "execution_count": 68,
   "id": "85c77e20",
   "metadata": {},
   "outputs": [
    {
     "name": "stdout",
     "output_type": "stream",
     "text": [
      "Judged Fake\n",
      "\n",
      "1.1361939445694635\n",
      "0.5998055803580562\n"
     ]
    }
   ],
   "source": [
    "print('Judged Fake'); print()\n",
    "print(new_data[new_data['response_type'].isin(['Miss','Correct Reject'])]['single_rt'].mean())\n",
    "print(new_data[new_data['response_type'].isin(['Miss','Correct Reject'])]['single_rt'].std())"
   ]
  },
  {
   "cell_type": "markdown",
   "id": "261e1524",
   "metadata": {},
   "source": [
    "### RT difference between fake vids judged real versus judged fake"
   ]
  },
  {
   "cell_type": "code",
   "execution_count": 69,
   "id": "ed404702",
   "metadata": {},
   "outputs": [
    {
     "data": {
      "text/plain": [
       "0.02306845601044305"
      ]
     },
     "execution_count": 69,
     "metadata": {},
     "output_type": "execute_result"
    }
   ],
   "source": [
    "a = new_data[new_data['response_type']=='Correct Reject']['single_rt'].mean()\n",
    "b = new_data[new_data['response_type']=='False Alarm']['single_rt'].mean()\n",
    "\n",
    "b-a"
   ]
  },
  {
   "cell_type": "markdown",
   "id": "db66eced",
   "metadata": {},
   "source": [
    "### do follow-up t-test..."
   ]
  },
  {
   "cell_type": "code",
   "execution_count": 70,
   "id": "1931e6a7",
   "metadata": {},
   "outputs": [
    {
     "name": "stdout",
     "output_type": "stream",
     "text": [
      "Hit versus Miss:\n",
      "TtestResult(statistic=-5.5205951052630455, pvalue=1.772660296398328e-05, df=21)\n",
      "\n",
      "Hit versus False Alarm:\n",
      "TtestResult(statistic=-2.917462870594673, pvalue=0.008232322298453679, df=21)\n",
      "\n",
      "Hit versus False Correct Rejection:\n",
      "TtestResult(statistic=-2.5872323408514806, pvalue=0.017189605447257093, df=21)\n",
      "\n",
      "Miss versus Correct Rejection:\n",
      "TtestResult(statistic=4.161565219526186, pvalue=0.0004415474596163378, df=21)\n",
      "\n",
      "Miss versus False Alarm:\n",
      "TtestResult(statistic=2.444867312534292, pvalue=0.023395539227267562, df=21)\n",
      "\n",
      "Correct Rejection versus False Alarm:\n",
      "TtestResult(statistic=-0.34212987680844453, pvalue=0.7356535063148794, df=21)\n",
      "\n",
      "\n",
      "\n",
      "TtestResult(statistic=-0.34212987680844453, pvalue=0.7356535063148794, df=21)\n",
      "\n"
     ]
    }
   ],
   "source": [
    "print('Hit versus Miss:')\n",
    "print(scipy.stats.ttest_rel(list(dat[dat['response_type']=='Hit']['single_rt']),\n",
    "                      list(dat[dat['response_type']=='Miss']['single_rt'])))\n",
    "print()\n",
    "\n",
    "\n",
    "print('Hit versus False Alarm:')\n",
    "print(scipy.stats.ttest_rel(list(dat[dat['response_type']=='Hit']['single_rt']),\n",
    "                      list(dat[dat['response_type']=='False Alarm']['single_rt']))); print()\n",
    "\n",
    "print('Hit versus False Correct Rejection:')\n",
    "print(scipy.stats.ttest_rel(list(dat[dat['response_type']=='Hit']['single_rt']),\n",
    "                      list(dat[dat['response_type']=='Correct Reject']['single_rt'])));print()\n",
    "\n",
    "######################\n",
    "\n",
    "print('Miss versus Correct Rejection:')\n",
    "print(scipy.stats.ttest_rel(list(dat[dat['response_type']=='Miss']['single_rt']),\n",
    "                      list(dat[dat['response_type']=='Correct Reject']['single_rt']))); print()\n",
    "\n",
    "print('Miss versus False Alarm:')\n",
    "print(scipy.stats.ttest_rel(list(dat[dat['response_type']=='Miss']['single_rt']),\n",
    "                      list(dat[dat['response_type']=='False Alarm']['single_rt']))); print()\n",
    "\n",
    "######################\n",
    "\n",
    "print('Correct Rejection versus False Alarm:')\n",
    "print(scipy.stats.ttest_rel(list(dat[dat['response_type']=='Correct Reject']['single_rt']),\n",
    "                      list(dat[dat['response_type']=='False Alarm']['single_rt']))); print()\n",
    "\n",
    "print()\n",
    "print()\n",
    "\n",
    "######################\n",
    "\n",
    "print(scipy.stats.ttest_rel(list(dat[dat['response_type']=='Correct Reject']['single_rt']),\n",
    "                      list(dat[dat['response_type']=='False Alarm']['single_rt']))); print()"
   ]
  },
  {
   "cell_type": "code",
   "execution_count": 71,
   "id": "607a862e",
   "metadata": {},
   "outputs": [
    {
     "data": {
      "text/plain": [
       "Index(['run', 'start_time', 'type', 'moviestim', 'jitters', 'frames',\n",
       "       'trials.thisRepN', 'trials.thisTrialN', 'trials.thisN',\n",
       "       'trials.thisIndex', 'fix1.started', 'welcome_key.started',\n",
       "       'welcome_key.keys', 'welcome_key.rt', 'fix3.started', 'fix3.stopped',\n",
       "       'movie.started', 'text_15.started', 'key_resp_9.started',\n",
       "       'text_15.stopped', 'key_resp_9.stopped', 'key_resp_9.keys',\n",
       "       'key_resp_9.rt', 'fix4.started', 'fix4.stopped', 'participant',\n",
       "       'session', 'date', 'expName', 'psychopyVersion', 'frameRate',\n",
       "       'Unnamed: 31', 'response_type', 'response_value', 'unanswered',\n",
       "       'Unnamed: 30'],\n",
       "      dtype='object')"
      ]
     },
     "execution_count": 71,
     "metadata": {},
     "output_type": "execute_result"
    }
   ],
   "source": [
    "data.columns"
   ]
  },
  {
   "cell_type": "code",
   "execution_count": 72,
   "id": "853bdd3b",
   "metadata": {},
   "outputs": [
    {
     "data": {
      "text/plain": [
       "array([nan, \"['1']\", \"['2']\", 'oo1', 'oo2'], dtype=object)"
      ]
     },
     "execution_count": 72,
     "metadata": {},
     "output_type": "execute_result"
    }
   ],
   "source": [
    "data['key_resp_9.keys'].unique()"
   ]
  },
  {
   "cell_type": "code",
   "execution_count": 73,
   "id": "a8d6447b",
   "metadata": {},
   "outputs": [
    {
     "data": {
      "text/plain": [
       "Index(['run', 'start_time', 'type', 'moviestim', 'jitters', 'frames',\n",
       "       'trials.thisRepN', 'trials.thisTrialN', 'trials.thisN',\n",
       "       'trials.thisIndex', 'fix1.started', 'welcome_key.started',\n",
       "       'welcome_key.keys', 'welcome_key.rt', 'fix3.started', 'fix3.stopped',\n",
       "       'movie.started', 'text_15.started', 'key_resp_9.started',\n",
       "       'text_15.stopped', 'key_resp_9.stopped', 'key_resp_9.keys',\n",
       "       'key_resp_9.rt', 'fix4.started', 'fix4.stopped', 'participant',\n",
       "       'session', 'date', 'expName', 'psychopyVersion', 'frameRate',\n",
       "       'Unnamed: 31', 'response_type', 'response_value', 'unanswered',\n",
       "       'Unnamed: 30'],\n",
       "      dtype='object')"
      ]
     },
     "execution_count": 73,
     "metadata": {},
     "output_type": "execute_result"
    }
   ],
   "source": [
    "data[data['key_resp_9.keys'].isin(['oo2','oo1'])].columns\n",
    "\n",
    "#[['response_value','key_resp_9.keys']]"
   ]
  },
  {
   "cell_type": "code",
   "execution_count": 89,
   "id": "378d6656",
   "metadata": {},
   "outputs": [],
   "source": [
    "# check the number of times viewers appeared in the stimuli\n",
    "movies = [ x for x in list(data[~data['moviestim'].isna()]['moviestim'].unique()) if 'veridical' in x ]\n",
    "movies = [ x.split('.bmp_')[1] for x in movies ]\n",
    "movies = [ x.split('_L')[0] for x in movies ]"
   ]
  },
  {
   "cell_type": "code",
   "execution_count": 99,
   "id": "b7f3e79e",
   "metadata": {},
   "outputs": [],
   "source": [
    "def find_duplicates(my_list):\n",
    "  \"\"\"\n",
    "  This function finds duplicate items in a list and prints the item and the number of times it appears.\n",
    "\n",
    "  Args:\n",
    "      my_list: A list of any data type.\n",
    "\n",
    "  Returns:\n",
    "      None\n",
    "  \"\"\"\n",
    "  counts = {}\n",
    "  for item in my_list:\n",
    "    if item in counts:\n",
    "      counts[item] += 1\n",
    "    else:\n",
    "      counts[item] = 1\n",
    "  for item, count in counts.items():\n",
    "    #if count > 1:\n",
    "    print(f\"{item} appears {count} times\")"
   ]
  },
  {
   "cell_type": "code",
   "execution_count": 100,
   "id": "87ba45ae",
   "metadata": {},
   "outputs": [
    {
     "name": "stdout",
     "output_type": "stream",
     "text": [
      "pp84 appears 2 times\n",
      "pp152 appears 2 times\n",
      "pp97 appears 3 times\n",
      "pp98 appears 1 times\n",
      "pp63 appears 2 times\n",
      "pp151 appears 3 times\n",
      "pp58 appears 2 times\n",
      "pp54 appears 3 times\n",
      "pp80 appears 2 times\n",
      "pp90 appears 2 times\n",
      "pp89 appears 3 times\n",
      "pp64 appears 3 times\n",
      "pp82 appears 2 times\n",
      "pp51 appears 1 times\n",
      "pp99 appears 2 times\n",
      "pp53 appears 1 times\n",
      "pp75 appears 1 times\n",
      "pp94 appears 2 times\n",
      "pp69 appears 2 times\n",
      "pp93 appears 2 times\n",
      "pp67 appears 2 times\n",
      "pp79 appears 1 times\n",
      "pp86 appears 2 times\n",
      "pp56 appears 1 times\n",
      "pp60 appears 2 times\n",
      "pp81 appears 1 times\n",
      "pp91 appears 3 times\n",
      "pp65 appears 1 times\n",
      "pp76 appears 1 times\n",
      "pp73 appears 1 times\n",
      "pp100 appears 1 times\n",
      "pp95 appears 1 times\n",
      "pp88 appears 1 times\n",
      "pp57 appears 1 times\n"
     ]
    }
   ],
   "source": [
    "find_duplicates(movies)"
   ]
  },
  {
   "cell_type": "code",
   "execution_count": 96,
   "id": "d8942b47",
   "metadata": {},
   "outputs": [
    {
     "data": {
      "text/plain": [
       "34"
      ]
     },
     "execution_count": 96,
     "metadata": {},
     "output_type": "execute_result"
    }
   ],
   "source": [
    "len(set(movies))"
   ]
  },
  {
   "cell_type": "code",
   "execution_count": 98,
   "id": "7a179759",
   "metadata": {},
   "outputs": [
    {
     "data": {
      "text/plain": [
       "60"
      ]
     },
     "execution_count": 98,
     "metadata": {},
     "output_type": "execute_result"
    }
   ],
   "source": [
    "len(movies)"
   ]
  },
  {
   "cell_type": "code",
   "execution_count": null,
   "id": "a7dcc83d",
   "metadata": {},
   "outputs": [],
   "source": []
  },
  {
   "cell_type": "code",
   "execution_count": null,
   "id": "8579f18f",
   "metadata": {},
   "outputs": [],
   "source": []
  },
  {
   "cell_type": "code",
   "execution_count": null,
   "id": "89e0628a",
   "metadata": {},
   "outputs": [],
   "source": []
  },
  {
   "cell_type": "code",
   "execution_count": null,
   "id": "85983aac",
   "metadata": {},
   "outputs": [],
   "source": []
  },
  {
   "cell_type": "code",
   "execution_count": null,
   "id": "6d7b18f9",
   "metadata": {},
   "outputs": [],
   "source": []
  },
  {
   "cell_type": "code",
   "execution_count": null,
   "id": "db227960",
   "metadata": {},
   "outputs": [],
   "source": []
  },
  {
   "cell_type": "code",
   "execution_count": null,
   "id": "7ec53aa0",
   "metadata": {},
   "outputs": [],
   "source": []
  },
  {
   "cell_type": "code",
   "execution_count": null,
   "id": "cef5a3d7",
   "metadata": {},
   "outputs": [],
   "source": []
  },
  {
   "cell_type": "code",
   "execution_count": null,
   "id": "c6588e85",
   "metadata": {},
   "outputs": [],
   "source": []
  },
  {
   "cell_type": "code",
   "execution_count": null,
   "id": "24827996",
   "metadata": {},
   "outputs": [],
   "source": []
  },
  {
   "cell_type": "code",
   "execution_count": null,
   "id": "f8d81444",
   "metadata": {},
   "outputs": [],
   "source": []
  },
  {
   "cell_type": "code",
   "execution_count": null,
   "id": "f131274c",
   "metadata": {},
   "outputs": [],
   "source": []
  },
  {
   "cell_type": "code",
   "execution_count": null,
   "id": "0856a384",
   "metadata": {},
   "outputs": [],
   "source": []
  },
  {
   "cell_type": "code",
   "execution_count": null,
   "id": "23995662",
   "metadata": {},
   "outputs": [],
   "source": []
  },
  {
   "cell_type": "code",
   "execution_count": null,
   "id": "540eb9e5",
   "metadata": {},
   "outputs": [],
   "source": []
  },
  {
   "cell_type": "code",
   "execution_count": null,
   "id": "7a684f15",
   "metadata": {},
   "outputs": [],
   "source": []
  },
  {
   "cell_type": "markdown",
   "id": "1e4531b3",
   "metadata": {},
   "source": [
    "# GRAVEYARD"
   ]
  },
  {
   "cell_type": "code",
   "execution_count": 262,
   "id": "e300bcc7",
   "metadata": {},
   "outputs": [
    {
     "data": {
      "text/plain": [
       "<Axes: xlabel='response_value', ylabel='single_rt'>"
      ]
     },
     "execution_count": 262,
     "metadata": {},
     "output_type": "execute_result"
    },
    {
     "data": {
      "image/png": "[encoded data removed]",
      "text/plain": [
       "<Figure size 640x480 with 1 Axes>"
      ]
     },
     "metadata": {},
     "output_type": "display_data"
    }
   ],
   "source": [
    "sb.lineplot(data=dat, x='response_value', y='single_rt', hue='participant')\n",
    "#sb.swarmplot(data=dat, x='response_value', y='single_rt')#, inner=None)"
   ]
  },
  {
   "cell_type": "code",
   "execution_count": 263,
   "id": "6c7dd3c8",
   "metadata": {},
   "outputs": [
    {
     "data": {
      "text/plain": [
       "TtestResult(statistic=3.0031485008643304, pvalue=0.004440303301388498, df=43)"
      ]
     },
     "execution_count": 263,
     "metadata": {},
     "output_type": "execute_result"
    }
   ],
   "source": [
    "scipy.stats.ttest_rel(list(dat[dat['response_value']=='2']['single_rt']),\n",
    "                      list(dat[dat['response_value']=='1']['single_rt']))"
   ]
  },
  {
   "cell_type": "code",
   "execution_count": 264,
   "id": "68048aca",
   "metadata": {},
   "outputs": [],
   "source": [
    "# list(dat[dat['response_value']=='2']['single_rt'])"
   ]
  },
  {
   "cell_type": "code",
   "execution_count": 265,
   "id": "1f7bfc91",
   "metadata": {},
   "outputs": [],
   "source": [
    "# dat[dat['response_value']=='2']#.unique()"
   ]
  },
  {
   "cell_type": "code",
   "execution_count": null,
   "id": "5cf38a3a",
   "metadata": {},
   "outputs": [],
   "source": []
  },
  {
   "cell_type": "code",
   "execution_count": null,
   "id": "84714f5f",
   "metadata": {},
   "outputs": [],
   "source": []
  },
  {
   "cell_type": "code",
   "execution_count": null,
   "id": "74b90060",
   "metadata": {},
   "outputs": [],
   "source": []
  },
  {
   "cell_type": "code",
   "execution_count": null,
   "id": "549fe914",
   "metadata": {},
   "outputs": [],
   "source": []
  },
  {
   "cell_type": "code",
   "execution_count": null,
   "id": "11716a3c",
   "metadata": {},
   "outputs": [],
   "source": []
  },
  {
   "cell_type": "code",
   "execution_count": null,
   "id": "b213b548",
   "metadata": {},
   "outputs": [],
   "source": []
  },
  {
   "cell_type": "code",
   "execution_count": null,
   "id": "cdfd88f8",
   "metadata": {},
   "outputs": [],
   "source": []
  },
  {
   "cell_type": "code",
   "execution_count": null,
   "id": "07cb0486",
   "metadata": {},
   "outputs": [],
   "source": []
  },
  {
   "cell_type": "code",
   "execution_count": null,
   "id": "7d0bb72b",
   "metadata": {},
   "outputs": [],
   "source": []
  },
  {
   "cell_type": "code",
   "execution_count": null,
   "id": "2d722acf",
   "metadata": {},
   "outputs": [],
   "source": []
  },
  {
   "cell_type": "code",
   "execution_count": null,
   "id": "753c2e8f",
   "metadata": {},
   "outputs": [],
   "source": []
  },
  {
   "cell_type": "code",
   "execution_count": null,
   "id": "d974a3ac",
   "metadata": {},
   "outputs": [],
   "source": []
  },
  {
   "cell_type": "code",
   "execution_count": 266,
   "id": "6291f406",
   "metadata": {},
   "outputs": [
    {
     "ename": "TypeError",
     "evalue": "'float' object is not subscriptable",
     "output_type": "error",
     "traceback": [
      "\u001b[0;31m---------------------------------------------------------------------------\u001b[0m",
      "\u001b[0;31mTypeError\u001b[0m                                 Traceback (most recent call last)",
      "Cell \u001b[0;32mIn[266], line 19\u001b[0m\n\u001b[1;32m     16\u001b[0m     \u001b[38;5;28;01mreturn\u001b[39;00m \u001b[38;5;28;01mNone\u001b[39;00m\n\u001b[1;32m     18\u001b[0m \u001b[38;5;66;03m# Apply function to filtered DataFrame\u001b[39;00m\n\u001b[0;32m---> 19\u001b[0m string_filtered_df[\u001b[38;5;124m'\u001b[39m\u001b[38;5;124msingle_rt\u001b[39m\u001b[38;5;124m'\u001b[39m] \u001b[38;5;241m=\u001b[39m string_filtered_df[\u001b[38;5;124m'\u001b[39m\u001b[38;5;124mkey_resp_9.rt\u001b[39m\u001b[38;5;124m'\u001b[39m]\u001b[38;5;241m.\u001b[39mapply(extract_first)\n\u001b[1;32m     21\u001b[0m \u001b[38;5;66;03m# Merge filtered DataFrame back (optional)\u001b[39;00m\n\u001b[1;32m     22\u001b[0m \u001b[38;5;66;03m# You can merge this back with the original DataFrame if needed\u001b[39;00m\n\u001b[1;32m     23\u001b[0m \u001b[38;5;66;03m# df = pd.concat([df, string_filtered_df], sort=False)\u001b[39;00m\n\u001b[1;32m     25\u001b[0m \u001b[38;5;28mprint\u001b[39m(string_filtered_df)\n",
      "File \u001b[0;32m~/miniconda3/envs/pygers/lib/python3.11/site-packages/pandas/core/series.py:4764\u001b[0m, in \u001b[0;36mSeries.apply\u001b[0;34m(self, func, convert_dtype, args, by_row, **kwargs)\u001b[0m\n\u001b[1;32m   4629\u001b[0m \u001b[38;5;28;01mdef\u001b[39;00m \u001b[38;5;21mapply\u001b[39m(\n\u001b[1;32m   4630\u001b[0m     \u001b[38;5;28mself\u001b[39m,\n\u001b[1;32m   4631\u001b[0m     func: AggFuncType,\n\u001b[0;32m   (...)\u001b[0m\n\u001b[1;32m   4636\u001b[0m     \u001b[38;5;241m*\u001b[39m\u001b[38;5;241m*\u001b[39mkwargs,\n\u001b[1;32m   4637\u001b[0m ) \u001b[38;5;241m-\u001b[39m\u001b[38;5;241m>\u001b[39m DataFrame \u001b[38;5;241m|\u001b[39m Series:\n\u001b[1;32m   4638\u001b[0m \u001b[38;5;250m    \u001b[39m\u001b[38;5;124;03m\"\"\"\u001b[39;00m\n\u001b[1;32m   4639\u001b[0m \u001b[38;5;124;03m    Invoke function on values of Series.\u001b[39;00m\n\u001b[1;32m   4640\u001b[0m \n\u001b[0;32m   (...)\u001b[0m\n\u001b[1;32m   4755\u001b[0m \u001b[38;5;124;03m    dtype: float64\u001b[39;00m\n\u001b[1;32m   4756\u001b[0m \u001b[38;5;124;03m    \"\"\"\u001b[39;00m\n\u001b[1;32m   4757\u001b[0m     \u001b[38;5;28;01mreturn\u001b[39;00m SeriesApply(\n\u001b[1;32m   4758\u001b[0m         \u001b[38;5;28mself\u001b[39m,\n\u001b[1;32m   4759\u001b[0m         func,\n\u001b[1;32m   4760\u001b[0m         convert_dtype\u001b[38;5;241m=\u001b[39mconvert_dtype,\n\u001b[1;32m   4761\u001b[0m         by_row\u001b[38;5;241m=\u001b[39mby_row,\n\u001b[1;32m   4762\u001b[0m         args\u001b[38;5;241m=\u001b[39margs,\n\u001b[1;32m   4763\u001b[0m         kwargs\u001b[38;5;241m=\u001b[39mkwargs,\n\u001b[0;32m-> 4764\u001b[0m     )\u001b[38;5;241m.\u001b[39mapply()\n",
      "File \u001b[0;32m~/miniconda3/envs/pygers/lib/python3.11/site-packages/pandas/core/apply.py:1209\u001b[0m, in \u001b[0;36mSeriesApply.apply\u001b[0;34m(self)\u001b[0m\n\u001b[1;32m   1206\u001b[0m     \u001b[38;5;28;01mreturn\u001b[39;00m \u001b[38;5;28mself\u001b[39m\u001b[38;5;241m.\u001b[39mapply_compat()\n\u001b[1;32m   1208\u001b[0m \u001b[38;5;66;03m# self.func is Callable\u001b[39;00m\n\u001b[0;32m-> 1209\u001b[0m \u001b[38;5;28;01mreturn\u001b[39;00m \u001b[38;5;28mself\u001b[39m\u001b[38;5;241m.\u001b[39mapply_standard()\n",
      "File \u001b[0;32m~/miniconda3/envs/pygers/lib/python3.11/site-packages/pandas/core/apply.py:1289\u001b[0m, in \u001b[0;36mSeriesApply.apply_standard\u001b[0;34m(self)\u001b[0m\n\u001b[1;32m   1283\u001b[0m \u001b[38;5;66;03m# row-wise access\u001b[39;00m\n\u001b[1;32m   1284\u001b[0m \u001b[38;5;66;03m# apply doesn't have a `na_action` keyword and for backward compat reasons\u001b[39;00m\n\u001b[1;32m   1285\u001b[0m \u001b[38;5;66;03m# we need to give `na_action=\"ignore\"` for categorical data.\u001b[39;00m\n\u001b[1;32m   1286\u001b[0m \u001b[38;5;66;03m# TODO: remove the `na_action=\"ignore\"` when that default has been changed in\u001b[39;00m\n\u001b[1;32m   1287\u001b[0m \u001b[38;5;66;03m#  Categorical (GH51645).\u001b[39;00m\n\u001b[1;32m   1288\u001b[0m action \u001b[38;5;241m=\u001b[39m \u001b[38;5;124m\"\u001b[39m\u001b[38;5;124mignore\u001b[39m\u001b[38;5;124m\"\u001b[39m \u001b[38;5;28;01mif\u001b[39;00m \u001b[38;5;28misinstance\u001b[39m(obj\u001b[38;5;241m.\u001b[39mdtype, CategoricalDtype) \u001b[38;5;28;01melse\u001b[39;00m \u001b[38;5;28;01mNone\u001b[39;00m\n\u001b[0;32m-> 1289\u001b[0m mapped \u001b[38;5;241m=\u001b[39m obj\u001b[38;5;241m.\u001b[39m_map_values(\n\u001b[1;32m   1290\u001b[0m     mapper\u001b[38;5;241m=\u001b[39mcurried, na_action\u001b[38;5;241m=\u001b[39maction, convert\u001b[38;5;241m=\u001b[39m\u001b[38;5;28mself\u001b[39m\u001b[38;5;241m.\u001b[39mconvert_dtype\n\u001b[1;32m   1291\u001b[0m )\n\u001b[1;32m   1293\u001b[0m \u001b[38;5;28;01mif\u001b[39;00m \u001b[38;5;28mlen\u001b[39m(mapped) \u001b[38;5;129;01mand\u001b[39;00m \u001b[38;5;28misinstance\u001b[39m(mapped[\u001b[38;5;241m0\u001b[39m], ABCSeries):\n\u001b[1;32m   1294\u001b[0m     \u001b[38;5;66;03m# GH#43986 Need to do list(mapped) in order to get treated as nested\u001b[39;00m\n\u001b[1;32m   1295\u001b[0m     \u001b[38;5;66;03m#  See also GH#25959 regarding EA support\u001b[39;00m\n\u001b[1;32m   1296\u001b[0m     \u001b[38;5;28;01mreturn\u001b[39;00m obj\u001b[38;5;241m.\u001b[39m_constructor_expanddim(\u001b[38;5;28mlist\u001b[39m(mapped), index\u001b[38;5;241m=\u001b[39mobj\u001b[38;5;241m.\u001b[39mindex)\n",
      "File \u001b[0;32m~/miniconda3/envs/pygers/lib/python3.11/site-packages/pandas/core/base.py:921\u001b[0m, in \u001b[0;36mIndexOpsMixin._map_values\u001b[0;34m(self, mapper, na_action, convert)\u001b[0m\n\u001b[1;32m    918\u001b[0m \u001b[38;5;28;01mif\u001b[39;00m \u001b[38;5;28misinstance\u001b[39m(arr, ExtensionArray):\n\u001b[1;32m    919\u001b[0m     \u001b[38;5;28;01mreturn\u001b[39;00m arr\u001b[38;5;241m.\u001b[39mmap(mapper, na_action\u001b[38;5;241m=\u001b[39mna_action)\n\u001b[0;32m--> 921\u001b[0m \u001b[38;5;28;01mreturn\u001b[39;00m algorithms\u001b[38;5;241m.\u001b[39mmap_array(arr, mapper, na_action\u001b[38;5;241m=\u001b[39mna_action, convert\u001b[38;5;241m=\u001b[39mconvert)\n",
      "File \u001b[0;32m~/miniconda3/envs/pygers/lib/python3.11/site-packages/pandas/core/algorithms.py:1814\u001b[0m, in \u001b[0;36mmap_array\u001b[0;34m(arr, mapper, na_action, convert)\u001b[0m\n\u001b[1;32m   1812\u001b[0m values \u001b[38;5;241m=\u001b[39m arr\u001b[38;5;241m.\u001b[39mastype(\u001b[38;5;28mobject\u001b[39m, copy\u001b[38;5;241m=\u001b[39m\u001b[38;5;28;01mFalse\u001b[39;00m)\n\u001b[1;32m   1813\u001b[0m \u001b[38;5;28;01mif\u001b[39;00m na_action \u001b[38;5;129;01mis\u001b[39;00m \u001b[38;5;28;01mNone\u001b[39;00m:\n\u001b[0;32m-> 1814\u001b[0m     \u001b[38;5;28;01mreturn\u001b[39;00m lib\u001b[38;5;241m.\u001b[39mmap_infer(values, mapper, convert\u001b[38;5;241m=\u001b[39mconvert)\n\u001b[1;32m   1815\u001b[0m \u001b[38;5;28;01melse\u001b[39;00m:\n\u001b[1;32m   1816\u001b[0m     \u001b[38;5;28;01mreturn\u001b[39;00m lib\u001b[38;5;241m.\u001b[39mmap_infer_mask(\n\u001b[1;32m   1817\u001b[0m         values, mapper, mask\u001b[38;5;241m=\u001b[39misna(values)\u001b[38;5;241m.\u001b[39mview(np\u001b[38;5;241m.\u001b[39muint8), convert\u001b[38;5;241m=\u001b[39mconvert\n\u001b[1;32m   1818\u001b[0m     )\n",
      "File \u001b[0;32mlib.pyx:2926\u001b[0m, in \u001b[0;36mpandas._libs.lib.map_infer\u001b[0;34m()\u001b[0m\n",
      "Cell \u001b[0;32mIn[266], line 11\u001b[0m, in \u001b[0;36mextract_first\u001b[0;34m(x)\u001b[0m\n\u001b[1;32m      8\u001b[0m \u001b[38;5;28;01mif\u001b[39;00m \u001b[38;5;28misinstance\u001b[39m(x, \u001b[38;5;28mstr\u001b[39m) \u001b[38;5;129;01mand\u001b[39;00m x[\u001b[38;5;241m0\u001b[39m] \u001b[38;5;241m==\u001b[39m \u001b[38;5;124m'\u001b[39m\u001b[38;5;124m[\u001b[39m\u001b[38;5;124m'\u001b[39m \u001b[38;5;129;01mand\u001b[39;00m x[\u001b[38;5;241m-\u001b[39m\u001b[38;5;241m1\u001b[39m] \u001b[38;5;241m==\u001b[39m \u001b[38;5;124m'\u001b[39m\u001b[38;5;124m]\u001b[39m\u001b[38;5;124m'\u001b[39m:\n\u001b[1;32m      9\u001b[0m   \u001b[38;5;28;01mtry\u001b[39;00m:\n\u001b[1;32m     10\u001b[0m     \u001b[38;5;66;03m# Try converting to a list using ast.literal_eval\u001b[39;00m\n\u001b[0;32m---> 11\u001b[0m     \u001b[38;5;28;01mreturn\u001b[39;00m ast\u001b[38;5;241m.\u001b[39mliteral_eval(x[\u001b[38;5;241m1\u001b[39m:\u001b[38;5;241m-\u001b[39m\u001b[38;5;241m1\u001b[39m])[\u001b[38;5;241m0\u001b[39m]\n\u001b[1;32m     12\u001b[0m   \u001b[38;5;28;01mexcept\u001b[39;00m (\u001b[38;5;167;01mValueError\u001b[39;00m, \u001b[38;5;167;01mSyntaxError\u001b[39;00m):\n\u001b[1;32m     13\u001b[0m     \u001b[38;5;28;01mreturn\u001b[39;00m \u001b[38;5;28;01mNone\u001b[39;00m\n",
      "\u001b[0;31mTypeError\u001b[0m: 'float' object is not subscriptable"
     ]
    }
   ],
   "source": [
    "import ast\n",
    "\n",
    "# Filter for rows where 'key_resp_9.rt' is a string\n",
    "string_filtered_df = new_data[new_data['key_resp_9.rt'].astype(str).notna()]  # Filter for non-NaN strings\n",
    "\n",
    "def extract_first(x):\n",
    "  # Check if it's a string that resembles a list\n",
    "  if isinstance(x, str) and x[0] == '[' and x[-1] == ']':\n",
    "    try:\n",
    "      # Try converting to a list using ast.literal_eval\n",
    "      return ast.literal_eval(x[1:-1])[0]\n",
    "    except (ValueError, SyntaxError):\n",
    "      return None\n",
    "  # Not a string or not in valid list format, return None\n",
    "  else:\n",
    "    return None\n",
    "\n",
    "# Apply function to filtered DataFrame\n",
    "string_filtered_df['single_rt'] = string_filtered_df['key_resp_9.rt'].apply(extract_first)\n",
    "\n",
    "# Merge filtered DataFrame back (optional)\n",
    "# You can merge this back with the original DataFrame if needed\n",
    "# df = pd.concat([df, string_filtered_df], sort=False)\n",
    "\n",
    "print(string_filtered_df)\n",
    "\n",
    "# new_data['single_rt'] = new_data['key_resp_9.rt'].apply(extract_first)"
   ]
  },
  {
   "cell_type": "code",
   "execution_count": null,
   "id": "0b407336",
   "metadata": {},
   "outputs": [],
   "source": []
  },
  {
   "cell_type": "code",
   "execution_count": null,
   "id": "8129d27d",
   "metadata": {},
   "outputs": [],
   "source": []
  },
  {
   "cell_type": "code",
   "execution_count": null,
   "id": "594d14ee",
   "metadata": {},
   "outputs": [],
   "source": []
  },
  {
   "cell_type": "code",
   "execution_count": null,
   "id": "fe4414cd",
   "metadata": {},
   "outputs": [],
   "source": []
  },
  {
   "cell_type": "code",
   "execution_count": null,
   "id": "baf98eb4",
   "metadata": {},
   "outputs": [],
   "source": []
  },
  {
   "cell_type": "code",
   "execution_count": null,
   "id": "f4f414a0",
   "metadata": {},
   "outputs": [],
   "source": []
  },
  {
   "cell_type": "code",
   "execution_count": null,
   "id": "c38a786b",
   "metadata": {},
   "outputs": [],
   "source": []
  },
  {
   "cell_type": "code",
   "execution_count": null,
   "id": "516e782b",
   "metadata": {},
   "outputs": [],
   "source": []
  },
  {
   "cell_type": "code",
   "execution_count": null,
   "id": "e31a118d",
   "metadata": {},
   "outputs": [],
   "source": []
  },
  {
   "cell_type": "code",
   "execution_count": null,
   "id": "dd417a3d",
   "metadata": {},
   "outputs": [],
   "source": []
  },
  {
   "cell_type": "code",
   "execution_count": null,
   "id": "b3184535",
   "metadata": {},
   "outputs": [],
   "source": []
  },
  {
   "cell_type": "code",
   "execution_count": null,
   "id": "5ad08bf0",
   "metadata": {},
   "outputs": [],
   "source": []
  },
  {
   "cell_type": "code",
   "execution_count": null,
   "id": "044c0e57",
   "metadata": {},
   "outputs": [],
   "source": []
  },
  {
   "cell_type": "code",
   "execution_count": null,
   "id": "a6c95ae3",
   "metadata": {},
   "outputs": [],
   "source": []
  },
  {
   "cell_type": "code",
   "execution_count": null,
   "id": "5966884f",
   "metadata": {},
   "outputs": [],
   "source": []
  },
  {
   "cell_type": "markdown",
   "id": "3172aa86",
   "metadata": {},
   "source": [
    "# Early grave"
   ]
  },
  {
   "cell_type": "code",
   "execution_count": null,
   "id": "fa74d529",
   "metadata": {},
   "outputs": [],
   "source": [
    "h = grouped_by_resp_type[grouped_by_resp_type['response_type']=='Hit']['run'].mean()"
   ]
  },
  {
   "cell_type": "code",
   "execution_count": null,
   "id": "69be3fb7",
   "metadata": {},
   "outputs": [],
   "source": [
    "fa = grouped_by_resp_type[grouped_by_resp_type['response_type']=='False Alarm']['run'].mean()"
   ]
  },
  {
   "cell_type": "code",
   "execution_count": null,
   "id": "859332c6",
   "metadata": {},
   "outputs": [],
   "source": [
    "cr = grouped_by_resp_type[grouped_by_resp_type['response_type']=='Correct Reject']['run'].mean()"
   ]
  },
  {
   "cell_type": "code",
   "execution_count": null,
   "id": "6425cb26",
   "metadata": {},
   "outputs": [],
   "source": [
    "m  = grouped_by_resp_type[grouped_by_resp_type['response_type']=='Miss']['run'].mean()"
   ]
  },
  {
   "cell_type": "code",
   "execution_count": null,
   "id": "c7a6b306",
   "metadata": {},
   "outputs": [],
   "source": [
    "dictionary = {'Average Number of Responses': [h, m, cr, fa], \n",
    "              'Subjects':['All','All','All','All'],\n",
    "             'Response Type':['Veridical Correct', \n",
    "                              'Veridical Wrong', \n",
    "                              'Scrambled Correct', \n",
    "                              'Scrambled Wrong']}\n",
    "\n",
    "resp_df = pd.DataFrame(dictionary, \n",
    "                       index=['Veridical Correct', \n",
    "                              'Veridical Wrong', \n",
    "                              'Scrambled Correct', \n",
    "                              'Scrambled Wrong'])"
   ]
  },
  {
   "cell_type": "code",
   "execution_count": null,
   "id": "14385685",
   "metadata": {},
   "outputs": [],
   "source": [
    "# resp_df.plot.bar(stacked=True)\n",
    "\n",
    "plt.pie(resp_df['Average Number of Responses'], labels = resp_df['Response Type'])\n",
    "\n",
    "plt.savefig('pie_chart.pdf')"
   ]
  },
  {
   "cell_type": "code",
   "execution_count": null,
   "id": "a36b9a9d",
   "metadata": {},
   "outputs": [],
   "source": []
  },
  {
   "cell_type": "code",
   "execution_count": null,
   "id": "1787ef8d",
   "metadata": {},
   "outputs": [],
   "source": []
  },
  {
   "cell_type": "code",
   "execution_count": null,
   "id": "c6ee58bd",
   "metadata": {},
   "outputs": [],
   "source": []
  },
  {
   "cell_type": "code",
   "execution_count": null,
   "id": "37458c1f",
   "metadata": {},
   "outputs": [],
   "source": []
  },
  {
   "cell_type": "code",
   "execution_count": null,
   "id": "668f135a",
   "metadata": {},
   "outputs": [],
   "source": [
    "p = df.groupby(['participant','response_type'],as_index=False).count()\n",
    "percent_correct = {'percent_correct':[], 'subject':[]}\n",
    "\n",
    "for participant in p['participant'].unique():\n",
    "    p['percent'] = p['run'] / p[p['participant']==participant]['run'].sum()\n",
    "    \n",
    "    a = p[(p['participant']==participant) & (p['response_type']=='Correct Reject')]['percent'].item()\n",
    "    b = p[(p['participant']==participant) & (p['response_type']=='Hit')]['percent'].item()\n",
    "    per_cor = a + b\n",
    "    \n",
    "    percent_correct['percent_correct'].append(per_cor)\n",
    "    percent_correct['subject'].append(participant)\n"
   ]
  },
  {
   "cell_type": "code",
   "execution_count": null,
   "id": "10d00e57",
   "metadata": {},
   "outputs": [],
   "source": [
    "pd.DataFrame(percent_correct)"
   ]
  },
  {
   "cell_type": "markdown",
   "id": "de2e8ecb",
   "metadata": {},
   "source": [
    "### Percent correct by stimuli\n",
    "\n",
    "Make max_stims df which groups by moviestims and response_type"
   ]
  },
  {
   "cell_type": "code",
   "execution_count": null,
   "id": "535aa3fc",
   "metadata": {},
   "outputs": [],
   "source": [
    "max_stims = df.groupby(['moviestim','response_type'],as_index=False).count()\n",
    "max_stims.head(n=4)"
   ]
  },
  {
   "cell_type": "code",
   "execution_count": null,
   "id": "49f771a5",
   "metadata": {},
   "outputs": [],
   "source": [
    "max_stims['percent'] = max_stims['run'] / len(df['participant'].unique())"
   ]
  },
  {
   "cell_type": "code",
   "execution_count": null,
   "id": "7caa93a6",
   "metadata": {
    "scrolled": false
   },
   "outputs": [],
   "source": [
    "max_stims[['participant','response_type','moviestim']].head(n=4)"
   ]
  },
  {
   "cell_type": "code",
   "execution_count": null,
   "id": "cadf024c",
   "metadata": {},
   "outputs": [],
   "source": [
    "from scipy.stats import binom\n",
    "\n",
    "sb.barplot(y='percent',x='moviestim',data=max_stims[max_stims['response_type']=='Hit'])\n",
    "plt.axhline(y=0.75, color='grey', linestyle='--')\n",
    "\n",
    "for x in list(max_stims[max_stims['response_type']=='Hit']['run']):\n",
    "    p_value = binom.cdf(19, 19, .5)\n",
    "    #print(p_value<.05)\n",
    "\n",
    "#[max_stims['percent'].5])"
   ]
  },
  {
   "cell_type": "code",
   "execution_count": null,
   "id": "7ec937e7",
   "metadata": {},
   "outputs": [],
   "source": [
    "hit_list = list(max_stims[max_stims['response_type']=='Hit']['moviestim'])\n",
    "max_stims[max_stims['moviestim'].isin(hit_list)].head(n=5)"
   ]
  },
  {
   "cell_type": "code",
   "execution_count": null,
   "id": "7fdedf08",
   "metadata": {
    "scrolled": false
   },
   "outputs": [],
   "source": [
    "sb.barplot(y='percent',x='moviestim',data=max_stims[max_stims['response_type']=='Correct Reject'])\n",
    "plt.axhline(y=0.5, color='grey', linestyle='--')"
   ]
  },
  {
   "cell_type": "markdown",
   "id": "6d329a1f",
   "metadata": {},
   "source": [
    "### Combine Hits and Correct Rejections \n",
    "\n",
    "Find the stimuli for which participants generally do the best (Hits and False Alarms combined)"
   ]
  },
  {
   "cell_type": "code",
   "execution_count": null,
   "id": "c94d3449",
   "metadata": {},
   "outputs": [],
   "source": [
    "# from scipy.stats import binom\n",
    "\n",
    "# sb.barplot(y='percent',x='moviestim',data=max_stims[max_stims['response_type']=='Hit'])\n",
    "# plt.axhline(y=0.75, color='grey', linestyle='--')\n",
    "\n",
    "# for x in list(max_stims[max_stims['response_type']=='Hit']['run']):\n",
    "#     p_value = binom.cdf(19, 19, .5)"
   ]
  },
  {
   "cell_type": "code",
   "execution_count": null,
   "id": "5a034604",
   "metadata": {},
   "outputs": [],
   "source": [
    "max_stims.head(n=3)"
   ]
  },
  {
   "cell_type": "code",
   "execution_count": null,
   "id": "592f1696",
   "metadata": {},
   "outputs": [],
   "source": [
    "movie_base  = list( max_stims['moviestim'] )\n",
    "movie_base  = [x[7:] for x in movie_base if 'veridical' in x]\n",
    "movie_base = list(set(movie_base))\n",
    "movie_base = [x[:17] for x in movie_base]\n",
    "# movies_base has the base for each stimulus pair\n",
    "\n",
    "sum_scores = []\n",
    "\n",
    "for base in movie_base:\n",
    "    \n",
    "    data  = max_stims[(max_stims['moviestim'].str.contains(base))\n",
    "                     &(max_stims['response_type'].isin(['Correct Reject','Hit']))]\n",
    "    \n",
    "    sum_scores.append(data['run'].sum())\n",
    "    \n",
    "score_df = pd.DataFrame.from_dict({\n",
    "    'base'  : movie_base,\n",
    "    'score' : sum_scores \n",
    "})    "
   ]
  },
  {
   "cell_type": "code",
   "execution_count": null,
   "id": "40aafeec",
   "metadata": {},
   "outputs": [],
   "source": [
    "score_sort = score_df.sort_values('score')\n",
    "\n",
    "sb.barplot(x='base',y='score',data=score_sort)\n",
    "plt.ylim(0,40)\n",
    "\n",
    "plt.axhline(y=20, color='grey', linestyle='--')\n",
    "plt.axvline(x=30, color='grey', linestyle='--')"
   ]
  },
  {
   "cell_type": "code",
   "execution_count": null,
   "id": "289352eb",
   "metadata": {},
   "outputs": [],
   "source": [
    "top_images    = list(score_sort.iloc[30:]['base'])\n",
    "\n",
    "bottom_images = list(score_sort.iloc[:30]['base'])\n",
    "\n",
    "dat_list = []\n",
    "\n",
    "for base in top_images:\n",
    "    \n",
    "    data  = max_stims[(max_stims['moviestim'].str.contains(base))\n",
    "                     &(max_stims['response_type'].isin(['Correct Reject','Hit']))]\n",
    "    \n",
    "    dat_list.append(data)\n",
    "    \n",
    "dat_df = pd.concat(dat_list)   \n",
    "#dat_df"
   ]
  },
  {
   "cell_type": "code",
   "execution_count": null,
   "id": "e0d1bf9e",
   "metadata": {},
   "outputs": [],
   "source": [
    "top_images    = list(score_sort[30:]['base'])\n",
    "\n",
    "bottom_images = list(score_sort[:30]['base'])\n",
    "\n",
    "dat_list_2 = []\n",
    "\n",
    "for base in bottom_images:\n",
    "    \n",
    "    data  = max_stims[(max_stims['moviestim'].str.contains(base))\n",
    "                     &(max_stims['response_type'].isin(['Correct Reject','Hit']))]\n",
    "    \n",
    "    dat_list_2.append(data)\n",
    "    \n",
    "dat_df_2 = pd.concat(dat_list_2)   "
   ]
  },
  {
   "cell_type": "code",
   "execution_count": null,
   "id": "c659aff0",
   "metadata": {},
   "outputs": [],
   "source": [
    "sb.barplot(y='percent',x='moviestim',data=dat_df[(dat_df['response_type']=='Correct Reject')])\n",
    "plt.axhline(y=0.5, color='grey', linestyle='--')\n",
    "plt.show()\n",
    "\n",
    "sb.barplot(y='percent',x='moviestim',data=dat_df_2[(dat_df_2['response_type']=='Correct Reject')])\n",
    "plt.axhline(y=0.5, color='grey', linestyle='--')"
   ]
  },
  {
   "cell_type": "code",
   "execution_count": null,
   "id": "62fa53ed",
   "metadata": {},
   "outputs": [],
   "source": [
    "sb.barplot(y='percent',x='moviestim',data=dat_df[(dat_df['response_type']=='Hit')])\n",
    "plt.axhline(y=0.5, color='grey', linestyle='--')\n",
    "plt.show()\n",
    "\n",
    "sb.barplot(y='percent',x='moviestim',data=dat_df_2[(dat_df_2['response_type']=='Hit')])\n",
    "plt.axhline(y=0.5, color='grey', linestyle='--')"
   ]
  },
  {
   "cell_type": "code",
   "execution_count": null,
   "id": "ff08362e",
   "metadata": {},
   "outputs": [],
   "source": [
    "score_sort[30:].to_csv('top_stimuli.csv')"
   ]
  },
  {
   "cell_type": "markdown",
   "id": "0e59ada3",
   "metadata": {},
   "source": [
    "### Which stimmies to include in timing files..."
   ]
  },
  {
   "cell_type": "code",
   "execution_count": null,
   "id": "df11bb6e",
   "metadata": {},
   "outputs": [],
   "source": [
    "df['run'].unique()"
   ]
  },
  {
   "cell_type": "code",
   "execution_count": null,
   "id": "aed29570",
   "metadata": {},
   "outputs": [],
   "source": [
    "movie_list  = list(df[~df['moviestim'].isna()]['moviestim'])\n",
    "movie_stims = []\n",
    "\n",
    "for m in movie_list:\n",
    "    for x in top_images:\n",
    "        if x in m:\n",
    "            movie_stims.append(m)\n",
    "            \n",
    "len(set(movie_stims))\n",
    "\n",
    "movie_stims = set(movie_stims)"
   ]
  },
  {
   "cell_type": "code",
   "execution_count": null,
   "id": "32005504",
   "metadata": {},
   "outputs": [],
   "source": [
    "# movie_stims"
   ]
  },
  {
   "cell_type": "code",
   "execution_count": null,
   "id": "e10deec1",
   "metadata": {},
   "outputs": [],
   "source": [
    "# get the indices of good stimmies for each run\n",
    "\n",
    "# df with top movies only\n",
    "top_movie_df = df[df['moviestim'].isin(movie_stims)]\n",
    "\n",
    "# indices for each run\n",
    "for run in [1,2,3,4,5,6]:\n",
    "    print('Run: '+str(run))\n",
    "    print([x-1 for x in set(list(top_movie_df[top_movie_df['run']==run].index))])\n",
    "    print()\n",
    "\n",
    "# maybe also for veridical and scrambled, separately?"
   ]
  },
  {
   "cell_type": "code",
   "execution_count": null,
   "id": "d7cfc304",
   "metadata": {},
   "outputs": [],
   "source": []
  },
  {
   "cell_type": "code",
   "execution_count": null,
   "id": "c8e88d7f",
   "metadata": {},
   "outputs": [],
   "source": []
  },
  {
   "cell_type": "code",
   "execution_count": null,
   "id": "4bf7f1b8",
   "metadata": {},
   "outputs": [],
   "source": [
    "set(list(top_movie_df[top_movie_df['run']==6].index))"
   ]
  },
  {
   "cell_type": "code",
   "execution_count": null,
   "id": "c4a6bd1e",
   "metadata": {},
   "outputs": [],
   "source": []
  },
  {
   "cell_type": "code",
   "execution_count": null,
   "id": "82a2ec0f",
   "metadata": {},
   "outputs": [],
   "source": [
    "top_movie_df"
   ]
  },
  {
   "cell_type": "code",
   "execution_count": null,
   "id": "f5bd5b93",
   "metadata": {},
   "outputs": [],
   "source": []
  },
  {
   "cell_type": "code",
   "execution_count": null,
   "id": "df8a5664",
   "metadata": {},
   "outputs": [],
   "source": []
  },
  {
   "cell_type": "markdown",
   "id": "41c2fa5e",
   "metadata": {},
   "source": [
    "### Other plots"
   ]
  },
  {
   "cell_type": "code",
   "execution_count": null,
   "id": "261fd9b0",
   "metadata": {},
   "outputs": [],
   "source": [
    "from scipy.stats import binom\n",
    "\n",
    "sb.barplot(y='percent',x='moviestim',data=max_stims[max_stims['response_type'].isin(['Hit','Correct Reject'])], color='grey')\n",
    "plt.axhline(y=0.5, color='blue', linestyle='--')\n",
    "pylab.text(-11, .47, '50', fontsize = 22, color = 'blue') #, rotation=90)\n",
    "\n",
    "plt.ylabel('Percent correct')\n",
    "plt.yticks([0,1],labels=['0','100'])\n",
    "plt.xlabel('Video stimuli')\n",
    "plt.xticks([])\n",
    "\n",
    "\n",
    "for x in list(max_stims[max_stims['response_type']=='Hit']['run']):\n",
    "    p_value = binom.cdf(19, 19, .5)"
   ]
  },
  {
   "cell_type": "code",
   "execution_count": null,
   "id": "2ebe9559",
   "metadata": {},
   "outputs": [],
   "source": [
    "max_stims[(max_stims['response_type'].isin(['Correct Reject', 'Hit']))\n",
    "         &(max_stims['run']>=14)]\n",
    "\n",
    "max_stims[(max_stims['percent']>=.75)\n",
    "         &(max_stims['response_type'].isin(['Correct Reject', 'Hit']))]\n",
    "\n",
    "good_hit = max_stims[(max_stims['percent']>=.70)\n",
    "         &(max_stims['response_type'].isin(['Hit']))]\n",
    "\n",
    "good_stim = list(good_hit['moviestim'])\n",
    "good_stim = [ x[7:] for x in good_stim ]"
   ]
  },
  {
   "cell_type": "code",
   "execution_count": null,
   "id": "84d18e93",
   "metadata": {},
   "outputs": [],
   "source": [
    "max_stims[(max_stims['response_type'].isin(['Correct Reject']))\n",
    "         &(max_stims['run']>=13)]"
   ]
  },
  {
   "cell_type": "code",
   "execution_count": null,
   "id": "be5e2f9a",
   "metadata": {},
   "outputs": [],
   "source": [
    "chk = df.groupby(['participant','run'],as_index=False).sum()\n",
    "chk[chk['participant']=='subject_16c']"
   ]
  },
  {
   "cell_type": "markdown",
   "id": "ec3879f4",
   "metadata": {},
   "source": [
    "### Analyze"
   ]
  },
  {
   "cell_type": "markdown",
   "id": "4fc5eabb",
   "metadata": {},
   "source": [
    "Note that we can do the same thing you did in your for loop (which you did very carefully and very well, by the way :)) but in just one line, using the power of Pandas !"
   ]
  },
  {
   "cell_type": "code",
   "execution_count": null,
   "id": "242a4960",
   "metadata": {},
   "outputs": [],
   "source": [
    "# see how many hits, false alarms, etc each subject has\n",
    "grouped_df = df.groupby(['participant','response_type'],as_index=False).count()\n",
    "grouped_df\n",
    "\n",
    "sums = grouped_df.groupby('participant',as_index=False).sum()"
   ]
  },
  {
   "cell_type": "code",
   "execution_count": null,
   "id": "8b075136",
   "metadata": {},
   "outputs": [],
   "source": [
    "nan_list = []\n",
    "\n",
    "for a in list(df[df['participant']=='subject_21']['response_value']):\n",
    "    if a not in ['1','2']:\n",
    "        nan_list.append(a)\n",
    "        \n",
    "len(nan_list)"
   ]
  },
  {
   "cell_type": "code",
   "execution_count": null,
   "id": "71122ca1",
   "metadata": {},
   "outputs": [],
   "source": [
    "len([a for a in list(df[df['participant']=='subject_21']['response_value']) if a in ['1', '2']])"
   ]
  },
  {
   "cell_type": "code",
   "execution_count": null,
   "id": "e00e55e9",
   "metadata": {},
   "outputs": [],
   "source": [
    "df[(df['participant']=='subject_21')&~(df['run'].isna())]"
   ]
  },
  {
   "cell_type": "code",
   "execution_count": null,
   "id": "5cf8bc79",
   "metadata": {},
   "outputs": [],
   "source": [
    "sums"
   ]
  },
  {
   "cell_type": "markdown",
   "id": "fdcd2ba9",
   "metadata": {},
   "source": [
    "### total d-prime"
   ]
  },
  {
   "cell_type": "code",
   "execution_count": null,
   "id": "c264aaa5",
   "metadata": {
    "scrolled": false
   },
   "outputs": [],
   "source": [
    "df_z_scaled = grouped_df.copy()\n",
    "df_z_scaled['prop']   = np.nan#df_z_scaled['run'] / 120\n",
    "df_z_scaled['dprime'] = np.nan\n",
    "\n",
    "# for participant,total in zip(['sub_1','subject_2'],list(sums['run'])):\n",
    "\n",
    "for participant,total in zip(df_z_scaled['participant'].unique(),list(sums['run'])):\n",
    "    #print(participant)\n",
    "    #print()\n",
    "    df_z_scaled.loc[df_z_scaled['participant']==participant,'run'] = df_z_scaled[df_z_scaled['participant']==participant]['run']/total \n",
    "    \n",
    "    a = scipy.stats.norm.ppf(df_z_scaled[(df_z_scaled['participant']==participant)&(df_z_scaled['response_type']=='Hit')]['run'].item()) \n",
    "    #print(a)\n",
    "    \n",
    "    b = scipy.stats.norm.ppf(df_z_scaled[(df_z_scaled['participant']==participant)&(df_z_scaled['response_type']=='False Alarm')]['run'].item())\n",
    "    #print(b)   \n",
    "    \n",
    "    sub = a-b\n",
    "    \n",
    "    print(participant)\n",
    "    print(sub);print()\n",
    "    \n",
    "    #print(sub); print()\n",
    "    \n",
    "    df_z_scaled.loc[df_z_scaled['participant']==participant,'dprime'] = a - b\n",
    "    \n",
    "#     df_z_scaled.loc[df_z_scaled['participant']==participant,'dprime'] = scipy.stats.norm.ppf(df_z_scaled[(df_z_scaled['participant']==participant)\n",
    "#                                                                                    &(df_z_scaled['response_type']=='Hit')]['run'].item()) - scipy.stats.norm.ppf(df_z_scaled[(df_z_scaled['participant']==participant)\n",
    "#                                                                                                                                &(df_z_scaled['response_type']=='False Alarm')]['run'].item())\n",
    "    \n",
    "df_z_scaled['dprime'].unique()"
   ]
  },
  {
   "cell_type": "code",
   "execution_count": null,
   "id": "1b6caca9",
   "metadata": {},
   "outputs": [],
   "source": [
    "prime_df = df_z_scaled.groupby(['participant','dprime'],as_index=False).count()[['participant','dprime']]\n",
    "prime_df.to_csv('prime_df.csv')\n"
   ]
  },
  {
   "cell_type": "code",
   "execution_count": null,
   "id": "c8c2ce7b",
   "metadata": {},
   "outputs": [],
   "source": [
    "scipy.stats.norm.ppf(df_z_scaled[(df_z_scaled['participant']==participant)&(df_z_scaled['response_type']=='Hit')]['run'].item())"
   ]
  },
  {
   "cell_type": "code",
   "execution_count": null,
   "id": "d5c4ffaa",
   "metadata": {},
   "outputs": [],
   "source": [
    "prime_df"
   ]
  },
  {
   "cell_type": "markdown",
   "id": "8f68e1ec",
   "metadata": {},
   "source": [
    "### d prime by block #"
   ]
  },
  {
   "cell_type": "code",
   "execution_count": null,
   "id": "27cea277",
   "metadata": {
    "scrolled": false
   },
   "outputs": [],
   "source": [
    "df['run_prime'] = np.nan\n",
    "\n",
    "# for each participant\n",
    "for participant in df[~df['participant'].isna()]['participant'].unique():\n",
    "    \n",
    "    if participant == np.nan:\n",
    "        print('nan caught!')\n",
    "        \n",
    "        df.loc[(df['participant']==participant),'run_prime'] = np.nan\n",
    "    \n",
    "    elif participant != np.nan:\n",
    "\n",
    "        # for each experiment run (1-6)\n",
    "        for run in [1, 2, 3, 4, 5, 6]:\n",
    "\n",
    "            #print('run: '+str(run)); print()\n",
    "\n",
    "            y = 0\n",
    "\n",
    "            # select the data for that participant from the specified run\n",
    "            select_data = df[(df['participant']==participant)&(df['run']==run)]\n",
    "\n",
    "\n",
    "            ############## calculate the hit rate ##############\n",
    "\n",
    "            hits   = select_data[select_data['response_type']=='Hit'].shape[0]\n",
    "            misses = select_data[select_data['response_type']=='Miss'].shape[0]\n",
    "            s      = hits + misses\n",
    "\n",
    "            if s == 0:\n",
    "                hit_rate = 0\n",
    "  \n",
    "                y+=1\n",
    "\n",
    "            else:\n",
    "                hit_rate = hits / (hits+misses)\n",
    "\n",
    "\n",
    "            ############## calculate the false alarm rate ##############\n",
    "\n",
    "\n",
    "            FA     = select_data[select_data['response_type']=='False Alarm'].shape[0]\n",
    "            CR     = select_data[select_data['response_type']=='Correct Reject'].shape[0]\n",
    "            t      = FA + CR\n",
    "\n",
    "\n",
    "            if t == 0:\n",
    "                fa_rate = 0\n",
    "                y+=1\n",
    "\n",
    "            else:\n",
    "                fa_rate = FA / (FA+CR)\n",
    "\n",
    "\n",
    "\n",
    "            ############## subtract normed values --> Hit - FA ##############\n",
    "\n",
    "            d_prime = scipy.stats.norm.ppf(hit_rate) - scipy.stats.norm.ppf(fa_rate)\n",
    "            \n",
    "\n",
    "            if math.isinf(d_prime) or math.isnan(d_prime):\n",
    "                print(participant); print(run); print()\n",
    "            \n",
    "\n",
    "\n",
    "            ############## assign the value to the dataframe ##############\n",
    "\n",
    "            df.loc[(df['participant']==participant)&(df['run']==run),'run_prime'] =  d_prime\n",
    "\n",
    "\n",
    "\n"
   ]
  },
  {
   "cell_type": "code",
   "execution_count": null,
   "id": "45ae0230",
   "metadata": {},
   "outputs": [],
   "source": [
    "d_prime_by_run = df.groupby(['participant','run','run_prime'],as_index=False).sum()\n",
    "\n",
    "sb.violinplot( x='run', y='run_prime', data=d_prime_by_run, inner='point', color='white'); \n",
    "sb.swarmplot(  x='run', y='run_prime', data=d_prime_by_run, color='black'); "
   ]
  },
  {
   "cell_type": "code",
   "execution_count": null,
   "id": "096e5a8e",
   "metadata": {},
   "outputs": [],
   "source": [
    "sb.set(font_scale=2,style='white')\n",
    "#sb.set(style='white')\n",
    "\n",
    "# run_prime = df.groupby(['participant','run'],as_index=False)['run_dprime'].mean()\n",
    "d_prime_by_run['run'] = d_prime_by_run['run'].astype(int)\n",
    "\n",
    "sb.violinplot( x='run', y='run_prime', data=d_prime_by_run, inner='point', color='white'); \n",
    "sb.swarmplot(  x='run', y='run_prime', data=d_prime_by_run, color='black'); \n",
    "\n",
    "plt.xlabel('Run'); plt.ylabel('d-prime')\n",
    "\n",
    "\n",
    "plt.axhline(y=0, color='blue', linestyle='dashed'); \n",
    "plt.xticks([0, 1, 2, 3, 4, 5])\n",
    "plt.yticks([-2,3])\n",
    "\n",
    "pylab.text(-.9, -.15, '0', fontsize = 22, color = 'blue') #, rotation=90)\n",
    "\n",
    "plt.show()\n",
    "\n",
    "\n",
    "\n",
    "sb.barplot( x='run', y='run_dprime', data=run_prime ); plt.axhline(y=.5, color='grey', linestyle='dashed'); plt.show()\n",
    "\n",
    "sb.lineplot( x='run', y='run_dprime', data=run_prime, hue='participant' ); \n",
    "plt.axhline(y=.5,   color='grey', linestyle='dashed'); \n",
    "plt.axhline(y=0,    color='grey', linestyle='dashed'); \n",
    "plt.axhline(y=0.25, color='orange', linestyle='dashed'); \n",
    "\n",
    "plt.legend(bbox_to_anchor=(1.75, 1.75), loc=\"upper right\")\n",
    "plt.show()\n",
    "\n",
    "sb.lmplot( x='run', y='run_prime', data=run_prime); \n",
    "plt.legend(bbox_to_anchor=(1.75, 1.75), loc=\"upper right\")\n",
    "plt.show()\n",
    "\n",
    "# for p in run_prime['participant'].unique():\n",
    "#     print(p)\n",
    "#     sb.lineplot( x='run', y='run_dprime', data=run_prime[run_prime['participant']==p], hue='participant' ); \n",
    "#     plt.axhline(y=.5,   color='grey', linestyle='dashed'); \n",
    "#     plt.axhline(y=0,    color='grey', linestyle='dashed'); \n",
    "#     plt.axhline(y=0.25, color='orange', linestyle='dashed'); \n",
    "\n",
    "#     plt.legend(bbox_to_anchor=(1.75, 1.75), loc=\"upper right\")\n",
    "#     plt.show()"
   ]
  },
  {
   "cell_type": "code",
   "execution_count": null,
   "id": "7e5fb0ce",
   "metadata": {},
   "outputs": [],
   "source": [
    "# df_z_scaled['run_dprime']=np.nan; df['run_dprime']=np.nan\n",
    "\n",
    "# # for participant, percentage\n",
    "# for participant,total in zip(df_z_scaled['participant'].unique(),list(sums['run'])):\n",
    "#     # for each participant\n",
    "    \n",
    "#     # for each run\n",
    "#     for r in [ x for x in df[df['participant']==participant]['run'].unique() if x>0 ]:\n",
    "        \n",
    "#         print('The run is...'+str(r))\n",
    "    \n",
    "#         # Divide the number of hits by the total number of trials involving the target: Hit Rate = Hits / (Hits + Misses)\n",
    "#         # Divide the number of false alarms by the total number of trials involving non-targets: False Alarm Rate = False Alarms / (False Alarms + Correct Rejections)\n",
    "\n",
    "#         hit_p = scipy.stats.norm.ppf(df[(df['participant']==participant)&(df['run']==r)&(df['response_type']=='Hit')].shape[0] / df[(df['participant']==participant)&(df['run']==r)&(df['response_type'].isin(['Hit','Miss']))].shape[0])\n",
    "#         fa_p  = scipy.stats.norm.ppf(df[(df['participant']==participant)&(df['run']==r)&(df['response_type']=='False Alarm')].shape[0] / df[(df['participant']==participant)&(df['run']==r)&(df['response_type'].isin(['False Alarm','Correct Reject']))].shape[0])\n",
    "        \n",
    "#         print(hit_p)\n",
    "        \n",
    "#         #if fa_p != 0:\n",
    "#         df.loc[(df['participant']==participant)&(df['run']==r),'run_dprime'] = hit_p - fa_p\n",
    "       \n"
   ]
  },
  {
   "cell_type": "code",
   "execution_count": null,
   "id": "b7124737",
   "metadata": {},
   "outputs": [],
   "source": [
    "df_z_scaled[df_z_scaled['dprime']>.5]['participant'].unique()"
   ]
  },
  {
   "cell_type": "code",
   "execution_count": null,
   "id": "7de65f4a",
   "metadata": {},
   "outputs": [],
   "source": [
    "df.columns"
   ]
  },
  {
   "cell_type": "code",
   "execution_count": null,
   "id": "bb907170",
   "metadata": {},
   "outputs": [],
   "source": [
    "a = list(df[df['run']==2]['participant'].unique())\n",
    "b = list(df[df['run']==1]['participant'].unique())\n",
    "\n",
    "for c in a:\n",
    "    if c not in b:\n",
    "        print(c) "
   ]
  },
  {
   "cell_type": "code",
   "execution_count": null,
   "id": "6e873b48",
   "metadata": {},
   "outputs": [],
   "source": [
    "primes = df_z_scaled['dprime'].unique()\n"
   ]
  },
  {
   "cell_type": "code",
   "execution_count": null,
   "id": "44793fec",
   "metadata": {},
   "outputs": [],
   "source": [
    "# for p in df_z_scaled[df_z_scaled['participant']=='subject_19'] #['dprime']#['participant'].unique()"
   ]
  },
  {
   "cell_type": "code",
   "execution_count": null,
   "id": "56e85d52",
   "metadata": {},
   "outputs": [],
   "source": [
    "# df_z_scaled['dprime'].unique()\n",
    "\n",
    "sb.swarmplot( x=primes, color='black', size=10)\n",
    "sb.violinplot(x=primes, color='white', inner=None)\n",
    "\n",
    "\n",
    "plt.axvline(x=0, color='blue', linestyle='--')\n",
    "\n",
    "plt.xlabel('d-prime')\n",
    "# plt.xlim(30,100)\n",
    "plt.xticks([-.5, .5,1,1.5])\n",
    "\n",
    "\n",
    "pylab.text(-.04, .589999, '0', fontsize = 22, color = 'blue') #, rotation=90)\n",
    "\n",
    "plt.show()"
   ]
  },
  {
   "cell_type": "code",
   "execution_count": null,
   "id": "ee5ab46d",
   "metadata": {},
   "outputs": [],
   "source": [
    "percent_correct = []\n",
    "\n",
    "for p in df_z_scaled['participant'].unique():\n",
    "    \n",
    "    right = df_z_scaled[(df_z_scaled['response_type'].isin(['Correct Reject','Hit']))\n",
    "                       &(df_z_scaled['participant']==p)]['run'].sum() \n",
    "    \n",
    "    wrong = df_z_scaled[(df_z_scaled['response_type'].isin(['Miss','False Alarm']))\n",
    "                       &(df_z_scaled['participant']==p)]['run'].sum()\n",
    "    \n",
    "    percent_correct.append(100*right/(right+wrong))\n",
    "\n",
    "#sb.violinplot(percent_correct, inner='point', color='black')\n",
    "sb.swarmplot(x=percent_correct, color='black', size=10)\n",
    "sb.violinplot(x=percent_correct, color='white', inner=None)\n",
    "\n",
    "\n",
    "plt.axvline(x=50, color='blue', linestyle='--')\n",
    "\n",
    "plt.xlabel('Percent correct')\n",
    "plt.xlim(30,100)\n",
    "plt.xticks([30, 100])\n",
    "\n",
    "# pylab.text(45, .4, 'chance', fontsize = 28, color = 'blue', rotation=90)\n",
    "pylab.text(48, .59, '50', fontsize = 22, color = 'blue') #, rotation=90)\n",
    "\n",
    "plt.show()"
   ]
  },
  {
   "cell_type": "code",
   "execution_count": null,
   "id": "96a7d9fc",
   "metadata": {
    "scrolled": false
   },
   "outputs": [],
   "source": [
    "percent_correct = []\n",
    "\n",
    "for p in df_z_scaled['participant'].unique():\n",
    "    \n",
    "    right = df_z_scaled[(df_z_scaled['response_type'].isin(['Correct Reject','Hit']))\n",
    "                       &(df_z_scaled['participant']==p)]['run'].sum() \n",
    "    \n",
    "    wrong = df_z_scaled[(df_z_scaled['response_type'].isin(['Miss','False Alarm']))\n",
    "                       &(df_z_scaled['participant']==p)]['run'].sum()\n",
    "    \n",
    "    percent_correct.append(100*right/(right+wrong))\n",
    "\n",
    "#sb.violinplot(percent_correct, inner='point', color='black')\n",
    "sb.swarmplot(x=percent_correct, color='black', size=10)\n",
    "sb.violinplot(x=percent_correct, color='white', inner=None)\n",
    "\n",
    "\n",
    "plt.axvline(x=50, color='blue', linestyle='--')\n",
    "\n",
    "plt.xlabel('Percent correct')\n",
    "plt.xlim(30,100)\n",
    "plt.xticks([30, 100])\n",
    "\n",
    "# pylab.text(45, .4, 'chance', fontsize = 28, color = 'blue', rotation=90)\n",
    "pylab.text(48, .59, '50', fontsize = 22, color = 'blue') #, rotation=90)\n",
    "\n",
    "plt.show()\n"
   ]
  },
  {
   "cell_type": "code",
   "execution_count": null,
   "id": "e9a9146e",
   "metadata": {},
   "outputs": [],
   "source": [
    "scipy.stats.ttest_1samp(percent_correct,.5)"
   ]
  },
  {
   "cell_type": "code",
   "execution_count": null,
   "id": "9e9c9a1c",
   "metadata": {},
   "outputs": [],
   "source": [
    "df.loc[df['participant']=='subject_16c3','participant'] = 'subject_16c'"
   ]
  },
  {
   "cell_type": "code",
   "execution_count": null,
   "id": "0b7d574d",
   "metadata": {},
   "outputs": [],
   "source": [
    "# run_prime"
   ]
  },
  {
   "cell_type": "markdown",
   "id": "79f414f0",
   "metadata": {},
   "source": [
    "re-run analysis with subjects 7, 11, 22"
   ]
  },
  {
   "cell_type": "code",
   "execution_count": null,
   "id": "07a5d7e9",
   "metadata": {
    "scrolled": false
   },
   "outputs": [],
   "source": [
    "# run_prime = df.groupby(['participant'],as_index=False)['run_dprime'].mean()\n",
    "# #run_prime['run'] = run_prime['run'].astype(int)\n",
    "# sb.violinplot( x='run_dprime', data=run_prime, inner='point', color='white'); \n",
    "\n",
    "# plt.xlabel('d-prime')\n",
    "# # plt.ylabel('Run'); \n",
    "\n",
    "# plt.axvline(x=0, color='blue', linestyle='dashed'); \n",
    "\n",
    "# plt.xticks([-1, 3])\n",
    "# #plt.yticks([-2,3])\n",
    "\n",
    "# pylab.text(-.06, .6, '0', fontsize = 22, color = 'blue') #, rotation=90)\n",
    "\n",
    "# plt.show()"
   ]
  },
  {
   "cell_type": "code",
   "execution_count": null,
   "id": "7ab98566",
   "metadata": {},
   "outputs": [],
   "source": [
    "# for p in run_prime['participant'].unique():\n",
    "#     print(p)\n",
    "#     sb.lineplot( x='run', y='run_dprime', data=run_prime[run_prime['participant']==p], hue='participant' ); \n",
    "#     plt.axhline(y=.5,   color='grey', linestyle='dashed'); \n",
    "#     plt.axhline(y=0,    color='grey', linestyle='dashed'); \n",
    "#     plt.axhline(y=0.25, color='orange', linestyle='dashed'); \n",
    "\n",
    "#     plt.legend(bbox_to_anchor=(1.75, 1.75), loc=\"upper right\")\n",
    "#     plt.show()"
   ]
  },
  {
   "cell_type": "code",
   "execution_count": null,
   "id": "266930a2",
   "metadata": {},
   "outputs": [],
   "source": [
    "#run_prime#.columns#['run']"
   ]
  },
  {
   "cell_type": "code",
   "execution_count": null,
   "id": "47cdc969",
   "metadata": {},
   "outputs": [],
   "source": [
    "#len(list(run_prime['participant'].unique()))\n",
    "\n",
    "#run_prime"
   ]
  },
  {
   "cell_type": "code",
   "execution_count": null,
   "id": "593e8306",
   "metadata": {},
   "outputs": [],
   "source": [
    "run_prime[run_prime['run']==1]"
   ]
  },
  {
   "cell_type": "markdown",
   "id": "a51d93df",
   "metadata": {},
   "source": [
    "sb.scatterplot( y='run', x='run_dprime', data=run_prime[run_prime['run']==1]); "
   ]
  },
  {
   "cell_type": "code",
   "execution_count": null,
   "id": "3a2154b9",
   "metadata": {
    "scrolled": false
   },
   "outputs": [],
   "source": [
    "sb.set(font_scale=2,style='white')\n",
    "#sb.set(style='white')\n",
    "\n",
    "run_prime = df.groupby(['participant','run'],as_index=False)['run_dprime'].mean()\n",
    "run_prime['run'] = run_prime['run'].astype(int)\n",
    "\n",
    "sb.violinplot( x='run', y='run_dprime', data=run_prime, inner='point', color='white'); \n",
    "sb.swarmplot(  x='run', y='run_dprime', data=run_prime, color='black'); \n",
    "\n",
    "plt.xlabel('Run'); plt.ylabel('d-prime')\n",
    "\n",
    "\n",
    "plt.axhline(y=0, color='blue', linestyle='dashed'); \n",
    "plt.xticks([0, 1, 2, 3, 4, 5])\n",
    "plt.yticks([-2,3])\n",
    "\n",
    "pylab.text(-.9, -.15, '0', fontsize = 22, color = 'blue') #, rotation=90)\n",
    "\n",
    "plt.show()\n",
    "\n",
    "\n",
    "\n",
    "sb.barplot( x='run', y='run_dprime', data=run_prime ); plt.axhline(y=.5, color='grey', linestyle='dashed'); plt.show()\n",
    "\n",
    "sb.lineplot( x='run', y='run_dprime', data=run_prime, hue='participant' ); \n",
    "plt.axhline(y=.5,   color='grey', linestyle='dashed'); \n",
    "plt.axhline(y=0,    color='grey', linestyle='dashed'); \n",
    "plt.axhline(y=0.25, color='orange', linestyle='dashed'); \n",
    "\n",
    "plt.legend(bbox_to_anchor=(1.75, 1.75), loc=\"upper right\")\n",
    "plt.show()\n",
    "\n",
    "sb.lmplot( x='run', y='run_dprime', data=run_prime); \n",
    "plt.legend(bbox_to_anchor=(1.75, 1.75), loc=\"upper right\")\n",
    "plt.show()\n",
    "\n",
    "# for p in run_prime['participant'].unique():\n",
    "#     print(p)\n",
    "#     sb.lineplot( x='run', y='run_dprime', data=run_prime[run_prime['participant']==p], hue='participant' ); \n",
    "#     plt.axhline(y=.5,   color='grey', linestyle='dashed'); \n",
    "#     plt.axhline(y=0,    color='grey', linestyle='dashed'); \n",
    "#     plt.axhline(y=0.25, color='orange', linestyle='dashed'); \n",
    "\n",
    "#     plt.legend(bbox_to_anchor=(1.75, 1.75), loc=\"upper right\")\n",
    "#     plt.show()\n",
    "    \n",
    "    "
   ]
  },
  {
   "cell_type": "code",
   "execution_count": null,
   "id": "468548a4",
   "metadata": {},
   "outputs": [],
   "source": []
  },
  {
   "cell_type": "code",
   "execution_count": null,
   "id": "3414e24e",
   "metadata": {},
   "outputs": [],
   "source": [
    "df_z_scaled.groupby(['participant'],as_index=False).count()"
   ]
  },
  {
   "cell_type": "code",
   "execution_count": null,
   "id": "3c4b5480",
   "metadata": {},
   "outputs": [],
   "source": [
    "df_z_scaled['participant'].unique() #['dprime'].unique()"
   ]
  },
  {
   "cell_type": "code",
   "execution_count": null,
   "id": "9f29f55b",
   "metadata": {},
   "outputs": [],
   "source": [
    "p = df_z_scaled.sort_values(by=['dprime'], ascending=False)\n",
    "sb.barplot(x='participant', y='dprime', data=p)\n",
    "plt.xticks(rotation=90)\n",
    "plt.gca().set_xticklabels([])\n",
    "plt.ylim(0,1.2)\n",
    "plt.show()"
   ]
  },
  {
   "cell_type": "code",
   "execution_count": null,
   "id": "5edeefb8",
   "metadata": {},
   "outputs": [],
   "source": [
    "df.columns"
   ]
  },
  {
   "cell_type": "code",
   "execution_count": null,
   "id": "bff4f509",
   "metadata": {},
   "outputs": [],
   "source": [
    "import matplotlib.pyplot as plt\n",
    "x1 = 0; y1 = 0\n",
    "x2 = 1; y2 = 1\n",
    "# plt.plot(x1, y1, x2, y2, marker = 'o')\n",
    "plt.axline((x1, y1), (x2, y2), color='grey')\n",
    "\n",
    "x = [.175, .32,] \n",
    "x2 = [.378,  .28]\n",
    "y = [.341, .34,] \n",
    "y2 = [.369,  .25]\n",
    "\n",
    "a = sb.scatterplot(x=x,y=y,color='red',marker='o',s=60)\n",
    "a = sb.scatterplot(x=x2,y=y2,color='blue',marker='o',s=60)\n",
    "a.set_aspect('equal')\n",
    "plt.xlim(0,1)\n",
    "plt.ylim(0,1)\n",
    "\n",
    "for a,b in zip(x,y):\n",
    "    print(a)\n",
    "    d_prime = np.round(scipy.stats.norm.ppf(b)-scipy.stats.norm.ppf(a),2)\n",
    "    print()\n",
    "    \n",
    "    if d_prime < 0:\n",
    "        plt.text(x=a-.04, y=b-.08, s=str(d_prime),color='blue')\n",
    "    else:\n",
    "        plt.text(x=a-.07, y=b+.05, s=str(d_prime),color='red')\n",
    "        \n",
    "for a,b in zip(x2,y2):\n",
    "    print(a)\n",
    "    d_prime = np.round(scipy.stats.norm.ppf(b)-scipy.stats.norm.ppf(a),2)\n",
    "    print()\n",
    "    \n",
    "    if d_prime < 0:\n",
    "        plt.text(x=a-.04, y=b-.08, s=str(d_prime),color='blue')\n",
    "    else:\n",
    "        plt.text(x=a-.09, y=b+.08, s=str(d_prime),color='red')\n",
    "        \n",
    "        \n",
    "plt.xlabel('False Positive Rate',fontsize=20)\n",
    "plt.ylabel('True Positive Rate',fontsize=20)\n",
    "\n",
    "plt.show()"
   ]
  },
  {
   "cell_type": "code",
   "execution_count": null,
   "id": "387ac9c7",
   "metadata": {},
   "outputs": [],
   "source": [
    "#df['blobs'].unique()"
   ]
  },
  {
   "cell_type": "code",
   "execution_count": null,
   "id": "fbcb1222",
   "metadata": {},
   "outputs": [],
   "source": [
    "#df\n",
    "\n",
    "# import matplotlib.pyplot as plt\n",
    "# x1 = 0; y1 = 0\n",
    "# x2 = 1; y2 = 1\n",
    "# # plt.plot(x1, y1, x2, y2, marker = 'o')\n",
    "# plt.axline((x1, y1), (x2, y2), color='grey')\n",
    "\n",
    "# x = [.175, .32,] \n",
    "# x2 = [.378,  .28]\n",
    "# y = [.341, .34,] \n",
    "# y2 = [.369,  .25]\n",
    "\n",
    "# a = sb.scatterplot(x=x,y=y,color='red',marker='o',s=60)\n",
    "# a = sb.scatterplot(x=x2,y=y2,color='blue',marker='o',s=60)\n",
    "# a.set_aspect('equal')\n",
    "# plt.xlim(0,1)\n",
    "# plt.ylim(0,1)\n",
    "\n",
    "# for a,b in zip(x,y):\n",
    "#     print(a)\n",
    "#     d_prime = np.round(scipy.stats.norm.ppf(b)-scipy.stats.norm.ppf(a),2)\n",
    "#     print()\n",
    "    \n",
    "#     if d_prime < 0:\n",
    "#         plt.text(x=a-.04, y=b-.08, s=str(d_prime),color='blue')\n",
    "#     else:\n",
    "#         plt.text(x=a-.07, y=b+.05, s=str(d_prime),color='red')\n",
    "        \n",
    "# for a,b in zip(x2,y2):\n",
    "#     print(a)\n",
    "#     d_prime = np.round(scipy.stats.norm.ppf(b)-scipy.stats.norm.ppf(a),2)\n",
    "#     print()\n",
    "    \n",
    "#     if d_prime < 0:\n",
    "#         plt.text(x=a-.04, y=b-.08, s=str(d_prime),color='blue')\n",
    "#     else:\n",
    "#         plt.text(x=a-.09, y=b+.08, s=str(d_prime),color='red')\n",
    "        \n",
    "        \n",
    "# plt.xlabel('False Positive Rate',fontsize=20)\n",
    "# plt.ylabel('True Positive Rate',fontsize=20)\n",
    "\n",
    "# plt.show()"
   ]
  },
  {
   "cell_type": "code",
   "execution_count": null,
   "id": "ad1108ba",
   "metadata": {},
   "outputs": [],
   "source": [
    "gr[gr['blobs']>0].groupby(['response_type','participant'],as_index=False).mean()"
   ]
  },
  {
   "cell_type": "code",
   "execution_count": null,
   "id": "66e0e822",
   "metadata": {},
   "outputs": [],
   "source": []
  },
  {
   "cell_type": "code",
   "execution_count": null,
   "id": "daac1b73",
   "metadata": {},
   "outputs": [],
   "source": [
    "df_z_scaled"
   ]
  },
  {
   "cell_type": "code",
   "execution_count": null,
   "id": "a6233abd",
   "metadata": {},
   "outputs": [],
   "source": [
    "gr.groupby('blobs').count()"
   ]
  },
  {
   "cell_type": "code",
   "execution_count": null,
   "id": "b1bd8556",
   "metadata": {},
   "outputs": [],
   "source": [
    "df['moviestim'].iloc[1]"
   ]
  },
  {
   "cell_type": "code",
   "execution_count": null,
   "id": "44d7c0d7",
   "metadata": {},
   "outputs": [],
   "source": [
    "df['participant'].unique()"
   ]
  },
  {
   "cell_type": "code",
   "execution_count": null,
   "id": "8d3ca605",
   "metadata": {},
   "outputs": [],
   "source": [
    "df.columns"
   ]
  },
  {
   "cell_type": "markdown",
   "id": "52d24719",
   "metadata": {},
   "source": [
    "Average number of misses, correct rejects, etc across subjects"
   ]
  },
  {
   "cell_type": "code",
   "execution_count": null,
   "id": "955b921d",
   "metadata": {},
   "outputs": [],
   "source": [
    "count_df = df.groupby(['participant','response_type'],as_index=False).count()\n",
    "sb.barplot(data=count_df, x = 'response_type', y='run')"
   ]
  },
  {
   "cell_type": "code",
   "execution_count": null,
   "id": "5cea2266",
   "metadata": {},
   "outputs": [],
   "source": [
    "count_df"
   ]
  },
  {
   "cell_type": "code",
   "execution_count": null,
   "id": "fce0678c",
   "metadata": {},
   "outputs": [],
   "source": [
    "## START: check for johan ##"
   ]
  },
  {
   "cell_type": "code",
   "execution_count": null,
   "id": "c6fc128b",
   "metadata": {},
   "outputs": [],
   "source": [
    "df['participant'].unique()"
   ]
  },
  {
   "cell_type": "code",
   "execution_count": null,
   "id": "3e907401",
   "metadata": {},
   "outputs": [],
   "source": [
    "experiment_df = pd.read_csv('/Users/kirstenziman/Desktop/online_experiment.csv')"
   ]
  },
  {
   "cell_type": "code",
   "execution_count": null,
   "id": "91241c85",
   "metadata": {},
   "outputs": [],
   "source": [
    "trial_df = experiment_df[experiment_df['video_A']=='Trials'] #[trial_df['display']]#.isin([27, 31, 34, 47, 56, 60])]\n",
    "trial_df['trial_count'] = range(0,trial_df.shape[0])"
   ]
  },
  {
   "cell_type": "code",
   "execution_count": null,
   "id": "ae8cc576",
   "metadata": {},
   "outputs": [],
   "source": [
    "over_84\n",
    "\n",
    "trial_df"
   ]
  },
  {
   "cell_type": "code",
   "execution_count": null,
   "id": "0e75957d",
   "metadata": {},
   "outputs": [],
   "source": [
    "over_84 = trial_df[trial_df['randomise_trial'].isin(['27', '31', '34', '47', '56', '60'])]\n",
    "_55_65  = trial_df[trial_df['randomise_trial'].isin(['6', '11', '13', '20', '21', '46', '49', '53'])]\n",
    "low_acc = trial_df[trial_df['randomise_trial'].isin(['41', '45'])]"
   ]
  },
  {
   "cell_type": "code",
   "execution_count": null,
   "id": "8307fbad",
   "metadata": {},
   "outputs": [],
   "source": [
    "trial_df['randomise_trial'][1]"
   ]
  },
  {
   "cell_type": "code",
   "execution_count": null,
   "id": "a778d6a8",
   "metadata": {},
   "outputs": [],
   "source": [
    "movie_labels = []\n",
    "\n",
    "for x in list(df['moviestim']):\n",
    "    \n",
    "    if type(x)==str:\n",
    "        movie_labels.append(x[7:23])\n",
    "        \n",
    "    else:\n",
    "        movie_labels.append(np.nan)\n",
    "        \n",
    "df['movie_labels'] = movie_labels\n",
    "\n",
    "#df['movie_label'] = [x[:12] for x in list(df['moviestim']) if type(x)==str]"
   ]
  },
  {
   "cell_type": "code",
   "execution_count": null,
   "id": "6d61f0be",
   "metadata": {},
   "outputs": [],
   "source": []
  },
  {
   "cell_type": "code",
   "execution_count": null,
   "id": "3f302cf9",
   "metadata": {},
   "outputs": [],
   "source": []
  },
  {
   "cell_type": "code",
   "execution_count": null,
   "id": "33535bc7",
   "metadata": {},
   "outputs": [],
   "source": [
    "sb.set(font_scale=2)\n",
    "sb.set_style(\"white\")"
   ]
  },
  {
   "cell_type": "code",
   "execution_count": null,
   "id": "d3a3fc34",
   "metadata": {},
   "outputs": [],
   "source": [
    "the_list   = ['fps_60/'+x[:-6]+'60.mp4' for x in list(_55_65  ['video_B'])]\n",
    "verid_list = [x.replace('scrambled','veridical') for x in the_list]\n",
    "scram_list = [x.replace('veridical','scrambled') for x in the_list]\n",
    "\n",
    "fig, (ax1, ax2) = plt.subplots(1, 2, gridspec_kw={'width_ratios':[2, 2]}, figsize=(20,5))\n",
    "        \n",
    "count_df   = df[df['moviestim'].isin(verid_list)].groupby(['movie_labels','participant','response_type'],as_index=False).count()\n",
    "ax1 = sb.histplot(data=count_df, x=\"moviestim\", hue=\"response_type\", multiple=\"stack\", palette=['blue','orange'], ax=ax1)\n",
    "# ax1.set_xticks(rotation=90);\n",
    "plt.ylabel('Number of subjects')\n",
    "ax1.set_title(\"Veridical Videos - Online 55-65%\")\n",
    "\n",
    "\n",
    "count_df   = df[df['moviestim'].isin(scram_list)].groupby(['movie_labels','participant','response_type'],as_index=False).count()\n",
    "ax2 = sb.histplot(data=count_df, x=\"moviestim\", hue=\"response_type\", multiple=\"stack\", palette=['green','red'], ax=ax2)\n",
    "plt.xticks(rotation=90)\n",
    "plt.ylabel('Number of subjects')\n",
    "plt.title('Scrambled Videos - Online 55-65%')\n"
   ]
  },
  {
   "cell_type": "code",
   "execution_count": null,
   "id": "3934891a",
   "metadata": {},
   "outputs": [],
   "source": [
    "the_list   = ['fps_60/'+x[:-6]+'60.mp4' for x in list(over_84['video_B'])]\n",
    "verid_list = [x.replace('scrambled','veridical') for x in the_list]\n",
    "scram_list = [x.replace('veridical','scrambled') for x in the_list]\n",
    "\n",
    "fig, (ax1, ax2) = plt.subplots(1, 2, gridspec_kw={'width_ratios':[2, 2]}, figsize=(20,5))\n",
    "\n",
    "count_df   = df[df['moviestim'].isin(verid_list)].groupby(['movie_labels','participant','response_type'],as_index=False).count()\n",
    "ax1 = sb.histplot(data=count_df, x=\"moviestim\", hue=\"response_type\", multiple=\"stack\", palette=['blue','orange'], ax=ax1)\n",
    "#plt.xticks(rotation=90)\n",
    "plt.ylabel('Number of subjects')\n",
    "ax1.set_title(\"Veridical Videos - Online Over 84%\")\n",
    "\n",
    "\n",
    "count_df   = df[df['moviestim'].isin(scram_list)].groupby(['movie_labels','participant','response_type'],as_index=False).count()\n",
    "ax2 = sb.histplot(data=count_df, x=\"moviestim\", hue=\"response_type\", multiple=\"stack\", palette=['green','red'], ax=ax2)\n",
    "plt.xticks(rotation=90)\n",
    "plt.ylabel('Number of subjects')\n",
    "plt.title('Scrambled Videos - Online Over 84%')\n",
    "#plt.show()"
   ]
  },
  {
   "cell_type": "code",
   "execution_count": null,
   "id": "27dc346f",
   "metadata": {},
   "outputs": [],
   "source": [
    "the_list   = ['fps_60/'+x[:-6]+'60.mp4' for x in list(low_acc  ['video_B'])]\n",
    "verid_list = [x.replace('scrambled','veridical') for x in the_list]\n",
    "scram_list = [x.replace('veridical','scrambled') for x in the_list]\n",
    "\n",
    "fig, (ax1, ax2) = plt.subplots(1, 2, gridspec_kw={'width_ratios':[2, 2]}, figsize=(20,5))\n",
    "        \n",
    "count_df   = df[df['moviestim'].isin(verid_list)].groupby(['movie_labels','participant','response_type'],as_index=False).count()\n",
    "ax1 = sb.histplot(data=count_df, x=\"moviestim\", hue=\"response_type\", multiple=\"stack\", palette=['orange','blue'], ax=ax1)\n",
    "# ax1.set_xticks(rotation=90);\n",
    "plt.ylabel('Number of subjects')\n",
    "ax1.set_title(\"Veridical Videos - Online Low Accuracy%\")\n",
    "\n",
    "\n",
    "count_df   = df[df['moviestim'].isin(scram_list)].groupby(['movie_labels','participant','response_type'],as_index=False).count()\n",
    "ax2 = sb.histplot(data=count_df, x=\"moviestim\", hue=\"response_type\", multiple=\"stack\", palette=['red','green'], ax=ax2)\n",
    "plt.xticks(rotation=90)\n",
    "plt.ylabel('Number of subjects')\n",
    "plt.title('Scrambled Videos - Online Low Accuracy%')"
   ]
  },
  {
   "cell_type": "code",
   "execution_count": null,
   "id": "040ddf3e",
   "metadata": {},
   "outputs": [],
   "source": [
    "df.columns #[df['moviestim'].isin(verid_list)][['']]"
   ]
  },
  {
   "cell_type": "code",
   "execution_count": null,
   "id": "b9e03df5",
   "metadata": {},
   "outputs": [],
   "source": [
    "df.columns #[df['moviestim'].isin(verid_list)][['']]"
   ]
  },
  {
   "cell_type": "code",
   "execution_count": null,
   "id": "36aabbb4",
   "metadata": {},
   "outputs": [],
   "source": [
    "scram_list"
   ]
  },
  {
   "cell_type": "code",
   "execution_count": null,
   "id": "00bd52a1",
   "metadata": {},
   "outputs": [],
   "source": [
    "scram_list"
   ]
  },
  {
   "cell_type": "code",
   "execution_count": null,
   "id": "185fddb3",
   "metadata": {},
   "outputs": [],
   "source": [
    "the_list   = ['fps_60/'+x[:-6]+'60.mp4' for x in list(low_acc['video_B'])]\n",
    "verid_list = [x.replace('scrambled','veridical') for x in the_list]\n",
    "scram_list = [x.replace('veridical','scrambled') for x in the_list]\n",
    "\n",
    "\n",
    "count_df   = df[df['moviestim'].isin(verid_list)].groupby(['movie_labels','participant','response_type'],as_index=False).count()\n",
    "sb.histplot(data=count_df, x=\"movie_labels\", hue=\"response_type\", multiple=\"stack\")\n",
    "plt.xticks(rotation=90)\n",
    "plt.ylabel('Number of subjects')\n",
    "plt.title('Veridical Videos - Online Low Accuracy')\n",
    "plt.show()\n",
    "\n",
    "count_df   = df[df['moviestim'].isin(scram_list)].groupby(['movie_labels','participant','response_type'],as_index=False).count()\n",
    "sb.histplot(data=count_df, x=\"movie_labels\", hue=\"response_type\", multiple=\"stack\", palette=['red','green'])\n",
    "plt.xticks(rotation=90)\n",
    "plt.ylabel('Number of subjects')\n",
    "plt.title('Scrambled Videos - Online Low Accuracy')\n",
    "plt.show()"
   ]
  },
  {
   "cell_type": "code",
   "execution_count": null,
   "id": "9ef8e19e",
   "metadata": {},
   "outputs": [],
   "source": [
    "verid_list"
   ]
  },
  {
   "cell_type": "code",
   "execution_count": null,
   "id": "1fdb571a",
   "metadata": {},
   "outputs": [],
   "source": [
    "len(df[df['moviestim'].isin(verid_list)]['participant'].unique()) #['moviestim']"
   ]
  },
  {
   "cell_type": "code",
   "execution_count": null,
   "id": "a5e1f428",
   "metadata": {},
   "outputs": [],
   "source": [
    "scram_list"
   ]
  },
  {
   "cell_type": "code",
   "execution_count": null,
   "id": "d8fb9b20",
   "metadata": {},
   "outputs": [],
   "source": [
    "df[df['moviestim'].isin(scram_list)]#['participant'].unique())"
   ]
  },
  {
   "cell_type": "code",
   "execution_count": null,
   "id": "4ab65614",
   "metadata": {},
   "outputs": [],
   "source": [
    "_55_65"
   ]
  },
  {
   "cell_type": "code",
   "execution_count": null,
   "id": "8a4b3ae7",
   "metadata": {},
   "outputs": [],
   "source": [
    "over_84"
   ]
  },
  {
   "cell_type": "code",
   "execution_count": null,
   "id": "ff234719",
   "metadata": {},
   "outputs": [],
   "source": [
    "## END: check for johan ##"
   ]
  },
  {
   "cell_type": "markdown",
   "id": "db5f9745",
   "metadata": {},
   "source": [
    "Plots for each individual subject"
   ]
  },
  {
   "cell_type": "code",
   "execution_count": null,
   "id": "893d4bae",
   "metadata": {},
   "outputs": [],
   "source": [
    "d = df[df['response_type'].isin(['Hit','False Alarm','Miss','Correct Reject'])]\n",
    "d['participant'] = d['participant'].astype(str)\n",
    "d.loc[d['participant']=='subject_16c3','participant'] = 'subject_16c'\n",
    "\n",
    "df.loc[df['participant']=='subject_16c3','participant'] = 'subject_16c'\n",
    "\n",
    "a = sb.histplot(data=d, x=\"participant\", hue=\"response_type\", multiple=\"stack\")"
   ]
  },
  {
   "cell_type": "code",
   "execution_count": null,
   "id": "a1b71d49-54a9-4ecc-87b6-81deb1247cec",
   "metadata": {},
   "outputs": [],
   "source": [
    "d['participant'].unique()"
   ]
  },
  {
   "cell_type": "markdown",
   "id": "af27db63",
   "metadata": {},
   "source": [
    "Overall accuracy is hit rate plus the correct reject rate"
   ]
  },
  {
   "cell_type": "code",
   "execution_count": null,
   "id": "d0413217",
   "metadata": {},
   "outputs": [],
   "source": [
    "count_df['correct_response'] = np.nan\n",
    "count_df.loc[(count_df['response_type']=='Correct Reject')|(count_df['response_type']=='Hit'),'correct_response']='Correct'\n",
    "count_df.loc[(count_df['response_type']=='Miss')|(count_df['response_type']=='False Alarm'),'correct_response']='Wrong'"
   ]
  },
  {
   "cell_type": "code",
   "execution_count": null,
   "id": "54c0960e",
   "metadata": {},
   "outputs": [],
   "source": [
    "corr_group = count_df.groupby(['participant','correct_response'],as_index=False).sum()"
   ]
  },
  {
   "cell_type": "code",
   "execution_count": null,
   "id": "152c7cd4",
   "metadata": {},
   "outputs": [],
   "source": [
    "corr_group.groupby(['participant','correct_response'],as_index=False).sum()\n",
    "\n",
    "for subject in corr_group['participant'].unique():\n",
    "    \n",
    "    print('participant: '+str(subject))\n",
    "    print('percent correct: '+str(corr_group[(corr_group['participant']==subject)\n",
    "             &(corr_group['correct_response']=='Correct')]['run'].item()/120))\n",
    "    print()\n",
    "    "
   ]
  },
  {
   "cell_type": "markdown",
   "id": "d3c67f95",
   "metadata": {},
   "source": [
    "# Next steps"
   ]
  },
  {
   "cell_type": "markdown",
   "id": "7c8383d5",
   "metadata": {},
   "source": [
    "First, we will want to address the updates to that function that I commented\n",
    "\n",
    "Then, I think we should dig into a few things including individual stimuli (which ones are \"good\") and also see what strategies people are using and how they are really doing...\n",
    "\n",
    "- calculate d prime (http://phonetics.linguistics.ucla.edu/facilities/statistics/dprime.htm)\n",
    "\n",
    "\n",
    "- raw bumbers of each button press\n",
    "    - how many times total does each person hit 1 and 2 (regardles of whether correct)\n",
    "    \n",
    "\n",
    "- assess which strategies people are using \n",
    "    - e.g. when in doubt, are they usually hitting 1 and then just occasionally hitting 2?\n",
    "\n",
    "\n",
    "- which stimuli are \"good\" or easier?\n",
    "    - specifically, are there some video stimuli people are good at BOTH pressing 1 when it is veridical AND pressing 2 when it is scrambled?\n",
    "    \n",
    "    \n",
    "- let's compare proportion of \"hits\" to \"false alarms\" for each person\n",
    "\n",
    "\n",
    "- let's compare proportion of \"misses\" and \"correct rejects\" for each person\n",
    "    \n",
    "    \n",
    "- ^^ What do these tell us?\n",
    "    "
   ]
  },
  {
   "cell_type": "code",
   "execution_count": null,
   "id": "35ff8d65",
   "metadata": {},
   "outputs": [],
   "source": [
    "\n",
    "stim_count = df.groupby(['moviestim', 'response_type'],as_index=False).count()\n",
    "\n",
    "#with pd.option_context('display.max_rows', None,\n",
    "                      # 'display.max_columns', None,\n",
    "                      # 'display.precision', 3,\n",
    "                      # ):\n",
    "\n",
    "# stim_count[stim_count['run']>=3].index.values.tolist()\n",
    "stim_count.head(n=2)"
   ]
  },
  {
   "cell_type": "code",
   "execution_count": null,
   "id": "65ab788a",
   "metadata": {},
   "outputs": [],
   "source": [
    "# stim_count.loc[(stim_count['moviestim'].str.contains(x))\n",
    "#               &(stim_count['response_type']=='Correct Reject'),'run'].shape[0]"
   ]
  },
  {
   "cell_type": "code",
   "execution_count": null,
   "id": "fbe4ce47",
   "metadata": {},
   "outputs": [],
   "source": [
    "three_hits = stim_count[(stim_count['response_type']=='Hit')\n",
    "          &(stim_count['run']>=3)].shape[0]\n",
    "\n",
    "print(str(three_hits) + ' valid stimuli were hits for three or more of our four subjects')\n",
    "\n",
    "stimmies = [x[:-45] for x in stim_count[(stim_count['response_type']=='Hit')\n",
    "          &(stim_count['run']>=3)]['moviestim']]\n",
    "\n",
    "correct_reject_nums = []\n",
    "\n",
    "for x in stimmies:\n",
    "    \n",
    "    if stim_count.loc[(stim_count['moviestim'].str.contains(x))\n",
    "              &(stim_count['response_type']=='Correct Reject'),'run'].shape[0] > 0:\n",
    "        num = stim_count.loc[(stim_count['moviestim'].str.contains(x))\n",
    "                  &(stim_count['response_type']=='Correct Reject'),'run'].item()\n",
    "        correct_reject_nums.append(num)\n",
    "\n",
    "cr = 0\n",
    "\n",
    "for x in correct_reject_nums:\n",
    "    if x >=3:\n",
    "        cr+=1\n",
    "\n",
    "print()\n",
    "print('For these stimuli, only '+str(cr)+' of the corresponding scrambled stimuli were correctly rejected three out of four times')\n"
   ]
  },
  {
   "cell_type": "code",
   "execution_count": null,
   "id": "c68b9dc6",
   "metadata": {},
   "outputs": [],
   "source": [
    "num = 2\n",
    "\n",
    "stim_count['movie_short'] = [x[:32] for x in list(stim_count['moviestim'])]\n",
    "\n",
    "correct = stim_count[(stim_count['run']>=num)\n",
    "          & (stim_count['response_type'].isin(['Hit','Correct Reject']))]\n",
    "\n",
    "c_list = list(correct['moviestim'])\n",
    "\n",
    "correct_num = stim_count[(stim_count['run']>=num)\n",
    "          & (stim_count['response_type'].isin(['Hit','Correct Reject']))].shape[0]\n",
    "\n",
    "correct['short_stim'] = [x[:32] for x in list(correct['moviestim'])]\n",
    "pair_corr_num = correct.groupby(['short_stim'],as_index=False).sum().shape[0]\n",
    "paired = correct_num - pair_corr_num\n",
    "\n",
    "print('There are a total of '+str(correct_num)+' videos that '+str(num)+' or more MRI pilot subjects got correct.');print()\n",
    "\n",
    "#print('Of these, '+str(paired)+' are pairs.');print()\n",
    "\n",
    "print('Here are what the performance plots look like with just these: ')\n",
    "\n",
    "b = sb.histplot(data=stim_count[stim_count['movie_short'].isin(correct['short_stim'])], x=\"participant\", hue=\"response_type\", multiple=\"stack\")"
   ]
  },
  {
   "cell_type": "markdown",
   "id": "cf7b7cac",
   "metadata": {},
   "source": [
    "New d prime"
   ]
  },
  {
   "cell_type": "code",
   "execution_count": null,
   "id": "ff23aa69",
   "metadata": {},
   "outputs": [],
   "source": [
    "stim_count[stim_count['movie_short'].isin(correct['short_stim'])]\n",
    "\n"
   ]
  },
  {
   "cell_type": "code",
   "execution_count": null,
   "id": "e6d04a7a",
   "metadata": {},
   "outputs": [],
   "source": [
    "df_z_new"
   ]
  },
  {
   "cell_type": "code",
   "execution_count": null,
   "id": "abf69267",
   "metadata": {},
   "outputs": [],
   "source": [
    "corr_group = d[d['moviestim'].isin(c_list)].groupby(['participant','response_type'],as_index=False).count()\n",
    "\n",
    "df_z_new = corr_group.copy()\n",
    "df_z_new['dprime'] = np.nan\n",
    "\n",
    "for participant,total in zip(['1.0','2.0','3.0','4.0'],list(sums['run'])):\n",
    "\n",
    "    df_z_new.loc[df_z_new['participant']==participant,'prop'] = df_z_new.loc[df_z_new['participant']==participant,'run']/total \n",
    "#     df_z_new.loc[df_z_new['participant']==participant,'dprime'] = scipy.stats.norm.ppf(df_z_new[(df_z_new['participant']==participant)\n",
    "#                                                                                    &(df_z_new['response_type']=='Hit')]['prop'].item()) - scipy.stats.norm.ppf(df_z_new[(df_z_new['participant']==participant)\n",
    "#                                                                                                                                &(df_z_new['response_type']=='False Alarm')]['prop'].item())\n",
    "\n",
    "# df_z_new['dprime'].unique()"
   ]
  },
  {
   "cell_type": "code",
   "execution_count": null,
   "id": "271c2669",
   "metadata": {},
   "outputs": [],
   "source": []
  },
  {
   "cell_type": "markdown",
   "id": "b1befc19",
   "metadata": {},
   "source": [
    "# Which stimuli do people get right? \n",
    "\n",
    "In our previous behavioral study, we found that sitmuli with more blobs were easier. Is that the case in this experiment version too?"
   ]
  },
  {
   "cell_type": "code",
   "execution_count": null,
   "id": "f078706c",
   "metadata": {
    "scrolled": true
   },
   "outputs": [],
   "source": [
    "df['blobs'] = np.nan\n",
    "\n",
    "ms = list(df['moviestim'])\n",
    "ms = [x for x in ms if type(x)==str]\n",
    "ms = [x[15:] for x in ms]\n",
    "\n",
    "# images in the stim set\n",
    "images = [x for x in os.listdir('/Users/kirstenziman/Documents/predicting_attention_MRI/MRI_pilot/task/STIM_SET_1_144/') if x in ms]\n",
    "image_csvs = [x[:-10]+'.csv' for x in images]\n",
    "image_data = [pd.read_csv('/Users/kirstenziman/Documents/predicting_attention_MRI/MRI_pilot/task/STIM_SET_1_144/'+x) for x in image_csvs]\n",
    "concatenated = pd.concat(image_data)\n",
    "concatenated['type'] = np.nan\n",
    "concatenated.loc[concatenated['proportion_same']==1,'type']='veridical'\n",
    "concatenated.loc[concatenated['proportion_same']!=1,'type']='scrambled'\n",
    "concatenated.head(n=1)\n",
    "\n",
    "# here we have a df with the num_chunks for each stim of interest"
   ]
  },
  {
   "cell_type": "code",
   "execution_count": null,
   "id": "708d3f4c",
   "metadata": {},
   "outputs": [],
   "source": []
  },
  {
   "cell_type": "code",
   "execution_count": null,
   "id": "f7993628",
   "metadata": {},
   "outputs": [],
   "source": [
    "gr = df.groupby(['moviestim','response_type'],as_index=False).count()\n",
    "gr['blobs'] = np.nan\n",
    "\n",
    "for i,row in concatenated.iterrows():\n",
    "    im = row['image']\n",
    "    gr.loc[gr['moviestim'].str.contains(im),'blobs'] = row['num_chunks']\n",
    "\n",
    "    df.loc[gr['moviestim'].str.contains(im),'blobs'] = row['num_chunks']"
   ]
  },
  {
   "cell_type": "code",
   "execution_count": null,
   "id": "02cb3817",
   "metadata": {},
   "outputs": [],
   "source": [
    "newest_gr = df.groupby(['moviestim','response_type','participant'],as_index=False).count()\n",
    "newest_gr['blobs'] = np.nan\n",
    "\n",
    "for i,row in concatenated.iterrows():\n",
    "    im = row['image']\n",
    "    newest_gr.loc[newest_gr['moviestim'].str.contains(im),'blobs'] = row['num_chunks']\n",
    "\n",
    "    newest_gr.loc[newest_gr['moviestim'].str.contains(im),'blobs'] = row['num_chunks']"
   ]
  },
  {
   "cell_type": "code",
   "execution_count": null,
   "id": "fd1503a8",
   "metadata": {},
   "outputs": [],
   "source": [
    "newest_gr"
   ]
  },
  {
   "cell_type": "code",
   "execution_count": null,
   "id": "6eea02d1",
   "metadata": {},
   "outputs": [],
   "source": [
    "gr"
   ]
  },
  {
   "cell_type": "code",
   "execution_count": null,
   "id": "deaeeaf1",
   "metadata": {},
   "outputs": [],
   "source": [
    "df"
   ]
  },
  {
   "cell_type": "code",
   "execution_count": null,
   "id": "c79dc6ad",
   "metadata": {},
   "outputs": [],
   "source": [
    "60*4\n"
   ]
  },
  {
   "cell_type": "markdown",
   "id": "f39afeec",
   "metadata": {},
   "source": [
    "# ROC ccurves for each person"
   ]
  },
  {
   "cell_type": "code",
   "execution_count": null,
   "id": "8e05ba6f",
   "metadata": {},
   "outputs": [],
   "source": [
    "\n",
    "# TPR = hits / hits + misses\n",
    "\n",
    "\n",
    "# FPR = false positive / false positive + true negative\n"
   ]
  },
  {
   "cell_type": "code",
   "execution_count": null,
   "id": "17059d36",
   "metadata": {},
   "outputs": [],
   "source": [
    "# newest_gr"
   ]
  },
  {
   "cell_type": "code",
   "execution_count": null,
   "id": "83346771",
   "metadata": {},
   "outputs": [],
   "source": [
    "newest_gr[newest_gr['blobs']>=13].shape[0]/4\n",
    "\n",
    "new_gr = newest_gr.groupby(['participant','response_type'],as_index=False).count()\n",
    "new_gr#['response'].unique()\n",
    "\n",
    "hits"
   ]
  },
  {
   "cell_type": "code",
   "execution_count": null,
   "id": "57eb2381",
   "metadata": {
    "scrolled": false
   },
   "outputs": [],
   "source": [
    "import scipy.stats as st\n",
    "\n",
    "\n",
    "hits = []; fas  = []; labels = []; green_x = []; green_y = []\n",
    "hits_2 = []; fas_2 = []\n",
    "\n",
    "for p in new_gr['participant'].unique():\n",
    "    \n",
    "    #this_dat = gr[gr['blobs']>=a].groupby(['participant','response_type'],as_index=False).sum()#['participant'].unique()\n",
    "    \n",
    "    hit  = new_gr[(new_gr['participant']==p)&(new_gr['response_type']=='Hit')].sum()['run']\n",
    "    miss = new_gr[(new_gr['participant']==p)&(new_gr['response_type']=='Miss')].sum()['run']\n",
    "    \n",
    "    TPR = hit / (hit+miss)\n",
    "    hits.append(TPR)\n",
    "    \n",
    "    fa  = new_gr[(new_gr['participant']==p)&(new_gr['response_type']=='False Alarm')].sum()['run']\n",
    "    cr  = new_gr[(new_gr['participant']==p)&(new_gr['response_type']=='Correct Reject')].sum()['run']\n",
    "\n",
    "    FPR = fa / (fa + cr)\n",
    "    fas.append(FPR)\n",
    "\n",
    "    \n",
    "    TPR_2 = cr / (cr+fa)\n",
    "    hits_2.append(TPR_2)\n",
    "    \n",
    "    FPR_2 = miss / (miss + cr)\n",
    "    fas_2.append(FPR_2)\n",
    "\n",
    "    \n",
    "    d_prime = st.norm.ppf(TPR) - st.norm.ppf(FPR)\n",
    "    \n",
    "    print(p)\n",
    "    print('Sensitivity: '+str(hit / (hit+miss)))\n",
    "    print('Specificity: '+str(cr / (cr + fa)))\n",
    "    print('Percent Correct: '+str((hit+cr)/120))\n",
    "    print('d prime: '+str(d_prime))\n",
    "    print();print()\n",
    "    \n",
    "    labels.append(str(p))\n",
    "\n",
    "    ################################\n",
    "\n",
    "    al = sb.scatterplot(x=[fas[-1]],y=[hits[-1]], marker='o',s=60)#color='grey')\n",
    "    \n",
    "    al.set_aspect('equal')\n",
    "    x1 = 0; y1 = 0\n",
    "    x2 = 1; y2 = 1\n",
    "        \n",
    "    plt.axline((x1, y1), (x2, y2), color='grey')\n",
    "    \n",
    "    plt.xlabel('False Positive Rate',fontsize=20)\n",
    "    plt.ylabel('True Positive Rate',fontsize=20)\n",
    "    \n",
    "    \n",
    "    plt.show()\n",
    "    \n",
    "    al2 = sb.scatterplot(x=[fas_2[-1]],y=[hits_2[-1]], marker='o',s=60)#color='grey')\n",
    "    \n",
    "    \n",
    "    al2.set_aspect('equal')\n",
    "    x1 = 0; y1 = 0\n",
    "    x2 = 1; y2 = 1\n",
    "        \n",
    "    plt.axline((x1, y1), (x2, y2), color='grey')\n",
    "    \n",
    "    plt.xlabel('False Positive Rate',fontsize=20)\n",
    "    plt.ylabel('True Positive Rate',fontsize=20)\n",
    "    #plt.title('Videos with '+str(a)+'+ Blobs',fontsize=25)\n",
    "    \n",
    "    \n",
    "    # print('Red   - Subject 1')\n",
    "    # print('Green - Subject 2')\n",
    "    \n",
    "    \n",
    "    plt.show(); print()\n",
    "\n",
    "################################\n",
    "    \n",
    "\n",
    "al = sb.scatterplot(x=fas,y=hits, marker='o',s=60)#color='grey')\n",
    "\n",
    "\n",
    "al.set_aspect('equal')\n",
    "x1 = 0; y1 = 0\n",
    "x2 = 1; y2 = 1\n",
    "    \n",
    "plt.axline((x1, y1), (x2, y2), color='grey')\n",
    "\n",
    "plt.xlabel('False Positive Rate',fontsize=20)\n",
    "plt.ylabel('True Positive Rate',fontsize=20)\n",
    "\n",
    "\n",
    "plt.show()\n",
    "\n",
    "al2 = sb.scatterplot(x=fas_2,y=hits_2, marker='o',s=60)#color='grey')\n",
    "\n",
    "\n",
    "al2.set_aspect('equal')\n",
    "x1 = 0; y1 = 0\n",
    "x2 = 1; y2 = 1\n",
    "    \n",
    "plt.axline((x1, y1), (x2, y2), color='grey')\n",
    "\n",
    "plt.xlabel('False Positive Rate',fontsize=20)\n",
    "plt.ylabel('True Positive Rate',fontsize=20)\n",
    "#plt.title('Videos with '+str(a)+'+ Blobs',fontsize=25)\n",
    "\n",
    "\n",
    "# print('Red   - Subject 1')\n",
    "# print('Green - Subject 2')\n",
    "\n",
    "\n",
    "plt.show(); print()"
   ]
  },
  {
   "cell_type": "code",
   "execution_count": null,
   "id": "70b210cd-1a0c-42f0-b013-3bace2e57ce5",
   "metadata": {},
   "outputs": [],
   "source": [
    "import scipy.stats as st\n",
    "\n",
    "\n",
    "hits = []; fas  = []; labels = []; green_x = []; green_y = []\n",
    "hits_2 = []; fas_2 = []\n",
    "\n",
    "for p in new_gr['participant'].unique():\n",
    "    \n",
    "    if p!='subject_17b':\n",
    "    \n",
    "        #this_dat = gr[gr['blobs']>=a].groupby(['participant','response_type'],as_index=False).sum()#['participant'].unique()\n",
    "        \n",
    "        hit  = new_gr[(new_gr['participant']==p)&(new_gr['response_type']=='Hit')].sum()['run']\n",
    "        miss = new_gr[(new_gr['participant']==p)&(new_gr['response_type']=='Miss')].sum()['run']\n",
    "        \n",
    "        TPR = hit / (hit+miss)\n",
    "        hits.append(TPR)\n",
    "        \n",
    "        fa  = new_gr[(new_gr['participant']==p)&(new_gr['response_type']=='False Alarm')].sum()['run']\n",
    "        cr  = new_gr[(new_gr['participant']==p)&(new_gr['response_type']=='Correct Reject')].sum()['run']\n",
    "    \n",
    "        FPR = fa / (fa + cr)\n",
    "        fas.append(FPR)\n",
    "    \n",
    "        \n",
    "        TPR_2 = cr / (cr+fa)\n",
    "        hits_2.append(TPR_2)\n",
    "        \n",
    "        FPR_2 = miss / (miss + cr)\n",
    "        fas_2.append(FPR_2)\n",
    "    \n",
    "        \n",
    "        d_prime = st.norm.ppf(TPR) - st.norm.ppf(FPR)\n",
    "        \n",
    "        print(p)\n",
    "        print('Sensitivity: '+str(hit / (hit+miss)))\n",
    "        print('Specificity: '+str(cr / (cr + fa)))\n",
    "        print('Percent Correct: '+str((hit+cr)/120))\n",
    "        print('d prime: '+str(d_prime))\n",
    "        print();print()\n",
    "        \n",
    "        labels.append(str(p))\n",
    "        \n",
    "    \n",
    "al = sb.scatterplot(x=fas,y=hits, marker='o',s=60)#color='grey')\n",
    "\n",
    "\n",
    "al.set_aspect('equal')\n",
    "x1 = 0; y1 = 0\n",
    "x2 = 1; y2 = 1\n",
    "    \n",
    "plt.axline((x1, y1), (x2, y2), color='grey')\n",
    "\n",
    "plt.xlabel('False Positive Rate',fontsize=20)\n",
    "plt.ylabel('True Positive Rate',fontsize=20)\n",
    "\n",
    "\n",
    "plt.show()\n",
    "\n",
    "al2 = sb.scatterplot(x=fas_2,y=hits_2, marker='o',s=60)#color='grey')\n",
    "\n",
    "\n",
    "al2.set_aspect('equal')\n",
    "x1 = 0; y1 = 0\n",
    "x2 = 1; y2 = 1\n",
    "    \n",
    "plt.axline((x1, y1), (x2, y2), color='grey')\n",
    "\n",
    "plt.xlabel('False Positive Rate',fontsize=20)\n",
    "plt.ylabel('True Positive Rate',fontsize=20)\n",
    "#plt.title('Videos with '+str(a)+'+ Blobs',fontsize=25)\n",
    "    \n",
    "# print('Red   - Subject 1')\n",
    "# print('Green - Subject 2')    \n",
    "    \n",
    "plt.show(); print()"
   ]
  },
  {
   "cell_type": "code",
   "execution_count": null,
   "id": "9398dd59",
   "metadata": {
    "scrolled": false
   },
   "outputs": [],
   "source": [
    "for a in range(6,15):\n",
    "    \n",
    "    hits = []; fas  = []; labels = []; green_x = []; green_y = []\n",
    "    \n",
    "    for p in new_gr['participant'].unique():\n",
    "        \n",
    "        #this_dat = gr[gr['blobs']>=a].groupby(['participant','response_type'],as_index=False).sum()#['participant'].unique()\n",
    "        \n",
    "        hit  = new_gr[(new_gr['blobs']>=a)&(new_gr['participant']==p)&(new_gr['response_type']=='Hit')].sum()['run']\n",
    "        miss = new_gr[(new_gr['blobs']>=a)&(new_gr['participant']==p)&(new_gr['response_type']=='Miss')].sum()['run']\n",
    "        \n",
    "        TPR = hit / (hit+miss)\n",
    "        hits.append(TPR)\n",
    "        \n",
    "        fa  = new_gr[(new_gr['blobs']>=a)&(new_gr['participant']==p)&(new_gr['response_type']=='False Alarm')].sum()['run']\n",
    "        cr  = new_gr[(new_gr['blobs']>=a)&(new_gr['participant']==p)&(new_gr['response_type']=='Correct Reject')].sum()['run']\n",
    "    \n",
    "        FPR = fa / (fa + cr)\n",
    "        fas.append(FPR)\n",
    "        \n",
    "        labels.append(str(p))\n",
    "        \n",
    "    \n",
    "    al = sb.scatterplot(x=fas,y=hits, marker='o',s=60, color = ['r','g','b','k'])#color='grey')\n",
    "    \n",
    "\n",
    "    al.set_aspect('equal')\n",
    "#     a.set_xlim(0,1)\n",
    "#     a.set_ylim(0,1)\n",
    "    x1 = 0; y1 = 0\n",
    "    x2 = 1; y2 = 1\n",
    "    # plt.plot(x1, y1, x2, y2, marker = 'o')\n",
    "        \n",
    "    plt.axline((x1, y1), (x2, y2), color='grey')\n",
    "\n",
    "    plt.xlabel('False Positive Rate',fontsize=20)\n",
    "    plt.ylabel('True Positive Rate',fontsize=20)\n",
    "    plt.title('Videos with '+str(a)+'+ Blobs',fontsize=25)\n",
    "\n",
    "\n",
    "    print('Red   - Subject 1')\n",
    "    print('Green - Subject 2')\n",
    "    print('Blue  - Subject 3')\n",
    "    print('Black - Subject 4')\n",
    "    plt.show(); print()"
   ]
  },
  {
   "cell_type": "code",
   "execution_count": null,
   "id": "97b89786",
   "metadata": {},
   "outputs": [],
   "source": [
    "for p in new_gr['participant'].unique():\n",
    "    \n",
    "    hits = []; fas  = []; labels = []; green_x = []; green_y = []\n",
    "    \n",
    "    for a in range(6,15):\n",
    "        \n",
    "        #this_dat = gr[gr['blobs']>=a].groupby(['participant','response_type'],as_index=False).sum()#['participant'].unique()\n",
    "        \n",
    "        hit  = new_gr[(new_gr['blobs']>=a)&(new_gr['participant']==p)&(new_gr['response_type']=='Hit')].sum()['run']\n",
    "        miss = new_gr[(new_gr['blobs']>=a)&(new_gr['participant']==p)&(new_gr['response_type']=='Miss')].sum()['run']\n",
    "        \n",
    "        TPR = hit / (hit+miss)\n",
    "        hits.append(TPR)\n",
    "        \n",
    "        fa  = new_gr[(new_gr['blobs']>=a)&(new_gr['participant']==p)&(new_gr['response_type']=='False Alarm')].sum()['run']\n",
    "        cr  = new_gr[(new_gr['blobs']>=a)&(new_gr['participant']==p)&(new_gr['response_type']=='Correct Reject')].sum()['run']\n",
    "    \n",
    "        FPR = fa / (fa + cr)\n",
    "        fas.append(FPR)\n",
    "        \n",
    "        labels.append(str(a))\n",
    "        \n",
    "        if a == 9 :\n",
    "            x_nine = FPR\n",
    "            y_nine = TPR\n",
    "            \n",
    "        if a == 10:\n",
    "            x_ten = FPR\n",
    "            y_ten = TPR\n",
    "            \n",
    "        if a == 11:\n",
    "            x_eleven = FPR\n",
    "            y_eleven = TPR\n",
    "            \n",
    "        if a == 12:\n",
    "            x_twelve = FPR\n",
    "            y_twelve = TPR\n",
    "        \n",
    "        if a == 13:\n",
    "            x_thirt = FPR\n",
    "            y_thirt = TPR\n",
    "    \n",
    "    \n",
    "    a = sb.scatterplot(x=fas,y=hits, label=labels)#color='grey')\n",
    "\n",
    "    a.set_aspect('equal')\n",
    "#     a.set_xlim(0,1)\n",
    "#     a.set_ylim(0,1)\n",
    "    x1 = 0; y1 = 0\n",
    "    x2 = 1; y2 = 1\n",
    "    # plt.plot(x1, y1, x2, y2, marker = 'o')\n",
    "    \n",
    "    \n",
    "    \n",
    "    for a,b,c in zip(fas,hits,labels):\n",
    "\n",
    "        d_prime = np.round(scipy.stats.norm.ppf(b)-scipy.stats.norm.ppf(a),2)\n",
    "        print()\n",
    "        \n",
    "        if d_prime > 0:\n",
    "            \n",
    "            # plt.text(x=a-.04, y=b-.08, s=str(d_prime),color='black')\n",
    "            \n",
    "            # then add this one to a list of dots to display in green\n",
    "            \n",
    "            green_x.append(a)\n",
    "            green_y.append(b)\n",
    "            \n",
    "#         else:\n",
    "#             plt.text(x=a-.07, y=b+.05, s=str(d_prime),color='black')\n",
    "\n",
    "#             if c in ['9','10','11','12','13','14'] and b>.6:\n",
    "#                 plt.text(x=a-.05, y=b+.05, s=str(c),color='black')\n",
    "     \n",
    "    for n,m in zip(green_x, green_y):\n",
    "        plt.plot(n, m, 'bo')\n",
    "        \n",
    "    plt.axline((x1, y1), (x2, y2), color='grey')\n",
    "    plt.plot(x_nine,   y_nine,'ro')\n",
    "    plt.plot(x_ten,    y_ten,'go')\n",
    "    plt.plot(x_eleven, y_eleven,'yo')\n",
    "    plt.plot(x_twelve, y_twelve,'ko')\n",
    "    plt.plot(x_twelve, y_thirt,'mo')\n",
    "    \n",
    "    plt.xlabel('False Positive Rate',fontsize=20)\n",
    "    plt.ylabel('True Positive Rate',fontsize=20)\n",
    "    plt.plot(x_nine,   y_nine,'ro')\n",
    "    \n",
    "    print('Blue   - positive d prime')\n",
    "    print('Red    - 9+ blobs')\n",
    "    print('Green  - 10+ blobs')\n",
    "    print('Yellow - 11+ blobs')\n",
    "    plt.show()"
   ]
  },
  {
   "cell_type": "code",
   "execution_count": null,
   "id": "4707c903",
   "metadata": {},
   "outputs": [],
   "source": [
    "a = sb.scatterplot(x=hits,y=fas)\n",
    "\n",
    "a.set_aspect('equal')\n",
    "a.set_xlim(0,156)\n",
    "a.set_ylim(0,156)\n",
    "x1 = 0; y1 = 0\n",
    "x2 = 1; y2 = 1\n",
    "# plt.plot(x1, y1, x2, y2, marker = 'o')\n",
    "plt.axline((x1, y1), (x2, y2), color='grey')"
   ]
  },
  {
   "cell_type": "code",
   "execution_count": null,
   "id": "ccf6ce11",
   "metadata": {},
   "outputs": [],
   "source": [
    "print(gr[(gr['blobs']<0)&(gr['response_type']=='Hit')].sum()['run']/gr[(gr['blobs']>0)&(gr['response_type']=='False Alarm')].sum()['run'])\n",
    "\n",
    "print(gr[(gr['blobs']<=7)&(gr['response_type']=='Hit')].sum()['run']/gr[(gr['blobs']>0)&(gr['response_type']=='False Alarm')].sum()['run'])\n",
    "\n",
    "print(gr[(gr['blobs']<=8)&(gr['response_type']=='Hit')].sum()['run']/gr[(gr['blobs']>0)&(gr['response_type']=='False Alarm')].sum()['run'])\n",
    "\n",
    "print(gr[(gr['blobs']<=9)&(gr['response_type']=='Hit')].sum()['run']/gr[(gr['blobs']>0)&(gr['response_type']=='False Alarm')].sum()['run'])\n",
    "\n",
    "print(gr[(gr['blobs']<=10)&(gr['response_type']=='Hit')].sum()['run']/gr[(gr['blobs']>0)&(gr['response_type']=='False Alarm')].sum()['run'])\n",
    "\n",
    "print(gr[(gr['blobs']<=11)&(gr['response_type']=='Hit')].sum()['run']/gr[(gr['blobs']>0)&(gr['response_type']=='False Alarm')].sum()['run'])\n",
    "\n",
    "print(gr[(gr['blobs']<=12)&(gr['response_type']=='Hit')].sum()['run']/gr[(gr['blobs']>0)&(gr['response_type']=='False Alarm')].sum()['run'])\n",
    "\n",
    "print(gr[(gr['blobs']<=13)&(gr['response_type']=='Hit')].sum()['run']/gr[(gr['blobs']>0)&(gr['response_type']=='False Alarm')].sum()['run'])\n",
    "\n",
    "print(gr[(gr['blobs']<=14)&(gr['response_type']=='Hit')].sum()['run']/gr[(gr['blobs']>0)&(gr['response_type']=='False Alarm')].sum()['run'])"
   ]
  },
  {
   "cell_type": "code",
   "execution_count": null,
   "id": "574a7863",
   "metadata": {},
   "outputs": [],
   "source": [
    "list(gr[gr['response_type'].isin(['Hit'])]['blobs'])"
   ]
  },
  {
   "cell_type": "code",
   "execution_count": null,
   "id": "fe69f2a8",
   "metadata": {},
   "outputs": [],
   "source": [
    "a = sb.barplot(x=gr[gr['response_type'].isin(['Hit'])]['blobs'],\n",
    "               y=gr[gr['response_type'].isin(['Hit'])]['run'],\n",
    "               color='grey')#,inner='point',color='orange')\n",
    "plt.show()\n",
    "\n",
    "b = sb.regplot(x='blobs',y='run',data=gr[gr['response_type'].isin([t])],color='k')\n",
    "plt.show()"
   ]
  },
  {
   "cell_type": "code",
   "execution_count": null,
   "id": "28b4c6f3",
   "metadata": {},
   "outputs": [],
   "source": [
    "for t in ['Hit','Correct Reject', 'Miss', 'False Alarm']:\n",
    "    \n",
    "    if t == 'Miss':\n",
    "        plural = \"es\"\n",
    "        \n",
    "    else:\n",
    "        plural = \"s\"\n",
    "        \n",
    "    print(t+plural+\" by number of attention blobs'\")\n",
    "    \n",
    "    a = sb.barplot(x='blobs',y='run',data=gr[gr['response_type'].isin([t])],color='grey')#,inner='point',color='orange')\n",
    "    a.set_ylabel('Average # of particpants')\n",
    "    plt.show()\n",
    "    \n",
    "    \n",
    "    b = sb.regplot(x='blobs',y='run',data=gr[gr['response_type'].isin([t])],color='k')\n",
    "    b.set_ylabel('Average # of particpants')\n",
    "    plt.show()"
   ]
  },
  {
   "cell_type": "code",
   "execution_count": null,
   "id": "77809219",
   "metadata": {},
   "outputs": [],
   "source": []
  },
  {
   "cell_type": "code",
   "execution_count": null,
   "id": "e67470e2",
   "metadata": {},
   "outputs": [],
   "source": [
    "# NOTE: we have to update our data manually if we want to include the zeros!\n",
    "\n",
    "\n",
    "strangers = []\n",
    "response_type = []\n",
    "\n",
    "for x in gr['moviestim']:\n",
    "    if gr[gr['moviestim']==x].shape[0]<2:\n",
    "        strangers.append(x)\n",
    "        \n",
    "        if gr[gr['moviestim']==x]['response_type'].unique()=='Hit':\n",
    "            response_type.append('Miss')\n",
    "        elif gr[gr['moviestim']==x]['response_type'].unique()=='Miss':\n",
    "            response_type.append('Hit')\n",
    "        elif gr[gr['moviestim']==x]['response_type'].unique()=='False Alarm':\n",
    "            response_type.append('Correct Reject')\n",
    "        elif gr[gr['moviestim']==x]['response_type'].unique()=='Correct Reject':\n",
    "            response_type.append('False Alarm')\n",
    "        \n",
    "m = list(gr[gr['moviestim'].isin(strangers)]['moviestim'])\n",
    "\n",
    "add_df = pd.DataFrame({'moviestim': m, 'response_type': response_type, 'run':[0]*len(m)})\n",
    "c = pd.concat([add_df,df])\n",
    "c"
   ]
  },
  {
   "cell_type": "code",
   "execution_count": null,
   "id": "060f1615",
   "metadata": {},
   "outputs": [],
   "source": [
    "gr['split'] = np.nan\n",
    "gr.loc[gr['blobs']<11,'split']='10 or less'\n",
    "gr.loc[gr['blobs']>=11,'split']='11 or more'\n",
    "\n",
    "for t in ['Hit','Correct Reject', 'Miss', 'False Alarm']:\n",
    "    \n",
    "    if t == 'Miss':\n",
    "        plural = \"es\"\n",
    "    else:\n",
    "        plural = \"s\"\n",
    "        \n",
    "    print(t+plural+\" by number of attention blobs'\")\n",
    "    \n",
    "    a = sb.barplot(x='split',y='run',data=gr[gr['response_type'].isin([t])])#,inner='point',color='orange')\n",
    "    plt.show()\n",
    "    \n",
    "#     b = sb.regplot(x='split',y='run',data=gr[gr['response_type'].isin([t])],color='k')\n",
    "#     plt.show()"
   ]
  },
  {
   "cell_type": "markdown",
   "id": "fec4f7ff",
   "metadata": {},
   "source": [
    "# Replace stimuli"
   ]
  },
  {
   "cell_type": "code",
   "execution_count": null,
   "id": "40928d5d",
   "metadata": {},
   "outputs": [],
   "source": [
    "df.columns #['participant'].unique()"
   ]
  },
  {
   "cell_type": "code",
   "execution_count": null,
   "id": "485dbaa3",
   "metadata": {},
   "outputs": [],
   "source": [
    "orig_videos = [x for x in list(df['moviestim'].unique()[1:]) if 'eridical' in x]"
   ]
  },
  {
   "cell_type": "code",
   "execution_count": null,
   "id": "bf022df8",
   "metadata": {},
   "outputs": [],
   "source": [
    "len(orig_videos)"
   ]
  },
  {
   "cell_type": "code",
   "execution_count": null,
   "id": "676759cb",
   "metadata": {},
   "outputs": [],
   "source": [
    "orig_videos"
   ]
  },
  {
   "cell_type": "code",
   "execution_count": null,
   "id": "4d569d90",
   "metadata": {},
   "outputs": [],
   "source": [
    "group = gr.groupby('moviestim',as_index=False).mean()\n",
    "\n",
    "eight_or_less      = group[group['blobs']<=8]\n",
    "greater_than_eight = group[group['blobs']>8]"
   ]
  },
  {
   "cell_type": "code",
   "execution_count": null,
   "id": "823fa140",
   "metadata": {},
   "outputs": [],
   "source": [
    "eight_or_less.to_csv('eight_or_less.csv')\n",
    "greater_than_eight.to_csv('greater_than_eight.csv')"
   ]
  },
  {
   "cell_type": "markdown",
   "id": "1a5efcbc",
   "metadata": {},
   "source": [
    "To enhance the signal in our neural data, we removed the 14 video pairs with the smallest number of attention blobs, (6, 7, or 8), replacing them them with videos with a high number of blobs (11 or more)."
   ]
  },
  {
   "cell_type": "code",
   "execution_count": null,
   "id": "fe2f4e9b",
   "metadata": {},
   "outputs": [],
   "source": [
    "greater_than_eight.head(n=2)"
   ]
  },
  {
   "cell_type": "code",
   "execution_count": null,
   "id": "b3289786",
   "metadata": {},
   "outputs": [],
   "source": [
    "group.head(n=2)"
   ]
  },
  {
   "cell_type": "markdown",
   "id": "a95fee82",
   "metadata": {},
   "source": [
    "### find the new videos"
   ]
  },
  {
   "cell_type": "markdown",
   "id": "7705292b",
   "metadata": {},
   "source": [
    "Obtain the number of videos from each unique viewer"
   ]
  },
  {
   "cell_type": "code",
   "execution_count": null,
   "id": "18aa3ae3",
   "metadata": {},
   "outputs": [],
   "source": [
    "# greater_than_eight['moviestim'].split('_')\n",
    "\n",
    "df['partial'] = df.moviestim.str.split('pp',expand=True)[1]\n",
    "df['viewer']  = df['partial'].str.split('_',expand=True)[0]\n",
    "\n",
    "viewer_count  = df[(df['participant']==4)&(df['type']=='veridical')].groupby('viewer',as_index=False).count()\n",
    "single_viewer = list(viewer_count[viewer_count['run']==1]['viewer'])\n",
    "double_viewer = list(viewer_count[viewer_count['run']==2]['viewer'])\n",
    "\n",
    "# df[(df['participant']==4)&(df['type']=='scrambled')]\n",
    "# df['jitters'].mean()"
   ]
  },
  {
   "cell_type": "code",
   "execution_count": null,
   "id": "882a4418",
   "metadata": {},
   "outputs": [],
   "source": [
    "len(double_viewer)+len(single_viewer)"
   ]
  },
  {
   "cell_type": "markdown",
   "id": "8cdb2a8a",
   "metadata": {},
   "source": [
    "Go through the videos with 11 blobs or more and randomly selects ones with viewers that are not on the double viewer list (print a statement if they are not also on the single viewer list) -- get ten more than we need, just in case"
   ]
  },
  {
   "cell_type": "code",
   "execution_count": null,
   "id": "e75d187a",
   "metadata": {},
   "outputs": [],
   "source": [
    "eleven_plus = [x for x in os.listdir('/Users/kirstenziman/Desktop/predicting_attention/stimuli/experiments_1_and_2/11_plus_all/') if 'veridical' in x and 'mp4' in x]"
   ]
  },
  {
   "cell_type": "code",
   "execution_count": null,
   "id": "4af25b8a",
   "metadata": {},
   "outputs": [],
   "source": [
    "'pp'+'97' in elev"
   ]
  },
  {
   "cell_type": "code",
   "execution_count": null,
   "id": "ed877855",
   "metadata": {},
   "outputs": [],
   "source": [
    "eleven_view_filt = []\n",
    "\n",
    "for elev in eleven_plus:\n",
    "    \n",
    "    m = 0\n",
    "    \n",
    "    for dv in double_viewer:\n",
    "        if 'pp'+dv in elev:\n",
    "            #print('got one')\n",
    "            m =1\n",
    "            \n",
    "    if m == 0:\n",
    "        eleven_view_filt.append(elev)\n",
    "    \n",
    "print(len(eleven_view_filt))"
   ]
  },
  {
   "cell_type": "code",
   "execution_count": null,
   "id": "7f1b7649",
   "metadata": {},
   "outputs": [],
   "source": [
    "#eleven_plus"
   ]
  },
  {
   "cell_type": "markdown",
   "id": "3dcea630",
   "metadata": {},
   "source": [
    "Check that each video does not also contain an image already present in the dataset\n",
    "\n",
    "For any videos that have images already present, remove it"
   ]
  },
  {
   "cell_type": "code",
   "execution_count": null,
   "id": "fb85fa78",
   "metadata": {},
   "outputs": [],
   "source": [
    "ep = pd.DataFrame(eleven_view_filt)\n",
    "eleven_filt_images = ep[0].str.split('_',expand=True)[0]\n",
    "existing_images = group[group['blobs']>8]['moviestim'].str.split('_',expand=True)[3]\n",
    "\n",
    "full_eleven_filter = []\n",
    "list_it = []\n",
    "\n",
    "# for each 11+ image\n",
    "for idx,f in enumerate(eleven_filt_images):\n",
    "    m = 0\n",
    "    \n",
    "    # if it is already in the stim set anywhere\n",
    "    for y in existing_images:\n",
    "        if f in y:\n",
    "            \n",
    "            # change value of m\n",
    "            m =1\n",
    "    \n",
    "    # if it is not in the stim set (m unchanged)\n",
    "    if m ==0:\n",
    "        \n",
    "        # add it to out full_filter list\n",
    "        full_eleven_filter.append(f)\n",
    "        \n",
    "        # also add its index ot our index list\n",
    "        list_it.append(idx)"
   ]
  },
  {
   "cell_type": "code",
   "execution_count": null,
   "id": "54ad40d5",
   "metadata": {},
   "outputs": [],
   "source": [
    "# now we can get the ones we want from ep dataframe using the index\n",
    "ep.iloc[list_it]\n"
   ]
  },
  {
   "cell_type": "markdown",
   "id": "229ff13e",
   "metadata": {},
   "source": [
    "if there are enough videos left, randomly select 20 pairs (14 needed)"
   ]
  },
  {
   "cell_type": "code",
   "execution_count": null,
   "id": "7539e1bb",
   "metadata": {},
   "outputs": [],
   "source": [
    "import random\n",
    "random.seed(10)\n",
    "videos = random.sample(list(ep.iloc[list_it][0]),20)\n",
    "videos"
   ]
  },
  {
   "cell_type": "markdown",
   "id": "5931e0fd",
   "metadata": {},
   "source": [
    "save this video list and copy these videos into a separate folder"
   ]
  },
  {
   "cell_type": "code",
   "execution_count": null,
   "id": "0559783f",
   "metadata": {},
   "outputs": [],
   "source": [
    "new_stim = pd.DataFrame(videos)\n",
    "new_stim.to_csv('new_eleven_videos.csv')"
   ]
  },
  {
   "cell_type": "code",
   "execution_count": null,
   "id": "ffe1db91",
   "metadata": {},
   "outputs": [],
   "source": [
    "list(new_stim[0])"
   ]
  },
  {
   "cell_type": "code",
   "execution_count": null,
   "id": "9106a75d",
   "metadata": {},
   "outputs": [],
   "source": [
    "src.replace('veridical', 'scrambled', 1)"
   ]
  },
  {
   "cell_type": "code",
   "execution_count": null,
   "id": "abd58dab",
   "metadata": {},
   "outputs": [],
   "source": [
    "import shutil\n",
    "\n",
    "elev_path = '/Users/kirstenziman/Desktop/predicting_attention/stimuli/experiments_1_and_2/11_plus_all/'\n",
    "\n",
    "for i,row in new_stim.iterrows():\n",
    "    src = elev_path+row[0]\n",
    "    print(src)\n",
    "    print()\n",
    "    if 'csv' not in src:\n",
    "        shutil.copy(src, 'eleven_filtered')\n",
    "        scram = src.replace('veridical', 'scrambled', 1)\n",
    "        shutil.copy(scram, 'eleven_filtered')"
   ]
  },
  {
   "cell_type": "markdown",
   "id": "44870ef6",
   "metadata": {},
   "source": [
    "finally:\n",
    "- run them through the \"check for blinks\" notebook \n",
    "- do a visual check :)\n",
    "- if there are still extras, randomly select 14"
   ]
  },
  {
   "cell_type": "code",
   "execution_count": null,
   "id": "d2501932",
   "metadata": {},
   "outputs": [],
   "source": [
    "len([x for x in os.listdir('.') if 'mp4' in x])"
   ]
  },
  {
   "cell_type": "code",
   "execution_count": null,
   "id": "b59946d4",
   "metadata": {},
   "outputs": [],
   "source": []
  },
  {
   "cell_type": "code",
   "execution_count": null,
   "id": "14e7bbd5",
   "metadata": {},
   "outputs": [],
   "source": []
  },
  {
   "cell_type": "code",
   "execution_count": null,
   "id": "ac73dc60",
   "metadata": {},
   "outputs": [],
   "source": [
    "sb.barplot(x='blobs',y='run',hue='response_type',data=gr[gr['response_type'].isin(['Hit','Correct Reject'])])"
   ]
  },
  {
   "cell_type": "markdown",
   "id": "657dec64",
   "metadata": {},
   "source": [
    "## Make stimulus timing files for button presses"
   ]
  },
  {
   "cell_type": "code",
   "execution_count": null,
   "id": "db3e9655",
   "metadata": {},
   "outputs": [],
   "source": [
    "df[~df['key_resp_9.rt'].isna()].head(n=2)"
   ]
  },
  {
   "cell_type": "code",
   "execution_count": null,
   "id": "045df2fd",
   "metadata": {},
   "outputs": [],
   "source": [
    "# import the log files\n",
    "log_files = [x for x in os.listdir('/Users/kirstenziman/Documents/predicting_attention_MRI/MRI_pilot/task/MRI_behavioral/') if '.csv' in x]\n",
    "\n",
    "# concatenate big dataframe with the data\n",
    "df = pd.concat([pd.read_csv('/Users/kirstenziman/Documents/predicting_attention_MRI/MRI_pilot/task/MRI_behavioral/'+x) for x in log_files])\n",
    "\n",
    "# groupby participant and run #\n",
    "df.groupby(['participant','session'],as_index=False).mean()\n",
    "\n",
    "# calculate the videoduration\n",
    "# NOTE: these timesare super weird, need to chech if the MRI machine is dropping frames or what the heck is going on\n",
    "df['video_duration'] = df['text_15.started'] - df['movie.started'] \n",
    "\n",
    "# plot recorded video times\n",
    "sb.histplot(df['video_duration'])"
   ]
  },
  {
   "cell_type": "code",
   "execution_count": null,
   "id": "059626ec",
   "metadata": {},
   "outputs": [],
   "source": [
    "# make columnswith start times for each button press\n",
    "df['key_rt'] = np.nan\n",
    "df.loc[~df['key_resp_9.rt'].isna(),'key_rt'] = [ast.literal_eval(x)[0] for x in df[~df['key_resp_9.rt'].isna()]['key_resp_9.rt']]\n",
    "df['button_start_scan'] = df['start_time'] + df['video_duration'] + df['key_rt']\n",
    "\n",
    "\n",
    "# save them out to separate .1D files\n",
    "for sub in df['participant'].unique():\n",
    "    new_df={}\n",
    "    for sess in [1.0,2.0,3.0,4.0,5.0,6.0]:\n",
    "        new_df[sess]=df[(df['participant']==sub)&(df['session']==sess)\n",
    "           &(~df['button_start_scan'].isna())]['button_start_scan']\n",
    "    print('-----------------------------')    \n",
    "    print(sub)\n",
    "    print('-----------------------------')\n",
    "    print(pd.DataFrame(new_df).T)\n",
    "    pd.DataFrame(new_df).T.to_csv(str(sub)+'.1D',index=False, header=False)\n",
    "    print('+++++++++++++++++++++++++++++')"
   ]
  },
  {
   "cell_type": "code",
   "execution_count": null,
   "id": "dd132745",
   "metadata": {},
   "outputs": [],
   "source": [
    "pd.DataFrame(new_df).T"
   ]
  },
  {
   "cell_type": "code",
   "execution_count": null,
   "id": "f272ded2",
   "metadata": {},
   "outputs": [],
   "source": [
    "# df[~(df['key_resp_9.rt'].isna())]['key_rt']\n",
    "\n",
    "# f = [ast.literal_eval(x)[0] for x in df[~df['key_resp_9.rt'].isna()]['key_resp_9.rt']]\n",
    "# f"
   ]
  },
  {
   "cell_type": "code",
   "execution_count": null,
   "id": "bd322738",
   "metadata": {},
   "outputs": [],
   "source": [
    "# df['button_start_scan'] = df['start_time'] + df['video_duration'] + df['key_rt']\n",
    "# df['button_start_scan']"
   ]
  },
  {
   "cell_type": "code",
   "execution_count": null,
   "id": "f5470c05",
   "metadata": {},
   "outputs": [],
   "source": [
    "# log_files[0]"
   ]
  },
  {
   "cell_type": "code",
   "execution_count": null,
   "id": "2f63e559",
   "metadata": {},
   "outputs": [],
   "source": [
    "# pd.read_csv('/Users/kirstenziman/Documents/predicting_attention_MRI/MRI_pilot/task/MRI_behavioral/'+log_files[0])"
   ]
  },
  {
   "cell_type": "code",
   "execution_count": null,
   "id": "00940fa3",
   "metadata": {},
   "outputs": [],
   "source": [
    "# log = pd.read_csv('/Users/kirstenziman/Documents/predicting_attention_MRI/MRI_pilot/task/MRI_behavioral/002_run_1_2023-06-20_11h05.43.260.log',\n",
    "#                  delimiter='\\t', header=None, names = ['Time','Event','Info'])\n",
    "                  \n",
    "# start_time = list(log[(log['Info'].str.contains('Keypress: equal'))]['Time'])[0]       \n",
    "\n",
    "# #log['time_adjusted'] = log['time']-start_time\n",
    "                  \n",
    "# #log[(log['Info'].str.contains('Keypress'))&~(log['Info'].str.contains('equal'))]\n",
    "\n",
    "# start_time"
   ]
  },
  {
   "cell_type": "code",
   "execution_count": null,
   "id": "23b5da03",
   "metadata": {},
   "outputs": [],
   "source": [
    "# start_time = list(log[(log['Info'].str.contains('Keypress: equal'))]['Time'])[0]"
   ]
  },
  {
   "cell_type": "code",
   "execution_count": null,
   "id": "ccdb2faf",
   "metadata": {},
   "outputs": [],
   "source": [
    "# start_time"
   ]
  },
  {
   "cell_type": "code",
   "execution_count": null,
   "id": "244c8e13",
   "metadata": {},
   "outputs": [],
   "source": [
    "# log['Time']-start_time"
   ]
  },
  {
   "cell_type": "code",
   "execution_count": null,
   "id": "c35507be",
   "metadata": {},
   "outputs": [],
   "source": [
    "# os.listdir('/Users/kirstenziman/Documents/predicting_attention_MRI/MRI_pilot/task/STIM_SET_1_144/')"
   ]
  },
  {
   "cell_type": "markdown",
   "id": "c43c8f9b",
   "metadata": {},
   "source": [
    "# CODE EXTRAS"
   ]
  },
  {
   "cell_type": "code",
   "execution_count": null,
   "id": "10a1ca3a",
   "metadata": {},
   "outputs": [],
   "source": [
    "# testdf = data_list[3].groupby(\"response_type\").count()['run']\n",
    "# testdf = testdf.to_frame()\n",
    "# testdf.iat[3,0]"
   ]
  },
  {
   "cell_type": "code",
   "execution_count": null,
   "id": "7b13cf01",
   "metadata": {},
   "outputs": [],
   "source": [
    "data = {'Participant': [1,2,3],\n",
    "       'Number_Correct': [0,0,0], \n",
    "       'Number_Missed': [0,0,0],\n",
    "       'Correct_rejections': [0,0,0],\n",
    "       'False_alarms': [0,0,0]}\n",
    "newdf = pd.DataFrame(data)\n",
    "secdf = pd.DataFrame()\n",
    "participant_num = [1,2,3]\n",
    "\n",
    "for x in participant_num:\n",
    "    for y in data_list:\n",
    "        part_num = y.iloc[0]['participant']\n",
    "        if x == part_num:\n",
    "            secdf = y.groupby('response_type').count()['run'].to_frame()\n",
    "            newdf.iloc[x-1]['Number_Correct'] = newdf.iloc[x-1]['Number_Correct'] + secdf.iat[1,0]\n",
    "            newdf.iloc[x-1]['Number_Missed'] = newdf.iloc[x-1]['Number_Missed'] + secdf.iat[0,0]\n",
    "            newdf.iloc[x-1]['Correct_rejections'] = newdf.iloc[x-1]['Correct_rejections'] + secdf.iat[2,0]\n",
    "            newdf.iloc[x-1]['False_alarms'] = newdf.iloc[x-1]['False_alarms'] + secdf.iat[2,0]\n",
    "            \n",
    "newdf['sum_correct'] = newdf['Number_Correct'] + newdf['Correct_rejections']\n",
    "arr = np.array(newdf['sum_correct'])\n",
    "res = np.divide(arr, 120)\n",
    "newdf['proportion_correct'] = res \n",
    "newdf"
   ]
  },
  {
   "cell_type": "code",
   "execution_count": null,
   "id": "e8c87cd8",
   "metadata": {},
   "outputs": [],
   "source": [
    "df.groupby(['moviestim','response_type'],as_index=True).count()"
   ]
  },
  {
   "cell_type": "code",
   "execution_count": null,
   "id": "6d4cf7f9",
   "metadata": {},
   "outputs": [],
   "source": [
    "df"
   ]
  },
  {
   "cell_type": "code",
   "execution_count": null,
   "id": "371320f6",
   "metadata": {},
   "outputs": [],
   "source": []
  },
  {
   "cell_type": "code",
   "execution_count": null,
   "id": "0335d0c3",
   "metadata": {},
   "outputs": [],
   "source": []
  },
  {
   "cell_type": "code",
   "execution_count": null,
   "id": "05b40977",
   "metadata": {},
   "outputs": [],
   "source": []
  },
  {
   "cell_type": "code",
   "execution_count": null,
   "id": "2aea6a0f",
   "metadata": {},
   "outputs": [],
   "source": []
  },
  {
   "cell_type": "code",
   "execution_count": null,
   "id": "708efb42",
   "metadata": {},
   "outputs": [],
   "source": []
  },
  {
   "cell_type": "code",
   "execution_count": null,
   "id": "f51d0539",
   "metadata": {},
   "outputs": [],
   "source": []
  },
  {
   "cell_type": "code",
   "execution_count": null,
   "id": "dcbbd3b4",
   "metadata": {},
   "outputs": [],
   "source": []
  },
  {
   "cell_type": "code",
   "execution_count": null,
   "id": "3a85c963",
   "metadata": {},
   "outputs": [],
   "source": []
  },
  {
   "cell_type": "code",
   "execution_count": null,
   "id": "f201f8e3",
   "metadata": {},
   "outputs": [],
   "source": []
  },
  {
   "cell_type": "code",
   "execution_count": null,
   "id": "4125e53b",
   "metadata": {},
   "outputs": [],
   "source": []
  },
  {
   "cell_type": "code",
   "execution_count": null,
   "id": "29f6bc96",
   "metadata": {},
   "outputs": [],
   "source": []
  },
  {
   "cell_type": "code",
   "execution_count": null,
   "id": "890ee75d",
   "metadata": {},
   "outputs": [],
   "source": []
  },
  {
   "cell_type": "code",
   "execution_count": null,
   "id": "c3f78213",
   "metadata": {},
   "outputs": [],
   "source": []
  },
  {
   "cell_type": "code",
   "execution_count": null,
   "id": "7139b194",
   "metadata": {},
   "outputs": [],
   "source": []
  },
  {
   "cell_type": "code",
   "execution_count": null,
   "id": "3e6ef697",
   "metadata": {},
   "outputs": [],
   "source": []
  },
  {
   "cell_type": "code",
   "execution_count": null,
   "id": "fec24c93",
   "metadata": {},
   "outputs": [],
   "source": []
  },
  {
   "cell_type": "code",
   "execution_count": null,
   "id": "68fca0b0",
   "metadata": {},
   "outputs": [],
   "source": []
  },
  {
   "cell_type": "code",
   "execution_count": null,
   "id": "caa99e0a",
   "metadata": {},
   "outputs": [],
   "source": []
  },
  {
   "cell_type": "code",
   "execution_count": null,
   "id": "95a4dc0b",
   "metadata": {},
   "outputs": [],
   "source": []
  },
  {
   "cell_type": "code",
   "execution_count": null,
   "id": "7847253e",
   "metadata": {},
   "outputs": [],
   "source": []
  },
  {
   "cell_type": "code",
   "execution_count": null,
   "id": "bc0328a5",
   "metadata": {},
   "outputs": [],
   "source": []
  },
  {
   "cell_type": "code",
   "execution_count": null,
   "id": "ac871f48",
   "metadata": {},
   "outputs": [],
   "source": []
  },
  {
   "cell_type": "code",
   "execution_count": null,
   "id": "d57249c2",
   "metadata": {},
   "outputs": [],
   "source": []
  },
  {
   "cell_type": "code",
   "execution_count": null,
   "id": "baade076",
   "metadata": {},
   "outputs": [],
   "source": []
  },
  {
   "cell_type": "code",
   "execution_count": null,
   "id": "ca84b0a3",
   "metadata": {},
   "outputs": [],
   "source": []
  },
  {
   "cell_type": "code",
   "execution_count": null,
   "id": "ee3ec664",
   "metadata": {},
   "outputs": [],
   "source": []
  },
  {
   "cell_type": "code",
   "execution_count": null,
   "id": "9475baa1",
   "metadata": {},
   "outputs": [],
   "source": []
  },
  {
   "cell_type": "code",
   "execution_count": null,
   "id": "17fe94fc",
   "metadata": {},
   "outputs": [],
   "source": []
  },
  {
   "cell_type": "code",
   "execution_count": null,
   "id": "8c835100",
   "metadata": {},
   "outputs": [],
   "source": []
  }
 ],
 "metadata": {
  "kernelspec": {
   "display_name": "Python 3 (ipykernel)",
   "language": "python",
   "name": "python3"
  },
  "language_info": {
   "codemirror_mode": {
    "name": "ipython",
    "version": 3
   },
   "file_extension": ".py",
   "mimetype": "text/x-python",
   "name": "python",
   "nbconvert_exporter": "python",
   "pygments_lexer": "ipython3",
   "version": "3.11.4"
  }
 },
 "nbformat": 4,
 "nbformat_minor": 5
}
