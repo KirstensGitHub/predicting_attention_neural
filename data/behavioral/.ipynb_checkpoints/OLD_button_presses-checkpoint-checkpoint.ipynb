{
 "cells": [
  {
   "cell_type": "markdown",
   "id": "dc820d5b-bbc6-4b90-8f2a-2982e7617d91",
   "metadata": {},
   "source": [
    "### Import packages"
   ]
  },
  {
   "cell_type": "code",
   "execution_count": 1,
   "id": "0b2cb3b6-a0e2-454b-b818-8523975fb328",
   "metadata": {},
   "outputs": [],
   "source": [
    "import pandas as pd\n",
    "import os\n",
    "import re\n",
    "import numpy as np"
   ]
  },
  {
   "cell_type": "code",
   "execution_count": 2,
   "id": "55f3868a",
   "metadata": {},
   "outputs": [
    {
     "ename": "FileNotFoundError",
     "evalue": "[Errno 2] No such file or directory: 'Subject_1'",
     "output_type": "error",
     "traceback": [
      "\u001b[0;31m---------------------------------------------------------------------------\u001b[0m",
      "\u001b[0;31mFileNotFoundError\u001b[0m                         Traceback (most recent call last)",
      "Cell \u001b[0;32mIn[2], line 1\u001b[0m\n\u001b[0;32m----> 1\u001b[0m logs \u001b[38;5;241m=\u001b[39m [x \u001b[38;5;28;01mfor\u001b[39;00m x \u001b[38;5;129;01min\u001b[39;00m os\u001b[38;5;241m.\u001b[39mlistdir(\u001b[38;5;124m'\u001b[39m\u001b[38;5;124mSubject_1\u001b[39m\u001b[38;5;124m'\u001b[39m) \u001b[38;5;28;01mif\u001b[39;00m x[\u001b[38;5;241m-\u001b[39m\u001b[38;5;241m4\u001b[39m:]\u001b[38;5;241m==\u001b[39m\u001b[38;5;124m'\u001b[39m\u001b[38;5;124m.log\u001b[39m\u001b[38;5;124m'\u001b[39m]\n\u001b[1;32m      2\u001b[0m logs\n",
      "\u001b[0;31mFileNotFoundError\u001b[0m: [Errno 2] No such file or directory: 'Subject_1'"
     ]
    }
   ],
   "source": [
    "logs = [x for x in os.listdir('Subject_1') if x[-4:]=='.log']\n",
    "logs"
   ]
  },
  {
   "cell_type": "markdown",
   "id": "947b2704-c0d5-4800-bb0c-24ccef5f921e",
   "metadata": {},
   "source": [
    "### Extract start times and button presses"
   ]
  },
  {
   "cell_type": "code",
   "execution_count": null,
   "id": "4efe1908-020f-4ec5-83db-95178c052342",
   "metadata": {},
   "outputs": [],
   "source": [
    "# for each subject (folder)\n",
    "\n",
    "# for sub_dir in [y for y in os.listdir('.') if \"ubject 1\" in y]:\n",
    "\n",
    "for sub_dir in ['Subject 1']:\n",
    "    print(sub_dir)\n",
    "    \n",
    "    #os.remove(sub_dir+'/'+sub_dir+'_button_presses.1D')\n",
    "    os.remove(sub_dir+'/subject_1_button_presses.1D')\n",
    "\n",
    "    ss = sub_dir\n",
    "    \n",
    "    ss='s'+ss[1:]\n",
    "    ss = ss.replace(' ','_')\n",
    "    print(ss)\n",
    "\n",
    "    # get list of log files\n",
    "    logs = [x for x in os.listdir(sub_dir) if x[-4:]=='.log']\n",
    "    csvs = [x for x in os.listdir(sub_dir) if x[-4:]=='.csv']\n",
    "\n",
    "    for num in [1,2,3,4,5,6]:\n",
    "\n",
    "        for c,l in zip(csvs,logs):\n",
    "            \n",
    "            # pull data from logs\n",
    "            log_file_path = sub_dir+'/'+l\n",
    "            \n",
    "            # read the log file\n",
    "            with open(log_file_path, 'r') as log_file:\n",
    "                log_data = log_file.readlines()\n",
    "            if len([x for x in log_data if 'csv' in x])>0:\n",
    "                this_run = [int(re.findall(r'\\d+', x[23:39])[0]) for x in log_data if 'csv' in x][0]\n",
    "\n",
    "                if this_run == num:\n",
    "                \n",
    "                    # print([int(re.findall(r'\\d+', x[23:39])[0]) for x in log_data if 'csv' in x][0])\n",
    "        \n",
    "                    check_list = [x for x in log_data if \"Keypress\" in x and \"equal\" in x]\n",
    "                    \n",
    "                    if len(check_list)>0:\n",
    "            \n",
    "                        # extract event data\n",
    "                        keypresses   = [x for x in log_data if \"Keypress\" in x]\n",
    "                        first_pulse  = [x for x in log_data if \"equal\" in x][0]\n",
    "                        button_press = [x for x in log_data if \"Keypress\" in x and \"equal\" not in x]\n",
    "                        buttons = [float(x[0:9])-float(first_pulse[0:9]) for x in button_press]\n",
    "                        print([float(x[0:9])-float(first_pulse[0:9]) for x in button_press])\n",
    "                        \n",
    "            \n",
    "                        # get movie start times (wrt neural data)\n",
    "                        csv = pd.read_csv(sub_dir+'/'+c)\n",
    "                \n",
    "                        csv_movie_starts = csv['movie.started'][1:21]\n",
    "                        mri_movie_starts = csv_movie_starts - float(first_pulse[0:9]) #[x-first_pulse for x in list(csv_movie_starts)]\n",
    "            \n",
    "                        # get the run number\n",
    "                        run_num   = [x for x in log_data if \"Imported movie\" in x][0][34]\n",
    "            \n",
    "                        # save movie onset times\n",
    "                        mri_movie_starts.to_csv(sub_dir+'/mri_movie_starts_'+run_num)\n",
    "    \n",
    "                        # now append this stuff as a new line in the subject's file\n",
    "                        filename = sub_dir+'/'+ss+'_button_presses.1D'\n",
    "                        with open(filename, \"a\") as f:\n",
    "                            for i in buttons:\n",
    "                              f.write(f\"{i} \")\n",
    "                            f.write(\"\\n\")\n",
    "               "
   ]
  },
  {
   "cell_type": "code",
   "execution_count": null,
   "id": "be8297f8-a7c4-4cb1-b417-365e8fce476c",
   "metadata": {},
   "outputs": [],
   "source": [
    "csvs"
   ]
  },
  {
   "cell_type": "markdown",
   "id": "4b0322b3-c22c-4a6c-9676-687203f3d47b",
   "metadata": {},
   "source": [
    "# Extract right and wrong start times, scrambled and veridical"
   ]
  },
  {
   "cell_type": "code",
   "execution_count": null,
   "id": "050d947f-80e7-4abb-aced-cd87e468b607",
   "metadata": {},
   "outputs": [],
   "source": [
    "# for each subject (folder)\n",
    "for sub_dir in [y for y in os.listdir('.') if \"ubject\" in y]:\n",
    "\n",
    "    # print(sub_dir)\n",
    "    # os.remove(sub_dir+'/'+sub_dir+'_button_presses.1D')\n",
    "\n",
    "    # get list of log files\n",
    "    logs = [x for x in os.listdir(sub_dir) if x[-4:]=='.log']\n",
    "    csvs = [x for x in os.listdir(sub_dir) if x[-4:]=='.csv']\n",
    "\n",
    "    for csv in csvs:\n",
    "        df = pd.read_csv(sub_dir+'/'+csv)"
   ]
  },
  {
   "cell_type": "code",
   "execution_count": null,
   "id": "e15d5c01-9f90-45c8-867e-b46a7caab8a0",
   "metadata": {},
   "outputs": [],
   "source": [
    "df.columns"
   ]
  },
  {
   "cell_type": "code",
   "execution_count": null,
   "id": "6702a26c-b1a4-47ca-b812-9b4ca3adc506",
   "metadata": {},
   "outputs": [],
   "source": [
    "# df.columns\n",
    "\n",
    "# df['rating']=np.nan\n",
    "# df.loc[df['key_resp_9.keys'].contains(1), 'rating'] = 1"
   ]
  },
  {
   "cell_type": "code",
   "execution_count": null,
   "id": "edfaec02-38d6-4048-a433-84fd4dffc68c",
   "metadata": {},
   "outputs": [],
   "source": [
    "# # organize scores\n",
    "# df['response_type'] = np.nan\n",
    "# df['response_value'] = np.nan\n",
    "\n",
    "# df.loc[(df['key_resp_9.keys'].str.contains(',', na= False)), \n",
    "#           'key_resp_9.keys'] = str('oo') + df['key_resp_9.keys'].str[2]\n",
    "# #for the ones with two responses, choose the first one\n",
    "\n",
    "# df['response_value'] = df['key_resp_9.keys'].str[2]\n",
    "\n",
    "# #df['response_value']"
   ]
  },
  {
   "cell_type": "code",
   "execution_count": null,
   "id": "0f753d25-b129-4368-a621-3181ca6002f6",
   "metadata": {},
   "outputs": [],
   "source": [
    "ss='s'+ss[1:]\n",
    "ss = ss.replace(' ','_')\n",
    "ss"
   ]
  },
  {
   "cell_type": "markdown",
   "id": "7cfe5c9b-03fd-4e7b-95b1-31cddec0a5ae",
   "metadata": {},
   "source": [
    "# Make files for onset times just based on button presses"
   ]
  },
  {
   "cell_type": "code",
   "execution_count": null,
   "id": "50883f3c-0768-4d91-9fab-ca27a6aede61",
   "metadata": {},
   "outputs": [],
   "source": [
    "# for each subject (folder)\n",
    "\n",
    "\n",
    "# for sub_dir in [y for y in os.listdir('.') if \"ubject\" in y]:\n",
    "\n",
    "for sub_dir in ['Subject 1']:\n",
    "\n",
    "    # print(sub_dir)\n",
    "\n",
    "    # for p in ['_button_1.1D','_button_2.1D','_button_1_verid.1D','_button_1_scram.1D','_button_2_verid.1D',\n",
    "    #                                          '_button_2_scram.1D']:\n",
    "    #     os.remove(sub_dir+'/'+sub_dir+p)\n",
    "\n",
    "    os.remove(sub_dir+'/subject_1_button_1_verid.1D')\n",
    "    os.remove(sub_dir+'/subject_1_button_1_scram.1D')    \n",
    "    os.remove(sub_dir+'/subject_1_button_1.1D')\n",
    "    os.remove(sub_dir+'/subject_1_button_2_verid.1D')\n",
    "    os.remove(sub_dir+'/subject_1_button_2_scram.1D')\n",
    "    os.remove(sub_dir+'/subject_1_button_2.1D')\n",
    "    \n",
    "    ss = sub_dir\n",
    "    \n",
    "    ss='s'+ss[1:]\n",
    "    ss = ss.replace(' ','_')\n",
    "    print(ss)\n",
    "    \n",
    "    # get list of log files\n",
    "    logs = [x for x in os.listdir(sub_dir) if x[-4:]=='.log']\n",
    "    csvs = [x for x in os.listdir(sub_dir) if x[-4:]=='.csv']\n",
    "\n",
    "    for num in [1,2,3,4,5,6]:\n",
    "\n",
    "        for c,l in zip(csvs,logs):\n",
    "            \n",
    "            # pull data from logs\n",
    "            log_file_path = sub_dir+'/'+l\n",
    "            \n",
    "            # read the log file\n",
    "            with open(log_file_path, 'r') as log_file:\n",
    "                log_data = log_file.readlines()\n",
    "            if len([x for x in log_data if 'csv' in x])>0:\n",
    "                this_run = [int(re.findall(r'\\d+', x[23:39])[0]) for x in log_data if 'csv' in x][0]\n",
    "\n",
    "                if this_run == num:\n",
    "                \n",
    "                    # print([int(re.findall(r'\\d+', x[23:39])[0]) for x in log_data if 'csv' in x][0])\n",
    "        \n",
    "                    check_list = [x for x in log_data if \"Keypress\" in x and \"equal\" in x]\n",
    "                    \n",
    "                    if len(check_list)>0:\n",
    "                        # get movie start times (wrt neural data)\n",
    "                        csv = pd.read_csv(sub_dir+'/'+c)\n",
    "                        \n",
    "                        # get response values out of lists\n",
    "                        csv['response_type'] = np.nan; csv['response_value'] = np.nan\n",
    "                        csv.loc[(df['key_resp_9.keys'].str.contains(',', na= False)), \n",
    "                                  'key_resp_9.keys'] = str('oo') + csv['key_resp_9.keys'].str[2]\n",
    "                        \n",
    "                        #for the ones with two responses, choose the first one\n",
    "                        csv['response_value'] = csv['key_resp_9.keys'].str[2]\n",
    "                \n",
    "                        # now get the start times for each button type\n",
    "                        button_1 = list(csv[csv['response_value']=='1']['start_time'])\n",
    "                        button_2 = list(csv[csv['response_value']=='2']['start_time'])\n",
    "\n",
    "                        button_1_verid = list(csv[(csv['response_value']=='1')&(csv['type']=='veridical')]['start_time'])\n",
    "                        button_1_scram = list(csv[(csv['response_value']=='1')&(csv['type']=='scrambled')]['start_time'])\n",
    "\n",
    "                        button_2_verid = list(csv[(csv['response_value']=='2')&(csv['type']=='veridical')]['start_time'])\n",
    "                        button_2_scram = list(csv[(csv['response_value']=='2')&(csv['type']=='scrambled')]['start_time'])\n",
    "    \n",
    "                        # now append this stuff as a new line in the subject's file\n",
    "                        for data,file in zip([button_1,button_2,button_1_verid,button_1_scram,button_2_verid,button_2_scram],\n",
    "                                             ['_button_1.1D','_button_2.1D','_button_1_verid.1D','_button_1_scram.1D','_button_2_verid.1D',\n",
    "                                             '_button_2_scram.1D']):\n",
    "                            \n",
    "                            filename = sub_dir+'/'+ss+file\n",
    "                            # print(filename)\n",
    "                            # print(sub_dir)\n",
    "                            # print(num)\n",
    "                            # print(data)\n",
    "                            # print()\n",
    "\n",
    "                            \n",
    "                            with open(filename, \"a\") as f:\n",
    "                                for i in data:\n",
    "                                  f.write(f\"{i} \")\n",
    "                                f.write(\"\\n\")\n"
   ]
  },
  {
   "cell_type": "markdown",
   "id": "ccbf017e-ea72-4910-b463-28cc1de92ce5",
   "metadata": {},
   "source": [
    "# Make files for onset times based on stim and button presses"
   ]
  },
  {
   "cell_type": "code",
   "execution_count": null,
   "id": "b9103f7e-305a-48f1-8a6a-de1c9a3d4058",
   "metadata": {},
   "outputs": [],
   "source": []
  },
  {
   "cell_type": "markdown",
   "id": "d7213710-d8fc-4954-880f-fbb2ae2c134d",
   "metadata": {},
   "source": [
    "# For now, accept their first button press and don't take any late ones"
   ]
  },
  {
   "cell_type": "code",
   "execution_count": null,
   "id": "5a5b0425-c961-48c1-bc82-b4a0c3c64b89",
   "metadata": {},
   "outputs": [],
   "source": [
    "#df['key'] = df['key_resp_9.keys']\n",
    "\n",
    "separate_list_column_into_multiple_columns(df, 'key_resp_9.keys')"
   ]
  },
  {
   "cell_type": "code",
   "execution_count": null,
   "id": "30a2b7df-3ca2-42c9-960f-1d51339e3715",
   "metadata": {},
   "outputs": [],
   "source": [
    "import pandas as pd\n",
    "import numpy as np\n",
    "\n",
    "def separate_list_column_into_multiple_columns(df, column_name):\n",
    "  \"\"\"Separates a column of lists of ints into multiple columns.\n",
    "\n",
    "  Args:\n",
    "    df: A pandas DataFrame.\n",
    "    column_name: The name of the column to separate.\n",
    "\n",
    "  Returns:\n",
    "    A pandas DataFrame with the separated columns.\n",
    "  \"\"\"\n",
    "\n",
    "  # Get a list of the lengths of the lists in the column.\n",
    "  list_lengths = df[column_name].apply(len)\n",
    "\n",
    "  # Create a new DataFrame with the separated columns.\n",
    "  new_df = pd.DataFrame()\n",
    "\n",
    "  # Iterate over the list lengths and create a new column for each list item.\n",
    "  for i in range(max(list_lengths)):\n",
    "    new_df[f\"{column_name}_{i}\"] = df[column_name].apply(lambda x: x[i] if i < len(x) else np.nan)\n",
    "\n",
    "  return new_df\n",
    "\n",
    "# Example usage:\n",
    "\n",
    "# df = pd.DataFrame({\"column_name\": [[1], [2, 3], [4]]})\n",
    "\n",
    "# new_df = separate_list_column_into_multiple_columns(df, \"column_name\")\n",
    "\n",
    "# print(new_df)"
   ]
  },
  {
   "cell_type": "code",
   "execution_count": null,
   "id": "e97ba6db-82c7-411a-8457-9eacad14661a",
   "metadata": {},
   "outputs": [],
   "source": []
  },
  {
   "cell_type": "code",
   "execution_count": null,
   "id": "84776c0f-a055-49c1-a190-5f9218ec588e",
   "metadata": {},
   "outputs": [],
   "source": []
  },
  {
   "cell_type": "code",
   "execution_count": null,
   "id": "17e467a9-6b9c-4e3e-8079-40ffb2b6cc92",
   "metadata": {},
   "outputs": [],
   "source": []
  },
  {
   "cell_type": "code",
   "execution_count": null,
   "id": "2adaa1b0-7dea-4228-868e-8c02d0f0b979",
   "metadata": {},
   "outputs": [],
   "source": [
    "# try to load a log\n",
    "\n",
    "\n",
    "log_file_path = sub_dir+'/subject_16c_run_1_2023-09-27_10h51.48.758.log'\n",
    "\n",
    "# Read the log file\n",
    "with open(log_file_path, 'r') as log_file:\n",
    "    log_data = log_file.readlines()\n",
    "\n",
    "# Extract event data\n",
    "events = []\n",
    "for line in log_data:\n",
    "    if line.startswith('Keypress: '):\n",
    "        event_data = line.split('Keypress: ')[1].strip()\n",
    "        events.append(event_data)\n",
    "\n",
    "keypresses   = [x for x in log_data if \"Keypress\" in x]\n",
    "first_pulse  = [x for x in log_data if \"equal\" in x][0]\n",
    "button_press = [x for x in log_data if \"Keypress\" in x and \"equal\" not in x]\n",
    "\n",
    "\n",
    "# # Print the extracted event data\n",
    "# for event in events:\n",
    "#     print(event)"
   ]
  },
  {
   "cell_type": "code",
   "execution_count": null,
   "id": "1aea13aa-9ce0-4b27-b393-70e85bf953a1",
   "metadata": {},
   "outputs": [],
   "source": [
    "button_press"
   ]
  },
  {
   "cell_type": "code",
   "execution_count": null,
   "id": "c76e38bc-f4d5-4cad-a5b4-e1363d844d88",
   "metadata": {},
   "outputs": [],
   "source": [
    "# PARSE LOG FILE\n",
    "\n",
    "# obtain first scan pulse\n",
    "\n",
    "# obtain all button press responses\n"
   ]
  },
  {
   "cell_type": "code",
   "execution_count": null,
   "id": "a343d563-2117-4675-a94a-0e37ad372c9e",
   "metadata": {},
   "outputs": [],
   "source": [
    "# subtract scan pulse onset from movie onsets\n",
    "\n",
    "# subtract scan pulse onsets from button press onsets\n",
    "\n",
    "    # from csv\n",
    "\n",
    "    # from log\n",
    "\n",
    "    # check that they match"
   ]
  },
  {
   "cell_type": "code",
   "execution_count": null,
   "id": "1a294908-0148-4fc1-80e4-3c0eef88ec69",
   "metadata": {},
   "outputs": [],
   "source": []
  },
  {
   "cell_type": "code",
   "execution_count": null,
   "id": "1e40f070-beee-4ded-8ffc-68d836636965",
   "metadata": {},
   "outputs": [],
   "source": []
  },
  {
   "cell_type": "code",
   "execution_count": null,
   "id": "97760294-51e1-45de-9efd-7edf4faee14b",
   "metadata": {},
   "outputs": [],
   "source": []
  },
  {
   "cell_type": "code",
   "execution_count": null,
   "id": "4ab6f486-8c16-4ab7-b96d-5b4aa4edf34e",
   "metadata": {},
   "outputs": [],
   "source": []
  }
 ],
 "metadata": {
  "kernelspec": {
   "display_name": "Python 3 (ipykernel)",
   "language": "python",
   "name": "python3"
  },
  "language_info": {
   "codemirror_mode": {
    "name": "ipython",
    "version": 3
   },
   "file_extension": ".py",
   "mimetype": "text/x-python",
   "name": "python",
   "nbconvert_exporter": "python",
   "pygments_lexer": "ipython3",
   "version": "3.11.4"
  }
 },
 "nbformat": 4,
 "nbformat_minor": 5
}
