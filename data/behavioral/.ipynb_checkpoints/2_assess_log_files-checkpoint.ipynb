{
 "cells": [
  {
   "cell_type": "markdown",
   "id": "649d8a1a",
   "metadata": {},
   "source": [
    "# Imports"
   ]
  },
  {
   "cell_type": "code",
   "execution_count": 27,
   "id": "45b676d1",
   "metadata": {},
   "outputs": [],
   "source": [
    "import os\n",
    "import pandas as pd\n",
    "\n",
    "# !!! CHANGE !!!\n",
    "# Original code:\n",
    "#  N/A\n",
    "# Reason for change:\n",
    "#  Kirsten never imported warnings but uses it in the code,\n",
    "#  and I need re for later pattern-matching.\n",
    "import warnings\n",
    "import re"
   ]
  },
  {
   "cell_type": "markdown",
   "id": "f29b732f",
   "metadata": {},
   "source": [
    "### Functions"
   ]
  },
  {
   "cell_type": "code",
   "execution_count": 78,
   "id": "fd3fad56",
   "metadata": {},
   "outputs": [],
   "source": [
    "def reorder_dataframe_by_timestamp(df):\n",
    "  \"\"\"\n",
    "  This function reorders a dataframe based on timestamps in the \"file\" column.\n",
    "\n",
    "  Args:\n",
    "      df: A pandas dataframe.\n",
    "\n",
    "  Returns:\n",
    "      A new dataframe reordered by timestamps (or the original dataframe with warnings if parsing fails).\n",
    "  \"\"\"\n",
    "  def extract_timestamp(filename):\n",
    "    try:\n",
    "      # Extract timestamp part (assuming format YYYY-MM-DD_Xhhmm.ss.fff.log)\n",
    "      \n",
    "      # !!! CHANGE !!!\n",
    "      # Original code:\n",
    "      #   return filename.split(\"_\")[-1].split(\".\")[0]\n",
    "      # Reason for change:\n",
    "      #   This doesn't actually return the format that Kirsten specified.\n",
    "      #   The underscore between day and hour means it will only return the\n",
    "      #   hour and minute.\n",
    "      return re.search(r'\\d+-\\d+-\\d+_[\\dh\\.]+(?=\\.\\d+\\.log$)', filename).group()\n",
    "    \n",
    "    except (IndexError, ValueError):\n",
    "      warnings.warn(f\"Failed to parse timestamp from filename {filename}.\")\n",
    "      return None  # Indicate parsing failure\n",
    "\n",
    "  # Extract timestamp with informative error handling\n",
    "  df['timestamp'] = df['file'].apply(extract_timestamp)\n",
    "\n",
    "  # Try converting timestamps to datetime format (handle potential errors)\n",
    "  try:\n",
    "    from datetime import datetime\n",
    "    df['timestamp'] = pd.to_datetime(df['timestamp'], format=\"%Y-%m-%d_%Hh%M.%S\")\n",
    "  except ValueError:\n",
    "    # If conversion fails for all timestamps, issue a general warning\n",
    "    warnings.warn(\"Failed to convert all timestamps to datetime format. Check filename format.\")\n",
    "    print(\"Note: not all timestamp column vals be converted to datetime format.\")\n",
    "    pass\n",
    "    \n",
    "  # Sort dataframe by timestamp (dropna removes rows with missing timestamps)\n",
    "  return df.sort_values(by='timestamp').dropna(subset=['timestamp'])\n",
    "\n",
    "\n",
    "def is_list_in_order(number_list):\n",
    "  \"\"\"\n",
    "  This function checks if a list of numbers is in order (1 to n).\n",
    "\n",
    "  Args:\n",
    "      number_list: A list of integers.\n",
    "\n",
    "  Returns:\n",
    "      True if the list is in order, False otherwise.\n",
    "  \"\"\"\n",
    "  # Check if the list is empty or has only one element\n",
    "  if len(number_list) <= 1:\n",
    "    return True\n",
    "\n",
    "  # Convert the list to integers\n",
    "  number_list = [int(num) for num in number_list]\n",
    "\n",
    "  # Check if the list is in ascending order\n",
    "  return all(a <= b for a, b in zip(number_list, number_list[1:]))\n",
    "\n",
    "\n",
    "def has_duplicates(number_list):\n",
    "  \"\"\"\n",
    "  This function checks if a list contains duplicate items.\n",
    "\n",
    "  Args:\n",
    "      number_list: A list of any data type.\n",
    "\n",
    "  Returns:\n",
    "      True if there are duplicates, False otherwise.\n",
    "  \"\"\"\n",
    "  return len(set(number_list)) != len(number_list)"
   ]
  },
  {
   "cell_type": "markdown",
   "id": "7f6155a5",
   "metadata": {},
   "source": [
    "### Load and check log files"
   ]
  },
  {
   "cell_type": "code",
   "execution_count": 79,
   "id": "6f497b60",
   "metadata": {},
   "outputs": [],
   "source": [
    "path     = 'behavioral_data'\n",
    "sub_dirs = os.listdir(path)"
   ]
  },
  {
   "cell_type": "markdown",
   "id": "a288097e",
   "metadata": {},
   "source": [
    "Load the log files and times when they were collected\n",
    "\n",
    "Report any subjects with unusual number or order of runs\n"
   ]
  },
  {
   "cell_type": "code",
   "execution_count": 80,
   "id": "32c24999",
   "metadata": {
    "scrolled": false
   },
   "outputs": [
    {
     "name": "stdout",
     "output_type": "stream",
     "text": [
      "subject_4 has an early-stop log file\n",
      "disregarding: behavioral_data/subject_4/subject_4c_run_1_2023-08-24_13h14.00.218.log\n",
      "\n",
      "\n",
      "subject_1 has unusual order\n",
      "['1', '2', '3', '4', '4', '5', '6']\n",
      "\n",
      "\n",
      "subject_9 has unusual order\n",
      "['1', '2', '3', '4', '5', '6', '1', '2', '3', '4', '5', '6']\n",
      "\n",
      "subject_12 has an early-stop log file\n",
      "disregarding: behavioral_data/subject_12/subject_12_run_1_2023-09-01_14h48.28.289.log\n",
      "\n",
      "\n",
      "subject_12 has unusual order\n",
      "['1', '2', '3', '3', '5', '6', '4']\n",
      "\n",
      "subject_20 has an early-stop log file\n",
      "disregarding: behavioral_data/subject_20/subjec_20b_run_1_2023-11-02_17h48.21.836.log\n",
      "\n"
     ]
    }
   ],
   "source": [
    "ordered_subs = []; other_subs = {'subject':[], 'behavioral_runs':[]}\n",
    "disregard = {'subject':[], 'file':[]}\n",
    "\n",
    "for sub in sub_dirs:\n",
    "    \n",
    "    add_to_dict  = False\n",
    "    \n",
    "    log_files    = [ path + '/' + sub + '/' + x for x in os.listdir(path + '/' + sub) if '.log' in x ]\n",
    "    log_data     = [ pd.read_table(x,header=None) for x in log_files ] \n",
    "    new_log_data = []\n",
    "    \n",
    "    for d,f in zip(log_data,log_files):\n",
    "        # !!! CHANGE !!!\n",
    "        # Original code:\n",
    "        #  if d[d[2].str.contains('.csv')].shape[0] > 0:\n",
    "        # Reason for change:\n",
    "        #  Clunky & inefficient, and the code below does the same thing.\n",
    "        if d[2].str.contains('.csv').any():\n",
    "            \n",
    "            # !!! CHANGE !!!\n",
    "            # Original code:\n",
    "            #  run       = list(d[d[2].str.contains('.csv')][2].str.split(' '))[0][1][-5]\n",
    "            # Reason for change:\n",
    "            #  Clunky.\n",
    "            import_statement = list(d[d[2].str.contains('.csv')][2])[0]\n",
    "            run = re.search(r'(?<=movie_stim_)\\d(?=\\.csv)', import_statement).group()\n",
    "            \n",
    "            # !!! CHANGE !!!\n",
    "            # Original code:\n",
    "            #  d['file'] = f[27:]\n",
    "            # Reason for change:\n",
    "            #  Sometimes cuts off parts of files, leading to 'ubject...' filenames\n",
    "            d['file'] = f.split('/')[-1]\n",
    "            \n",
    "            d['run' ] = run\n",
    "            new_log_data.append(d)\n",
    "            \n",
    "        else:\n",
    "            print(sub + ' has an early-stop log file'); \n",
    "            print('disregarding: '+ f); print()\n",
    "            disregard['file'].append(f)\n",
    "            disregard['subject'].append(sub)\n",
    "    \n",
    "    \n",
    "    df = pd.concat(new_log_data)\n",
    "    ordered_df = reorder_dataframe_by_timestamp(df)\n",
    "    grouped_df = ordered_df.groupby(['timestamp','run'],as_index=False).count()\n",
    "    ordered_runs = list(grouped_df['run'])\n",
    "    \n",
    "    if has_duplicates(ordered_runs):\n",
    "        print(); print(sub+ ' has unusual order')\n",
    "        print(ordered_runs); print()\n",
    "        add_to_dict = True\n",
    "    \n",
    "    elif not is_list_in_order(ordered_runs):\n",
    "        print(); print(sub+ ' has unusual order')\n",
    "        print(ordered_runs); print()\n",
    "        add_to_dict = True\n",
    "        \n",
    "    else: \n",
    "        ordered_subs.append(sub)\n",
    "        \n",
    "    if add_to_dict:\n",
    "        \n",
    "        other_subs['subject'].append(sub)\n",
    "        other_subs['behavioral_runs'].append(ordered_runs)\n",
    "        "
   ]
  },
  {
   "cell_type": "code",
   "execution_count": 55,
   "id": "46e568fa",
   "metadata": {},
   "outputs": [
    {
     "data": {
      "text/html": [
       "<div>\n",
       "<style scoped>\n",
       "    .dataframe tbody tr th:only-of-type {\n",
       "        vertical-align: middle;\n",
       "    }\n",
       "\n",
       "    .dataframe tbody tr th {\n",
       "        vertical-align: top;\n",
       "    }\n",
       "\n",
       "    .dataframe thead th {\n",
       "        text-align: right;\n",
       "    }\n",
       "</style>\n",
       "<table border=\"1\" class=\"dataframe\">\n",
       "  <thead>\n",
       "    <tr style=\"text-align: right;\">\n",
       "      <th></th>\n",
       "      <th>subject</th>\n",
       "      <th>behavioral_runs</th>\n",
       "    </tr>\n",
       "  </thead>\n",
       "  <tbody>\n",
       "  </tbody>\n",
       "</table>\n",
       "</div>"
      ],
      "text/plain": [
       "Empty DataFrame\n",
       "Columns: [subject, behavioral_runs]\n",
       "Index: []"
      ]
     },
     "execution_count": 55,
     "metadata": {},
     "output_type": "execute_result"
    }
   ],
   "source": [
    "odf = pd.DataFrame(other_subs)\n",
    "odf"
   ]
  },
  {
   "cell_type": "code",
   "execution_count": 8,
   "id": "342130b8",
   "metadata": {},
   "outputs": [],
   "source": [
    "for idx,r in odf.iterrows():\n",
    "    r.to_csv(r['subject']+'_unusual_run_order.csv')"
   ]
  },
  {
   "cell_type": "code",
   "execution_count": 9,
   "id": "14acab4c",
   "metadata": {},
   "outputs": [
    {
     "data": {
      "text/html": [
       "<div>\n",
       "<style scoped>\n",
       "    .dataframe tbody tr th:only-of-type {\n",
       "        vertical-align: middle;\n",
       "    }\n",
       "\n",
       "    .dataframe tbody tr th {\n",
       "        vertical-align: top;\n",
       "    }\n",
       "\n",
       "    .dataframe thead th {\n",
       "        text-align: right;\n",
       "    }\n",
       "</style>\n",
       "<table border=\"1\" class=\"dataframe\">\n",
       "  <thead>\n",
       "    <tr style=\"text-align: right;\">\n",
       "      <th></th>\n",
       "      <th>subject</th>\n",
       "      <th>file</th>\n",
       "    </tr>\n",
       "  </thead>\n",
       "  <tbody>\n",
       "    <tr>\n",
       "      <th>0</th>\n",
       "      <td>subject_4</td>\n",
       "      <td>behavioral_data/subject_4/subject_4c_run_1_202...</td>\n",
       "    </tr>\n",
       "    <tr>\n",
       "      <th>1</th>\n",
       "      <td>subject_12</td>\n",
       "      <td>behavioral_data/subject_12/subject_12_run_1_20...</td>\n",
       "    </tr>\n",
       "    <tr>\n",
       "      <th>2</th>\n",
       "      <td>subject_20</td>\n",
       "      <td>behavioral_data/subject_20/subjec_20b_run_1_20...</td>\n",
       "    </tr>\n",
       "  </tbody>\n",
       "</table>\n",
       "</div>"
      ],
      "text/plain": [
       "      subject                                               file\n",
       "0   subject_4  behavioral_data/subject_4/subject_4c_run_1_202...\n",
       "1  subject_12  behavioral_data/subject_12/subject_12_run_1_20...\n",
       "2  subject_20  behavioral_data/subject_20/subjec_20b_run_1_20..."
      ]
     },
     "execution_count": 9,
     "metadata": {},
     "output_type": "execute_result"
    }
   ],
   "source": [
    "ddf = pd.DataFrame(disregard)\n",
    "ddf"
   ]
  },
  {
   "cell_type": "code",
   "execution_count": 10,
   "id": "3a0a2242",
   "metadata": {},
   "outputs": [],
   "source": [
    "for idx,r in ddf.iterrows():\n",
    "    r.to_csv(r['subject']+'_disregard_files.csv')"
   ]
  }
 ],
 "metadata": {
  "kernelspec": {
   "display_name": "Python 3 (ipykernel)",
   "language": "python",
   "name": "python3"
  },
  "language_info": {
   "codemirror_mode": {
    "name": "ipython",
    "version": 3
   },
   "file_extension": ".py",
   "mimetype": "text/x-python",
   "name": "python",
   "nbconvert_exporter": "python",
   "pygments_lexer": "ipython3",
   "version": "3.11.4"
  }
 },
 "nbformat": 4,
 "nbformat_minor": 5
}
