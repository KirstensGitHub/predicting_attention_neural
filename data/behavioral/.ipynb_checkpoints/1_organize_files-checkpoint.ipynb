{
 "cells": [
  {
   "cell_type": "markdown",
   "id": "6790d6f3",
   "metadata": {},
   "source": [
    "# Imports"
   ]
  },
  {
   "cell_type": "code",
   "execution_count": 1,
   "id": "fa958f09",
   "metadata": {},
   "outputs": [],
   "source": [
    "import os"
   ]
  },
  {
   "cell_type": "markdown",
   "id": "84cb8c65",
   "metadata": {},
   "source": [
    "### Explore subject folders"
   ]
  },
  {
   "cell_type": "code",
   "execution_count": 5,
   "id": "fac1a074",
   "metadata": {},
   "outputs": [],
   "source": [
    "path     = 'behavioral_data/MRI_Behavioral_Data'\n",
    "sub_dirs = os.listdir(path)"
   ]
  },
  {
   "cell_type": "code",
   "execution_count": 6,
   "id": "20590ebc",
   "metadata": {},
   "outputs": [
    {
     "name": "stdout",
     "output_type": "stream",
     "text": [
      "23 unique subject directories\n"
     ]
    }
   ],
   "source": [
    "print(str(len(sub_dirs)) + ' unique subject directories')"
   ]
  },
  {
   "cell_type": "code",
   "execution_count": 7,
   "id": "3388286d",
   "metadata": {},
   "outputs": [
    {
     "name": "stdout",
     "output_type": "stream",
     "text": [
      "['Subject 1', 'subject_22', 'Subject 7', 'subject_4c', 'subject_21', 'Subject 3', 'subject_19', 'subject 13', 'Subject 2', 'Subject 12', 'subject 9', 'subject_17b', 'Subject 6', 'subject 23', 'subject 11', 'subject 14', 'subject_15', 'Subject 18', 'subject 10', 'Subject 20b', 'subject 5', 'subject_16c', 'subject 8']\n"
     ]
    }
   ],
   "source": [
    "print(sub_dirs)"
   ]
  },
  {
   "cell_type": "markdown",
   "id": "cb575da5",
   "metadata": {},
   "source": [
    "### Standardize subject folder names"
   ]
  },
  {
   "cell_type": "code",
   "execution_count": 8,
   "id": "326397b1",
   "metadata": {},
   "outputs": [],
   "source": [
    "def organize_data():\n",
    "    \n",
    "    for x in sub_dirs:\n",
    "\n",
    "        original = path + '/' + x\n",
    "\n",
    "        x = 's' + x[1:]\n",
    "        x = x.replace(' ', '_')\n",
    "\n",
    "        if x[-1] in (['a','b','c']):\n",
    "            x = x[:-1]\n",
    "            \n",
    "        x = path + '/' + x\n",
    "\n",
    "        os.rename(original, x)"
   ]
  },
  {
   "cell_type": "code",
   "execution_count": 9,
   "id": "57170c3b",
   "metadata": {},
   "outputs": [],
   "source": [
    "organize_data()"
   ]
  },
  {
   "cell_type": "markdown",
   "id": "9f599277",
   "metadata": {},
   "source": [
    "### Check filenames"
   ]
  },
  {
   "cell_type": "code",
   "execution_count": 10,
   "id": "5c81d40f",
   "metadata": {},
   "outputs": [],
   "source": [
    "path     = 'behavioral_data/MRI_B'\n",
    "sub_dirs = os.listdir(path)"
   ]
  },
  {
   "cell_type": "code",
   "execution_count": 11,
   "id": "6b5c697f",
   "metadata": {},
   "outputs": [
    {
     "name": "stdout",
     "output_type": "stream",
     "text": [
      "4 unique subject directories\n"
     ]
    }
   ],
   "source": [
    "print(str(len(sub_dirs)) + ' unique subject directories')"
   ]
  },
  {
   "cell_type": "code",
   "execution_count": 9,
   "id": "9ec5b5cf",
   "metadata": {},
   "outputs": [
    {
     "name": "stdout",
     "output_type": "stream",
     "text": [
      "['subject_17', 'subject_4', 'subject_1', 'subject_9', 'subject_22', 'subject_6', 'subject_21', 'subject_19', 'subject_8', 'subject_14', 'subject_16', 'subject_12', 'subject_11', 'subject_7', 'subject_5', 'subject_2', 'subject_20', 'subject_10', 'subject_15', 'subject_13', 'subject_3', 'subject_18', 'subject_23']\n"
     ]
    }
   ],
   "source": [
    "print(sub_dirs)"
   ]
  }
 ],
 "metadata": {
  "kernelspec": {
   "display_name": "Python 3 (ipykernel)",
   "language": "python",
   "name": "python3"
  },
  "language_info": {
   "codemirror_mode": {
    "name": "ipython",
    "version": 3
   },
   "file_extension": ".py",
   "mimetype": "text/x-python",
   "name": "python",
   "nbconvert_exporter": "python",
   "pygments_lexer": "ipython3",
   "version": "3.11.4"
  }
 },
 "nbformat": 4,
 "nbformat_minor": 5
}
