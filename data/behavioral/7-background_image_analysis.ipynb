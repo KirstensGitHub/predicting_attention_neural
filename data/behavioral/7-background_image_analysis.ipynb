{
 "cells": [
  {
   "cell_type": "code",
   "execution_count": 1,
   "id": "2de493b1",
   "metadata": {},
   "outputs": [],
   "source": [
    "import pandas as pd\n",
    "import re\n",
    "import seaborn as sns\n",
    "import matplotlib.pyplot as plt\n",
    "import scipy\n",
    "import sklearn.metrics\n",
    "import numpy as np"
   ]
  },
  {
   "cell_type": "markdown",
   "id": "6a8a4af7",
   "metadata": {},
   "source": [
    "## Comparing classifications"
   ]
  },
  {
   "cell_type": "markdown",
   "id": "64d48584",
   "metadata": {},
   "source": [
    "### Getting conflicts"
   ]
  },
  {
   "cell_type": "code",
   "execution_count": 2,
   "id": "56077bf1",
   "metadata": {},
   "outputs": [
    {
     "data": {
      "text/html": [
       "<div>\n",
       "<style scoped>\n",
       "    .dataframe tbody tr th:only-of-type {\n",
       "        vertical-align: middle;\n",
       "    }\n",
       "\n",
       "    .dataframe tbody tr th {\n",
       "        vertical-align: top;\n",
       "    }\n",
       "\n",
       "    .dataframe thead th {\n",
       "        text-align: right;\n",
       "    }\n",
       "</style>\n",
       "<table border=\"1\" class=\"dataframe\">\n",
       "  <thead>\n",
       "    <tr style=\"text-align: right;\">\n",
       "      <th></th>\n",
       "      <th>Social Agreement</th>\n",
       "      <th>Face Agreement</th>\n",
       "      <th>Person Agreement</th>\n",
       "    </tr>\n",
       "    <tr>\n",
       "      <th>Stimulus_Number</th>\n",
       "      <th></th>\n",
       "      <th></th>\n",
       "      <th></th>\n",
       "    </tr>\n",
       "  </thead>\n",
       "  <tbody>\n",
       "    <tr>\n",
       "      <th>285993</th>\n",
       "      <td>True</td>\n",
       "      <td>True</td>\n",
       "      <td>False</td>\n",
       "    </tr>\n",
       "    <tr>\n",
       "      <th>286001</th>\n",
       "      <td>True</td>\n",
       "      <td>False</td>\n",
       "      <td>True</td>\n",
       "    </tr>\n",
       "    <tr>\n",
       "      <th>1159325</th>\n",
       "      <td>True</td>\n",
       "      <td>False</td>\n",
       "      <td>True</td>\n",
       "    </tr>\n",
       "    <tr>\n",
       "      <th>1159870</th>\n",
       "      <td>True</td>\n",
       "      <td>False</td>\n",
       "      <td>True</td>\n",
       "    </tr>\n",
       "    <tr>\n",
       "      <th>1160049</th>\n",
       "      <td>False</td>\n",
       "      <td>True</td>\n",
       "      <td>True</td>\n",
       "    </tr>\n",
       "    <tr>\n",
       "      <th>1160227</th>\n",
       "      <td>True</td>\n",
       "      <td>True</td>\n",
       "      <td>False</td>\n",
       "    </tr>\n",
       "    <tr>\n",
       "      <th>1592094</th>\n",
       "      <td>True</td>\n",
       "      <td>False</td>\n",
       "      <td>False</td>\n",
       "    </tr>\n",
       "    <tr>\n",
       "      <th>1592137</th>\n",
       "      <td>True</td>\n",
       "      <td>False</td>\n",
       "      <td>True</td>\n",
       "    </tr>\n",
       "    <tr>\n",
       "      <th>1592568</th>\n",
       "      <td>True</td>\n",
       "      <td>True</td>\n",
       "      <td>False</td>\n",
       "    </tr>\n",
       "    <tr>\n",
       "      <th>1592836</th>\n",
       "      <td>True</td>\n",
       "      <td>True</td>\n",
       "      <td>False</td>\n",
       "    </tr>\n",
       "  </tbody>\n",
       "</table>\n",
       "</div>"
      ],
      "text/plain": [
       "                 Social Agreement  Face Agreement  Person Agreement\n",
       "Stimulus_Number                                                    \n",
       "285993                       True            True             False\n",
       "286001                       True           False              True\n",
       "1159325                      True           False              True\n",
       "1159870                      True           False              True\n",
       "1160049                     False            True              True\n",
       "1160227                      True            True             False\n",
       "1592094                      True           False             False\n",
       "1592137                      True           False              True\n",
       "1592568                      True            True             False\n",
       "1592836                      True            True             False"
      ]
     },
     "execution_count": 2,
     "metadata": {},
     "output_type": "execute_result"
    }
   ],
   "source": [
    "JT = pd.read_csv('JT-classification.csv', index_col='Stimulus_Number')\n",
    "SK = pd.read_csv('SK-classification.csv', index_col='Stimulus_Number')\n",
    "\n",
    "conflicts = JT.eq(SK)[~JT.eq(SK).all(axis=1)]\n",
    "conflicts = conflicts.rename(columns=lambda x: x.split('_')[0] + ' Agreement')\n",
    "\n",
    "conflicts"
   ]
  },
  {
   "cell_type": "code",
   "execution_count": 3,
   "id": "17184597",
   "metadata": {},
   "outputs": [
    {
     "data": {
      "text/plain": [
       "10"
      ]
     },
     "execution_count": 3,
     "metadata": {},
     "output_type": "execute_result"
    }
   ],
   "source": [
    "len(conflicts)"
   ]
  },
  {
   "cell_type": "code",
   "execution_count": 4,
   "id": "8a40ff75",
   "metadata": {},
   "outputs": [],
   "source": [
    "conflicts.to_csv('JT-SK-conflicts.csv')"
   ]
  },
  {
   "cell_type": "markdown",
   "id": "9a4ffcb0",
   "metadata": {},
   "source": [
    "### Inter-rater reliability"
   ]
  },
  {
   "cell_type": "code",
   "execution_count": 5,
   "id": "2f0e87e1",
   "metadata": {},
   "outputs": [
    {
     "name": "stdout",
     "output_type": "stream",
     "text": [
      "Social_NonSocial kappa = 0.97\n",
      "Face_NoFace kappa = 0.83\n",
      "Person_NoPerson kappa = 0.81\n"
     ]
    }
   ],
   "source": [
    "cats = JT.columns\n",
    "merged = pd.merge(JT, SK, on='Stimulus_Number', how='outer', suffixes=['_JT', '_SK'])\n",
    "\n",
    "for cat in cats:\n",
    "    kappa = sklearn.metrics.cohen_kappa_score(merged[f'{cat}_JT'], merged[f'{cat}_SK'])\n",
    "    print(f'{cat} kappa = {kappa:.2f}')"
   ]
  },
  {
   "cell_type": "markdown",
   "id": "2cac3cb5",
   "metadata": {},
   "source": [
    "## Behavioral data"
   ]
  },
  {
   "cell_type": "code",
   "execution_count": 6,
   "id": "58b13ffc",
   "metadata": {},
   "outputs": [],
   "source": [
    "# Image classification data, after SK and JT agreed on conflicts\n",
    "image_categories = pd.read_csv('consensus-classification.csv')"
   ]
  },
  {
   "cell_type": "code",
   "execution_count": 7,
   "id": "87d9d595",
   "metadata": {},
   "outputs": [],
   "source": [
    "# Data from the experiment.\n",
    "behavioral_data = pd.read_csv('behavioral_data.csv')"
   ]
  },
  {
   "cell_type": "code",
   "execution_count": 8,
   "id": "e9688a98",
   "metadata": {},
   "outputs": [],
   "source": [
    "# Function to extract image ID from stimulus label in behavioral data \n",
    "def extract_image_id(stimulus):\n",
    "    match = re.search(r'fps_60/(\\d+)\\.bmp', stimulus)\n",
    "    if match:\n",
    "        return int(match.group(1))\n",
    "    return None\n",
    "\n",
    "# Apply the function to create a new column with the extracted image IDs (makes the moviestim values match stimuli values in image_categories)\n",
    "behavioral_data['Stimulus_Number'] = behavioral_data['moviestim'].apply(extract_image_id)"
   ]
  },
  {
   "cell_type": "code",
   "execution_count": 9,
   "id": "4962a132",
   "metadata": {},
   "outputs": [],
   "source": [
    "# Add stimulus categories for face, person, and social onto dataframe.\n",
    "# Will match by stimulus number, so if the image_categories entry for 1234 \n",
    "# has NonSocial, NoFace, Person, then all behavioral_data rows with stimulus\n",
    "# 1234 will add those 3 values in their own columns.\n",
    "\n",
    "behavioral_data = behavioral_data.merge(image_categories, on='Stimulus_Number')"
   ]
  },
  {
   "cell_type": "code",
   "execution_count": 10,
   "id": "036af5fe",
   "metadata": {
    "scrolled": true
   },
   "outputs": [],
   "source": [
    "# add column Judgment: whether the subject *thinks* the stimulus is real or fake (regardless of actual value)\n",
    "def judgment_type(response_type):\n",
    "    if response_type in ['Hit', 'False Alarm']:\n",
    "        return 'Judged Real'\n",
    "    elif response_type in ['Miss', 'Correct Reject']:\n",
    "        return 'Judged Fake'\n",
    "    \n",
    "    return pd.NA\n",
    "\n",
    "\n",
    "behavioral_data['Judgment'] = behavioral_data.response_type.map(judgment_type)"
   ]
  },
  {
   "cell_type": "code",
   "execution_count": 11,
   "id": "1eaddbee",
   "metadata": {},
   "outputs": [
    {
     "data": {
      "text/plain": [
       "participant\n",
       "subject_4c     120\n",
       "sub_1          120\n",
       "subject_9      120\n",
       "subject_22     120\n",
       "subject_6      120\n",
       "subject_19     120\n",
       "subject_2      120\n",
       "subject_8      120\n",
       "subject_14     120\n",
       "subject_16c    120\n",
       "subject_12     120\n",
       "subject_11     120\n",
       "Subject_7      120\n",
       "subject_5      120\n",
       "subject_13     120\n",
       "subject_20b    120\n",
       "subject_10     120\n",
       "subject_15     120\n",
       "subject_18     120\n",
       "subject_3      120\n",
       "subject_23     120\n",
       "subject_21      60\n",
       "Name: count, dtype: int64"
      ]
     },
     "execution_count": 11,
     "metadata": {},
     "output_type": "execute_result"
    }
   ],
   "source": [
    "behavioral_data.participant.value_counts()"
   ]
  },
  {
   "cell_type": "markdown",
   "id": "1913bfab",
   "metadata": {},
   "source": [
    "## Judgments by category"
   ]
  },
  {
   "cell_type": "markdown",
   "id": "ba6fb7a8",
   "metadata": {},
   "source": [
    "### Crosstab data"
   ]
  },
  {
   "cell_type": "code",
   "execution_count": 12,
   "id": "9a5759da",
   "metadata": {},
   "outputs": [],
   "source": [
    "# Get contingency table breakdown of each judgment for each classing\n",
    "face_judgments   = pd.crosstab(behavioral_data.Judgment, behavioral_data.Face_NoFace)\n",
    "person_judgments = pd.crosstab(behavioral_data.Judgment, behavioral_data.Person_NoPerson)\n",
    "social_judgments = pd.crosstab(behavioral_data.Judgment, behavioral_data.Social_NonSocial)\n",
    "\n",
    "\n",
    "# Reorders the crosstab rows so that Judged Real comes first, then Judged Fake.\n",
    "# Does NOT just rename the indices by this list—that would swap the real and fake\n",
    "# data!\n",
    "face_judgments   = face_judgments.reindex(['Judged Real', 'Judged Fake'], columns=['Face', 'No Face'])\n",
    "person_judgments = person_judgments.reindex(['Judged Real', 'Judged Fake'], columns=['Person', 'No Person'])\n",
    "social_judgments = social_judgments.reindex(['Judged Real', 'Judged Fake'], columns=['Social', 'Non-Social'])"
   ]
  },
  {
   "cell_type": "markdown",
   "id": "17487ba2",
   "metadata": {},
   "source": [
    "### Statistical test"
   ]
  },
  {
   "cell_type": "code",
   "execution_count": 13,
   "id": "32c0dd9c",
   "metadata": {},
   "outputs": [
    {
     "name": "stdout",
     "output_type": "stream",
     "text": [
      "N = 2514\n"
     ]
    },
    {
     "data": {
      "text/html": [
       "<div>\n",
       "<style scoped>\n",
       "    .dataframe tbody tr th:only-of-type {\n",
       "        vertical-align: middle;\n",
       "    }\n",
       "\n",
       "    .dataframe tbody tr th {\n",
       "        vertical-align: top;\n",
       "    }\n",
       "\n",
       "    .dataframe thead th {\n",
       "        text-align: right;\n",
       "    }\n",
       "</style>\n",
       "<table border=\"1\" class=\"dataframe\">\n",
       "  <thead>\n",
       "    <tr style=\"text-align: right;\">\n",
       "      <th>Face_NoFace</th>\n",
       "      <th>Face</th>\n",
       "      <th>No Face</th>\n",
       "    </tr>\n",
       "    <tr>\n",
       "      <th>Judgment</th>\n",
       "      <th></th>\n",
       "      <th></th>\n",
       "    </tr>\n",
       "  </thead>\n",
       "  <tbody>\n",
       "    <tr>\n",
       "      <th>Judged Real</th>\n",
       "      <td>940</td>\n",
       "      <td>663</td>\n",
       "    </tr>\n",
       "    <tr>\n",
       "      <th>Judged Fake</th>\n",
       "      <td>486</td>\n",
       "      <td>425</td>\n",
       "    </tr>\n",
       "  </tbody>\n",
       "</table>\n",
       "</div>"
      ],
      "text/plain": [
       "Face_NoFace  Face  No Face\n",
       "Judgment                  \n",
       "Judged Real   940      663\n",
       "Judged Fake   486      425"
      ]
     },
     "execution_count": 13,
     "metadata": {},
     "output_type": "execute_result"
    }
   ],
   "source": [
    "print(f'N = {face_judgments.values.sum()}')\n",
    "face_judgments"
   ]
  },
  {
   "cell_type": "code",
   "execution_count": 14,
   "id": "c77dddb3",
   "metadata": {},
   "outputs": [
    {
     "name": "stdout",
     "output_type": "stream",
     "text": [
      "N = 2514\n"
     ]
    },
    {
     "data": {
      "text/html": [
       "<div>\n",
       "<style scoped>\n",
       "    .dataframe tbody tr th:only-of-type {\n",
       "        vertical-align: middle;\n",
       "    }\n",
       "\n",
       "    .dataframe tbody tr th {\n",
       "        vertical-align: top;\n",
       "    }\n",
       "\n",
       "    .dataframe thead th {\n",
       "        text-align: right;\n",
       "    }\n",
       "</style>\n",
       "<table border=\"1\" class=\"dataframe\">\n",
       "  <thead>\n",
       "    <tr style=\"text-align: right;\">\n",
       "      <th>Person_NoPerson</th>\n",
       "      <th>Person</th>\n",
       "      <th>No Person</th>\n",
       "    </tr>\n",
       "    <tr>\n",
       "      <th>Judgment</th>\n",
       "      <th></th>\n",
       "      <th></th>\n",
       "    </tr>\n",
       "  </thead>\n",
       "  <tbody>\n",
       "    <tr>\n",
       "      <th>Judged Real</th>\n",
       "      <td>1073</td>\n",
       "      <td>530</td>\n",
       "    </tr>\n",
       "    <tr>\n",
       "      <th>Judged Fake</th>\n",
       "      <td>598</td>\n",
       "      <td>313</td>\n",
       "    </tr>\n",
       "  </tbody>\n",
       "</table>\n",
       "</div>"
      ],
      "text/plain": [
       "Person_NoPerson  Person  No Person\n",
       "Judgment                          \n",
       "Judged Real        1073        530\n",
       "Judged Fake         598        313"
      ]
     },
     "execution_count": 14,
     "metadata": {},
     "output_type": "execute_result"
    }
   ],
   "source": [
    "print(f'N = {person_judgments.values.sum()}')\n",
    "person_judgments"
   ]
  },
  {
   "cell_type": "code",
   "execution_count": 15,
   "id": "a100e20c",
   "metadata": {},
   "outputs": [
    {
     "name": "stdout",
     "output_type": "stream",
     "text": [
      "N = 2514\n"
     ]
    },
    {
     "data": {
      "text/html": [
       "<div>\n",
       "<style scoped>\n",
       "    .dataframe tbody tr th:only-of-type {\n",
       "        vertical-align: middle;\n",
       "    }\n",
       "\n",
       "    .dataframe tbody tr th {\n",
       "        vertical-align: top;\n",
       "    }\n",
       "\n",
       "    .dataframe thead th {\n",
       "        text-align: right;\n",
       "    }\n",
       "</style>\n",
       "<table border=\"1\" class=\"dataframe\">\n",
       "  <thead>\n",
       "    <tr style=\"text-align: right;\">\n",
       "      <th>Social_NonSocial</th>\n",
       "      <th>Social</th>\n",
       "      <th>Non-Social</th>\n",
       "    </tr>\n",
       "    <tr>\n",
       "      <th>Judgment</th>\n",
       "      <th></th>\n",
       "      <th></th>\n",
       "    </tr>\n",
       "  </thead>\n",
       "  <tbody>\n",
       "    <tr>\n",
       "      <th>Judged Real</th>\n",
       "      <td>976</td>\n",
       "      <td>627</td>\n",
       "    </tr>\n",
       "    <tr>\n",
       "      <th>Judged Fake</th>\n",
       "      <td>528</td>\n",
       "      <td>383</td>\n",
       "    </tr>\n",
       "  </tbody>\n",
       "</table>\n",
       "</div>"
      ],
      "text/plain": [
       "Social_NonSocial  Social  Non-Social\n",
       "Judgment                            \n",
       "Judged Real          976         627\n",
       "Judged Fake          528         383"
      ]
     },
     "execution_count": 15,
     "metadata": {},
     "output_type": "execute_result"
    }
   ],
   "source": [
    "print(f'N = {social_judgments.values.sum()}')\n",
    "social_judgments"
   ]
  },
  {
   "cell_type": "markdown",
   "id": "023030f7",
   "metadata": {},
   "source": [
    "To determine if class status (eg. Face/No Face) affects judgment, we can run a chi-squared test. The null hypothesis is that class status and judgment are statistically independent. So if, say, 70% of all stimuli include faces, and 55% of all stimuli are judged real, the *expected* frequency of Face & Judged Real = `0.7 * 0.55 * N`, where `N` is the total number of *all* judgments made. We test to see how far the data departs from this expectation of independence."
   ]
  },
  {
   "cell_type": "code",
   "execution_count": 17,
   "id": "935522b0",
   "metadata": {},
   "outputs": [
    {
     "data": {
      "text/html": [
       "<div>\n",
       "<style scoped>\n",
       "    .dataframe tbody tr th:only-of-type {\n",
       "        vertical-align: middle;\n",
       "    }\n",
       "\n",
       "    .dataframe tbody tr th {\n",
       "        vertical-align: top;\n",
       "    }\n",
       "\n",
       "    .dataframe thead th {\n",
       "        text-align: right;\n",
       "    }\n",
       "</style>\n",
       "<table border=\"1\" class=\"dataframe\">\n",
       "  <thead>\n",
       "    <tr style=\"text-align: right;\">\n",
       "      <th></th>\n",
       "      <th>chi2</th>\n",
       "      <th>risk_ratio</th>\n",
       "      <th>dof</th>\n",
       "      <th>p</th>\n",
       "      <th>p &lt; 0.05</th>\n",
       "    </tr>\n",
       "  </thead>\n",
       "  <tbody>\n",
       "    <tr>\n",
       "      <th>Social_NonSocial</th>\n",
       "      <td>1.951352</td>\n",
       "      <td>1.045336</td>\n",
       "      <td>1</td>\n",
       "      <td>0.162441</td>\n",
       "      <td>False</td>\n",
       "    </tr>\n",
       "    <tr>\n",
       "      <th>Face_NoFace</th>\n",
       "      <td>6.413245</td>\n",
       "      <td>1.081742</td>\n",
       "      <td>1</td>\n",
       "      <td>0.011327</td>\n",
       "      <td>True</td>\n",
       "    </tr>\n",
       "    <tr>\n",
       "      <th>Person_NoPerson</th>\n",
       "      <td>0.3808</td>\n",
       "      <td>1.021351</td>\n",
       "      <td>1</td>\n",
       "      <td>0.537175</td>\n",
       "      <td>False</td>\n",
       "    </tr>\n",
       "  </tbody>\n",
       "</table>\n",
       "</div>"
      ],
      "text/plain": [
       "                      chi2 risk_ratio dof         p p < 0.05\n",
       "Social_NonSocial  1.951352   1.045336   1  0.162441    False\n",
       "Face_NoFace       6.413245   1.081742   1  0.011327     True\n",
       "Person_NoPerson     0.3808   1.021351   1  0.537175    False"
      ]
     },
     "execution_count": 17,
     "metadata": {},
     "output_type": "execute_result"
    }
   ],
   "source": [
    "categories = ['Social_NonSocial', 'Face_NoFace', 'Person_NoPerson']\n",
    "judgment_data = [social_judgments, face_judgments, person_judgments]\n",
    "cat_test_dict = {}\n",
    "\n",
    "for cat, cross in zip(categories, judgment_data):\n",
    "    chi2, p, dof, expected_distro = scipy.stats.chi2_contingency(cross)\n",
    "\n",
    "    exposed_cases = cross.iloc[0, 0]\n",
    "    exposed_total = cross.iloc[:, 0].sum()\n",
    "\n",
    "    control_cases = cross.iloc[0, 1]\n",
    "    control_total = cross.iloc[:, 1].sum()\n",
    "\n",
    "    risk_ratio = scipy.stats.contingency.relative_risk(exposed_cases, exposed_total, \n",
    "                                                       control_cases, control_total).relative_risk\n",
    "\n",
    "    # Check that there are at least 5 observations for each cell in the\n",
    "    # expected contingency table; otherwise the chi-squared test won't\n",
    "    # be a strong approximation.\n",
    "    # See https://methods.sagepub.com/book/nonparametric-statistics-for-health-care-research-2e/i462.xml\n",
    "    assert np.all(expected_distro >= 5)\n",
    "\n",
    "    cat_test_dict[cat] = {'chi2': chi2, 'risk_ratio': risk_ratio, 'dof': dof, 'p': p, 'p < 0.05': p < 0.05}\n",
    "\n",
    "category_test_results = pd.DataFrame(cat_test_dict).T\n",
    "category_test_results"
   ]
  },
  {
   "cell_type": "markdown",
   "id": "40f34179",
   "metadata": {},
   "source": [
    "### Plots"
   ]
  },
  {
   "cell_type": "code",
   "execution_count": 18,
   "id": "eea7853b",
   "metadata": {},
   "outputs": [],
   "source": [
    "# Plots a cross-tabulated dataframe.\n",
    "# Just a nice function to do the resetting, melting, & seaborn-ing for you.\n",
    "def plot_crosstab(df_crosstab, **plot_options):\n",
    "    df_reset = df_crosstab.reset_index()\n",
    "    id_col = df_reset.columns[0]\n",
    "\n",
    "    df_melt = df_reset.melt(id_vars=id_col, value_name='count')\n",
    "    cat_col = df_melt.columns[1]\n",
    "\n",
    "    sns.barplot(x=id_col, y='count', hue=cat_col, data=df_melt, **plot_options)"
   ]
  },
  {
   "cell_type": "code",
   "execution_count": 65,
   "id": "0ebf0709",
   "metadata": {},
   "outputs": [
    {
     "data": {
      "text/plain": [
       "Text(0, 0.5, 'Number of judgments')"
      ]
     },
     "execution_count": 65,
     "metadata": {},
     "output_type": "execute_result"
    },
    {
     "data": {
      "image/png": "[encoded data removed]",
      "text/plain": [
       "<Figure size 2000x600 with 3 Axes>"
      ]
     },
     "metadata": {},
     "output_type": "display_data"
    }
   ],
   "source": [
    "# Plot each side-by-side!\n",
    "sns.set(style=\"whitegrid\")\n",
    "fig, axes = plt.subplots(1, 3, figsize=(20, 6))\n",
    "\n",
    "plot_crosstab(face_judgments, ax=axes[0])\n",
    "axes[0].legend(title='Face classification')\n",
    "\n",
    "plot_crosstab(person_judgments, ax=axes[1],)\n",
    "axes[1].legend(title='Person classification')\n",
    "\n",
    "plot_crosstab(social_judgments, ax=axes[2])\n",
    "axes[2].legend(title='Social classification')\n",
    "\n",
    "\n",
    "for ax in axes:\n",
    "    ax.set_ylabel('')\n",
    "    ax.set_xlabel('')\n",
    "\n",
    "axes[0].set_ylabel('Number of judgments')"
   ]
  },
  {
   "cell_type": "markdown",
   "id": "a260847a",
   "metadata": {},
   "source": [
    "## Judgement-category interactions by subject"
   ]
  },
  {
   "cell_type": "markdown",
   "id": "a9e15e73",
   "metadata": {},
   "source": [
    "### Statistical test"
   ]
  },
  {
   "cell_type": "markdown",
   "id": "3d1f9189",
   "metadata": {},
   "source": [
    "**For significance testing**, to see if each category affects the judgment of *individual* subjects, we can run a chi-squared test for each individual's contingency table, as long as the test conditions are met. The chi-squared test is a two-tailed test, so the statistic itself doesn't report whether a stimulus category is, say, more likely to be judged fake. \n",
    "\n",
    "**For visualization & interpretation**, we'd like a number that says \"stimuli with faces are X times more likely to be judged real than stimuli without faces.\" In epidemiology, this is known as the *risk ratio*, and it is calculated by: $$RR = \\frac{P(\\text{Judged Real}\\, |\\,\\text{Face})}{P(\\text{Judged Real}\\,|\\,\\text{Non-Face})} = \\frac{\\text{Face \\& Judged Real}}{\\text{All Face}}\\div \\frac{\\text{Non-Face \\& Judged Real}}{\\text{All Non-Face}}$$\n",
    "\n",
    "So if subject 7 has a risk ratio of 2 for faces, it means subject 7 was twice as likely to rate a face stimulus as real, compared to a non-face stimulus. If subject 5 has a risk ratio of 1 for faces, it means they are equally likely to judge face and non-face stimuli as real. Risk ratios can range from (0, $\\infty$).\n",
    "\n",
    "\n",
    "Reference links: [scipy docs](https://docs.scipy.org/doc/scipy/reference/generated/scipy.stats.contingency.relative_risk.html), [Ranganathan et al. 2015](https://www.ncbi.nlm.nih.gov/pmc/articles/PMC4640017/), [George et al. 2020](https://www.ncbi.nlm.nih.gov/pmc/articles/PMC7515812/)"
   ]
  },
  {
   "cell_type": "code",
   "execution_count": 19,
   "id": "0d6d24d6",
   "metadata": {},
   "outputs": [
    {
     "data": {
      "text/html": [
       "<div>\n",
       "<style scoped>\n",
       "    .dataframe tbody tr th:only-of-type {\n",
       "        vertical-align: middle;\n",
       "    }\n",
       "\n",
       "    .dataframe tbody tr th {\n",
       "        vertical-align: top;\n",
       "    }\n",
       "\n",
       "    .dataframe thead th {\n",
       "        text-align: right;\n",
       "    }\n",
       "</style>\n",
       "<table border=\"1\" class=\"dataframe\">\n",
       "  <thead>\n",
       "    <tr style=\"text-align: right;\">\n",
       "      <th></th>\n",
       "      <th>subject</th>\n",
       "      <th>category</th>\n",
       "      <th>risk_ratio</th>\n",
       "      <th>chi2_pvalue</th>\n",
       "      <th>chi2_significant</th>\n",
       "    </tr>\n",
       "  </thead>\n",
       "  <tbody>\n",
       "    <tr>\n",
       "      <th>0</th>\n",
       "      <td>subject_4c</td>\n",
       "      <td>Social_NonSocial</td>\n",
       "      <td>1.282609</td>\n",
       "      <td>0.035658</td>\n",
       "      <td>True</td>\n",
       "    </tr>\n",
       "    <tr>\n",
       "      <th>1</th>\n",
       "      <td>subject_4c</td>\n",
       "      <td>Face_NoFace</td>\n",
       "      <td>1.262207</td>\n",
       "      <td>0.042949</td>\n",
       "      <td>True</td>\n",
       "    </tr>\n",
       "    <tr>\n",
       "      <th>2</th>\n",
       "      <td>subject_4c</td>\n",
       "      <td>Person_NoPerson</td>\n",
       "      <td>1.304604</td>\n",
       "      <td>0.037976</td>\n",
       "      <td>True</td>\n",
       "    </tr>\n",
       "    <tr>\n",
       "      <th>3</th>\n",
       "      <td>sub_1</td>\n",
       "      <td>Social_NonSocial</td>\n",
       "      <td>1.098701</td>\n",
       "      <td>0.763097</td>\n",
       "      <td>False</td>\n",
       "    </tr>\n",
       "    <tr>\n",
       "      <th>4</th>\n",
       "      <td>sub_1</td>\n",
       "      <td>Face_NoFace</td>\n",
       "      <td>1.057214</td>\n",
       "      <td>0.914771</td>\n",
       "      <td>False</td>\n",
       "    </tr>\n",
       "    <tr>\n",
       "      <th>...</th>\n",
       "      <td>...</td>\n",
       "      <td>...</td>\n",
       "      <td>...</td>\n",
       "      <td>...</td>\n",
       "      <td>...</td>\n",
       "    </tr>\n",
       "    <tr>\n",
       "      <th>61</th>\n",
       "      <td>subject_18</td>\n",
       "      <td>Face_NoFace</td>\n",
       "      <td>1.102076</td>\n",
       "      <td>0.558501</td>\n",
       "      <td>False</td>\n",
       "    </tr>\n",
       "    <tr>\n",
       "      <th>62</th>\n",
       "      <td>subject_18</td>\n",
       "      <td>Person_NoPerson</td>\n",
       "      <td>0.931034</td>\n",
       "      <td>0.726757</td>\n",
       "      <td>False</td>\n",
       "    </tr>\n",
       "    <tr>\n",
       "      <th>63</th>\n",
       "      <td>subject_23</td>\n",
       "      <td>Social_NonSocial</td>\n",
       "      <td>1.185722</td>\n",
       "      <td>0.328555</td>\n",
       "      <td>False</td>\n",
       "    </tr>\n",
       "    <tr>\n",
       "      <th>64</th>\n",
       "      <td>subject_23</td>\n",
       "      <td>Face_NoFace</td>\n",
       "      <td>1.289011</td>\n",
       "      <td>0.116337</td>\n",
       "      <td>False</td>\n",
       "    </tr>\n",
       "    <tr>\n",
       "      <th>65</th>\n",
       "      <td>subject_23</td>\n",
       "      <td>Person_NoPerson</td>\n",
       "      <td>1.123094</td>\n",
       "      <td>0.572708</td>\n",
       "      <td>False</td>\n",
       "    </tr>\n",
       "  </tbody>\n",
       "</table>\n",
       "<p>66 rows × 5 columns</p>\n",
       "</div>"
      ],
      "text/plain": [
       "       subject          category  risk_ratio  chi2_pvalue  chi2_significant\n",
       "0   subject_4c  Social_NonSocial    1.282609     0.035658              True\n",
       "1   subject_4c       Face_NoFace    1.262207     0.042949              True\n",
       "2   subject_4c   Person_NoPerson    1.304604     0.037976              True\n",
       "3        sub_1  Social_NonSocial    1.098701     0.763097             False\n",
       "4        sub_1       Face_NoFace    1.057214     0.914771             False\n",
       "..         ...               ...         ...          ...               ...\n",
       "61  subject_18       Face_NoFace    1.102076     0.558501             False\n",
       "62  subject_18   Person_NoPerson    0.931034     0.726757             False\n",
       "63  subject_23  Social_NonSocial    1.185722     0.328555             False\n",
       "64  subject_23       Face_NoFace    1.289011     0.116337             False\n",
       "65  subject_23   Person_NoPerson    1.123094     0.572708             False\n",
       "\n",
       "[66 rows x 5 columns]"
      ]
     },
     "execution_count": 19,
     "metadata": {},
     "output_type": "execute_result"
    }
   ],
   "source": [
    "rows = []\n",
    "for sub in behavioral_data.participant.unique():\n",
    "    for cat in categories:\n",
    "        sub_data = behavioral_data[behavioral_data.participant.eq(sub)]\n",
    "        sub_cross = pd.crosstab(sub_data.Judgment, sub_data[cat])\n",
    "        \n",
    "        # Significance test        \n",
    "        chi2_results = scipy.stats.chi2_contingency(sub_cross)\n",
    "        p_value = chi2_results.pvalue\n",
    "        \n",
    "        # Again, chi2 is not a good test unless expected frequency per category\n",
    "        # is large enough.\n",
    "        assert np.all(chi2_results.expected_freq >= 5)\n",
    "\n",
    "        # Risk ratio\n",
    "        exposure = cat.split('_')[0] # will be 'Social', 'Face', or 'Person'\n",
    "\n",
    "        exposed_judged_real = sub_cross.loc['Judged Real', exposure]\n",
    "        exposed_total = sub_cross.loc[:, exposure].sum()\n",
    "\n",
    "        control_judged_real = sub_cross.loc['Judged Real', sub_cross.columns != exposure].iloc[0]\n",
    "        control_total = sub_cross.loc[:, sub_cross.columns != exposure].sum().iloc[0]\n",
    "\n",
    "        risk_ratio = scipy.stats.contingency.relative_risk(exposed_cases=exposed_judged_real,\n",
    "                                                           exposed_total=exposed_total,\n",
    "                                                           control_cases=control_judged_real,\n",
    "                                                           control_total=control_total).relative_risk\n",
    "\n",
    "\n",
    "\n",
    "        rows.append({'subject': sub,\n",
    "                     'category': cat,\n",
    "                     'risk_ratio': risk_ratio,\n",
    "                     'chi2_pvalue': p_value,\n",
    "                     'chi2_significant': p_value < 0.05})\n",
    "\n",
    "subject_df = pd.DataFrame(rows)\n",
    "\n",
    "subject_df"
   ]
  },
  {
   "cell_type": "code",
   "execution_count": 18,
   "id": "4190d1dc",
   "metadata": {},
   "outputs": [
    {
     "data": {
      "text/plain": [
       "Text(0.5, 19.049999999999997, 'probability ratio')"
      ]
     },
     "execution_count": 18,
     "metadata": {},
     "output_type": "execute_result"
    },
    {
     "data": {
      "image/png": "[encoded data removed]",
      "text/plain": [
       "<Figure size 640x480 with 1 Axes>"
      ]
     },
     "metadata": {},
     "output_type": "display_data"
    }
   ],
   "source": [
    "ax = sns.violinplot(x='risk_ratio', \n",
    "                    y='category', \n",
    "                    data=subject_df, \n",
    "                    color='grey', \n",
    "                    alpha=0.5)\n",
    "\n",
    "sns.swarmplot(x='risk_ratio', \n",
    "              y='category', \n",
    "              data=subject_df,\n",
    "              hue='chi2_significant', \n",
    "              hue_order=[True, False], \n",
    "              palette=['red', 'black'],\n",
    "              ax=ax)\n",
    "\n",
    "ax.set_xlabel('probability ratio')"
   ]
  },
  {
   "cell_type": "markdown",
   "id": "22d30b68",
   "metadata": {},
   "source": [
    "## Response types by category"
   ]
  },
  {
   "cell_type": "markdown",
   "id": "2b98a45c",
   "metadata": {},
   "source": [
    "### Crosstab data\n"
   ]
  },
  {
   "cell_type": "code",
   "execution_count": 63,
   "id": "b224f3be",
   "metadata": {},
   "outputs": [],
   "source": [
    "# Get cross-tabulated data, this time for all responses\n",
    "face_responses   = pd.crosstab(behavioral_data['response_type'], behavioral_data['Face_NoFace'])\n",
    "person_responses = pd.crosstab(behavioral_data['response_type'], behavioral_data['Person_NoPerson'])\n",
    "social_responses = pd.crosstab(behavioral_data['response_type'], behavioral_data['Social_NonSocial'])"
   ]
  },
  {
   "cell_type": "markdown",
   "id": "b57441b3",
   "metadata": {},
   "source": [
    "### Plots"
   ]
  },
  {
   "cell_type": "code",
   "execution_count": 64,
   "id": "ac78e7d8",
   "metadata": {
    "scrolled": true
   },
   "outputs": [
    {
     "data": {
      "image/png": "[encoded data removed]",
      "text/plain": [
       "<Figure size 2000x600 with 3 Axes>"
      ]
     },
     "metadata": {},
     "output_type": "display_data"
    }
   ],
   "source": [
    "# Get cross-tabulated data, this time for all responses\n",
    "face_responses   = pd.crosstab(behavioral_data['response_type'], behavioral_data['Face_NoFace'])\n",
    "person_responses = pd.crosstab(behavioral_data['response_type'], behavioral_data['Person_NoPerson'])\n",
    "social_responses = pd.crosstab(behavioral_data['response_type'], behavioral_data['Social_NonSocial'])\n",
    "\n",
    "\n",
    "# Plot each side-by-side! TODO: prettify & include good labels\n",
    "sns.set(style=\"whitegrid\")\n",
    "fig, axes = plt.subplots(1, 3, figsize=(20, 6))\n",
    "\n",
    "plot_crosstab(face_responses,   ax=axes[0], hue_order=['Face', 'No Face'])\n",
    "plot_crosstab(person_responses, ax=axes[1], hue_order=['Person', 'No Person'])\n",
    "plot_crosstab(social_responses, ax=axes[2], hue_order=['Social', 'Non-Social'])"
   ]
  }
 ],
 "metadata": {
  "kernelspec": {
   "display_name": "Python 3 (ipykernel)",
   "language": "python",
   "name": "python3"
  },
  "language_info": {
   "codemirror_mode": {
    "name": "ipython",
    "version": 3
   },
   "file_extension": ".py",
   "mimetype": "text/x-python",
   "name": "python",
   "nbconvert_exporter": "python",
   "pygments_lexer": "ipython3",
   "version": "3.11.4"
  }
 },
 "nbformat": 4,
 "nbformat_minor": 5
}
