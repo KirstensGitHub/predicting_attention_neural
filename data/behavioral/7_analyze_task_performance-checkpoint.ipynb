{
 "cells": [
  {
   "cell_type": "markdown",
   "id": "3a9f4788",
   "metadata": {},
   "source": [
    "### Import packages"
   ]
  },
  {
   "cell_type": "code",
   "execution_count": 1,
   "id": "1b44f439",
   "metadata": {},
   "outputs": [],
   "source": [
    "# %pip install scipy\n",
    "\n",
    "import pandas as pd\n",
    "import os\n",
    "import numpy as np\n",
    "import seaborn as sb\n",
    "import scipy.stats as stats\n",
    "import scipy\n",
    "import ast\n",
    "import warnings\n",
    "import pylab\n",
    "import matplotlib.pyplot as plt\n",
    "import math\n",
    "warnings.filterwarnings('ignore')"
   ]
  },
  {
   "cell_type": "markdown",
   "id": "524d9410",
   "metadata": {},
   "source": [
    "### Load & Organize Data"
   ]
  },
  {
   "cell_type": "code",
   "execution_count": 2,
   "id": "8b93de92",
   "metadata": {},
   "outputs": [],
   "source": [
    "path      = '/Users/kirstenziman/Downloads/'\n",
    "\n",
    "#path      = '/Users/kirstenziman/Documents/Academics/research/new_MRI_behavioral_data/'\n",
    "#f_list    = os.listdir(path+'Subject_1')+os.listdir(path+'Subject_2')+os.listdir(path+'Subject_3')+os.listdir(path+'Subject_5')+os.listdir(path+'Subject_6')+os.listdir(path+'Subject_7')+os.listdir(path+'Subject_8')+os.listdir(path+'Subject_9')+os.listdir(path+'Subject_10')+os.listdir(path+'Subject_11')+os.listdir(path+'Subject_13')+os.listdir(path+'Subject_14')+os.listdir(path+'Subject_15')+os.listdir(path+'Subject_16c')+os.listdir(path+'Subject_17b')+os.listdir(path+'Subject_18')+os.listdir(path+'subject_19')+os.listdir(path+'Subject_20b')+os.listdir(path+'subject_21')+os.listdir(path+'subject_22')#+os.listdir(path+'subject 23')"
   ]
  },
  {
   "cell_type": "markdown",
   "id": "9b6ba08c",
   "metadata": {},
   "source": [
    "Select only files that are csv's, create list of df's"
   ]
  },
  {
   "cell_type": "code",
   "execution_count": 3,
   "id": "957ce74e",
   "metadata": {},
   "outputs": [],
   "source": [
    "#file_list = [x for x in f_list if 'csv' in x and 'REPEAT' not in x] #and '16c3' not in x]"
   ]
  },
  {
   "cell_type": "code",
   "execution_count": 4,
   "id": "4ea907bc",
   "metadata": {},
   "outputs": [],
   "source": [
    "# data_list = []\n",
    "\n",
    "# for x in file_list:\n",
    "    \n",
    "#     if '16c3' not in x:\n",
    "        \n",
    "#         data_list.append(pd.read_csv(path+'Subject_'+x.split('_')[1]+'/'+x))\n",
    "\n",
    "#     else:\n",
    "        \n",
    "#         data_list.append(pd.read_csv(path+'Subject_16c'+'/'+x))\n",
    "#         print('got it!')\n",
    "    \n",
    "# #data_list"
   ]
  },
  {
   "cell_type": "markdown",
   "id": "6d0f894a",
   "metadata": {},
   "source": [
    "### Function for labelling trials based on participant response"
   ]
  },
  {
   "cell_type": "code",
   "execution_count": 5,
   "id": "240c1e17",
   "metadata": {},
   "outputs": [],
   "source": [
    "# add colum where the value is the number of answers entered\n",
    "# second column the value is the number of unique answers entered"
   ]
  },
  {
   "cell_type": "code",
   "execution_count": 6,
   "id": "1185048b",
   "metadata": {},
   "outputs": [],
   "source": [
    "def add_type(data):\n",
    "    \n",
    "    # organiz?e scores\n",
    "    data['response_type'] = np.nan\n",
    "    data['response_value'] = np.nan\n",
    "    \n",
    "    data.loc[(data['key_resp_9.keys'].str.contains(',', na= False)), \n",
    "              'key_resp_9.keys'] = str('oo') + data['key_resp_9.keys'].str[2]\n",
    "    #for the ones with two responses, choose the first one\n",
    "    \n",
    "    data['response_value'] = data['key_resp_9.keys'].str[2]\n",
    "    # what was the response value\n",
    "\n",
    "    data.loc[(data['response_value'].str.contains('1'))\n",
    "            &(data['type'].str.contains('veridical')), 'response_type']='Hit'\n",
    "    # value 1 is for correct trials\n",
    "\n",
    "    data.loc[(data['response_value'].str.contains('1'))\n",
    "                &(data['type'].str.contains('scrambled')), 'response_type']='False Alarm'\n",
    "    # value 3 is for false alarms\n",
    "\n",
    "    data.loc[(data['response_value'].str.contains('2'))\n",
    "                &(data['type'].str.contains('veridical')), 'response_type']='Miss'\n",
    "    # value 0 is for misses \n",
    "\n",
    "    data.loc[(data['response_value'].str.contains('2'))\n",
    "                &(data['type'].str.contains('scrambled')), 'response_type']='Correct Reject'\n",
    "    # value 2 is for correct rejections \n",
    "    \n",
    "    data['unanswered'] = np.nan\n",
    "    data.loc[(data['key_resp_9.keys'].str.contains('None', na = False)), 'unanswered']= True\n",
    "    \n",
    "    #marking any where there is no response"
   ]
  },
  {
   "cell_type": "code",
   "execution_count": 7,
   "id": "97a5c69c",
   "metadata": {},
   "outputs": [],
   "source": [
    "# for x in data_list:\n",
    "    \n",
    "#     add_type(x)"
   ]
  },
  {
   "cell_type": "markdown",
   "id": "1173e524",
   "metadata": {},
   "source": [
    "Make dataframe, df"
   ]
  },
  {
   "cell_type": "code",
   "execution_count": 8,
   "id": "32852fd3",
   "metadata": {},
   "outputs": [],
   "source": [
    "# df = pd.concat(data_list) \n",
    "# gr = df.groupby(['participant','run'],as_index=False).count()"
   ]
  },
  {
   "cell_type": "code",
   "execution_count": 9,
   "id": "0c86d413",
   "metadata": {},
   "outputs": [],
   "source": [
    "#df.loc[df['participant']=='subject_16c3','participant'] = 'subject_16c'"
   ]
  },
  {
   "cell_type": "code",
   "execution_count": 10,
   "id": "e483816c",
   "metadata": {},
   "outputs": [
    {
     "ename": "NameError",
     "evalue": "name 'df' is not defined",
     "output_type": "error",
     "traceback": [
      "\u001b[0;31m---------------------------------------------------------------------------\u001b[0m",
      "\u001b[0;31mNameError\u001b[0m                                 Traceback (most recent call last)",
      "Cell \u001b[0;32mIn[10], line 1\u001b[0m\n\u001b[0;32m----> 1\u001b[0m l  \u001b[38;5;241m=\u001b[39m \u001b[38;5;28mlist\u001b[39m(df[\u001b[38;5;124m'\u001b[39m\u001b[38;5;124mmoviestim\u001b[39m\u001b[38;5;124m'\u001b[39m]\u001b[38;5;241m.\u001b[39munique()[\u001b[38;5;241m1\u001b[39m:])\n\u001b[1;32m      2\u001b[0m pp \u001b[38;5;241m=\u001b[39m [ x\u001b[38;5;241m.\u001b[39msplit(\u001b[38;5;124m'\u001b[39m\u001b[38;5;124m_\u001b[39m\u001b[38;5;124m'\u001b[39m)[\u001b[38;5;241m2\u001b[39m] \u001b[38;5;28;01mfor\u001b[39;00m x \u001b[38;5;129;01min\u001b[39;00m l \u001b[38;5;28;01mif\u001b[39;00m \u001b[38;5;124m'\u001b[39m\u001b[38;5;124mveridical\u001b[39m\u001b[38;5;124m'\u001b[39m \u001b[38;5;129;01min\u001b[39;00m x]\n\u001b[1;32m      4\u001b[0m \u001b[38;5;28mlen\u001b[39m(\u001b[38;5;28mset\u001b[39m(pp))\n",
      "\u001b[0;31mNameError\u001b[0m: name 'df' is not defined"
     ]
    }
   ],
   "source": [
    "l  = list(df['moviestim'].unique()[1:])\n",
    "pp = [ x.split('_')[2] for x in l if 'veridical' in x]\n",
    "\n",
    "len(set(pp))\n"
   ]
  },
  {
   "cell_type": "code",
   "execution_count": 11,
   "id": "5181fd1a",
   "metadata": {},
   "outputs": [
    {
     "ename": "NameError",
     "evalue": "name 'pp' is not defined",
     "output_type": "error",
     "traceback": [
      "\u001b[0;31m---------------------------------------------------------------------------\u001b[0m",
      "\u001b[0;31mNameError\u001b[0m                                 Traceback (most recent call last)",
      "Cell \u001b[0;32mIn[11], line 1\u001b[0m\n\u001b[0;32m----> 1\u001b[0m data \u001b[38;5;241m=\u001b[39m pp\n",
      "\u001b[0;31mNameError\u001b[0m: name 'pp' is not defined"
     ]
    }
   ],
   "source": [
    "data = pp\n",
    "\n",
    "# for element in set(data):  # Use a set to avoid counting duplicates multiple times\n",
    "#     count = data.count(element)\n",
    "#     print(f\"Element {element} appears {count} times.\")"
   ]
  },
  {
   "cell_type": "code",
   "execution_count": 12,
   "id": "3dc804d6",
   "metadata": {},
   "outputs": [
    {
     "ename": "NameError",
     "evalue": "name 'df' is not defined",
     "output_type": "error",
     "traceback": [
      "\u001b[0;31m---------------------------------------------------------------------------\u001b[0m",
      "\u001b[0;31mNameError\u001b[0m                                 Traceback (most recent call last)",
      "Cell \u001b[0;32mIn[12], line 1\u001b[0m\n\u001b[0;32m----> 1\u001b[0m df[\u001b[38;5;124m'\u001b[39m\u001b[38;5;124mparticipant\u001b[39m\u001b[38;5;124m'\u001b[39m]\n",
      "\u001b[0;31mNameError\u001b[0m: name 'df' is not defined"
     ]
    }
   ],
   "source": [
    "df['participant']"
   ]
  },
  {
   "cell_type": "code",
   "execution_count": 13,
   "id": "2beb2abe",
   "metadata": {},
   "outputs": [
    {
     "ename": "NameError",
     "evalue": "name 'df' is not defined",
     "output_type": "error",
     "traceback": [
      "\u001b[0;31m---------------------------------------------------------------------------\u001b[0m",
      "\u001b[0;31mNameError\u001b[0m                                 Traceback (most recent call last)",
      "Cell \u001b[0;32mIn[13], line 1\u001b[0m\n\u001b[0;32m----> 1\u001b[0m df[df[\u001b[38;5;124m'\u001b[39m\u001b[38;5;124mrun\u001b[39m\u001b[38;5;124m'\u001b[39m]\u001b[38;5;241m==\u001b[39m\u001b[38;5;241m3.0\u001b[39m][[\u001b[38;5;124m'\u001b[39m\u001b[38;5;124mrun\u001b[39m\u001b[38;5;124m'\u001b[39m,\u001b[38;5;124m'\u001b[39m\u001b[38;5;124mtrials.thisTrialN\u001b[39m\u001b[38;5;124m'\u001b[39m]]\u001b[38;5;241m.\u001b[39mhead(n\u001b[38;5;241m=\u001b[39m\u001b[38;5;241m3\u001b[39m)\n",
      "\u001b[0;31mNameError\u001b[0m: name 'df' is not defined"
     ]
    }
   ],
   "source": [
    "df[df['run']==3.0][['run','trials.thisTrialN']].head(n=3) #.columns"
   ]
  },
  {
   "cell_type": "code",
   "execution_count": 14,
   "id": "210671c1",
   "metadata": {},
   "outputs": [
    {
     "ename": "NameError",
     "evalue": "name 'df' is not defined",
     "output_type": "error",
     "traceback": [
      "\u001b[0;31m---------------------------------------------------------------------------\u001b[0m",
      "\u001b[0;31mNameError\u001b[0m                                 Traceback (most recent call last)",
      "Cell \u001b[0;32mIn[14], line 1\u001b[0m\n\u001b[0;32m----> 1\u001b[0m df[\u001b[38;5;124m'\u001b[39m\u001b[38;5;124mSTIM\u001b[39m\u001b[38;5;124m'\u001b[39m] \u001b[38;5;241m=\u001b[39m df[\u001b[38;5;124m'\u001b[39m\u001b[38;5;124mmoviestim\u001b[39m\u001b[38;5;124m'\u001b[39m]\u001b[38;5;241m.\u001b[39mstr\u001b[38;5;241m.\u001b[39msplit(\u001b[38;5;124m'\u001b[39m\u001b[38;5;124m_\u001b[39m\u001b[38;5;124m'\u001b[39m,expand\u001b[38;5;241m=\u001b[39m\u001b[38;5;28;01mTrue\u001b[39;00m)[\u001b[38;5;241m1\u001b[39m]\n\u001b[1;32m      3\u001b[0m totals \u001b[38;5;241m=\u001b[39m []\n\u001b[1;32m      4\u001b[0m good_df \u001b[38;5;241m=\u001b[39m {\u001b[38;5;124m'\u001b[39m\u001b[38;5;124mparticipant\u001b[39m\u001b[38;5;124m'\u001b[39m:[],\u001b[38;5;124m'\u001b[39m\u001b[38;5;124mrun\u001b[39m\u001b[38;5;124m'\u001b[39m:[],\u001b[38;5;124m'\u001b[39m\u001b[38;5;124mtrial\u001b[39m\u001b[38;5;124m'\u001b[39m:[],\u001b[38;5;124m'\u001b[39m\u001b[38;5;124mstim\u001b[39m\u001b[38;5;124m'\u001b[39m:[],\u001b[38;5;124m'\u001b[39m\u001b[38;5;124mresponse_type\u001b[39m\u001b[38;5;124m'\u001b[39m:[]}\n",
      "\u001b[0;31mNameError\u001b[0m: name 'df' is not defined"
     ]
    }
   ],
   "source": [
    "df['STIM'] = df['moviestim'].str.split('_',expand=True)[1]\n",
    "\n",
    "totals = []\n",
    "good_df = {'participant':[],'run':[],'trial':[],'stim':[],'response_type':[]}\n",
    "\n",
    "for p in df['participant'].unique():\n",
    "    \n",
    "    # print(p)\n",
    "    good_pair = 0\n",
    "    \n",
    "    for s in df['STIM'].unique():\n",
    "        \n",
    "        dat = df[(df['participant']==p)&(df['STIM']==s)]\n",
    "        li  = list(dat['response_type'])\n",
    "        \n",
    "        if 'Correct Reject' in li:\n",
    "            if 'Hit' in li:\n",
    "                good_pair+=1\n",
    "                \n",
    "                good_df['participant'].append(p)\n",
    "                good_df['participant'].append(p)\n",
    "                good_df['run'].append(list(dat['run'].unique())[0])\n",
    "                good_df['run'].append(list(dat['run'].unique())[0])\n",
    "                good_df['trial'].append(list(dat['trials.thisTrialN'])[0])\n",
    "                good_df['trial'].append(list(dat['trials.thisTrialN'])[1])\n",
    "                good_df['stim'].append(s)\n",
    "                good_df['stim'].append(s)\n",
    "                good_df['response_type'].append(li[0])\n",
    "                good_df['response_type'].append(li[1])\n",
    "                \n",
    "        \n",
    "                \n",
    "    # print(good_pair);print()      \n",
    "    totals.append(good_pair)"
   ]
  },
  {
   "cell_type": "code",
   "execution_count": 15,
   "id": "3d688f22",
   "metadata": {},
   "outputs": [
    {
     "ename": "NameError",
     "evalue": "name 'good_df' is not defined",
     "output_type": "error",
     "traceback": [
      "\u001b[0;31m---------------------------------------------------------------------------\u001b[0m",
      "\u001b[0;31mNameError\u001b[0m                                 Traceback (most recent call last)",
      "Cell \u001b[0;32mIn[15], line 1\u001b[0m\n\u001b[0;32m----> 1\u001b[0m dataframe \u001b[38;5;241m=\u001b[39m pd\u001b[38;5;241m.\u001b[39mDataFrame(good_df)\n\u001b[1;32m      2\u001b[0m dataframe\u001b[38;5;241m.\u001b[39mgroupby([\u001b[38;5;124m'\u001b[39m\u001b[38;5;124mparticipant\u001b[39m\u001b[38;5;124m'\u001b[39m,\u001b[38;5;124m'\u001b[39m\u001b[38;5;124mrun\u001b[39m\u001b[38;5;124m'\u001b[39m],as_index\u001b[38;5;241m=\u001b[39m\u001b[38;5;28;01mFalse\u001b[39;00m)\u001b[38;5;241m.\u001b[39mcount()\n\u001b[1;32m      4\u001b[0m dataframe\n",
      "\u001b[0;31mNameError\u001b[0m: name 'good_df' is not defined"
     ]
    }
   ],
   "source": [
    "dataframe = pd.DataFrame(good_df)\n",
    "dataframe.groupby(['participant','run'],as_index=False).count()\n",
    "\n",
    "dataframe\n",
    "\n",
    "# for p in dataframe['participant'].unique():\n",
    "#     print(p)\n",
    "#     print(dataframe[dataframe['participant']==p].shape[0]/2)\n",
    "#     print(list(dataframe[dataframe['participant']==p]['run'].unique()))\n",
    "#     print()"
   ]
  },
  {
   "cell_type": "code",
   "execution_count": null,
   "id": "6b0569f8",
   "metadata": {},
   "outputs": [],
   "source": [
    "dataframe"
   ]
  },
  {
   "cell_type": "code",
   "execution_count": null,
   "id": "3050a413",
   "metadata": {},
   "outputs": [],
   "source": [
    "totals"
   ]
  },
  {
   "cell_type": "code",
   "execution_count": null,
   "id": "668f135a",
   "metadata": {},
   "outputs": [],
   "source": [
    "p = df.groupby(['participant','response_type'],as_index=False).count()\n",
    "percent_correct = {'percent_correct':[], 'subject':[]}\n",
    "\n",
    "for participant in p['participant'].unique():\n",
    "    p['percent'] = p['run'] / p[p['participant']==participant]['run'].sum()\n",
    "    \n",
    "    a = p[(p['participant']==participant) & (p['response_type']=='Correct Reject')]['percent'].item()\n",
    "    b = p[(p['participant']==participant) & (p['response_type']=='Hit')]['percent'].item()\n",
    "    per_cor = a + b\n",
    "    \n",
    "    percent_correct['percent_correct'].append(per_cor)\n",
    "    percent_correct['subject'].append(participant)\n"
   ]
  },
  {
   "cell_type": "code",
   "execution_count": null,
   "id": "10d00e57",
   "metadata": {},
   "outputs": [],
   "source": [
    "pd.DataFrame(percent_correct)"
   ]
  },
  {
   "cell_type": "markdown",
   "id": "de2e8ecb",
   "metadata": {},
   "source": [
    "### Percent correct by stimuli\n",
    "\n",
    "Make max_stims df which groups by moviestims and response_type"
   ]
  },
  {
   "cell_type": "code",
   "execution_count": 16,
   "id": "535aa3fc",
   "metadata": {},
   "outputs": [
    {
     "ename": "NameError",
     "evalue": "name 'df' is not defined",
     "output_type": "error",
     "traceback": [
      "\u001b[0;31m---------------------------------------------------------------------------\u001b[0m",
      "\u001b[0;31mNameError\u001b[0m                                 Traceback (most recent call last)",
      "Cell \u001b[0;32mIn[16], line 1\u001b[0m\n\u001b[0;32m----> 1\u001b[0m max_stims \u001b[38;5;241m=\u001b[39m df\u001b[38;5;241m.\u001b[39mgroupby([\u001b[38;5;124m'\u001b[39m\u001b[38;5;124mmoviestim\u001b[39m\u001b[38;5;124m'\u001b[39m,\u001b[38;5;124m'\u001b[39m\u001b[38;5;124mresponse_type\u001b[39m\u001b[38;5;124m'\u001b[39m],as_index\u001b[38;5;241m=\u001b[39m\u001b[38;5;28;01mFalse\u001b[39;00m)\u001b[38;5;241m.\u001b[39mcount()\n\u001b[1;32m      2\u001b[0m max_stims\u001b[38;5;241m.\u001b[39mhead(n\u001b[38;5;241m=\u001b[39m\u001b[38;5;241m4\u001b[39m)\n",
      "\u001b[0;31mNameError\u001b[0m: name 'df' is not defined"
     ]
    }
   ],
   "source": [
    "max_stims = df.groupby(['moviestim','response_type'],as_index=False).count()\n",
    "max_stims.head(n=4)"
   ]
  },
  {
   "cell_type": "code",
   "execution_count": 17,
   "id": "49f771a5",
   "metadata": {},
   "outputs": [
    {
     "ename": "NameError",
     "evalue": "name 'max_stims' is not defined",
     "output_type": "error",
     "traceback": [
      "\u001b[0;31m---------------------------------------------------------------------------\u001b[0m",
      "\u001b[0;31mNameError\u001b[0m                                 Traceback (most recent call last)",
      "Cell \u001b[0;32mIn[17], line 1\u001b[0m\n\u001b[0;32m----> 1\u001b[0m max_stims[\u001b[38;5;124m'\u001b[39m\u001b[38;5;124mpercent\u001b[39m\u001b[38;5;124m'\u001b[39m] \u001b[38;5;241m=\u001b[39m max_stims[\u001b[38;5;124m'\u001b[39m\u001b[38;5;124mrun\u001b[39m\u001b[38;5;124m'\u001b[39m] \u001b[38;5;241m/\u001b[39m \u001b[38;5;28mlen\u001b[39m(df[\u001b[38;5;124m'\u001b[39m\u001b[38;5;124mparticipant\u001b[39m\u001b[38;5;124m'\u001b[39m]\u001b[38;5;241m.\u001b[39munique())\n",
      "\u001b[0;31mNameError\u001b[0m: name 'max_stims' is not defined"
     ]
    }
   ],
   "source": [
    "max_stims['percent'] = max_stims['run'] / len(df['participant'].unique())"
   ]
  },
  {
   "cell_type": "code",
   "execution_count": null,
   "id": "7caa93a6",
   "metadata": {
    "scrolled": false
   },
   "outputs": [],
   "source": [
    "max_stims[['participant','response_type','moviestim']].head(n=4)"
   ]
  },
  {
   "cell_type": "code",
   "execution_count": null,
   "id": "cadf024c",
   "metadata": {},
   "outputs": [],
   "source": [
    "from scipy.stats import binom\n",
    "\n",
    "sb.barplot(y='percent',x='moviestim',data=max_stims[max_stims['response_type']=='Hit'])\n",
    "plt.axhline(y=0.75, color='grey', linestyle='--')\n",
    "\n",
    "for x in list(max_stims[max_stims['response_type']=='Hit']['run']):\n",
    "    p_value = binom.cdf(19, 19, .5)\n",
    "    #print(p_value<.05)\n",
    "\n",
    "#[max_stims['percent'].5])"
   ]
  },
  {
   "cell_type": "code",
   "execution_count": null,
   "id": "7ec937e7",
   "metadata": {},
   "outputs": [],
   "source": [
    "hit_list = list(max_stims[max_stims['response_type']=='Hit']['moviestim'])\n",
    "max_stims[max_stims['moviestim'].isin(hit_list)].head(n=5)"
   ]
  },
  {
   "cell_type": "code",
   "execution_count": null,
   "id": "7fdedf08",
   "metadata": {
    "scrolled": false
   },
   "outputs": [],
   "source": [
    "sb.barplot(y='percent',x='moviestim',data=max_stims[max_stims['response_type']=='Correct Reject'])\n",
    "plt.axhline(y=0.5, color='grey', linestyle='--')"
   ]
  },
  {
   "cell_type": "markdown",
   "id": "6d329a1f",
   "metadata": {},
   "source": [
    "### Combine Hits and Correct Rejections \n",
    "\n",
    "Find the stimuli for which participants generally do the best (Hits and False Alarms combined)"
   ]
  },
  {
   "cell_type": "code",
   "execution_count": null,
   "id": "c94d3449",
   "metadata": {},
   "outputs": [],
   "source": [
    "# from scipy.stats import binom\n",
    "\n",
    "# sb.barplot(y='percent',x='moviestim',data=max_stims[max_stims['response_type']=='Hit'])\n",
    "# plt.axhline(y=0.75, color='grey', linestyle='--')\n",
    "\n",
    "# for x in list(max_stims[max_stims['response_type']=='Hit']['run']):\n",
    "#     p_value = binom.cdf(19, 19, .5)"
   ]
  },
  {
   "cell_type": "code",
   "execution_count": null,
   "id": "5a034604",
   "metadata": {},
   "outputs": [],
   "source": [
    "max_stims.head(n=3)"
   ]
  },
  {
   "cell_type": "code",
   "execution_count": null,
   "id": "592f1696",
   "metadata": {},
   "outputs": [],
   "source": [
    "movie_base  = list( max_stims['moviestim'] )\n",
    "movie_base  = [x[7:] for x in movie_base if 'veridical' in x]\n",
    "movie_base = list(set(movie_base))\n",
    "movie_base = [x[:17] for x in movie_base]\n",
    "# movies_base has the base for each stimulus pair\n",
    "\n",
    "sum_scores = []\n",
    "\n",
    "for base in movie_base:\n",
    "    \n",
    "    data  = max_stims[(max_stims['moviestim'].str.contains(base))\n",
    "                     &(max_stims['response_type'].isin(['Correct Reject','Hit']))]\n",
    "    \n",
    "    sum_scores.append(data['run'].sum())\n",
    "    \n",
    "score_df = pd.DataFrame.from_dict({\n",
    "    'base'  : movie_base,\n",
    "    'score' : sum_scores \n",
    "})    "
   ]
  },
  {
   "cell_type": "code",
   "execution_count": null,
   "id": "40aafeec",
   "metadata": {},
   "outputs": [],
   "source": [
    "score_sort = score_df.sort_values('score')\n",
    "\n",
    "sb.barplot(x='base',y='score',data=score_sort)\n",
    "plt.ylim(0,40)\n",
    "\n",
    "plt.axhline(y=20, color='grey', linestyle='--')\n",
    "plt.axvline(x=30, color='grey', linestyle='--')"
   ]
  },
  {
   "cell_type": "code",
   "execution_count": null,
   "id": "289352eb",
   "metadata": {},
   "outputs": [],
   "source": [
    "top_images    = list(score_sort.iloc[30:]['base'])\n",
    "\n",
    "bottom_images = list(score_sort.iloc[:30]['base'])\n",
    "\n",
    "dat_list = []\n",
    "\n",
    "for base in top_images:\n",
    "    \n",
    "    data  = max_stims[(max_stims['moviestim'].str.contains(base))\n",
    "                     &(max_stims['response_type'].isin(['Correct Reject','Hit']))]\n",
    "    \n",
    "    dat_list.append(data)\n",
    "    \n",
    "dat_df = pd.concat(dat_list)   \n",
    "#dat_df"
   ]
  },
  {
   "cell_type": "code",
   "execution_count": null,
   "id": "e0d1bf9e",
   "metadata": {},
   "outputs": [],
   "source": [
    "top_images    = list(score_sort[30:]['base'])\n",
    "\n",
    "bottom_images = list(score_sort[:30]['base'])\n",
    "\n",
    "dat_list_2 = []\n",
    "\n",
    "for base in bottom_images:\n",
    "    \n",
    "    data  = max_stims[(max_stims['moviestim'].str.contains(base))\n",
    "                     &(max_stims['response_type'].isin(['Correct Reject','Hit']))]\n",
    "    \n",
    "    dat_list_2.append(data)\n",
    "    \n",
    "dat_df_2 = pd.concat(dat_list_2)   "
   ]
  },
  {
   "cell_type": "code",
   "execution_count": null,
   "id": "c659aff0",
   "metadata": {},
   "outputs": [],
   "source": [
    "sb.barplot(y='percent',x='moviestim',data=dat_df[(dat_df['response_type']=='Correct Reject')])\n",
    "plt.axhline(y=0.5, color='grey', linestyle='--')\n",
    "plt.show()\n",
    "\n",
    "sb.barplot(y='percent',x='moviestim',data=dat_df_2[(dat_df_2['response_type']=='Correct Reject')])\n",
    "plt.axhline(y=0.5, color='grey', linestyle='--')"
   ]
  },
  {
   "cell_type": "code",
   "execution_count": null,
   "id": "62fa53ed",
   "metadata": {},
   "outputs": [],
   "source": [
    "sb.barplot(y='percent',x='moviestim',data=dat_df[(dat_df['response_type']=='Hit')])\n",
    "plt.axhline(y=0.5, color='grey', linestyle='--')\n",
    "plt.show()\n",
    "\n",
    "sb.barplot(y='percent',x='moviestim',data=dat_df_2[(dat_df_2['response_type']=='Hit')])\n",
    "plt.axhline(y=0.5, color='grey', linestyle='--')"
   ]
  },
  {
   "cell_type": "code",
   "execution_count": null,
   "id": "ff08362e",
   "metadata": {},
   "outputs": [],
   "source": [
    "score_sort[30:].to_csv('top_stimuli.csv')"
   ]
  },
  {
   "cell_type": "markdown",
   "id": "0e59ada3",
   "metadata": {},
   "source": [
    "### Which stimmies to include in timing files..."
   ]
  },
  {
   "cell_type": "code",
   "execution_count": null,
   "id": "df11bb6e",
   "metadata": {},
   "outputs": [],
   "source": [
    "df['run'].unique()"
   ]
  },
  {
   "cell_type": "code",
   "execution_count": null,
   "id": "aed29570",
   "metadata": {},
   "outputs": [],
   "source": [
    "movie_list  = list(df[~df['moviestim'].isna()]['moviestim'])\n",
    "movie_stims = []\n",
    "\n",
    "for m in movie_list:\n",
    "    for x in top_images:\n",
    "        if x in m:\n",
    "            movie_stims.append(m)\n",
    "            \n",
    "len(set(movie_stims))\n",
    "\n",
    "movie_stims = set(movie_stims)"
   ]
  },
  {
   "cell_type": "code",
   "execution_count": null,
   "id": "32005504",
   "metadata": {},
   "outputs": [],
   "source": [
    "# movie_stims"
   ]
  },
  {
   "cell_type": "code",
   "execution_count": null,
   "id": "e10deec1",
   "metadata": {},
   "outputs": [],
   "source": [
    "# get the indices of good stimmies for each run\n",
    "\n",
    "# df with top movies only\n",
    "top_movie_df = df[df['moviestim'].isin(movie_stims)]\n",
    "\n",
    "# indices for each run\n",
    "for run in [1,2,3,4,5,6]:\n",
    "    print('Run: '+str(run))\n",
    "    print([x-1 for x in set(list(top_movie_df[top_movie_df['run']==run].index))])\n",
    "    print()\n",
    "\n",
    "# maybe also for veridical and scrambled, separately?"
   ]
  },
  {
   "cell_type": "code",
   "execution_count": null,
   "id": "d7cfc304",
   "metadata": {},
   "outputs": [],
   "source": []
  },
  {
   "cell_type": "code",
   "execution_count": null,
   "id": "c8e88d7f",
   "metadata": {},
   "outputs": [],
   "source": []
  },
  {
   "cell_type": "code",
   "execution_count": null,
   "id": "4bf7f1b8",
   "metadata": {},
   "outputs": [],
   "source": [
    "set(list(top_movie_df[top_movie_df['run']==6].index))"
   ]
  },
  {
   "cell_type": "code",
   "execution_count": null,
   "id": "c4a6bd1e",
   "metadata": {},
   "outputs": [],
   "source": []
  },
  {
   "cell_type": "code",
   "execution_count": null,
   "id": "82a2ec0f",
   "metadata": {},
   "outputs": [],
   "source": [
    "top_movie_df"
   ]
  },
  {
   "cell_type": "code",
   "execution_count": null,
   "id": "f5bd5b93",
   "metadata": {},
   "outputs": [],
   "source": []
  },
  {
   "cell_type": "code",
   "execution_count": null,
   "id": "df8a5664",
   "metadata": {},
   "outputs": [],
   "source": []
  },
  {
   "cell_type": "markdown",
   "id": "41c2fa5e",
   "metadata": {},
   "source": [
    "### Other plots"
   ]
  },
  {
   "cell_type": "code",
   "execution_count": null,
   "id": "261fd9b0",
   "metadata": {},
   "outputs": [],
   "source": [
    "from scipy.stats import binom\n",
    "\n",
    "sb.barplot(y='percent',x='moviestim',data=max_stims[max_stims['response_type'].isin(['Hit','Correct Reject'])], color='grey')\n",
    "plt.axhline(y=0.5, color='blue', linestyle='--')\n",
    "pylab.text(-11, .47, '50', fontsize = 22, color = 'blue') #, rotation=90)\n",
    "\n",
    "plt.ylabel('Percent correct')\n",
    "plt.yticks([0,1],labels=['0','100'])\n",
    "plt.xlabel('Video stimuli')\n",
    "plt.xticks([])\n",
    "\n",
    "\n",
    "for x in list(max_stims[max_stims['response_type']=='Hit']['run']):\n",
    "    p_value = binom.cdf(19, 19, .5)"
   ]
  },
  {
   "cell_type": "code",
   "execution_count": null,
   "id": "2ebe9559",
   "metadata": {},
   "outputs": [],
   "source": [
    "max_stims[(max_stims['response_type'].isin(['Correct Reject', 'Hit']))\n",
    "         &(max_stims['run']>=14)]\n",
    "\n",
    "max_stims[(max_stims['percent']>=.75)\n",
    "         &(max_stims['response_type'].isin(['Correct Reject', 'Hit']))]\n",
    "\n",
    "good_hit = max_stims[(max_stims['percent']>=.70)\n",
    "         &(max_stims['response_type'].isin(['Hit']))]\n",
    "\n",
    "good_stim = list(good_hit['moviestim'])\n",
    "good_stim = [ x[7:] for x in good_stim ]"
   ]
  },
  {
   "cell_type": "code",
   "execution_count": null,
   "id": "84d18e93",
   "metadata": {},
   "outputs": [],
   "source": [
    "max_stims[(max_stims['response_type'].isin(['Correct Reject']))\n",
    "         &(max_stims['run']>=13)]"
   ]
  },
  {
   "cell_type": "code",
   "execution_count": null,
   "id": "be5e2f9a",
   "metadata": {},
   "outputs": [],
   "source": [
    "chk = df.groupby(['participant','run'],as_index=False).sum()\n",
    "chk[chk['participant']=='subject_16c']"
   ]
  },
  {
   "cell_type": "markdown",
   "id": "ec3879f4",
   "metadata": {},
   "source": [
    "### Analyze"
   ]
  },
  {
   "cell_type": "markdown",
   "id": "4fc5eabb",
   "metadata": {},
   "source": [
    "Note that we can do the same thing you did in your for loop (which you did very carefully and very well, by the way :)) but in just one line, using the power of Pandas !"
   ]
  },
  {
   "cell_type": "code",
   "execution_count": null,
   "id": "242a4960",
   "metadata": {},
   "outputs": [],
   "source": [
    "# see how many hits, false alarms, etc each subject has\n",
    "grouped_df = df.groupby(['participant','response_type'],as_index=False).count()\n",
    "grouped_df\n",
    "\n",
    "sums = grouped_df.groupby('participant',as_index=False).sum()"
   ]
  },
  {
   "cell_type": "code",
   "execution_count": null,
   "id": "8b075136",
   "metadata": {},
   "outputs": [],
   "source": [
    "nan_list = []\n",
    "\n",
    "for a in list(df[df['participant']=='subject_21']['response_value']):\n",
    "    if a not in ['1','2']:\n",
    "        nan_list.append(a)\n",
    "        \n",
    "len(nan_list)"
   ]
  },
  {
   "cell_type": "code",
   "execution_count": null,
   "id": "71122ca1",
   "metadata": {},
   "outputs": [],
   "source": [
    "len([a for a in list(df[df['participant']=='subject_21']['response_value']) if a in ['1', '2']])"
   ]
  },
  {
   "cell_type": "code",
   "execution_count": null,
   "id": "e00e55e9",
   "metadata": {},
   "outputs": [],
   "source": [
    "df[(df['participant']=='subject_21')&~(df['run'].isna())]"
   ]
  },
  {
   "cell_type": "code",
   "execution_count": null,
   "id": "5cf8bc79",
   "metadata": {},
   "outputs": [],
   "source": [
    "sums"
   ]
  },
  {
   "cell_type": "markdown",
   "id": "fdcd2ba9",
   "metadata": {},
   "source": [
    "### total d-prime"
   ]
  },
  {
   "cell_type": "code",
   "execution_count": null,
   "id": "c264aaa5",
   "metadata": {
    "scrolled": false
   },
   "outputs": [],
   "source": [
    "df_z_scaled = grouped_df.copy()\n",
    "df_z_scaled['prop']   = np.nan#df_z_scaled['run'] / 120\n",
    "df_z_scaled['dprime'] = np.nan\n",
    "\n",
    "# for participant,total in zip(['sub_1','subject_2'],list(sums['run'])):\n",
    "\n",
    "for participant,total in zip(df_z_scaled['participant'].unique(),list(sums['run'])):\n",
    "    #print(participant)\n",
    "    #print()\n",
    "    df_z_scaled.loc[df_z_scaled['participant']==participant,'run'] = df_z_scaled[df_z_scaled['participant']==participant]['run']/total \n",
    "    \n",
    "    a = scipy.stats.norm.ppf(df_z_scaled[(df_z_scaled['participant']==participant)&(df_z_scaled['response_type']=='Hit')]['run'].item()) \n",
    "    #print(a)\n",
    "    \n",
    "    b = scipy.stats.norm.ppf(df_z_scaled[(df_z_scaled['participant']==participant)&(df_z_scaled['response_type']=='False Alarm')]['run'].item())\n",
    "    #print(b)   \n",
    "    \n",
    "    sub = a-b\n",
    "    \n",
    "    print(participant)\n",
    "    print(sub);print()\n",
    "    \n",
    "    #print(sub); print()\n",
    "    \n",
    "    df_z_scaled.loc[df_z_scaled['participant']==participant,'dprime'] = a - b\n",
    "    \n",
    "#     df_z_scaled.loc[df_z_scaled['participant']==participant,'dprime'] = scipy.stats.norm.ppf(df_z_scaled[(df_z_scaled['participant']==participant)\n",
    "#                                                                                    &(df_z_scaled['response_type']=='Hit')]['run'].item()) - scipy.stats.norm.ppf(df_z_scaled[(df_z_scaled['participant']==participant)\n",
    "#                                                                                                                                &(df_z_scaled['response_type']=='False Alarm')]['run'].item())\n",
    "    \n",
    "df_z_scaled['dprime'].unique()"
   ]
  },
  {
   "cell_type": "code",
   "execution_count": null,
   "id": "1b6caca9",
   "metadata": {},
   "outputs": [],
   "source": [
    "prime_df = df_z_scaled.groupby(['participant','dprime'],as_index=False).count()[['participant','dprime']]\n",
    "prime_df.to_csv('prime_df.csv')\n"
   ]
  },
  {
   "cell_type": "code",
   "execution_count": null,
   "id": "c8c2ce7b",
   "metadata": {},
   "outputs": [],
   "source": [
    "scipy.stats.norm.ppf(df_z_scaled[(df_z_scaled['participant']==participant)&(df_z_scaled['response_type']=='Hit')]['run'].item())"
   ]
  },
  {
   "cell_type": "code",
   "execution_count": null,
   "id": "d5c4ffaa",
   "metadata": {},
   "outputs": [],
   "source": [
    "prime_df"
   ]
  },
  {
   "cell_type": "markdown",
   "id": "8f68e1ec",
   "metadata": {},
   "source": [
    "### d prime by block #"
   ]
  },
  {
   "cell_type": "code",
   "execution_count": null,
   "id": "27cea277",
   "metadata": {
    "scrolled": false
   },
   "outputs": [],
   "source": [
    "df['run_prime'] = np.nan\n",
    "\n",
    "# for each participant\n",
    "for participant in df[~df['participant'].isna()]['participant'].unique():\n",
    "    \n",
    "    if participant == np.nan:\n",
    "        print('nan caught!')\n",
    "        \n",
    "        df.loc[(df['participant']==participant),'run_prime'] = np.nan\n",
    "    \n",
    "    elif participant != np.nan:\n",
    "\n",
    "        # for each experiment run (1-6)\n",
    "        for run in [1, 2, 3, 4, 5, 6]:\n",
    "\n",
    "            #print('run: '+str(run)); print()\n",
    "\n",
    "            y = 0\n",
    "\n",
    "            # select the data for that participant from the specified run\n",
    "            select_data = df[(df['participant']==participant)&(df['run']==run)]\n",
    "\n",
    "\n",
    "            ############## calculate the hit rate ##############\n",
    "\n",
    "            hits   = select_data[select_data['response_type']=='Hit'].shape[0]\n",
    "            misses = select_data[select_data['response_type']=='Miss'].shape[0]\n",
    "            s      = hits + misses\n",
    "\n",
    "            if s == 0:\n",
    "                hit_rate = 0\n",
    "  \n",
    "                y+=1\n",
    "\n",
    "            else:\n",
    "                hit_rate = hits / (hits+misses)\n",
    "\n",
    "\n",
    "            ############## calculate the false alarm rate ##############\n",
    "\n",
    "\n",
    "            FA     = select_data[select_data['response_type']=='False Alarm'].shape[0]\n",
    "            CR     = select_data[select_data['response_type']=='Correct Reject'].shape[0]\n",
    "            t      = FA + CR\n",
    "\n",
    "\n",
    "            if t == 0:\n",
    "                fa_rate = 0\n",
    "                y+=1\n",
    "\n",
    "            else:\n",
    "                fa_rate = FA / (FA+CR)\n",
    "\n",
    "\n",
    "\n",
    "            ############## subtract normed values --> Hit - FA ##############\n",
    "\n",
    "            d_prime = scipy.stats.norm.ppf(hit_rate) - scipy.stats.norm.ppf(fa_rate)\n",
    "            \n",
    "\n",
    "            if math.isinf(d_prime) or math.isnan(d_prime):\n",
    "                print(participant); print(run); print()\n",
    "            \n",
    "\n",
    "\n",
    "            ############## assign the value to the dataframe ##############\n",
    "\n",
    "            df.loc[(df['participant']==participant)&(df['run']==run),'run_prime'] =  d_prime\n",
    "\n",
    "\n",
    "\n"
   ]
  },
  {
   "cell_type": "code",
   "execution_count": null,
   "id": "45ae0230",
   "metadata": {},
   "outputs": [],
   "source": [
    "d_prime_by_run = df.groupby(['participant','run','run_prime'],as_index=False).sum()\n",
    "\n",
    "sb.violinplot( x='run', y='run_prime', data=d_prime_by_run, inner='point', color='white'); \n",
    "sb.swarmplot(  x='run', y='run_prime', data=d_prime_by_run, color='black'); "
   ]
  },
  {
   "cell_type": "code",
   "execution_count": null,
   "id": "096e5a8e",
   "metadata": {},
   "outputs": [],
   "source": [
    "sb.set(font_scale=2,style='white')\n",
    "#sb.set(style='white')\n",
    "\n",
    "# run_prime = df.groupby(['participant','run'],as_index=False)['run_dprime'].mean()\n",
    "d_prime_by_run['run'] = d_prime_by_run['run'].astype(int)\n",
    "\n",
    "sb.violinplot( x='run', y='run_prime', data=d_prime_by_run, inner='point', color='white'); \n",
    "sb.swarmplot(  x='run', y='run_prime', data=d_prime_by_run, color='black'); \n",
    "\n",
    "plt.xlabel('Run'); plt.ylabel('d-prime')\n",
    "\n",
    "\n",
    "plt.axhline(y=0, color='blue', linestyle='dashed'); \n",
    "plt.xticks([0, 1, 2, 3, 4, 5])\n",
    "plt.yticks([-2,3])\n",
    "\n",
    "pylab.text(-.9, -.15, '0', fontsize = 22, color = 'blue') #, rotation=90)\n",
    "\n",
    "plt.show()\n",
    "\n",
    "\n",
    "\n",
    "sb.barplot( x='run', y='run_dprime', data=run_prime ); plt.axhline(y=.5, color='grey', linestyle='dashed'); plt.show()\n",
    "\n",
    "sb.lineplot( x='run', y='run_dprime', data=run_prime, hue='participant' ); \n",
    "plt.axhline(y=.5,   color='grey', linestyle='dashed'); \n",
    "plt.axhline(y=0,    color='grey', linestyle='dashed'); \n",
    "plt.axhline(y=0.25, color='orange', linestyle='dashed'); \n",
    "\n",
    "plt.legend(bbox_to_anchor=(1.75, 1.75), loc=\"upper right\")\n",
    "plt.show()\n",
    "\n",
    "sb.lmplot( x='run', y='run_prime', data=run_prime); \n",
    "plt.legend(bbox_to_anchor=(1.75, 1.75), loc=\"upper right\")\n",
    "plt.show()\n",
    "\n",
    "# for p in run_prime['participant'].unique():\n",
    "#     print(p)\n",
    "#     sb.lineplot( x='run', y='run_dprime', data=run_prime[run_prime['participant']==p], hue='participant' ); \n",
    "#     plt.axhline(y=.5,   color='grey', linestyle='dashed'); \n",
    "#     plt.axhline(y=0,    color='grey', linestyle='dashed'); \n",
    "#     plt.axhline(y=0.25, color='orange', linestyle='dashed'); \n",
    "\n",
    "#     plt.legend(bbox_to_anchor=(1.75, 1.75), loc=\"upper right\")\n",
    "#     plt.show()"
   ]
  },
  {
   "cell_type": "code",
   "execution_count": null,
   "id": "7e5fb0ce",
   "metadata": {},
   "outputs": [],
   "source": [
    "# df_z_scaled['run_dprime']=np.nan; df['run_dprime']=np.nan\n",
    "\n",
    "# # for participant, percentage\n",
    "# for participant,total in zip(df_z_scaled['participant'].unique(),list(sums['run'])):\n",
    "#     # for each participant\n",
    "    \n",
    "#     # for each run\n",
    "#     for r in [ x for x in df[df['participant']==participant]['run'].unique() if x>0 ]:\n",
    "        \n",
    "#         print('The run is...'+str(r))\n",
    "    \n",
    "#         # Divide the number of hits by the total number of trials involving the target: Hit Rate = Hits / (Hits + Misses)\n",
    "#         # Divide the number of false alarms by the total number of trials involving non-targets: False Alarm Rate = False Alarms / (False Alarms + Correct Rejections)\n",
    "\n",
    "#         hit_p = scipy.stats.norm.ppf(df[(df['participant']==participant)&(df['run']==r)&(df['response_type']=='Hit')].shape[0] / df[(df['participant']==participant)&(df['run']==r)&(df['response_type'].isin(['Hit','Miss']))].shape[0])\n",
    "#         fa_p  = scipy.stats.norm.ppf(df[(df['participant']==participant)&(df['run']==r)&(df['response_type']=='False Alarm')].shape[0] / df[(df['participant']==participant)&(df['run']==r)&(df['response_type'].isin(['False Alarm','Correct Reject']))].shape[0])\n",
    "        \n",
    "#         print(hit_p)\n",
    "        \n",
    "#         #if fa_p != 0:\n",
    "#         df.loc[(df['participant']==participant)&(df['run']==r),'run_dprime'] = hit_p - fa_p\n",
    "       \n"
   ]
  },
  {
   "cell_type": "code",
   "execution_count": null,
   "id": "b7124737",
   "metadata": {},
   "outputs": [],
   "source": [
    "df_z_scaled[df_z_scaled['dprime']>.5]['participant'].unique()"
   ]
  },
  {
   "cell_type": "code",
   "execution_count": null,
   "id": "7de65f4a",
   "metadata": {},
   "outputs": [],
   "source": [
    "df.columns"
   ]
  },
  {
   "cell_type": "code",
   "execution_count": null,
   "id": "bb907170",
   "metadata": {},
   "outputs": [],
   "source": [
    "a = list(df[df['run']==2]['participant'].unique())\n",
    "b = list(df[df['run']==1]['participant'].unique())\n",
    "\n",
    "for c in a:\n",
    "    if c not in b:\n",
    "        print(c) "
   ]
  },
  {
   "cell_type": "code",
   "execution_count": null,
   "id": "6e873b48",
   "metadata": {},
   "outputs": [],
   "source": [
    "primes = df_z_scaled['dprime'].unique()\n"
   ]
  },
  {
   "cell_type": "code",
   "execution_count": null,
   "id": "44793fec",
   "metadata": {},
   "outputs": [],
   "source": [
    "# for p in df_z_scaled[df_z_scaled['participant']=='subject_19'] #['dprime']#['participant'].unique()"
   ]
  },
  {
   "cell_type": "code",
   "execution_count": null,
   "id": "56e85d52",
   "metadata": {},
   "outputs": [],
   "source": [
    "# df_z_scaled['dprime'].unique()\n",
    "\n",
    "sb.swarmplot( x=primes, color='black', size=10)\n",
    "sb.violinplot(x=primes, color='white', inner=None)\n",
    "\n",
    "\n",
    "plt.axvline(x=0, color='blue', linestyle='--')\n",
    "\n",
    "plt.xlabel('d-prime')\n",
    "# plt.xlim(30,100)\n",
    "plt.xticks([-.5, .5,1,1.5])\n",
    "\n",
    "\n",
    "pylab.text(-.04, .589999, '0', fontsize = 22, color = 'blue') #, rotation=90)\n",
    "\n",
    "plt.show()"
   ]
  },
  {
   "cell_type": "code",
   "execution_count": null,
   "id": "ee5ab46d",
   "metadata": {},
   "outputs": [],
   "source": [
    "percent_correct = []\n",
    "\n",
    "for p in df_z_scaled['participant'].unique():\n",
    "    \n",
    "    right = df_z_scaled[(df_z_scaled['response_type'].isin(['Correct Reject','Hit']))\n",
    "                       &(df_z_scaled['participant']==p)]['run'].sum() \n",
    "    \n",
    "    wrong = df_z_scaled[(df_z_scaled['response_type'].isin(['Miss','False Alarm']))\n",
    "                       &(df_z_scaled['participant']==p)]['run'].sum()\n",
    "    \n",
    "    percent_correct.append(100*right/(right+wrong))\n",
    "\n",
    "#sb.violinplot(percent_correct, inner='point', color='black')\n",
    "sb.swarmplot(x=percent_correct, color='black', size=10)\n",
    "sb.violinplot(x=percent_correct, color='white', inner=None)\n",
    "\n",
    "\n",
    "plt.axvline(x=50, color='blue', linestyle='--')\n",
    "\n",
    "plt.xlabel('Percent correct')\n",
    "plt.xlim(30,100)\n",
    "plt.xticks([30, 100])\n",
    "\n",
    "# pylab.text(45, .4, 'chance', fontsize = 28, color = 'blue', rotation=90)\n",
    "pylab.text(48, .59, '50', fontsize = 22, color = 'blue') #, rotation=90)\n",
    "\n",
    "plt.show()"
   ]
  },
  {
   "cell_type": "code",
   "execution_count": null,
   "id": "96a7d9fc",
   "metadata": {
    "scrolled": false
   },
   "outputs": [],
   "source": [
    "percent_correct = []\n",
    "\n",
    "for p in df_z_scaled['participant'].unique():\n",
    "    \n",
    "    right = df_z_scaled[(df_z_scaled['response_type'].isin(['Correct Reject','Hit']))\n",
    "                       &(df_z_scaled['participant']==p)]['run'].sum() \n",
    "    \n",
    "    wrong = df_z_scaled[(df_z_scaled['response_type'].isin(['Miss','False Alarm']))\n",
    "                       &(df_z_scaled['participant']==p)]['run'].sum()\n",
    "    \n",
    "    percent_correct.append(100*right/(right+wrong))\n",
    "\n",
    "#sb.violinplot(percent_correct, inner='point', color='black')\n",
    "sb.swarmplot(x=percent_correct, color='black', size=10)\n",
    "sb.violinplot(x=percent_correct, color='white', inner=None)\n",
    "\n",
    "\n",
    "plt.axvline(x=50, color='blue', linestyle='--')\n",
    "\n",
    "plt.xlabel('Percent correct')\n",
    "plt.xlim(30,100)\n",
    "plt.xticks([30, 100])\n",
    "\n",
    "# pylab.text(45, .4, 'chance', fontsize = 28, color = 'blue', rotation=90)\n",
    "pylab.text(48, .59, '50', fontsize = 22, color = 'blue') #, rotation=90)\n",
    "\n",
    "plt.show()\n"
   ]
  },
  {
   "cell_type": "code",
   "execution_count": null,
   "id": "e9a9146e",
   "metadata": {},
   "outputs": [],
   "source": [
    "scipy.stats.ttest_1samp(percent_correct,.5)"
   ]
  },
  {
   "cell_type": "code",
   "execution_count": null,
   "id": "9e9c9a1c",
   "metadata": {},
   "outputs": [],
   "source": [
    "df.loc[df['participant']=='subject_16c3','participant'] = 'subject_16c'"
   ]
  },
  {
   "cell_type": "code",
   "execution_count": null,
   "id": "0b7d574d",
   "metadata": {},
   "outputs": [],
   "source": [
    "# run_prime"
   ]
  },
  {
   "cell_type": "markdown",
   "id": "79f414f0",
   "metadata": {},
   "source": [
    "re-run analysis with subjects 7, 11, 22"
   ]
  },
  {
   "cell_type": "code",
   "execution_count": null,
   "id": "07a5d7e9",
   "metadata": {
    "scrolled": false
   },
   "outputs": [],
   "source": [
    "# run_prime = df.groupby(['participant'],as_index=False)['run_dprime'].mean()\n",
    "# #run_prime['run'] = run_prime['run'].astype(int)\n",
    "# sb.violinplot( x='run_dprime', data=run_prime, inner='point', color='white'); \n",
    "\n",
    "# plt.xlabel('d-prime')\n",
    "# # plt.ylabel('Run'); \n",
    "\n",
    "# plt.axvline(x=0, color='blue', linestyle='dashed'); \n",
    "\n",
    "# plt.xticks([-1, 3])\n",
    "# #plt.yticks([-2,3])\n",
    "\n",
    "# pylab.text(-.06, .6, '0', fontsize = 22, color = 'blue') #, rotation=90)\n",
    "\n",
    "# plt.show()"
   ]
  },
  {
   "cell_type": "code",
   "execution_count": null,
   "id": "7ab98566",
   "metadata": {},
   "outputs": [],
   "source": [
    "# for p in run_prime['participant'].unique():\n",
    "#     print(p)\n",
    "#     sb.lineplot( x='run', y='run_dprime', data=run_prime[run_prime['participant']==p], hue='participant' ); \n",
    "#     plt.axhline(y=.5,   color='grey', linestyle='dashed'); \n",
    "#     plt.axhline(y=0,    color='grey', linestyle='dashed'); \n",
    "#     plt.axhline(y=0.25, color='orange', linestyle='dashed'); \n",
    "\n",
    "#     plt.legend(bbox_to_anchor=(1.75, 1.75), loc=\"upper right\")\n",
    "#     plt.show()"
   ]
  },
  {
   "cell_type": "code",
   "execution_count": null,
   "id": "266930a2",
   "metadata": {},
   "outputs": [],
   "source": [
    "#run_prime#.columns#['run']"
   ]
  },
  {
   "cell_type": "code",
   "execution_count": null,
   "id": "47cdc969",
   "metadata": {},
   "outputs": [],
   "source": [
    "#len(list(run_prime['participant'].unique()))\n",
    "\n",
    "#run_prime"
   ]
  },
  {
   "cell_type": "code",
   "execution_count": null,
   "id": "593e8306",
   "metadata": {},
   "outputs": [],
   "source": [
    "run_prime[run_prime['run']==1]"
   ]
  },
  {
   "cell_type": "markdown",
   "id": "a51d93df",
   "metadata": {},
   "source": [
    "sb.scatterplot( y='run', x='run_dprime', data=run_prime[run_prime['run']==1]); "
   ]
  },
  {
   "cell_type": "code",
   "execution_count": null,
   "id": "3a2154b9",
   "metadata": {
    "scrolled": false
   },
   "outputs": [],
   "source": [
    "sb.set(font_scale=2,style='white')\n",
    "#sb.set(style='white')\n",
    "\n",
    "run_prime = df.groupby(['participant','run'],as_index=False)['run_dprime'].mean()\n",
    "run_prime['run'] = run_prime['run'].astype(int)\n",
    "\n",
    "sb.violinplot( x='run', y='run_dprime', data=run_prime, inner='point', color='white'); \n",
    "sb.swarmplot(  x='run', y='run_dprime', data=run_prime, color='black'); \n",
    "\n",
    "plt.xlabel('Run'); plt.ylabel('d-prime')\n",
    "\n",
    "\n",
    "plt.axhline(y=0, color='blue', linestyle='dashed'); \n",
    "plt.xticks([0, 1, 2, 3, 4, 5])\n",
    "plt.yticks([-2,3])\n",
    "\n",
    "pylab.text(-.9, -.15, '0', fontsize = 22, color = 'blue') #, rotation=90)\n",
    "\n",
    "plt.show()\n",
    "\n",
    "\n",
    "\n",
    "sb.barplot( x='run', y='run_dprime', data=run_prime ); plt.axhline(y=.5, color='grey', linestyle='dashed'); plt.show()\n",
    "\n",
    "sb.lineplot( x='run', y='run_dprime', data=run_prime, hue='participant' ); \n",
    "plt.axhline(y=.5,   color='grey', linestyle='dashed'); \n",
    "plt.axhline(y=0,    color='grey', linestyle='dashed'); \n",
    "plt.axhline(y=0.25, color='orange', linestyle='dashed'); \n",
    "\n",
    "plt.legend(bbox_to_anchor=(1.75, 1.75), loc=\"upper right\")\n",
    "plt.show()\n",
    "\n",
    "sb.lmplot( x='run', y='run_dprime', data=run_prime); \n",
    "plt.legend(bbox_to_anchor=(1.75, 1.75), loc=\"upper right\")\n",
    "plt.show()\n",
    "\n",
    "# for p in run_prime['participant'].unique():\n",
    "#     print(p)\n",
    "#     sb.lineplot( x='run', y='run_dprime', data=run_prime[run_prime['participant']==p], hue='participant' ); \n",
    "#     plt.axhline(y=.5,   color='grey', linestyle='dashed'); \n",
    "#     plt.axhline(y=0,    color='grey', linestyle='dashed'); \n",
    "#     plt.axhline(y=0.25, color='orange', linestyle='dashed'); \n",
    "\n",
    "#     plt.legend(bbox_to_anchor=(1.75, 1.75), loc=\"upper right\")\n",
    "#     plt.show()\n",
    "    \n",
    "    "
   ]
  },
  {
   "cell_type": "code",
   "execution_count": null,
   "id": "468548a4",
   "metadata": {},
   "outputs": [],
   "source": []
  },
  {
   "cell_type": "code",
   "execution_count": null,
   "id": "3414e24e",
   "metadata": {},
   "outputs": [],
   "source": [
    "df_z_scaled.groupby(['participant'],as_index=False).count()"
   ]
  },
  {
   "cell_type": "code",
   "execution_count": null,
   "id": "3c4b5480",
   "metadata": {},
   "outputs": [],
   "source": [
    "df_z_scaled['participant'].unique() #['dprime'].unique()"
   ]
  },
  {
   "cell_type": "code",
   "execution_count": null,
   "id": "9f29f55b",
   "metadata": {},
   "outputs": [],
   "source": [
    "p = df_z_scaled.sort_values(by=['dprime'], ascending=False)\n",
    "sb.barplot(x='participant', y='dprime', data=p)\n",
    "plt.xticks(rotation=90)\n",
    "plt.gca().set_xticklabels([])\n",
    "plt.ylim(0,1.2)\n",
    "plt.show()"
   ]
  },
  {
   "cell_type": "code",
   "execution_count": null,
   "id": "5edeefb8",
   "metadata": {},
   "outputs": [],
   "source": [
    "df.columns"
   ]
  },
  {
   "cell_type": "code",
   "execution_count": null,
   "id": "bff4f509",
   "metadata": {},
   "outputs": [],
   "source": [
    "import matplotlib.pyplot as plt\n",
    "x1 = 0; y1 = 0\n",
    "x2 = 1; y2 = 1\n",
    "# plt.plot(x1, y1, x2, y2, marker = 'o')\n",
    "plt.axline((x1, y1), (x2, y2), color='grey')\n",
    "\n",
    "x = [.175, .32,] \n",
    "x2 = [.378,  .28]\n",
    "y = [.341, .34,] \n",
    "y2 = [.369,  .25]\n",
    "\n",
    "a = sb.scatterplot(x=x,y=y,color='red',marker='o',s=60)\n",
    "a = sb.scatterplot(x=x2,y=y2,color='blue',marker='o',s=60)\n",
    "a.set_aspect('equal')\n",
    "plt.xlim(0,1)\n",
    "plt.ylim(0,1)\n",
    "\n",
    "for a,b in zip(x,y):\n",
    "    print(a)\n",
    "    d_prime = np.round(scipy.stats.norm.ppf(b)-scipy.stats.norm.ppf(a),2)\n",
    "    print()\n",
    "    \n",
    "    if d_prime < 0:\n",
    "        plt.text(x=a-.04, y=b-.08, s=str(d_prime),color='blue')\n",
    "    else:\n",
    "        plt.text(x=a-.07, y=b+.05, s=str(d_prime),color='red')\n",
    "        \n",
    "for a,b in zip(x2,y2):\n",
    "    print(a)\n",
    "    d_prime = np.round(scipy.stats.norm.ppf(b)-scipy.stats.norm.ppf(a),2)\n",
    "    print()\n",
    "    \n",
    "    if d_prime < 0:\n",
    "        plt.text(x=a-.04, y=b-.08, s=str(d_prime),color='blue')\n",
    "    else:\n",
    "        plt.text(x=a-.09, y=b+.08, s=str(d_prime),color='red')\n",
    "        \n",
    "        \n",
    "plt.xlabel('False Positive Rate',fontsize=20)\n",
    "plt.ylabel('True Positive Rate',fontsize=20)\n",
    "\n",
    "plt.show()"
   ]
  },
  {
   "cell_type": "code",
   "execution_count": null,
   "id": "387ac9c7",
   "metadata": {},
   "outputs": [],
   "source": [
    "#df['blobs'].unique()"
   ]
  },
  {
   "cell_type": "code",
   "execution_count": null,
   "id": "fbcb1222",
   "metadata": {},
   "outputs": [],
   "source": [
    "#df\n",
    "\n",
    "# import matplotlib.pyplot as plt\n",
    "# x1 = 0; y1 = 0\n",
    "# x2 = 1; y2 = 1\n",
    "# # plt.plot(x1, y1, x2, y2, marker = 'o')\n",
    "# plt.axline((x1, y1), (x2, y2), color='grey')\n",
    "\n",
    "# x = [.175, .32,] \n",
    "# x2 = [.378,  .28]\n",
    "# y = [.341, .34,] \n",
    "# y2 = [.369,  .25]\n",
    "\n",
    "# a = sb.scatterplot(x=x,y=y,color='red',marker='o',s=60)\n",
    "# a = sb.scatterplot(x=x2,y=y2,color='blue',marker='o',s=60)\n",
    "# a.set_aspect('equal')\n",
    "# plt.xlim(0,1)\n",
    "# plt.ylim(0,1)\n",
    "\n",
    "# for a,b in zip(x,y):\n",
    "#     print(a)\n",
    "#     d_prime = np.round(scipy.stats.norm.ppf(b)-scipy.stats.norm.ppf(a),2)\n",
    "#     print()\n",
    "    \n",
    "#     if d_prime < 0:\n",
    "#         plt.text(x=a-.04, y=b-.08, s=str(d_prime),color='blue')\n",
    "#     else:\n",
    "#         plt.text(x=a-.07, y=b+.05, s=str(d_prime),color='red')\n",
    "        \n",
    "# for a,b in zip(x2,y2):\n",
    "#     print(a)\n",
    "#     d_prime = np.round(scipy.stats.norm.ppf(b)-scipy.stats.norm.ppf(a),2)\n",
    "#     print()\n",
    "    \n",
    "#     if d_prime < 0:\n",
    "#         plt.text(x=a-.04, y=b-.08, s=str(d_prime),color='blue')\n",
    "#     else:\n",
    "#         plt.text(x=a-.09, y=b+.08, s=str(d_prime),color='red')\n",
    "        \n",
    "        \n",
    "# plt.xlabel('False Positive Rate',fontsize=20)\n",
    "# plt.ylabel('True Positive Rate',fontsize=20)\n",
    "\n",
    "# plt.show()"
   ]
  },
  {
   "cell_type": "code",
   "execution_count": null,
   "id": "ad1108ba",
   "metadata": {},
   "outputs": [],
   "source": [
    "gr[gr['blobs']>0].groupby(['response_type','participant'],as_index=False).mean()"
   ]
  },
  {
   "cell_type": "code",
   "execution_count": null,
   "id": "66e0e822",
   "metadata": {},
   "outputs": [],
   "source": []
  },
  {
   "cell_type": "code",
   "execution_count": null,
   "id": "daac1b73",
   "metadata": {},
   "outputs": [],
   "source": [
    "df_z_scaled"
   ]
  },
  {
   "cell_type": "code",
   "execution_count": null,
   "id": "a6233abd",
   "metadata": {},
   "outputs": [],
   "source": [
    "gr.groupby('blobs').count()"
   ]
  },
  {
   "cell_type": "code",
   "execution_count": null,
   "id": "b1bd8556",
   "metadata": {},
   "outputs": [],
   "source": [
    "df['moviestim'].iloc[1]"
   ]
  },
  {
   "cell_type": "code",
   "execution_count": null,
   "id": "44d7c0d7",
   "metadata": {},
   "outputs": [],
   "source": [
    "df['participant'].unique()"
   ]
  },
  {
   "cell_type": "code",
   "execution_count": null,
   "id": "8d3ca605",
   "metadata": {},
   "outputs": [],
   "source": [
    "df.columns"
   ]
  },
  {
   "cell_type": "markdown",
   "id": "52d24719",
   "metadata": {},
   "source": [
    "Average number of misses, correct rejects, etc across subjects"
   ]
  },
  {
   "cell_type": "code",
   "execution_count": null,
   "id": "955b921d",
   "metadata": {},
   "outputs": [],
   "source": [
    "count_df = df.groupby(['participant','response_type'],as_index=False).count()\n",
    "sb.barplot(data=count_df, x = 'response_type', y='run')"
   ]
  },
  {
   "cell_type": "code",
   "execution_count": null,
   "id": "5cea2266",
   "metadata": {},
   "outputs": [],
   "source": [
    "count_df"
   ]
  },
  {
   "cell_type": "code",
   "execution_count": null,
   "id": "fce0678c",
   "metadata": {},
   "outputs": [],
   "source": [
    "## START: check for johan ##"
   ]
  },
  {
   "cell_type": "code",
   "execution_count": null,
   "id": "c6fc128b",
   "metadata": {},
   "outputs": [],
   "source": [
    "df['participant'].unique()"
   ]
  },
  {
   "cell_type": "code",
   "execution_count": null,
   "id": "3e907401",
   "metadata": {},
   "outputs": [],
   "source": [
    "experiment_df = pd.read_csv('/Users/kirstenziman/Desktop/online_experiment.csv')"
   ]
  },
  {
   "cell_type": "code",
   "execution_count": null,
   "id": "91241c85",
   "metadata": {},
   "outputs": [],
   "source": [
    "trial_df = experiment_df[experiment_df['video_A']=='Trials'] #[trial_df['display']]#.isin([27, 31, 34, 47, 56, 60])]\n",
    "trial_df['trial_count'] = range(0,trial_df.shape[0])"
   ]
  },
  {
   "cell_type": "code",
   "execution_count": null,
   "id": "ae8cc576",
   "metadata": {},
   "outputs": [],
   "source": [
    "over_84\n",
    "\n",
    "trial_df"
   ]
  },
  {
   "cell_type": "code",
   "execution_count": null,
   "id": "0e75957d",
   "metadata": {},
   "outputs": [],
   "source": [
    "over_84 = trial_df[trial_df['randomise_trial'].isin(['27', '31', '34', '47', '56', '60'])]\n",
    "_55_65  = trial_df[trial_df['randomise_trial'].isin(['6', '11', '13', '20', '21', '46', '49', '53'])]\n",
    "low_acc = trial_df[trial_df['randomise_trial'].isin(['41', '45'])]"
   ]
  },
  {
   "cell_type": "code",
   "execution_count": null,
   "id": "8307fbad",
   "metadata": {},
   "outputs": [],
   "source": [
    "trial_df['randomise_trial'][1]"
   ]
  },
  {
   "cell_type": "code",
   "execution_count": null,
   "id": "a778d6a8",
   "metadata": {},
   "outputs": [],
   "source": [
    "movie_labels = []\n",
    "\n",
    "for x in list(df['moviestim']):\n",
    "    \n",
    "    if type(x)==str:\n",
    "        movie_labels.append(x[7:23])\n",
    "        \n",
    "    else:\n",
    "        movie_labels.append(np.nan)\n",
    "        \n",
    "df['movie_labels'] = movie_labels\n",
    "\n",
    "#df['movie_label'] = [x[:12] for x in list(df['moviestim']) if type(x)==str]"
   ]
  },
  {
   "cell_type": "code",
   "execution_count": null,
   "id": "6d61f0be",
   "metadata": {},
   "outputs": [],
   "source": []
  },
  {
   "cell_type": "code",
   "execution_count": null,
   "id": "3f302cf9",
   "metadata": {},
   "outputs": [],
   "source": []
  },
  {
   "cell_type": "code",
   "execution_count": null,
   "id": "33535bc7",
   "metadata": {},
   "outputs": [],
   "source": [
    "sb.set(font_scale=2)\n",
    "sb.set_style(\"white\")"
   ]
  },
  {
   "cell_type": "code",
   "execution_count": null,
   "id": "d3a3fc34",
   "metadata": {},
   "outputs": [],
   "source": [
    "the_list   = ['fps_60/'+x[:-6]+'60.mp4' for x in list(_55_65  ['video_B'])]\n",
    "verid_list = [x.replace('scrambled','veridical') for x in the_list]\n",
    "scram_list = [x.replace('veridical','scrambled') for x in the_list]\n",
    "\n",
    "fig, (ax1, ax2) = plt.subplots(1, 2, gridspec_kw={'width_ratios':[2, 2]}, figsize=(20,5))\n",
    "        \n",
    "count_df   = df[df['moviestim'].isin(verid_list)].groupby(['movie_labels','participant','response_type'],as_index=False).count()\n",
    "ax1 = sb.histplot(data=count_df, x=\"moviestim\", hue=\"response_type\", multiple=\"stack\", palette=['blue','orange'], ax=ax1)\n",
    "# ax1.set_xticks(rotation=90);\n",
    "plt.ylabel('Number of subjects')\n",
    "ax1.set_title(\"Veridical Videos - Online 55-65%\")\n",
    "\n",
    "\n",
    "count_df   = df[df['moviestim'].isin(scram_list)].groupby(['movie_labels','participant','response_type'],as_index=False).count()\n",
    "ax2 = sb.histplot(data=count_df, x=\"moviestim\", hue=\"response_type\", multiple=\"stack\", palette=['green','red'], ax=ax2)\n",
    "plt.xticks(rotation=90)\n",
    "plt.ylabel('Number of subjects')\n",
    "plt.title('Scrambled Videos - Online 55-65%')\n"
   ]
  },
  {
   "cell_type": "code",
   "execution_count": null,
   "id": "3934891a",
   "metadata": {},
   "outputs": [],
   "source": [
    "the_list   = ['fps_60/'+x[:-6]+'60.mp4' for x in list(over_84['video_B'])]\n",
    "verid_list = [x.replace('scrambled','veridical') for x in the_list]\n",
    "scram_list = [x.replace('veridical','scrambled') for x in the_list]\n",
    "\n",
    "fig, (ax1, ax2) = plt.subplots(1, 2, gridspec_kw={'width_ratios':[2, 2]}, figsize=(20,5))\n",
    "\n",
    "count_df   = df[df['moviestim'].isin(verid_list)].groupby(['movie_labels','participant','response_type'],as_index=False).count()\n",
    "ax1 = sb.histplot(data=count_df, x=\"moviestim\", hue=\"response_type\", multiple=\"stack\", palette=['blue','orange'], ax=ax1)\n",
    "#plt.xticks(rotation=90)\n",
    "plt.ylabel('Number of subjects')\n",
    "ax1.set_title(\"Veridical Videos - Online Over 84%\")\n",
    "\n",
    "\n",
    "count_df   = df[df['moviestim'].isin(scram_list)].groupby(['movie_labels','participant','response_type'],as_index=False).count()\n",
    "ax2 = sb.histplot(data=count_df, x=\"moviestim\", hue=\"response_type\", multiple=\"stack\", palette=['green','red'], ax=ax2)\n",
    "plt.xticks(rotation=90)\n",
    "plt.ylabel('Number of subjects')\n",
    "plt.title('Scrambled Videos - Online Over 84%')\n",
    "#plt.show()"
   ]
  },
  {
   "cell_type": "code",
   "execution_count": null,
   "id": "27dc346f",
   "metadata": {},
   "outputs": [],
   "source": [
    "the_list   = ['fps_60/'+x[:-6]+'60.mp4' for x in list(low_acc  ['video_B'])]\n",
    "verid_list = [x.replace('scrambled','veridical') for x in the_list]\n",
    "scram_list = [x.replace('veridical','scrambled') for x in the_list]\n",
    "\n",
    "fig, (ax1, ax2) = plt.subplots(1, 2, gridspec_kw={'width_ratios':[2, 2]}, figsize=(20,5))\n",
    "        \n",
    "count_df   = df[df['moviestim'].isin(verid_list)].groupby(['movie_labels','participant','response_type'],as_index=False).count()\n",
    "ax1 = sb.histplot(data=count_df, x=\"moviestim\", hue=\"response_type\", multiple=\"stack\", palette=['orange','blue'], ax=ax1)\n",
    "# ax1.set_xticks(rotation=90);\n",
    "plt.ylabel('Number of subjects')\n",
    "ax1.set_title(\"Veridical Videos - Online Low Accuracy%\")\n",
    "\n",
    "\n",
    "count_df   = df[df['moviestim'].isin(scram_list)].groupby(['movie_labels','participant','response_type'],as_index=False).count()\n",
    "ax2 = sb.histplot(data=count_df, x=\"moviestim\", hue=\"response_type\", multiple=\"stack\", palette=['red','green'], ax=ax2)\n",
    "plt.xticks(rotation=90)\n",
    "plt.ylabel('Number of subjects')\n",
    "plt.title('Scrambled Videos - Online Low Accuracy%')"
   ]
  },
  {
   "cell_type": "code",
   "execution_count": null,
   "id": "040ddf3e",
   "metadata": {},
   "outputs": [],
   "source": [
    "df.columns #[df['moviestim'].isin(verid_list)][['']]"
   ]
  },
  {
   "cell_type": "code",
   "execution_count": null,
   "id": "b9e03df5",
   "metadata": {},
   "outputs": [],
   "source": [
    "df.columns #[df['moviestim'].isin(verid_list)][['']]"
   ]
  },
  {
   "cell_type": "code",
   "execution_count": null,
   "id": "36aabbb4",
   "metadata": {},
   "outputs": [],
   "source": [
    "scram_list"
   ]
  },
  {
   "cell_type": "code",
   "execution_count": null,
   "id": "00bd52a1",
   "metadata": {},
   "outputs": [],
   "source": [
    "scram_list"
   ]
  },
  {
   "cell_type": "code",
   "execution_count": null,
   "id": "185fddb3",
   "metadata": {},
   "outputs": [],
   "source": [
    "the_list   = ['fps_60/'+x[:-6]+'60.mp4' for x in list(low_acc['video_B'])]\n",
    "verid_list = [x.replace('scrambled','veridical') for x in the_list]\n",
    "scram_list = [x.replace('veridical','scrambled') for x in the_list]\n",
    "\n",
    "\n",
    "count_df   = df[df['moviestim'].isin(verid_list)].groupby(['movie_labels','participant','response_type'],as_index=False).count()\n",
    "sb.histplot(data=count_df, x=\"movie_labels\", hue=\"response_type\", multiple=\"stack\")\n",
    "plt.xticks(rotation=90)\n",
    "plt.ylabel('Number of subjects')\n",
    "plt.title('Veridical Videos - Online Low Accuracy')\n",
    "plt.show()\n",
    "\n",
    "count_df   = df[df['moviestim'].isin(scram_list)].groupby(['movie_labels','participant','response_type'],as_index=False).count()\n",
    "sb.histplot(data=count_df, x=\"movie_labels\", hue=\"response_type\", multiple=\"stack\", palette=['red','green'])\n",
    "plt.xticks(rotation=90)\n",
    "plt.ylabel('Number of subjects')\n",
    "plt.title('Scrambled Videos - Online Low Accuracy')\n",
    "plt.show()"
   ]
  },
  {
   "cell_type": "code",
   "execution_count": null,
   "id": "9ef8e19e",
   "metadata": {},
   "outputs": [],
   "source": [
    "verid_list"
   ]
  },
  {
   "cell_type": "code",
   "execution_count": null,
   "id": "1fdb571a",
   "metadata": {},
   "outputs": [],
   "source": [
    "len(df[df['moviestim'].isin(verid_list)]['participant'].unique()) #['moviestim']"
   ]
  },
  {
   "cell_type": "code",
   "execution_count": null,
   "id": "a5e1f428",
   "metadata": {},
   "outputs": [],
   "source": [
    "scram_list"
   ]
  },
  {
   "cell_type": "code",
   "execution_count": null,
   "id": "d8fb9b20",
   "metadata": {},
   "outputs": [],
   "source": [
    "df[df['moviestim'].isin(scram_list)]#['participant'].unique())"
   ]
  },
  {
   "cell_type": "code",
   "execution_count": null,
   "id": "4ab65614",
   "metadata": {},
   "outputs": [],
   "source": [
    "_55_65"
   ]
  },
  {
   "cell_type": "code",
   "execution_count": null,
   "id": "8a4b3ae7",
   "metadata": {},
   "outputs": [],
   "source": [
    "over_84"
   ]
  },
  {
   "cell_type": "code",
   "execution_count": null,
   "id": "ff234719",
   "metadata": {},
   "outputs": [],
   "source": [
    "## END: check for johan ##"
   ]
  },
  {
   "cell_type": "markdown",
   "id": "db5f9745",
   "metadata": {},
   "source": [
    "Plots for each individual subject"
   ]
  },
  {
   "cell_type": "code",
   "execution_count": null,
   "id": "893d4bae",
   "metadata": {},
   "outputs": [],
   "source": [
    "d = df[df['response_type'].isin(['Hit','False Alarm','Miss','Correct Reject'])]\n",
    "d['participant'] = d['participant'].astype(str)\n",
    "d.loc[d['participant']=='subject_16c3','participant'] = 'subject_16c'\n",
    "\n",
    "df.loc[df['participant']=='subject_16c3','participant'] = 'subject_16c'\n",
    "\n",
    "a = sb.histplot(data=d, x=\"participant\", hue=\"response_type\", multiple=\"stack\")"
   ]
  },
  {
   "cell_type": "code",
   "execution_count": null,
   "id": "a1b71d49-54a9-4ecc-87b6-81deb1247cec",
   "metadata": {},
   "outputs": [],
   "source": [
    "d['participant'].unique()"
   ]
  },
  {
   "cell_type": "markdown",
   "id": "af27db63",
   "metadata": {},
   "source": [
    "Overall accuracy is hit rate plus the correct reject rate"
   ]
  },
  {
   "cell_type": "code",
   "execution_count": null,
   "id": "d0413217",
   "metadata": {},
   "outputs": [],
   "source": [
    "count_df['correct_response'] = np.nan\n",
    "count_df.loc[(count_df['response_type']=='Correct Reject')|(count_df['response_type']=='Hit'),'correct_response']='Correct'\n",
    "count_df.loc[(count_df['response_type']=='Miss')|(count_df['response_type']=='False Alarm'),'correct_response']='Wrong'"
   ]
  },
  {
   "cell_type": "code",
   "execution_count": null,
   "id": "54c0960e",
   "metadata": {},
   "outputs": [],
   "source": [
    "corr_group = count_df.groupby(['participant','correct_response'],as_index=False).sum()"
   ]
  },
  {
   "cell_type": "code",
   "execution_count": null,
   "id": "152c7cd4",
   "metadata": {},
   "outputs": [],
   "source": [
    "corr_group.groupby(['participant','correct_response'],as_index=False).sum()\n",
    "\n",
    "for subject in corr_group['participant'].unique():\n",
    "    \n",
    "    print('participant: '+str(subject))\n",
    "    print('percent correct: '+str(corr_group[(corr_group['participant']==subject)\n",
    "             &(corr_group['correct_response']=='Correct')]['run'].item()/120))\n",
    "    print()\n",
    "    "
   ]
  },
  {
   "cell_type": "markdown",
   "id": "d3c67f95",
   "metadata": {},
   "source": [
    "# Next steps"
   ]
  },
  {
   "cell_type": "markdown",
   "id": "7c8383d5",
   "metadata": {},
   "source": [
    "First, we will want to address the updates to that function that I commented\n",
    "\n",
    "Then, I think we should dig into a few things including individual stimuli (which ones are \"good\") and also see what strategies people are using and how they are really doing...\n",
    "\n",
    "- calculate d prime (http://phonetics.linguistics.ucla.edu/facilities/statistics/dprime.htm)\n",
    "\n",
    "\n",
    "- raw bumbers of each button press\n",
    "    - how many times total does each person hit 1 and 2 (regardles of whether correct)\n",
    "    \n",
    "\n",
    "- assess which strategies people are using \n",
    "    - e.g. when in doubt, are they usually hitting 1 and then just occasionally hitting 2?\n",
    "\n",
    "\n",
    "- which stimuli are \"good\" or easier?\n",
    "    - specifically, are there some video stimuli people are good at BOTH pressing 1 when it is veridical AND pressing 2 when it is scrambled?\n",
    "    \n",
    "    \n",
    "- let's compare proportion of \"hits\" to \"false alarms\" for each person\n",
    "\n",
    "\n",
    "- let's compare proportion of \"misses\" and \"correct rejects\" for each person\n",
    "    \n",
    "    \n",
    "- ^^ What do these tell us?\n",
    "    "
   ]
  },
  {
   "cell_type": "code",
   "execution_count": null,
   "id": "35ff8d65",
   "metadata": {},
   "outputs": [],
   "source": [
    "\n",
    "stim_count = df.groupby(['moviestim', 'response_type'],as_index=False).count()\n",
    "\n",
    "#with pd.option_context('display.max_rows', None,\n",
    "                      # 'display.max_columns', None,\n",
    "                      # 'display.precision', 3,\n",
    "                      # ):\n",
    "\n",
    "# stim_count[stim_count['run']>=3].index.values.tolist()\n",
    "stim_count.head(n=2)"
   ]
  },
  {
   "cell_type": "code",
   "execution_count": null,
   "id": "65ab788a",
   "metadata": {},
   "outputs": [],
   "source": [
    "# stim_count.loc[(stim_count['moviestim'].str.contains(x))\n",
    "#               &(stim_count['response_type']=='Correct Reject'),'run'].shape[0]"
   ]
  },
  {
   "cell_type": "code",
   "execution_count": null,
   "id": "fbe4ce47",
   "metadata": {},
   "outputs": [],
   "source": [
    "three_hits = stim_count[(stim_count['response_type']=='Hit')\n",
    "          &(stim_count['run']>=3)].shape[0]\n",
    "\n",
    "print(str(three_hits) + ' valid stimuli were hits for three or more of our four subjects')\n",
    "\n",
    "stimmies = [x[:-45] for x in stim_count[(stim_count['response_type']=='Hit')\n",
    "          &(stim_count['run']>=3)]['moviestim']]\n",
    "\n",
    "correct_reject_nums = []\n",
    "\n",
    "for x in stimmies:\n",
    "    \n",
    "    if stim_count.loc[(stim_count['moviestim'].str.contains(x))\n",
    "              &(stim_count['response_type']=='Correct Reject'),'run'].shape[0] > 0:\n",
    "        num = stim_count.loc[(stim_count['moviestim'].str.contains(x))\n",
    "                  &(stim_count['response_type']=='Correct Reject'),'run'].item()\n",
    "        correct_reject_nums.append(num)\n",
    "\n",
    "cr = 0\n",
    "\n",
    "for x in correct_reject_nums:\n",
    "    if x >=3:\n",
    "        cr+=1\n",
    "\n",
    "print()\n",
    "print('For these stimuli, only '+str(cr)+' of the corresponding scrambled stimuli were correctly rejected three out of four times')\n"
   ]
  },
  {
   "cell_type": "code",
   "execution_count": null,
   "id": "c68b9dc6",
   "metadata": {},
   "outputs": [],
   "source": [
    "num = 2\n",
    "\n",
    "stim_count['movie_short'] = [x[:32] for x in list(stim_count['moviestim'])]\n",
    "\n",
    "correct = stim_count[(stim_count['run']>=num)\n",
    "          & (stim_count['response_type'].isin(['Hit','Correct Reject']))]\n",
    "\n",
    "c_list = list(correct['moviestim'])\n",
    "\n",
    "correct_num = stim_count[(stim_count['run']>=num)\n",
    "          & (stim_count['response_type'].isin(['Hit','Correct Reject']))].shape[0]\n",
    "\n",
    "correct['short_stim'] = [x[:32] for x in list(correct['moviestim'])]\n",
    "pair_corr_num = correct.groupby(['short_stim'],as_index=False).sum().shape[0]\n",
    "paired = correct_num - pair_corr_num\n",
    "\n",
    "print('There are a total of '+str(correct_num)+' videos that '+str(num)+' or more MRI pilot subjects got correct.');print()\n",
    "\n",
    "#print('Of these, '+str(paired)+' are pairs.');print()\n",
    "\n",
    "print('Here are what the performance plots look like with just these: ')\n",
    "\n",
    "b = sb.histplot(data=stim_count[stim_count['movie_short'].isin(correct['short_stim'])], x=\"participant\", hue=\"response_type\", multiple=\"stack\")"
   ]
  },
  {
   "cell_type": "markdown",
   "id": "cf7b7cac",
   "metadata": {},
   "source": [
    "New d prime"
   ]
  },
  {
   "cell_type": "code",
   "execution_count": null,
   "id": "ff23aa69",
   "metadata": {},
   "outputs": [],
   "source": [
    "stim_count[stim_count['movie_short'].isin(correct['short_stim'])]\n",
    "\n"
   ]
  },
  {
   "cell_type": "code",
   "execution_count": null,
   "id": "e6d04a7a",
   "metadata": {},
   "outputs": [],
   "source": [
    "df_z_new"
   ]
  },
  {
   "cell_type": "code",
   "execution_count": null,
   "id": "abf69267",
   "metadata": {},
   "outputs": [],
   "source": [
    "corr_group = d[d['moviestim'].isin(c_list)].groupby(['participant','response_type'],as_index=False).count()\n",
    "\n",
    "df_z_new = corr_group.copy()\n",
    "df_z_new['dprime'] = np.nan\n",
    "\n",
    "for participant,total in zip(['1.0','2.0','3.0','4.0'],list(sums['run'])):\n",
    "\n",
    "    df_z_new.loc[df_z_new['participant']==participant,'prop'] = df_z_new.loc[df_z_new['participant']==participant,'run']/total \n",
    "#     df_z_new.loc[df_z_new['participant']==participant,'dprime'] = scipy.stats.norm.ppf(df_z_new[(df_z_new['participant']==participant)\n",
    "#                                                                                    &(df_z_new['response_type']=='Hit')]['prop'].item()) - scipy.stats.norm.ppf(df_z_new[(df_z_new['participant']==participant)\n",
    "#                                                                                                                                &(df_z_new['response_type']=='False Alarm')]['prop'].item())\n",
    "\n",
    "# df_z_new['dprime'].unique()"
   ]
  },
  {
   "cell_type": "code",
   "execution_count": null,
   "id": "271c2669",
   "metadata": {},
   "outputs": [],
   "source": []
  },
  {
   "cell_type": "markdown",
   "id": "b1befc19",
   "metadata": {},
   "source": [
    "# Which stimuli do people get right? \n",
    "\n",
    "In our previous behavioral study, we found that sitmuli with more blobs were easier. Is that the case in this experiment version too?"
   ]
  },
  {
   "cell_type": "code",
   "execution_count": null,
   "id": "f078706c",
   "metadata": {
    "scrolled": true
   },
   "outputs": [],
   "source": [
    "df['blobs'] = np.nan\n",
    "\n",
    "ms = list(df['moviestim'])\n",
    "ms = [x for x in ms if type(x)==str]\n",
    "ms = [x[15:] for x in ms]\n",
    "\n",
    "# images in the stim set\n",
    "images = [x for x in os.listdir('/Users/kirstenziman/Documents/predicting_attention_MRI/MRI_pilot/task/STIM_SET_1_144/') if x in ms]\n",
    "image_csvs = [x[:-10]+'.csv' for x in images]\n",
    "image_data = [pd.read_csv('/Users/kirstenziman/Documents/predicting_attention_MRI/MRI_pilot/task/STIM_SET_1_144/'+x) for x in image_csvs]\n",
    "concatenated = pd.concat(image_data)\n",
    "concatenated['type'] = np.nan\n",
    "concatenated.loc[concatenated['proportion_same']==1,'type']='veridical'\n",
    "concatenated.loc[concatenated['proportion_same']!=1,'type']='scrambled'\n",
    "concatenated.head(n=1)\n",
    "\n",
    "# here we have a df with the num_chunks for each stim of interest"
   ]
  },
  {
   "cell_type": "code",
   "execution_count": null,
   "id": "708d3f4c",
   "metadata": {},
   "outputs": [],
   "source": []
  },
  {
   "cell_type": "code",
   "execution_count": null,
   "id": "f7993628",
   "metadata": {},
   "outputs": [],
   "source": [
    "gr = df.groupby(['moviestim','response_type'],as_index=False).count()\n",
    "gr['blobs'] = np.nan\n",
    "\n",
    "for i,row in concatenated.iterrows():\n",
    "    im = row['image']\n",
    "    gr.loc[gr['moviestim'].str.contains(im),'blobs'] = row['num_chunks']\n",
    "\n",
    "    df.loc[gr['moviestim'].str.contains(im),'blobs'] = row['num_chunks']"
   ]
  },
  {
   "cell_type": "code",
   "execution_count": null,
   "id": "02cb3817",
   "metadata": {},
   "outputs": [],
   "source": [
    "newest_gr = df.groupby(['moviestim','response_type','participant'],as_index=False).count()\n",
    "newest_gr['blobs'] = np.nan\n",
    "\n",
    "for i,row in concatenated.iterrows():\n",
    "    im = row['image']\n",
    "    newest_gr.loc[newest_gr['moviestim'].str.contains(im),'blobs'] = row['num_chunks']\n",
    "\n",
    "    newest_gr.loc[newest_gr['moviestim'].str.contains(im),'blobs'] = row['num_chunks']"
   ]
  },
  {
   "cell_type": "code",
   "execution_count": null,
   "id": "fd1503a8",
   "metadata": {},
   "outputs": [],
   "source": [
    "newest_gr"
   ]
  },
  {
   "cell_type": "code",
   "execution_count": null,
   "id": "6eea02d1",
   "metadata": {},
   "outputs": [],
   "source": [
    "gr"
   ]
  },
  {
   "cell_type": "code",
   "execution_count": null,
   "id": "deaeeaf1",
   "metadata": {},
   "outputs": [],
   "source": [
    "df"
   ]
  },
  {
   "cell_type": "code",
   "execution_count": null,
   "id": "c79dc6ad",
   "metadata": {},
   "outputs": [],
   "source": [
    "60*4\n"
   ]
  },
  {
   "cell_type": "markdown",
   "id": "f39afeec",
   "metadata": {},
   "source": [
    "# ROC ccurves for each person"
   ]
  },
  {
   "cell_type": "code",
   "execution_count": null,
   "id": "8e05ba6f",
   "metadata": {},
   "outputs": [],
   "source": [
    "\n",
    "# TPR = hits / hits + misses\n",
    "\n",
    "\n",
    "# FPR = false positive / false positive + true negative\n"
   ]
  },
  {
   "cell_type": "code",
   "execution_count": null,
   "id": "17059d36",
   "metadata": {},
   "outputs": [],
   "source": [
    "# newest_gr"
   ]
  },
  {
   "cell_type": "code",
   "execution_count": null,
   "id": "83346771",
   "metadata": {},
   "outputs": [],
   "source": [
    "newest_gr[newest_gr['blobs']>=13].shape[0]/4\n",
    "\n",
    "new_gr = newest_gr.groupby(['participant','response_type'],as_index=False).count()\n",
    "new_gr#['response'].unique()\n",
    "\n",
    "hits"
   ]
  },
  {
   "cell_type": "code",
   "execution_count": null,
   "id": "57eb2381",
   "metadata": {
    "scrolled": false
   },
   "outputs": [],
   "source": [
    "import scipy.stats as st\n",
    "\n",
    "\n",
    "hits = []; fas  = []; labels = []; green_x = []; green_y = []\n",
    "hits_2 = []; fas_2 = []\n",
    "\n",
    "for p in new_gr['participant'].unique():\n",
    "    \n",
    "    #this_dat = gr[gr['blobs']>=a].groupby(['participant','response_type'],as_index=False).sum()#['participant'].unique()\n",
    "    \n",
    "    hit  = new_gr[(new_gr['participant']==p)&(new_gr['response_type']=='Hit')].sum()['run']\n",
    "    miss = new_gr[(new_gr['participant']==p)&(new_gr['response_type']=='Miss')].sum()['run']\n",
    "    \n",
    "    TPR = hit / (hit+miss)\n",
    "    hits.append(TPR)\n",
    "    \n",
    "    fa  = new_gr[(new_gr['participant']==p)&(new_gr['response_type']=='False Alarm')].sum()['run']\n",
    "    cr  = new_gr[(new_gr['participant']==p)&(new_gr['response_type']=='Correct Reject')].sum()['run']\n",
    "\n",
    "    FPR = fa / (fa + cr)\n",
    "    fas.append(FPR)\n",
    "\n",
    "    \n",
    "    TPR_2 = cr / (cr+fa)\n",
    "    hits_2.append(TPR_2)\n",
    "    \n",
    "    FPR_2 = miss / (miss + cr)\n",
    "    fas_2.append(FPR_2)\n",
    "\n",
    "    \n",
    "    d_prime = st.norm.ppf(TPR) - st.norm.ppf(FPR)\n",
    "    \n",
    "    print(p)\n",
    "    print('Sensitivity: '+str(hit / (hit+miss)))\n",
    "    print('Specificity: '+str(cr / (cr + fa)))\n",
    "    print('Percent Correct: '+str((hit+cr)/120))\n",
    "    print('d prime: '+str(d_prime))\n",
    "    print();print()\n",
    "    \n",
    "    labels.append(str(p))\n",
    "\n",
    "    ################################\n",
    "\n",
    "    al = sb.scatterplot(x=[fas[-1]],y=[hits[-1]], marker='o',s=60)#color='grey')\n",
    "    \n",
    "    al.set_aspect('equal')\n",
    "    x1 = 0; y1 = 0\n",
    "    x2 = 1; y2 = 1\n",
    "        \n",
    "    plt.axline((x1, y1), (x2, y2), color='grey')\n",
    "    \n",
    "    plt.xlabel('False Positive Rate',fontsize=20)\n",
    "    plt.ylabel('True Positive Rate',fontsize=20)\n",
    "    \n",
    "    \n",
    "    plt.show()\n",
    "    \n",
    "    al2 = sb.scatterplot(x=[fas_2[-1]],y=[hits_2[-1]], marker='o',s=60)#color='grey')\n",
    "    \n",
    "    \n",
    "    al2.set_aspect('equal')\n",
    "    x1 = 0; y1 = 0\n",
    "    x2 = 1; y2 = 1\n",
    "        \n",
    "    plt.axline((x1, y1), (x2, y2), color='grey')\n",
    "    \n",
    "    plt.xlabel('False Positive Rate',fontsize=20)\n",
    "    plt.ylabel('True Positive Rate',fontsize=20)\n",
    "    #plt.title('Videos with '+str(a)+'+ Blobs',fontsize=25)\n",
    "    \n",
    "    \n",
    "    # print('Red   - Subject 1')\n",
    "    # print('Green - Subject 2')\n",
    "    \n",
    "    \n",
    "    plt.show(); print()\n",
    "\n",
    "################################\n",
    "    \n",
    "\n",
    "al = sb.scatterplot(x=fas,y=hits, marker='o',s=60)#color='grey')\n",
    "\n",
    "\n",
    "al.set_aspect('equal')\n",
    "x1 = 0; y1 = 0\n",
    "x2 = 1; y2 = 1\n",
    "    \n",
    "plt.axline((x1, y1), (x2, y2), color='grey')\n",
    "\n",
    "plt.xlabel('False Positive Rate',fontsize=20)\n",
    "plt.ylabel('True Positive Rate',fontsize=20)\n",
    "\n",
    "\n",
    "plt.show()\n",
    "\n",
    "al2 = sb.scatterplot(x=fas_2,y=hits_2, marker='o',s=60)#color='grey')\n",
    "\n",
    "\n",
    "al2.set_aspect('equal')\n",
    "x1 = 0; y1 = 0\n",
    "x2 = 1; y2 = 1\n",
    "    \n",
    "plt.axline((x1, y1), (x2, y2), color='grey')\n",
    "\n",
    "plt.xlabel('False Positive Rate',fontsize=20)\n",
    "plt.ylabel('True Positive Rate',fontsize=20)\n",
    "#plt.title('Videos with '+str(a)+'+ Blobs',fontsize=25)\n",
    "\n",
    "\n",
    "# print('Red   - Subject 1')\n",
    "# print('Green - Subject 2')\n",
    "\n",
    "\n",
    "plt.show(); print()"
   ]
  },
  {
   "cell_type": "code",
   "execution_count": null,
   "id": "70b210cd-1a0c-42f0-b013-3bace2e57ce5",
   "metadata": {},
   "outputs": [],
   "source": [
    "import scipy.stats as st\n",
    "\n",
    "\n",
    "hits = []; fas  = []; labels = []; green_x = []; green_y = []\n",
    "hits_2 = []; fas_2 = []\n",
    "\n",
    "for p in new_gr['participant'].unique():\n",
    "    \n",
    "    if p!='subject_17b':\n",
    "    \n",
    "        #this_dat = gr[gr['blobs']>=a].groupby(['participant','response_type'],as_index=False).sum()#['participant'].unique()\n",
    "        \n",
    "        hit  = new_gr[(new_gr['participant']==p)&(new_gr['response_type']=='Hit')].sum()['run']\n",
    "        miss = new_gr[(new_gr['participant']==p)&(new_gr['response_type']=='Miss')].sum()['run']\n",
    "        \n",
    "        TPR = hit / (hit+miss)\n",
    "        hits.append(TPR)\n",
    "        \n",
    "        fa  = new_gr[(new_gr['participant']==p)&(new_gr['response_type']=='False Alarm')].sum()['run']\n",
    "        cr  = new_gr[(new_gr['participant']==p)&(new_gr['response_type']=='Correct Reject')].sum()['run']\n",
    "    \n",
    "        FPR = fa / (fa + cr)\n",
    "        fas.append(FPR)\n",
    "    \n",
    "        \n",
    "        TPR_2 = cr / (cr+fa)\n",
    "        hits_2.append(TPR_2)\n",
    "        \n",
    "        FPR_2 = miss / (miss + cr)\n",
    "        fas_2.append(FPR_2)\n",
    "    \n",
    "        \n",
    "        d_prime = st.norm.ppf(TPR) - st.norm.ppf(FPR)\n",
    "        \n",
    "        print(p)\n",
    "        print('Sensitivity: '+str(hit / (hit+miss)))\n",
    "        print('Specificity: '+str(cr / (cr + fa)))\n",
    "        print('Percent Correct: '+str((hit+cr)/120))\n",
    "        print('d prime: '+str(d_prime))\n",
    "        print();print()\n",
    "        \n",
    "        labels.append(str(p))\n",
    "        \n",
    "    \n",
    "al = sb.scatterplot(x=fas,y=hits, marker='o',s=60)#color='grey')\n",
    "\n",
    "\n",
    "al.set_aspect('equal')\n",
    "x1 = 0; y1 = 0\n",
    "x2 = 1; y2 = 1\n",
    "    \n",
    "plt.axline((x1, y1), (x2, y2), color='grey')\n",
    "\n",
    "plt.xlabel('False Positive Rate',fontsize=20)\n",
    "plt.ylabel('True Positive Rate',fontsize=20)\n",
    "\n",
    "\n",
    "plt.show()\n",
    "\n",
    "al2 = sb.scatterplot(x=fas_2,y=hits_2, marker='o',s=60)#color='grey')\n",
    "\n",
    "\n",
    "al2.set_aspect('equal')\n",
    "x1 = 0; y1 = 0\n",
    "x2 = 1; y2 = 1\n",
    "    \n",
    "plt.axline((x1, y1), (x2, y2), color='grey')\n",
    "\n",
    "plt.xlabel('False Positive Rate',fontsize=20)\n",
    "plt.ylabel('True Positive Rate',fontsize=20)\n",
    "#plt.title('Videos with '+str(a)+'+ Blobs',fontsize=25)\n",
    "    \n",
    "# print('Red   - Subject 1')\n",
    "# print('Green - Subject 2')    \n",
    "    \n",
    "plt.show(); print()"
   ]
  },
  {
   "cell_type": "code",
   "execution_count": null,
   "id": "9398dd59",
   "metadata": {
    "scrolled": false
   },
   "outputs": [],
   "source": [
    "for a in range(6,15):\n",
    "    \n",
    "    hits = []; fas  = []; labels = []; green_x = []; green_y = []\n",
    "    \n",
    "    for p in new_gr['participant'].unique():\n",
    "        \n",
    "        #this_dat = gr[gr['blobs']>=a].groupby(['participant','response_type'],as_index=False).sum()#['participant'].unique()\n",
    "        \n",
    "        hit  = new_gr[(new_gr['blobs']>=a)&(new_gr['participant']==p)&(new_gr['response_type']=='Hit')].sum()['run']\n",
    "        miss = new_gr[(new_gr['blobs']>=a)&(new_gr['participant']==p)&(new_gr['response_type']=='Miss')].sum()['run']\n",
    "        \n",
    "        TPR = hit / (hit+miss)\n",
    "        hits.append(TPR)\n",
    "        \n",
    "        fa  = new_gr[(new_gr['blobs']>=a)&(new_gr['participant']==p)&(new_gr['response_type']=='False Alarm')].sum()['run']\n",
    "        cr  = new_gr[(new_gr['blobs']>=a)&(new_gr['participant']==p)&(new_gr['response_type']=='Correct Reject')].sum()['run']\n",
    "    \n",
    "        FPR = fa / (fa + cr)\n",
    "        fas.append(FPR)\n",
    "        \n",
    "        labels.append(str(p))\n",
    "        \n",
    "    \n",
    "    al = sb.scatterplot(x=fas,y=hits, marker='o',s=60, color = ['r','g','b','k'])#color='grey')\n",
    "    \n",
    "\n",
    "    al.set_aspect('equal')\n",
    "#     a.set_xlim(0,1)\n",
    "#     a.set_ylim(0,1)\n",
    "    x1 = 0; y1 = 0\n",
    "    x2 = 1; y2 = 1\n",
    "    # plt.plot(x1, y1, x2, y2, marker = 'o')\n",
    "        \n",
    "    plt.axline((x1, y1), (x2, y2), color='grey')\n",
    "\n",
    "    plt.xlabel('False Positive Rate',fontsize=20)\n",
    "    plt.ylabel('True Positive Rate',fontsize=20)\n",
    "    plt.title('Videos with '+str(a)+'+ Blobs',fontsize=25)\n",
    "\n",
    "\n",
    "    print('Red   - Subject 1')\n",
    "    print('Green - Subject 2')\n",
    "    print('Blue  - Subject 3')\n",
    "    print('Black - Subject 4')\n",
    "    plt.show(); print()"
   ]
  },
  {
   "cell_type": "code",
   "execution_count": null,
   "id": "97b89786",
   "metadata": {},
   "outputs": [],
   "source": [
    "for p in new_gr['participant'].unique():\n",
    "    \n",
    "    hits = []; fas  = []; labels = []; green_x = []; green_y = []\n",
    "    \n",
    "    for a in range(6,15):\n",
    "        \n",
    "        #this_dat = gr[gr['blobs']>=a].groupby(['participant','response_type'],as_index=False).sum()#['participant'].unique()\n",
    "        \n",
    "        hit  = new_gr[(new_gr['blobs']>=a)&(new_gr['participant']==p)&(new_gr['response_type']=='Hit')].sum()['run']\n",
    "        miss = new_gr[(new_gr['blobs']>=a)&(new_gr['participant']==p)&(new_gr['response_type']=='Miss')].sum()['run']\n",
    "        \n",
    "        TPR = hit / (hit+miss)\n",
    "        hits.append(TPR)\n",
    "        \n",
    "        fa  = new_gr[(new_gr['blobs']>=a)&(new_gr['participant']==p)&(new_gr['response_type']=='False Alarm')].sum()['run']\n",
    "        cr  = new_gr[(new_gr['blobs']>=a)&(new_gr['participant']==p)&(new_gr['response_type']=='Correct Reject')].sum()['run']\n",
    "    \n",
    "        FPR = fa / (fa + cr)\n",
    "        fas.append(FPR)\n",
    "        \n",
    "        labels.append(str(a))\n",
    "        \n",
    "        if a == 9 :\n",
    "            x_nine = FPR\n",
    "            y_nine = TPR\n",
    "            \n",
    "        if a == 10:\n",
    "            x_ten = FPR\n",
    "            y_ten = TPR\n",
    "            \n",
    "        if a == 11:\n",
    "            x_eleven = FPR\n",
    "            y_eleven = TPR\n",
    "            \n",
    "        if a == 12:\n",
    "            x_twelve = FPR\n",
    "            y_twelve = TPR\n",
    "        \n",
    "        if a == 13:\n",
    "            x_thirt = FPR\n",
    "            y_thirt = TPR\n",
    "    \n",
    "    \n",
    "    a = sb.scatterplot(x=fas,y=hits, label=labels)#color='grey')\n",
    "\n",
    "    a.set_aspect('equal')\n",
    "#     a.set_xlim(0,1)\n",
    "#     a.set_ylim(0,1)\n",
    "    x1 = 0; y1 = 0\n",
    "    x2 = 1; y2 = 1\n",
    "    # plt.plot(x1, y1, x2, y2, marker = 'o')\n",
    "    \n",
    "    \n",
    "    \n",
    "    for a,b,c in zip(fas,hits,labels):\n",
    "\n",
    "        d_prime = np.round(scipy.stats.norm.ppf(b)-scipy.stats.norm.ppf(a),2)\n",
    "        print()\n",
    "        \n",
    "        if d_prime > 0:\n",
    "            \n",
    "            # plt.text(x=a-.04, y=b-.08, s=str(d_prime),color='black')\n",
    "            \n",
    "            # then add this one to a list of dots to display in green\n",
    "            \n",
    "            green_x.append(a)\n",
    "            green_y.append(b)\n",
    "            \n",
    "#         else:\n",
    "#             plt.text(x=a-.07, y=b+.05, s=str(d_prime),color='black')\n",
    "\n",
    "#             if c in ['9','10','11','12','13','14'] and b>.6:\n",
    "#                 plt.text(x=a-.05, y=b+.05, s=str(c),color='black')\n",
    "     \n",
    "    for n,m in zip(green_x, green_y):\n",
    "        plt.plot(n, m, 'bo')\n",
    "        \n",
    "    plt.axline((x1, y1), (x2, y2), color='grey')\n",
    "    plt.plot(x_nine,   y_nine,'ro')\n",
    "    plt.plot(x_ten,    y_ten,'go')\n",
    "    plt.plot(x_eleven, y_eleven,'yo')\n",
    "    plt.plot(x_twelve, y_twelve,'ko')\n",
    "    plt.plot(x_twelve, y_thirt,'mo')\n",
    "    \n",
    "    plt.xlabel('False Positive Rate',fontsize=20)\n",
    "    plt.ylabel('True Positive Rate',fontsize=20)\n",
    "    plt.plot(x_nine,   y_nine,'ro')\n",
    "    \n",
    "    print('Blue   - positive d prime')\n",
    "    print('Red    - 9+ blobs')\n",
    "    print('Green  - 10+ blobs')\n",
    "    print('Yellow - 11+ blobs')\n",
    "    plt.show()"
   ]
  },
  {
   "cell_type": "code",
   "execution_count": null,
   "id": "4707c903",
   "metadata": {},
   "outputs": [],
   "source": [
    "a = sb.scatterplot(x=hits,y=fas)\n",
    "\n",
    "a.set_aspect('equal')\n",
    "a.set_xlim(0,156)\n",
    "a.set_ylim(0,156)\n",
    "x1 = 0; y1 = 0\n",
    "x2 = 1; y2 = 1\n",
    "# plt.plot(x1, y1, x2, y2, marker = 'o')\n",
    "plt.axline((x1, y1), (x2, y2), color='grey')"
   ]
  },
  {
   "cell_type": "code",
   "execution_count": null,
   "id": "ccf6ce11",
   "metadata": {},
   "outputs": [],
   "source": [
    "print(gr[(gr['blobs']<0)&(gr['response_type']=='Hit')].sum()['run']/gr[(gr['blobs']>0)&(gr['response_type']=='False Alarm')].sum()['run'])\n",
    "\n",
    "print(gr[(gr['blobs']<=7)&(gr['response_type']=='Hit')].sum()['run']/gr[(gr['blobs']>0)&(gr['response_type']=='False Alarm')].sum()['run'])\n",
    "\n",
    "print(gr[(gr['blobs']<=8)&(gr['response_type']=='Hit')].sum()['run']/gr[(gr['blobs']>0)&(gr['response_type']=='False Alarm')].sum()['run'])\n",
    "\n",
    "print(gr[(gr['blobs']<=9)&(gr['response_type']=='Hit')].sum()['run']/gr[(gr['blobs']>0)&(gr['response_type']=='False Alarm')].sum()['run'])\n",
    "\n",
    "print(gr[(gr['blobs']<=10)&(gr['response_type']=='Hit')].sum()['run']/gr[(gr['blobs']>0)&(gr['response_type']=='False Alarm')].sum()['run'])\n",
    "\n",
    "print(gr[(gr['blobs']<=11)&(gr['response_type']=='Hit')].sum()['run']/gr[(gr['blobs']>0)&(gr['response_type']=='False Alarm')].sum()['run'])\n",
    "\n",
    "print(gr[(gr['blobs']<=12)&(gr['response_type']=='Hit')].sum()['run']/gr[(gr['blobs']>0)&(gr['response_type']=='False Alarm')].sum()['run'])\n",
    "\n",
    "print(gr[(gr['blobs']<=13)&(gr['response_type']=='Hit')].sum()['run']/gr[(gr['blobs']>0)&(gr['response_type']=='False Alarm')].sum()['run'])\n",
    "\n",
    "print(gr[(gr['blobs']<=14)&(gr['response_type']=='Hit')].sum()['run']/gr[(gr['blobs']>0)&(gr['response_type']=='False Alarm')].sum()['run'])"
   ]
  },
  {
   "cell_type": "code",
   "execution_count": null,
   "id": "574a7863",
   "metadata": {},
   "outputs": [],
   "source": [
    "list(gr[gr['response_type'].isin(['Hit'])]['blobs'])"
   ]
  },
  {
   "cell_type": "code",
   "execution_count": null,
   "id": "fe69f2a8",
   "metadata": {},
   "outputs": [],
   "source": [
    "a = sb.barplot(x=gr[gr['response_type'].isin(['Hit'])]['blobs'],\n",
    "               y=gr[gr['response_type'].isin(['Hit'])]['run'],\n",
    "               color='grey')#,inner='point',color='orange')\n",
    "plt.show()\n",
    "\n",
    "b = sb.regplot(x='blobs',y='run',data=gr[gr['response_type'].isin([t])],color='k')\n",
    "plt.show()"
   ]
  },
  {
   "cell_type": "code",
   "execution_count": null,
   "id": "28b4c6f3",
   "metadata": {},
   "outputs": [],
   "source": [
    "for t in ['Hit','Correct Reject', 'Miss', 'False Alarm']:\n",
    "    \n",
    "    if t == 'Miss':\n",
    "        plural = \"es\"\n",
    "        \n",
    "    else:\n",
    "        plural = \"s\"\n",
    "        \n",
    "    print(t+plural+\" by number of attention blobs'\")\n",
    "    \n",
    "    a = sb.barplot(x='blobs',y='run',data=gr[gr['response_type'].isin([t])],color='grey')#,inner='point',color='orange')\n",
    "    a.set_ylabel('Average # of particpants')\n",
    "    plt.show()\n",
    "    \n",
    "    \n",
    "    b = sb.regplot(x='blobs',y='run',data=gr[gr['response_type'].isin([t])],color='k')\n",
    "    b.set_ylabel('Average # of particpants')\n",
    "    plt.show()"
   ]
  },
  {
   "cell_type": "code",
   "execution_count": null,
   "id": "77809219",
   "metadata": {},
   "outputs": [],
   "source": []
  },
  {
   "cell_type": "code",
   "execution_count": null,
   "id": "e67470e2",
   "metadata": {},
   "outputs": [],
   "source": [
    "# NOTE: we have to update our data manually if we want to include the zeros!\n",
    "\n",
    "\n",
    "strangers = []\n",
    "response_type = []\n",
    "\n",
    "for x in gr['moviestim']:\n",
    "    if gr[gr['moviestim']==x].shape[0]<2:\n",
    "        strangers.append(x)\n",
    "        \n",
    "        if gr[gr['moviestim']==x]['response_type'].unique()=='Hit':\n",
    "            response_type.append('Miss')\n",
    "        elif gr[gr['moviestim']==x]['response_type'].unique()=='Miss':\n",
    "            response_type.append('Hit')\n",
    "        elif gr[gr['moviestim']==x]['response_type'].unique()=='False Alarm':\n",
    "            response_type.append('Correct Reject')\n",
    "        elif gr[gr['moviestim']==x]['response_type'].unique()=='Correct Reject':\n",
    "            response_type.append('False Alarm')\n",
    "        \n",
    "m = list(gr[gr['moviestim'].isin(strangers)]['moviestim'])\n",
    "\n",
    "add_df = pd.DataFrame({'moviestim': m, 'response_type': response_type, 'run':[0]*len(m)})\n",
    "c = pd.concat([add_df,df])\n",
    "c"
   ]
  },
  {
   "cell_type": "code",
   "execution_count": null,
   "id": "060f1615",
   "metadata": {},
   "outputs": [],
   "source": [
    "gr['split'] = np.nan\n",
    "gr.loc[gr['blobs']<11,'split']='10 or less'\n",
    "gr.loc[gr['blobs']>=11,'split']='11 or more'\n",
    "\n",
    "for t in ['Hit','Correct Reject', 'Miss', 'False Alarm']:\n",
    "    \n",
    "    if t == 'Miss':\n",
    "        plural = \"es\"\n",
    "    else:\n",
    "        plural = \"s\"\n",
    "        \n",
    "    print(t+plural+\" by number of attention blobs'\")\n",
    "    \n",
    "    a = sb.barplot(x='split',y='run',data=gr[gr['response_type'].isin([t])])#,inner='point',color='orange')\n",
    "    plt.show()\n",
    "    \n",
    "#     b = sb.regplot(x='split',y='run',data=gr[gr['response_type'].isin([t])],color='k')\n",
    "#     plt.show()"
   ]
  },
  {
   "cell_type": "markdown",
   "id": "fec4f7ff",
   "metadata": {},
   "source": [
    "# Replace stimuli"
   ]
  },
  {
   "cell_type": "code",
   "execution_count": null,
   "id": "40928d5d",
   "metadata": {},
   "outputs": [],
   "source": [
    "df.columns #['participant'].unique()"
   ]
  },
  {
   "cell_type": "code",
   "execution_count": null,
   "id": "485dbaa3",
   "metadata": {},
   "outputs": [],
   "source": [
    "orig_videos = [x for x in list(df['moviestim'].unique()[1:]) if 'eridical' in x]"
   ]
  },
  {
   "cell_type": "code",
   "execution_count": null,
   "id": "bf022df8",
   "metadata": {},
   "outputs": [],
   "source": [
    "len(orig_videos)"
   ]
  },
  {
   "cell_type": "code",
   "execution_count": null,
   "id": "676759cb",
   "metadata": {},
   "outputs": [],
   "source": [
    "orig_videos"
   ]
  },
  {
   "cell_type": "code",
   "execution_count": null,
   "id": "4d569d90",
   "metadata": {},
   "outputs": [],
   "source": [
    "group = gr.groupby('moviestim',as_index=False).mean()\n",
    "\n",
    "eight_or_less      = group[group['blobs']<=8]\n",
    "greater_than_eight = group[group['blobs']>8]"
   ]
  },
  {
   "cell_type": "code",
   "execution_count": null,
   "id": "823fa140",
   "metadata": {},
   "outputs": [],
   "source": [
    "eight_or_less.to_csv('eight_or_less.csv')\n",
    "greater_than_eight.to_csv('greater_than_eight.csv')"
   ]
  },
  {
   "cell_type": "markdown",
   "id": "1a5efcbc",
   "metadata": {},
   "source": [
    "To enhance the signal in our neural data, we removed the 14 video pairs with the smallest number of attention blobs, (6, 7, or 8), replacing them them with videos with a high number of blobs (11 or more)."
   ]
  },
  {
   "cell_type": "code",
   "execution_count": null,
   "id": "fe2f4e9b",
   "metadata": {},
   "outputs": [],
   "source": [
    "greater_than_eight.head(n=2)"
   ]
  },
  {
   "cell_type": "code",
   "execution_count": null,
   "id": "b3289786",
   "metadata": {},
   "outputs": [],
   "source": [
    "group.head(n=2)"
   ]
  },
  {
   "cell_type": "markdown",
   "id": "a95fee82",
   "metadata": {},
   "source": [
    "### find the new videos"
   ]
  },
  {
   "cell_type": "markdown",
   "id": "7705292b",
   "metadata": {},
   "source": [
    "Obtain the number of videos from each unique viewer"
   ]
  },
  {
   "cell_type": "code",
   "execution_count": null,
   "id": "18aa3ae3",
   "metadata": {},
   "outputs": [],
   "source": [
    "# greater_than_eight['moviestim'].split('_')\n",
    "\n",
    "df['partial'] = df.moviestim.str.split('pp',expand=True)[1]\n",
    "df['viewer']  = df['partial'].str.split('_',expand=True)[0]\n",
    "\n",
    "viewer_count  = df[(df['participant']==4)&(df['type']=='veridical')].groupby('viewer',as_index=False).count()\n",
    "single_viewer = list(viewer_count[viewer_count['run']==1]['viewer'])\n",
    "double_viewer = list(viewer_count[viewer_count['run']==2]['viewer'])\n",
    "\n",
    "# df[(df['participant']==4)&(df['type']=='scrambled')]\n",
    "# df['jitters'].mean()"
   ]
  },
  {
   "cell_type": "code",
   "execution_count": null,
   "id": "882a4418",
   "metadata": {},
   "outputs": [],
   "source": [
    "len(double_viewer)+len(single_viewer)"
   ]
  },
  {
   "cell_type": "markdown",
   "id": "8cdb2a8a",
   "metadata": {},
   "source": [
    "Go through the videos with 11 blobs or more and randomly selects ones with viewers that are not on the double viewer list (print a statement if they are not also on the single viewer list) -- get ten more than we need, just in case"
   ]
  },
  {
   "cell_type": "code",
   "execution_count": null,
   "id": "e75d187a",
   "metadata": {},
   "outputs": [],
   "source": [
    "eleven_plus = [x for x in os.listdir('/Users/kirstenziman/Desktop/predicting_attention/stimuli/experiments_1_and_2/11_plus_all/') if 'veridical' in x and 'mp4' in x]"
   ]
  },
  {
   "cell_type": "code",
   "execution_count": null,
   "id": "4af25b8a",
   "metadata": {},
   "outputs": [],
   "source": [
    "'pp'+'97' in elev"
   ]
  },
  {
   "cell_type": "code",
   "execution_count": null,
   "id": "ed877855",
   "metadata": {},
   "outputs": [],
   "source": [
    "eleven_view_filt = []\n",
    "\n",
    "for elev in eleven_plus:\n",
    "    \n",
    "    m = 0\n",
    "    \n",
    "    for dv in double_viewer:\n",
    "        if 'pp'+dv in elev:\n",
    "            #print('got one')\n",
    "            m =1\n",
    "            \n",
    "    if m == 0:\n",
    "        eleven_view_filt.append(elev)\n",
    "    \n",
    "print(len(eleven_view_filt))"
   ]
  },
  {
   "cell_type": "code",
   "execution_count": null,
   "id": "7f1b7649",
   "metadata": {},
   "outputs": [],
   "source": [
    "#eleven_plus"
   ]
  },
  {
   "cell_type": "markdown",
   "id": "3dcea630",
   "metadata": {},
   "source": [
    "Check that each video does not also contain an image already present in the dataset\n",
    "\n",
    "For any videos that have images already present, remove it"
   ]
  },
  {
   "cell_type": "code",
   "execution_count": null,
   "id": "fb85fa78",
   "metadata": {},
   "outputs": [],
   "source": [
    "ep = pd.DataFrame(eleven_view_filt)\n",
    "eleven_filt_images = ep[0].str.split('_',expand=True)[0]\n",
    "existing_images = group[group['blobs']>8]['moviestim'].str.split('_',expand=True)[3]\n",
    "\n",
    "full_eleven_filter = []\n",
    "list_it = []\n",
    "\n",
    "# for each 11+ image\n",
    "for idx,f in enumerate(eleven_filt_images):\n",
    "    m = 0\n",
    "    \n",
    "    # if it is already in the stim set anywhere\n",
    "    for y in existing_images:\n",
    "        if f in y:\n",
    "            \n",
    "            # change value of m\n",
    "            m =1\n",
    "    \n",
    "    # if it is not in the stim set (m unchanged)\n",
    "    if m ==0:\n",
    "        \n",
    "        # add it to out full_filter list\n",
    "        full_eleven_filter.append(f)\n",
    "        \n",
    "        # also add its index ot our index list\n",
    "        list_it.append(idx)"
   ]
  },
  {
   "cell_type": "code",
   "execution_count": null,
   "id": "54ad40d5",
   "metadata": {},
   "outputs": [],
   "source": [
    "# now we can get the ones we want from ep dataframe using the index\n",
    "ep.iloc[list_it]\n"
   ]
  },
  {
   "cell_type": "markdown",
   "id": "229ff13e",
   "metadata": {},
   "source": [
    "if there are enough videos left, randomly select 20 pairs (14 needed)"
   ]
  },
  {
   "cell_type": "code",
   "execution_count": null,
   "id": "7539e1bb",
   "metadata": {},
   "outputs": [],
   "source": [
    "import random\n",
    "random.seed(10)\n",
    "videos = random.sample(list(ep.iloc[list_it][0]),20)\n",
    "videos"
   ]
  },
  {
   "cell_type": "markdown",
   "id": "5931e0fd",
   "metadata": {},
   "source": [
    "save this video list and copy these videos into a separate folder"
   ]
  },
  {
   "cell_type": "code",
   "execution_count": null,
   "id": "0559783f",
   "metadata": {},
   "outputs": [],
   "source": [
    "new_stim = pd.DataFrame(videos)\n",
    "new_stim.to_csv('new_eleven_videos.csv')"
   ]
  },
  {
   "cell_type": "code",
   "execution_count": null,
   "id": "ffe1db91",
   "metadata": {},
   "outputs": [],
   "source": [
    "list(new_stim[0])"
   ]
  },
  {
   "cell_type": "code",
   "execution_count": null,
   "id": "9106a75d",
   "metadata": {},
   "outputs": [],
   "source": [
    "src.replace('veridical', 'scrambled', 1)"
   ]
  },
  {
   "cell_type": "code",
   "execution_count": null,
   "id": "abd58dab",
   "metadata": {},
   "outputs": [],
   "source": [
    "import shutil\n",
    "\n",
    "elev_path = '/Users/kirstenziman/Desktop/predicting_attention/stimuli/experiments_1_and_2/11_plus_all/'\n",
    "\n",
    "for i,row in new_stim.iterrows():\n",
    "    src = elev_path+row[0]\n",
    "    print(src)\n",
    "    print()\n",
    "    if 'csv' not in src:\n",
    "        shutil.copy(src, 'eleven_filtered')\n",
    "        scram = src.replace('veridical', 'scrambled', 1)\n",
    "        shutil.copy(scram, 'eleven_filtered')"
   ]
  },
  {
   "cell_type": "markdown",
   "id": "44870ef6",
   "metadata": {},
   "source": [
    "finally:\n",
    "- run them through the \"check for blinks\" notebook \n",
    "- do a visual check :)\n",
    "- if there are still extras, randomly select 14"
   ]
  },
  {
   "cell_type": "code",
   "execution_count": null,
   "id": "d2501932",
   "metadata": {},
   "outputs": [],
   "source": [
    "len([x for x in os.listdir('.') if 'mp4' in x])"
   ]
  },
  {
   "cell_type": "code",
   "execution_count": null,
   "id": "b59946d4",
   "metadata": {},
   "outputs": [],
   "source": []
  },
  {
   "cell_type": "code",
   "execution_count": null,
   "id": "14e7bbd5",
   "metadata": {},
   "outputs": [],
   "source": []
  },
  {
   "cell_type": "code",
   "execution_count": null,
   "id": "ac73dc60",
   "metadata": {},
   "outputs": [],
   "source": [
    "sb.barplot(x='blobs',y='run',hue='response_type',data=gr[gr['response_type'].isin(['Hit','Correct Reject'])])"
   ]
  },
  {
   "cell_type": "markdown",
   "id": "657dec64",
   "metadata": {},
   "source": [
    "## Make stimulus timing files for button presses"
   ]
  },
  {
   "cell_type": "code",
   "execution_count": null,
   "id": "db3e9655",
   "metadata": {},
   "outputs": [],
   "source": [
    "df[~df['key_resp_9.rt'].isna()].head(n=2)"
   ]
  },
  {
   "cell_type": "code",
   "execution_count": null,
   "id": "045df2fd",
   "metadata": {},
   "outputs": [],
   "source": [
    "# import the log files\n",
    "log_files = [x for x in os.listdir('/Users/kirstenziman/Documents/predicting_attention_MRI/MRI_pilot/task/MRI_behavioral/') if '.csv' in x]\n",
    "\n",
    "# concatenate big dataframe with the data\n",
    "df = pd.concat([pd.read_csv('/Users/kirstenziman/Documents/predicting_attention_MRI/MRI_pilot/task/MRI_behavioral/'+x) for x in log_files])\n",
    "\n",
    "# groupby participant and run #\n",
    "df.groupby(['participant','session'],as_index=False).mean()\n",
    "\n",
    "# calculate the videoduration\n",
    "# NOTE: these timesare super weird, need to chech if the MRI machine is dropping frames or what the heck is going on\n",
    "df['video_duration'] = df['text_15.started'] - df['movie.started'] \n",
    "\n",
    "# plot recorded video times\n",
    "sb.histplot(df['video_duration'])"
   ]
  },
  {
   "cell_type": "code",
   "execution_count": null,
   "id": "059626ec",
   "metadata": {},
   "outputs": [],
   "source": [
    "# make columnswith start times for each button press\n",
    "df['key_rt'] = np.nan\n",
    "df.loc[~df['key_resp_9.rt'].isna(),'key_rt'] = [ast.literal_eval(x)[0] for x in df[~df['key_resp_9.rt'].isna()]['key_resp_9.rt']]\n",
    "df['button_start_scan'] = df['start_time'] + df['video_duration'] + df['key_rt']\n",
    "\n",
    "\n",
    "# save them out to separate .1D files\n",
    "for sub in df['participant'].unique():\n",
    "    new_df={}\n",
    "    for sess in [1.0,2.0,3.0,4.0,5.0,6.0]:\n",
    "        new_df[sess]=df[(df['participant']==sub)&(df['session']==sess)\n",
    "           &(~df['button_start_scan'].isna())]['button_start_scan']\n",
    "    print('-----------------------------')    \n",
    "    print(sub)\n",
    "    print('-----------------------------')\n",
    "    print(pd.DataFrame(new_df).T)\n",
    "    pd.DataFrame(new_df).T.to_csv(str(sub)+'.1D',index=False, header=False)\n",
    "    print('+++++++++++++++++++++++++++++')"
   ]
  },
  {
   "cell_type": "code",
   "execution_count": null,
   "id": "dd132745",
   "metadata": {},
   "outputs": [],
   "source": [
    "pd.DataFrame(new_df).T"
   ]
  },
  {
   "cell_type": "code",
   "execution_count": null,
   "id": "f272ded2",
   "metadata": {},
   "outputs": [],
   "source": [
    "# df[~(df['key_resp_9.rt'].isna())]['key_rt']\n",
    "\n",
    "# f = [ast.literal_eval(x)[0] for x in df[~df['key_resp_9.rt'].isna()]['key_resp_9.rt']]\n",
    "# f"
   ]
  },
  {
   "cell_type": "code",
   "execution_count": null,
   "id": "bd322738",
   "metadata": {},
   "outputs": [],
   "source": [
    "# df['button_start_scan'] = df['start_time'] + df['video_duration'] + df['key_rt']\n",
    "# df['button_start_scan']"
   ]
  },
  {
   "cell_type": "code",
   "execution_count": null,
   "id": "f5470c05",
   "metadata": {},
   "outputs": [],
   "source": [
    "# log_files[0]"
   ]
  },
  {
   "cell_type": "code",
   "execution_count": null,
   "id": "2f63e559",
   "metadata": {},
   "outputs": [],
   "source": [
    "# pd.read_csv('/Users/kirstenziman/Documents/predicting_attention_MRI/MRI_pilot/task/MRI_behavioral/'+log_files[0])"
   ]
  },
  {
   "cell_type": "code",
   "execution_count": null,
   "id": "00940fa3",
   "metadata": {},
   "outputs": [],
   "source": [
    "# log = pd.read_csv('/Users/kirstenziman/Documents/predicting_attention_MRI/MRI_pilot/task/MRI_behavioral/002_run_1_2023-06-20_11h05.43.260.log',\n",
    "#                  delimiter='\\t', header=None, names = ['Time','Event','Info'])\n",
    "                  \n",
    "# start_time = list(log[(log['Info'].str.contains('Keypress: equal'))]['Time'])[0]       \n",
    "\n",
    "# #log['time_adjusted'] = log['time']-start_time\n",
    "                  \n",
    "# #log[(log['Info'].str.contains('Keypress'))&~(log['Info'].str.contains('equal'))]\n",
    "\n",
    "# start_time"
   ]
  },
  {
   "cell_type": "code",
   "execution_count": null,
   "id": "23b5da03",
   "metadata": {},
   "outputs": [],
   "source": [
    "# start_time = list(log[(log['Info'].str.contains('Keypress: equal'))]['Time'])[0]"
   ]
  },
  {
   "cell_type": "code",
   "execution_count": null,
   "id": "ccdb2faf",
   "metadata": {},
   "outputs": [],
   "source": [
    "# start_time"
   ]
  },
  {
   "cell_type": "code",
   "execution_count": null,
   "id": "244c8e13",
   "metadata": {},
   "outputs": [],
   "source": [
    "# log['Time']-start_time"
   ]
  },
  {
   "cell_type": "code",
   "execution_count": null,
   "id": "c35507be",
   "metadata": {},
   "outputs": [],
   "source": [
    "# os.listdir('/Users/kirstenziman/Documents/predicting_attention_MRI/MRI_pilot/task/STIM_SET_1_144/')"
   ]
  },
  {
   "cell_type": "markdown",
   "id": "c43c8f9b",
   "metadata": {},
   "source": [
    "# CODE EXTRAS"
   ]
  },
  {
   "cell_type": "code",
   "execution_count": null,
   "id": "10a1ca3a",
   "metadata": {},
   "outputs": [],
   "source": [
    "# testdf = data_list[3].groupby(\"response_type\").count()['run']\n",
    "# testdf = testdf.to_frame()\n",
    "# testdf.iat[3,0]"
   ]
  },
  {
   "cell_type": "code",
   "execution_count": null,
   "id": "7b13cf01",
   "metadata": {},
   "outputs": [],
   "source": [
    "data = {'Participant': [1,2,3],\n",
    "       'Number_Correct': [0,0,0], \n",
    "       'Number_Missed': [0,0,0],\n",
    "       'Correct_rejections': [0,0,0],\n",
    "       'False_alarms': [0,0,0]}\n",
    "newdf = pd.DataFrame(data)\n",
    "secdf = pd.DataFrame()\n",
    "participant_num = [1,2,3]\n",
    "\n",
    "for x in participant_num:\n",
    "    for y in data_list:\n",
    "        part_num = y.iloc[0]['participant']\n",
    "        if x == part_num:\n",
    "            secdf = y.groupby('response_type').count()['run'].to_frame()\n",
    "            newdf.iloc[x-1]['Number_Correct'] = newdf.iloc[x-1]['Number_Correct'] + secdf.iat[1,0]\n",
    "            newdf.iloc[x-1]['Number_Missed'] = newdf.iloc[x-1]['Number_Missed'] + secdf.iat[0,0]\n",
    "            newdf.iloc[x-1]['Correct_rejections'] = newdf.iloc[x-1]['Correct_rejections'] + secdf.iat[2,0]\n",
    "            newdf.iloc[x-1]['False_alarms'] = newdf.iloc[x-1]['False_alarms'] + secdf.iat[2,0]\n",
    "            \n",
    "newdf['sum_correct'] = newdf['Number_Correct'] + newdf['Correct_rejections']\n",
    "arr = np.array(newdf['sum_correct'])\n",
    "res = np.divide(arr, 120)\n",
    "newdf['proportion_correct'] = res \n",
    "newdf"
   ]
  },
  {
   "cell_type": "code",
   "execution_count": null,
   "id": "e8c87cd8",
   "metadata": {},
   "outputs": [],
   "source": [
    "df.groupby(['moviestim','response_type'],as_index=True).count()"
   ]
  },
  {
   "cell_type": "code",
   "execution_count": null,
   "id": "6d4cf7f9",
   "metadata": {},
   "outputs": [],
   "source": [
    "df"
   ]
  },
  {
   "cell_type": "code",
   "execution_count": null,
   "id": "371320f6",
   "metadata": {},
   "outputs": [],
   "source": []
  },
  {
   "cell_type": "code",
   "execution_count": null,
   "id": "0335d0c3",
   "metadata": {},
   "outputs": [],
   "source": []
  },
  {
   "cell_type": "code",
   "execution_count": null,
   "id": "05b40977",
   "metadata": {},
   "outputs": [],
   "source": []
  },
  {
   "cell_type": "code",
   "execution_count": null,
   "id": "2aea6a0f",
   "metadata": {},
   "outputs": [],
   "source": []
  },
  {
   "cell_type": "code",
   "execution_count": null,
   "id": "708efb42",
   "metadata": {},
   "outputs": [],
   "source": []
  },
  {
   "cell_type": "code",
   "execution_count": null,
   "id": "f51d0539",
   "metadata": {},
   "outputs": [],
   "source": []
  },
  {
   "cell_type": "code",
   "execution_count": null,
   "id": "dcbbd3b4",
   "metadata": {},
   "outputs": [],
   "source": []
  },
  {
   "cell_type": "code",
   "execution_count": null,
   "id": "3a85c963",
   "metadata": {},
   "outputs": [],
   "source": []
  },
  {
   "cell_type": "code",
   "execution_count": null,
   "id": "f201f8e3",
   "metadata": {},
   "outputs": [],
   "source": []
  },
  {
   "cell_type": "code",
   "execution_count": null,
   "id": "4125e53b",
   "metadata": {},
   "outputs": [],
   "source": []
  },
  {
   "cell_type": "code",
   "execution_count": null,
   "id": "29f6bc96",
   "metadata": {},
   "outputs": [],
   "source": []
  },
  {
   "cell_type": "code",
   "execution_count": null,
   "id": "890ee75d",
   "metadata": {},
   "outputs": [],
   "source": []
  },
  {
   "cell_type": "code",
   "execution_count": null,
   "id": "c3f78213",
   "metadata": {},
   "outputs": [],
   "source": []
  },
  {
   "cell_type": "code",
   "execution_count": null,
   "id": "7139b194",
   "metadata": {},
   "outputs": [],
   "source": []
  },
  {
   "cell_type": "code",
   "execution_count": null,
   "id": "3e6ef697",
   "metadata": {},
   "outputs": [],
   "source": []
  },
  {
   "cell_type": "code",
   "execution_count": null,
   "id": "fec24c93",
   "metadata": {},
   "outputs": [],
   "source": []
  },
  {
   "cell_type": "code",
   "execution_count": null,
   "id": "68fca0b0",
   "metadata": {},
   "outputs": [],
   "source": []
  },
  {
   "cell_type": "code",
   "execution_count": null,
   "id": "caa99e0a",
   "metadata": {},
   "outputs": [],
   "source": []
  },
  {
   "cell_type": "code",
   "execution_count": null,
   "id": "95a4dc0b",
   "metadata": {},
   "outputs": [],
   "source": []
  },
  {
   "cell_type": "code",
   "execution_count": null,
   "id": "7847253e",
   "metadata": {},
   "outputs": [],
   "source": []
  },
  {
   "cell_type": "code",
   "execution_count": null,
   "id": "bc0328a5",
   "metadata": {},
   "outputs": [],
   "source": []
  },
  {
   "cell_type": "code",
   "execution_count": null,
   "id": "ac871f48",
   "metadata": {},
   "outputs": [],
   "source": []
  },
  {
   "cell_type": "code",
   "execution_count": null,
   "id": "d57249c2",
   "metadata": {},
   "outputs": [],
   "source": []
  },
  {
   "cell_type": "code",
   "execution_count": null,
   "id": "baade076",
   "metadata": {},
   "outputs": [],
   "source": []
  },
  {
   "cell_type": "code",
   "execution_count": null,
   "id": "ca84b0a3",
   "metadata": {},
   "outputs": [],
   "source": []
  },
  {
   "cell_type": "code",
   "execution_count": null,
   "id": "ee3ec664",
   "metadata": {},
   "outputs": [],
   "source": []
  },
  {
   "cell_type": "code",
   "execution_count": null,
   "id": "9475baa1",
   "metadata": {},
   "outputs": [],
   "source": []
  },
  {
   "cell_type": "code",
   "execution_count": null,
   "id": "17fe94fc",
   "metadata": {},
   "outputs": [],
   "source": []
  },
  {
   "cell_type": "code",
   "execution_count": null,
   "id": "8c835100",
   "metadata": {},
   "outputs": [],
   "source": []
  }
 ],
 "metadata": {
  "kernelspec": {
   "display_name": "Python 3 (ipykernel)",
   "language": "python",
   "name": "python3"
  },
  "language_info": {
   "codemirror_mode": {
    "name": "ipython",
    "version": 3
   },
   "file_extension": ".py",
   "mimetype": "text/x-python",
   "name": "python",
   "nbconvert_exporter": "python",
   "pygments_lexer": "ipython3",
   "version": "3.11.4"
  }
 },
 "nbformat": 4,
 "nbformat_minor": 5
}
