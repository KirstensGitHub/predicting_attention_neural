{
 "cells": [
  {
   "cell_type": "markdown",
   "id": "b46e812b",
   "metadata": {},
   "source": [
    "### Import packages"
   ]
  },
  {
   "cell_type": "code",
   "execution_count": 4,
   "id": "ebd3f0ae",
   "metadata": {},
   "outputs": [],
   "source": [
    "import pandas as pd\n",
    "import os\n",
    "import numpy as np\n",
    "import seaborn as sb\n",
    "import scipy.stats as stats\n",
    "import scipy\n",
    "import ast\n",
    "import warnings\n",
    "import pylab\n",
    "import matplotlib.pyplot as plt\n",
    "import math\n",
    "import pingouin as pg\n",
    "\n",
    "warnings.filterwarnings('ignore')"
   ]
  },
  {
   "cell_type": "code",
   "execution_count": 5,
   "id": "a25e7b8a",
   "metadata": {},
   "outputs": [],
   "source": [
    "path = 'behavioral_data'"
   ]
  },
  {
   "cell_type": "markdown",
   "id": "5e2c970e",
   "metadata": {},
   "source": [
    "### Load data about which runs and files to ignore"
   ]
  },
  {
   "cell_type": "code",
   "execution_count": 6,
   "id": "04ad572f",
   "metadata": {},
   "outputs": [],
   "source": [
    "# first, read in the runs and run files we need to ignore\n",
    "\n",
    "exclude_file    = [ x for x in os.listdir('.') if 'exclude' in x   ]\n",
    "disregard_files = [ x for x in os.listdir('.') if 'disregard' in x ]\n",
    "disregard_dfs   = [ pd.read_csv(x).T for x in disregard_files ]"
   ]
  },
  {
   "cell_type": "code",
   "execution_count": 7,
   "id": "d2bad97a",
   "metadata": {},
   "outputs": [
    {
     "data": {
      "text/plain": [
       "[                     0                                                  1\n",
       " Unnamed: 0     subject                                               file\n",
       " 0           subject_12  behavioral_data/subject_12/subject_12_run_1_20...,\n",
       "                     0                                                  1\n",
       " Unnamed: 0    subject                                               file\n",
       " 1           subject_4  behavioral_data/subject_4/subject_4c_run_1_202...,\n",
       "                      0                                                  1\n",
       " Unnamed: 0     subject                                               file\n",
       " 2           subject_20  behavioral_data/subject_20/subjec_20b_run_1_20...]"
      ]
     },
     "execution_count": 7,
     "metadata": {},
     "output_type": "execute_result"
    }
   ],
   "source": [
    "disregard_dfs"
   ]
  },
  {
   "cell_type": "code",
   "execution_count": 8,
   "id": "1ef1f03c",
   "metadata": {},
   "outputs": [
    {
     "data": {
      "text/html": [
       "<div>\n",
       "<style scoped>\n",
       "    .dataframe tbody tr th:only-of-type {\n",
       "        vertical-align: middle;\n",
       "    }\n",
       "\n",
       "    .dataframe tbody tr th {\n",
       "        vertical-align: top;\n",
       "    }\n",
       "\n",
       "    .dataframe thead th {\n",
       "        text-align: right;\n",
       "    }\n",
       "</style>\n",
       "<table border=\"1\" class=\"dataframe\">\n",
       "  <thead>\n",
       "    <tr style=\"text-align: right;\">\n",
       "      <th></th>\n",
       "      <th>Unnamed: 0</th>\n",
       "      <th>run</th>\n",
       "      <th>moviestim</th>\n",
       "      <th>subject</th>\n",
       "    </tr>\n",
       "  </thead>\n",
       "  <tbody>\n",
       "    <tr>\n",
       "      <th>0</th>\n",
       "      <td>1</td>\n",
       "      <td>2.0</td>\n",
       "      <td>8</td>\n",
       "      <td>behavioral_data/subject_21</td>\n",
       "    </tr>\n",
       "    <tr>\n",
       "      <th>1</th>\n",
       "      <td>2</td>\n",
       "      <td>3.0</td>\n",
       "      <td>15</td>\n",
       "      <td>behavioral_data/subject_21</td>\n",
       "    </tr>\n",
       "    <tr>\n",
       "      <th>2</th>\n",
       "      <td>3</td>\n",
       "      <td>4.0</td>\n",
       "      <td>11</td>\n",
       "      <td>behavioral_data/subject_21</td>\n",
       "    </tr>\n",
       "  </tbody>\n",
       "</table>\n",
       "</div>"
      ],
      "text/plain": [
       "   Unnamed: 0  run  moviestim                     subject\n",
       "0           1  2.0          8  behavioral_data/subject_21\n",
       "1           2  3.0         15  behavioral_data/subject_21\n",
       "2           3  4.0         11  behavioral_data/subject_21"
      ]
     },
     "execution_count": 8,
     "metadata": {},
     "output_type": "execute_result"
    }
   ],
   "source": [
    "pd.read_csv(exclude_file[0])"
   ]
  },
  {
   "cell_type": "code",
   "execution_count": 9,
   "id": "96e67fe2",
   "metadata": {},
   "outputs": [
    {
     "data": {
      "text/plain": [
       "array(['subject', 'subject_12', 'subject_4', 'subject_20'], dtype=object)"
      ]
     },
     "execution_count": 9,
     "metadata": {},
     "output_type": "execute_result"
    }
   ],
   "source": [
    "disregard_subs = pd.concat(disregard_dfs)[0].unique()\n",
    "disregard_subs"
   ]
  },
  {
   "cell_type": "code",
   "execution_count": 10,
   "id": "ae07fe74",
   "metadata": {},
   "outputs": [
    {
     "data": {
      "text/plain": [
       "array(['file',\n",
       "       'behavioral_data/subject_12/subject_12_run_1_2023-09-01_14h48.28.289.log',\n",
       "       'behavioral_data/subject_4/subject_4c_run_1_2023-08-24_13h14.00.218.log',\n",
       "       'behavioral_data/subject_20/subjec_20b_run_1_2023-11-02_17h48.21.836.log'],\n",
       "      dtype=object)"
      ]
     },
     "execution_count": 10,
     "metadata": {},
     "output_type": "execute_result"
    }
   ],
   "source": [
    "disregard_logs = pd.concat(disregard_dfs)[1].unique()\n",
    "disregard_logs"
   ]
  },
  {
   "cell_type": "code",
   "execution_count": 11,
   "id": "ed407a67",
   "metadata": {},
   "outputs": [
    {
     "data": {
      "text/plain": [
       "['.csv',\n",
       " 'behavioral_data/subject_12/subject_12_run_1_2023-09-01_14h48.28.289.csv',\n",
       " 'behavioral_data/subject_4/subject_4c_run_1_2023-08-24_13h14.00.218.csv',\n",
       " 'behavioral_data/subject_20/subjec_20b_run_1_2023-11-02_17h48.21.836.csv']"
      ]
     },
     "execution_count": 11,
     "metadata": {},
     "output_type": "execute_result"
    }
   ],
   "source": [
    "disregard_csvs = [ x[:-4]+'.csv' for x in disregard_logs ]\n",
    "disregard_csvs"
   ]
  },
  {
   "cell_type": "code",
   "execution_count": 12,
   "id": "aebc1993",
   "metadata": {},
   "outputs": [],
   "source": [
    "extra_runs = ['behavioral_data/subject_1/sub_1_run_1_2023-08-18_12h17.09.696.csv',\n",
    "              'behavioral_data/subject_12/subject_12_run_1_2023-09-01_15h08.30.551.csv'\n",
    "             ]"
   ]
  },
  {
   "cell_type": "markdown",
   "id": "5144a667",
   "metadata": {},
   "source": [
    "### Define Functions"
   ]
  },
  {
   "cell_type": "code",
   "execution_count": 13,
   "id": "a3d93b36",
   "metadata": {},
   "outputs": [],
   "source": [
    "def add_type(data):\n",
    "    # Organize scores\n",
    "    data['response_type'] = np.nan\n",
    "    data['response_value'] = np.nan\n",
    "\n",
    "    # Handle cases with two responses\n",
    "    if data.loc[data['key_resp_9.keys'].str.contains(',', na=False), 'key_resp_9.keys'].shape[0] > 0:\n",
    "        data.loc[data['key_resp_9.keys'].str.contains(',', na=False), 'key_resp_9.keys'] = data['key_resp_9.keys'].str.split(',').str[0]\n",
    "\n",
    "    # Assign response_value based on 'key_resp_9.keys'\n",
    "    data['response_value'] = data['key_resp_9.keys'].str[2]\n",
    "\n",
    "    # Set response_type based on conditions\n",
    "    data.loc[(data['response_value'] == '1') & (data['type'].str.contains('veridical', na=False)), 'response_type'] = 'Hit'\n",
    "    data.loc[(data['response_value'] == '1') & (data['type'].str.contains('scrambled', na=False)), 'response_type'] = 'False Alarm'\n",
    "    data.loc[(data['response_value'] == '2') & (data['type'].str.contains('veridical', na=False)), 'response_type'] = 'Miss'\n",
    "    data.loc[(data['response_value'] == '2') & (data['type'].str.contains('scrambled', na=False)), 'response_type'] = 'Correct Reject'\n",
    "\n",
    "    # Handle unanswered responses\n",
    "    data['unanswered'] = data['key_resp_9.keys'].isna() | data['key_resp_9.keys'].str.contains('None', na=False)\n",
    "    \n",
    "    return data"
   ]
  },
  {
   "cell_type": "markdown",
   "id": "a4e24bdd",
   "metadata": {},
   "source": [
    "### Compile data"
   ]
  },
  {
   "cell_type": "code",
   "execution_count": 14,
   "id": "f1be27b6",
   "metadata": {},
   "outputs": [],
   "source": [
    "# Initialize the list of dataframes\n",
    "data_dfs = []\n",
    "\n",
    "# Define your path\n",
    "base_path = 'behavioral_data'\n",
    "\n",
    "# Iterate over each subject in the behavioral_data directory\n",
    "for sub in os.listdir(base_path):\n",
    "    # Check if the folder is a subject and not the excluded subject\n",
    "    if sub != 'subject_17' and sub.startswith('subject_'):\n",
    "        # Full path to the subject's directory\n",
    "        sub_dir = os.path.join(base_path, sub)\n",
    "        \n",
    "        # List all csv files in the current subject's directory\n",
    "        csvs = [\n",
    "            os.path.join(sub_dir, x) for x in os.listdir(sub_dir)\n",
    "            if x.endswith('.csv')\n",
    "            and os.path.join(sub_dir, x) not in disregard_csvs\n",
    "            and os.path.join(sub_dir, x) not in extra_runs\n",
    "        ]\n",
    "        \n",
    "        # Read them as dataframes and add to data_dfs\n",
    "        for csv_file in csvs:\n",
    "            try:\n",
    "                df = pd.read_csv(csv_file)\n",
    "                df = add_type(df)  \n",
    "                data_dfs.append(df)\n",
    "            except Exception as e:\n",
    "                print(f\"Error reading {csv_file}: {e}\")"
   ]
  },
  {
   "cell_type": "code",
   "execution_count": 15,
   "id": "001225e9",
   "metadata": {},
   "outputs": [
    {
     "name": "stdout",
     "output_type": "stream",
     "text": [
      "Number of unique participants: 22\n"
     ]
    }
   ],
   "source": [
    "# Combine all dataframes into one dataframe\n",
    "new_data = pd.concat(data_dfs, ignore_index=True)\n",
    "\n",
    "# Correct participant labels\n",
    "new_data.loc[new_data['participant'] == 'subject_16c3', 'participant'] = 'subject_16c'\n",
    "\n",
    "# Exclude runs 2, 3, 4 for subject_21 and remove any rows where run is NaN\n",
    "new_data = new_data[~((new_data['participant'] == 'subject_21') & (new_data['run'].isin([2, 3, 4])))]\n",
    "new_data = new_data[~new_data['run'].isna()]\n",
    "\n",
    "unique_participants = new_data[~new_data['participant'].isna()]['participant'].unique()\n",
    "print(f\"Number of unique participants: {len(unique_participants)}\")"
   ]
  },
  {
   "cell_type": "code",
   "execution_count": 16,
   "id": "4adc8de8",
   "metadata": {},
   "outputs": [
    {
     "name": "stdout",
     "output_type": "stream",
     "text": [
      "   participant  run   response_type      Video Type Participant Judgement  \\\n",
      "1   subject_12  4.0  Correct Reject  Fake Attention           Judged Fake   \n",
      "2   subject_12  4.0  Correct Reject  Fake Attention           Judged Fake   \n",
      "3   subject_12  4.0     False Alarm  Fake Attention           Judged Real   \n",
      "4   subject_12  4.0             Hit  Real Attention           Judged Real   \n",
      "5   subject_12  4.0             Hit  Real Attention           Judged Real   \n",
      "6   subject_12  4.0            Miss  Real Attention           Judged Fake   \n",
      "7   subject_12  4.0             Hit  Real Attention           Judged Real   \n",
      "8   subject_12  4.0  Correct Reject  Fake Attention           Judged Fake   \n",
      "9   subject_12  4.0             Hit  Real Attention           Judged Real   \n",
      "10  subject_12  4.0     False Alarm  Fake Attention           Judged Real   \n",
      "\n",
      "   Judged Correctly  \n",
      "1           Correct  \n",
      "2           Correct  \n",
      "3             Wrong  \n",
      "4           Correct  \n",
      "5           Correct  \n",
      "6             Wrong  \n",
      "7           Correct  \n",
      "8           Correct  \n",
      "9           Correct  \n",
      "10            Wrong  \n"
     ]
    }
   ],
   "source": [
    "# Initialize 'Video Type' and related columns if they don't already exist\n",
    "if 'Video Type' not in new_data.columns:\n",
    "    new_data['Video Type'] = np.nan\n",
    "if 'Participant Judgement' not in new_data.columns:\n",
    "    new_data['Participant Judgement'] = np.nan\n",
    "if 'Judged Correctly' not in new_data.columns:\n",
    "    new_data['Judged Correctly'] = np.nan\n",
    "\n",
    "# Populate 'Video Type'\n",
    "new_data.loc[new_data['response_type'].isin(['Hit', 'Miss']), 'Video Type'] = 'Real Attention'\n",
    "new_data.loc[new_data['response_type'].isin(['False Alarm', 'Correct Reject']), 'Video Type'] = 'Fake Attention'\n",
    "\n",
    "# Populate 'Participant Judgement' and 'Judged Correctly'\n",
    "new_data.loc[new_data['response_type'].isin(['Hit', 'False Alarm']), 'Participant Judgement'] = 'Judged Real'\n",
    "new_data.loc[new_data['response_type'].isin(['Miss', 'Correct Reject']), 'Participant Judgement'] = 'Judged Fake'\n",
    "new_data.loc[new_data['response_type'].isin(['Hit', 'Correct Reject']), 'Judged Correctly'] = 'Correct'\n",
    "new_data.loc[new_data['response_type'].isin(['Miss', 'False Alarm']), 'Judged Correctly'] = 'Wrong'\n",
    "\n",
    "# Check the output after setting the columns\n",
    "print(new_data[['participant', 'run', 'response_type', 'Video Type', 'Participant Judgement', 'Judged Correctly']].head(10))"
   ]
  },
  {
   "cell_type": "code",
   "execution_count": 17,
   "id": "18f7fc0d",
   "metadata": {},
   "outputs": [],
   "source": [
    "new_data.to_csv(\"behavioral_data.csv\", index=False)"
   ]
  },
  {
   "cell_type": "code",
   "execution_count": 18,
   "id": "7a71e1b9",
   "metadata": {},
   "outputs": [
    {
     "data": {
      "text/plain": [
       "2580"
      ]
     },
     "execution_count": 18,
     "metadata": {},
     "output_type": "execute_result"
    }
   ],
   "source": [
    "new_data.shape[0]"
   ]
  },
  {
   "cell_type": "markdown",
   "id": "3d006e3b",
   "metadata": {},
   "source": [
    "### Percentage of trials where participants responded (not nan)"
   ]
  },
  {
   "cell_type": "code",
   "execution_count": 16,
   "id": "77960603",
   "metadata": {},
   "outputs": [
    {
     "data": {
      "text/plain": [
       "0.9737470167064439"
      ]
     },
     "execution_count": 16,
     "metadata": {},
     "output_type": "execute_result"
    }
   ],
   "source": [
    "1 - (new_data[new_data['response_type'].isna()].shape[0] / new_data[~new_data['response_type'].isna()].shape[0])\n"
   ]
  },
  {
   "cell_type": "markdown",
   "id": "e57e70de",
   "metadata": {},
   "source": [
    "### Calculate d-prime"
   ]
  },
  {
   "cell_type": "code",
   "execution_count": 26,
   "id": "34ae59ae",
   "metadata": {},
   "outputs": [],
   "source": [
    "def add_dprime(data):\n",
    "    '''\n",
    "    adds dprime column to dataframe with dprime values for each subject\n",
    "    '''\n",
    "    \n",
    "    # make new d-prime column in the data\n",
    "    data['dprime'] = np.nan\n",
    "    \n",
    "    # for each subject in the df:\n",
    "    for p in data['participant'].unique():\n",
    "    \n",
    "        # get the number of trials they responded to\n",
    "        responses = new_data[~(new_data['response_type'].isna()) & (new_data['participant']==p)].shape[0]\n",
    "        \n",
    "        # get number of hits, misses, false alarms, correct rejections\n",
    "        hit  = new_data[(new_data['response_type']=='Hit') & (new_data['participant']==p)].shape[0]\n",
    "        miss = new_data[(new_data['response_type']=='Miss') & (new_data['participant']==p)].shape[0]\n",
    "        fa   = new_data[(new_data['response_type']=='False Alarm') & (new_data['participant']==p)].shape[0]\n",
    "        cr   = new_data[(new_data['response_type']=='Correct Reject') & (new_data['participant']==p)].shape[0]\n",
    "        \n",
    "        # calculate hit rate\n",
    "        hit_rate = hit / new_data[(new_data['participant']==p)\n",
    "                                  & (new_data['Video Type']=='Real Attention')\n",
    "                                  & ~(new_data['response_type'].isna())\n",
    "                                 ].shape[0]\n",
    "        \n",
    "        # calculate false alarm rate\n",
    "        fa_rate = fa / new_data[(new_data['participant']==p) \n",
    "                                & (new_data['Video Type']=='Fake Attention')\n",
    "                                & ~(new_data['response_type'].isna())\n",
    "                               ].shape[0]\n",
    "        \n",
    "        # calculate d-prime\n",
    "        d_prime = scipy.stats.norm.ppf(hit_rate) - scipy.stats.norm.ppf(fa_rate)\n",
    "        \n",
    "        # add d-prime value to d-prime column for all rows for that participant\n",
    "        data.loc[data['participant']==p,'dprime'] = d_prime\n",
    "        \n",
    "    return(data)"
   ]
  },
  {
   "cell_type": "code",
   "execution_count": 27,
   "id": "6a69e412",
   "metadata": {},
   "outputs": [],
   "source": [
    "d_prime_data = add_dprime(new_data)"
   ]
  },
  {
   "cell_type": "code",
   "execution_count": 28,
   "id": "9f834a48",
   "metadata": {},
   "outputs": [],
   "source": [
    "plot_prime = d_prime_data.groupby(['participant'],as_index=False)['dprime'].mean()"
   ]
  },
  {
   "cell_type": "code",
   "execution_count": 29,
   "id": "e5d95215",
   "metadata": {},
   "outputs": [],
   "source": [
    "sorted_prime = plot_prime.sort_values(by='dprime')\n",
    "sorted_prime\n",
    "\n",
    "sorted_prime = plot_prime.sort_values(by='dprime')\n",
    "sorted_prime\n",
    "\n",
    "sorted_prime = plot_prime.sort_values(by='dprime')\n",
    "sorted_prime.to_csv('/Users/kirstenziman/Desktop/cluster_good_sorted_prime.csv')\n",
    "sorted_prime.to_csv('cluster_good_sorted_prime.csv')"
   ]
  },
  {
   "cell_type": "code",
   "execution_count": 31,
   "id": "b2076829",
   "metadata": {},
   "outputs": [
    {
     "data": {
      "image/png": "[encoded data removed]",
      "text/plain": [
       "<Figure size 640x480 with 1 Axes>"
      ]
     },
     "metadata": {},
     "output_type": "display_data"
    }
   ],
   "source": [
    "sb.violinplot(plot_prime, inner=None, color='lightgray')\n",
    "sb.swarmplot(plot_prime, color='white', size=7)\n",
    "plt.hlines(y=0, xmin=-.5,xmax=.5, color='k', linestyle='--')\n",
    "\n",
    "plt.savefig('dprime_light.pdf')"
   ]
  },
  {
   "cell_type": "code",
   "execution_count": 32,
   "id": "59a5b5f1",
   "metadata": {},
   "outputs": [
    {
     "data": {
      "text/plain": [
       "TtestResult(statistic=5.216519878104152, pvalue=3.601047848404385e-05, df=21)"
      ]
     },
     "execution_count": 32,
     "metadata": {},
     "output_type": "execute_result"
    }
   ],
   "source": [
    "scipy.stats.ttest_1samp(plot_prime['dprime'],0)"
   ]
  },
  {
   "cell_type": "code",
   "execution_count": 33,
   "id": "0ac853d9",
   "metadata": {},
   "outputs": [
    {
     "data": {
      "text/plain": [
       "0.6133817730729653"
      ]
     },
     "execution_count": 33,
     "metadata": {},
     "output_type": "execute_result"
    }
   ],
   "source": [
    "np.mean(plot_prime['dprime'])"
   ]
  },
  {
   "cell_type": "markdown",
   "id": "97f53032",
   "metadata": {},
   "source": [
    "### Final data confirmations"
   ]
  },
  {
   "cell_type": "code",
   "execution_count": 34,
   "id": "5b2d49ab",
   "metadata": {},
   "outputs": [
    {
     "data": {
      "text/plain": [
       "22"
      ]
     },
     "execution_count": 34,
     "metadata": {},
     "output_type": "execute_result"
    }
   ],
   "source": [
    "# confirm 23rd subject was excluded\n",
    "len(list(new_data['participant'].unique()))"
   ]
  },
  {
   "cell_type": "code",
   "execution_count": 35,
   "id": "16bb7ba8",
   "metadata": {},
   "outputs": [
    {
     "data": {
      "text/plain": [
       "array([20])"
      ]
     },
     "execution_count": 35,
     "metadata": {},
     "output_type": "execute_result"
    }
   ],
   "source": [
    "# confirm there are 20 trials for every run for every participant\n",
    "new_data.groupby(['participant','run'],as_index=False).count()['start_time'].unique()"
   ]
  },
  {
   "cell_type": "code",
   "execution_count": 37,
   "id": "46ffccf3",
   "metadata": {},
   "outputs": [
    {
     "data": {
      "text/plain": [
       "array([6., 1., 5.])"
      ]
     },
     "execution_count": 37,
     "metadata": {},
     "output_type": "execute_result"
    }
   ],
   "source": [
    "# confirm 3 runs from subject 21 excluded\n",
    "new_data[new_data['participant']=='subject_21']['run'].unique()"
   ]
  }
 ],
 "metadata": {
  "kernelspec": {
   "display_name": "Python 3 (ipykernel)",
   "language": "python",
   "name": "python3"
  },
  "language_info": {
   "codemirror_mode": {
    "name": "ipython",
    "version": 3
   },
   "file_extension": ".py",
   "mimetype": "text/x-python",
   "name": "python",
   "nbconvert_exporter": "python",
   "pygments_lexer": "ipython3",
   "version": "3.11.5"
  }
 },
 "nbformat": 4,
 "nbformat_minor": 5
}
