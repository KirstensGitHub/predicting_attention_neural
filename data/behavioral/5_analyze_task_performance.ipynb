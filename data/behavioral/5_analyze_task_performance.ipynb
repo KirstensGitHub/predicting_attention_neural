{
 "cells": [
  {
   "cell_type": "markdown",
   "id": "3a9f4788",
   "metadata": {},
   "source": [
    "### Import packages"
   ]
  },
  {
   "cell_type": "code",
   "execution_count": 1,
   "id": "1b44f439",
   "metadata": {},
   "outputs": [],
   "source": [
    "import pandas as pd\n",
    "import os\n",
    "import numpy as np\n",
    "import seaborn as sb\n",
    "import scipy.stats as stats\n",
    "import scipy\n",
    "import ast\n",
    "import warnings\n",
    "import pylab\n",
    "import matplotlib.pyplot as plt\n",
    "import math\n",
    "import pingouin as pg\n",
    "\n",
    "warnings.filterwarnings('ignore')"
   ]
  },
  {
   "cell_type": "markdown",
   "id": "524d9410",
   "metadata": {},
   "source": [
    "### Load & Organize Data"
   ]
  },
  {
   "cell_type": "code",
   "execution_count": 2,
   "id": "005ac7e7",
   "metadata": {},
   "outputs": [],
   "source": [
    "path = 'behavioral_data/MRI_Behavioral_Data/'"
   ]
  },
  {
   "cell_type": "markdown",
   "id": "9b6ba08c",
   "metadata": {},
   "source": [
    "Make a list of dataframes for all the runs we use in the MRI analysis"
   ]
  },
  {
   "cell_type": "code",
   "execution_count": 3,
   "id": "4ea907bc",
   "metadata": {},
   "outputs": [],
   "source": [
    "# first, read in the runs and run files we need to ignore\n",
    "\n",
    "exclude_file    = [ x for x in os.listdir('.') if 'exclude' in x   ]\n",
    "disregard_files = [ x for x in os.listdir('.') if 'disregard' in x ]\n",
    "disregard_dfs   = [ pd.read_csv(x).T for x in disregard_files ]"
   ]
  },
  {
   "cell_type": "markdown",
   "id": "433291ec",
   "metadata": {},
   "source": [
    "### First, data to exclude"
   ]
  },
  {
   "cell_type": "code",
   "execution_count": 4,
   "id": "a91b7a8b",
   "metadata": {
    "scrolled": true
   },
   "outputs": [
    {
     "data": {
      "text/html": [
       "<div>\n",
       "<style scoped>\n",
       "    .dataframe tbody tr th:only-of-type {\n",
       "        vertical-align: middle;\n",
       "    }\n",
       "\n",
       "    .dataframe tbody tr th {\n",
       "        vertical-align: top;\n",
       "    }\n",
       "\n",
       "    .dataframe thead th {\n",
       "        text-align: right;\n",
       "    }\n",
       "</style>\n",
       "<table border=\"1\" class=\"dataframe\">\n",
       "  <thead>\n",
       "    <tr style=\"text-align: right;\">\n",
       "      <th></th>\n",
       "      <th>Unnamed: 0</th>\n",
       "      <th>run</th>\n",
       "      <th>count</th>\n",
       "      <th>subject</th>\n",
       "    </tr>\n",
       "  </thead>\n",
       "  <tbody>\n",
       "    <tr>\n",
       "      <th>0</th>\n",
       "      <td>1</td>\n",
       "      <td>2.0</td>\n",
       "      <td>8</td>\n",
       "      <td>behavioral_data/MRI_Behavioral_Data/subject_21</td>\n",
       "    </tr>\n",
       "    <tr>\n",
       "      <th>1</th>\n",
       "      <td>2</td>\n",
       "      <td>3.0</td>\n",
       "      <td>15</td>\n",
       "      <td>behavioral_data/MRI_Behavioral_Data/subject_21</td>\n",
       "    </tr>\n",
       "    <tr>\n",
       "      <th>2</th>\n",
       "      <td>3</td>\n",
       "      <td>4.0</td>\n",
       "      <td>11</td>\n",
       "      <td>behavioral_data/MRI_Behavioral_Data/subject_21</td>\n",
       "    </tr>\n",
       "  </tbody>\n",
       "</table>\n",
       "</div>"
      ],
      "text/plain": [
       "   Unnamed: 0  run  count                                         subject\n",
       "0           1  2.0      8  behavioral_data/MRI_Behavioral_Data/subject_21\n",
       "1           2  3.0     15  behavioral_data/MRI_Behavioral_Data/subject_21\n",
       "2           3  4.0     11  behavioral_data/MRI_Behavioral_Data/subject_21"
      ]
     },
     "execution_count": 4,
     "metadata": {},
     "output_type": "execute_result"
    }
   ],
   "source": [
    "pd.read_csv(exclude_file[0])"
   ]
  },
  {
   "cell_type": "markdown",
   "id": "328011c4",
   "metadata": {},
   "source": [
    "^^ We will exclude runs 2, 3, and 4 from subject 21\n",
    "\n",
    "We also exclude subject_17"
   ]
  },
  {
   "cell_type": "markdown",
   "id": "ef72bb67",
   "metadata": {},
   "source": [
    "### Then, log files to ignore"
   ]
  },
  {
   "cell_type": "code",
   "execution_count": 5,
   "id": "23e1e8ad",
   "metadata": {},
   "outputs": [
    {
     "data": {
      "text/plain": [
       "array(['subject', 'subject_12', 'subject_4', 'subject_20'], dtype=object)"
      ]
     },
     "execution_count": 5,
     "metadata": {},
     "output_type": "execute_result"
    }
   ],
   "source": [
    "disregard_subs = pd.concat(disregard_dfs)[0].unique()\n",
    "disregard_subs"
   ]
  },
  {
   "cell_type": "code",
   "execution_count": 6,
   "id": "b96fc0ad",
   "metadata": {},
   "outputs": [
    {
     "data": {
      "text/plain": [
       "array(['file',\n",
       "       'behavioral_data/MRI_Behavioral_Data/subject_12/subject_12_run_1_2023-09-01_14h48.28.289.log',\n",
       "       'behavioral_data/MRI_Behavioral_Data/subject_4/subject_4c_run_1_2023-08-24_13h14.00.218.log',\n",
       "       'behavioral_data/MRI_Behavioral_Data/subject_20/subjec_20b_run_1_2023-11-02_17h48.21.836.log'],\n",
       "      dtype=object)"
      ]
     },
     "execution_count": 6,
     "metadata": {},
     "output_type": "execute_result"
    }
   ],
   "source": [
    "disregard_logs = pd.concat(disregard_dfs)[1].unique()\n",
    "disregard_logs"
   ]
  },
  {
   "cell_type": "code",
   "execution_count": 7,
   "id": "d2fcbe56",
   "metadata": {},
   "outputs": [
    {
     "data": {
      "text/plain": [
       "['.csv',\n",
       " 'behavioral_data/MRI_Behavioral_Data/subject_12/subject_12_run_1_2023-09-01_14h48.28.289.csv',\n",
       " 'behavioral_data/MRI_Behavioral_Data/subject_4/subject_4c_run_1_2023-08-24_13h14.00.218.csv',\n",
       " 'behavioral_data/MRI_Behavioral_Data/subject_20/subjec_20b_run_1_2023-11-02_17h48.21.836.csv']"
      ]
     },
     "execution_count": 7,
     "metadata": {},
     "output_type": "execute_result"
    }
   ],
   "source": [
    "disregard_csvs = [ x[:-4]+'.csv' for x in disregard_logs ]\n",
    "disregard_csvs"
   ]
  },
  {
   "cell_type": "code",
   "execution_count": 8,
   "id": "752fb6b1",
   "metadata": {},
   "outputs": [],
   "source": [
    "extra_runs = ['behavioral_data/subject_1/sub_1_run_1_2023-08-18_12h17.09.696.csv',\n",
    "              'behavioral_data/subject_12/subject_12_run_1_2023-09-01_15h08.30.551.csv'\n",
    "             ]"
   ]
  },
  {
   "cell_type": "markdown",
   "id": "140733d5",
   "metadata": {},
   "source": [
    "### Create function to add response type "
   ]
  },
  {
   "cell_type": "code",
   "execution_count": 9,
   "id": "8d003014",
   "metadata": {},
   "outputs": [],
   "source": [
    "def add_type(data):\n",
    "    # Organize scores\n",
    "    data['response_type'] = np.nan\n",
    "    data['response_value'] = np.nan\n",
    "\n",
    "    # Handle cases with two responses\n",
    "    if data.loc[data['key_resp_9.keys'].str.contains(',', na=False), 'key_resp_9.keys'].shape[0] > 0:\n",
    "        data.loc[data['key_resp_9.keys'].str.contains(',', na=False), 'key_resp_9.keys'] = data['key_resp_9.keys'].str.split(',').str[0]\n",
    "\n",
    "    # Assign response_value based on 'key_resp_9.keys'\n",
    "    data['response_value'] = data['key_resp_9.keys'].str[2]\n",
    "\n",
    "    # Set response_type based on conditions\n",
    "    data.loc[(data['response_value'] == '1') & (data['type'].str.contains('veridical', na=False)), 'response_type'] = 'Hit'\n",
    "    data.loc[(data['response_value'] == '1') & (data['type'].str.contains('scrambled', na=False)), 'response_type'] = 'False Alarm'\n",
    "    data.loc[(data['response_value'] == '2') & (data['type'].str.contains('veridical', na=False)), 'response_type'] = 'Miss'\n",
    "    data.loc[(data['response_value'] == '2') & (data['type'].str.contains('scrambled', na=False)), 'response_type'] = 'Correct Reject'\n",
    "\n",
    "    # Handle unanswered responses\n",
    "    data['unanswered'] = data['key_resp_9.keys'].isna() | data['key_resp_9.keys'].str.contains('None', na=False)\n",
    "    \n",
    "    return data"
   ]
  },
  {
   "cell_type": "code",
   "execution_count": 10,
   "id": "ff99a82d",
   "metadata": {},
   "outputs": [],
   "source": [
    "# Initialize the list of dataframes\n",
    "data_dfs = []\n",
    "\n",
    "# Define your path\n",
    "base_path = 'behavioral_data/MRI_Behavioral_Data/'\n",
    "\n",
    "# Iterate over each subject in the behavioral_data directory\n",
    "for sub in os.listdir(base_path):\n",
    "    # Check if the folder is a subject and not the excluded subject\n",
    "    if sub != 'subject_17' and sub.startswith('subject_'):\n",
    "        # Full path to the subject's directory\n",
    "        sub_dir = os.path.join(base_path, sub)\n",
    "        \n",
    "        # List all csv files in the current subject's directory\n",
    "        csvs = [\n",
    "            os.path.join(sub_dir, x) for x in os.listdir(sub_dir)\n",
    "            if x.endswith('.csv')\n",
    "            and os.path.join(sub_dir, x) not in disregard_csvs\n",
    "            and os.path.join(sub_dir, x) not in extra_runs\n",
    "        ]\n",
    "        \n",
    "        # Read them as dataframes and add to data_dfs\n",
    "        for csv_file in csvs:\n",
    "            try:\n",
    "                df = pd.read_csv(csv_file)\n",
    "                df = add_type(df)  \n",
    "                data_dfs.append(df)\n",
    "            except Exception as e:\n",
    "                print(f\"Error reading {csv_file}: {e}\")"
   ]
  },
  {
   "cell_type": "code",
   "execution_count": 11,
   "id": "cf2769b9",
   "metadata": {},
   "outputs": [
    {
     "name": "stdout",
     "output_type": "stream",
     "text": [
      "Number of unique participants: 22\n"
     ]
    }
   ],
   "source": [
    "# Combine all dataframes into one dataframe\n",
    "new_data = pd.concat(data_dfs, ignore_index=True)\n",
    "\n",
    "# Correct participant labels\n",
    "new_data.loc[new_data['participant'] == 'subject_16c3', 'participant'] = 'subject_16c'\n",
    "\n",
    "# Exclude runs 2, 3, 4 for subject_21 and remove any rows where run is NaN\n",
    "new_data = new_data[~((new_data['participant'] == 'subject_21') & (new_data['run'].isin([2, 3, 4])))]\n",
    "new_data = new_data[~new_data['run'].isna()]\n",
    "\n",
    "unique_participants = new_data[~new_data['participant'].isna()]['participant'].unique()\n",
    "print(f\"Number of unique participants: {len(unique_participants)}\")"
   ]
  },
  {
   "cell_type": "code",
   "execution_count": 12,
   "id": "2c1c23e8",
   "metadata": {},
   "outputs": [
    {
     "name": "stdout",
     "output_type": "stream",
     "text": [
      "   participant  run   response_type      Video Type Participant Judgement  \\\n",
      "1   subject_4c  2.0     False Alarm  Fake Attention           Judged Real   \n",
      "2   subject_4c  2.0             Hit  Real Attention           Judged Real   \n",
      "3   subject_4c  2.0     False Alarm  Fake Attention           Judged Real   \n",
      "4   subject_4c  2.0             Hit  Real Attention           Judged Real   \n",
      "5   subject_4c  2.0  Correct Reject  Fake Attention           Judged Fake   \n",
      "6   subject_4c  2.0             Hit  Real Attention           Judged Real   \n",
      "7   subject_4c  2.0             Hit  Real Attention           Judged Real   \n",
      "8   subject_4c  2.0  Correct Reject  Fake Attention           Judged Fake   \n",
      "9   subject_4c  2.0             NaN             NaN                   NaN   \n",
      "10  subject_4c  2.0            Miss  Real Attention           Judged Fake   \n",
      "\n",
      "   Judged Correctly  \n",
      "1             Wrong  \n",
      "2           Correct  \n",
      "3             Wrong  \n",
      "4           Correct  \n",
      "5           Correct  \n",
      "6           Correct  \n",
      "7           Correct  \n",
      "8           Correct  \n",
      "9               NaN  \n",
      "10            Wrong  \n"
     ]
    }
   ],
   "source": [
    "# Initialize 'Video Type' and related columns if they don't already exist\n",
    "if 'Video Type' not in new_data.columns:\n",
    "    new_data['Video Type'] = np.nan\n",
    "if 'Participant Judgement' not in new_data.columns:\n",
    "    new_data['Participant Judgement'] = np.nan\n",
    "if 'Judged Correctly' not in new_data.columns:\n",
    "    new_data['Judged Correctly'] = np.nan\n",
    "\n",
    "# Populate 'Video Type'\n",
    "new_data.loc[new_data['response_type'].isin(['Hit', 'Miss']), 'Video Type'] = 'Real Attention'\n",
    "new_data.loc[new_data['response_type'].isin(['False Alarm', 'Correct Reject']), 'Video Type'] = 'Fake Attention'\n",
    "\n",
    "# Populate 'Participant Judgement' and 'Judged Correctly'\n",
    "new_data.loc[new_data['response_type'].isin(['Hit', 'False Alarm']), 'Participant Judgement'] = 'Judged Real'\n",
    "new_data.loc[new_data['response_type'].isin(['Miss', 'Correct Reject']), 'Participant Judgement'] = 'Judged Fake'\n",
    "new_data.loc[new_data['response_type'].isin(['Hit', 'Correct Reject']), 'Judged Correctly'] = 'Correct'\n",
    "new_data.loc[new_data['response_type'].isin(['Miss', 'False Alarm']), 'Judged Correctly'] = 'Wrong'\n",
    "\n",
    "# Check the output after setting the columns\n",
    "print(new_data[['participant', 'run', 'response_type', 'Video Type', 'Participant Judgement', 'Judged Correctly']].head(10))"
   ]
  },
  {
   "cell_type": "code",
   "execution_count": 13,
   "id": "8afdc940",
   "metadata": {},
   "outputs": [],
   "source": [
    "new_data.to_csv(\"behavioral_data.csv\", index=False)"
   ]
  },
  {
   "cell_type": "code",
   "execution_count": 14,
   "id": "967695bb",
   "metadata": {},
   "outputs": [
    {
     "data": {
      "text/plain": [
       "2620"
      ]
     },
     "execution_count": 14,
     "metadata": {},
     "output_type": "execute_result"
    }
   ],
   "source": [
    "new_data.shape[0]"
   ]
  },
  {
   "cell_type": "code",
   "execution_count": 15,
   "id": "485ca2d9",
   "metadata": {},
   "outputs": [
    {
     "data": {
      "text/plain": [
       "0.9741581832419733"
      ]
     },
     "execution_count": 15,
     "metadata": {},
     "output_type": "execute_result"
    }
   ],
   "source": [
    "1 - (new_data[new_data['response_type'].isna()].shape[0] / new_data[~new_data['response_type'].isna()].shape[0])\n"
   ]
  },
  {
   "cell_type": "markdown",
   "id": "64b8135b",
   "metadata": {},
   "source": [
    "### Plot the results"
   ]
  },
  {
   "cell_type": "code",
   "execution_count": 32,
   "id": "04191724",
   "metadata": {},
   "outputs": [],
   "source": [
    "def add_dprime(data):\n",
    "    '''\n",
    "    adds dprime column to dataframe with dprime values for each subject\n",
    "    '''\n",
    "    \n",
    "    # make new d-prime column in the data\n",
    "    data['dprime'] = np.nan\n",
    "    \n",
    "    # for each subject in the df:\n",
    "    for p in data['participant'].unique():\n",
    "    \n",
    "        # get the number of trials they responded to\n",
    "        responses = new_data[~(new_data['response_type'].isna()) & (new_data['participant']==p)].shape[0]\n",
    "        \n",
    "        # get number of hits, misses, false alarms, correct rejections\n",
    "        hit  = new_data[(new_data['response_type']=='Hit') & (new_data['participant']==p)].shape[0]\n",
    "        miss = new_data[(new_data['response_type']=='Miss') & (new_data['participant']==p)].shape[0]\n",
    "        fa   = new_data[(new_data['response_type']=='False Alarm') & (new_data['participant']==p)].shape[0]\n",
    "        cr   = new_data[(new_data['response_type']=='Correct Reject') & (new_data['participant']==p)].shape[0]\n",
    "        \n",
    "        # calculate hit rate\n",
    "        hit_rate = hit / new_data[(new_data['participant']==p)\n",
    "                                  & (new_data['Video Type']=='Real Attention')\n",
    "                                  & ~(new_data['response_type'].isna())\n",
    "                                 ].shape[0]\n",
    "        \n",
    "        # calculate false alarm rate\n",
    "        fa_rate = fa / new_data[(new_data['participant']==p) \n",
    "                                & (new_data['Video Type']=='Fake Attention')\n",
    "                                & ~(new_data['response_type'].isna())\n",
    "                               ].shape[0]\n",
    "        \n",
    "        # calculate d-prime\n",
    "        d_prime = scipy.stats.norm.ppf(hit_rate) - scipy.stats.norm.ppf(fa_rate)\n",
    "        \n",
    "        # add d-prime value to d-prime column for all rows for that participant\n",
    "        data.loc[data['participant']==p,'dprime'] = d_prime\n",
    "        \n",
    "    return(data)"
   ]
  },
  {
   "cell_type": "code",
   "execution_count": 33,
   "id": "9e1897f1",
   "metadata": {},
   "outputs": [],
   "source": [
    "d_prime_data = add_dprime(new_data)"
   ]
  },
  {
   "cell_type": "code",
   "execution_count": 34,
   "id": "a6ce8edf",
   "metadata": {},
   "outputs": [],
   "source": [
    "plot_prime = d_prime_data.groupby(['participant'],as_index=False)['dprime'].mean()"
   ]
  },
  {
   "cell_type": "code",
   "execution_count": 35,
   "id": "d96efa3e",
   "metadata": {},
   "outputs": [
    {
     "data": {
      "image/png": "[encoded data removed]",
      "text/plain": [
       "<Figure size 640x480 with 1 Axes>"
      ]
     },
     "metadata": {},
     "output_type": "display_data"
    }
   ],
   "source": [
    "sb.violinplot(plot_prime, inner=None, color='lightgray')\n",
    "sb.swarmplot(plot_prime, color='white', size=7)\n",
    "plt.hlines(y=0, xmin=-.5,xmax=.5, color='k', linestyle='--')\n",
    "plt.savefig('dprime_light.pdf')"
   ]
  },
  {
   "cell_type": "code",
   "execution_count": 36,
   "id": "635de386",
   "metadata": {},
   "outputs": [
    {
     "data": {
      "text/plain": [
       "TtestResult(statistic=5.162937906370936, pvalue=4.083541073224179e-05, df=21)"
      ]
     },
     "execution_count": 36,
     "metadata": {},
     "output_type": "execute_result"
    }
   ],
   "source": [
    "scipy.stats.ttest_1samp(plot_prime['dprime'],0)"
   ]
  }
 ],
 "metadata": {
  "kernelspec": {
   "display_name": "Python 3 (ipykernel)",
   "language": "python",
   "name": "python3"
  },
  "language_info": {
   "codemirror_mode": {
    "name": "ipython",
    "version": 3
   },
   "file_extension": ".py",
   "mimetype": "text/x-python",
   "name": "python",
   "nbconvert_exporter": "python",
   "pygments_lexer": "ipython3",
   "version": "3.11.5"
  }
 },
 "nbformat": 4,
 "nbformat_minor": 5
}
