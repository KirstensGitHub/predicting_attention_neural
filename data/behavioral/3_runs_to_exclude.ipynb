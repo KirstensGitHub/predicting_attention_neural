{
 "cells": [
  {
   "cell_type": "markdown",
   "id": "3a9f4788",
   "metadata": {},
   "source": [
    "### Import packages"
   ]
  },
  {
   "cell_type": "code",
   "execution_count": 2,
   "id": "1b44f439",
   "metadata": {},
   "outputs": [],
   "source": [
    "# %pip install scipy\n",
    "\n",
    "import pandas as pd\n",
    "import os\n",
    "import numpy as np\n",
    "import seaborn as sb\n",
    "import scipy.stats as stats\n",
    "import scipy\n",
    "import ast\n",
    "import warnings\n",
    "import pylab\n",
    "import matplotlib.pyplot as plt\n",
    "import math\n",
    "warnings.filterwarnings('ignore')"
   ]
  },
  {
   "cell_type": "markdown",
   "id": "524d9410",
   "metadata": {},
   "source": [
    "### Load & Organize Data"
   ]
  },
  {
   "cell_type": "code",
   "execution_count": 3,
   "id": "8b93de92",
   "metadata": {},
   "outputs": [],
   "source": [
    "path       = 'behavioral_data/'\n",
    "subjects   = [ path+x for x in os.listdir(path) if 'subject' in x and 'subject_17' not in x  ]\n",
    "csv_ignore = [ x for x in os.listdir('.') if 'disregard' in x ] \n",
    "csv_ignore = [ list(pd.read_csv(x).loc[1])[1][:-3]+'csv' for x in csv_ignore ]"
   ]
  },
  {
   "cell_type": "code",
   "execution_count": 4,
   "id": "f2c81792",
   "metadata": {},
   "outputs": [],
   "source": [
    "# csv_ignore"
   ]
  },
  {
   "cell_type": "markdown",
   "id": "dca79320",
   "metadata": {},
   "source": [
    "### Define functions"
   ]
  },
  {
   "cell_type": "code",
   "execution_count": 5,
   "id": "0fadd67c",
   "metadata": {},
   "outputs": [],
   "source": [
    "def load_dataframe(sub_path, ignore=[]):\n",
    "    \n",
    "    files = [ sub_path+'/'+x for x in os.listdir(sub_path) if '.csv' in x ]\n",
    "    files = [ x for x in files if x not in ignore]\n",
    "    df    = pd.concat( [ pd.read_csv(x) for x in files ] )\n",
    "    \n",
    "    return(df)"
   ]
  },
  {
   "cell_type": "markdown",
   "id": "790f0eee",
   "metadata": {},
   "source": [
    "### Get total number of trials not responded per subject"
   ]
  },
  {
   "cell_type": "code",
   "execution_count": 6,
   "id": "e46b552c",
   "metadata": {},
   "outputs": [
    {
     "name": "stdout",
     "output_type": "stream",
     "text": [
      "behavioral_data/subject_15\n",
      "['None']\n",
      "behavioral_data/subject_23\n",
      "['None']\n",
      "behavioral_data/subject_14\n",
      "['None']\n",
      "behavioral_data/subject_13\n",
      "['None']\n",
      "behavioral_data/subject_4\n",
      "['None']\n",
      "behavioral_data/subject_2\n",
      "['None']\n",
      "behavioral_data/subject_16\n",
      "['None']\n",
      "behavioral_data/subject_11\n",
      "['None']\n",
      "behavioral_data/subject_20\n",
      "['None']\n",
      "behavioral_data/subject_21\n",
      "['None']\n",
      "behavioral_data/subject_19\n",
      "['None']\n",
      "behavioral_data/subject_10\n",
      "['None']\n",
      "behavioral_data/subject_9\n",
      "['None']\n",
      "behavioral_data/subject_1\n",
      "['None']\n",
      "\n",
      "^^ the only no-response trials are ones with nan in the response column\n",
      "\n"
     ]
    }
   ],
   "source": [
    "total_no_response_trials = []\n",
    "\n",
    "for s in subjects:\n",
    "    \n",
    "    df = load_dataframe(s)\n",
    "    df = df[~df['type'].isna()]\n",
    "    \n",
    "    dat = df[~df['key_resp_9.keys'].isin([\"['1']\",\"['2']\",\n",
    "                                                  \"['1', '1']\",\"['2', '2']\",\n",
    "                                                  \"['1', '2']\",\"['2', '1']\"\n",
    "                                                 ])]\n",
    "    \n",
    "    # NOTE: check that nobody ever had three responses entered during the response period\n",
    "    # (I think that's the case, just make extra sure)\n",
    "    \n",
    "    no_response = dat.shape[0]\n",
    "    \n",
    "    if no_response > 0:\n",
    "        print(s)\n",
    "        print(dat['key_resp_9.keys'].unique())\n",
    "    \n",
    "    total_no_response_trials.append(no_response)\n",
    "\n",
    "print()\n",
    "print('^^ the only no-response trials are ones with nan in the response column')\n",
    "print()"
   ]
  },
  {
   "cell_type": "code",
   "execution_count": 7,
   "id": "2e5e5362",
   "metadata": {},
   "outputs": [
    {
     "data": {
      "text/plain": [
       "[0, 8, 4, 0, 3, 8, 9, 0, 7, 0, 1, 2, 0, 4, 37, 5, 7, 0, 2, 0, 0, 3]"
      ]
     },
     "execution_count": 7,
     "metadata": {},
     "output_type": "execute_result"
    }
   ],
   "source": [
    "total_no_response_trials"
   ]
  },
  {
   "cell_type": "markdown",
   "id": "58919cb7",
   "metadata": {},
   "source": [
    "### Get breakdown of non-response by run"
   ]
  },
  {
   "cell_type": "code",
   "execution_count": 8,
   "id": "ddda0b5e",
   "metadata": {},
   "outputs": [
    {
     "name": "stdout",
     "output_type": "stream",
     "text": [
      "behavioral_data/subject_14\n",
      "1\n",
      "behavioral_data/subject_16\n",
      "1\n"
     ]
    }
   ],
   "source": [
    "new_dataframe = []\n",
    "\n",
    "for s in subjects:\n",
    "    \n",
    "    df = load_dataframe(s)\n",
    "    df = df[~df['type'].isna()]\n",
    "        \n",
    "    dat = df[~df['key_resp_9.keys'].isin([\"['1']\",\"['2']\",\n",
    "                                                  \"['1', '1']\",\"['2', '2']\",\n",
    "                                                  \"['1', '2']\",\"['2', '1']\"\n",
    "                                                 ])]\n",
    "    mismatch = df[df['key_resp_9.keys'].isin([ \"['1', '2']\" , \"['2', '1']\" ])]\n",
    "    \n",
    "    if mismatch.shape[0]>0:\n",
    "        print(s)\n",
    "        print(mismatch.shape[0])\n",
    "    \n",
    "    new_df = dat.groupby(['run'],as_index=False).count()[['run','moviestim']]\n",
    "    new_df['subject'] = s\n",
    "    \n",
    "    new_dataframe.append(new_df)\n",
    "    \n",
    "run_df = pd.concat(new_dataframe)"
   ]
  },
  {
   "cell_type": "code",
   "execution_count": 9,
   "id": "8ff329df",
   "metadata": {},
   "outputs": [
    {
     "data": {
      "text/plain": [
       "<Axes: ylabel='moviestim'>"
      ]
     },
     "execution_count": 9,
     "metadata": {},
     "output_type": "execute_result"
    },
    {
     "data": {
      "image/png": "[encoded data removed]",
      "text/plain": [
       "<Figure size 640x480 with 1 Axes>"
      ]
     },
     "metadata": {},
     "output_type": "display_data"
    }
   ],
   "source": [
    "sb.boxplot(run_df['moviestim'])"
   ]
  },
  {
   "cell_type": "code",
   "execution_count": 10,
   "id": "ac81a9ee",
   "metadata": {},
   "outputs": [
    {
     "data": {
      "text/plain": [
       "<Axes: ylabel='moviestim'>"
      ]
     },
     "execution_count": 10,
     "metadata": {},
     "output_type": "execute_result"
    },
    {
     "data": {
      "image/png": "[encoded data removed]",
      "text/plain": [
       "<Figure size 640x480 with 1 Axes>"
      ]
     },
     "metadata": {},
     "output_type": "display_data"
    }
   ],
   "source": [
    "sb.boxplot(run_df['moviestim']/20)"
   ]
  },
  {
   "cell_type": "code",
   "execution_count": 11,
   "id": "cba0d317",
   "metadata": {},
   "outputs": [
    {
     "data": {
      "text/html": [
       "<div>\n",
       "<style scoped>\n",
       "    .dataframe tbody tr th:only-of-type {\n",
       "        vertical-align: middle;\n",
       "    }\n",
       "\n",
       "    .dataframe tbody tr th {\n",
       "        vertical-align: top;\n",
       "    }\n",
       "\n",
       "    .dataframe thead th {\n",
       "        text-align: right;\n",
       "    }\n",
       "</style>\n",
       "<table border=\"1\" class=\"dataframe\">\n",
       "  <thead>\n",
       "    <tr style=\"text-align: right;\">\n",
       "      <th></th>\n",
       "      <th>run</th>\n",
       "      <th>moviestim</th>\n",
       "      <th>subject</th>\n",
       "    </tr>\n",
       "  </thead>\n",
       "  <tbody>\n",
       "    <tr>\n",
       "      <th>1</th>\n",
       "      <td>2.0</td>\n",
       "      <td>8</td>\n",
       "      <td>behavioral_data/subject_21</td>\n",
       "    </tr>\n",
       "    <tr>\n",
       "      <th>2</th>\n",
       "      <td>3.0</td>\n",
       "      <td>15</td>\n",
       "      <td>behavioral_data/subject_21</td>\n",
       "    </tr>\n",
       "    <tr>\n",
       "      <th>3</th>\n",
       "      <td>4.0</td>\n",
       "      <td>11</td>\n",
       "      <td>behavioral_data/subject_21</td>\n",
       "    </tr>\n",
       "  </tbody>\n",
       "</table>\n",
       "</div>"
      ],
      "text/plain": [
       "   run  moviestim                     subject\n",
       "1  2.0          8  behavioral_data/subject_21\n",
       "2  3.0         15  behavioral_data/subject_21\n",
       "3  4.0         11  behavioral_data/subject_21"
      ]
     },
     "execution_count": 11,
     "metadata": {},
     "output_type": "execute_result"
    }
   ],
   "source": [
    "exclude_df = run_df[run_df['moviestim']>3]\n",
    "exclude_df"
   ]
  },
  {
   "cell_type": "code",
   "execution_count": 12,
   "id": "c982412b",
   "metadata": {},
   "outputs": [],
   "source": [
    "exclude_df.to_csv('exclude_runs_behavioral.csv')"
   ]
  },
  {
   "cell_type": "code",
   "execution_count": null,
   "id": "31ad85d6",
   "metadata": {},
   "outputs": [],
   "source": []
  }
 ],
 "metadata": {
  "kernelspec": {
   "display_name": "Python 3 (ipykernel)",
   "language": "python",
   "name": "python3"
  },
  "language_info": {
   "codemirror_mode": {
    "name": "ipython",
    "version": 3
   },
   "file_extension": ".py",
   "mimetype": "text/x-python",
   "name": "python",
   "nbconvert_exporter": "python",
   "pygments_lexer": "ipython3",
   "version": "3.11.5"
  }
 },
 "nbformat": 4,
 "nbformat_minor": 5
}
