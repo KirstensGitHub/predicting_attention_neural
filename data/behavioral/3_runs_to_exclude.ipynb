{
 "cells": [
  {
   "cell_type": "markdown",
   "id": "3a9f4788",
   "metadata": {},
   "source": [
    "### Import packages"
   ]
  },
  {
   "cell_type": "code",
   "execution_count": 1,
   "id": "1b44f439",
   "metadata": {},
   "outputs": [],
   "source": [
    "# %pip install scipy\n",
    "\n",
    "import pandas as pd\n",
    "import os\n",
    "import numpy as np\n",
    "import seaborn as sb\n",
    "import scipy.stats as stats\n",
    "import scipy\n",
    "import ast\n",
    "import warnings\n",
    "import pylab\n",
    "import matplotlib.pyplot as plt\n",
    "import math\n",
    "warnings.filterwarnings('ignore')"
   ]
  },
  {
   "cell_type": "markdown",
   "id": "524d9410",
   "metadata": {},
   "source": [
    "### Load & Organize Data"
   ]
  },
  {
   "cell_type": "code",
   "execution_count": 8,
   "id": "8b93de92",
   "metadata": {},
   "outputs": [],
   "source": [
    "path       = 'new MRI Behavioral Data/'\n",
    "subjects   = [ path+x for x in os.listdir(path) if 'subject' in x and 'subject_17' not in x and 'REPEAT' not in x]\n",
    "csv_ignore = [ x for x in os.listdir('.') if 'disregard' in x ] \n",
    "csv_ignore = [ list(pd.read_csv(x).loc[1])[1][:-3]+'csv' for x in csv_ignore ]"
   ]
  },
  {
   "cell_type": "markdown",
   "id": "88781190",
   "metadata": {},
   "source": [
    "^^ ignore extra files and exclude subject 17 due to noisy data (head coils were not receiving during data collection)"
   ]
  },
  {
   "cell_type": "markdown",
   "id": "dca79320",
   "metadata": {},
   "source": [
    "### Define functions"
   ]
  },
  {
   "cell_type": "code",
   "execution_count": 9,
   "id": "0fadd67c",
   "metadata": {},
   "outputs": [],
   "source": [
    "def load_dataframe(sub_path, ignore=[]):\n",
    "    \n",
    "    files = [ sub_path+'/'+x for x in os.listdir(sub_path) if '.csv' in x and 'REPEAT' not in x]\n",
    "    files = [ x for x in files if x not in ignore]\n",
    "    df    = pd.concat( [ pd.read_csv(x) for x in files ] )\n",
    "    \n",
    "    return(df)"
   ]
  },
  {
   "cell_type": "markdown",
   "id": "790f0eee",
   "metadata": {},
   "source": [
    "### Check that participants are responding to the task appropriately"
   ]
  },
  {
   "cell_type": "code",
   "execution_count": 10,
   "id": "e46b552c",
   "metadata": {},
   "outputs": [],
   "source": [
    "total_no_response_trials = []\n",
    "total_trials = []\n",
    "all_data = []\n",
    "\n",
    "for s in subjects:\n",
    "    \n",
    "    df = load_dataframe(s)\n",
    "    df = df[~df['type'].isna()]\n",
    "    all_data.append(df)\n",
    "    \n",
    "    total_trials.append(df.shape[0])\n",
    "    \n",
    "    dat = df[~df['key_resp_9.keys'].isin([\"['1']\",\"['2']\",\n",
    "                                                  \"['1', '1']\",\"['2', '2']\",\n",
    "                                                  \"['1', '2']\",\"['2', '1']\"\n",
    "                                                 ])]\n",
    "    \n",
    "    # note: we did not have any cases where three responses were entered\n",
    "    \n",
    "    no_response = dat.shape[0]\n",
    "    \n",
    "    total_no_response_trials.append(no_response)\n"
   ]
  },
  {
   "cell_type": "code",
   "execution_count": 11,
   "id": "2e5e5362",
   "metadata": {},
   "outputs": [
    {
     "data": {
      "text/plain": [
       "100"
      ]
     },
     "execution_count": 11,
     "metadata": {},
     "output_type": "execute_result"
    }
   ],
   "source": [
    "np.sum(total_no_response_trials)"
   ]
  },
  {
   "cell_type": "code",
   "execution_count": 12,
   "id": "d641c0bb",
   "metadata": {},
   "outputs": [
    {
     "data": {
      "text/plain": [
       "2640"
      ]
     },
     "execution_count": 12,
     "metadata": {},
     "output_type": "execute_result"
    }
   ],
   "source": [
    "22*6*20"
   ]
  },
  {
   "cell_type": "code",
   "execution_count": 13,
   "id": "8f49df4d",
   "metadata": {},
   "outputs": [
    {
     "name": "stdout",
     "output_type": "stream",
     "text": [
      "Participants are doing the task as intedned; they responded appropriately in approximately 96.0% of trials\n"
     ]
    }
   ],
   "source": [
    "print('Participants are doing the task as intedned; they responded appropriately in approximately '+str(np.round(1-(100/2640),2)*100)+'% of trials')\n",
    "                                                                          \n",
    "                                                                          "
   ]
  },
  {
   "cell_type": "markdown",
   "id": "58919cb7",
   "metadata": {},
   "source": [
    "### Get breakdown of two-mismatch responses, by run"
   ]
  },
  {
   "cell_type": "code",
   "execution_count": 14,
   "id": "ddda0b5e",
   "metadata": {},
   "outputs": [
    {
     "name": "stdout",
     "output_type": "stream",
     "text": [
      "new MRI Behavioral Data/subject_14\n",
      "1\n",
      "new MRI Behavioral Data/subject_16\n",
      "1\n"
     ]
    }
   ],
   "source": [
    "new_dataframe = []\n",
    "mismatches = 0\n",
    "\n",
    "for s in subjects:\n",
    "    \n",
    "    df = load_dataframe(s)\n",
    "    df = df[~df['type'].isna()]\n",
    "        \n",
    "    dat = df[~df['key_resp_9.keys'].isin([\"['1']\",\"['2']\",\n",
    "                                                  \"['1', '1']\",\"['2', '2']\",\n",
    "                                                  \"['1', '2']\",\"['2', '1']\"\n",
    "                                                 ])]\n",
    "    mismatch = df[df['key_resp_9.keys'].isin([ \"['1', '2']\" , \"['2', '1']\" ])]\n",
    "    \n",
    "    if mismatch.shape[0]>0:\n",
    "        print(s)\n",
    "        print(mismatch.shape[0])\n",
    "        mismatches += 1\n",
    "    \n",
    "    new_df = dat.groupby(['run'],as_index=False).count()[['run','moviestim']]\n",
    "    new_df['subject'] = s\n",
    "    \n",
    "    new_dataframe.append(new_df)\n",
    "    \n",
    "run_df = pd.concat(new_dataframe)"
   ]
  },
  {
   "cell_type": "code",
   "execution_count": 15,
   "id": "cba0d317",
   "metadata": {},
   "outputs": [
    {
     "name": "stdout",
     "output_type": "stream",
     "text": [
      "In almost all cases, participants enter one response; there are only 2 trials where participants entered different responses during the same response period (0.0008% of trials)\n"
     ]
    }
   ],
   "source": [
    "print('In almost all cases, participants enter one response; there are only '+str(mismatches)+' trials where participants entered different responses during the same response period ('+str(np.round(mismatches/np.sum(total_trials),4))+'% of trials)')\n",
    "\n"
   ]
  },
  {
   "cell_type": "markdown",
   "id": "c16d754c",
   "metadata": {},
   "source": [
    "### Check responses entered by run"
   ]
  },
  {
   "cell_type": "markdown",
   "id": "a2154752",
   "metadata": {},
   "source": [
    "A main contrast we conduct in the study is comparing 1-response trials with 2-response trials. If there are any runs where a participant entered only one response, we cannot do the contrast on that run."
   ]
  },
  {
   "cell_type": "code",
   "execution_count": 16,
   "id": "c094a27f",
   "metadata": {},
   "outputs": [],
   "source": [
    "full_data = pd.concat(all_data)"
   ]
  },
  {
   "cell_type": "code",
   "execution_count": 17,
   "id": "c0a94252",
   "metadata": {},
   "outputs": [
    {
     "name": "stdout",
     "output_type": "stream",
     "text": [
      "\n",
      "[\"['1']\" nan]\n",
      "\n",
      "subject_21\n",
      "\n",
      "3.0\n",
      "\n"
     ]
    }
   ],
   "source": [
    "# check the responses\n",
    "\n",
    "for p in full_data['participant'].unique():\n",
    "    \n",
    "    for r in full_data[full_data['participant']==p]['run'].unique():\n",
    "        \n",
    "        responses = full_data[(full_data['participant']==p)&(full_data['run']==r)]['key_resp_9.keys'].unique()\n",
    "        \n",
    "        if '1' not in str(responses) or '2' not in str(responses):\n",
    "            \n",
    "            print()\n",
    "            print(responses); print()\n",
    "            print(p); print(); print(r)\n",
    "            print()"
   ]
  },
  {
   "cell_type": "markdown",
   "id": "b9122cd3",
   "metadata": {},
   "source": [
    "There is just one run where a subject only responded '1' (they responded '1' in five trials and had no response during the response period in the other 15 trials). We will exclude this run."
   ]
  },
  {
   "cell_type": "markdown",
   "id": "2c13fd11",
   "metadata": {},
   "source": [
    "### Save out a dataframe with the run we will exclude"
   ]
  },
  {
   "cell_type": "code",
   "execution_count": 18,
   "id": "2d5746db",
   "metadata": {},
   "outputs": [
    {
     "data": {
      "text/html": [
       "<div>\n",
       "<style scoped>\n",
       "    .dataframe tbody tr th:only-of-type {\n",
       "        vertical-align: middle;\n",
       "    }\n",
       "\n",
       "    .dataframe tbody tr th {\n",
       "        vertical-align: top;\n",
       "    }\n",
       "\n",
       "    .dataframe thead th {\n",
       "        text-align: right;\n",
       "    }\n",
       "</style>\n",
       "<table border=\"1\" class=\"dataframe\">\n",
       "  <thead>\n",
       "    <tr style=\"text-align: right;\">\n",
       "      <th></th>\n",
       "      <th>run</th>\n",
       "      <th>moviestim</th>\n",
       "      <th>subject</th>\n",
       "    </tr>\n",
       "  </thead>\n",
       "  <tbody>\n",
       "    <tr>\n",
       "      <th>2</th>\n",
       "      <td>3.0</td>\n",
       "      <td>15</td>\n",
       "      <td>new MRI Behavioral Data/subject_21</td>\n",
       "    </tr>\n",
       "  </tbody>\n",
       "</table>\n",
       "</div>"
      ],
      "text/plain": [
       "   run  moviestim                             subject\n",
       "2  3.0         15  new MRI Behavioral Data/subject_21"
      ]
     },
     "execution_count": 18,
     "metadata": {},
     "output_type": "execute_result"
    }
   ],
   "source": [
    "run_df[(run_df['subject']=='new MRI Behavioral Data/subject_21')\n",
    "      &(run_df['run']==3.0)] "
   ]
  },
  {
   "cell_type": "code",
   "execution_count": 19,
   "id": "c982412b",
   "metadata": {},
   "outputs": [],
   "source": [
    "exclude_df = run_df[(run_df['subject']=='new MRI Behavioral Data/subject_21')\n",
    "                   &(run_df['run']==3.0)] \n",
    "\n",
    "exclude_df.to_csv('exclude_runs_behavioral.csv')"
   ]
  }
 ],
 "metadata": {
  "kernelspec": {
   "display_name": "Python 3 (ipykernel)",
   "language": "python",
   "name": "python3"
  },
  "language_info": {
   "codemirror_mode": {
    "name": "ipython",
    "version": 3
   },
   "file_extension": ".py",
   "mimetype": "text/x-python",
   "name": "python",
   "nbconvert_exporter": "python",
   "pygments_lexer": "ipython3",
   "version": "3.11.4"
  }
 },
 "nbformat": 4,
 "nbformat_minor": 5
}
