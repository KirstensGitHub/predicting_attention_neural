{
 "cells": [
  {
   "cell_type": "markdown",
   "id": "7f047d1e",
   "metadata": {},
   "source": [
    "# First level GLM - Veridical versus Scrambled"
   ]
  },
  {
   "cell_type": "markdown",
   "id": "1e3a53aa",
   "metadata": {},
   "source": [
    "# Imports"
   ]
  },
  {
   "cell_type": "code",
   "execution_count": 1,
   "id": "0fc3c146",
   "metadata": {},
   "outputs": [],
   "source": [
    "import os\n",
    "import csv\n",
    "import json\n",
    "import numpy as np\n",
    "import pandas as pd\n",
    "import nibabel as nib\n",
    "import nilearn as nl\n",
    "import datetime\n",
    "from nilearn.plotting import view_img\n",
    "import numpy.ma as ma\n",
    "\n",
    "from nilearn import image\n",
    "from nilearn.image import new_img_like\n",
    "\n",
    "from nilearn import image\n",
    "from nilearn import plotting\n",
    "from nilearn.interfaces import fmriprep\n",
    "from nilearn.image import load_img\n",
    "from nilearn.signal import clean\n",
    "from nilearn.image import resample_img\n",
    "from nilearn.signal import clean\n",
    "from nilearn.masking import compute_brain_mask\n",
    "\n",
    "import nilearn.plotting as plotting\n",
    "import matplotlib.pyplot as plt\n",
    "from nilearn.plotting import plot_glass_brain\n",
    "\n",
    "from nilearn import glm\n",
    "import nilearn.image as nimg\n",
    "import nilearn.masking as masking\n",
    "from nilearn import plotting\n",
    "\n",
    "from helper_functions import *"
   ]
  },
  {
   "cell_type": "markdown",
   "id": "4eeea123",
   "metadata": {},
   "source": [
    "## Data Notes"
   ]
  },
  {
   "cell_type": "markdown",
   "id": "8875797b",
   "metadata": {},
   "source": [
    "A note about the data and corresponding code:\n",
    "This notebook analyzes the data from the 22 participants in our study (originally 23 subjects, but one excluded because head coils were not on during scanning). 21 subjects' data was used in full (this inclused 21 naive participants and one with knowledge of the study). For the 22nd subject three runs were excluded, when they were falling asleep and responding less to the experimental trials; you will see these runs excluded from the GLM. There were also four subjects whose data was processed slightly differently due to differences in the scan sequence. For a few subjects, there were technical difficulties at the beginning of the scan session, before the start of the regular scan sequence. This created extra files but required no changes to the main analysis (handled during preprocessing). However, for two subjects, they initially saw a repeat experimental run in the run sequence, then completed the missing run afterwards (e.g. they might have seen runs 1, 2, 3, 4, 4, 6, then completed run 5 afterwards). These two subjects are handled in separate chunks of code at the bottom of this notebook.  "
   ]
  },
  {
   "cell_type": "markdown",
   "id": "55394821",
   "metadata": {},
   "source": [
    "# Data paths"
   ]
  },
  {
   "cell_type": "code",
   "execution_count": 2,
   "id": "0c7d06fe",
   "metadata": {},
   "outputs": [],
   "source": [
    "# GET SUBJECT DIRECTORIES\n",
    "\n",
    "data_dir    = '../../../sample_study/data/bids/derivatives/fmriprep/'\n",
    "events_dir  = '/jukebox/graziano/kirsten/MRI/MRI/pygers_workshop/sample_study/data/behavioral/event_timing'\n",
    "results_dir = '/jukebox/graziano/kirsten/MRI/MRI/pygers_workshop/sample_study/code/analysis/outputs/first_level_GLM'\n",
    "\n",
    "sub_dirs    = [x for x in os.listdir(data_dir) if 'sub' in x and '.html' not in x \n",
    "               and 'sub-112' not in x and 'sub-212' not in x\n",
    "               and 'sub-101' not in x and 'sub-201' not in x\n",
    "               and 'sub-017' not in x\n",
    "              ]"
   ]
  },
  {
   "cell_type": "markdown",
   "id": "ceee02e7",
   "metadata": {},
   "source": [
    "Confirm we have our 23 subjects minus 1 excluded and two unusual (total=20)"
   ]
  },
  {
   "cell_type": "code",
   "execution_count": 3,
   "id": "2c6fa539",
   "metadata": {},
   "outputs": [
    {
     "data": {
      "text/plain": [
       "20"
      ]
     },
     "execution_count": 3,
     "metadata": {},
     "output_type": "execute_result"
    }
   ],
   "source": [
    "len(sub_dirs) "
   ]
  },
  {
   "cell_type": "markdown",
   "id": "7ab4306f",
   "metadata": {},
   "source": [
    "### load mask"
   ]
  },
  {
   "cell_type": "code",
   "execution_count": 4,
   "id": "4d35f97b",
   "metadata": {},
   "outputs": [],
   "source": [
    "mask = nib.load('binary_shaef.nii')\n",
    "events_path = '/jukebox/graziano/kirsten/MRI/MRI/pygers_workshop/sample_study/data/behavioral/event_timing'"
   ]
  },
  {
   "cell_type": "markdown",
   "id": "1e899168",
   "metadata": {},
   "source": [
    "# Create GLM "
   ]
  },
  {
   "cell_type": "code",
   "execution_count": 18,
   "id": "39c6e0b7",
   "metadata": {},
   "outputs": [],
   "source": [
    "# create the first_level GLM model\n",
    "model = nl.glm.first_level.FirstLevelModel(\n",
    "                                          t_r=2,\n",
    "                                          signal_scaling=False,\n",
    "                                          hrf_model='glover',\n",
    "                                          drift_order=None,\n",
    "                                          mask_img=mask,\n",
    "                                          # drift_model='cosine',\n",
    "                                          drift_model=None,\n",
    "                                          # Isaac set to none\n",
    "                                          smoothing_fwhm=4,\n",
    "                                          standardize=True,\n",
    "                                          minimize_memory=False,\n",
    "                                          high_pass= .01 # default value is .01\n",
    "                                          )"
   ]
  },
  {
   "cell_type": "markdown",
   "id": "077f7b64",
   "metadata": {},
   "source": [
    "# _ buttons.tsv files"
   ]
  },
  {
   "cell_type": "code",
   "execution_count": 1,
   "id": "4599f1d7",
   "metadata": {},
   "outputs": [],
   "source": [
    "# update timing labels for 1 & 2 timing files\n",
    "\n",
    "ej_files      = [ x for x in os.listdir(events_dir) if '_buttons.tsv' in x ] # 'events_judgement' in x ]\n",
    "ej_files_full = [ events_path + f for f in ej_files]\n"
   ]
  },
  {
   "cell_type": "markdown",
   "id": "f01ac1ef",
   "metadata": {},
   "source": [
    "### Prep the events files and contrasts for different GLM comparisons"
   ]
  },
  {
   "cell_type": "code",
   "execution_count": 22,
   "id": "9e1de8e4",
   "metadata": {},
   "outputs": [],
   "source": [
    "events_list   = ['labeled-type-videos']\n",
    "\n",
    "events_files  = [ x + '.tsv' for x in events_list ] \n",
    "\n",
    "contrast_list = ['veridical - scrambled']"
   ]
  },
  {
   "cell_type": "markdown",
   "id": "b5ee1e1e",
   "metadata": {},
   "source": [
    "### load runs to exclude "
   ]
  },
  {
   "cell_type": "code",
   "execution_count": 26,
   "id": "d6f0cc90",
   "metadata": {},
   "outputs": [
    {
     "data": {
      "text/html": [
       "<div>\n",
       "<style scoped>\n",
       "    .dataframe tbody tr th:only-of-type {\n",
       "        vertical-align: middle;\n",
       "    }\n",
       "\n",
       "    .dataframe tbody tr th {\n",
       "        vertical-align: top;\n",
       "    }\n",
       "\n",
       "    .dataframe thead th {\n",
       "        text-align: right;\n",
       "    }\n",
       "</style>\n",
       "<table border=\"1\" class=\"dataframe\">\n",
       "  <thead>\n",
       "    <tr style=\"text-align: right;\">\n",
       "      <th></th>\n",
       "      <th>Unnamed: 0</th>\n",
       "      <th>run</th>\n",
       "      <th>moviestim</th>\n",
       "      <th>subject</th>\n",
       "    </tr>\n",
       "  </thead>\n",
       "  <tbody>\n",
       "    <tr>\n",
       "      <th>0</th>\n",
       "      <td>1</td>\n",
       "      <td>2.0</td>\n",
       "      <td>8</td>\n",
       "      <td>behavioral_data/subject_21</td>\n",
       "    </tr>\n",
       "    <tr>\n",
       "      <th>1</th>\n",
       "      <td>2</td>\n",
       "      <td>3.0</td>\n",
       "      <td>15</td>\n",
       "      <td>behavioral_data/subject_21</td>\n",
       "    </tr>\n",
       "    <tr>\n",
       "      <th>2</th>\n",
       "      <td>3</td>\n",
       "      <td>4.0</td>\n",
       "      <td>11</td>\n",
       "      <td>behavioral_data/subject_21</td>\n",
       "    </tr>\n",
       "  </tbody>\n",
       "</table>\n",
       "</div>"
      ],
      "text/plain": [
       "   Unnamed: 0  run  moviestim                     subject\n",
       "0           1  2.0          8  behavioral_data/subject_21\n",
       "1           2  3.0         15  behavioral_data/subject_21\n",
       "2           3  4.0         11  behavioral_data/subject_21"
      ]
     },
     "execution_count": 26,
     "metadata": {},
     "output_type": "execute_result"
    }
   ],
   "source": [
    "pd.read_csv('/jukebox/graziano/kirsten/MRI/MRI/pygers_workshop/sample_study/data/behavioral/exclude_runs_behavioral.csv')"
   ]
  },
  {
   "cell_type": "markdown",
   "id": "b4fa8309",
   "metadata": {},
   "source": [
    "# Functions"
   ]
  },
  {
   "cell_type": "code",
   "execution_count": 27,
   "id": "1c64976a",
   "metadata": {},
   "outputs": [],
   "source": [
    "def get_data(image, mask=False, avg_mask=np.nan, full_output=False):\n",
    "    '''\n",
    "    inputs  : mask_type - string - mask_type (options: gm (grey matter), \n",
    "                                                    whole-brain, \n",
    "                                                    wm (white matter))\n",
    "              image     - string - path to mri data for a single run\n",
    "    outputs : masked_data - ???? - brain data with grey matter mask applied\n",
    "    '''\n",
    "    \n",
    "    # Load your fMRI data\n",
    "    fmri_image = nib.load(image)\n",
    "    \n",
    "    if mask == True:\n",
    "        \n",
    "        print(\"you're already passing mask into the model!\")\n",
    "    \n",
    "    else:\n",
    "        \n",
    "        final_data = fmri_image.get_fdata()\n",
    "    \n",
    "    if full_output:\n",
    "        \n",
    "        affine = fmri_image.affine\n",
    "        header = fmri_image.header\n",
    "        shape  = final_data.shape\n",
    "        \n",
    "        return(fmri_image, final_data, affine, header, shape)\n",
    "    \n",
    "    else:\n",
    "        \n",
    "        return(final_data)"
   ]
  },
  {
   "cell_type": "code",
   "execution_count": 28,
   "id": "90329fa2",
   "metadata": {},
   "outputs": [],
   "source": [
    "def get_good_runs(data_dir, subject, percent_frames=.30, fwd=.5, exclude=[]):\n",
    "    '''\n",
    "    input   :  data_dir  - string - path to subject directories\n",
    "               subject   - string - subject directory\n",
    "    output  :  good_runs - list   - list of runs with <30% of frames with motion (>=.5 FWD)\n",
    "    '''\n",
    "    \n",
    "    good_runs   = []\n",
    "    regressors  = []\n",
    "    \n",
    "    for r in ['01','02','03','04','05','06']:\n",
    "        \n",
    "        if r not in exclude:\n",
    "        \n",
    "            # note: not using res-2 <-- lower resolution?\n",
    "            df      = pd.read_csv(data_dir+subject+'/ses-01/func/'+subject+'_ses-01_task-PredictingAttention_run-'+r+'_desc-confounds_timeseries.tsv', sep=\"\\t\")\n",
    "            percent = df[df['framewise_displacement']>=fwd].shape[0] / df.shape[0]\n",
    "\n",
    "            # if bad motion in less than 30% of frames --> good run\n",
    "            if percent < percent_frames:\n",
    "                good_runs.append(r)\n",
    "\n",
    "                l = list(df['framewise_displacement']>.5)\n",
    "                l_new = [int(x) for x in l]\n",
    "                regressors.append(l_new)\n",
    "        \n",
    "    return(good_runs,regressors)\n",
    "\n"
   ]
  },
  {
   "cell_type": "markdown",
   "id": "ec73e4a5",
   "metadata": {},
   "source": [
    "### Do the GLM"
   ]
  },
  {
   "cell_type": "code",
   "execution_count": 16,
   "id": "9e10bbbf",
   "metadata": {
    "scrolled": false
   },
   "outputs": [
    {
     "name": "stdout",
     "output_type": "stream",
     "text": [
      "sub-018\n",
      "veridical---scrambled\n"
     ]
    },
    {
     "name": "stderr",
     "output_type": "stream",
     "text": [
      "/usr/people/kz0108/miniconda3/envs/pygers/lib/python3.11/site-packages/nilearn/glm/first_level/experimental_paradigm.py:166: UserWarning: The following unexpected columns in events data will be ignored: stim_file, TODO -- fill in rows and add more tab-separated columns if desired, response_time\n",
      "  warnings.warn(\n",
      "/usr/people/kz0108/miniconda3/envs/pygers/lib/python3.11/site-packages/nilearn/glm/first_level/experimental_paradigm.py:166: UserWarning: The following unexpected columns in events data will be ignored: stim_file, TODO -- fill in rows and add more tab-separated columns if desired, response_time\n",
      "  warnings.warn(\n",
      "/usr/people/kz0108/miniconda3/envs/pygers/lib/python3.11/site-packages/nilearn/glm/first_level/experimental_paradigm.py:166: UserWarning: The following unexpected columns in events data will be ignored: stim_file, TODO -- fill in rows and add more tab-separated columns if desired, response_time\n",
      "  warnings.warn(\n",
      "/usr/people/kz0108/miniconda3/envs/pygers/lib/python3.11/site-packages/nilearn/glm/first_level/experimental_paradigm.py:166: UserWarning: The following unexpected columns in events data will be ignored: stim_file, TODO -- fill in rows and add more tab-separated columns if desired, response_time\n",
      "  warnings.warn(\n",
      "/usr/people/kz0108/miniconda3/envs/pygers/lib/python3.11/site-packages/nilearn/glm/first_level/experimental_paradigm.py:166: UserWarning: The following unexpected columns in events data will be ignored: stim_file, TODO -- fill in rows and add more tab-separated columns if desired, response_time\n",
      "  warnings.warn(\n",
      "/usr/people/kz0108/miniconda3/envs/pygers/lib/python3.11/site-packages/nilearn/glm/first_level/experimental_paradigm.py:166: UserWarning: The following unexpected columns in events data will be ignored: stim_file, TODO -- fill in rows and add more tab-separated columns if desired, response_time\n",
      "  warnings.warn(\n",
      "/usr/people/kz0108/miniconda3/envs/pygers/lib/python3.11/site-packages/nilearn/glm/first_level/first_level.py:547: UserWarning: If design matrices are supplied, confounds and events will be ignored.\n",
      "  warn(\n"
     ]
    },
    {
     "name": "stdout",
     "output_type": "stream",
     "text": [
      "ready to fit the model\n",
      "ready to fit the model\n",
      "ready to fit the model\n",
      "ready to fit the model\n",
      "ready to fit the model\n",
      "ready to fit the model\n",
      "(78, 93, 78, 110)\n",
      "(110, 16)\n",
      "(110, 19)\n",
      "(20, 6)\n",
      "(110,)\n"
     ]
    },
    {
     "name": "stderr",
     "output_type": "stream",
     "text": [
      "/usr/people/kz0108/miniconda3/envs/pygers/lib/python3.11/site-packages/nilearn/maskers/nifti_masker.py:108: UserWarning: imgs are being resampled to the mask_img resolution. This process is memory intensive. You might want to provide a target_affine that is equal to the affine of the imgs or resample the mask beforehand to save memory and computation time.\n",
      "  warnings.warn(\n",
      "/usr/people/kz0108/miniconda3/envs/pygers/lib/python3.11/site-packages/joblib/memory.py:353: FutureWarning: The default strategy for standardize is currently 'zscore' which incorrectly uses population std to calculate sample zscores. The new strategy 'zscore_sample' corrects this behavior by using the sample std. In release 0.13, the default strategy will be replaced by the new strategy and the 'zscore' option will be removed. Please use 'zscore_sample' instead.\n",
      "  return self.func(*args, **kwargs)\n",
      "/usr/people/kz0108/miniconda3/envs/pygers/lib/python3.11/site-packages/nilearn/maskers/nifti_masker.py:108: UserWarning: imgs are being resampled to the mask_img resolution. This process is memory intensive. You might want to provide a target_affine that is equal to the affine of the imgs or resample the mask beforehand to save memory and computation time.\n",
      "  warnings.warn(\n",
      "/usr/people/kz0108/miniconda3/envs/pygers/lib/python3.11/site-packages/joblib/memory.py:353: FutureWarning: The default strategy for standardize is currently 'zscore' which incorrectly uses population std to calculate sample zscores. The new strategy 'zscore_sample' corrects this behavior by using the sample std. In release 0.13, the default strategy will be replaced by the new strategy and the 'zscore' option will be removed. Please use 'zscore_sample' instead.\n",
      "  return self.func(*args, **kwargs)\n",
      "/usr/people/kz0108/miniconda3/envs/pygers/lib/python3.11/site-packages/nilearn/maskers/nifti_masker.py:108: UserWarning: imgs are being resampled to the mask_img resolution. This process is memory intensive. You might want to provide a target_affine that is equal to the affine of the imgs or resample the mask beforehand to save memory and computation time.\n",
      "  warnings.warn(\n",
      "/usr/people/kz0108/miniconda3/envs/pygers/lib/python3.11/site-packages/joblib/memory.py:353: FutureWarning: The default strategy for standardize is currently 'zscore' which incorrectly uses population std to calculate sample zscores. The new strategy 'zscore_sample' corrects this behavior by using the sample std. In release 0.13, the default strategy will be replaced by the new strategy and the 'zscore' option will be removed. Please use 'zscore_sample' instead.\n",
      "  return self.func(*args, **kwargs)\n",
      "/usr/people/kz0108/miniconda3/envs/pygers/lib/python3.11/site-packages/nilearn/maskers/nifti_masker.py:108: UserWarning: imgs are being resampled to the mask_img resolution. This process is memory intensive. You might want to provide a target_affine that is equal to the affine of the imgs or resample the mask beforehand to save memory and computation time.\n",
      "  warnings.warn(\n",
      "/usr/people/kz0108/miniconda3/envs/pygers/lib/python3.11/site-packages/joblib/memory.py:353: FutureWarning: The default strategy for standardize is currently 'zscore' which incorrectly uses population std to calculate sample zscores. The new strategy 'zscore_sample' corrects this behavior by using the sample std. In release 0.13, the default strategy will be replaced by the new strategy and the 'zscore' option will be removed. Please use 'zscore_sample' instead.\n",
      "  return self.func(*args, **kwargs)\n",
      "/usr/people/kz0108/miniconda3/envs/pygers/lib/python3.11/site-packages/nilearn/maskers/nifti_masker.py:108: UserWarning: imgs are being resampled to the mask_img resolution. This process is memory intensive. You might want to provide a target_affine that is equal to the affine of the imgs or resample the mask beforehand to save memory and computation time.\n",
      "  warnings.warn(\n",
      "/usr/people/kz0108/miniconda3/envs/pygers/lib/python3.11/site-packages/joblib/memory.py:353: FutureWarning: The default strategy for standardize is currently 'zscore' which incorrectly uses population std to calculate sample zscores. The new strategy 'zscore_sample' corrects this behavior by using the sample std. In release 0.13, the default strategy will be replaced by the new strategy and the 'zscore' option will be removed. Please use 'zscore_sample' instead.\n",
      "  return self.func(*args, **kwargs)\n",
      "/usr/people/kz0108/miniconda3/envs/pygers/lib/python3.11/site-packages/nilearn/maskers/nifti_masker.py:108: UserWarning: imgs are being resampled to the mask_img resolution. This process is memory intensive. You might want to provide a target_affine that is equal to the affine of the imgs or resample the mask beforehand to save memory and computation time.\n",
      "  warnings.warn(\n",
      "/usr/people/kz0108/miniconda3/envs/pygers/lib/python3.11/site-packages/joblib/memory.py:353: FutureWarning: The default strategy for standardize is currently 'zscore' which incorrectly uses population std to calculate sample zscores. The new strategy 'zscore_sample' corrects this behavior by using the sample std. In release 0.13, the default strategy will be replaced by the new strategy and the 'zscore' option will be removed. Please use 'zscore_sample' instead.\n",
      "  return self.func(*args, **kwargs)\n"
     ]
    },
    {
     "name": "stdout",
     "output_type": "stream",
     "text": [
      "ready to compute contrasts\n"
     ]
    },
    {
     "name": "stderr",
     "output_type": "stream",
     "text": [
      "/usr/people/kz0108/miniconda3/envs/pygers/lib/python3.11/site-packages/nilearn/glm/first_level/first_level.py:799: UserWarning: One contrast given, assuming it for all 6 runs\n",
      "  warn(f\"One contrast given, assuming it for all {int(n_runs)} runs\")\n"
     ]
    },
    {
     "name": "stdout",
     "output_type": "stream",
     "text": [
      "contrasts computed\n",
      "directory path created\n",
      "Directory already exists: first_level_GLM\n",
      "contrasts saved out\n",
      "first_level_GLM/labeled-type-videos_veridical---scrambled_Wed-May--1-08:40:39-2024_sub-018_z-score.nii.gz\n",
      "sub-007\n",
      "veridical---scrambled\n"
     ]
    },
    {
     "name": "stderr",
     "output_type": "stream",
     "text": [
      "/usr/people/kz0108/miniconda3/envs/pygers/lib/python3.11/site-packages/nilearn/glm/first_level/experimental_paradigm.py:166: UserWarning: The following unexpected columns in events data will be ignored: stim_file, TODO -- fill in rows and add more tab-separated columns if desired, response_time\n",
      "  warnings.warn(\n",
      "/usr/people/kz0108/miniconda3/envs/pygers/lib/python3.11/site-packages/nilearn/glm/first_level/experimental_paradigm.py:166: UserWarning: The following unexpected columns in events data will be ignored: stim_file, TODO -- fill in rows and add more tab-separated columns if desired, response_time\n",
      "  warnings.warn(\n",
      "/usr/people/kz0108/miniconda3/envs/pygers/lib/python3.11/site-packages/nilearn/glm/first_level/experimental_paradigm.py:166: UserWarning: The following unexpected columns in events data will be ignored: stim_file, TODO -- fill in rows and add more tab-separated columns if desired, response_time\n",
      "  warnings.warn(\n",
      "/usr/people/kz0108/miniconda3/envs/pygers/lib/python3.11/site-packages/nilearn/glm/first_level/experimental_paradigm.py:166: UserWarning: The following unexpected columns in events data will be ignored: stim_file, TODO -- fill in rows and add more tab-separated columns if desired, response_time\n",
      "  warnings.warn(\n",
      "/usr/people/kz0108/miniconda3/envs/pygers/lib/python3.11/site-packages/nilearn/glm/first_level/experimental_paradigm.py:166: UserWarning: The following unexpected columns in events data will be ignored: stim_file, TODO -- fill in rows and add more tab-separated columns if desired, response_time\n",
      "  warnings.warn(\n",
      "/usr/people/kz0108/miniconda3/envs/pygers/lib/python3.11/site-packages/nilearn/glm/first_level/experimental_paradigm.py:166: UserWarning: The following unexpected columns in events data will be ignored: stim_file, TODO -- fill in rows and add more tab-separated columns if desired, response_time\n",
      "  warnings.warn(\n",
      "/usr/people/kz0108/miniconda3/envs/pygers/lib/python3.11/site-packages/nilearn/glm/first_level/first_level.py:547: UserWarning: If design matrices are supplied, confounds and events will be ignored.\n",
      "  warn(\n"
     ]
    },
    {
     "name": "stdout",
     "output_type": "stream",
     "text": [
      "ready to fit the model\n",
      "ready to fit the model\n",
      "ready to fit the model\n",
      "ready to fit the model\n",
      "ready to fit the model\n",
      "ready to fit the model\n",
      "(78, 93, 78, 110)\n",
      "(110, 16)\n",
      "(110, 19)\n",
      "(20, 6)\n",
      "(110,)\n"
     ]
    },
    {
     "name": "stderr",
     "output_type": "stream",
     "text": [
      "/usr/people/kz0108/miniconda3/envs/pygers/lib/python3.11/site-packages/nilearn/maskers/nifti_masker.py:108: UserWarning: imgs are being resampled to the mask_img resolution. This process is memory intensive. You might want to provide a target_affine that is equal to the affine of the imgs or resample the mask beforehand to save memory and computation time.\n",
      "  warnings.warn(\n",
      "/usr/people/kz0108/miniconda3/envs/pygers/lib/python3.11/site-packages/joblib/memory.py:353: FutureWarning: The default strategy for standardize is currently 'zscore' which incorrectly uses population std to calculate sample zscores. The new strategy 'zscore_sample' corrects this behavior by using the sample std. In release 0.13, the default strategy will be replaced by the new strategy and the 'zscore' option will be removed. Please use 'zscore_sample' instead.\n",
      "  return self.func(*args, **kwargs)\n",
      "/usr/people/kz0108/miniconda3/envs/pygers/lib/python3.11/site-packages/nilearn/maskers/nifti_masker.py:108: UserWarning: imgs are being resampled to the mask_img resolution. This process is memory intensive. You might want to provide a target_affine that is equal to the affine of the imgs or resample the mask beforehand to save memory and computation time.\n",
      "  warnings.warn(\n",
      "/usr/people/kz0108/miniconda3/envs/pygers/lib/python3.11/site-packages/joblib/memory.py:353: FutureWarning: The default strategy for standardize is currently 'zscore' which incorrectly uses population std to calculate sample zscores. The new strategy 'zscore_sample' corrects this behavior by using the sample std. In release 0.13, the default strategy will be replaced by the new strategy and the 'zscore' option will be removed. Please use 'zscore_sample' instead.\n",
      "  return self.func(*args, **kwargs)\n",
      "/usr/people/kz0108/miniconda3/envs/pygers/lib/python3.11/site-packages/nilearn/maskers/nifti_masker.py:108: UserWarning: imgs are being resampled to the mask_img resolution. This process is memory intensive. You might want to provide a target_affine that is equal to the affine of the imgs or resample the mask beforehand to save memory and computation time.\n",
      "  warnings.warn(\n",
      "/usr/people/kz0108/miniconda3/envs/pygers/lib/python3.11/site-packages/joblib/memory.py:353: FutureWarning: The default strategy for standardize is currently 'zscore' which incorrectly uses population std to calculate sample zscores. The new strategy 'zscore_sample' corrects this behavior by using the sample std. In release 0.13, the default strategy will be replaced by the new strategy and the 'zscore' option will be removed. Please use 'zscore_sample' instead.\n",
      "  return self.func(*args, **kwargs)\n",
      "/usr/people/kz0108/miniconda3/envs/pygers/lib/python3.11/site-packages/nilearn/maskers/nifti_masker.py:108: UserWarning: imgs are being resampled to the mask_img resolution. This process is memory intensive. You might want to provide a target_affine that is equal to the affine of the imgs or resample the mask beforehand to save memory and computation time.\n",
      "  warnings.warn(\n",
      "/usr/people/kz0108/miniconda3/envs/pygers/lib/python3.11/site-packages/joblib/memory.py:353: FutureWarning: The default strategy for standardize is currently 'zscore' which incorrectly uses population std to calculate sample zscores. The new strategy 'zscore_sample' corrects this behavior by using the sample std. In release 0.13, the default strategy will be replaced by the new strategy and the 'zscore' option will be removed. Please use 'zscore_sample' instead.\n",
      "  return self.func(*args, **kwargs)\n",
      "/usr/people/kz0108/miniconda3/envs/pygers/lib/python3.11/site-packages/nilearn/maskers/nifti_masker.py:108: UserWarning: imgs are being resampled to the mask_img resolution. This process is memory intensive. You might want to provide a target_affine that is equal to the affine of the imgs or resample the mask beforehand to save memory and computation time.\n",
      "  warnings.warn(\n",
      "/usr/people/kz0108/miniconda3/envs/pygers/lib/python3.11/site-packages/joblib/memory.py:353: FutureWarning: The default strategy for standardize is currently 'zscore' which incorrectly uses population std to calculate sample zscores. The new strategy 'zscore_sample' corrects this behavior by using the sample std. In release 0.13, the default strategy will be replaced by the new strategy and the 'zscore' option will be removed. Please use 'zscore_sample' instead.\n",
      "  return self.func(*args, **kwargs)\n",
      "/usr/people/kz0108/miniconda3/envs/pygers/lib/python3.11/site-packages/nilearn/maskers/nifti_masker.py:108: UserWarning: imgs are being resampled to the mask_img resolution. This process is memory intensive. You might want to provide a target_affine that is equal to the affine of the imgs or resample the mask beforehand to save memory and computation time.\n",
      "  warnings.warn(\n",
      "/usr/people/kz0108/miniconda3/envs/pygers/lib/python3.11/site-packages/joblib/memory.py:353: FutureWarning: The default strategy for standardize is currently 'zscore' which incorrectly uses population std to calculate sample zscores. The new strategy 'zscore_sample' corrects this behavior by using the sample std. In release 0.13, the default strategy will be replaced by the new strategy and the 'zscore' option will be removed. Please use 'zscore_sample' instead.\n",
      "  return self.func(*args, **kwargs)\n"
     ]
    },
    {
     "name": "stdout",
     "output_type": "stream",
     "text": [
      "ready to compute contrasts\n"
     ]
    },
    {
     "name": "stderr",
     "output_type": "stream",
     "text": [
      "/usr/people/kz0108/miniconda3/envs/pygers/lib/python3.11/site-packages/nilearn/glm/first_level/first_level.py:799: UserWarning: One contrast given, assuming it for all 6 runs\n",
      "  warn(f\"One contrast given, assuming it for all {int(n_runs)} runs\")\n"
     ]
    },
    {
     "name": "stdout",
     "output_type": "stream",
     "text": [
      "contrasts computed\n",
      "directory path created\n",
      "Directory already exists: first_level_GLM\n",
      "contrasts saved out\n",
      "first_level_GLM/labeled-type-videos_veridical---scrambled_Wed-May--1-08:42:44-2024_sub-007_z-score.nii.gz\n",
      "sub-004\n",
      "veridical---scrambled\n"
     ]
    },
    {
     "name": "stderr",
     "output_type": "stream",
     "text": [
      "/usr/people/kz0108/miniconda3/envs/pygers/lib/python3.11/site-packages/nilearn/glm/first_level/experimental_paradigm.py:166: UserWarning: The following unexpected columns in events data will be ignored: stim_file, TODO -- fill in rows and add more tab-separated columns if desired, response_time\n",
      "  warnings.warn(\n",
      "/usr/people/kz0108/miniconda3/envs/pygers/lib/python3.11/site-packages/nilearn/glm/first_level/experimental_paradigm.py:166: UserWarning: The following unexpected columns in events data will be ignored: stim_file, TODO -- fill in rows and add more tab-separated columns if desired, response_time\n",
      "  warnings.warn(\n",
      "/usr/people/kz0108/miniconda3/envs/pygers/lib/python3.11/site-packages/nilearn/glm/first_level/experimental_paradigm.py:166: UserWarning: The following unexpected columns in events data will be ignored: stim_file, TODO -- fill in rows and add more tab-separated columns if desired, response_time\n",
      "  warnings.warn(\n",
      "/usr/people/kz0108/miniconda3/envs/pygers/lib/python3.11/site-packages/nilearn/glm/first_level/experimental_paradigm.py:166: UserWarning: The following unexpected columns in events data will be ignored: stim_file, TODO -- fill in rows and add more tab-separated columns if desired, response_time\n",
      "  warnings.warn(\n",
      "/usr/people/kz0108/miniconda3/envs/pygers/lib/python3.11/site-packages/nilearn/glm/first_level/experimental_paradigm.py:166: UserWarning: The following unexpected columns in events data will be ignored: stim_file, TODO -- fill in rows and add more tab-separated columns if desired, response_time\n",
      "  warnings.warn(\n",
      "/usr/people/kz0108/miniconda3/envs/pygers/lib/python3.11/site-packages/nilearn/glm/first_level/experimental_paradigm.py:166: UserWarning: The following unexpected columns in events data will be ignored: stim_file, TODO -- fill in rows and add more tab-separated columns if desired, response_time\n",
      "  warnings.warn(\n",
      "/usr/people/kz0108/miniconda3/envs/pygers/lib/python3.11/site-packages/nilearn/glm/first_level/first_level.py:547: UserWarning: If design matrices are supplied, confounds and events will be ignored.\n",
      "  warn(\n"
     ]
    },
    {
     "name": "stdout",
     "output_type": "stream",
     "text": [
      "ready to fit the model\n",
      "ready to fit the model\n",
      "ready to fit the model\n",
      "ready to fit the model\n",
      "ready to fit the model\n",
      "ready to fit the model\n",
      "(78, 93, 78, 110)\n",
      "(110, 16)\n",
      "(110, 19)\n",
      "(20, 6)\n",
      "(110,)\n"
     ]
    },
    {
     "name": "stderr",
     "output_type": "stream",
     "text": [
      "/usr/people/kz0108/miniconda3/envs/pygers/lib/python3.11/site-packages/nilearn/maskers/nifti_masker.py:108: UserWarning: imgs are being resampled to the mask_img resolution. This process is memory intensive. You might want to provide a target_affine that is equal to the affine of the imgs or resample the mask beforehand to save memory and computation time.\n",
      "  warnings.warn(\n",
      "/usr/people/kz0108/miniconda3/envs/pygers/lib/python3.11/site-packages/joblib/memory.py:353: FutureWarning: The default strategy for standardize is currently 'zscore' which incorrectly uses population std to calculate sample zscores. The new strategy 'zscore_sample' corrects this behavior by using the sample std. In release 0.13, the default strategy will be replaced by the new strategy and the 'zscore' option will be removed. Please use 'zscore_sample' instead.\n",
      "  return self.func(*args, **kwargs)\n",
      "/usr/people/kz0108/miniconda3/envs/pygers/lib/python3.11/site-packages/nilearn/maskers/nifti_masker.py:108: UserWarning: imgs are being resampled to the mask_img resolution. This process is memory intensive. You might want to provide a target_affine that is equal to the affine of the imgs or resample the mask beforehand to save memory and computation time.\n",
      "  warnings.warn(\n",
      "/usr/people/kz0108/miniconda3/envs/pygers/lib/python3.11/site-packages/joblib/memory.py:353: FutureWarning: The default strategy for standardize is currently 'zscore' which incorrectly uses population std to calculate sample zscores. The new strategy 'zscore_sample' corrects this behavior by using the sample std. In release 0.13, the default strategy will be replaced by the new strategy and the 'zscore' option will be removed. Please use 'zscore_sample' instead.\n",
      "  return self.func(*args, **kwargs)\n",
      "/usr/people/kz0108/miniconda3/envs/pygers/lib/python3.11/site-packages/nilearn/maskers/nifti_masker.py:108: UserWarning: imgs are being resampled to the mask_img resolution. This process is memory intensive. You might want to provide a target_affine that is equal to the affine of the imgs or resample the mask beforehand to save memory and computation time.\n",
      "  warnings.warn(\n",
      "/usr/people/kz0108/miniconda3/envs/pygers/lib/python3.11/site-packages/joblib/memory.py:353: FutureWarning: The default strategy for standardize is currently 'zscore' which incorrectly uses population std to calculate sample zscores. The new strategy 'zscore_sample' corrects this behavior by using the sample std. In release 0.13, the default strategy will be replaced by the new strategy and the 'zscore' option will be removed. Please use 'zscore_sample' instead.\n",
      "  return self.func(*args, **kwargs)\n",
      "/usr/people/kz0108/miniconda3/envs/pygers/lib/python3.11/site-packages/nilearn/maskers/nifti_masker.py:108: UserWarning: imgs are being resampled to the mask_img resolution. This process is memory intensive. You might want to provide a target_affine that is equal to the affine of the imgs or resample the mask beforehand to save memory and computation time.\n",
      "  warnings.warn(\n",
      "/usr/people/kz0108/miniconda3/envs/pygers/lib/python3.11/site-packages/joblib/memory.py:353: FutureWarning: The default strategy for standardize is currently 'zscore' which incorrectly uses population std to calculate sample zscores. The new strategy 'zscore_sample' corrects this behavior by using the sample std. In release 0.13, the default strategy will be replaced by the new strategy and the 'zscore' option will be removed. Please use 'zscore_sample' instead.\n",
      "  return self.func(*args, **kwargs)\n",
      "/usr/people/kz0108/miniconda3/envs/pygers/lib/python3.11/site-packages/nilearn/maskers/nifti_masker.py:108: UserWarning: imgs are being resampled to the mask_img resolution. This process is memory intensive. You might want to provide a target_affine that is equal to the affine of the imgs or resample the mask beforehand to save memory and computation time.\n",
      "  warnings.warn(\n",
      "/usr/people/kz0108/miniconda3/envs/pygers/lib/python3.11/site-packages/joblib/memory.py:353: FutureWarning: The default strategy for standardize is currently 'zscore' which incorrectly uses population std to calculate sample zscores. The new strategy 'zscore_sample' corrects this behavior by using the sample std. In release 0.13, the default strategy will be replaced by the new strategy and the 'zscore' option will be removed. Please use 'zscore_sample' instead.\n",
      "  return self.func(*args, **kwargs)\n",
      "/usr/people/kz0108/miniconda3/envs/pygers/lib/python3.11/site-packages/nilearn/maskers/nifti_masker.py:108: UserWarning: imgs are being resampled to the mask_img resolution. This process is memory intensive. You might want to provide a target_affine that is equal to the affine of the imgs or resample the mask beforehand to save memory and computation time.\n",
      "  warnings.warn(\n",
      "/usr/people/kz0108/miniconda3/envs/pygers/lib/python3.11/site-packages/joblib/memory.py:353: FutureWarning: The default strategy for standardize is currently 'zscore' which incorrectly uses population std to calculate sample zscores. The new strategy 'zscore_sample' corrects this behavior by using the sample std. In release 0.13, the default strategy will be replaced by the new strategy and the 'zscore' option will be removed. Please use 'zscore_sample' instead.\n",
      "  return self.func(*args, **kwargs)\n"
     ]
    },
    {
     "name": "stdout",
     "output_type": "stream",
     "text": [
      "ready to compute contrasts\n"
     ]
    },
    {
     "name": "stderr",
     "output_type": "stream",
     "text": [
      "/usr/people/kz0108/miniconda3/envs/pygers/lib/python3.11/site-packages/nilearn/glm/first_level/first_level.py:799: UserWarning: One contrast given, assuming it for all 6 runs\n",
      "  warn(f\"One contrast given, assuming it for all {int(n_runs)} runs\")\n"
     ]
    },
    {
     "name": "stdout",
     "output_type": "stream",
     "text": [
      "contrasts computed\n",
      "directory path created\n",
      "Directory already exists: first_level_GLM\n",
      "contrasts saved out\n",
      "first_level_GLM/labeled-type-videos_veridical---scrambled_Wed-May--1-08:44:55-2024_sub-004_z-score.nii.gz\n",
      "sub-020\n",
      "veridical---scrambled\n"
     ]
    },
    {
     "name": "stderr",
     "output_type": "stream",
     "text": [
      "/usr/people/kz0108/miniconda3/envs/pygers/lib/python3.11/site-packages/nilearn/glm/first_level/experimental_paradigm.py:166: UserWarning: The following unexpected columns in events data will be ignored: stim_file, TODO -- fill in rows and add more tab-separated columns if desired, response_time\n",
      "  warnings.warn(\n",
      "/usr/people/kz0108/miniconda3/envs/pygers/lib/python3.11/site-packages/nilearn/glm/first_level/experimental_paradigm.py:166: UserWarning: The following unexpected columns in events data will be ignored: stim_file, TODO -- fill in rows and add more tab-separated columns if desired, response_time\n",
      "  warnings.warn(\n",
      "/usr/people/kz0108/miniconda3/envs/pygers/lib/python3.11/site-packages/nilearn/glm/first_level/experimental_paradigm.py:166: UserWarning: The following unexpected columns in events data will be ignored: stim_file, TODO -- fill in rows and add more tab-separated columns if desired, response_time\n",
      "  warnings.warn(\n",
      "/usr/people/kz0108/miniconda3/envs/pygers/lib/python3.11/site-packages/nilearn/glm/first_level/experimental_paradigm.py:166: UserWarning: The following unexpected columns in events data will be ignored: stim_file, TODO -- fill in rows and add more tab-separated columns if desired, response_time\n",
      "  warnings.warn(\n",
      "/usr/people/kz0108/miniconda3/envs/pygers/lib/python3.11/site-packages/nilearn/glm/first_level/experimental_paradigm.py:166: UserWarning: The following unexpected columns in events data will be ignored: stim_file, TODO -- fill in rows and add more tab-separated columns if desired, response_time\n",
      "  warnings.warn(\n",
      "/usr/people/kz0108/miniconda3/envs/pygers/lib/python3.11/site-packages/nilearn/glm/first_level/experimental_paradigm.py:166: UserWarning: The following unexpected columns in events data will be ignored: stim_file, TODO -- fill in rows and add more tab-separated columns if desired, response_time\n",
      "  warnings.warn(\n"
     ]
    },
    {
     "name": "stdout",
     "output_type": "stream",
     "text": [
      "ready to fit the model\n",
      "ready to fit the model\n",
      "ready to fit the model\n",
      "ready to fit the model\n",
      "ready to fit the model\n",
      "ready to fit the model\n",
      "(78, 93, 78, 110)\n",
      "(110, 16)\n",
      "(110, 19)\n",
      "(20, 6)\n",
      "(109,)\n"
     ]
    },
    {
     "name": "stderr",
     "output_type": "stream",
     "text": [
      "/usr/people/kz0108/miniconda3/envs/pygers/lib/python3.11/site-packages/nilearn/glm/first_level/first_level.py:547: UserWarning: If design matrices are supplied, confounds and events will be ignored.\n",
      "  warn(\n",
      "/usr/people/kz0108/miniconda3/envs/pygers/lib/python3.11/site-packages/nilearn/maskers/nifti_masker.py:108: UserWarning: imgs are being resampled to the mask_img resolution. This process is memory intensive. You might want to provide a target_affine that is equal to the affine of the imgs or resample the mask beforehand to save memory and computation time.\n",
      "  warnings.warn(\n",
      "/usr/people/kz0108/miniconda3/envs/pygers/lib/python3.11/site-packages/joblib/memory.py:353: FutureWarning: The default strategy for standardize is currently 'zscore' which incorrectly uses population std to calculate sample zscores. The new strategy 'zscore_sample' corrects this behavior by using the sample std. In release 0.13, the default strategy will be replaced by the new strategy and the 'zscore' option will be removed. Please use 'zscore_sample' instead.\n",
      "  return self.func(*args, **kwargs)\n",
      "/usr/people/kz0108/miniconda3/envs/pygers/lib/python3.11/site-packages/nilearn/maskers/nifti_masker.py:108: UserWarning: imgs are being resampled to the mask_img resolution. This process is memory intensive. You might want to provide a target_affine that is equal to the affine of the imgs or resample the mask beforehand to save memory and computation time.\n",
      "  warnings.warn(\n",
      "/usr/people/kz0108/miniconda3/envs/pygers/lib/python3.11/site-packages/joblib/memory.py:353: FutureWarning: The default strategy for standardize is currently 'zscore' which incorrectly uses population std to calculate sample zscores. The new strategy 'zscore_sample' corrects this behavior by using the sample std. In release 0.13, the default strategy will be replaced by the new strategy and the 'zscore' option will be removed. Please use 'zscore_sample' instead.\n",
      "  return self.func(*args, **kwargs)\n",
      "/usr/people/kz0108/miniconda3/envs/pygers/lib/python3.11/site-packages/nilearn/maskers/nifti_masker.py:108: UserWarning: imgs are being resampled to the mask_img resolution. This process is memory intensive. You might want to provide a target_affine that is equal to the affine of the imgs or resample the mask beforehand to save memory and computation time.\n",
      "  warnings.warn(\n",
      "/usr/people/kz0108/miniconda3/envs/pygers/lib/python3.11/site-packages/joblib/memory.py:353: FutureWarning: The default strategy for standardize is currently 'zscore' which incorrectly uses population std to calculate sample zscores. The new strategy 'zscore_sample' corrects this behavior by using the sample std. In release 0.13, the default strategy will be replaced by the new strategy and the 'zscore' option will be removed. Please use 'zscore_sample' instead.\n",
      "  return self.func(*args, **kwargs)\n",
      "/usr/people/kz0108/miniconda3/envs/pygers/lib/python3.11/site-packages/nilearn/maskers/nifti_masker.py:108: UserWarning: imgs are being resampled to the mask_img resolution. This process is memory intensive. You might want to provide a target_affine that is equal to the affine of the imgs or resample the mask beforehand to save memory and computation time.\n",
      "  warnings.warn(\n",
      "/usr/people/kz0108/miniconda3/envs/pygers/lib/python3.11/site-packages/joblib/memory.py:353: FutureWarning: The default strategy for standardize is currently 'zscore' which incorrectly uses population std to calculate sample zscores. The new strategy 'zscore_sample' corrects this behavior by using the sample std. In release 0.13, the default strategy will be replaced by the new strategy and the 'zscore' option will be removed. Please use 'zscore_sample' instead.\n",
      "  return self.func(*args, **kwargs)\n",
      "/usr/people/kz0108/miniconda3/envs/pygers/lib/python3.11/site-packages/nilearn/maskers/nifti_masker.py:108: UserWarning: imgs are being resampled to the mask_img resolution. This process is memory intensive. You might want to provide a target_affine that is equal to the affine of the imgs or resample the mask beforehand to save memory and computation time.\n",
      "  warnings.warn(\n",
      "/usr/people/kz0108/miniconda3/envs/pygers/lib/python3.11/site-packages/joblib/memory.py:353: FutureWarning: The default strategy for standardize is currently 'zscore' which incorrectly uses population std to calculate sample zscores. The new strategy 'zscore_sample' corrects this behavior by using the sample std. In release 0.13, the default strategy will be replaced by the new strategy and the 'zscore' option will be removed. Please use 'zscore_sample' instead.\n",
      "  return self.func(*args, **kwargs)\n",
      "/usr/people/kz0108/miniconda3/envs/pygers/lib/python3.11/site-packages/nilearn/maskers/nifti_masker.py:108: UserWarning: imgs are being resampled to the mask_img resolution. This process is memory intensive. You might want to provide a target_affine that is equal to the affine of the imgs or resample the mask beforehand to save memory and computation time.\n",
      "  warnings.warn(\n",
      "/usr/people/kz0108/miniconda3/envs/pygers/lib/python3.11/site-packages/joblib/memory.py:353: FutureWarning: The default strategy for standardize is currently 'zscore' which incorrectly uses population std to calculate sample zscores. The new strategy 'zscore_sample' corrects this behavior by using the sample std. In release 0.13, the default strategy will be replaced by the new strategy and the 'zscore' option will be removed. Please use 'zscore_sample' instead.\n",
      "  return self.func(*args, **kwargs)\n"
     ]
    },
    {
     "name": "stdout",
     "output_type": "stream",
     "text": [
      "ready to compute contrasts\n"
     ]
    },
    {
     "name": "stderr",
     "output_type": "stream",
     "text": [
      "/usr/people/kz0108/miniconda3/envs/pygers/lib/python3.11/site-packages/nilearn/glm/first_level/first_level.py:799: UserWarning: One contrast given, assuming it for all 6 runs\n",
      "  warn(f\"One contrast given, assuming it for all {int(n_runs)} runs\")\n"
     ]
    },
    {
     "name": "stdout",
     "output_type": "stream",
     "text": [
      "contrasts computed\n",
      "directory path created\n",
      "Directory already exists: first_level_GLM\n",
      "contrasts saved out\n",
      "first_level_GLM/labeled-type-videos_veridical---scrambled_Wed-May--1-08:47:12-2024_sub-020_z-score.nii.gz\n",
      "sub-019\n",
      "veridical---scrambled\n"
     ]
    },
    {
     "name": "stderr",
     "output_type": "stream",
     "text": [
      "/usr/people/kz0108/miniconda3/envs/pygers/lib/python3.11/site-packages/nilearn/glm/first_level/experimental_paradigm.py:166: UserWarning: The following unexpected columns in events data will be ignored: stim_file, TODO -- fill in rows and add more tab-separated columns if desired, response_time\n",
      "  warnings.warn(\n",
      "/usr/people/kz0108/miniconda3/envs/pygers/lib/python3.11/site-packages/nilearn/glm/first_level/experimental_paradigm.py:166: UserWarning: The following unexpected columns in events data will be ignored: stim_file, TODO -- fill in rows and add more tab-separated columns if desired, response_time\n",
      "  warnings.warn(\n",
      "/usr/people/kz0108/miniconda3/envs/pygers/lib/python3.11/site-packages/nilearn/glm/first_level/experimental_paradigm.py:166: UserWarning: The following unexpected columns in events data will be ignored: stim_file, TODO -- fill in rows and add more tab-separated columns if desired, response_time\n",
      "  warnings.warn(\n",
      "/usr/people/kz0108/miniconda3/envs/pygers/lib/python3.11/site-packages/nilearn/glm/first_level/experimental_paradigm.py:166: UserWarning: The following unexpected columns in events data will be ignored: stim_file, TODO -- fill in rows and add more tab-separated columns if desired, response_time\n",
      "  warnings.warn(\n",
      "/usr/people/kz0108/miniconda3/envs/pygers/lib/python3.11/site-packages/nilearn/glm/first_level/experimental_paradigm.py:166: UserWarning: The following unexpected columns in events data will be ignored: stim_file, TODO -- fill in rows and add more tab-separated columns if desired, response_time\n",
      "  warnings.warn(\n",
      "/usr/people/kz0108/miniconda3/envs/pygers/lib/python3.11/site-packages/nilearn/glm/first_level/experimental_paradigm.py:166: UserWarning: The following unexpected columns in events data will be ignored: stim_file, TODO -- fill in rows and add more tab-separated columns if desired, response_time\n",
      "  warnings.warn(\n"
     ]
    },
    {
     "name": "stdout",
     "output_type": "stream",
     "text": [
      "ready to fit the model\n",
      "ready to fit the model\n",
      "ready to fit the model\n",
      "ready to fit the model\n",
      "ready to fit the model\n",
      "ready to fit the model\n",
      "(78, 93, 78, 110)\n",
      "(110, 16)\n",
      "(110, 19)\n",
      "(20, 6)\n",
      "(109,)\n"
     ]
    },
    {
     "name": "stderr",
     "output_type": "stream",
     "text": [
      "/usr/people/kz0108/miniconda3/envs/pygers/lib/python3.11/site-packages/nilearn/glm/first_level/first_level.py:547: UserWarning: If design matrices are supplied, confounds and events will be ignored.\n",
      "  warn(\n",
      "/usr/people/kz0108/miniconda3/envs/pygers/lib/python3.11/site-packages/nilearn/maskers/nifti_masker.py:108: UserWarning: imgs are being resampled to the mask_img resolution. This process is memory intensive. You might want to provide a target_affine that is equal to the affine of the imgs or resample the mask beforehand to save memory and computation time.\n",
      "  warnings.warn(\n",
      "/usr/people/kz0108/miniconda3/envs/pygers/lib/python3.11/site-packages/joblib/memory.py:353: FutureWarning: The default strategy for standardize is currently 'zscore' which incorrectly uses population std to calculate sample zscores. The new strategy 'zscore_sample' corrects this behavior by using the sample std. In release 0.13, the default strategy will be replaced by the new strategy and the 'zscore' option will be removed. Please use 'zscore_sample' instead.\n",
      "  return self.func(*args, **kwargs)\n",
      "/usr/people/kz0108/miniconda3/envs/pygers/lib/python3.11/site-packages/nilearn/maskers/nifti_masker.py:108: UserWarning: imgs are being resampled to the mask_img resolution. This process is memory intensive. You might want to provide a target_affine that is equal to the affine of the imgs or resample the mask beforehand to save memory and computation time.\n",
      "  warnings.warn(\n",
      "/usr/people/kz0108/miniconda3/envs/pygers/lib/python3.11/site-packages/joblib/memory.py:353: FutureWarning: The default strategy for standardize is currently 'zscore' which incorrectly uses population std to calculate sample zscores. The new strategy 'zscore_sample' corrects this behavior by using the sample std. In release 0.13, the default strategy will be replaced by the new strategy and the 'zscore' option will be removed. Please use 'zscore_sample' instead.\n",
      "  return self.func(*args, **kwargs)\n",
      "/usr/people/kz0108/miniconda3/envs/pygers/lib/python3.11/site-packages/nilearn/maskers/nifti_masker.py:108: UserWarning: imgs are being resampled to the mask_img resolution. This process is memory intensive. You might want to provide a target_affine that is equal to the affine of the imgs or resample the mask beforehand to save memory and computation time.\n",
      "  warnings.warn(\n",
      "/usr/people/kz0108/miniconda3/envs/pygers/lib/python3.11/site-packages/joblib/memory.py:353: FutureWarning: The default strategy for standardize is currently 'zscore' which incorrectly uses population std to calculate sample zscores. The new strategy 'zscore_sample' corrects this behavior by using the sample std. In release 0.13, the default strategy will be replaced by the new strategy and the 'zscore' option will be removed. Please use 'zscore_sample' instead.\n",
      "  return self.func(*args, **kwargs)\n",
      "/usr/people/kz0108/miniconda3/envs/pygers/lib/python3.11/site-packages/nilearn/maskers/nifti_masker.py:108: UserWarning: imgs are being resampled to the mask_img resolution. This process is memory intensive. You might want to provide a target_affine that is equal to the affine of the imgs or resample the mask beforehand to save memory and computation time.\n",
      "  warnings.warn(\n",
      "/usr/people/kz0108/miniconda3/envs/pygers/lib/python3.11/site-packages/joblib/memory.py:353: FutureWarning: The default strategy for standardize is currently 'zscore' which incorrectly uses population std to calculate sample zscores. The new strategy 'zscore_sample' corrects this behavior by using the sample std. In release 0.13, the default strategy will be replaced by the new strategy and the 'zscore' option will be removed. Please use 'zscore_sample' instead.\n",
      "  return self.func(*args, **kwargs)\n",
      "/usr/people/kz0108/miniconda3/envs/pygers/lib/python3.11/site-packages/nilearn/maskers/nifti_masker.py:108: UserWarning: imgs are being resampled to the mask_img resolution. This process is memory intensive. You might want to provide a target_affine that is equal to the affine of the imgs or resample the mask beforehand to save memory and computation time.\n",
      "  warnings.warn(\n",
      "/usr/people/kz0108/miniconda3/envs/pygers/lib/python3.11/site-packages/joblib/memory.py:353: FutureWarning: The default strategy for standardize is currently 'zscore' which incorrectly uses population std to calculate sample zscores. The new strategy 'zscore_sample' corrects this behavior by using the sample std. In release 0.13, the default strategy will be replaced by the new strategy and the 'zscore' option will be removed. Please use 'zscore_sample' instead.\n",
      "  return self.func(*args, **kwargs)\n",
      "/usr/people/kz0108/miniconda3/envs/pygers/lib/python3.11/site-packages/nilearn/maskers/nifti_masker.py:108: UserWarning: imgs are being resampled to the mask_img resolution. This process is memory intensive. You might want to provide a target_affine that is equal to the affine of the imgs or resample the mask beforehand to save memory and computation time.\n",
      "  warnings.warn(\n",
      "/usr/people/kz0108/miniconda3/envs/pygers/lib/python3.11/site-packages/joblib/memory.py:353: FutureWarning: The default strategy for standardize is currently 'zscore' which incorrectly uses population std to calculate sample zscores. The new strategy 'zscore_sample' corrects this behavior by using the sample std. In release 0.13, the default strategy will be replaced by the new strategy and the 'zscore' option will be removed. Please use 'zscore_sample' instead.\n",
      "  return self.func(*args, **kwargs)\n"
     ]
    },
    {
     "name": "stdout",
     "output_type": "stream",
     "text": [
      "ready to compute contrasts\n"
     ]
    },
    {
     "name": "stderr",
     "output_type": "stream",
     "text": [
      "/usr/people/kz0108/miniconda3/envs/pygers/lib/python3.11/site-packages/nilearn/glm/first_level/first_level.py:799: UserWarning: One contrast given, assuming it for all 6 runs\n",
      "  warn(f\"One contrast given, assuming it for all {int(n_runs)} runs\")\n"
     ]
    },
    {
     "name": "stdout",
     "output_type": "stream",
     "text": [
      "contrasts computed\n",
      "directory path created\n",
      "Directory already exists: first_level_GLM\n",
      "contrasts saved out\n",
      "first_level_GLM/labeled-type-videos_veridical---scrambled_Wed-May--1-08:49:27-2024_sub-019_z-score.nii.gz\n",
      "sub-014\n",
      "veridical---scrambled\n"
     ]
    },
    {
     "name": "stderr",
     "output_type": "stream",
     "text": [
      "/usr/people/kz0108/miniconda3/envs/pygers/lib/python3.11/site-packages/nilearn/glm/first_level/experimental_paradigm.py:166: UserWarning: The following unexpected columns in events data will be ignored: stim_file, TODO -- fill in rows and add more tab-separated columns if desired, response_time\n",
      "  warnings.warn(\n",
      "/usr/people/kz0108/miniconda3/envs/pygers/lib/python3.11/site-packages/nilearn/glm/first_level/experimental_paradigm.py:166: UserWarning: The following unexpected columns in events data will be ignored: stim_file, TODO -- fill in rows and add more tab-separated columns if desired, response_time\n",
      "  warnings.warn(\n",
      "/usr/people/kz0108/miniconda3/envs/pygers/lib/python3.11/site-packages/nilearn/glm/first_level/experimental_paradigm.py:166: UserWarning: The following unexpected columns in events data will be ignored: stim_file, TODO -- fill in rows and add more tab-separated columns if desired, response_time\n",
      "  warnings.warn(\n",
      "/usr/people/kz0108/miniconda3/envs/pygers/lib/python3.11/site-packages/nilearn/glm/first_level/experimental_paradigm.py:166: UserWarning: The following unexpected columns in events data will be ignored: stim_file, TODO -- fill in rows and add more tab-separated columns if desired, response_time\n",
      "  warnings.warn(\n",
      "/usr/people/kz0108/miniconda3/envs/pygers/lib/python3.11/site-packages/nilearn/glm/first_level/experimental_paradigm.py:166: UserWarning: The following unexpected columns in events data will be ignored: stim_file, TODO -- fill in rows and add more tab-separated columns if desired, response_time\n",
      "  warnings.warn(\n",
      "/usr/people/kz0108/miniconda3/envs/pygers/lib/python3.11/site-packages/nilearn/glm/first_level/experimental_paradigm.py:166: UserWarning: The following unexpected columns in events data will be ignored: stim_file, TODO -- fill in rows and add more tab-separated columns if desired, response_time\n",
      "  warnings.warn(\n"
     ]
    },
    {
     "name": "stdout",
     "output_type": "stream",
     "text": [
      "ready to fit the model\n",
      "ready to fit the model\n",
      "ready to fit the model\n",
      "ready to fit the model\n",
      "ready to fit the model\n",
      "ready to fit the model\n",
      "(78, 93, 78, 110)\n",
      "(110, 16)\n",
      "(110, 19)\n",
      "(20, 6)\n",
      "(86,)\n"
     ]
    },
    {
     "name": "stderr",
     "output_type": "stream",
     "text": [
      "/usr/people/kz0108/miniconda3/envs/pygers/lib/python3.11/site-packages/nilearn/glm/first_level/first_level.py:547: UserWarning: If design matrices are supplied, confounds and events will be ignored.\n",
      "  warn(\n",
      "/usr/people/kz0108/miniconda3/envs/pygers/lib/python3.11/site-packages/nilearn/maskers/nifti_masker.py:108: UserWarning: imgs are being resampled to the mask_img resolution. This process is memory intensive. You might want to provide a target_affine that is equal to the affine of the imgs or resample the mask beforehand to save memory and computation time.\n",
      "  warnings.warn(\n",
      "/usr/people/kz0108/miniconda3/envs/pygers/lib/python3.11/site-packages/joblib/memory.py:353: FutureWarning: The default strategy for standardize is currently 'zscore' which incorrectly uses population std to calculate sample zscores. The new strategy 'zscore_sample' corrects this behavior by using the sample std. In release 0.13, the default strategy will be replaced by the new strategy and the 'zscore' option will be removed. Please use 'zscore_sample' instead.\n",
      "  return self.func(*args, **kwargs)\n",
      "/usr/people/kz0108/miniconda3/envs/pygers/lib/python3.11/site-packages/nilearn/maskers/nifti_masker.py:108: UserWarning: imgs are being resampled to the mask_img resolution. This process is memory intensive. You might want to provide a target_affine that is equal to the affine of the imgs or resample the mask beforehand to save memory and computation time.\n",
      "  warnings.warn(\n",
      "/usr/people/kz0108/miniconda3/envs/pygers/lib/python3.11/site-packages/joblib/memory.py:353: FutureWarning: The default strategy for standardize is currently 'zscore' which incorrectly uses population std to calculate sample zscores. The new strategy 'zscore_sample' corrects this behavior by using the sample std. In release 0.13, the default strategy will be replaced by the new strategy and the 'zscore' option will be removed. Please use 'zscore_sample' instead.\n",
      "  return self.func(*args, **kwargs)\n",
      "/usr/people/kz0108/miniconda3/envs/pygers/lib/python3.11/site-packages/nilearn/maskers/nifti_masker.py:108: UserWarning: imgs are being resampled to the mask_img resolution. This process is memory intensive. You might want to provide a target_affine that is equal to the affine of the imgs or resample the mask beforehand to save memory and computation time.\n",
      "  warnings.warn(\n",
      "/usr/people/kz0108/miniconda3/envs/pygers/lib/python3.11/site-packages/joblib/memory.py:353: FutureWarning: The default strategy for standardize is currently 'zscore' which incorrectly uses population std to calculate sample zscores. The new strategy 'zscore_sample' corrects this behavior by using the sample std. In release 0.13, the default strategy will be replaced by the new strategy and the 'zscore' option will be removed. Please use 'zscore_sample' instead.\n",
      "  return self.func(*args, **kwargs)\n",
      "/usr/people/kz0108/miniconda3/envs/pygers/lib/python3.11/site-packages/nilearn/maskers/nifti_masker.py:108: UserWarning: imgs are being resampled to the mask_img resolution. This process is memory intensive. You might want to provide a target_affine that is equal to the affine of the imgs or resample the mask beforehand to save memory and computation time.\n",
      "  warnings.warn(\n",
      "/usr/people/kz0108/miniconda3/envs/pygers/lib/python3.11/site-packages/joblib/memory.py:353: FutureWarning: The default strategy for standardize is currently 'zscore' which incorrectly uses population std to calculate sample zscores. The new strategy 'zscore_sample' corrects this behavior by using the sample std. In release 0.13, the default strategy will be replaced by the new strategy and the 'zscore' option will be removed. Please use 'zscore_sample' instead.\n",
      "  return self.func(*args, **kwargs)\n",
      "/usr/people/kz0108/miniconda3/envs/pygers/lib/python3.11/site-packages/nilearn/maskers/nifti_masker.py:108: UserWarning: imgs are being resampled to the mask_img resolution. This process is memory intensive. You might want to provide a target_affine that is equal to the affine of the imgs or resample the mask beforehand to save memory and computation time.\n",
      "  warnings.warn(\n",
      "/usr/people/kz0108/miniconda3/envs/pygers/lib/python3.11/site-packages/joblib/memory.py:353: FutureWarning: The default strategy for standardize is currently 'zscore' which incorrectly uses population std to calculate sample zscores. The new strategy 'zscore_sample' corrects this behavior by using the sample std. In release 0.13, the default strategy will be replaced by the new strategy and the 'zscore' option will be removed. Please use 'zscore_sample' instead.\n",
      "  return self.func(*args, **kwargs)\n",
      "/usr/people/kz0108/miniconda3/envs/pygers/lib/python3.11/site-packages/nilearn/maskers/nifti_masker.py:108: UserWarning: imgs are being resampled to the mask_img resolution. This process is memory intensive. You might want to provide a target_affine that is equal to the affine of the imgs or resample the mask beforehand to save memory and computation time.\n",
      "  warnings.warn(\n",
      "/usr/people/kz0108/miniconda3/envs/pygers/lib/python3.11/site-packages/joblib/memory.py:353: FutureWarning: The default strategy for standardize is currently 'zscore' which incorrectly uses population std to calculate sample zscores. The new strategy 'zscore_sample' corrects this behavior by using the sample std. In release 0.13, the default strategy will be replaced by the new strategy and the 'zscore' option will be removed. Please use 'zscore_sample' instead.\n",
      "  return self.func(*args, **kwargs)\n"
     ]
    },
    {
     "name": "stdout",
     "output_type": "stream",
     "text": [
      "ready to compute contrasts\n"
     ]
    },
    {
     "name": "stderr",
     "output_type": "stream",
     "text": [
      "/usr/people/kz0108/miniconda3/envs/pygers/lib/python3.11/site-packages/nilearn/glm/first_level/first_level.py:799: UserWarning: One contrast given, assuming it for all 6 runs\n",
      "  warn(f\"One contrast given, assuming it for all {int(n_runs)} runs\")\n"
     ]
    },
    {
     "name": "stdout",
     "output_type": "stream",
     "text": [
      "contrasts computed\n",
      "directory path created\n",
      "Directory already exists: first_level_GLM\n",
      "contrasts saved out\n",
      "first_level_GLM/labeled-type-videos_veridical---scrambled_Wed-May--1-08:51:38-2024_sub-014_z-score.nii.gz\n",
      "sub-016\n",
      "veridical---scrambled\n"
     ]
    },
    {
     "name": "stderr",
     "output_type": "stream",
     "text": [
      "/usr/people/kz0108/miniconda3/envs/pygers/lib/python3.11/site-packages/nilearn/glm/first_level/experimental_paradigm.py:166: UserWarning: The following unexpected columns in events data will be ignored: stim_file, TODO -- fill in rows and add more tab-separated columns if desired, response_time\n",
      "  warnings.warn(\n",
      "/usr/people/kz0108/miniconda3/envs/pygers/lib/python3.11/site-packages/nilearn/glm/first_level/experimental_paradigm.py:166: UserWarning: The following unexpected columns in events data will be ignored: stim_file, TODO -- fill in rows and add more tab-separated columns if desired, response_time\n",
      "  warnings.warn(\n",
      "/usr/people/kz0108/miniconda3/envs/pygers/lib/python3.11/site-packages/nilearn/glm/first_level/experimental_paradigm.py:166: UserWarning: The following unexpected columns in events data will be ignored: stim_file, TODO -- fill in rows and add more tab-separated columns if desired, response_time\n",
      "  warnings.warn(\n",
      "/usr/people/kz0108/miniconda3/envs/pygers/lib/python3.11/site-packages/nilearn/glm/first_level/experimental_paradigm.py:166: UserWarning: The following unexpected columns in events data will be ignored: stim_file, TODO -- fill in rows and add more tab-separated columns if desired, response_time\n",
      "  warnings.warn(\n",
      "/usr/people/kz0108/miniconda3/envs/pygers/lib/python3.11/site-packages/nilearn/glm/first_level/experimental_paradigm.py:166: UserWarning: The following unexpected columns in events data will be ignored: stim_file, TODO -- fill in rows and add more tab-separated columns if desired, response_time\n",
      "  warnings.warn(\n",
      "/usr/people/kz0108/miniconda3/envs/pygers/lib/python3.11/site-packages/nilearn/glm/first_level/experimental_paradigm.py:166: UserWarning: The following unexpected columns in events data will be ignored: stim_file, TODO -- fill in rows and add more tab-separated columns if desired, response_time\n",
      "  warnings.warn(\n",
      "/usr/people/kz0108/miniconda3/envs/pygers/lib/python3.11/site-packages/nilearn/glm/first_level/first_level.py:547: UserWarning: If design matrices are supplied, confounds and events will be ignored.\n",
      "  warn(\n"
     ]
    },
    {
     "name": "stdout",
     "output_type": "stream",
     "text": [
      "ready to fit the model\n",
      "ready to fit the model\n",
      "ready to fit the model\n",
      "ready to fit the model\n",
      "ready to fit the model\n",
      "ready to fit the model\n",
      "(78, 93, 78, 110)\n",
      "(110, 16)\n",
      "(110, 19)\n",
      "(20, 6)\n",
      "(109,)\n"
     ]
    },
    {
     "name": "stderr",
     "output_type": "stream",
     "text": [
      "/usr/people/kz0108/miniconda3/envs/pygers/lib/python3.11/site-packages/nilearn/maskers/nifti_masker.py:108: UserWarning: imgs are being resampled to the mask_img resolution. This process is memory intensive. You might want to provide a target_affine that is equal to the affine of the imgs or resample the mask beforehand to save memory and computation time.\n",
      "  warnings.warn(\n",
      "/usr/people/kz0108/miniconda3/envs/pygers/lib/python3.11/site-packages/joblib/memory.py:353: FutureWarning: The default strategy for standardize is currently 'zscore' which incorrectly uses population std to calculate sample zscores. The new strategy 'zscore_sample' corrects this behavior by using the sample std. In release 0.13, the default strategy will be replaced by the new strategy and the 'zscore' option will be removed. Please use 'zscore_sample' instead.\n",
      "  return self.func(*args, **kwargs)\n",
      "/usr/people/kz0108/miniconda3/envs/pygers/lib/python3.11/site-packages/nilearn/maskers/nifti_masker.py:108: UserWarning: imgs are being resampled to the mask_img resolution. This process is memory intensive. You might want to provide a target_affine that is equal to the affine of the imgs or resample the mask beforehand to save memory and computation time.\n",
      "  warnings.warn(\n",
      "/usr/people/kz0108/miniconda3/envs/pygers/lib/python3.11/site-packages/joblib/memory.py:353: FutureWarning: The default strategy for standardize is currently 'zscore' which incorrectly uses population std to calculate sample zscores. The new strategy 'zscore_sample' corrects this behavior by using the sample std. In release 0.13, the default strategy will be replaced by the new strategy and the 'zscore' option will be removed. Please use 'zscore_sample' instead.\n",
      "  return self.func(*args, **kwargs)\n",
      "/usr/people/kz0108/miniconda3/envs/pygers/lib/python3.11/site-packages/nilearn/maskers/nifti_masker.py:108: UserWarning: imgs are being resampled to the mask_img resolution. This process is memory intensive. You might want to provide a target_affine that is equal to the affine of the imgs or resample the mask beforehand to save memory and computation time.\n",
      "  warnings.warn(\n",
      "/usr/people/kz0108/miniconda3/envs/pygers/lib/python3.11/site-packages/joblib/memory.py:353: FutureWarning: The default strategy for standardize is currently 'zscore' which incorrectly uses population std to calculate sample zscores. The new strategy 'zscore_sample' corrects this behavior by using the sample std. In release 0.13, the default strategy will be replaced by the new strategy and the 'zscore' option will be removed. Please use 'zscore_sample' instead.\n",
      "  return self.func(*args, **kwargs)\n",
      "/usr/people/kz0108/miniconda3/envs/pygers/lib/python3.11/site-packages/nilearn/maskers/nifti_masker.py:108: UserWarning: imgs are being resampled to the mask_img resolution. This process is memory intensive. You might want to provide a target_affine that is equal to the affine of the imgs or resample the mask beforehand to save memory and computation time.\n",
      "  warnings.warn(\n",
      "/usr/people/kz0108/miniconda3/envs/pygers/lib/python3.11/site-packages/joblib/memory.py:353: FutureWarning: The default strategy for standardize is currently 'zscore' which incorrectly uses population std to calculate sample zscores. The new strategy 'zscore_sample' corrects this behavior by using the sample std. In release 0.13, the default strategy will be replaced by the new strategy and the 'zscore' option will be removed. Please use 'zscore_sample' instead.\n",
      "  return self.func(*args, **kwargs)\n",
      "/usr/people/kz0108/miniconda3/envs/pygers/lib/python3.11/site-packages/nilearn/maskers/nifti_masker.py:108: UserWarning: imgs are being resampled to the mask_img resolution. This process is memory intensive. You might want to provide a target_affine that is equal to the affine of the imgs or resample the mask beforehand to save memory and computation time.\n",
      "  warnings.warn(\n",
      "/usr/people/kz0108/miniconda3/envs/pygers/lib/python3.11/site-packages/joblib/memory.py:353: FutureWarning: The default strategy for standardize is currently 'zscore' which incorrectly uses population std to calculate sample zscores. The new strategy 'zscore_sample' corrects this behavior by using the sample std. In release 0.13, the default strategy will be replaced by the new strategy and the 'zscore' option will be removed. Please use 'zscore_sample' instead.\n",
      "  return self.func(*args, **kwargs)\n",
      "/usr/people/kz0108/miniconda3/envs/pygers/lib/python3.11/site-packages/nilearn/maskers/nifti_masker.py:108: UserWarning: imgs are being resampled to the mask_img resolution. This process is memory intensive. You might want to provide a target_affine that is equal to the affine of the imgs or resample the mask beforehand to save memory and computation time.\n",
      "  warnings.warn(\n",
      "/usr/people/kz0108/miniconda3/envs/pygers/lib/python3.11/site-packages/joblib/memory.py:353: FutureWarning: The default strategy for standardize is currently 'zscore' which incorrectly uses population std to calculate sample zscores. The new strategy 'zscore_sample' corrects this behavior by using the sample std. In release 0.13, the default strategy will be replaced by the new strategy and the 'zscore' option will be removed. Please use 'zscore_sample' instead.\n",
      "  return self.func(*args, **kwargs)\n"
     ]
    },
    {
     "name": "stdout",
     "output_type": "stream",
     "text": [
      "ready to compute contrasts\n"
     ]
    },
    {
     "name": "stderr",
     "output_type": "stream",
     "text": [
      "/usr/people/kz0108/miniconda3/envs/pygers/lib/python3.11/site-packages/nilearn/glm/first_level/first_level.py:799: UserWarning: One contrast given, assuming it for all 6 runs\n",
      "  warn(f\"One contrast given, assuming it for all {int(n_runs)} runs\")\n"
     ]
    },
    {
     "name": "stdout",
     "output_type": "stream",
     "text": [
      "contrasts computed\n",
      "directory path created\n",
      "Directory already exists: first_level_GLM\n",
      "contrasts saved out\n",
      "first_level_GLM/labeled-type-videos_veridical---scrambled_Wed-May--1-08:53:52-2024_sub-016_z-score.nii.gz\n",
      "sub-008\n",
      "veridical---scrambled\n"
     ]
    },
    {
     "name": "stderr",
     "output_type": "stream",
     "text": [
      "/usr/people/kz0108/miniconda3/envs/pygers/lib/python3.11/site-packages/nilearn/glm/first_level/experimental_paradigm.py:166: UserWarning: The following unexpected columns in events data will be ignored: stim_file, TODO -- fill in rows and add more tab-separated columns if desired, response_time\n",
      "  warnings.warn(\n",
      "/usr/people/kz0108/miniconda3/envs/pygers/lib/python3.11/site-packages/nilearn/glm/first_level/experimental_paradigm.py:166: UserWarning: The following unexpected columns in events data will be ignored: stim_file, TODO -- fill in rows and add more tab-separated columns if desired, response_time\n",
      "  warnings.warn(\n",
      "/usr/people/kz0108/miniconda3/envs/pygers/lib/python3.11/site-packages/nilearn/glm/first_level/experimental_paradigm.py:166: UserWarning: The following unexpected columns in events data will be ignored: stim_file, TODO -- fill in rows and add more tab-separated columns if desired, response_time\n",
      "  warnings.warn(\n",
      "/usr/people/kz0108/miniconda3/envs/pygers/lib/python3.11/site-packages/nilearn/glm/first_level/experimental_paradigm.py:166: UserWarning: The following unexpected columns in events data will be ignored: stim_file, TODO -- fill in rows and add more tab-separated columns if desired, response_time\n",
      "  warnings.warn(\n",
      "/usr/people/kz0108/miniconda3/envs/pygers/lib/python3.11/site-packages/nilearn/glm/first_level/experimental_paradigm.py:166: UserWarning: The following unexpected columns in events data will be ignored: stim_file, TODO -- fill in rows and add more tab-separated columns if desired, response_time\n",
      "  warnings.warn(\n",
      "/usr/people/kz0108/miniconda3/envs/pygers/lib/python3.11/site-packages/nilearn/glm/first_level/experimental_paradigm.py:166: UserWarning: The following unexpected columns in events data will be ignored: stim_file, TODO -- fill in rows and add more tab-separated columns if desired, response_time\n",
      "  warnings.warn(\n"
     ]
    },
    {
     "name": "stdout",
     "output_type": "stream",
     "text": [
      "ready to fit the model\n",
      "ready to fit the model\n",
      "ready to fit the model\n",
      "ready to fit the model\n",
      "ready to fit the model\n",
      "ready to fit the model\n",
      "(78, 93, 78, 110)\n",
      "(110, 16)\n",
      "(110, 19)\n",
      "(20, 6)\n",
      "(109,)\n"
     ]
    },
    {
     "name": "stderr",
     "output_type": "stream",
     "text": [
      "/usr/people/kz0108/miniconda3/envs/pygers/lib/python3.11/site-packages/nilearn/glm/first_level/first_level.py:547: UserWarning: If design matrices are supplied, confounds and events will be ignored.\n",
      "  warn(\n",
      "/usr/people/kz0108/miniconda3/envs/pygers/lib/python3.11/site-packages/nilearn/maskers/nifti_masker.py:108: UserWarning: imgs are being resampled to the mask_img resolution. This process is memory intensive. You might want to provide a target_affine that is equal to the affine of the imgs or resample the mask beforehand to save memory and computation time.\n",
      "  warnings.warn(\n",
      "/usr/people/kz0108/miniconda3/envs/pygers/lib/python3.11/site-packages/joblib/memory.py:353: FutureWarning: The default strategy for standardize is currently 'zscore' which incorrectly uses population std to calculate sample zscores. The new strategy 'zscore_sample' corrects this behavior by using the sample std. In release 0.13, the default strategy will be replaced by the new strategy and the 'zscore' option will be removed. Please use 'zscore_sample' instead.\n",
      "  return self.func(*args, **kwargs)\n",
      "/usr/people/kz0108/miniconda3/envs/pygers/lib/python3.11/site-packages/nilearn/maskers/nifti_masker.py:108: UserWarning: imgs are being resampled to the mask_img resolution. This process is memory intensive. You might want to provide a target_affine that is equal to the affine of the imgs or resample the mask beforehand to save memory and computation time.\n",
      "  warnings.warn(\n",
      "/usr/people/kz0108/miniconda3/envs/pygers/lib/python3.11/site-packages/joblib/memory.py:353: FutureWarning: The default strategy for standardize is currently 'zscore' which incorrectly uses population std to calculate sample zscores. The new strategy 'zscore_sample' corrects this behavior by using the sample std. In release 0.13, the default strategy will be replaced by the new strategy and the 'zscore' option will be removed. Please use 'zscore_sample' instead.\n",
      "  return self.func(*args, **kwargs)\n",
      "/usr/people/kz0108/miniconda3/envs/pygers/lib/python3.11/site-packages/nilearn/maskers/nifti_masker.py:108: UserWarning: imgs are being resampled to the mask_img resolution. This process is memory intensive. You might want to provide a target_affine that is equal to the affine of the imgs or resample the mask beforehand to save memory and computation time.\n",
      "  warnings.warn(\n",
      "/usr/people/kz0108/miniconda3/envs/pygers/lib/python3.11/site-packages/joblib/memory.py:353: FutureWarning: The default strategy for standardize is currently 'zscore' which incorrectly uses population std to calculate sample zscores. The new strategy 'zscore_sample' corrects this behavior by using the sample std. In release 0.13, the default strategy will be replaced by the new strategy and the 'zscore' option will be removed. Please use 'zscore_sample' instead.\n",
      "  return self.func(*args, **kwargs)\n",
      "/usr/people/kz0108/miniconda3/envs/pygers/lib/python3.11/site-packages/nilearn/maskers/nifti_masker.py:108: UserWarning: imgs are being resampled to the mask_img resolution. This process is memory intensive. You might want to provide a target_affine that is equal to the affine of the imgs or resample the mask beforehand to save memory and computation time.\n",
      "  warnings.warn(\n",
      "/usr/people/kz0108/miniconda3/envs/pygers/lib/python3.11/site-packages/joblib/memory.py:353: FutureWarning: The default strategy for standardize is currently 'zscore' which incorrectly uses population std to calculate sample zscores. The new strategy 'zscore_sample' corrects this behavior by using the sample std. In release 0.13, the default strategy will be replaced by the new strategy and the 'zscore' option will be removed. Please use 'zscore_sample' instead.\n",
      "  return self.func(*args, **kwargs)\n",
      "/usr/people/kz0108/miniconda3/envs/pygers/lib/python3.11/site-packages/nilearn/maskers/nifti_masker.py:108: UserWarning: imgs are being resampled to the mask_img resolution. This process is memory intensive. You might want to provide a target_affine that is equal to the affine of the imgs or resample the mask beforehand to save memory and computation time.\n",
      "  warnings.warn(\n",
      "/usr/people/kz0108/miniconda3/envs/pygers/lib/python3.11/site-packages/joblib/memory.py:353: FutureWarning: The default strategy for standardize is currently 'zscore' which incorrectly uses population std to calculate sample zscores. The new strategy 'zscore_sample' corrects this behavior by using the sample std. In release 0.13, the default strategy will be replaced by the new strategy and the 'zscore' option will be removed. Please use 'zscore_sample' instead.\n",
      "  return self.func(*args, **kwargs)\n",
      "/usr/people/kz0108/miniconda3/envs/pygers/lib/python3.11/site-packages/nilearn/maskers/nifti_masker.py:108: UserWarning: imgs are being resampled to the mask_img resolution. This process is memory intensive. You might want to provide a target_affine that is equal to the affine of the imgs or resample the mask beforehand to save memory and computation time.\n",
      "  warnings.warn(\n",
      "/usr/people/kz0108/miniconda3/envs/pygers/lib/python3.11/site-packages/joblib/memory.py:353: FutureWarning: The default strategy for standardize is currently 'zscore' which incorrectly uses population std to calculate sample zscores. The new strategy 'zscore_sample' corrects this behavior by using the sample std. In release 0.13, the default strategy will be replaced by the new strategy and the 'zscore' option will be removed. Please use 'zscore_sample' instead.\n",
      "  return self.func(*args, **kwargs)\n"
     ]
    },
    {
     "name": "stdout",
     "output_type": "stream",
     "text": [
      "ready to compute contrasts\n"
     ]
    },
    {
     "name": "stderr",
     "output_type": "stream",
     "text": [
      "/usr/people/kz0108/miniconda3/envs/pygers/lib/python3.11/site-packages/nilearn/glm/first_level/first_level.py:799: UserWarning: One contrast given, assuming it for all 6 runs\n",
      "  warn(f\"One contrast given, assuming it for all {int(n_runs)} runs\")\n"
     ]
    },
    {
     "name": "stdout",
     "output_type": "stream",
     "text": [
      "contrasts computed\n",
      "directory path created\n",
      "Directory already exists: first_level_GLM\n",
      "contrasts saved out\n",
      "first_level_GLM/labeled-type-videos_veridical---scrambled_Wed-May--1-08:56:06-2024_sub-008_z-score.nii.gz\n",
      "sub-023\n",
      "veridical---scrambled\n"
     ]
    },
    {
     "name": "stderr",
     "output_type": "stream",
     "text": [
      "/usr/people/kz0108/miniconda3/envs/pygers/lib/python3.11/site-packages/nilearn/glm/first_level/experimental_paradigm.py:166: UserWarning: The following unexpected columns in events data will be ignored: stim_file, TODO -- fill in rows and add more tab-separated columns if desired, response_time\n",
      "  warnings.warn(\n",
      "/usr/people/kz0108/miniconda3/envs/pygers/lib/python3.11/site-packages/nilearn/glm/first_level/experimental_paradigm.py:166: UserWarning: The following unexpected columns in events data will be ignored: stim_file, TODO -- fill in rows and add more tab-separated columns if desired, response_time\n",
      "  warnings.warn(\n",
      "/usr/people/kz0108/miniconda3/envs/pygers/lib/python3.11/site-packages/nilearn/glm/first_level/experimental_paradigm.py:166: UserWarning: The following unexpected columns in events data will be ignored: stim_file, TODO -- fill in rows and add more tab-separated columns if desired, response_time\n",
      "  warnings.warn(\n",
      "/usr/people/kz0108/miniconda3/envs/pygers/lib/python3.11/site-packages/nilearn/glm/first_level/experimental_paradigm.py:166: UserWarning: The following unexpected columns in events data will be ignored: stim_file, TODO -- fill in rows and add more tab-separated columns if desired, response_time\n",
      "  warnings.warn(\n",
      "/usr/people/kz0108/miniconda3/envs/pygers/lib/python3.11/site-packages/nilearn/glm/first_level/experimental_paradigm.py:166: UserWarning: The following unexpected columns in events data will be ignored: stim_file, TODO -- fill in rows and add more tab-separated columns if desired, response_time\n",
      "  warnings.warn(\n",
      "/usr/people/kz0108/miniconda3/envs/pygers/lib/python3.11/site-packages/nilearn/glm/first_level/experimental_paradigm.py:166: UserWarning: The following unexpected columns in events data will be ignored: stim_file, TODO -- fill in rows and add more tab-separated columns if desired, response_time\n",
      "  warnings.warn(\n",
      "/usr/people/kz0108/miniconda3/envs/pygers/lib/python3.11/site-packages/nilearn/glm/first_level/first_level.py:547: UserWarning: If design matrices are supplied, confounds and events will be ignored.\n",
      "  warn(\n"
     ]
    },
    {
     "name": "stdout",
     "output_type": "stream",
     "text": [
      "ready to fit the model\n",
      "ready to fit the model\n",
      "ready to fit the model\n",
      "ready to fit the model\n",
      "ready to fit the model\n",
      "ready to fit the model\n",
      "(78, 93, 78, 110)\n",
      "(110, 16)\n",
      "(110, 19)\n",
      "(20, 6)\n",
      "(110,)\n"
     ]
    },
    {
     "name": "stderr",
     "output_type": "stream",
     "text": [
      "/usr/people/kz0108/miniconda3/envs/pygers/lib/python3.11/site-packages/nilearn/maskers/nifti_masker.py:108: UserWarning: imgs are being resampled to the mask_img resolution. This process is memory intensive. You might want to provide a target_affine that is equal to the affine of the imgs or resample the mask beforehand to save memory and computation time.\n",
      "  warnings.warn(\n",
      "/usr/people/kz0108/miniconda3/envs/pygers/lib/python3.11/site-packages/joblib/memory.py:353: FutureWarning: The default strategy for standardize is currently 'zscore' which incorrectly uses population std to calculate sample zscores. The new strategy 'zscore_sample' corrects this behavior by using the sample std. In release 0.13, the default strategy will be replaced by the new strategy and the 'zscore' option will be removed. Please use 'zscore_sample' instead.\n",
      "  return self.func(*args, **kwargs)\n",
      "/usr/people/kz0108/miniconda3/envs/pygers/lib/python3.11/site-packages/nilearn/maskers/nifti_masker.py:108: UserWarning: imgs are being resampled to the mask_img resolution. This process is memory intensive. You might want to provide a target_affine that is equal to the affine of the imgs or resample the mask beforehand to save memory and computation time.\n",
      "  warnings.warn(\n",
      "/usr/people/kz0108/miniconda3/envs/pygers/lib/python3.11/site-packages/joblib/memory.py:353: FutureWarning: The default strategy for standardize is currently 'zscore' which incorrectly uses population std to calculate sample zscores. The new strategy 'zscore_sample' corrects this behavior by using the sample std. In release 0.13, the default strategy will be replaced by the new strategy and the 'zscore' option will be removed. Please use 'zscore_sample' instead.\n",
      "  return self.func(*args, **kwargs)\n",
      "/usr/people/kz0108/miniconda3/envs/pygers/lib/python3.11/site-packages/nilearn/maskers/nifti_masker.py:108: UserWarning: imgs are being resampled to the mask_img resolution. This process is memory intensive. You might want to provide a target_affine that is equal to the affine of the imgs or resample the mask beforehand to save memory and computation time.\n",
      "  warnings.warn(\n",
      "/usr/people/kz0108/miniconda3/envs/pygers/lib/python3.11/site-packages/joblib/memory.py:353: FutureWarning: The default strategy for standardize is currently 'zscore' which incorrectly uses population std to calculate sample zscores. The new strategy 'zscore_sample' corrects this behavior by using the sample std. In release 0.13, the default strategy will be replaced by the new strategy and the 'zscore' option will be removed. Please use 'zscore_sample' instead.\n",
      "  return self.func(*args, **kwargs)\n",
      "/usr/people/kz0108/miniconda3/envs/pygers/lib/python3.11/site-packages/nilearn/maskers/nifti_masker.py:108: UserWarning: imgs are being resampled to the mask_img resolution. This process is memory intensive. You might want to provide a target_affine that is equal to the affine of the imgs or resample the mask beforehand to save memory and computation time.\n",
      "  warnings.warn(\n",
      "/usr/people/kz0108/miniconda3/envs/pygers/lib/python3.11/site-packages/joblib/memory.py:353: FutureWarning: The default strategy for standardize is currently 'zscore' which incorrectly uses population std to calculate sample zscores. The new strategy 'zscore_sample' corrects this behavior by using the sample std. In release 0.13, the default strategy will be replaced by the new strategy and the 'zscore' option will be removed. Please use 'zscore_sample' instead.\n",
      "  return self.func(*args, **kwargs)\n",
      "/usr/people/kz0108/miniconda3/envs/pygers/lib/python3.11/site-packages/nilearn/maskers/nifti_masker.py:108: UserWarning: imgs are being resampled to the mask_img resolution. This process is memory intensive. You might want to provide a target_affine that is equal to the affine of the imgs or resample the mask beforehand to save memory and computation time.\n",
      "  warnings.warn(\n",
      "/usr/people/kz0108/miniconda3/envs/pygers/lib/python3.11/site-packages/joblib/memory.py:353: FutureWarning: The default strategy for standardize is currently 'zscore' which incorrectly uses population std to calculate sample zscores. The new strategy 'zscore_sample' corrects this behavior by using the sample std. In release 0.13, the default strategy will be replaced by the new strategy and the 'zscore' option will be removed. Please use 'zscore_sample' instead.\n",
      "  return self.func(*args, **kwargs)\n",
      "/usr/people/kz0108/miniconda3/envs/pygers/lib/python3.11/site-packages/nilearn/maskers/nifti_masker.py:108: UserWarning: imgs are being resampled to the mask_img resolution. This process is memory intensive. You might want to provide a target_affine that is equal to the affine of the imgs or resample the mask beforehand to save memory and computation time.\n",
      "  warnings.warn(\n",
      "/usr/people/kz0108/miniconda3/envs/pygers/lib/python3.11/site-packages/joblib/memory.py:353: FutureWarning: The default strategy for standardize is currently 'zscore' which incorrectly uses population std to calculate sample zscores. The new strategy 'zscore_sample' corrects this behavior by using the sample std. In release 0.13, the default strategy will be replaced by the new strategy and the 'zscore' option will be removed. Please use 'zscore_sample' instead.\n",
      "  return self.func(*args, **kwargs)\n"
     ]
    },
    {
     "name": "stdout",
     "output_type": "stream",
     "text": [
      "ready to compute contrasts\n"
     ]
    },
    {
     "name": "stderr",
     "output_type": "stream",
     "text": [
      "/usr/people/kz0108/miniconda3/envs/pygers/lib/python3.11/site-packages/nilearn/glm/first_level/first_level.py:799: UserWarning: One contrast given, assuming it for all 6 runs\n",
      "  warn(f\"One contrast given, assuming it for all {int(n_runs)} runs\")\n"
     ]
    },
    {
     "name": "stdout",
     "output_type": "stream",
     "text": [
      "contrasts computed\n",
      "directory path created\n",
      "Directory already exists: first_level_GLM\n",
      "contrasts saved out\n",
      "first_level_GLM/labeled-type-videos_veridical---scrambled_Wed-May--1-08:58:19-2024_sub-023_z-score.nii.gz\n",
      "sub-009\n",
      "veridical---scrambled\n"
     ]
    },
    {
     "name": "stderr",
     "output_type": "stream",
     "text": [
      "/usr/people/kz0108/miniconda3/envs/pygers/lib/python3.11/site-packages/nilearn/glm/first_level/experimental_paradigm.py:166: UserWarning: The following unexpected columns in events data will be ignored: stim_file, TODO -- fill in rows and add more tab-separated columns if desired, response_time\n",
      "  warnings.warn(\n",
      "/usr/people/kz0108/miniconda3/envs/pygers/lib/python3.11/site-packages/nilearn/glm/first_level/experimental_paradigm.py:166: UserWarning: The following unexpected columns in events data will be ignored: stim_file, TODO -- fill in rows and add more tab-separated columns if desired, response_time\n",
      "  warnings.warn(\n",
      "/usr/people/kz0108/miniconda3/envs/pygers/lib/python3.11/site-packages/nilearn/glm/first_level/experimental_paradigm.py:166: UserWarning: The following unexpected columns in events data will be ignored: stim_file, TODO -- fill in rows and add more tab-separated columns if desired, response_time\n",
      "  warnings.warn(\n",
      "/usr/people/kz0108/miniconda3/envs/pygers/lib/python3.11/site-packages/nilearn/glm/first_level/experimental_paradigm.py:166: UserWarning: The following unexpected columns in events data will be ignored: stim_file, TODO -- fill in rows and add more tab-separated columns if desired, response_time\n",
      "  warnings.warn(\n",
      "/usr/people/kz0108/miniconda3/envs/pygers/lib/python3.11/site-packages/nilearn/glm/first_level/experimental_paradigm.py:166: UserWarning: The following unexpected columns in events data will be ignored: stim_file, TODO -- fill in rows and add more tab-separated columns if desired, response_time\n",
      "  warnings.warn(\n",
      "/usr/people/kz0108/miniconda3/envs/pygers/lib/python3.11/site-packages/nilearn/glm/first_level/experimental_paradigm.py:166: UserWarning: The following unexpected columns in events data will be ignored: stim_file, TODO -- fill in rows and add more tab-separated columns if desired, response_time\n",
      "  warnings.warn(\n",
      "/usr/people/kz0108/miniconda3/envs/pygers/lib/python3.11/site-packages/nilearn/glm/first_level/first_level.py:547: UserWarning: If design matrices are supplied, confounds and events will be ignored.\n",
      "  warn(\n"
     ]
    },
    {
     "name": "stdout",
     "output_type": "stream",
     "text": [
      "ready to fit the model\n",
      "ready to fit the model\n",
      "ready to fit the model\n",
      "ready to fit the model\n",
      "ready to fit the model\n",
      "ready to fit the model\n",
      "(78, 93, 78, 110)\n",
      "(110, 16)\n",
      "(110, 19)\n",
      "(20, 6)\n",
      "(110,)\n"
     ]
    },
    {
     "name": "stderr",
     "output_type": "stream",
     "text": [
      "/usr/people/kz0108/miniconda3/envs/pygers/lib/python3.11/site-packages/nilearn/maskers/nifti_masker.py:108: UserWarning: imgs are being resampled to the mask_img resolution. This process is memory intensive. You might want to provide a target_affine that is equal to the affine of the imgs or resample the mask beforehand to save memory and computation time.\n",
      "  warnings.warn(\n",
      "/usr/people/kz0108/miniconda3/envs/pygers/lib/python3.11/site-packages/joblib/memory.py:353: FutureWarning: The default strategy for standardize is currently 'zscore' which incorrectly uses population std to calculate sample zscores. The new strategy 'zscore_sample' corrects this behavior by using the sample std. In release 0.13, the default strategy will be replaced by the new strategy and the 'zscore' option will be removed. Please use 'zscore_sample' instead.\n",
      "  return self.func(*args, **kwargs)\n",
      "/usr/people/kz0108/miniconda3/envs/pygers/lib/python3.11/site-packages/nilearn/maskers/nifti_masker.py:108: UserWarning: imgs are being resampled to the mask_img resolution. This process is memory intensive. You might want to provide a target_affine that is equal to the affine of the imgs or resample the mask beforehand to save memory and computation time.\n",
      "  warnings.warn(\n",
      "/usr/people/kz0108/miniconda3/envs/pygers/lib/python3.11/site-packages/joblib/memory.py:353: FutureWarning: The default strategy for standardize is currently 'zscore' which incorrectly uses population std to calculate sample zscores. The new strategy 'zscore_sample' corrects this behavior by using the sample std. In release 0.13, the default strategy will be replaced by the new strategy and the 'zscore' option will be removed. Please use 'zscore_sample' instead.\n",
      "  return self.func(*args, **kwargs)\n",
      "/usr/people/kz0108/miniconda3/envs/pygers/lib/python3.11/site-packages/nilearn/maskers/nifti_masker.py:108: UserWarning: imgs are being resampled to the mask_img resolution. This process is memory intensive. You might want to provide a target_affine that is equal to the affine of the imgs or resample the mask beforehand to save memory and computation time.\n",
      "  warnings.warn(\n",
      "/usr/people/kz0108/miniconda3/envs/pygers/lib/python3.11/site-packages/joblib/memory.py:353: FutureWarning: The default strategy for standardize is currently 'zscore' which incorrectly uses population std to calculate sample zscores. The new strategy 'zscore_sample' corrects this behavior by using the sample std. In release 0.13, the default strategy will be replaced by the new strategy and the 'zscore' option will be removed. Please use 'zscore_sample' instead.\n",
      "  return self.func(*args, **kwargs)\n",
      "/usr/people/kz0108/miniconda3/envs/pygers/lib/python3.11/site-packages/nilearn/maskers/nifti_masker.py:108: UserWarning: imgs are being resampled to the mask_img resolution. This process is memory intensive. You might want to provide a target_affine that is equal to the affine of the imgs or resample the mask beforehand to save memory and computation time.\n",
      "  warnings.warn(\n",
      "/usr/people/kz0108/miniconda3/envs/pygers/lib/python3.11/site-packages/joblib/memory.py:353: FutureWarning: The default strategy for standardize is currently 'zscore' which incorrectly uses population std to calculate sample zscores. The new strategy 'zscore_sample' corrects this behavior by using the sample std. In release 0.13, the default strategy will be replaced by the new strategy and the 'zscore' option will be removed. Please use 'zscore_sample' instead.\n",
      "  return self.func(*args, **kwargs)\n",
      "/usr/people/kz0108/miniconda3/envs/pygers/lib/python3.11/site-packages/nilearn/maskers/nifti_masker.py:108: UserWarning: imgs are being resampled to the mask_img resolution. This process is memory intensive. You might want to provide a target_affine that is equal to the affine of the imgs or resample the mask beforehand to save memory and computation time.\n",
      "  warnings.warn(\n",
      "/usr/people/kz0108/miniconda3/envs/pygers/lib/python3.11/site-packages/joblib/memory.py:353: FutureWarning: The default strategy for standardize is currently 'zscore' which incorrectly uses population std to calculate sample zscores. The new strategy 'zscore_sample' corrects this behavior by using the sample std. In release 0.13, the default strategy will be replaced by the new strategy and the 'zscore' option will be removed. Please use 'zscore_sample' instead.\n",
      "  return self.func(*args, **kwargs)\n",
      "/usr/people/kz0108/miniconda3/envs/pygers/lib/python3.11/site-packages/nilearn/maskers/nifti_masker.py:108: UserWarning: imgs are being resampled to the mask_img resolution. This process is memory intensive. You might want to provide a target_affine that is equal to the affine of the imgs or resample the mask beforehand to save memory and computation time.\n",
      "  warnings.warn(\n",
      "/usr/people/kz0108/miniconda3/envs/pygers/lib/python3.11/site-packages/joblib/memory.py:353: FutureWarning: The default strategy for standardize is currently 'zscore' which incorrectly uses population std to calculate sample zscores. The new strategy 'zscore_sample' corrects this behavior by using the sample std. In release 0.13, the default strategy will be replaced by the new strategy and the 'zscore' option will be removed. Please use 'zscore_sample' instead.\n",
      "  return self.func(*args, **kwargs)\n"
     ]
    },
    {
     "name": "stdout",
     "output_type": "stream",
     "text": [
      "ready to compute contrasts\n"
     ]
    },
    {
     "name": "stderr",
     "output_type": "stream",
     "text": [
      "/usr/people/kz0108/miniconda3/envs/pygers/lib/python3.11/site-packages/nilearn/glm/first_level/first_level.py:799: UserWarning: One contrast given, assuming it for all 6 runs\n",
      "  warn(f\"One contrast given, assuming it for all {int(n_runs)} runs\")\n"
     ]
    },
    {
     "name": "stdout",
     "output_type": "stream",
     "text": [
      "contrasts computed\n",
      "directory path created\n",
      "Directory already exists: first_level_GLM\n",
      "contrasts saved out\n",
      "first_level_GLM/labeled-type-videos_veridical---scrambled_Wed-May--1-09:00:27-2024_sub-009_z-score.nii.gz\n",
      "sub-021\n",
      "veridical---scrambled\n",
      "excluded runs 2, 3, 4 for subject 12. included:\n",
      "['01', '05', '06']\n"
     ]
    },
    {
     "name": "stderr",
     "output_type": "stream",
     "text": [
      "/usr/people/kz0108/miniconda3/envs/pygers/lib/python3.11/site-packages/nilearn/glm/first_level/experimental_paradigm.py:166: UserWarning: The following unexpected columns in events data will be ignored: stim_file, TODO -- fill in rows and add more tab-separated columns if desired, response_time\n",
      "  warnings.warn(\n",
      "/usr/people/kz0108/miniconda3/envs/pygers/lib/python3.11/site-packages/nilearn/glm/first_level/experimental_paradigm.py:166: UserWarning: The following unexpected columns in events data will be ignored: stim_file, TODO -- fill in rows and add more tab-separated columns if desired, response_time\n",
      "  warnings.warn(\n",
      "/usr/people/kz0108/miniconda3/envs/pygers/lib/python3.11/site-packages/nilearn/glm/first_level/experimental_paradigm.py:166: UserWarning: The following unexpected columns in events data will be ignored: stim_file, TODO -- fill in rows and add more tab-separated columns if desired, response_time\n",
      "  warnings.warn(\n",
      "/usr/people/kz0108/miniconda3/envs/pygers/lib/python3.11/site-packages/nilearn/glm/first_level/first_level.py:547: UserWarning: If design matrices are supplied, confounds and events will be ignored.\n",
      "  warn(\n"
     ]
    },
    {
     "name": "stdout",
     "output_type": "stream",
     "text": [
      "ready to fit the model\n",
      "ready to fit the model\n",
      "ready to fit the model\n",
      "(78, 93, 78, 110)\n",
      "(110, 16)\n",
      "(110, 19)\n",
      "(20, 6)\n",
      "(100,)\n"
     ]
    },
    {
     "name": "stderr",
     "output_type": "stream",
     "text": [
      "/usr/people/kz0108/miniconda3/envs/pygers/lib/python3.11/site-packages/nilearn/maskers/nifti_masker.py:108: UserWarning: imgs are being resampled to the mask_img resolution. This process is memory intensive. You might want to provide a target_affine that is equal to the affine of the imgs or resample the mask beforehand to save memory and computation time.\n",
      "  warnings.warn(\n",
      "/usr/people/kz0108/miniconda3/envs/pygers/lib/python3.11/site-packages/joblib/memory.py:353: FutureWarning: The default strategy for standardize is currently 'zscore' which incorrectly uses population std to calculate sample zscores. The new strategy 'zscore_sample' corrects this behavior by using the sample std. In release 0.13, the default strategy will be replaced by the new strategy and the 'zscore' option will be removed. Please use 'zscore_sample' instead.\n",
      "  return self.func(*args, **kwargs)\n",
      "/usr/people/kz0108/miniconda3/envs/pygers/lib/python3.11/site-packages/nilearn/maskers/nifti_masker.py:108: UserWarning: imgs are being resampled to the mask_img resolution. This process is memory intensive. You might want to provide a target_affine that is equal to the affine of the imgs or resample the mask beforehand to save memory and computation time.\n",
      "  warnings.warn(\n",
      "/usr/people/kz0108/miniconda3/envs/pygers/lib/python3.11/site-packages/joblib/memory.py:353: FutureWarning: The default strategy for standardize is currently 'zscore' which incorrectly uses population std to calculate sample zscores. The new strategy 'zscore_sample' corrects this behavior by using the sample std. In release 0.13, the default strategy will be replaced by the new strategy and the 'zscore' option will be removed. Please use 'zscore_sample' instead.\n",
      "  return self.func(*args, **kwargs)\n",
      "/usr/people/kz0108/miniconda3/envs/pygers/lib/python3.11/site-packages/nilearn/maskers/nifti_masker.py:108: UserWarning: imgs are being resampled to the mask_img resolution. This process is memory intensive. You might want to provide a target_affine that is equal to the affine of the imgs or resample the mask beforehand to save memory and computation time.\n",
      "  warnings.warn(\n",
      "/usr/people/kz0108/miniconda3/envs/pygers/lib/python3.11/site-packages/joblib/memory.py:353: FutureWarning: The default strategy for standardize is currently 'zscore' which incorrectly uses population std to calculate sample zscores. The new strategy 'zscore_sample' corrects this behavior by using the sample std. In release 0.13, the default strategy will be replaced by the new strategy and the 'zscore' option will be removed. Please use 'zscore_sample' instead.\n",
      "  return self.func(*args, **kwargs)\n"
     ]
    },
    {
     "name": "stdout",
     "output_type": "stream",
     "text": [
      "ready to compute contrasts\n"
     ]
    },
    {
     "name": "stderr",
     "output_type": "stream",
     "text": [
      "/usr/people/kz0108/miniconda3/envs/pygers/lib/python3.11/site-packages/nilearn/glm/first_level/first_level.py:799: UserWarning: One contrast given, assuming it for all 3 runs\n",
      "  warn(f\"One contrast given, assuming it for all {int(n_runs)} runs\")\n"
     ]
    },
    {
     "name": "stdout",
     "output_type": "stream",
     "text": [
      "contrasts computed\n",
      "directory path created\n",
      "Directory already exists: first_level_GLM\n",
      "contrasts saved out\n",
      "first_level_GLM/labeled-type-videos_veridical---scrambled_Wed-May--1-09:01:33-2024_sub-021_z-score.nii.gz\n",
      "sub-005\n",
      "veridical---scrambled\n"
     ]
    },
    {
     "name": "stderr",
     "output_type": "stream",
     "text": [
      "/usr/people/kz0108/miniconda3/envs/pygers/lib/python3.11/site-packages/nilearn/glm/first_level/experimental_paradigm.py:166: UserWarning: The following unexpected columns in events data will be ignored: stim_file, TODO -- fill in rows and add more tab-separated columns if desired, response_time\n",
      "  warnings.warn(\n",
      "/usr/people/kz0108/miniconda3/envs/pygers/lib/python3.11/site-packages/nilearn/glm/first_level/experimental_paradigm.py:166: UserWarning: The following unexpected columns in events data will be ignored: stim_file, TODO -- fill in rows and add more tab-separated columns if desired, response_time\n",
      "  warnings.warn(\n",
      "/usr/people/kz0108/miniconda3/envs/pygers/lib/python3.11/site-packages/nilearn/glm/first_level/experimental_paradigm.py:166: UserWarning: The following unexpected columns in events data will be ignored: stim_file, TODO -- fill in rows and add more tab-separated columns if desired, response_time\n",
      "  warnings.warn(\n",
      "/usr/people/kz0108/miniconda3/envs/pygers/lib/python3.11/site-packages/nilearn/glm/first_level/experimental_paradigm.py:166: UserWarning: The following unexpected columns in events data will be ignored: stim_file, TODO -- fill in rows and add more tab-separated columns if desired, response_time\n",
      "  warnings.warn(\n",
      "/usr/people/kz0108/miniconda3/envs/pygers/lib/python3.11/site-packages/nilearn/glm/first_level/experimental_paradigm.py:166: UserWarning: The following unexpected columns in events data will be ignored: stim_file, TODO -- fill in rows and add more tab-separated columns if desired, response_time\n",
      "  warnings.warn(\n",
      "/usr/people/kz0108/miniconda3/envs/pygers/lib/python3.11/site-packages/nilearn/glm/first_level/experimental_paradigm.py:166: UserWarning: The following unexpected columns in events data will be ignored: stim_file, TODO -- fill in rows and add more tab-separated columns if desired, response_time\n",
      "  warnings.warn(\n",
      "/usr/people/kz0108/miniconda3/envs/pygers/lib/python3.11/site-packages/nilearn/glm/first_level/first_level.py:547: UserWarning: If design matrices are supplied, confounds and events will be ignored.\n",
      "  warn(\n"
     ]
    },
    {
     "name": "stdout",
     "output_type": "stream",
     "text": [
      "ready to fit the model\n",
      "ready to fit the model\n",
      "ready to fit the model\n",
      "ready to fit the model\n",
      "ready to fit the model\n",
      "ready to fit the model\n",
      "(78, 93, 78, 110)\n",
      "(110, 16)\n",
      "(110, 19)\n",
      "(20, 6)\n",
      "(109,)\n"
     ]
    },
    {
     "name": "stderr",
     "output_type": "stream",
     "text": [
      "/usr/people/kz0108/miniconda3/envs/pygers/lib/python3.11/site-packages/nilearn/maskers/nifti_masker.py:108: UserWarning: imgs are being resampled to the mask_img resolution. This process is memory intensive. You might want to provide a target_affine that is equal to the affine of the imgs or resample the mask beforehand to save memory and computation time.\n",
      "  warnings.warn(\n",
      "/usr/people/kz0108/miniconda3/envs/pygers/lib/python3.11/site-packages/joblib/memory.py:353: FutureWarning: The default strategy for standardize is currently 'zscore' which incorrectly uses population std to calculate sample zscores. The new strategy 'zscore_sample' corrects this behavior by using the sample std. In release 0.13, the default strategy will be replaced by the new strategy and the 'zscore' option will be removed. Please use 'zscore_sample' instead.\n",
      "  return self.func(*args, **kwargs)\n",
      "/usr/people/kz0108/miniconda3/envs/pygers/lib/python3.11/site-packages/nilearn/maskers/nifti_masker.py:108: UserWarning: imgs are being resampled to the mask_img resolution. This process is memory intensive. You might want to provide a target_affine that is equal to the affine of the imgs or resample the mask beforehand to save memory and computation time.\n",
      "  warnings.warn(\n",
      "/usr/people/kz0108/miniconda3/envs/pygers/lib/python3.11/site-packages/joblib/memory.py:353: FutureWarning: The default strategy for standardize is currently 'zscore' which incorrectly uses population std to calculate sample zscores. The new strategy 'zscore_sample' corrects this behavior by using the sample std. In release 0.13, the default strategy will be replaced by the new strategy and the 'zscore' option will be removed. Please use 'zscore_sample' instead.\n",
      "  return self.func(*args, **kwargs)\n",
      "/usr/people/kz0108/miniconda3/envs/pygers/lib/python3.11/site-packages/nilearn/maskers/nifti_masker.py:108: UserWarning: imgs are being resampled to the mask_img resolution. This process is memory intensive. You might want to provide a target_affine that is equal to the affine of the imgs or resample the mask beforehand to save memory and computation time.\n",
      "  warnings.warn(\n",
      "/usr/people/kz0108/miniconda3/envs/pygers/lib/python3.11/site-packages/joblib/memory.py:353: FutureWarning: The default strategy for standardize is currently 'zscore' which incorrectly uses population std to calculate sample zscores. The new strategy 'zscore_sample' corrects this behavior by using the sample std. In release 0.13, the default strategy will be replaced by the new strategy and the 'zscore' option will be removed. Please use 'zscore_sample' instead.\n",
      "  return self.func(*args, **kwargs)\n",
      "/usr/people/kz0108/miniconda3/envs/pygers/lib/python3.11/site-packages/nilearn/maskers/nifti_masker.py:108: UserWarning: imgs are being resampled to the mask_img resolution. This process is memory intensive. You might want to provide a target_affine that is equal to the affine of the imgs or resample the mask beforehand to save memory and computation time.\n",
      "  warnings.warn(\n",
      "/usr/people/kz0108/miniconda3/envs/pygers/lib/python3.11/site-packages/joblib/memory.py:353: FutureWarning: The default strategy for standardize is currently 'zscore' which incorrectly uses population std to calculate sample zscores. The new strategy 'zscore_sample' corrects this behavior by using the sample std. In release 0.13, the default strategy will be replaced by the new strategy and the 'zscore' option will be removed. Please use 'zscore_sample' instead.\n",
      "  return self.func(*args, **kwargs)\n",
      "/usr/people/kz0108/miniconda3/envs/pygers/lib/python3.11/site-packages/nilearn/maskers/nifti_masker.py:108: UserWarning: imgs are being resampled to the mask_img resolution. This process is memory intensive. You might want to provide a target_affine that is equal to the affine of the imgs or resample the mask beforehand to save memory and computation time.\n",
      "  warnings.warn(\n",
      "/usr/people/kz0108/miniconda3/envs/pygers/lib/python3.11/site-packages/joblib/memory.py:353: FutureWarning: The default strategy for standardize is currently 'zscore' which incorrectly uses population std to calculate sample zscores. The new strategy 'zscore_sample' corrects this behavior by using the sample std. In release 0.13, the default strategy will be replaced by the new strategy and the 'zscore' option will be removed. Please use 'zscore_sample' instead.\n",
      "  return self.func(*args, **kwargs)\n",
      "/usr/people/kz0108/miniconda3/envs/pygers/lib/python3.11/site-packages/nilearn/maskers/nifti_masker.py:108: UserWarning: imgs are being resampled to the mask_img resolution. This process is memory intensive. You might want to provide a target_affine that is equal to the affine of the imgs or resample the mask beforehand to save memory and computation time.\n",
      "  warnings.warn(\n",
      "/usr/people/kz0108/miniconda3/envs/pygers/lib/python3.11/site-packages/joblib/memory.py:353: FutureWarning: The default strategy for standardize is currently 'zscore' which incorrectly uses population std to calculate sample zscores. The new strategy 'zscore_sample' corrects this behavior by using the sample std. In release 0.13, the default strategy will be replaced by the new strategy and the 'zscore' option will be removed. Please use 'zscore_sample' instead.\n",
      "  return self.func(*args, **kwargs)\n"
     ]
    },
    {
     "name": "stdout",
     "output_type": "stream",
     "text": [
      "ready to compute contrasts\n"
     ]
    },
    {
     "name": "stderr",
     "output_type": "stream",
     "text": [
      "/usr/people/kz0108/miniconda3/envs/pygers/lib/python3.11/site-packages/nilearn/glm/first_level/first_level.py:799: UserWarning: One contrast given, assuming it for all 6 runs\n",
      "  warn(f\"One contrast given, assuming it for all {int(n_runs)} runs\")\n"
     ]
    },
    {
     "name": "stdout",
     "output_type": "stream",
     "text": [
      "contrasts computed\n",
      "directory path created\n",
      "Directory already exists: first_level_GLM\n",
      "contrasts saved out\n",
      "first_level_GLM/labeled-type-videos_veridical---scrambled_Wed-May--1-09:03:37-2024_sub-005_z-score.nii.gz\n",
      "sub-022\n",
      "veridical---scrambled\n"
     ]
    },
    {
     "name": "stderr",
     "output_type": "stream",
     "text": [
      "/usr/people/kz0108/miniconda3/envs/pygers/lib/python3.11/site-packages/nilearn/glm/first_level/experimental_paradigm.py:166: UserWarning: The following unexpected columns in events data will be ignored: stim_file, TODO -- fill in rows and add more tab-separated columns if desired, response_time\n",
      "  warnings.warn(\n",
      "/usr/people/kz0108/miniconda3/envs/pygers/lib/python3.11/site-packages/nilearn/glm/first_level/experimental_paradigm.py:166: UserWarning: The following unexpected columns in events data will be ignored: stim_file, TODO -- fill in rows and add more tab-separated columns if desired, response_time\n",
      "  warnings.warn(\n",
      "/usr/people/kz0108/miniconda3/envs/pygers/lib/python3.11/site-packages/nilearn/glm/first_level/experimental_paradigm.py:166: UserWarning: The following unexpected columns in events data will be ignored: stim_file, TODO -- fill in rows and add more tab-separated columns if desired, response_time\n",
      "  warnings.warn(\n",
      "/usr/people/kz0108/miniconda3/envs/pygers/lib/python3.11/site-packages/nilearn/glm/first_level/experimental_paradigm.py:166: UserWarning: The following unexpected columns in events data will be ignored: stim_file, TODO -- fill in rows and add more tab-separated columns if desired, response_time\n",
      "  warnings.warn(\n",
      "/usr/people/kz0108/miniconda3/envs/pygers/lib/python3.11/site-packages/nilearn/glm/first_level/experimental_paradigm.py:166: UserWarning: The following unexpected columns in events data will be ignored: stim_file, TODO -- fill in rows and add more tab-separated columns if desired, response_time\n",
      "  warnings.warn(\n",
      "/usr/people/kz0108/miniconda3/envs/pygers/lib/python3.11/site-packages/nilearn/glm/first_level/experimental_paradigm.py:166: UserWarning: The following unexpected columns in events data will be ignored: stim_file, TODO -- fill in rows and add more tab-separated columns if desired, response_time\n",
      "  warnings.warn(\n",
      "/usr/people/kz0108/miniconda3/envs/pygers/lib/python3.11/site-packages/nilearn/glm/first_level/first_level.py:547: UserWarning: If design matrices are supplied, confounds and events will be ignored.\n",
      "  warn(\n"
     ]
    },
    {
     "name": "stdout",
     "output_type": "stream",
     "text": [
      "ready to fit the model\n",
      "ready to fit the model\n",
      "ready to fit the model\n",
      "ready to fit the model\n",
      "ready to fit the model\n",
      "ready to fit the model\n",
      "(78, 93, 78, 110)\n",
      "(110, 16)\n",
      "(110, 19)\n",
      "(20, 6)\n",
      "(110,)\n"
     ]
    },
    {
     "name": "stderr",
     "output_type": "stream",
     "text": [
      "/usr/people/kz0108/miniconda3/envs/pygers/lib/python3.11/site-packages/nilearn/maskers/nifti_masker.py:108: UserWarning: imgs are being resampled to the mask_img resolution. This process is memory intensive. You might want to provide a target_affine that is equal to the affine of the imgs or resample the mask beforehand to save memory and computation time.\n",
      "  warnings.warn(\n",
      "/usr/people/kz0108/miniconda3/envs/pygers/lib/python3.11/site-packages/joblib/memory.py:353: FutureWarning: The default strategy for standardize is currently 'zscore' which incorrectly uses population std to calculate sample zscores. The new strategy 'zscore_sample' corrects this behavior by using the sample std. In release 0.13, the default strategy will be replaced by the new strategy and the 'zscore' option will be removed. Please use 'zscore_sample' instead.\n",
      "  return self.func(*args, **kwargs)\n",
      "/usr/people/kz0108/miniconda3/envs/pygers/lib/python3.11/site-packages/nilearn/maskers/nifti_masker.py:108: UserWarning: imgs are being resampled to the mask_img resolution. This process is memory intensive. You might want to provide a target_affine that is equal to the affine of the imgs or resample the mask beforehand to save memory and computation time.\n",
      "  warnings.warn(\n",
      "/usr/people/kz0108/miniconda3/envs/pygers/lib/python3.11/site-packages/joblib/memory.py:353: FutureWarning: The default strategy for standardize is currently 'zscore' which incorrectly uses population std to calculate sample zscores. The new strategy 'zscore_sample' corrects this behavior by using the sample std. In release 0.13, the default strategy will be replaced by the new strategy and the 'zscore' option will be removed. Please use 'zscore_sample' instead.\n",
      "  return self.func(*args, **kwargs)\n",
      "/usr/people/kz0108/miniconda3/envs/pygers/lib/python3.11/site-packages/nilearn/maskers/nifti_masker.py:108: UserWarning: imgs are being resampled to the mask_img resolution. This process is memory intensive. You might want to provide a target_affine that is equal to the affine of the imgs or resample the mask beforehand to save memory and computation time.\n",
      "  warnings.warn(\n",
      "/usr/people/kz0108/miniconda3/envs/pygers/lib/python3.11/site-packages/joblib/memory.py:353: FutureWarning: The default strategy for standardize is currently 'zscore' which incorrectly uses population std to calculate sample zscores. The new strategy 'zscore_sample' corrects this behavior by using the sample std. In release 0.13, the default strategy will be replaced by the new strategy and the 'zscore' option will be removed. Please use 'zscore_sample' instead.\n",
      "  return self.func(*args, **kwargs)\n",
      "/usr/people/kz0108/miniconda3/envs/pygers/lib/python3.11/site-packages/nilearn/maskers/nifti_masker.py:108: UserWarning: imgs are being resampled to the mask_img resolution. This process is memory intensive. You might want to provide a target_affine that is equal to the affine of the imgs or resample the mask beforehand to save memory and computation time.\n",
      "  warnings.warn(\n",
      "/usr/people/kz0108/miniconda3/envs/pygers/lib/python3.11/site-packages/joblib/memory.py:353: FutureWarning: The default strategy for standardize is currently 'zscore' which incorrectly uses population std to calculate sample zscores. The new strategy 'zscore_sample' corrects this behavior by using the sample std. In release 0.13, the default strategy will be replaced by the new strategy and the 'zscore' option will be removed. Please use 'zscore_sample' instead.\n",
      "  return self.func(*args, **kwargs)\n",
      "/usr/people/kz0108/miniconda3/envs/pygers/lib/python3.11/site-packages/nilearn/maskers/nifti_masker.py:108: UserWarning: imgs are being resampled to the mask_img resolution. This process is memory intensive. You might want to provide a target_affine that is equal to the affine of the imgs or resample the mask beforehand to save memory and computation time.\n",
      "  warnings.warn(\n",
      "/usr/people/kz0108/miniconda3/envs/pygers/lib/python3.11/site-packages/joblib/memory.py:353: FutureWarning: The default strategy for standardize is currently 'zscore' which incorrectly uses population std to calculate sample zscores. The new strategy 'zscore_sample' corrects this behavior by using the sample std. In release 0.13, the default strategy will be replaced by the new strategy and the 'zscore' option will be removed. Please use 'zscore_sample' instead.\n",
      "  return self.func(*args, **kwargs)\n",
      "/usr/people/kz0108/miniconda3/envs/pygers/lib/python3.11/site-packages/nilearn/maskers/nifti_masker.py:108: UserWarning: imgs are being resampled to the mask_img resolution. This process is memory intensive. You might want to provide a target_affine that is equal to the affine of the imgs or resample the mask beforehand to save memory and computation time.\n",
      "  warnings.warn(\n",
      "/usr/people/kz0108/miniconda3/envs/pygers/lib/python3.11/site-packages/joblib/memory.py:353: FutureWarning: The default strategy for standardize is currently 'zscore' which incorrectly uses population std to calculate sample zscores. The new strategy 'zscore_sample' corrects this behavior by using the sample std. In release 0.13, the default strategy will be replaced by the new strategy and the 'zscore' option will be removed. Please use 'zscore_sample' instead.\n",
      "  return self.func(*args, **kwargs)\n"
     ]
    },
    {
     "name": "stdout",
     "output_type": "stream",
     "text": [
      "ready to compute contrasts\n"
     ]
    },
    {
     "name": "stderr",
     "output_type": "stream",
     "text": [
      "/usr/people/kz0108/miniconda3/envs/pygers/lib/python3.11/site-packages/nilearn/glm/first_level/first_level.py:799: UserWarning: One contrast given, assuming it for all 6 runs\n",
      "  warn(f\"One contrast given, assuming it for all {int(n_runs)} runs\")\n"
     ]
    },
    {
     "name": "stdout",
     "output_type": "stream",
     "text": [
      "contrasts computed\n",
      "directory path created\n",
      "Directory already exists: first_level_GLM\n",
      "contrasts saved out\n",
      "first_level_GLM/labeled-type-videos_veridical---scrambled_Wed-May--1-09:05:49-2024_sub-022_z-score.nii.gz\n",
      "sub-015\n",
      "veridical---scrambled\n"
     ]
    },
    {
     "name": "stderr",
     "output_type": "stream",
     "text": [
      "/usr/people/kz0108/miniconda3/envs/pygers/lib/python3.11/site-packages/nilearn/glm/first_level/experimental_paradigm.py:166: UserWarning: The following unexpected columns in events data will be ignored: stim_file, TODO -- fill in rows and add more tab-separated columns if desired, response_time\n",
      "  warnings.warn(\n",
      "/usr/people/kz0108/miniconda3/envs/pygers/lib/python3.11/site-packages/nilearn/glm/first_level/experimental_paradigm.py:166: UserWarning: The following unexpected columns in events data will be ignored: stim_file, TODO -- fill in rows and add more tab-separated columns if desired, response_time\n",
      "  warnings.warn(\n",
      "/usr/people/kz0108/miniconda3/envs/pygers/lib/python3.11/site-packages/nilearn/glm/first_level/experimental_paradigm.py:166: UserWarning: The following unexpected columns in events data will be ignored: stim_file, TODO -- fill in rows and add more tab-separated columns if desired, response_time\n",
      "  warnings.warn(\n",
      "/usr/people/kz0108/miniconda3/envs/pygers/lib/python3.11/site-packages/nilearn/glm/first_level/experimental_paradigm.py:166: UserWarning: The following unexpected columns in events data will be ignored: stim_file, TODO -- fill in rows and add more tab-separated columns if desired, response_time\n",
      "  warnings.warn(\n",
      "/usr/people/kz0108/miniconda3/envs/pygers/lib/python3.11/site-packages/nilearn/glm/first_level/experimental_paradigm.py:166: UserWarning: The following unexpected columns in events data will be ignored: stim_file, TODO -- fill in rows and add more tab-separated columns if desired, response_time\n",
      "  warnings.warn(\n",
      "/usr/people/kz0108/miniconda3/envs/pygers/lib/python3.11/site-packages/nilearn/glm/first_level/experimental_paradigm.py:166: UserWarning: The following unexpected columns in events data will be ignored: stim_file, TODO -- fill in rows and add more tab-separated columns if desired, response_time\n",
      "  warnings.warn(\n",
      "/usr/people/kz0108/miniconda3/envs/pygers/lib/python3.11/site-packages/nilearn/glm/first_level/first_level.py:547: UserWarning: If design matrices are supplied, confounds and events will be ignored.\n",
      "  warn(\n"
     ]
    },
    {
     "name": "stdout",
     "output_type": "stream",
     "text": [
      "ready to fit the model\n",
      "ready to fit the model\n",
      "ready to fit the model\n",
      "ready to fit the model\n",
      "ready to fit the model\n",
      "ready to fit the model\n",
      "(78, 93, 78, 110)\n",
      "(110, 16)\n",
      "(110, 19)\n",
      "(20, 6)\n",
      "(110,)\n"
     ]
    },
    {
     "name": "stderr",
     "output_type": "stream",
     "text": [
      "/usr/people/kz0108/miniconda3/envs/pygers/lib/python3.11/site-packages/nilearn/maskers/nifti_masker.py:108: UserWarning: imgs are being resampled to the mask_img resolution. This process is memory intensive. You might want to provide a target_affine that is equal to the affine of the imgs or resample the mask beforehand to save memory and computation time.\n",
      "  warnings.warn(\n",
      "/usr/people/kz0108/miniconda3/envs/pygers/lib/python3.11/site-packages/joblib/memory.py:353: FutureWarning: The default strategy for standardize is currently 'zscore' which incorrectly uses population std to calculate sample zscores. The new strategy 'zscore_sample' corrects this behavior by using the sample std. In release 0.13, the default strategy will be replaced by the new strategy and the 'zscore' option will be removed. Please use 'zscore_sample' instead.\n",
      "  return self.func(*args, **kwargs)\n",
      "/usr/people/kz0108/miniconda3/envs/pygers/lib/python3.11/site-packages/nilearn/maskers/nifti_masker.py:108: UserWarning: imgs are being resampled to the mask_img resolution. This process is memory intensive. You might want to provide a target_affine that is equal to the affine of the imgs or resample the mask beforehand to save memory and computation time.\n",
      "  warnings.warn(\n",
      "/usr/people/kz0108/miniconda3/envs/pygers/lib/python3.11/site-packages/joblib/memory.py:353: FutureWarning: The default strategy for standardize is currently 'zscore' which incorrectly uses population std to calculate sample zscores. The new strategy 'zscore_sample' corrects this behavior by using the sample std. In release 0.13, the default strategy will be replaced by the new strategy and the 'zscore' option will be removed. Please use 'zscore_sample' instead.\n",
      "  return self.func(*args, **kwargs)\n",
      "/usr/people/kz0108/miniconda3/envs/pygers/lib/python3.11/site-packages/nilearn/maskers/nifti_masker.py:108: UserWarning: imgs are being resampled to the mask_img resolution. This process is memory intensive. You might want to provide a target_affine that is equal to the affine of the imgs or resample the mask beforehand to save memory and computation time.\n",
      "  warnings.warn(\n",
      "/usr/people/kz0108/miniconda3/envs/pygers/lib/python3.11/site-packages/joblib/memory.py:353: FutureWarning: The default strategy for standardize is currently 'zscore' which incorrectly uses population std to calculate sample zscores. The new strategy 'zscore_sample' corrects this behavior by using the sample std. In release 0.13, the default strategy will be replaced by the new strategy and the 'zscore' option will be removed. Please use 'zscore_sample' instead.\n",
      "  return self.func(*args, **kwargs)\n",
      "/usr/people/kz0108/miniconda3/envs/pygers/lib/python3.11/site-packages/nilearn/maskers/nifti_masker.py:108: UserWarning: imgs are being resampled to the mask_img resolution. This process is memory intensive. You might want to provide a target_affine that is equal to the affine of the imgs or resample the mask beforehand to save memory and computation time.\n",
      "  warnings.warn(\n",
      "/usr/people/kz0108/miniconda3/envs/pygers/lib/python3.11/site-packages/joblib/memory.py:353: FutureWarning: The default strategy for standardize is currently 'zscore' which incorrectly uses population std to calculate sample zscores. The new strategy 'zscore_sample' corrects this behavior by using the sample std. In release 0.13, the default strategy will be replaced by the new strategy and the 'zscore' option will be removed. Please use 'zscore_sample' instead.\n",
      "  return self.func(*args, **kwargs)\n",
      "/usr/people/kz0108/miniconda3/envs/pygers/lib/python3.11/site-packages/nilearn/maskers/nifti_masker.py:108: UserWarning: imgs are being resampled to the mask_img resolution. This process is memory intensive. You might want to provide a target_affine that is equal to the affine of the imgs or resample the mask beforehand to save memory and computation time.\n",
      "  warnings.warn(\n",
      "/usr/people/kz0108/miniconda3/envs/pygers/lib/python3.11/site-packages/joblib/memory.py:353: FutureWarning: The default strategy for standardize is currently 'zscore' which incorrectly uses population std to calculate sample zscores. The new strategy 'zscore_sample' corrects this behavior by using the sample std. In release 0.13, the default strategy will be replaced by the new strategy and the 'zscore' option will be removed. Please use 'zscore_sample' instead.\n",
      "  return self.func(*args, **kwargs)\n",
      "/usr/people/kz0108/miniconda3/envs/pygers/lib/python3.11/site-packages/nilearn/maskers/nifti_masker.py:108: UserWarning: imgs are being resampled to the mask_img resolution. This process is memory intensive. You might want to provide a target_affine that is equal to the affine of the imgs or resample the mask beforehand to save memory and computation time.\n",
      "  warnings.warn(\n",
      "/usr/people/kz0108/miniconda3/envs/pygers/lib/python3.11/site-packages/joblib/memory.py:353: FutureWarning: The default strategy for standardize is currently 'zscore' which incorrectly uses population std to calculate sample zscores. The new strategy 'zscore_sample' corrects this behavior by using the sample std. In release 0.13, the default strategy will be replaced by the new strategy and the 'zscore' option will be removed. Please use 'zscore_sample' instead.\n",
      "  return self.func(*args, **kwargs)\n"
     ]
    },
    {
     "name": "stdout",
     "output_type": "stream",
     "text": [
      "ready to compute contrasts\n"
     ]
    },
    {
     "name": "stderr",
     "output_type": "stream",
     "text": [
      "/usr/people/kz0108/miniconda3/envs/pygers/lib/python3.11/site-packages/nilearn/glm/first_level/first_level.py:799: UserWarning: One contrast given, assuming it for all 6 runs\n",
      "  warn(f\"One contrast given, assuming it for all {int(n_runs)} runs\")\n"
     ]
    },
    {
     "name": "stdout",
     "output_type": "stream",
     "text": [
      "contrasts computed\n",
      "directory path created\n",
      "Directory already exists: first_level_GLM\n",
      "contrasts saved out\n",
      "first_level_GLM/labeled-type-videos_veridical---scrambled_Wed-May--1-09:07:58-2024_sub-015_z-score.nii.gz\n",
      "sub-010\n",
      "veridical---scrambled\n"
     ]
    },
    {
     "name": "stderr",
     "output_type": "stream",
     "text": [
      "/usr/people/kz0108/miniconda3/envs/pygers/lib/python3.11/site-packages/nilearn/glm/first_level/experimental_paradigm.py:166: UserWarning: The following unexpected columns in events data will be ignored: stim_file, TODO -- fill in rows and add more tab-separated columns if desired, response_time\n",
      "  warnings.warn(\n",
      "/usr/people/kz0108/miniconda3/envs/pygers/lib/python3.11/site-packages/nilearn/glm/first_level/experimental_paradigm.py:166: UserWarning: The following unexpected columns in events data will be ignored: stim_file, TODO -- fill in rows and add more tab-separated columns if desired, response_time\n",
      "  warnings.warn(\n",
      "/usr/people/kz0108/miniconda3/envs/pygers/lib/python3.11/site-packages/nilearn/glm/first_level/experimental_paradigm.py:166: UserWarning: The following unexpected columns in events data will be ignored: stim_file, TODO -- fill in rows and add more tab-separated columns if desired, response_time\n",
      "  warnings.warn(\n",
      "/usr/people/kz0108/miniconda3/envs/pygers/lib/python3.11/site-packages/nilearn/glm/first_level/experimental_paradigm.py:166: UserWarning: The following unexpected columns in events data will be ignored: stim_file, TODO -- fill in rows and add more tab-separated columns if desired, response_time\n",
      "  warnings.warn(\n",
      "/usr/people/kz0108/miniconda3/envs/pygers/lib/python3.11/site-packages/nilearn/glm/first_level/experimental_paradigm.py:166: UserWarning: The following unexpected columns in events data will be ignored: stim_file, TODO -- fill in rows and add more tab-separated columns if desired, response_time\n",
      "  warnings.warn(\n",
      "/usr/people/kz0108/miniconda3/envs/pygers/lib/python3.11/site-packages/nilearn/glm/first_level/experimental_paradigm.py:166: UserWarning: The following unexpected columns in events data will be ignored: stim_file, TODO -- fill in rows and add more tab-separated columns if desired, response_time\n",
      "  warnings.warn(\n",
      "/usr/people/kz0108/miniconda3/envs/pygers/lib/python3.11/site-packages/nilearn/glm/first_level/first_level.py:547: UserWarning: If design matrices are supplied, confounds and events will be ignored.\n",
      "  warn(\n"
     ]
    },
    {
     "name": "stdout",
     "output_type": "stream",
     "text": [
      "ready to fit the model\n",
      "ready to fit the model\n",
      "ready to fit the model\n",
      "ready to fit the model\n",
      "ready to fit the model\n",
      "ready to fit the model\n",
      "(78, 93, 78, 110)\n",
      "(110, 16)\n",
      "(110, 19)\n",
      "(20, 6)\n",
      "(110,)\n"
     ]
    },
    {
     "name": "stderr",
     "output_type": "stream",
     "text": [
      "/usr/people/kz0108/miniconda3/envs/pygers/lib/python3.11/site-packages/nilearn/maskers/nifti_masker.py:108: UserWarning: imgs are being resampled to the mask_img resolution. This process is memory intensive. You might want to provide a target_affine that is equal to the affine of the imgs or resample the mask beforehand to save memory and computation time.\n",
      "  warnings.warn(\n",
      "/usr/people/kz0108/miniconda3/envs/pygers/lib/python3.11/site-packages/joblib/memory.py:353: FutureWarning: The default strategy for standardize is currently 'zscore' which incorrectly uses population std to calculate sample zscores. The new strategy 'zscore_sample' corrects this behavior by using the sample std. In release 0.13, the default strategy will be replaced by the new strategy and the 'zscore' option will be removed. Please use 'zscore_sample' instead.\n",
      "  return self.func(*args, **kwargs)\n",
      "/usr/people/kz0108/miniconda3/envs/pygers/lib/python3.11/site-packages/nilearn/maskers/nifti_masker.py:108: UserWarning: imgs are being resampled to the mask_img resolution. This process is memory intensive. You might want to provide a target_affine that is equal to the affine of the imgs or resample the mask beforehand to save memory and computation time.\n",
      "  warnings.warn(\n",
      "/usr/people/kz0108/miniconda3/envs/pygers/lib/python3.11/site-packages/joblib/memory.py:353: FutureWarning: The default strategy for standardize is currently 'zscore' which incorrectly uses population std to calculate sample zscores. The new strategy 'zscore_sample' corrects this behavior by using the sample std. In release 0.13, the default strategy will be replaced by the new strategy and the 'zscore' option will be removed. Please use 'zscore_sample' instead.\n",
      "  return self.func(*args, **kwargs)\n",
      "/usr/people/kz0108/miniconda3/envs/pygers/lib/python3.11/site-packages/nilearn/maskers/nifti_masker.py:108: UserWarning: imgs are being resampled to the mask_img resolution. This process is memory intensive. You might want to provide a target_affine that is equal to the affine of the imgs or resample the mask beforehand to save memory and computation time.\n",
      "  warnings.warn(\n",
      "/usr/people/kz0108/miniconda3/envs/pygers/lib/python3.11/site-packages/joblib/memory.py:353: FutureWarning: The default strategy for standardize is currently 'zscore' which incorrectly uses population std to calculate sample zscores. The new strategy 'zscore_sample' corrects this behavior by using the sample std. In release 0.13, the default strategy will be replaced by the new strategy and the 'zscore' option will be removed. Please use 'zscore_sample' instead.\n",
      "  return self.func(*args, **kwargs)\n",
      "/usr/people/kz0108/miniconda3/envs/pygers/lib/python3.11/site-packages/nilearn/maskers/nifti_masker.py:108: UserWarning: imgs are being resampled to the mask_img resolution. This process is memory intensive. You might want to provide a target_affine that is equal to the affine of the imgs or resample the mask beforehand to save memory and computation time.\n",
      "  warnings.warn(\n",
      "/usr/people/kz0108/miniconda3/envs/pygers/lib/python3.11/site-packages/joblib/memory.py:353: FutureWarning: The default strategy for standardize is currently 'zscore' which incorrectly uses population std to calculate sample zscores. The new strategy 'zscore_sample' corrects this behavior by using the sample std. In release 0.13, the default strategy will be replaced by the new strategy and the 'zscore' option will be removed. Please use 'zscore_sample' instead.\n",
      "  return self.func(*args, **kwargs)\n",
      "/usr/people/kz0108/miniconda3/envs/pygers/lib/python3.11/site-packages/nilearn/maskers/nifti_masker.py:108: UserWarning: imgs are being resampled to the mask_img resolution. This process is memory intensive. You might want to provide a target_affine that is equal to the affine of the imgs or resample the mask beforehand to save memory and computation time.\n",
      "  warnings.warn(\n",
      "/usr/people/kz0108/miniconda3/envs/pygers/lib/python3.11/site-packages/joblib/memory.py:353: FutureWarning: The default strategy for standardize is currently 'zscore' which incorrectly uses population std to calculate sample zscores. The new strategy 'zscore_sample' corrects this behavior by using the sample std. In release 0.13, the default strategy will be replaced by the new strategy and the 'zscore' option will be removed. Please use 'zscore_sample' instead.\n",
      "  return self.func(*args, **kwargs)\n",
      "/usr/people/kz0108/miniconda3/envs/pygers/lib/python3.11/site-packages/nilearn/maskers/nifti_masker.py:108: UserWarning: imgs are being resampled to the mask_img resolution. This process is memory intensive. You might want to provide a target_affine that is equal to the affine of the imgs or resample the mask beforehand to save memory and computation time.\n",
      "  warnings.warn(\n",
      "/usr/people/kz0108/miniconda3/envs/pygers/lib/python3.11/site-packages/joblib/memory.py:353: FutureWarning: The default strategy for standardize is currently 'zscore' which incorrectly uses population std to calculate sample zscores. The new strategy 'zscore_sample' corrects this behavior by using the sample std. In release 0.13, the default strategy will be replaced by the new strategy and the 'zscore' option will be removed. Please use 'zscore_sample' instead.\n",
      "  return self.func(*args, **kwargs)\n"
     ]
    },
    {
     "name": "stdout",
     "output_type": "stream",
     "text": [
      "ready to compute contrasts\n"
     ]
    },
    {
     "name": "stderr",
     "output_type": "stream",
     "text": [
      "/usr/people/kz0108/miniconda3/envs/pygers/lib/python3.11/site-packages/nilearn/glm/first_level/first_level.py:799: UserWarning: One contrast given, assuming it for all 6 runs\n",
      "  warn(f\"One contrast given, assuming it for all {int(n_runs)} runs\")\n"
     ]
    },
    {
     "name": "stdout",
     "output_type": "stream",
     "text": [
      "contrasts computed\n",
      "directory path created\n",
      "Directory already exists: first_level_GLM\n",
      "contrasts saved out\n",
      "first_level_GLM/labeled-type-videos_veridical---scrambled_Wed-May--1-09:10:07-2024_sub-010_z-score.nii.gz\n",
      "sub-006\n",
      "veridical---scrambled\n"
     ]
    },
    {
     "name": "stderr",
     "output_type": "stream",
     "text": [
      "/usr/people/kz0108/miniconda3/envs/pygers/lib/python3.11/site-packages/nilearn/glm/first_level/experimental_paradigm.py:166: UserWarning: The following unexpected columns in events data will be ignored: stim_file, TODO -- fill in rows and add more tab-separated columns if desired, response_time\n",
      "  warnings.warn(\n",
      "/usr/people/kz0108/miniconda3/envs/pygers/lib/python3.11/site-packages/nilearn/glm/first_level/experimental_paradigm.py:166: UserWarning: The following unexpected columns in events data will be ignored: stim_file, TODO -- fill in rows and add more tab-separated columns if desired, response_time\n",
      "  warnings.warn(\n",
      "/usr/people/kz0108/miniconda3/envs/pygers/lib/python3.11/site-packages/nilearn/glm/first_level/experimental_paradigm.py:166: UserWarning: The following unexpected columns in events data will be ignored: stim_file, TODO -- fill in rows and add more tab-separated columns if desired, response_time\n",
      "  warnings.warn(\n",
      "/usr/people/kz0108/miniconda3/envs/pygers/lib/python3.11/site-packages/nilearn/glm/first_level/experimental_paradigm.py:166: UserWarning: The following unexpected columns in events data will be ignored: stim_file, TODO -- fill in rows and add more tab-separated columns if desired, response_time\n",
      "  warnings.warn(\n",
      "/usr/people/kz0108/miniconda3/envs/pygers/lib/python3.11/site-packages/nilearn/glm/first_level/experimental_paradigm.py:166: UserWarning: The following unexpected columns in events data will be ignored: stim_file, TODO -- fill in rows and add more tab-separated columns if desired, response_time\n",
      "  warnings.warn(\n",
      "/usr/people/kz0108/miniconda3/envs/pygers/lib/python3.11/site-packages/nilearn/glm/first_level/experimental_paradigm.py:166: UserWarning: The following unexpected columns in events data will be ignored: stim_file, TODO -- fill in rows and add more tab-separated columns if desired, response_time\n",
      "  warnings.warn(\n"
     ]
    },
    {
     "name": "stdout",
     "output_type": "stream",
     "text": [
      "ready to fit the model\n",
      "ready to fit the model\n",
      "ready to fit the model\n",
      "ready to fit the model\n",
      "ready to fit the model\n",
      "ready to fit the model\n",
      "(78, 93, 78, 110)\n",
      "(110, 16)\n",
      "(110, 19)\n",
      "(20, 6)\n",
      "(109,)\n"
     ]
    },
    {
     "name": "stderr",
     "output_type": "stream",
     "text": [
      "/usr/people/kz0108/miniconda3/envs/pygers/lib/python3.11/site-packages/nilearn/glm/first_level/first_level.py:547: UserWarning: If design matrices are supplied, confounds and events will be ignored.\n",
      "  warn(\n",
      "/usr/people/kz0108/miniconda3/envs/pygers/lib/python3.11/site-packages/nilearn/maskers/nifti_masker.py:108: UserWarning: imgs are being resampled to the mask_img resolution. This process is memory intensive. You might want to provide a target_affine that is equal to the affine of the imgs or resample the mask beforehand to save memory and computation time.\n",
      "  warnings.warn(\n",
      "/usr/people/kz0108/miniconda3/envs/pygers/lib/python3.11/site-packages/joblib/memory.py:353: FutureWarning: The default strategy for standardize is currently 'zscore' which incorrectly uses population std to calculate sample zscores. The new strategy 'zscore_sample' corrects this behavior by using the sample std. In release 0.13, the default strategy will be replaced by the new strategy and the 'zscore' option will be removed. Please use 'zscore_sample' instead.\n",
      "  return self.func(*args, **kwargs)\n",
      "/usr/people/kz0108/miniconda3/envs/pygers/lib/python3.11/site-packages/nilearn/maskers/nifti_masker.py:108: UserWarning: imgs are being resampled to the mask_img resolution. This process is memory intensive. You might want to provide a target_affine that is equal to the affine of the imgs or resample the mask beforehand to save memory and computation time.\n",
      "  warnings.warn(\n",
      "/usr/people/kz0108/miniconda3/envs/pygers/lib/python3.11/site-packages/joblib/memory.py:353: FutureWarning: The default strategy for standardize is currently 'zscore' which incorrectly uses population std to calculate sample zscores. The new strategy 'zscore_sample' corrects this behavior by using the sample std. In release 0.13, the default strategy will be replaced by the new strategy and the 'zscore' option will be removed. Please use 'zscore_sample' instead.\n",
      "  return self.func(*args, **kwargs)\n",
      "/usr/people/kz0108/miniconda3/envs/pygers/lib/python3.11/site-packages/nilearn/maskers/nifti_masker.py:108: UserWarning: imgs are being resampled to the mask_img resolution. This process is memory intensive. You might want to provide a target_affine that is equal to the affine of the imgs or resample the mask beforehand to save memory and computation time.\n",
      "  warnings.warn(\n",
      "/usr/people/kz0108/miniconda3/envs/pygers/lib/python3.11/site-packages/joblib/memory.py:353: FutureWarning: The default strategy for standardize is currently 'zscore' which incorrectly uses population std to calculate sample zscores. The new strategy 'zscore_sample' corrects this behavior by using the sample std. In release 0.13, the default strategy will be replaced by the new strategy and the 'zscore' option will be removed. Please use 'zscore_sample' instead.\n",
      "  return self.func(*args, **kwargs)\n",
      "/usr/people/kz0108/miniconda3/envs/pygers/lib/python3.11/site-packages/nilearn/maskers/nifti_masker.py:108: UserWarning: imgs are being resampled to the mask_img resolution. This process is memory intensive. You might want to provide a target_affine that is equal to the affine of the imgs or resample the mask beforehand to save memory and computation time.\n",
      "  warnings.warn(\n",
      "/usr/people/kz0108/miniconda3/envs/pygers/lib/python3.11/site-packages/joblib/memory.py:353: FutureWarning: The default strategy for standardize is currently 'zscore' which incorrectly uses population std to calculate sample zscores. The new strategy 'zscore_sample' corrects this behavior by using the sample std. In release 0.13, the default strategy will be replaced by the new strategy and the 'zscore' option will be removed. Please use 'zscore_sample' instead.\n",
      "  return self.func(*args, **kwargs)\n",
      "/usr/people/kz0108/miniconda3/envs/pygers/lib/python3.11/site-packages/nilearn/maskers/nifti_masker.py:108: UserWarning: imgs are being resampled to the mask_img resolution. This process is memory intensive. You might want to provide a target_affine that is equal to the affine of the imgs or resample the mask beforehand to save memory and computation time.\n",
      "  warnings.warn(\n",
      "/usr/people/kz0108/miniconda3/envs/pygers/lib/python3.11/site-packages/joblib/memory.py:353: FutureWarning: The default strategy for standardize is currently 'zscore' which incorrectly uses population std to calculate sample zscores. The new strategy 'zscore_sample' corrects this behavior by using the sample std. In release 0.13, the default strategy will be replaced by the new strategy and the 'zscore' option will be removed. Please use 'zscore_sample' instead.\n",
      "  return self.func(*args, **kwargs)\n",
      "/usr/people/kz0108/miniconda3/envs/pygers/lib/python3.11/site-packages/nilearn/maskers/nifti_masker.py:108: UserWarning: imgs are being resampled to the mask_img resolution. This process is memory intensive. You might want to provide a target_affine that is equal to the affine of the imgs or resample the mask beforehand to save memory and computation time.\n",
      "  warnings.warn(\n",
      "/usr/people/kz0108/miniconda3/envs/pygers/lib/python3.11/site-packages/joblib/memory.py:353: FutureWarning: The default strategy for standardize is currently 'zscore' which incorrectly uses population std to calculate sample zscores. The new strategy 'zscore_sample' corrects this behavior by using the sample std. In release 0.13, the default strategy will be replaced by the new strategy and the 'zscore' option will be removed. Please use 'zscore_sample' instead.\n",
      "  return self.func(*args, **kwargs)\n"
     ]
    },
    {
     "name": "stdout",
     "output_type": "stream",
     "text": [
      "ready to compute contrasts\n"
     ]
    },
    {
     "name": "stderr",
     "output_type": "stream",
     "text": [
      "/usr/people/kz0108/miniconda3/envs/pygers/lib/python3.11/site-packages/nilearn/glm/first_level/first_level.py:799: UserWarning: One contrast given, assuming it for all 6 runs\n",
      "  warn(f\"One contrast given, assuming it for all {int(n_runs)} runs\")\n"
     ]
    },
    {
     "name": "stdout",
     "output_type": "stream",
     "text": [
      "contrasts computed\n",
      "directory path created\n",
      "Directory already exists: first_level_GLM\n",
      "contrasts saved out\n",
      "first_level_GLM/labeled-type-videos_veridical---scrambled_Wed-May--1-09:12:13-2024_sub-006_z-score.nii.gz\n",
      "sub-011\n",
      "veridical---scrambled\n"
     ]
    },
    {
     "name": "stderr",
     "output_type": "stream",
     "text": [
      "/usr/people/kz0108/miniconda3/envs/pygers/lib/python3.11/site-packages/nilearn/glm/first_level/experimental_paradigm.py:166: UserWarning: The following unexpected columns in events data will be ignored: stim_file, TODO -- fill in rows and add more tab-separated columns if desired, response_time\n",
      "  warnings.warn(\n",
      "/usr/people/kz0108/miniconda3/envs/pygers/lib/python3.11/site-packages/nilearn/glm/first_level/experimental_paradigm.py:166: UserWarning: The following unexpected columns in events data will be ignored: stim_file, TODO -- fill in rows and add more tab-separated columns if desired, response_time\n",
      "  warnings.warn(\n",
      "/usr/people/kz0108/miniconda3/envs/pygers/lib/python3.11/site-packages/nilearn/glm/first_level/experimental_paradigm.py:166: UserWarning: The following unexpected columns in events data will be ignored: stim_file, TODO -- fill in rows and add more tab-separated columns if desired, response_time\n",
      "  warnings.warn(\n",
      "/usr/people/kz0108/miniconda3/envs/pygers/lib/python3.11/site-packages/nilearn/glm/first_level/experimental_paradigm.py:166: UserWarning: The following unexpected columns in events data will be ignored: stim_file, TODO -- fill in rows and add more tab-separated columns if desired, response_time\n",
      "  warnings.warn(\n",
      "/usr/people/kz0108/miniconda3/envs/pygers/lib/python3.11/site-packages/nilearn/glm/first_level/experimental_paradigm.py:166: UserWarning: The following unexpected columns in events data will be ignored: stim_file, TODO -- fill in rows and add more tab-separated columns if desired, response_time\n",
      "  warnings.warn(\n",
      "/usr/people/kz0108/miniconda3/envs/pygers/lib/python3.11/site-packages/nilearn/glm/first_level/experimental_paradigm.py:166: UserWarning: The following unexpected columns in events data will be ignored: stim_file, TODO -- fill in rows and add more tab-separated columns if desired, response_time\n",
      "  warnings.warn(\n",
      "/usr/people/kz0108/miniconda3/envs/pygers/lib/python3.11/site-packages/nilearn/glm/first_level/first_level.py:547: UserWarning: If design matrices are supplied, confounds and events will be ignored.\n",
      "  warn(\n"
     ]
    },
    {
     "name": "stdout",
     "output_type": "stream",
     "text": [
      "ready to fit the model\n",
      "ready to fit the model\n",
      "ready to fit the model\n",
      "ready to fit the model\n",
      "ready to fit the model\n",
      "ready to fit the model\n",
      "(78, 93, 78, 110)\n",
      "(110, 16)\n",
      "(110, 19)\n",
      "(20, 6)\n",
      "(110,)\n"
     ]
    },
    {
     "name": "stderr",
     "output_type": "stream",
     "text": [
      "/usr/people/kz0108/miniconda3/envs/pygers/lib/python3.11/site-packages/nilearn/maskers/nifti_masker.py:108: UserWarning: imgs are being resampled to the mask_img resolution. This process is memory intensive. You might want to provide a target_affine that is equal to the affine of the imgs or resample the mask beforehand to save memory and computation time.\n",
      "  warnings.warn(\n",
      "/usr/people/kz0108/miniconda3/envs/pygers/lib/python3.11/site-packages/joblib/memory.py:353: FutureWarning: The default strategy for standardize is currently 'zscore' which incorrectly uses population std to calculate sample zscores. The new strategy 'zscore_sample' corrects this behavior by using the sample std. In release 0.13, the default strategy will be replaced by the new strategy and the 'zscore' option will be removed. Please use 'zscore_sample' instead.\n",
      "  return self.func(*args, **kwargs)\n",
      "/usr/people/kz0108/miniconda3/envs/pygers/lib/python3.11/site-packages/nilearn/maskers/nifti_masker.py:108: UserWarning: imgs are being resampled to the mask_img resolution. This process is memory intensive. You might want to provide a target_affine that is equal to the affine of the imgs or resample the mask beforehand to save memory and computation time.\n",
      "  warnings.warn(\n",
      "/usr/people/kz0108/miniconda3/envs/pygers/lib/python3.11/site-packages/joblib/memory.py:353: FutureWarning: The default strategy for standardize is currently 'zscore' which incorrectly uses population std to calculate sample zscores. The new strategy 'zscore_sample' corrects this behavior by using the sample std. In release 0.13, the default strategy will be replaced by the new strategy and the 'zscore' option will be removed. Please use 'zscore_sample' instead.\n",
      "  return self.func(*args, **kwargs)\n",
      "/usr/people/kz0108/miniconda3/envs/pygers/lib/python3.11/site-packages/nilearn/maskers/nifti_masker.py:108: UserWarning: imgs are being resampled to the mask_img resolution. This process is memory intensive. You might want to provide a target_affine that is equal to the affine of the imgs or resample the mask beforehand to save memory and computation time.\n",
      "  warnings.warn(\n",
      "/usr/people/kz0108/miniconda3/envs/pygers/lib/python3.11/site-packages/joblib/memory.py:353: FutureWarning: The default strategy for standardize is currently 'zscore' which incorrectly uses population std to calculate sample zscores. The new strategy 'zscore_sample' corrects this behavior by using the sample std. In release 0.13, the default strategy will be replaced by the new strategy and the 'zscore' option will be removed. Please use 'zscore_sample' instead.\n",
      "  return self.func(*args, **kwargs)\n",
      "/usr/people/kz0108/miniconda3/envs/pygers/lib/python3.11/site-packages/nilearn/maskers/nifti_masker.py:108: UserWarning: imgs are being resampled to the mask_img resolution. This process is memory intensive. You might want to provide a target_affine that is equal to the affine of the imgs or resample the mask beforehand to save memory and computation time.\n",
      "  warnings.warn(\n",
      "/usr/people/kz0108/miniconda3/envs/pygers/lib/python3.11/site-packages/joblib/memory.py:353: FutureWarning: The default strategy for standardize is currently 'zscore' which incorrectly uses population std to calculate sample zscores. The new strategy 'zscore_sample' corrects this behavior by using the sample std. In release 0.13, the default strategy will be replaced by the new strategy and the 'zscore' option will be removed. Please use 'zscore_sample' instead.\n",
      "  return self.func(*args, **kwargs)\n",
      "/usr/people/kz0108/miniconda3/envs/pygers/lib/python3.11/site-packages/nilearn/maskers/nifti_masker.py:108: UserWarning: imgs are being resampled to the mask_img resolution. This process is memory intensive. You might want to provide a target_affine that is equal to the affine of the imgs or resample the mask beforehand to save memory and computation time.\n",
      "  warnings.warn(\n",
      "/usr/people/kz0108/miniconda3/envs/pygers/lib/python3.11/site-packages/joblib/memory.py:353: FutureWarning: The default strategy for standardize is currently 'zscore' which incorrectly uses population std to calculate sample zscores. The new strategy 'zscore_sample' corrects this behavior by using the sample std. In release 0.13, the default strategy will be replaced by the new strategy and the 'zscore' option will be removed. Please use 'zscore_sample' instead.\n",
      "  return self.func(*args, **kwargs)\n",
      "/usr/people/kz0108/miniconda3/envs/pygers/lib/python3.11/site-packages/nilearn/maskers/nifti_masker.py:108: UserWarning: imgs are being resampled to the mask_img resolution. This process is memory intensive. You might want to provide a target_affine that is equal to the affine of the imgs or resample the mask beforehand to save memory and computation time.\n",
      "  warnings.warn(\n",
      "/usr/people/kz0108/miniconda3/envs/pygers/lib/python3.11/site-packages/joblib/memory.py:353: FutureWarning: The default strategy for standardize is currently 'zscore' which incorrectly uses population std to calculate sample zscores. The new strategy 'zscore_sample' corrects this behavior by using the sample std. In release 0.13, the default strategy will be replaced by the new strategy and the 'zscore' option will be removed. Please use 'zscore_sample' instead.\n",
      "  return self.func(*args, **kwargs)\n"
     ]
    },
    {
     "name": "stdout",
     "output_type": "stream",
     "text": [
      "ready to compute contrasts\n"
     ]
    },
    {
     "name": "stderr",
     "output_type": "stream",
     "text": [
      "/usr/people/kz0108/miniconda3/envs/pygers/lib/python3.11/site-packages/nilearn/glm/first_level/first_level.py:799: UserWarning: One contrast given, assuming it for all 6 runs\n",
      "  warn(f\"One contrast given, assuming it for all {int(n_runs)} runs\")\n"
     ]
    },
    {
     "name": "stdout",
     "output_type": "stream",
     "text": [
      "contrasts computed\n",
      "directory path created\n",
      "Directory already exists: first_level_GLM\n",
      "contrasts saved out\n",
      "first_level_GLM/labeled-type-videos_veridical---scrambled_Wed-May--1-09:14:18-2024_sub-011_z-score.nii.gz\n",
      "sub-003\n",
      "veridical---scrambled\n"
     ]
    },
    {
     "name": "stderr",
     "output_type": "stream",
     "text": [
      "/usr/people/kz0108/miniconda3/envs/pygers/lib/python3.11/site-packages/nilearn/glm/first_level/experimental_paradigm.py:166: UserWarning: The following unexpected columns in events data will be ignored: stim_file, TODO -- fill in rows and add more tab-separated columns if desired, response_time\n",
      "  warnings.warn(\n",
      "/usr/people/kz0108/miniconda3/envs/pygers/lib/python3.11/site-packages/nilearn/glm/first_level/experimental_paradigm.py:166: UserWarning: The following unexpected columns in events data will be ignored: stim_file, TODO -- fill in rows and add more tab-separated columns if desired, response_time\n",
      "  warnings.warn(\n",
      "/usr/people/kz0108/miniconda3/envs/pygers/lib/python3.11/site-packages/nilearn/glm/first_level/experimental_paradigm.py:166: UserWarning: The following unexpected columns in events data will be ignored: stim_file, TODO -- fill in rows and add more tab-separated columns if desired, response_time\n",
      "  warnings.warn(\n",
      "/usr/people/kz0108/miniconda3/envs/pygers/lib/python3.11/site-packages/nilearn/glm/first_level/experimental_paradigm.py:166: UserWarning: The following unexpected columns in events data will be ignored: stim_file, TODO -- fill in rows and add more tab-separated columns if desired, response_time\n",
      "  warnings.warn(\n",
      "/usr/people/kz0108/miniconda3/envs/pygers/lib/python3.11/site-packages/nilearn/glm/first_level/experimental_paradigm.py:166: UserWarning: The following unexpected columns in events data will be ignored: stim_file, TODO -- fill in rows and add more tab-separated columns if desired, response_time\n",
      "  warnings.warn(\n",
      "/usr/people/kz0108/miniconda3/envs/pygers/lib/python3.11/site-packages/nilearn/glm/first_level/experimental_paradigm.py:166: UserWarning: The following unexpected columns in events data will be ignored: stim_file, TODO -- fill in rows and add more tab-separated columns if desired, response_time\n",
      "  warnings.warn(\n",
      "/usr/people/kz0108/miniconda3/envs/pygers/lib/python3.11/site-packages/nilearn/glm/first_level/first_level.py:547: UserWarning: If design matrices are supplied, confounds and events will be ignored.\n",
      "  warn(\n"
     ]
    },
    {
     "name": "stdout",
     "output_type": "stream",
     "text": [
      "ready to fit the model\n",
      "ready to fit the model\n",
      "ready to fit the model\n",
      "ready to fit the model\n",
      "ready to fit the model\n",
      "ready to fit the model\n",
      "(78, 93, 78, 110)\n",
      "(110, 16)\n",
      "(110, 19)\n",
      "(20, 6)\n",
      "(110,)\n"
     ]
    },
    {
     "name": "stderr",
     "output_type": "stream",
     "text": [
      "/usr/people/kz0108/miniconda3/envs/pygers/lib/python3.11/site-packages/nilearn/maskers/nifti_masker.py:108: UserWarning: imgs are being resampled to the mask_img resolution. This process is memory intensive. You might want to provide a target_affine that is equal to the affine of the imgs or resample the mask beforehand to save memory and computation time.\n",
      "  warnings.warn(\n",
      "/usr/people/kz0108/miniconda3/envs/pygers/lib/python3.11/site-packages/joblib/memory.py:353: FutureWarning: The default strategy for standardize is currently 'zscore' which incorrectly uses population std to calculate sample zscores. The new strategy 'zscore_sample' corrects this behavior by using the sample std. In release 0.13, the default strategy will be replaced by the new strategy and the 'zscore' option will be removed. Please use 'zscore_sample' instead.\n",
      "  return self.func(*args, **kwargs)\n",
      "/usr/people/kz0108/miniconda3/envs/pygers/lib/python3.11/site-packages/nilearn/maskers/nifti_masker.py:108: UserWarning: imgs are being resampled to the mask_img resolution. This process is memory intensive. You might want to provide a target_affine that is equal to the affine of the imgs or resample the mask beforehand to save memory and computation time.\n",
      "  warnings.warn(\n",
      "/usr/people/kz0108/miniconda3/envs/pygers/lib/python3.11/site-packages/joblib/memory.py:353: FutureWarning: The default strategy for standardize is currently 'zscore' which incorrectly uses population std to calculate sample zscores. The new strategy 'zscore_sample' corrects this behavior by using the sample std. In release 0.13, the default strategy will be replaced by the new strategy and the 'zscore' option will be removed. Please use 'zscore_sample' instead.\n",
      "  return self.func(*args, **kwargs)\n",
      "/usr/people/kz0108/miniconda3/envs/pygers/lib/python3.11/site-packages/nilearn/maskers/nifti_masker.py:108: UserWarning: imgs are being resampled to the mask_img resolution. This process is memory intensive. You might want to provide a target_affine that is equal to the affine of the imgs or resample the mask beforehand to save memory and computation time.\n",
      "  warnings.warn(\n",
      "/usr/people/kz0108/miniconda3/envs/pygers/lib/python3.11/site-packages/joblib/memory.py:353: FutureWarning: The default strategy for standardize is currently 'zscore' which incorrectly uses population std to calculate sample zscores. The new strategy 'zscore_sample' corrects this behavior by using the sample std. In release 0.13, the default strategy will be replaced by the new strategy and the 'zscore' option will be removed. Please use 'zscore_sample' instead.\n",
      "  return self.func(*args, **kwargs)\n",
      "/usr/people/kz0108/miniconda3/envs/pygers/lib/python3.11/site-packages/nilearn/maskers/nifti_masker.py:108: UserWarning: imgs are being resampled to the mask_img resolution. This process is memory intensive. You might want to provide a target_affine that is equal to the affine of the imgs or resample the mask beforehand to save memory and computation time.\n",
      "  warnings.warn(\n",
      "/usr/people/kz0108/miniconda3/envs/pygers/lib/python3.11/site-packages/joblib/memory.py:353: FutureWarning: The default strategy for standardize is currently 'zscore' which incorrectly uses population std to calculate sample zscores. The new strategy 'zscore_sample' corrects this behavior by using the sample std. In release 0.13, the default strategy will be replaced by the new strategy and the 'zscore' option will be removed. Please use 'zscore_sample' instead.\n",
      "  return self.func(*args, **kwargs)\n",
      "/usr/people/kz0108/miniconda3/envs/pygers/lib/python3.11/site-packages/nilearn/maskers/nifti_masker.py:108: UserWarning: imgs are being resampled to the mask_img resolution. This process is memory intensive. You might want to provide a target_affine that is equal to the affine of the imgs or resample the mask beforehand to save memory and computation time.\n",
      "  warnings.warn(\n",
      "/usr/people/kz0108/miniconda3/envs/pygers/lib/python3.11/site-packages/joblib/memory.py:353: FutureWarning: The default strategy for standardize is currently 'zscore' which incorrectly uses population std to calculate sample zscores. The new strategy 'zscore_sample' corrects this behavior by using the sample std. In release 0.13, the default strategy will be replaced by the new strategy and the 'zscore' option will be removed. Please use 'zscore_sample' instead.\n",
      "  return self.func(*args, **kwargs)\n",
      "/usr/people/kz0108/miniconda3/envs/pygers/lib/python3.11/site-packages/nilearn/maskers/nifti_masker.py:108: UserWarning: imgs are being resampled to the mask_img resolution. This process is memory intensive. You might want to provide a target_affine that is equal to the affine of the imgs or resample the mask beforehand to save memory and computation time.\n",
      "  warnings.warn(\n",
      "/usr/people/kz0108/miniconda3/envs/pygers/lib/python3.11/site-packages/joblib/memory.py:353: FutureWarning: The default strategy for standardize is currently 'zscore' which incorrectly uses population std to calculate sample zscores. The new strategy 'zscore_sample' corrects this behavior by using the sample std. In release 0.13, the default strategy will be replaced by the new strategy and the 'zscore' option will be removed. Please use 'zscore_sample' instead.\n",
      "  return self.func(*args, **kwargs)\n"
     ]
    },
    {
     "name": "stdout",
     "output_type": "stream",
     "text": [
      "ready to compute contrasts\n"
     ]
    },
    {
     "name": "stderr",
     "output_type": "stream",
     "text": [
      "/usr/people/kz0108/miniconda3/envs/pygers/lib/python3.11/site-packages/nilearn/glm/first_level/first_level.py:799: UserWarning: One contrast given, assuming it for all 6 runs\n",
      "  warn(f\"One contrast given, assuming it for all {int(n_runs)} runs\")\n"
     ]
    },
    {
     "name": "stdout",
     "output_type": "stream",
     "text": [
      "contrasts computed\n",
      "directory path created\n",
      "Directory already exists: first_level_GLM\n",
      "contrasts saved out\n",
      "first_level_GLM/labeled-type-videos_veridical---scrambled_Wed-May--1-09:16:20-2024_sub-003_z-score.nii.gz\n",
      "sub-002\n",
      "veridical---scrambled\n"
     ]
    },
    {
     "name": "stderr",
     "output_type": "stream",
     "text": [
      "/usr/people/kz0108/miniconda3/envs/pygers/lib/python3.11/site-packages/nilearn/glm/first_level/experimental_paradigm.py:166: UserWarning: The following unexpected columns in events data will be ignored: stim_file, TODO -- fill in rows and add more tab-separated columns if desired, response_time\n",
      "  warnings.warn(\n",
      "/usr/people/kz0108/miniconda3/envs/pygers/lib/python3.11/site-packages/nilearn/glm/first_level/experimental_paradigm.py:166: UserWarning: The following unexpected columns in events data will be ignored: stim_file, TODO -- fill in rows and add more tab-separated columns if desired, response_time\n",
      "  warnings.warn(\n",
      "/usr/people/kz0108/miniconda3/envs/pygers/lib/python3.11/site-packages/nilearn/glm/first_level/experimental_paradigm.py:166: UserWarning: The following unexpected columns in events data will be ignored: stim_file, TODO -- fill in rows and add more tab-separated columns if desired, response_time\n",
      "  warnings.warn(\n",
      "/usr/people/kz0108/miniconda3/envs/pygers/lib/python3.11/site-packages/nilearn/glm/first_level/experimental_paradigm.py:166: UserWarning: The following unexpected columns in events data will be ignored: stim_file, TODO -- fill in rows and add more tab-separated columns if desired, response_time\n",
      "  warnings.warn(\n",
      "/usr/people/kz0108/miniconda3/envs/pygers/lib/python3.11/site-packages/nilearn/glm/first_level/experimental_paradigm.py:166: UserWarning: The following unexpected columns in events data will be ignored: stim_file, TODO -- fill in rows and add more tab-separated columns if desired, response_time\n",
      "  warnings.warn(\n",
      "/usr/people/kz0108/miniconda3/envs/pygers/lib/python3.11/site-packages/nilearn/glm/first_level/experimental_paradigm.py:166: UserWarning: The following unexpected columns in events data will be ignored: stim_file, TODO -- fill in rows and add more tab-separated columns if desired, response_time\n",
      "  warnings.warn(\n",
      "/usr/people/kz0108/miniconda3/envs/pygers/lib/python3.11/site-packages/nilearn/glm/first_level/first_level.py:547: UserWarning: If design matrices are supplied, confounds and events will be ignored.\n",
      "  warn(\n"
     ]
    },
    {
     "name": "stdout",
     "output_type": "stream",
     "text": [
      "ready to fit the model\n",
      "ready to fit the model\n",
      "ready to fit the model\n",
      "ready to fit the model\n",
      "ready to fit the model\n",
      "ready to fit the model\n",
      "(78, 93, 78, 110)\n",
      "(110, 16)\n",
      "(110, 19)\n",
      "(20, 6)\n",
      "(110,)\n"
     ]
    },
    {
     "name": "stderr",
     "output_type": "stream",
     "text": [
      "/usr/people/kz0108/miniconda3/envs/pygers/lib/python3.11/site-packages/nilearn/maskers/nifti_masker.py:108: UserWarning: imgs are being resampled to the mask_img resolution. This process is memory intensive. You might want to provide a target_affine that is equal to the affine of the imgs or resample the mask beforehand to save memory and computation time.\n",
      "  warnings.warn(\n",
      "/usr/people/kz0108/miniconda3/envs/pygers/lib/python3.11/site-packages/joblib/memory.py:353: FutureWarning: The default strategy for standardize is currently 'zscore' which incorrectly uses population std to calculate sample zscores. The new strategy 'zscore_sample' corrects this behavior by using the sample std. In release 0.13, the default strategy will be replaced by the new strategy and the 'zscore' option will be removed. Please use 'zscore_sample' instead.\n",
      "  return self.func(*args, **kwargs)\n",
      "/usr/people/kz0108/miniconda3/envs/pygers/lib/python3.11/site-packages/nilearn/maskers/nifti_masker.py:108: UserWarning: imgs are being resampled to the mask_img resolution. This process is memory intensive. You might want to provide a target_affine that is equal to the affine of the imgs or resample the mask beforehand to save memory and computation time.\n",
      "  warnings.warn(\n",
      "/usr/people/kz0108/miniconda3/envs/pygers/lib/python3.11/site-packages/joblib/memory.py:353: FutureWarning: The default strategy for standardize is currently 'zscore' which incorrectly uses population std to calculate sample zscores. The new strategy 'zscore_sample' corrects this behavior by using the sample std. In release 0.13, the default strategy will be replaced by the new strategy and the 'zscore' option will be removed. Please use 'zscore_sample' instead.\n",
      "  return self.func(*args, **kwargs)\n",
      "/usr/people/kz0108/miniconda3/envs/pygers/lib/python3.11/site-packages/nilearn/maskers/nifti_masker.py:108: UserWarning: imgs are being resampled to the mask_img resolution. This process is memory intensive. You might want to provide a target_affine that is equal to the affine of the imgs or resample the mask beforehand to save memory and computation time.\n",
      "  warnings.warn(\n",
      "/usr/people/kz0108/miniconda3/envs/pygers/lib/python3.11/site-packages/joblib/memory.py:353: FutureWarning: The default strategy for standardize is currently 'zscore' which incorrectly uses population std to calculate sample zscores. The new strategy 'zscore_sample' corrects this behavior by using the sample std. In release 0.13, the default strategy will be replaced by the new strategy and the 'zscore' option will be removed. Please use 'zscore_sample' instead.\n",
      "  return self.func(*args, **kwargs)\n",
      "/usr/people/kz0108/miniconda3/envs/pygers/lib/python3.11/site-packages/nilearn/maskers/nifti_masker.py:108: UserWarning: imgs are being resampled to the mask_img resolution. This process is memory intensive. You might want to provide a target_affine that is equal to the affine of the imgs or resample the mask beforehand to save memory and computation time.\n",
      "  warnings.warn(\n",
      "/usr/people/kz0108/miniconda3/envs/pygers/lib/python3.11/site-packages/joblib/memory.py:353: FutureWarning: The default strategy for standardize is currently 'zscore' which incorrectly uses population std to calculate sample zscores. The new strategy 'zscore_sample' corrects this behavior by using the sample std. In release 0.13, the default strategy will be replaced by the new strategy and the 'zscore' option will be removed. Please use 'zscore_sample' instead.\n",
      "  return self.func(*args, **kwargs)\n",
      "/usr/people/kz0108/miniconda3/envs/pygers/lib/python3.11/site-packages/nilearn/maskers/nifti_masker.py:108: UserWarning: imgs are being resampled to the mask_img resolution. This process is memory intensive. You might want to provide a target_affine that is equal to the affine of the imgs or resample the mask beforehand to save memory and computation time.\n",
      "  warnings.warn(\n",
      "/usr/people/kz0108/miniconda3/envs/pygers/lib/python3.11/site-packages/joblib/memory.py:353: FutureWarning: The default strategy for standardize is currently 'zscore' which incorrectly uses population std to calculate sample zscores. The new strategy 'zscore_sample' corrects this behavior by using the sample std. In release 0.13, the default strategy will be replaced by the new strategy and the 'zscore' option will be removed. Please use 'zscore_sample' instead.\n",
      "  return self.func(*args, **kwargs)\n",
      "/usr/people/kz0108/miniconda3/envs/pygers/lib/python3.11/site-packages/nilearn/maskers/nifti_masker.py:108: UserWarning: imgs are being resampled to the mask_img resolution. This process is memory intensive. You might want to provide a target_affine that is equal to the affine of the imgs or resample the mask beforehand to save memory and computation time.\n",
      "  warnings.warn(\n",
      "/usr/people/kz0108/miniconda3/envs/pygers/lib/python3.11/site-packages/joblib/memory.py:353: FutureWarning: The default strategy for standardize is currently 'zscore' which incorrectly uses population std to calculate sample zscores. The new strategy 'zscore_sample' corrects this behavior by using the sample std. In release 0.13, the default strategy will be replaced by the new strategy and the 'zscore' option will be removed. Please use 'zscore_sample' instead.\n",
      "  return self.func(*args, **kwargs)\n"
     ]
    },
    {
     "name": "stdout",
     "output_type": "stream",
     "text": [
      "ready to compute contrasts\n"
     ]
    },
    {
     "name": "stderr",
     "output_type": "stream",
     "text": [
      "/usr/people/kz0108/miniconda3/envs/pygers/lib/python3.11/site-packages/nilearn/glm/first_level/first_level.py:799: UserWarning: One contrast given, assuming it for all 6 runs\n",
      "  warn(f\"One contrast given, assuming it for all {int(n_runs)} runs\")\n"
     ]
    },
    {
     "name": "stdout",
     "output_type": "stream",
     "text": [
      "contrasts computed\n",
      "directory path created\n",
      "Directory already exists: first_level_GLM\n",
      "contrasts saved out\n",
      "first_level_GLM/labeled-type-videos_veridical---scrambled_Wed-May--1-09:18:28-2024_sub-002_z-score.nii.gz\n",
      "sub-013\n",
      "veridical---scrambled\n"
     ]
    },
    {
     "name": "stderr",
     "output_type": "stream",
     "text": [
      "/usr/people/kz0108/miniconda3/envs/pygers/lib/python3.11/site-packages/nilearn/glm/first_level/experimental_paradigm.py:166: UserWarning: The following unexpected columns in events data will be ignored: stim_file, TODO -- fill in rows and add more tab-separated columns if desired, response_time\n",
      "  warnings.warn(\n",
      "/usr/people/kz0108/miniconda3/envs/pygers/lib/python3.11/site-packages/nilearn/glm/first_level/experimental_paradigm.py:166: UserWarning: The following unexpected columns in events data will be ignored: stim_file, TODO -- fill in rows and add more tab-separated columns if desired, response_time\n",
      "  warnings.warn(\n",
      "/usr/people/kz0108/miniconda3/envs/pygers/lib/python3.11/site-packages/nilearn/glm/first_level/experimental_paradigm.py:166: UserWarning: The following unexpected columns in events data will be ignored: stim_file, TODO -- fill in rows and add more tab-separated columns if desired, response_time\n",
      "  warnings.warn(\n",
      "/usr/people/kz0108/miniconda3/envs/pygers/lib/python3.11/site-packages/nilearn/glm/first_level/experimental_paradigm.py:166: UserWarning: The following unexpected columns in events data will be ignored: stim_file, TODO -- fill in rows and add more tab-separated columns if desired, response_time\n",
      "  warnings.warn(\n",
      "/usr/people/kz0108/miniconda3/envs/pygers/lib/python3.11/site-packages/nilearn/glm/first_level/experimental_paradigm.py:166: UserWarning: The following unexpected columns in events data will be ignored: stim_file, TODO -- fill in rows and add more tab-separated columns if desired, response_time\n",
      "  warnings.warn(\n",
      "/usr/people/kz0108/miniconda3/envs/pygers/lib/python3.11/site-packages/nilearn/glm/first_level/experimental_paradigm.py:166: UserWarning: The following unexpected columns in events data will be ignored: stim_file, TODO -- fill in rows and add more tab-separated columns if desired, response_time\n",
      "  warnings.warn(\n"
     ]
    },
    {
     "name": "stdout",
     "output_type": "stream",
     "text": [
      "ready to fit the model\n",
      "ready to fit the model\n",
      "ready to fit the model\n",
      "ready to fit the model\n",
      "ready to fit the model\n",
      "ready to fit the model\n",
      "(78, 93, 78, 110)\n",
      "(110, 16)\n",
      "(110, 19)\n",
      "(20, 6)\n",
      "(110,)\n"
     ]
    },
    {
     "name": "stderr",
     "output_type": "stream",
     "text": [
      "/usr/people/kz0108/miniconda3/envs/pygers/lib/python3.11/site-packages/nilearn/glm/first_level/first_level.py:547: UserWarning: If design matrices are supplied, confounds and events will be ignored.\n",
      "  warn(\n",
      "/usr/people/kz0108/miniconda3/envs/pygers/lib/python3.11/site-packages/nilearn/maskers/nifti_masker.py:108: UserWarning: imgs are being resampled to the mask_img resolution. This process is memory intensive. You might want to provide a target_affine that is equal to the affine of the imgs or resample the mask beforehand to save memory and computation time.\n",
      "  warnings.warn(\n",
      "/usr/people/kz0108/miniconda3/envs/pygers/lib/python3.11/site-packages/joblib/memory.py:353: FutureWarning: The default strategy for standardize is currently 'zscore' which incorrectly uses population std to calculate sample zscores. The new strategy 'zscore_sample' corrects this behavior by using the sample std. In release 0.13, the default strategy will be replaced by the new strategy and the 'zscore' option will be removed. Please use 'zscore_sample' instead.\n",
      "  return self.func(*args, **kwargs)\n",
      "/usr/people/kz0108/miniconda3/envs/pygers/lib/python3.11/site-packages/nilearn/maskers/nifti_masker.py:108: UserWarning: imgs are being resampled to the mask_img resolution. This process is memory intensive. You might want to provide a target_affine that is equal to the affine of the imgs or resample the mask beforehand to save memory and computation time.\n",
      "  warnings.warn(\n",
      "/usr/people/kz0108/miniconda3/envs/pygers/lib/python3.11/site-packages/joblib/memory.py:353: FutureWarning: The default strategy for standardize is currently 'zscore' which incorrectly uses population std to calculate sample zscores. The new strategy 'zscore_sample' corrects this behavior by using the sample std. In release 0.13, the default strategy will be replaced by the new strategy and the 'zscore' option will be removed. Please use 'zscore_sample' instead.\n",
      "  return self.func(*args, **kwargs)\n",
      "/usr/people/kz0108/miniconda3/envs/pygers/lib/python3.11/site-packages/nilearn/maskers/nifti_masker.py:108: UserWarning: imgs are being resampled to the mask_img resolution. This process is memory intensive. You might want to provide a target_affine that is equal to the affine of the imgs or resample the mask beforehand to save memory and computation time.\n",
      "  warnings.warn(\n",
      "/usr/people/kz0108/miniconda3/envs/pygers/lib/python3.11/site-packages/joblib/memory.py:353: FutureWarning: The default strategy for standardize is currently 'zscore' which incorrectly uses population std to calculate sample zscores. The new strategy 'zscore_sample' corrects this behavior by using the sample std. In release 0.13, the default strategy will be replaced by the new strategy and the 'zscore' option will be removed. Please use 'zscore_sample' instead.\n",
      "  return self.func(*args, **kwargs)\n",
      "/usr/people/kz0108/miniconda3/envs/pygers/lib/python3.11/site-packages/nilearn/maskers/nifti_masker.py:108: UserWarning: imgs are being resampled to the mask_img resolution. This process is memory intensive. You might want to provide a target_affine that is equal to the affine of the imgs or resample the mask beforehand to save memory and computation time.\n",
      "  warnings.warn(\n",
      "/usr/people/kz0108/miniconda3/envs/pygers/lib/python3.11/site-packages/joblib/memory.py:353: FutureWarning: The default strategy for standardize is currently 'zscore' which incorrectly uses population std to calculate sample zscores. The new strategy 'zscore_sample' corrects this behavior by using the sample std. In release 0.13, the default strategy will be replaced by the new strategy and the 'zscore' option will be removed. Please use 'zscore_sample' instead.\n",
      "  return self.func(*args, **kwargs)\n",
      "/usr/people/kz0108/miniconda3/envs/pygers/lib/python3.11/site-packages/nilearn/maskers/nifti_masker.py:108: UserWarning: imgs are being resampled to the mask_img resolution. This process is memory intensive. You might want to provide a target_affine that is equal to the affine of the imgs or resample the mask beforehand to save memory and computation time.\n",
      "  warnings.warn(\n",
      "/usr/people/kz0108/miniconda3/envs/pygers/lib/python3.11/site-packages/joblib/memory.py:353: FutureWarning: The default strategy for standardize is currently 'zscore' which incorrectly uses population std to calculate sample zscores. The new strategy 'zscore_sample' corrects this behavior by using the sample std. In release 0.13, the default strategy will be replaced by the new strategy and the 'zscore' option will be removed. Please use 'zscore_sample' instead.\n",
      "  return self.func(*args, **kwargs)\n",
      "/usr/people/kz0108/miniconda3/envs/pygers/lib/python3.11/site-packages/nilearn/maskers/nifti_masker.py:108: UserWarning: imgs are being resampled to the mask_img resolution. This process is memory intensive. You might want to provide a target_affine that is equal to the affine of the imgs or resample the mask beforehand to save memory and computation time.\n",
      "  warnings.warn(\n",
      "/usr/people/kz0108/miniconda3/envs/pygers/lib/python3.11/site-packages/joblib/memory.py:353: FutureWarning: The default strategy for standardize is currently 'zscore' which incorrectly uses population std to calculate sample zscores. The new strategy 'zscore_sample' corrects this behavior by using the sample std. In release 0.13, the default strategy will be replaced by the new strategy and the 'zscore' option will be removed. Please use 'zscore_sample' instead.\n",
      "  return self.func(*args, **kwargs)\n"
     ]
    },
    {
     "name": "stdout",
     "output_type": "stream",
     "text": [
      "ready to compute contrasts\n"
     ]
    },
    {
     "name": "stderr",
     "output_type": "stream",
     "text": [
      "/usr/people/kz0108/miniconda3/envs/pygers/lib/python3.11/site-packages/nilearn/glm/first_level/first_level.py:799: UserWarning: One contrast given, assuming it for all 6 runs\n",
      "  warn(f\"One contrast given, assuming it for all {int(n_runs)} runs\")\n"
     ]
    },
    {
     "name": "stdout",
     "output_type": "stream",
     "text": [
      "contrasts computed\n",
      "directory path created\n",
      "Directory already exists: first_level_GLM\n",
      "contrasts saved out\n",
      "first_level_GLM/labeled-type-videos_veridical---scrambled_Wed-May--1-09:20:42-2024_sub-013_z-score.nii.gz\n"
     ]
    }
   ],
   "source": [
    "# we are excluding subject 21 runs 2, 3, 4\n",
    "\n",
    "for subject in sub_dirs:  \n",
    "    \n",
    "    for events_file, contrast in zip( events_files, contrast_list ):\n",
    "        \n",
    "        new_confound_list = []\n",
    "        \n",
    "        \n",
    "        ######## THIS CODE IS TO GET NEW SUBJECTS WHO WERE MISSING BEFORE ########\n",
    "        \n",
    "        # only uncomment if incorporating new subjects into existing first-level analysis\n",
    "        \n",
    "        ## make folder path\n",
    "        # path_base = 'first_level_GLM' \n",
    "        # directory_path = path_base \n",
    "        \n",
    "        # contrast_label = contrast.replace(' ','-')\n",
    "        \n",
    "        ###########################################################################\n",
    "            \n",
    "        print(subject); print(contrast_label)\n",
    "\n",
    "        if subject == 'sub-021':\n",
    "            # get runs without excessive motion, exclude runs 2, 3, 4\n",
    "            runs,add_regressor_columns = get_good_runs(data_dir, subject, exclude=['02','03','04'])\n",
    "            print('excluded runs 2, 3, 4 for subject 12. included:')\n",
    "            print(runs)\n",
    "            \n",
    "        else:\n",
    "            # get runs without excessive motion\n",
    "            runs,add_regressor_columns = get_good_runs(data_dir, subject)\n",
    "        \n",
    "        # select the images for the good runs\n",
    "        image_list = [ data_dir+subject+'/ses-01/func/'+subject+'_ses-01_task-PredictingAttention_run-'+x+'_space-MNI152NLin2009cAsym_desc-preproc_bold.nii.gz' for x in runs ]\n",
    "\n",
    "        # get confounds\n",
    "        strategy   = [ 'motion','wm_csf','global_signal','compcor','scrub','high_pass' ]\n",
    "        confounds  = [ nl.interfaces.fmriprep.load_confounds(x, \n",
    "                                                            strategy = strategy, \n",
    "                                                            fd_threshold=0.5,\n",
    "                                                            n_compcor = 5,\n",
    "                                                            motion ='basic',\n",
    "                                                            demean = False) for x in image_list ]\n",
    "        confound_list = [x[0] for x in confounds]\n",
    "        \n",
    "        new_confound_list = confound_list \n",
    "        \n",
    "        # get sample masks\n",
    "        sm_list = [x[1] for x in confounds]\n",
    "\n",
    "        # replace any cases of None with array listing all frames, 0-109\n",
    "        sm_list = [np.arange(110) if x is None else x for x in sm_list]\n",
    "\n",
    "        # get data\n",
    "        full_data = []; affine = []; header = []; shape = []\n",
    "\n",
    "        for i in image_list:\n",
    "            the_image,f,a,h,s = get_data(i, mask=False, avg_mask=None, full_output=True) \n",
    "            affine.append(a); header.append(h); shape.append(s)            \n",
    "            full_data.append(the_image)\n",
    "\n",
    "        cleaned_images = full_data #[nib.Nifti1Image(a, affine=None) for a in full_data]\n",
    "\n",
    "        # load event timings\n",
    "        event_timing_files = [events_dir+'/'+subject+'_ses-01_task-PredictingAttention_run-'+r+'_'+events_file for r in runs]\n",
    "\n",
    "        event_dfs = [ pd.read_table(x) for x in event_timing_files ]\n",
    "\n",
    "        # make design matrices\n",
    "        design_matrices = []\n",
    "\n",
    "        for e,c in zip(event_dfs, confound_list):\n",
    "\n",
    "            TR_array   = np.array([x*2 for x in np.arange(110)])\n",
    "            matrix = glm.first_level.make_first_level_design_matrix(TR_array, \n",
    "                                                                    e, \n",
    "                                                                    hrf_model='glover', \n",
    "                                                                    drift_model=None,\n",
    "                                                                    add_regs = c)\n",
    "            design_matrices.append(matrix)\n",
    "            print('ready to fit the model')\n",
    "\n",
    "\n",
    "        print(cleaned_images[0].shape)\n",
    "        print(new_confound_list[0].shape)\n",
    "        print(design_matrices[0].shape)\n",
    "        print(event_dfs[0].shape)\n",
    "        print(sm_list[0].shape)\n",
    "\n",
    "        # fit the model\n",
    "        fitted_model = model.fit(cleaned_images, \n",
    "                                 confounds       = new_confound_list, \n",
    "                                 design_matrices = design_matrices,\n",
    "                                 events          = event_dfs,\n",
    "                                 sample_masks    = sm_list) \n",
    "\n",
    "        print('ready to compute contrasts')\n",
    "        # plot the result\n",
    "        z_score  = fitted_model.compute_contrast(contrast, output_type='z_score')\n",
    "        eff_size = fitted_model.compute_contrast(contrast, output_type='effect_size')\n",
    "        # NOTE: we'll use effect_size for second-level GLM\n",
    "        print('contrasts computed')\n",
    "\n",
    "        # make folder path\n",
    "        path_base = 'first_level_GLM' \n",
    "        directory_path = path_base \n",
    "\n",
    "        print('directory path created')\n",
    "\n",
    "        # make folder for this batch, if it doesn't exist\n",
    "        if not os.path.exists(directory_path):\n",
    "            os.makedirs(directory_path)\n",
    "            print(\"Directory created:\", directory_path)\n",
    "        else:\n",
    "            print(\"Directory already exists:\", directory_path)\n",
    "\n",
    "        # contrast for filename\n",
    "        contrast_label = contrast.replace(' ','-')\n",
    "\n",
    "        # timing label\n",
    "        now   = datetime.datetime.now()\n",
    "        ctime = now.ctime()\n",
    "        date_time = ctime.replace(' ','-')\n",
    "\n",
    "        # save contrasts\n",
    "        z_score.to_filename(directory_path + '/' + events_file[:-4] + '_' + contrast_label + '_' + date_time + '_' + str(subject) + '_z-score.nii.gz')\n",
    "        eff_size.to_filename(directory_path + '/' + events_file[:-4] + '_' + contrast_label + '_' + date_time + '_' + str(subject) + '_eff-size.nii.gz')\n",
    "\n",
    "        print('contrasts saved out')\n",
    "        print(directory_path + '/' + events_file[:-4] + '_' + contrast_label + '_' + date_time + '_' + str(subject) + '_z-score.nii.gz')\n"
   ]
  },
  {
   "cell_type": "markdown",
   "id": "e064e6eb",
   "metadata": {},
   "source": [
    "### Now unusual subjects !\n",
    "\n",
    "Start with subject 21"
   ]
  },
  {
   "cell_type": "code",
   "execution_count": 17,
   "id": "165bb6ed",
   "metadata": {},
   "outputs": [
    {
     "name": "stdout",
     "output_type": "stream",
     "text": [
      "sub-021\n",
      "veridical---scrambled\n",
      "excluded runs 2, 3, 4 for subject 12. included:\n",
      "['01', '05', '06']\n"
     ]
    },
    {
     "name": "stderr",
     "output_type": "stream",
     "text": [
      "/usr/people/kz0108/miniconda3/envs/pygers/lib/python3.11/site-packages/nilearn/glm/first_level/experimental_paradigm.py:166: UserWarning: The following unexpected columns in events data will be ignored: stim_file, TODO -- fill in rows and add more tab-separated columns if desired, response_time\n",
      "  warnings.warn(\n",
      "/usr/people/kz0108/miniconda3/envs/pygers/lib/python3.11/site-packages/nilearn/glm/first_level/experimental_paradigm.py:166: UserWarning: The following unexpected columns in events data will be ignored: stim_file, TODO -- fill in rows and add more tab-separated columns if desired, response_time\n",
      "  warnings.warn(\n",
      "/usr/people/kz0108/miniconda3/envs/pygers/lib/python3.11/site-packages/nilearn/glm/first_level/experimental_paradigm.py:166: UserWarning: The following unexpected columns in events data will be ignored: stim_file, TODO -- fill in rows and add more tab-separated columns if desired, response_time\n",
      "  warnings.warn(\n",
      "/usr/people/kz0108/miniconda3/envs/pygers/lib/python3.11/site-packages/nilearn/glm/first_level/first_level.py:547: UserWarning: If design matrices are supplied, confounds and events will be ignored.\n",
      "  warn(\n"
     ]
    },
    {
     "name": "stdout",
     "output_type": "stream",
     "text": [
      "ready to fit the model\n",
      "ready to fit the model\n",
      "ready to fit the model\n",
      "(78, 93, 78, 110)\n",
      "(110, 16)\n",
      "(110, 19)\n",
      "(20, 6)\n",
      "(100,)\n"
     ]
    },
    {
     "name": "stderr",
     "output_type": "stream",
     "text": [
      "/usr/people/kz0108/miniconda3/envs/pygers/lib/python3.11/site-packages/nilearn/maskers/nifti_masker.py:108: UserWarning: imgs are being resampled to the mask_img resolution. This process is memory intensive. You might want to provide a target_affine that is equal to the affine of the imgs or resample the mask beforehand to save memory and computation time.\n",
      "  warnings.warn(\n",
      "/usr/people/kz0108/miniconda3/envs/pygers/lib/python3.11/site-packages/joblib/memory.py:353: FutureWarning: The default strategy for standardize is currently 'zscore' which incorrectly uses population std to calculate sample zscores. The new strategy 'zscore_sample' corrects this behavior by using the sample std. In release 0.13, the default strategy will be replaced by the new strategy and the 'zscore' option will be removed. Please use 'zscore_sample' instead.\n",
      "  return self.func(*args, **kwargs)\n",
      "/usr/people/kz0108/miniconda3/envs/pygers/lib/python3.11/site-packages/nilearn/maskers/nifti_masker.py:108: UserWarning: imgs are being resampled to the mask_img resolution. This process is memory intensive. You might want to provide a target_affine that is equal to the affine of the imgs or resample the mask beforehand to save memory and computation time.\n",
      "  warnings.warn(\n",
      "/usr/people/kz0108/miniconda3/envs/pygers/lib/python3.11/site-packages/joblib/memory.py:353: FutureWarning: The default strategy for standardize is currently 'zscore' which incorrectly uses population std to calculate sample zscores. The new strategy 'zscore_sample' corrects this behavior by using the sample std. In release 0.13, the default strategy will be replaced by the new strategy and the 'zscore' option will be removed. Please use 'zscore_sample' instead.\n",
      "  return self.func(*args, **kwargs)\n",
      "/usr/people/kz0108/miniconda3/envs/pygers/lib/python3.11/site-packages/nilearn/maskers/nifti_masker.py:108: UserWarning: imgs are being resampled to the mask_img resolution. This process is memory intensive. You might want to provide a target_affine that is equal to the affine of the imgs or resample the mask beforehand to save memory and computation time.\n",
      "  warnings.warn(\n",
      "/usr/people/kz0108/miniconda3/envs/pygers/lib/python3.11/site-packages/joblib/memory.py:353: FutureWarning: The default strategy for standardize is currently 'zscore' which incorrectly uses population std to calculate sample zscores. The new strategy 'zscore_sample' corrects this behavior by using the sample std. In release 0.13, the default strategy will be replaced by the new strategy and the 'zscore' option will be removed. Please use 'zscore_sample' instead.\n",
      "  return self.func(*args, **kwargs)\n"
     ]
    },
    {
     "name": "stdout",
     "output_type": "stream",
     "text": [
      "ready to compute contrasts\n"
     ]
    },
    {
     "name": "stderr",
     "output_type": "stream",
     "text": [
      "/usr/people/kz0108/miniconda3/envs/pygers/lib/python3.11/site-packages/nilearn/glm/first_level/first_level.py:799: UserWarning: One contrast given, assuming it for all 3 runs\n",
      "  warn(f\"One contrast given, assuming it for all {int(n_runs)} runs\")\n"
     ]
    },
    {
     "name": "stdout",
     "output_type": "stream",
     "text": [
      "contrasts computed\n",
      "directory path created\n",
      "Directory already exists: first_level_GLM\n",
      "contrasts saved out\n",
      "first_level_GLM/labeled-type-videos_veridical---scrambled_Wed-May--1-09:21:46-2024_sub-021_z-score.nii.gz\n"
     ]
    }
   ],
   "source": [
    "# we are excluding subject 21 runs 2, 3, 4\n",
    "\n",
    "for subject in ['sub-021']:  \n",
    "    \n",
    "    for events_file, contrast in zip( events_files, contrast_list ):\n",
    "        \n",
    "        new_confound_list = []\n",
    "        \n",
    "        \n",
    "        ######## THIS CODE IS TO GET NEW SUBJECTS WHO WERE MISSING BEFORE ########\n",
    "        \n",
    "        # only uncomment if incorporating new subjects into existing first-level analysis\n",
    "        \n",
    "        # make folder path\n",
    "        path_base = 'first_level_GLM' \n",
    "        directory_path = path_base \n",
    "        \n",
    "        contrast_label = contrast.replace(' ','-')\n",
    "        #check_file     = [ x for x in os.listdir(directory_path) if str(subject) in x and contrast_label in x and '_eff-size.nii.gz' in x ]\n",
    "        \n",
    "        ###########################################################################\n",
    "            \n",
    "        print(subject); print(contrast_label)\n",
    "\n",
    "        if subject == 'sub-021':\n",
    "            # get runs without excessive motion, exclude runs 2, 3, 4\n",
    "            runs,add_regressor_columns = get_good_runs(data_dir, subject, exclude=['02','03','04'])\n",
    "            print('excluded runs 2, 3, 4 for subject 12. included:')\n",
    "            print(runs)\n",
    "            \n",
    "        else:\n",
    "            # get runs without excessive motion\n",
    "            runs,add_regressor_columns = get_good_runs(data_dir, subject)\n",
    "        \n",
    "        # select the images for the good runs\n",
    "        image_list = [ data_dir+subject+'/ses-01/func/'+subject+'_ses-01_task-PredictingAttention_run-'+x+'_space-MNI152NLin2009cAsym_desc-preproc_bold.nii.gz' for x in ['01','05','06'] ]\n",
    "        \n",
    "        # get confounds\n",
    "        strategy   = [ 'motion','wm_csf','global_signal','compcor','scrub','high_pass' ]\n",
    "        confounds  = [ nl.interfaces.fmriprep.load_confounds(x, \n",
    "                                                            strategy = strategy, \n",
    "                                                            fd_threshold=0.5,\n",
    "                                                            n_compcor = 5,\n",
    "                                                            motion ='basic',\n",
    "                                                            demean = False) for x in image_list ]\n",
    "        confound_list = [x[0] for x in confounds]\n",
    "        \n",
    "        new_confound_list = confound_list \n",
    "        \n",
    "        # commented lines below because we already do headscrubbing with nilearn\n",
    "        \n",
    "#         for add,c in zip(add_regressor_columns,confound_list):\n",
    "#             d = pd.DataFrame({'fwd':add})\n",
    "#             new_confound_list.append(pd.concat([c,d],axis=1))\n",
    "\n",
    "        # get sample masks\n",
    "        sm_list = [x[1] for x in confounds]\n",
    "\n",
    "        # replace any cases of None with array listing all frames, 0-109\n",
    "        sm_list = [np.arange(110) if x is None else x for x in sm_list]\n",
    "\n",
    "        # get data\n",
    "        full_data = []; affine = []; header = []; shape = []\n",
    "\n",
    "        for i in image_list:\n",
    "            the_image,f,a,h,s = get_data(i, mask=False, avg_mask=None, full_output=True) \n",
    "            affine.append(a); header.append(h); shape.append(s)            \n",
    "            full_data.append(the_image)\n",
    "\n",
    "        cleaned_images = full_data #[nib.Nifti1Image(a, affine=None) for a in full_data]\n",
    "\n",
    "        # load event timings\n",
    "        event_timing_files = [events_dir+'/'+subject+'_ses-01_task-PredictingAttention_run-'+r+'_'+events_file for r in runs]\n",
    "\n",
    "        event_dfs = [ pd.read_table(x) for x in event_timing_files ]\n",
    "\n",
    "        # make design matrices\n",
    "        design_matrices = []\n",
    "\n",
    "        for e,c in zip(event_dfs, confound_list):\n",
    "\n",
    "            TR_array   = np.array([x*2 for x in np.arange(110)])\n",
    "            matrix = glm.first_level.make_first_level_design_matrix(TR_array, \n",
    "                                                                    e, \n",
    "                                                                    hrf_model='glover', \n",
    "                                                                    drift_model=None,\n",
    "                                                                    add_regs = c)\n",
    "            design_matrices.append(matrix)\n",
    "            print('ready to fit the model')\n",
    "\n",
    "\n",
    "        print(cleaned_images[0].shape)\n",
    "        print(new_confound_list[0].shape)\n",
    "        print(design_matrices[0].shape)\n",
    "        print(event_dfs[0].shape)\n",
    "        print(sm_list[0].shape)\n",
    "\n",
    "        # fit the model\n",
    "        fitted_model = model.fit(cleaned_images, \n",
    "                                 confounds       = new_confound_list, \n",
    "                                 design_matrices = design_matrices,\n",
    "                                 events          = event_dfs,\n",
    "                                 sample_masks    = sm_list) \n",
    "\n",
    "        print('ready to compute contrasts')\n",
    "        # plot the result\n",
    "        z_score  = fitted_model.compute_contrast(contrast, output_type='z_score')\n",
    "        eff_size = fitted_model.compute_contrast(contrast, output_type='effect_size')\n",
    "        # NOTE: we'll use z_score for visualizing and effect_size for second-level GLM\n",
    "        print('contrasts computed')\n",
    "\n",
    "        # make folder path\n",
    "        path_base = 'first_level_GLM' \n",
    "        directory_path = path_base \n",
    "\n",
    "        print('directory path created')\n",
    "\n",
    "        # make folder for this batch, if it doesn't exist\n",
    "        if not os.path.exists(directory_path):\n",
    "            os.makedirs(directory_path)\n",
    "            print(\"Directory created:\", directory_path)\n",
    "        else:\n",
    "            print(\"Directory already exists:\", directory_path)\n",
    "\n",
    "        # contrast for filename\n",
    "        contrast_label = contrast.replace(' ','-')\n",
    "\n",
    "        # timing label\n",
    "        now   = datetime.datetime.now()\n",
    "        ctime = now.ctime()\n",
    "        date_time = ctime.replace(' ','-')\n",
    "\n",
    "        # save contrasts\n",
    "        z_score.to_filename(directory_path + '/' + events_file[:-4] + '_' + contrast_label + '_' + date_time + '_' + str(subject) + '_z-score.nii.gz')\n",
    "        eff_size.to_filename(directory_path + '/' + events_file[:-4] + '_' + contrast_label + '_' + date_time + '_' + str(subject) + '_eff-size.nii.gz')\n",
    "\n",
    "        print('contrasts saved out')\n",
    "        print(directory_path + '/' + events_file[:-4] + '_' + contrast_label + '_' + date_time + '_' + str(subject) + '_z-score.nii.gz')\n"
   ]
  },
  {
   "cell_type": "markdown",
   "id": "9273f192",
   "metadata": {},
   "source": [
    "### Now, subject 1"
   ]
  },
  {
   "cell_type": "code",
   "execution_count": 18,
   "id": "8e9cbe7f",
   "metadata": {},
   "outputs": [
    {
     "data": {
      "text/html": [
       "<div>\n",
       "<style scoped>\n",
       "    .dataframe tbody tr th:only-of-type {\n",
       "        vertical-align: middle;\n",
       "    }\n",
       "\n",
       "    .dataframe tbody tr th {\n",
       "        vertical-align: top;\n",
       "    }\n",
       "\n",
       "    .dataframe thead th {\n",
       "        text-align: right;\n",
       "    }\n",
       "</style>\n",
       "<table border=\"1\" class=\"dataframe\">\n",
       "  <thead>\n",
       "    <tr style=\"text-align: right;\">\n",
       "      <th></th>\n",
       "      <th>Unnamed: 0</th>\n",
       "      <th>0</th>\n",
       "    </tr>\n",
       "  </thead>\n",
       "  <tbody>\n",
       "    <tr>\n",
       "      <th>0</th>\n",
       "      <td>subject</td>\n",
       "      <td>subject_1</td>\n",
       "    </tr>\n",
       "    <tr>\n",
       "      <th>1</th>\n",
       "      <td>behavioral_runs</td>\n",
       "      <td>['1', '2', '3', '4', '4', '5', '6']</td>\n",
       "    </tr>\n",
       "  </tbody>\n",
       "</table>\n",
       "</div>"
      ],
      "text/plain": [
       "        Unnamed: 0                                    0\n",
       "0          subject                            subject_1\n",
       "1  behavioral_runs  ['1', '2', '3', '4', '4', '5', '6']"
      ]
     },
     "execution_count": 18,
     "metadata": {},
     "output_type": "execute_result"
    }
   ],
   "source": [
    "sub1 = pd.read_csv('/jukebox/graziano/kirsten/MRI/MRI/pygers_workshop/sample_study/data/behavioral/subject_1_unusual_run_order.csv')\n",
    "sub1"
   ]
  },
  {
   "cell_type": "code",
   "execution_count": 19,
   "id": "0c2f1a64",
   "metadata": {},
   "outputs": [],
   "source": [
    "# subject 101 has runs labeled 01, 02, 03, 04, 05, 06\n",
    "\n",
    "# they correspond to           1,  2,  3,  4, drop, 5\n",
    "\n",
    "\n",
    "\n",
    "# subject 201 has runs labeled 01\n",
    "\n",
    "# they correspond to           6"
   ]
  },
  {
   "cell_type": "code",
   "execution_count": 20,
   "id": "54034a88",
   "metadata": {},
   "outputs": [
    {
     "name": "stdout",
     "output_type": "stream",
     "text": [
      "sub-101\n",
      "veridical---scrambled\n",
      "excluded runs 2, 3, 4 for subject 12. included:\n",
      "['01', '02', '03', '04']\n",
      "ready to fit the model\n",
      "ready to fit the model\n",
      "ready to fit the model\n",
      "ready to fit the model\n",
      "(78, 93, 78, 110)\n",
      "(110, 16)\n",
      "(110, 19)\n",
      "(20, 6)\n",
      "(104,)\n"
     ]
    },
    {
     "name": "stderr",
     "output_type": "stream",
     "text": [
      "/usr/people/kz0108/miniconda3/envs/pygers/lib/python3.11/site-packages/nilearn/glm/first_level/experimental_paradigm.py:166: UserWarning: The following unexpected columns in events data will be ignored: stim_file, TODO -- fill in rows and add more tab-separated columns if desired, response_time\n",
      "  warnings.warn(\n",
      "/usr/people/kz0108/miniconda3/envs/pygers/lib/python3.11/site-packages/nilearn/glm/first_level/experimental_paradigm.py:166: UserWarning: The following unexpected columns in events data will be ignored: stim_file, TODO -- fill in rows and add more tab-separated columns if desired, response_time\n",
      "  warnings.warn(\n",
      "/usr/people/kz0108/miniconda3/envs/pygers/lib/python3.11/site-packages/nilearn/glm/first_level/experimental_paradigm.py:166: UserWarning: The following unexpected columns in events data will be ignored: stim_file, TODO -- fill in rows and add more tab-separated columns if desired, response_time\n",
      "  warnings.warn(\n",
      "/usr/people/kz0108/miniconda3/envs/pygers/lib/python3.11/site-packages/nilearn/glm/first_level/experimental_paradigm.py:166: UserWarning: The following unexpected columns in events data will be ignored: stim_file, TODO -- fill in rows and add more tab-separated columns if desired, response_time\n",
      "  warnings.warn(\n"
     ]
    }
   ],
   "source": [
    "# let's start loading the data for subject 101\n",
    "\n",
    "# we can treat everything normally for runs 1-4, so let's exclude the rest for now\n",
    "\n",
    "for subject in ['sub-101']:  \n",
    "    \n",
    "    for events_file, contrast in zip( events_files, contrast_list ):\n",
    "        \n",
    "        new_confound_list = []\n",
    "        \n",
    "        \n",
    "        ######## THIS CODE IS TO GET NEW SUBJECTS WHO WERE MISSING BEFORE ########\n",
    "        \n",
    "        # only uncomment if incorporating new subjects into existing first-level analysis\n",
    "        \n",
    "        # make folder path\n",
    "        path_base = 'first_level_GLM' \n",
    "        directory_path = path_base \n",
    "        \n",
    "        contrast_label = contrast.replace(' ','-')\n",
    "        #check_file     = [ x for x in os.listdir(directory_path) if str(subject) in x and contrast_label in x and '_eff-size.nii.gz' in x ]\n",
    "        \n",
    "        ###########################################################################\n",
    "            \n",
    "        print(subject); print(contrast_label)\n",
    "\n",
    "        if subject == 'sub-101':\n",
    "            # get runs without excessive motion, exclude runs 2, 3, 4\n",
    "            runs,add_regressor_columns = get_good_runs(data_dir, subject, exclude=['05','06'])\n",
    "            print('excluded runs 2, 3, 4 for subject 12. included:')\n",
    "            print(runs)\n",
    "            \n",
    "        else:\n",
    "            # get runs without excessive motion\n",
    "            runs,add_regressor_columns = get_good_runs(data_dir, subject)\n",
    "        \n",
    "        # select the images for the good runs\n",
    "        image_list = [ data_dir+subject+'/ses-01/func/'+subject+'_ses-01_task-PredictingAttention_run-'+x+'_space-MNI152NLin2009cAsym_desc-preproc_bold.nii.gz' for x in ['01','02','03','04'] ]\n",
    "        \n",
    "        # get confounds\n",
    "        strategy   = [ 'motion','wm_csf','global_signal','compcor','scrub','high_pass' ]\n",
    "        confounds  = [ nl.interfaces.fmriprep.load_confounds(x, \n",
    "                                                            strategy = strategy, \n",
    "                                                            fd_threshold=0.5,\n",
    "                                                            n_compcor = 5,\n",
    "                                                            motion ='basic',\n",
    "                                                            demean = False) for x in image_list ]\n",
    "        confound_list = [x[0] for x in confounds]\n",
    "        \n",
    "        new_confound_list = confound_list \n",
    "        \n",
    "        # commented lines below because we already do headscrubbing with nilearn\n",
    "        \n",
    "#         for add,c in zip(add_regressor_columns,confound_list):\n",
    "#             d = pd.DataFrame({'fwd':add})\n",
    "#             new_confound_list.append(pd.concat([c,d],axis=1))\n",
    "\n",
    "        # get sample masks\n",
    "        sm_list = [x[1] for x in confounds]\n",
    "\n",
    "        # replace any cases of None with array listing all frames, 0-109\n",
    "        sm_list = [np.arange(110) if x is None else x for x in sm_list]\n",
    "\n",
    "        # get data\n",
    "        full_data = []; affine = []; header = []; shape = []\n",
    "\n",
    "        for i in image_list:\n",
    "            the_image,f,a,h,s = get_data(i, mask=False, avg_mask=None, full_output=True) \n",
    "            affine.append(a); header.append(h); shape.append(s)            \n",
    "            full_data.append(the_image)\n",
    "\n",
    "        cleaned_images = full_data #[nib.Nifti1Image(a, affine=None) for a in full_data]\n",
    "\n",
    "        # load event timings\n",
    "        event_timing_files = [events_dir+'/sub-001_ses-01_task-PredictingAttention_run-'+r+'_'+events_file for r in runs]\n",
    "\n",
    "        event_dfs = [ pd.read_table(x) for x in event_timing_files ]\n",
    "\n",
    "        # make design matrices\n",
    "        design_matrices = []\n",
    "\n",
    "        for e,c in zip(event_dfs, confound_list):\n",
    "\n",
    "            TR_array   = np.array([x*2 for x in np.arange(110)])\n",
    "            matrix = glm.first_level.make_first_level_design_matrix(TR_array, \n",
    "                                                                    e, \n",
    "                                                                    hrf_model='glover', \n",
    "                                                                    drift_model=None,\n",
    "                                                                    add_regs = c)\n",
    "            design_matrices.append(matrix)\n",
    "            print('ready to fit the model')\n",
    "\n",
    "\n",
    "        print(cleaned_images[0].shape)\n",
    "        print(new_confound_list[0].shape)\n",
    "        print(design_matrices[0].shape)\n",
    "        print(event_dfs[0].shape)\n",
    "        print(sm_list[0].shape)\n",
    "\n",
    "\n"
   ]
  },
  {
   "cell_type": "code",
   "execution_count": 21,
   "id": "eb0e2428",
   "metadata": {},
   "outputs": [
    {
     "name": "stdout",
     "output_type": "stream",
     "text": [
      "4\n",
      "4\n",
      "4\n",
      "4\n",
      "4\n"
     ]
    }
   ],
   "source": [
    "o_cleaned_images    = cleaned_images\n",
    "o_new_confound_list = new_confound_list\n",
    "o_design_matrices   = design_matrices\n",
    "o_event_dfs         = event_dfs\n",
    "o_sm_list           = sm_list\n",
    "\n",
    "print(len(cleaned_images))\n",
    "print(len(new_confound_list))\n",
    "print(len(design_matrices))\n",
    "print(len(event_dfs))\n",
    "print(len(sm_list))"
   ]
  },
  {
   "cell_type": "code",
   "execution_count": 22,
   "id": "0cce091c",
   "metadata": {},
   "outputs": [
    {
     "name": "stdout",
     "output_type": "stream",
     "text": [
      "excluded runs 2, 3, 4 for subject 12. included:\n",
      "['06']\n",
      "1\n",
      "ready to fit the model\n",
      "(78, 93, 78, 110)\n",
      "(110, 16)\n",
      "(110, 19)\n",
      "(20, 6)\n",
      "(110,)\n"
     ]
    },
    {
     "name": "stderr",
     "output_type": "stream",
     "text": [
      "/usr/people/kz0108/miniconda3/envs/pygers/lib/python3.11/site-packages/nilearn/glm/first_level/experimental_paradigm.py:166: UserWarning: The following unexpected columns in events data will be ignored: stim_file, TODO -- fill in rows and add more tab-separated columns if desired, response_time\n",
      "  warnings.warn(\n"
     ]
    }
   ],
   "source": [
    "# now we'll add the fifth element:\n",
    "# it will be run 6 of the MRI data\n",
    "# it will be run 5 of the timing data\n",
    "\n",
    "# we can treat everything normally for runs 1-4, so let's exclude the rest for now\n",
    "\n",
    "for subject in ['sub-101']:  \n",
    "\n",
    "    \n",
    "    for events_file, contrast in zip( events_files, contrast_list ):\n",
    "        \n",
    "        new_confound_list = []\n",
    "\n",
    "        if subject == 'sub-101':\n",
    "            # get runs without excessive motion, exclude runs 2, 3, 4\n",
    "            runs,add_regressor_columns = get_good_runs(data_dir, subject, exclude=['01','02','03','04','05'])\n",
    "            print('excluded runs 2, 3, 4 for subject 12. included:')\n",
    "            print(runs)\n",
    "            \n",
    "        else:\n",
    "            # get runs without excessive motion\n",
    "            runs,add_regressor_columns = get_good_runs(data_dir, subject)\n",
    "        \n",
    "        # select the images for the good runs\n",
    "        image_list = [ data_dir+subject+'/ses-01/func/sub-101_ses-01_task-PredictingAttention_run-06_space-MNI152NLin2009cAsym_desc-preproc_bold.nii.gz' ]\n",
    "        print(len(image_list))\n",
    "        \n",
    "        # get confounds\n",
    "        strategy   = [ 'motion','wm_csf','global_signal','compcor','scrub','high_pass' ]\n",
    "        confounds  = [ nl.interfaces.fmriprep.load_confounds(x, \n",
    "                                                            strategy = strategy, \n",
    "                                                            fd_threshold=0.5,\n",
    "                                                            n_compcor = 5,\n",
    "                                                            motion ='basic',\n",
    "                                                            demean = False) for x in image_list ]\n",
    "\n",
    "        confound_list = [x[0] for x in confounds]\n",
    "        \n",
    "        new_confound_list = confound_list \n",
    "        \n",
    "        # commented lines below because we already do headscrubbing with nilearn\n",
    "        \n",
    "#         for add,c in zip(add_regressor_columns,confound_list):\n",
    "#             d = pd.DataFrame({'fwd':add})\n",
    "#             new_confound_list.append(pd.concat([c,d],axis=1))\n",
    "\n",
    "        # get sample masks\n",
    "        sm_list = [x[1] for x in confounds]\n",
    "\n",
    "        # replace any cases of None with array listing all frames, 0-109\n",
    "        sm_list = [np.arange(110) if x is None else x for x in sm_list]\n",
    "\n",
    "        # get data\n",
    "        full_data = []; affine = []; header = []; shape = []\n",
    "\n",
    "        for i in image_list:\n",
    "            the_image,f,a,h,s = get_data(i, mask=False, avg_mask=None, full_output=True) \n",
    "            affine.append(a); header.append(h); shape.append(s)            \n",
    "            full_data.append(the_image)\n",
    "\n",
    "        cleaned_images = full_data #[nib.Nifti1Image(a, affine=None) for a in full_data]\n",
    "\n",
    "        # load event timings\n",
    "        event_timing_files = [events_dir+'/sub-001_ses-01_task-PredictingAttention_run-05_'+events_file for r in runs]\n",
    "\n",
    "        event_dfs = [ pd.read_table(x) for x in event_timing_files ]\n",
    "\n",
    "        # make design matrices\n",
    "        design_matrices = []\n",
    "\n",
    "        for e,c in zip(event_dfs, confound_list):\n",
    "\n",
    "            TR_array   = np.array([x*2 for x in np.arange(110)])\n",
    "            matrix = glm.first_level.make_first_level_design_matrix(TR_array, \n",
    "                                                                    e, \n",
    "                                                                    hrf_model='glover', \n",
    "                                                                    drift_model=None,\n",
    "                                                                    add_regs = c)\n",
    "            design_matrices.append(matrix)\n",
    "            print('ready to fit the model')\n",
    "\n",
    "\n",
    "        print(cleaned_images[0].shape)\n",
    "        print(new_confound_list[0].shape)\n",
    "        print(design_matrices[0].shape)\n",
    "        print(event_dfs[0].shape)\n",
    "        print(sm_list[0].shape)\n",
    "\n"
   ]
  },
  {
   "cell_type": "code",
   "execution_count": 23,
   "id": "7dd8f972",
   "metadata": {},
   "outputs": [
    {
     "name": "stdout",
     "output_type": "stream",
     "text": [
      "1\n",
      "1\n",
      "1\n",
      "1\n",
      "1\n"
     ]
    }
   ],
   "source": [
    "print(len(cleaned_images))\n",
    "print(len(new_confound_list))\n",
    "print(len(design_matrices))\n",
    "print(len(event_dfs))\n",
    "print(len(sm_list))"
   ]
  },
  {
   "cell_type": "code",
   "execution_count": 24,
   "id": "4afd49cb",
   "metadata": {},
   "outputs": [
    {
     "name": "stdout",
     "output_type": "stream",
     "text": [
      "4\n",
      "4\n",
      "4\n",
      "4\n",
      "4\n"
     ]
    }
   ],
   "source": [
    "print(len(o_cleaned_images))\n",
    "print(len(o_new_confound_list))\n",
    "print(len(o_design_matrices))\n",
    "print(len(o_event_dfs))\n",
    "print(len(o_sm_list))"
   ]
  },
  {
   "cell_type": "code",
   "execution_count": 25,
   "id": "6bb68a7a",
   "metadata": {},
   "outputs": [],
   "source": [
    "o_cleaned_images.append(cleaned_images[0])\n",
    "o_new_confound_list.append(new_confound_list[0])\n",
    "o_design_matrices.append(design_matrices[0])\n",
    "o_event_dfs.append(event_dfs[0])\n",
    "o_sm_list.append(sm_list[0])"
   ]
  },
  {
   "cell_type": "code",
   "execution_count": 26,
   "id": "f8a50dae",
   "metadata": {},
   "outputs": [
    {
     "name": "stdout",
     "output_type": "stream",
     "text": [
      "5\n",
      "5\n",
      "5\n",
      "5\n",
      "5\n"
     ]
    }
   ],
   "source": [
    "print(len(o_cleaned_images))\n",
    "print(len(o_new_confound_list))\n",
    "print(len(o_design_matrices))\n",
    "print(len(o_event_dfs))\n",
    "print(len(o_sm_list))"
   ]
  },
  {
   "cell_type": "code",
   "execution_count": 27,
   "id": "138b63b1",
   "metadata": {},
   "outputs": [
    {
     "name": "stdout",
     "output_type": "stream",
     "text": [
      "excluded runs 2, 3, 4, 5, 6 for subject 12. included:\n",
      "['01']\n",
      "ready to fit the model\n",
      "(78, 93, 78, 110)\n",
      "(110, 16)\n",
      "(110, 19)\n",
      "(20, 6)\n",
      "(107,)\n"
     ]
    },
    {
     "name": "stderr",
     "output_type": "stream",
     "text": [
      "/usr/people/kz0108/miniconda3/envs/pygers/lib/python3.11/site-packages/nilearn/glm/first_level/experimental_paradigm.py:166: UserWarning: The following unexpected columns in events data will be ignored: stim_file, TODO -- fill in rows and add more tab-separated columns if desired, response_time\n",
      "  warnings.warn(\n"
     ]
    }
   ],
   "source": [
    "# now we'll add the sixth element:\n",
    "# it will be run 1 of the MRI data for subject 201\n",
    "# it will be run 6 of the timing data for subject 001\n",
    "\n",
    "# we can treat everything normally for runs 1-4, so let's exclude the rest for now\n",
    "\n",
    "for subject in ['sub-201']:  \n",
    "    \n",
    "    for events_file, contrast in zip( events_files, contrast_list ):\n",
    "        \n",
    "        new_confound_list = [] \n",
    "        \n",
    "        if subject == 'sub-201':\n",
    "            # get runs without excessive motion, exclude runs 2, 3, 4\n",
    "            runs,add_regressor_columns = get_good_runs(data_dir, subject, exclude=['02','03','04','05','06'])\n",
    "            print('excluded runs 2, 3, 4, 5, 6 for subject 12. included:')\n",
    "            print(runs)\n",
    "            \n",
    "        else:\n",
    "            # get runs without excessive motion\n",
    "            runs,add_regressor_columns = get_good_runs(data_dir, subject)\n",
    "        \n",
    "        # select the images for the good runs\n",
    "        image_list = [ data_dir+subject+'/ses-01/func/sub-201_ses-01_task-PredictingAttention_run-01_space-MNI152NLin2009cAsym_desc-preproc_bold.nii.gz' ]\n",
    "        \n",
    "        # get confounds\n",
    "        strategy   = [ 'motion','wm_csf','global_signal','compcor','scrub','high_pass' ]\n",
    "        confounds  = [ nl.interfaces.fmriprep.load_confounds(x, \n",
    "                                                            strategy = strategy, \n",
    "                                                            fd_threshold=0.5,\n",
    "                                                            n_compcor = 5,\n",
    "                                                            motion ='basic',\n",
    "                                                            demean = False) for x in image_list ]\n",
    "        confound_list = [x[0] for x in confounds]\n",
    "        \n",
    "        new_confound_list = confound_list \n",
    "        \n",
    "        # commented lines below because we already do headscrubbing with nilearn\n",
    "        \n",
    "#         for add,c in zip(add_regressor_columns,confound_list):\n",
    "#             d = pd.DataFrame({'fwd':add})\n",
    "#             new_confound_list.append(pd.concat([c,d],axis=1))\n",
    "\n",
    "        # get sample masks\n",
    "        sm_list = [x[1] for x in confounds]\n",
    "\n",
    "        # replace any cases of None with array listing all frames, 0-109\n",
    "        sm_list = [np.arange(110) if x is None else x for x in sm_list]\n",
    "\n",
    "        # get data\n",
    "        full_data = []; affine = []; header = []; shape = []\n",
    "\n",
    "        for i in image_list:\n",
    "            the_image,f,a,h,s = get_data(i, mask=False, avg_mask=None, full_output=True) \n",
    "            affine.append(a); header.append(h); shape.append(s)            \n",
    "            full_data.append(the_image)\n",
    "\n",
    "        cleaned_images = full_data #[nib.Nifti1Image(a, affine=None) for a in full_data]\n",
    "\n",
    "        # load event timings\n",
    "        event_timing_files = [events_dir+'/sub-001_ses-01_task-PredictingAttention_run-06_'+events_file for r in runs]\n",
    "\n",
    "        event_dfs = [ pd.read_table(x) for x in event_timing_files ]\n",
    "\n",
    "        # make design matrices\n",
    "        design_matrices = []\n",
    "\n",
    "        for e,c in zip(event_dfs, confound_list):\n",
    "\n",
    "            TR_array   = np.array([x*2 for x in np.arange(110)])\n",
    "            matrix = glm.first_level.make_first_level_design_matrix(TR_array, \n",
    "                                                                    e, \n",
    "                                                                    hrf_model='glover', \n",
    "                                                                    drift_model=None,\n",
    "                                                                    add_regs = c)\n",
    "            design_matrices.append(matrix)\n",
    "            print('ready to fit the model')\n",
    "\n",
    "\n",
    "        print(cleaned_images[0].shape)\n",
    "        print(new_confound_list[0].shape)\n",
    "        print(design_matrices[0].shape)\n",
    "        print(event_dfs[0].shape)\n",
    "        print(sm_list[0].shape)\n",
    "\n"
   ]
  },
  {
   "cell_type": "code",
   "execution_count": 28,
   "id": "7963fea0",
   "metadata": {},
   "outputs": [
    {
     "name": "stdout",
     "output_type": "stream",
     "text": [
      "1\n",
      "1\n",
      "1\n",
      "1\n",
      "1\n"
     ]
    }
   ],
   "source": [
    "print(len(cleaned_images))\n",
    "print(len(new_confound_list))\n",
    "print(len(design_matrices))\n",
    "print(len(event_dfs))\n",
    "print(len(sm_list))"
   ]
  },
  {
   "cell_type": "code",
   "execution_count": 29,
   "id": "8541b840",
   "metadata": {},
   "outputs": [
    {
     "name": "stdout",
     "output_type": "stream",
     "text": [
      "5\n",
      "5\n",
      "5\n",
      "5\n",
      "5\n"
     ]
    }
   ],
   "source": [
    "print(len(o_cleaned_images))\n",
    "print(len(o_new_confound_list))\n",
    "print(len(o_design_matrices))\n",
    "print(len(o_event_dfs))\n",
    "print(len(o_sm_list))"
   ]
  },
  {
   "cell_type": "code",
   "execution_count": 30,
   "id": "154d065b",
   "metadata": {},
   "outputs": [],
   "source": [
    "o_cleaned_images.append(cleaned_images[0])\n",
    "o_new_confound_list.append(new_confound_list[0])\n",
    "o_design_matrices.append(design_matrices[0])\n",
    "o_event_dfs.append(event_dfs[0])\n",
    "o_sm_list.append(sm_list[0])"
   ]
  },
  {
   "cell_type": "code",
   "execution_count": 31,
   "id": "bc2be52e",
   "metadata": {},
   "outputs": [
    {
     "name": "stderr",
     "output_type": "stream",
     "text": [
      "/usr/people/kz0108/miniconda3/envs/pygers/lib/python3.11/site-packages/nilearn/glm/first_level/first_level.py:547: UserWarning: If design matrices are supplied, confounds and events will be ignored.\n",
      "  warn(\n",
      "/usr/people/kz0108/miniconda3/envs/pygers/lib/python3.11/site-packages/nilearn/maskers/nifti_masker.py:108: UserWarning: imgs are being resampled to the mask_img resolution. This process is memory intensive. You might want to provide a target_affine that is equal to the affine of the imgs or resample the mask beforehand to save memory and computation time.\n",
      "  warnings.warn(\n",
      "/usr/people/kz0108/miniconda3/envs/pygers/lib/python3.11/site-packages/joblib/memory.py:353: FutureWarning: The default strategy for standardize is currently 'zscore' which incorrectly uses population std to calculate sample zscores. The new strategy 'zscore_sample' corrects this behavior by using the sample std. In release 0.13, the default strategy will be replaced by the new strategy and the 'zscore' option will be removed. Please use 'zscore_sample' instead.\n",
      "  return self.func(*args, **kwargs)\n",
      "/usr/people/kz0108/miniconda3/envs/pygers/lib/python3.11/site-packages/nilearn/maskers/nifti_masker.py:108: UserWarning: imgs are being resampled to the mask_img resolution. This process is memory intensive. You might want to provide a target_affine that is equal to the affine of the imgs or resample the mask beforehand to save memory and computation time.\n",
      "  warnings.warn(\n",
      "/usr/people/kz0108/miniconda3/envs/pygers/lib/python3.11/site-packages/joblib/memory.py:353: FutureWarning: The default strategy for standardize is currently 'zscore' which incorrectly uses population std to calculate sample zscores. The new strategy 'zscore_sample' corrects this behavior by using the sample std. In release 0.13, the default strategy will be replaced by the new strategy and the 'zscore' option will be removed. Please use 'zscore_sample' instead.\n",
      "  return self.func(*args, **kwargs)\n",
      "/usr/people/kz0108/miniconda3/envs/pygers/lib/python3.11/site-packages/nilearn/maskers/nifti_masker.py:108: UserWarning: imgs are being resampled to the mask_img resolution. This process is memory intensive. You might want to provide a target_affine that is equal to the affine of the imgs or resample the mask beforehand to save memory and computation time.\n",
      "  warnings.warn(\n",
      "/usr/people/kz0108/miniconda3/envs/pygers/lib/python3.11/site-packages/joblib/memory.py:353: FutureWarning: The default strategy for standardize is currently 'zscore' which incorrectly uses population std to calculate sample zscores. The new strategy 'zscore_sample' corrects this behavior by using the sample std. In release 0.13, the default strategy will be replaced by the new strategy and the 'zscore' option will be removed. Please use 'zscore_sample' instead.\n",
      "  return self.func(*args, **kwargs)\n",
      "/usr/people/kz0108/miniconda3/envs/pygers/lib/python3.11/site-packages/nilearn/maskers/nifti_masker.py:108: UserWarning: imgs are being resampled to the mask_img resolution. This process is memory intensive. You might want to provide a target_affine that is equal to the affine of the imgs or resample the mask beforehand to save memory and computation time.\n",
      "  warnings.warn(\n",
      "/usr/people/kz0108/miniconda3/envs/pygers/lib/python3.11/site-packages/joblib/memory.py:353: FutureWarning: The default strategy for standardize is currently 'zscore' which incorrectly uses population std to calculate sample zscores. The new strategy 'zscore_sample' corrects this behavior by using the sample std. In release 0.13, the default strategy will be replaced by the new strategy and the 'zscore' option will be removed. Please use 'zscore_sample' instead.\n",
      "  return self.func(*args, **kwargs)\n",
      "/usr/people/kz0108/miniconda3/envs/pygers/lib/python3.11/site-packages/nilearn/maskers/nifti_masker.py:108: UserWarning: imgs are being resampled to the mask_img resolution. This process is memory intensive. You might want to provide a target_affine that is equal to the affine of the imgs or resample the mask beforehand to save memory and computation time.\n",
      "  warnings.warn(\n",
      "/usr/people/kz0108/miniconda3/envs/pygers/lib/python3.11/site-packages/joblib/memory.py:353: FutureWarning: The default strategy for standardize is currently 'zscore' which incorrectly uses population std to calculate sample zscores. The new strategy 'zscore_sample' corrects this behavior by using the sample std. In release 0.13, the default strategy will be replaced by the new strategy and the 'zscore' option will be removed. Please use 'zscore_sample' instead.\n",
      "  return self.func(*args, **kwargs)\n",
      "/usr/people/kz0108/miniconda3/envs/pygers/lib/python3.11/site-packages/nilearn/maskers/nifti_masker.py:108: UserWarning: imgs are being resampled to the mask_img resolution. This process is memory intensive. You might want to provide a target_affine that is equal to the affine of the imgs or resample the mask beforehand to save memory and computation time.\n",
      "  warnings.warn(\n",
      "/usr/people/kz0108/miniconda3/envs/pygers/lib/python3.11/site-packages/joblib/memory.py:353: FutureWarning: The default strategy for standardize is currently 'zscore' which incorrectly uses population std to calculate sample zscores. The new strategy 'zscore_sample' corrects this behavior by using the sample std. In release 0.13, the default strategy will be replaced by the new strategy and the 'zscore' option will be removed. Please use 'zscore_sample' instead.\n",
      "  return self.func(*args, **kwargs)\n"
     ]
    },
    {
     "name": "stdout",
     "output_type": "stream",
     "text": [
      "ready to compute contrasts\n"
     ]
    },
    {
     "name": "stderr",
     "output_type": "stream",
     "text": [
      "/usr/people/kz0108/miniconda3/envs/pygers/lib/python3.11/site-packages/nilearn/glm/first_level/first_level.py:799: UserWarning: One contrast given, assuming it for all 6 runs\n",
      "  warn(f\"One contrast given, assuming it for all {int(n_runs)} runs\")\n"
     ]
    },
    {
     "name": "stdout",
     "output_type": "stream",
     "text": [
      "contrasts computed\n",
      "directory path created\n",
      "Directory already exists: first_level_GLM\n",
      "contrasts saved out\n",
      "first_level_GLM/veridical---scrambled_Wed-May--1-09:23:51-2024_sub-001_z-score.nii.gz\n"
     ]
    }
   ],
   "source": [
    "# fit the model\n",
    "fitted_model = model.fit(o_cleaned_images, \n",
    "                         confounds       = o_new_confound_list, \n",
    "                         design_matrices = o_design_matrices,\n",
    "                         events          = o_event_dfs,\n",
    "                         sample_masks    = o_sm_list) \n",
    "\n",
    "print('ready to compute contrasts')\n",
    "# plot the result\n",
    "z_score  = fitted_model.compute_contrast(contrast, output_type='z_score')\n",
    "eff_size = fitted_model.compute_contrast(contrast, output_type='effect_size')\n",
    "# NOTE: we'll use z_score for visualizing and effect_size for second-level GLM\n",
    "print('contrasts computed')\n",
    "\n",
    "# make folder path\n",
    "path_base = 'first_level_GLM' \n",
    "directory_path = path_base \n",
    "\n",
    "print('directory path created')\n",
    "\n",
    "# make folder for this batch, if it doesn't exist\n",
    "if not os.path.exists(directory_path):\n",
    "    os.makedirs(directory_path)\n",
    "    print(\"Directory created:\", directory_path)\n",
    "else:\n",
    "    print(\"Directory already exists:\", directory_path)\n",
    "\n",
    "# contrast for filename\n",
    "contrast_label = contrast.replace(' ','-')\n",
    "\n",
    "# timing label\n",
    "now   = datetime.datetime.now()\n",
    "ctime = now.ctime()\n",
    "date_time = ctime.replace(' ','-')\n",
    "\n",
    "# save contrasts\n",
    "z_score.to_filename(directory_path + '/' + events_file[:-4] + '_' + contrast_label + '_' + date_time + '_' + 'sub-001' + '_z-score.nii.gz')\n",
    "eff_size.to_filename(directory_path + '/' + events_file[:-4] + '_' + contrast_label + '_' + date_time + '_' + 'sub-001' + '_eff-size.nii.gz')\n",
    "\n",
    "print('contrasts saved out')\n",
    "print(directory_path + '/' + contrast_label + '_' + date_time + '_' + 'sub-001' + '_z-score.nii.gz')\n"
   ]
  },
  {
   "cell_type": "markdown",
   "id": "a26d437a",
   "metadata": {},
   "source": [
    "### Now, subject 12"
   ]
  },
  {
   "cell_type": "code",
   "execution_count": 15,
   "id": "c8726794",
   "metadata": {},
   "outputs": [
    {
     "data": {
      "text/html": [
       "<div>\n",
       "<style scoped>\n",
       "    .dataframe tbody tr th:only-of-type {\n",
       "        vertical-align: middle;\n",
       "    }\n",
       "\n",
       "    .dataframe tbody tr th {\n",
       "        vertical-align: top;\n",
       "    }\n",
       "\n",
       "    .dataframe thead th {\n",
       "        text-align: right;\n",
       "    }\n",
       "</style>\n",
       "<table border=\"1\" class=\"dataframe\">\n",
       "  <thead>\n",
       "    <tr style=\"text-align: right;\">\n",
       "      <th></th>\n",
       "      <th>Unnamed: 0</th>\n",
       "      <th>1</th>\n",
       "    </tr>\n",
       "  </thead>\n",
       "  <tbody>\n",
       "    <tr>\n",
       "      <th>0</th>\n",
       "      <td>subject</td>\n",
       "      <td>subject_12</td>\n",
       "    </tr>\n",
       "    <tr>\n",
       "      <th>1</th>\n",
       "      <td>behavioral_runs</td>\n",
       "      <td>['1', '2', '3', '3', '5', '6', '4']</td>\n",
       "    </tr>\n",
       "  </tbody>\n",
       "</table>\n",
       "</div>"
      ],
      "text/plain": [
       "        Unnamed: 0                                    1\n",
       "0          subject                           subject_12\n",
       "1  behavioral_runs  ['1', '2', '3', '3', '5', '6', '4']"
      ]
     },
     "execution_count": 15,
     "metadata": {},
     "output_type": "execute_result"
    }
   ],
   "source": [
    "sub1 = pd.read_csv('/jukebox/graziano/kirsten/MRI/MRI/pygers_workshop/sample_study/data/behavioral/subject_12_unusual_run_order.csv')\n",
    "sub1"
   ]
  },
  {
   "cell_type": "code",
   "execution_count": 29,
   "id": "be598332",
   "metadata": {},
   "outputs": [],
   "source": [
    "# subject 212 has runs labeled 01, 02, 03, 04, 05, 06\n",
    "\n",
    "# they correspond to           1,  2,  3,  drop, 5, 6\n",
    "\n",
    "\n",
    "\n",
    "# subject 201 has runs labeled 01\n",
    "\n",
    "# they correspond to           4"
   ]
  },
  {
   "cell_type": "code",
   "execution_count": 30,
   "id": "2dd28bfb",
   "metadata": {},
   "outputs": [
    {
     "name": "stdout",
     "output_type": "stream",
     "text": [
      "sub-212\n",
      "veridical---scrambled\n",
      "excluded runs 2, 3, 4 for subject 12. included:\n",
      "['01', '02', '03', '05', '06']\n",
      "ready to fit the model\n",
      "ready to fit the model\n",
      "ready to fit the model\n",
      "ready to fit the model\n",
      "ready to fit the model\n",
      "(78, 93, 78, 110)\n",
      "(110, 16)\n",
      "(110, 19)\n",
      "(20, 6)\n",
      "(110,)\n"
     ]
    },
    {
     "name": "stderr",
     "output_type": "stream",
     "text": [
      "/usr/people/kz0108/miniconda3/envs/pygers/lib/python3.11/site-packages/nilearn/glm/first_level/experimental_paradigm.py:166: UserWarning: The following unexpected columns in events data will be ignored: TODO -- fill in rows and add more tab-separated columns if desired, response_time, stim_file\n",
      "  warnings.warn(\n",
      "/usr/people/kz0108/miniconda3/envs/pygers/lib/python3.11/site-packages/nilearn/glm/first_level/experimental_paradigm.py:166: UserWarning: The following unexpected columns in events data will be ignored: TODO -- fill in rows and add more tab-separated columns if desired, response_time, stim_file\n",
      "  warnings.warn(\n",
      "/usr/people/kz0108/miniconda3/envs/pygers/lib/python3.11/site-packages/nilearn/glm/first_level/experimental_paradigm.py:166: UserWarning: The following unexpected columns in events data will be ignored: TODO -- fill in rows and add more tab-separated columns if desired, response_time, stim_file\n",
      "  warnings.warn(\n",
      "/usr/people/kz0108/miniconda3/envs/pygers/lib/python3.11/site-packages/nilearn/glm/first_level/experimental_paradigm.py:166: UserWarning: The following unexpected columns in events data will be ignored: TODO -- fill in rows and add more tab-separated columns if desired, response_time, stim_file\n",
      "  warnings.warn(\n",
      "/usr/people/kz0108/miniconda3/envs/pygers/lib/python3.11/site-packages/nilearn/glm/first_level/experimental_paradigm.py:166: UserWarning: The following unexpected columns in events data will be ignored: TODO -- fill in rows and add more tab-separated columns if desired, response_time, stim_file\n",
      "  warnings.warn(\n"
     ]
    }
   ],
   "source": [
    "# let's start loading the data for subject 212\n",
    "\n",
    "# we can treat everything normally for runs 1-4, so let's exclude the rest for now\n",
    "\n",
    "for subject in ['sub-212']:  \n",
    "    \n",
    "    for events_file, contrast in zip( events_files, contrast_list ):\n",
    "        \n",
    "        new_confound_list = []\n",
    "        \n",
    "        \n",
    "        ######## THIS CODE IS TO GET NEW SUBJECTS WHO WERE MISSING BEFORE ########\n",
    "        \n",
    "        # only uncomment if incorporating new subjects into existing first-level analysis\n",
    "        \n",
    "        # make folder path\n",
    "        path_base = 'first_level_GLM' \n",
    "        directory_path = path_base \n",
    "        \n",
    "        contrast_label = contrast.replace(' ','-')\n",
    "        #check_file     = [ x for x in os.listdir(directory_path) if str(subject) in x and contrast_label in x and '_eff-size.nii.gz' in x ]\n",
    "        \n",
    "        ###########################################################################\n",
    "            \n",
    "        print(subject); print(contrast_label)\n",
    "\n",
    "        if subject == 'sub-212':\n",
    "            # get runs without excessive motion, exclude runs 2, 3, 4\n",
    "            runs,add_regressor_columns = get_good_runs(data_dir, subject, exclude=['04'])\n",
    "            print('excluded runs 2, 3, 4 for subject 12. included:')\n",
    "            print(runs)\n",
    "            \n",
    "        else:\n",
    "            # get runs without excessive motion\n",
    "            runs,add_regressor_columns = get_good_runs(data_dir, subject)\n",
    "        \n",
    "        # select the images for the good runs\n",
    "        image_list = [ data_dir+subject+'/ses-01/func/'+subject+'_ses-01_task-PredictingAttention_run-'+x+'_space-MNI152NLin2009cAsym_desc-preproc_bold.nii.gz' for x in ['01','02','03','05','06'] ]\n",
    "        \n",
    "        # get confounds\n",
    "        strategy   = [ 'motion','wm_csf','global_signal','compcor','scrub','high_pass' ]\n",
    "        confounds  = [ nl.interfaces.fmriprep.load_confounds(x, \n",
    "                                                            strategy = strategy, \n",
    "                                                            fd_threshold=0.5,\n",
    "                                                            n_compcor = 5,\n",
    "                                                            motion ='basic',\n",
    "                                                            demean = False) for x in image_list ]\n",
    "        confound_list = [x[0] for x in confounds]\n",
    "        \n",
    "        new_confound_list = confound_list \n",
    "        \n",
    "        # commented lines below because we already do headscrubbing with nilearn\n",
    "        \n",
    "#         for add,c in zip(add_regressor_columns,confound_list):\n",
    "#             d = pd.DataFrame({'fwd':add})\n",
    "#             new_confound_list.append(pd.concat([c,d],axis=1))\n",
    "\n",
    "        # get sample masks\n",
    "        sm_list = [x[1] for x in confounds]\n",
    "\n",
    "        # replace any cases of None with array listing all frames, 0-109\n",
    "        sm_list = [np.arange(110) if x is None else x for x in sm_list]\n",
    "\n",
    "        # get data\n",
    "        full_data = []; affine = []; header = []; shape = []\n",
    "\n",
    "        for i in image_list:\n",
    "            the_image,f,a,h,s = get_data(i, mask=False, avg_mask=None, full_output=True) \n",
    "            affine.append(a); header.append(h); shape.append(s)            \n",
    "            full_data.append(the_image)\n",
    "\n",
    "        cleaned_images = full_data #[nib.Nifti1Image(a, affine=None) for a in full_data]\n",
    "\n",
    "        # load event timings\n",
    "        event_timing_files = [events_dir+'/sub-012_ses-01_task-PredictingAttention_run-'+r+'_'+events_file for r in runs]\n",
    "\n",
    "        event_dfs = [ pd.read_table(x) for x in event_timing_files ]\n",
    "\n",
    "        # make design matrices\n",
    "        design_matrices = []\n",
    "\n",
    "        for e,c in zip(event_dfs, confound_list):\n",
    "\n",
    "            TR_array   = np.array([x*2 for x in np.arange(110)])\n",
    "            matrix = glm.first_level.make_first_level_design_matrix(TR_array, \n",
    "                                                                    e, \n",
    "                                                                    hrf_model='glover', \n",
    "                                                                    drift_model=None,\n",
    "                                                                    add_regs = c)\n",
    "            design_matrices.append(matrix)\n",
    "            print('ready to fit the model')\n",
    "\n",
    "\n",
    "        print(cleaned_images[0].shape)\n",
    "        print(new_confound_list[0].shape)\n",
    "        print(design_matrices[0].shape)\n",
    "        print(event_dfs[0].shape)\n",
    "        print(sm_list[0].shape)\n",
    "\n",
    "\n"
   ]
  },
  {
   "cell_type": "code",
   "execution_count": 31,
   "id": "350ef199",
   "metadata": {},
   "outputs": [
    {
     "name": "stdout",
     "output_type": "stream",
     "text": [
      "5\n",
      "5\n",
      "5\n",
      "5\n",
      "5\n"
     ]
    }
   ],
   "source": [
    "o_cleaned_images    = cleaned_images\n",
    "o_new_confound_list = new_confound_list\n",
    "o_design_matrices   = design_matrices\n",
    "o_event_dfs         = event_dfs\n",
    "o_sm_list           = sm_list\n",
    "\n",
    "print(len(cleaned_images))\n",
    "print(len(new_confound_list))\n",
    "print(len(design_matrices))\n",
    "print(len(event_dfs))\n",
    "print(len(sm_list))"
   ]
  },
  {
   "cell_type": "code",
   "execution_count": 32,
   "id": "14405cff",
   "metadata": {},
   "outputs": [
    {
     "name": "stdout",
     "output_type": "stream",
     "text": [
      "excluded runs 2, 3, 4, 5, 6 for subject 12. included:\n",
      "['01']\n",
      "ready to fit the model\n",
      "(78, 93, 78, 110)\n",
      "(110, 16)\n",
      "(110, 19)\n",
      "(20, 6)\n",
      "(108,)\n"
     ]
    },
    {
     "name": "stderr",
     "output_type": "stream",
     "text": [
      "/usr/people/kz0108/miniconda3/envs/pygers/lib/python3.11/site-packages/nilearn/glm/first_level/experimental_paradigm.py:166: UserWarning: The following unexpected columns in events data will be ignored: TODO -- fill in rows and add more tab-separated columns if desired, response_time, stim_file\n",
      "  warnings.warn(\n"
     ]
    }
   ],
   "source": [
    "# now we'll add the sixth element:\n",
    "# it will be run 1 of the MRI data for subject 112\n",
    "# it will be run 4 of the timing data for subject 001\n",
    "\n",
    "# we can treat everything normally for runs 1-4, so let's exclude the rest for now\n",
    "\n",
    "for subject in ['sub-112']:  \n",
    "    \n",
    "    for events_file, contrast in zip( events_files, contrast_list ):\n",
    "        \n",
    "        new_confound_list = [] \n",
    "        \n",
    "        if subject == 'sub-112':\n",
    "            # get runs without excessive motion, exclude runs 2, 3, 4\n",
    "            runs,add_regressor_columns = get_good_runs(data_dir, subject, exclude=['02','03','04','05','06'])\n",
    "            print('excluded runs 2, 3, 4, 5, 6 for subject 12. included:')\n",
    "            print(runs)\n",
    "            \n",
    "        else:\n",
    "            # get runs without excessive motion\n",
    "            runs,add_regressor_columns = get_good_runs(data_dir, subject)\n",
    "        \n",
    "        # select the images for the good runs\n",
    "        image_list = [ data_dir+subject+'/ses-01/func/sub-112_ses-01_task-PredictingAttention_run-01_space-MNI152NLin2009cAsym_desc-preproc_bold.nii.gz' ]\n",
    "        \n",
    "        # get confounds\n",
    "        strategy   = [ 'motion','wm_csf','global_signal','compcor','scrub','high_pass' ]\n",
    "        confounds  = [ nl.interfaces.fmriprep.load_confounds(x, \n",
    "                                                            strategy = strategy, \n",
    "                                                            fd_threshold=0.5,\n",
    "                                                            n_compcor = 5,\n",
    "                                                            motion ='basic',\n",
    "                                                            demean = False) for x in image_list ]\n",
    "        confound_list = [x[0] for x in confounds]\n",
    "        \n",
    "        new_confound_list = confound_list \n",
    "        \n",
    "        # commented lines below because we already do headscrubbing with nilearn\n",
    "        \n",
    "#         for add,c in zip(add_regressor_columns,confound_list):\n",
    "#             d = pd.DataFrame({'fwd':add})\n",
    "#             new_confound_list.append(pd.concat([c,d],axis=1))\n",
    "\n",
    "        # get sample masks\n",
    "        sm_list = [x[1] for x in confounds]\n",
    "\n",
    "        # replace any cases of None with array listing all frames, 0-109\n",
    "        sm_list = [np.arange(110) if x is None else x for x in sm_list]\n",
    "\n",
    "        # get data\n",
    "        full_data = []; affine = []; header = []; shape = []\n",
    "\n",
    "        for i in image_list:\n",
    "            the_image,f,a,h,s = get_data(i, mask=False, avg_mask=None, full_output=True) \n",
    "            affine.append(a); header.append(h); shape.append(s)            \n",
    "            full_data.append(the_image)\n",
    "\n",
    "        cleaned_images = full_data #[nib.Nifti1Image(a, affine=None) for a in full_data]\n",
    "\n",
    "        # load event timings\n",
    "        event_timing_files = [events_dir+'/sub-012_ses-01_task-PredictingAttention_run-04_'+events_file for r in runs]\n",
    "\n",
    "        event_dfs = [ pd.read_table(x) for x in event_timing_files ]\n",
    "\n",
    "        # make design matrices\n",
    "        design_matrices = []\n",
    "\n",
    "        for e,c in zip(event_dfs, confound_list):\n",
    "\n",
    "            TR_array   = np.array([x*2 for x in np.arange(110)])\n",
    "            matrix = glm.first_level.make_first_level_design_matrix(TR_array, \n",
    "                                                                    e, \n",
    "                                                                    hrf_model='glover', \n",
    "                                                                    drift_model=None,\n",
    "                                                                    add_regs = c)\n",
    "            design_matrices.append(matrix)\n",
    "            print('ready to fit the model')\n",
    "\n",
    "\n",
    "        print(cleaned_images[0].shape)\n",
    "        print(new_confound_list[0].shape)\n",
    "        print(design_matrices[0].shape)\n",
    "        print(event_dfs[0].shape)\n",
    "        print(sm_list[0].shape)\n"
   ]
  },
  {
   "cell_type": "code",
   "execution_count": 33,
   "id": "09ef4977",
   "metadata": {},
   "outputs": [
    {
     "name": "stdout",
     "output_type": "stream",
     "text": [
      "1\n",
      "1\n",
      "1\n",
      "1\n",
      "1\n"
     ]
    }
   ],
   "source": [
    "print(len(cleaned_images))\n",
    "print(len(new_confound_list))\n",
    "print(len(design_matrices))\n",
    "print(len(event_dfs))\n",
    "print(len(sm_list))"
   ]
  },
  {
   "cell_type": "code",
   "execution_count": 34,
   "id": "2e6b3593",
   "metadata": {},
   "outputs": [
    {
     "name": "stdout",
     "output_type": "stream",
     "text": [
      "5\n",
      "5\n",
      "5\n",
      "5\n",
      "5\n"
     ]
    }
   ],
   "source": [
    "print(len(o_cleaned_images))\n",
    "print(len(o_new_confound_list))\n",
    "print(len(o_design_matrices))\n",
    "print(len(o_event_dfs))\n",
    "print(len(o_sm_list))"
   ]
  },
  {
   "cell_type": "code",
   "execution_count": 35,
   "id": "b714b3c8",
   "metadata": {},
   "outputs": [],
   "source": [
    "o_cleaned_images.append(cleaned_images[0])\n",
    "o_new_confound_list.append(new_confound_list[0])\n",
    "o_design_matrices.append(design_matrices[0])\n",
    "o_event_dfs.append(event_dfs[0])\n",
    "o_sm_list.append(sm_list[0])"
   ]
  },
  {
   "cell_type": "code",
   "execution_count": 36,
   "id": "7c4d2e57",
   "metadata": {},
   "outputs": [
    {
     "name": "stdout",
     "output_type": "stream",
     "text": [
      "6\n",
      "6\n",
      "6\n",
      "6\n",
      "6\n"
     ]
    }
   ],
   "source": [
    "print(len(o_cleaned_images))\n",
    "print(len(o_new_confound_list))\n",
    "print(len(o_design_matrices))\n",
    "print(len(o_event_dfs))\n",
    "print(len(o_sm_list))"
   ]
  },
  {
   "cell_type": "code",
   "execution_count": 37,
   "id": "ce9b83b8",
   "metadata": {},
   "outputs": [
    {
     "name": "stderr",
     "output_type": "stream",
     "text": [
      "/usr/people/kz0108/miniconda3/envs/pygers/lib/python3.11/site-packages/nilearn/glm/first_level/first_level.py:547: UserWarning: If design matrices are supplied, confounds and events will be ignored.\n",
      "  warn(\n",
      "/usr/people/kz0108/miniconda3/envs/pygers/lib/python3.11/site-packages/nilearn/maskers/nifti_masker.py:108: UserWarning: imgs are being resampled to the mask_img resolution. This process is memory intensive. You might want to provide a target_affine that is equal to the affine of the imgs or resample the mask beforehand to save memory and computation time.\n",
      "  warnings.warn(\n",
      "/usr/people/kz0108/miniconda3/envs/pygers/lib/python3.11/site-packages/joblib/memory.py:353: FutureWarning: The default strategy for standardize is currently 'zscore' which incorrectly uses population std to calculate sample zscores. The new strategy 'zscore_sample' corrects this behavior by using the sample std. In release 0.13, the default strategy will be replaced by the new strategy and the 'zscore' option will be removed. Please use 'zscore_sample' instead.\n",
      "  return self.func(*args, **kwargs)\n",
      "/usr/people/kz0108/miniconda3/envs/pygers/lib/python3.11/site-packages/nilearn/maskers/nifti_masker.py:108: UserWarning: imgs are being resampled to the mask_img resolution. This process is memory intensive. You might want to provide a target_affine that is equal to the affine of the imgs or resample the mask beforehand to save memory and computation time.\n",
      "  warnings.warn(\n",
      "/usr/people/kz0108/miniconda3/envs/pygers/lib/python3.11/site-packages/joblib/memory.py:353: FutureWarning: The default strategy for standardize is currently 'zscore' which incorrectly uses population std to calculate sample zscores. The new strategy 'zscore_sample' corrects this behavior by using the sample std. In release 0.13, the default strategy will be replaced by the new strategy and the 'zscore' option will be removed. Please use 'zscore_sample' instead.\n",
      "  return self.func(*args, **kwargs)\n",
      "/usr/people/kz0108/miniconda3/envs/pygers/lib/python3.11/site-packages/nilearn/maskers/nifti_masker.py:108: UserWarning: imgs are being resampled to the mask_img resolution. This process is memory intensive. You might want to provide a target_affine that is equal to the affine of the imgs or resample the mask beforehand to save memory and computation time.\n",
      "  warnings.warn(\n",
      "/usr/people/kz0108/miniconda3/envs/pygers/lib/python3.11/site-packages/joblib/memory.py:353: FutureWarning: The default strategy for standardize is currently 'zscore' which incorrectly uses population std to calculate sample zscores. The new strategy 'zscore_sample' corrects this behavior by using the sample std. In release 0.13, the default strategy will be replaced by the new strategy and the 'zscore' option will be removed. Please use 'zscore_sample' instead.\n",
      "  return self.func(*args, **kwargs)\n",
      "/usr/people/kz0108/miniconda3/envs/pygers/lib/python3.11/site-packages/nilearn/maskers/nifti_masker.py:108: UserWarning: imgs are being resampled to the mask_img resolution. This process is memory intensive. You might want to provide a target_affine that is equal to the affine of the imgs or resample the mask beforehand to save memory and computation time.\n",
      "  warnings.warn(\n",
      "/usr/people/kz0108/miniconda3/envs/pygers/lib/python3.11/site-packages/joblib/memory.py:353: FutureWarning: The default strategy for standardize is currently 'zscore' which incorrectly uses population std to calculate sample zscores. The new strategy 'zscore_sample' corrects this behavior by using the sample std. In release 0.13, the default strategy will be replaced by the new strategy and the 'zscore' option will be removed. Please use 'zscore_sample' instead.\n",
      "  return self.func(*args, **kwargs)\n",
      "/usr/people/kz0108/miniconda3/envs/pygers/lib/python3.11/site-packages/nilearn/maskers/nifti_masker.py:108: UserWarning: imgs are being resampled to the mask_img resolution. This process is memory intensive. You might want to provide a target_affine that is equal to the affine of the imgs or resample the mask beforehand to save memory and computation time.\n",
      "  warnings.warn(\n",
      "/usr/people/kz0108/miniconda3/envs/pygers/lib/python3.11/site-packages/joblib/memory.py:353: FutureWarning: The default strategy for standardize is currently 'zscore' which incorrectly uses population std to calculate sample zscores. The new strategy 'zscore_sample' corrects this behavior by using the sample std. In release 0.13, the default strategy will be replaced by the new strategy and the 'zscore' option will be removed. Please use 'zscore_sample' instead.\n",
      "  return self.func(*args, **kwargs)\n",
      "/usr/people/kz0108/miniconda3/envs/pygers/lib/python3.11/site-packages/nilearn/maskers/nifti_masker.py:108: UserWarning: imgs are being resampled to the mask_img resolution. This process is memory intensive. You might want to provide a target_affine that is equal to the affine of the imgs or resample the mask beforehand to save memory and computation time.\n",
      "  warnings.warn(\n",
      "/usr/people/kz0108/miniconda3/envs/pygers/lib/python3.11/site-packages/joblib/memory.py:353: FutureWarning: The default strategy for standardize is currently 'zscore' which incorrectly uses population std to calculate sample zscores. The new strategy 'zscore_sample' corrects this behavior by using the sample std. In release 0.13, the default strategy will be replaced by the new strategy and the 'zscore' option will be removed. Please use 'zscore_sample' instead.\n",
      "  return self.func(*args, **kwargs)\n"
     ]
    },
    {
     "name": "stdout",
     "output_type": "stream",
     "text": [
      "ready to compute contrasts\n"
     ]
    },
    {
     "name": "stderr",
     "output_type": "stream",
     "text": [
      "/usr/people/kz0108/miniconda3/envs/pygers/lib/python3.11/site-packages/nilearn/glm/first_level/first_level.py:799: UserWarning: One contrast given, assuming it for all 6 runs\n",
      "  warn(f\"One contrast given, assuming it for all {int(n_runs)} runs\")\n"
     ]
    },
    {
     "name": "stdout",
     "output_type": "stream",
     "text": [
      "contrasts computed\n",
      "directory path created\n",
      "Directory already exists: first_level_GLM\n",
      "contrasts saved out\n",
      "first_level_GLM/veridical---scrambled_Fri-Jun--7-10:26:42-2024_sub-012_z-score.nii.gz\n"
     ]
    }
   ],
   "source": [
    "# fit the model\n",
    "fitted_model = model.fit(o_cleaned_images, \n",
    "                         confounds       = o_new_confound_list, \n",
    "                         design_matrices = o_design_matrices,\n",
    "                         events          = o_event_dfs,\n",
    "                         sample_masks    = o_sm_list) \n",
    "\n",
    "print('ready to compute contrasts')\n",
    "# plot the result\n",
    "z_score  = fitted_model.compute_contrast(contrast, output_type='z_score')\n",
    "eff_size = fitted_model.compute_contrast(contrast, output_type='effect_size')\n",
    "# NOTE: we'll use z_score for visualizing and effect_size for second-level GLM\n",
    "print('contrasts computed')\n",
    "\n",
    "# make folder path\n",
    "path_base = 'first_level_GLM' \n",
    "directory_path = path_base \n",
    "\n",
    "print('directory path created')\n",
    "\n",
    "# make folder for this batch, if it doesn't exist\n",
    "if not os.path.exists(directory_path):\n",
    "    os.makedirs(directory_path)\n",
    "    print(\"Directory created:\", directory_path)\n",
    "else:\n",
    "    print(\"Directory already exists:\", directory_path)\n",
    "\n",
    "# contrast for filename\n",
    "contrast_label = contrast.replace(' ','-')\n",
    "\n",
    "# timing label\n",
    "now   = datetime.datetime.now()\n",
    "ctime = now.ctime()\n",
    "date_time = ctime.replace(' ','-')\n",
    "\n",
    "# save contrasts\n",
    "z_score.to_filename(directory_path + '/' + events_file[:-4] + '_' + contrast_label + '_' + date_time + '_' + 'sub-012' + '_z-score.nii.gz')\n",
    "eff_size.to_filename(directory_path + '/' + events_file[:-4] + '_' + contrast_label + '_' + date_time + '_' + 'sub-012' + '_eff-size.nii.gz')\n",
    "\n",
    "print('contrasts saved out')\n",
    "print(directory_path + '/' + contrast_label + '_' + date_time + '_' + 'sub-012' + '_z-score.nii.gz')\n"
   ]
  },
  {
   "cell_type": "code",
   "execution_count": null,
   "id": "4d072a24",
   "metadata": {},
   "outputs": [],
   "source": []
  }
 ],
 "metadata": {
  "kernelspec": {
   "display_name": "Python 3 (ipykernel)",
   "language": "python",
   "name": "python3"
  },
  "language_info": {
   "codemirror_mode": {
    "name": "ipython",
    "version": 3
   },
   "file_extension": ".py",
   "mimetype": "text/x-python",
   "name": "python",
   "nbconvert_exporter": "python",
   "pygments_lexer": "ipython3",
   "version": "3.11.5"
  }
 },
 "nbformat": 4,
 "nbformat_minor": 5
}
